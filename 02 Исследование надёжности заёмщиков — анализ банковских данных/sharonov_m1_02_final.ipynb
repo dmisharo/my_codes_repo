{
 "cells": [
  {
   "cell_type": "markdown",
   "metadata": {},
   "source": [
    "# Исследование надёжности заёмщиков\n",
    "\n",
    "Заказчик — кредитный отдел банка.  \n",
    "Нужно провести обработку и анализ предоставленных данных и ответить на вопросы:\n",
    "* Есть ли зависимость между количеством детей и возвратом кредита в срок?\n",
    "* Есть ли зависимость между семейным положением и возвратом кредита в срок?\n",
    "* Есть ли зависимость между уровнем дохода и возвратом кредита в срок?\n",
    "* Как разные цели кредита влияют на его возврат в срок?\n",
    "\n",
    "Входные данные от банка — статистика о платёжеспособности клиентов, файл \"dada.csv\": \n",
    "- `children` — количество детей в семье \n",
    "- `days_employed` — общий трудовой стаж в днях\n",
    "- `dob_years` — возраст клиента в годах\n",
    "- `education` — уровень образования клиента\n",
    "- `education_id` — идентификатор уровня образования\n",
    "- `family_status` — семейное положение\n",
    "- `family_status_id` — идентификатор семейного положения\n",
    "- `gender` — пол клиента\n",
    "- `income_type` — тип занятости\n",
    "- `debt` — имел ли задолженность по возврату кредитов\n",
    "- `total_income` — ежемесячный доход\n",
    "- `purpose` — цель получения кредита"
   ]
  },
  {
   "cell_type": "markdown",
   "metadata": {},
   "source": [
    "## Получение данных"
   ]
  },
  {
   "cell_type": "code",
   "execution_count": 1,
   "metadata": {
    "scrolled": true
   },
   "outputs": [],
   "source": [
    "# Импортируем библиотеку pandas\n",
    "import pandas as pd\n",
    "from tqdm import tqdm\n",
    "tqdm.pandas()\n",
    "\n",
    "from pymystem3 import Mystem\n",
    "m = Mystem()"
   ]
  },
  {
   "cell_type": "code",
   "execution_count": 2,
   "metadata": {},
   "outputs": [],
   "source": [
    "# передаем переменной data значения файла данных типа .csv \n",
    "try:\n",
    "    data = pd.read_csv('data.csv')\n",
    "except:\n",
    "    # если не найдена локальная верcия идём в сеть\n",
    "    data = pd.read_csv('*****')"
   ]
  },
  {
   "cell_type": "code",
   "execution_count": 3,
   "metadata": {},
   "outputs": [
    {
     "name": "stdout",
     "output_type": "stream",
     "text": [
      "<class 'pandas.core.frame.DataFrame'>\n",
      "RangeIndex: 21525 entries, 0 to 21524\n",
      "Data columns (total 12 columns):\n",
      " #   Column            Non-Null Count  Dtype  \n",
      "---  ------            --------------  -----  \n",
      " 0   children          21525 non-null  int64  \n",
      " 1   days_employed     19351 non-null  float64\n",
      " 2   dob_years         21525 non-null  int64  \n",
      " 3   education         21525 non-null  object \n",
      " 4   education_id      21525 non-null  int64  \n",
      " 5   family_status     21525 non-null  object \n",
      " 6   family_status_id  21525 non-null  int64  \n",
      " 7   gender            21525 non-null  object \n",
      " 8   income_type       21525 non-null  object \n",
      " 9   debt              21525 non-null  int64  \n",
      " 10  total_income      19351 non-null  float64\n",
      " 11  purpose           21525 non-null  object \n",
      "dtypes: float64(2), int64(5), object(5)\n",
      "memory usage: 2.0+ MB\n"
     ]
    }
   ],
   "source": [
    "# общая информация по импортированным данным\n",
    "data.info()"
   ]
  },
  {
   "cell_type": "code",
   "execution_count": 4,
   "metadata": {
    "scrolled": true
   },
   "outputs": [
    {
     "data": {
      "text/html": [
       "<div>\n",
       "<style scoped>\n",
       "    .dataframe tbody tr th:only-of-type {\n",
       "        vertical-align: middle;\n",
       "    }\n",
       "\n",
       "    .dataframe tbody tr th {\n",
       "        vertical-align: top;\n",
       "    }\n",
       "\n",
       "    .dataframe thead th {\n",
       "        text-align: right;\n",
       "    }\n",
       "</style>\n",
       "<table border=\"1\" class=\"dataframe\">\n",
       "  <thead>\n",
       "    <tr style=\"text-align: right;\">\n",
       "      <th></th>\n",
       "      <th>children</th>\n",
       "      <th>days_employed</th>\n",
       "      <th>dob_years</th>\n",
       "      <th>education</th>\n",
       "      <th>education_id</th>\n",
       "      <th>family_status</th>\n",
       "      <th>family_status_id</th>\n",
       "      <th>gender</th>\n",
       "      <th>income_type</th>\n",
       "      <th>debt</th>\n",
       "      <th>total_income</th>\n",
       "      <th>purpose</th>\n",
       "    </tr>\n",
       "  </thead>\n",
       "  <tbody>\n",
       "    <tr>\n",
       "      <th>0</th>\n",
       "      <td>1</td>\n",
       "      <td>-8437.673028</td>\n",
       "      <td>42</td>\n",
       "      <td>высшее</td>\n",
       "      <td>0</td>\n",
       "      <td>женат / замужем</td>\n",
       "      <td>0</td>\n",
       "      <td>F</td>\n",
       "      <td>сотрудник</td>\n",
       "      <td>0</td>\n",
       "      <td>253875.639453</td>\n",
       "      <td>покупка жилья</td>\n",
       "    </tr>\n",
       "    <tr>\n",
       "      <th>1</th>\n",
       "      <td>1</td>\n",
       "      <td>-4024.803754</td>\n",
       "      <td>36</td>\n",
       "      <td>среднее</td>\n",
       "      <td>1</td>\n",
       "      <td>женат / замужем</td>\n",
       "      <td>0</td>\n",
       "      <td>F</td>\n",
       "      <td>сотрудник</td>\n",
       "      <td>0</td>\n",
       "      <td>112080.014102</td>\n",
       "      <td>приобретение автомобиля</td>\n",
       "    </tr>\n",
       "    <tr>\n",
       "      <th>2</th>\n",
       "      <td>0</td>\n",
       "      <td>-5623.422610</td>\n",
       "      <td>33</td>\n",
       "      <td>Среднее</td>\n",
       "      <td>1</td>\n",
       "      <td>женат / замужем</td>\n",
       "      <td>0</td>\n",
       "      <td>M</td>\n",
       "      <td>сотрудник</td>\n",
       "      <td>0</td>\n",
       "      <td>145885.952297</td>\n",
       "      <td>покупка жилья</td>\n",
       "    </tr>\n",
       "    <tr>\n",
       "      <th>3</th>\n",
       "      <td>3</td>\n",
       "      <td>-4124.747207</td>\n",
       "      <td>32</td>\n",
       "      <td>среднее</td>\n",
       "      <td>1</td>\n",
       "      <td>женат / замужем</td>\n",
       "      <td>0</td>\n",
       "      <td>M</td>\n",
       "      <td>сотрудник</td>\n",
       "      <td>0</td>\n",
       "      <td>267628.550329</td>\n",
       "      <td>дополнительное образование</td>\n",
       "    </tr>\n",
       "    <tr>\n",
       "      <th>4</th>\n",
       "      <td>0</td>\n",
       "      <td>340266.072047</td>\n",
       "      <td>53</td>\n",
       "      <td>среднее</td>\n",
       "      <td>1</td>\n",
       "      <td>гражданский брак</td>\n",
       "      <td>1</td>\n",
       "      <td>F</td>\n",
       "      <td>пенсионер</td>\n",
       "      <td>0</td>\n",
       "      <td>158616.077870</td>\n",
       "      <td>сыграть свадьбу</td>\n",
       "    </tr>\n",
       "  </tbody>\n",
       "</table>\n",
       "</div>"
      ],
      "text/plain": [
       "   children  days_employed  dob_years education  education_id  \\\n",
       "0         1   -8437.673028         42    высшее             0   \n",
       "1         1   -4024.803754         36   среднее             1   \n",
       "2         0   -5623.422610         33   Среднее             1   \n",
       "3         3   -4124.747207         32   среднее             1   \n",
       "4         0  340266.072047         53   среднее             1   \n",
       "\n",
       "      family_status  family_status_id gender income_type  debt   total_income  \\\n",
       "0   женат / замужем                 0      F   сотрудник     0  253875.639453   \n",
       "1   женат / замужем                 0      F   сотрудник     0  112080.014102   \n",
       "2   женат / замужем                 0      M   сотрудник     0  145885.952297   \n",
       "3   женат / замужем                 0      M   сотрудник     0  267628.550329   \n",
       "4  гражданский брак                 1      F   пенсионер     0  158616.077870   \n",
       "\n",
       "                      purpose  \n",
       "0               покупка жилья  \n",
       "1     приобретение автомобиля  \n",
       "2               покупка жилья  \n",
       "3  дополнительное образование  \n",
       "4             сыграть свадьбу  "
      ]
     },
     "execution_count": 4,
     "metadata": {},
     "output_type": "execute_result"
    }
   ],
   "source": [
    "# Посмотрим на первые 5 строк наших данных\n",
    "data.head()"
   ]
  },
  {
   "cell_type": "markdown",
   "metadata": {},
   "source": [
    "**Вывод**"
   ]
  },
  {
   "cell_type": "markdown",
   "metadata": {},
   "source": [
    "Данные представляют собой таблицу с 12 колонками и 21525 строками. В двух колонках, \"days_employed\" и \"otal_income\", имеются пропуски, количество которых совпадает (возможна связь?). Колонка \"days_employed\" содержит отрицательные значения (?!?!). Строго количественные данные в колонках \"days_employed\" и \"total_income\". Для ответа на поставленные вопросы, \"влияет ли семейное положение и количество детей клиента на факт погашения кредита в срок\", необходимо проанализировать данные столбцов: 'children', 'family_status', 'debt'. Однако, в рамках работы, рассмотрим влияние всех представленных факторов на финансовую дисциплину клиентов. Прежде чем дать отвыты на вопросы исследования, необходимо изучить данные, выявить ошибки и постараться их исправить, а также привести данные к более удобному формату для последующей группировки и анализа. Под ошибками будем понимать: пропуски, анамальные значания, явные и неявные дубликаты.  "
   ]
  },
  {
   "cell_type": "markdown",
   "metadata": {},
   "source": [
    "## Предобработка данных"
   ]
  },
  {
   "cell_type": "markdown",
   "metadata": {},
   "source": [
    "### Обработка пропусков"
   ]
  },
  {
   "cell_type": "markdown",
   "metadata": {},
   "source": [
    "Как было указано ранее, возмодна связь между пропусками в колонках \"days_employed\" и \"total_income\".\n",
    "Проверим это. Найдем кол-во пропусков в каждом из столбцов, а также количество сткок, где пропущены оба значения."
   ]
  },
  {
   "cell_type": "code",
   "execution_count": 5,
   "metadata": {},
   "outputs": [
    {
     "name": "stdout",
     "output_type": "stream",
     "text": [
      "Количество пропусков 'days_employed' =  2174\n",
      "Количество пропусков 'total_income' =  2174\n",
      "Количество строк, где промущены оба значения 2174\n"
     ]
    }
   ],
   "source": [
    "print (\"Количество пропусков 'days_employed' = \", data['days_employed'].isna().sum())\n",
    "print (\"Количество пропусков 'total_income' = \", data['total_income'].isna().sum())\n",
    "print (\"Количество строк, где промущены оба значения\", data.loc[data['days_employed'].isna()]['total_income'].isna().sum())"
   ]
  },
  {
   "cell_type": "markdown",
   "metadata": {},
   "source": [
    "Из полученных значений можно сделать вывод, что существует связь между пропусками в колонках \"days_employed\" и \"total_income\"."
   ]
  },
  {
   "cell_type": "code",
   "execution_count": 6,
   "metadata": {},
   "outputs": [
    {
     "data": {
      "text/html": [
       "<div>\n",
       "<style scoped>\n",
       "    .dataframe tbody tr th:only-of-type {\n",
       "        vertical-align: middle;\n",
       "    }\n",
       "\n",
       "    .dataframe tbody tr th {\n",
       "        vertical-align: top;\n",
       "    }\n",
       "\n",
       "    .dataframe thead th {\n",
       "        text-align: right;\n",
       "    }\n",
       "</style>\n",
       "<table border=\"1\" class=\"dataframe\">\n",
       "  <thead>\n",
       "    <tr style=\"text-align: right;\">\n",
       "      <th></th>\n",
       "      <th>children</th>\n",
       "      <th>days_employed</th>\n",
       "      <th>dob_years</th>\n",
       "      <th>education</th>\n",
       "      <th>education_id</th>\n",
       "      <th>family_status</th>\n",
       "      <th>family_status_id</th>\n",
       "      <th>gender</th>\n",
       "      <th>income_type</th>\n",
       "      <th>debt</th>\n",
       "      <th>total_income</th>\n",
       "      <th>purpose</th>\n",
       "    </tr>\n",
       "  </thead>\n",
       "  <tbody>\n",
       "    <tr>\n",
       "      <th>12</th>\n",
       "      <td>0</td>\n",
       "      <td>NaN</td>\n",
       "      <td>65</td>\n",
       "      <td>среднее</td>\n",
       "      <td>1</td>\n",
       "      <td>гражданский брак</td>\n",
       "      <td>1</td>\n",
       "      <td>M</td>\n",
       "      <td>пенсионер</td>\n",
       "      <td>0</td>\n",
       "      <td>NaN</td>\n",
       "      <td>сыграть свадьбу</td>\n",
       "    </tr>\n",
       "    <tr>\n",
       "      <th>26</th>\n",
       "      <td>0</td>\n",
       "      <td>NaN</td>\n",
       "      <td>41</td>\n",
       "      <td>среднее</td>\n",
       "      <td>1</td>\n",
       "      <td>женат / замужем</td>\n",
       "      <td>0</td>\n",
       "      <td>M</td>\n",
       "      <td>госслужащий</td>\n",
       "      <td>0</td>\n",
       "      <td>NaN</td>\n",
       "      <td>образование</td>\n",
       "    </tr>\n",
       "    <tr>\n",
       "      <th>29</th>\n",
       "      <td>0</td>\n",
       "      <td>NaN</td>\n",
       "      <td>63</td>\n",
       "      <td>среднее</td>\n",
       "      <td>1</td>\n",
       "      <td>Не женат / не замужем</td>\n",
       "      <td>4</td>\n",
       "      <td>F</td>\n",
       "      <td>пенсионер</td>\n",
       "      <td>0</td>\n",
       "      <td>NaN</td>\n",
       "      <td>строительство жилой недвижимости</td>\n",
       "    </tr>\n",
       "    <tr>\n",
       "      <th>41</th>\n",
       "      <td>0</td>\n",
       "      <td>NaN</td>\n",
       "      <td>50</td>\n",
       "      <td>среднее</td>\n",
       "      <td>1</td>\n",
       "      <td>женат / замужем</td>\n",
       "      <td>0</td>\n",
       "      <td>F</td>\n",
       "      <td>госслужащий</td>\n",
       "      <td>0</td>\n",
       "      <td>NaN</td>\n",
       "      <td>сделка с подержанным автомобилем</td>\n",
       "    </tr>\n",
       "    <tr>\n",
       "      <th>55</th>\n",
       "      <td>0</td>\n",
       "      <td>NaN</td>\n",
       "      <td>54</td>\n",
       "      <td>среднее</td>\n",
       "      <td>1</td>\n",
       "      <td>гражданский брак</td>\n",
       "      <td>1</td>\n",
       "      <td>F</td>\n",
       "      <td>пенсионер</td>\n",
       "      <td>1</td>\n",
       "      <td>NaN</td>\n",
       "      <td>сыграть свадьбу</td>\n",
       "    </tr>\n",
       "    <tr>\n",
       "      <th>65</th>\n",
       "      <td>0</td>\n",
       "      <td>NaN</td>\n",
       "      <td>21</td>\n",
       "      <td>среднее</td>\n",
       "      <td>1</td>\n",
       "      <td>Не женат / не замужем</td>\n",
       "      <td>4</td>\n",
       "      <td>M</td>\n",
       "      <td>компаньон</td>\n",
       "      <td>0</td>\n",
       "      <td>NaN</td>\n",
       "      <td>операции с коммерческой недвижимостью</td>\n",
       "    </tr>\n",
       "    <tr>\n",
       "      <th>67</th>\n",
       "      <td>0</td>\n",
       "      <td>NaN</td>\n",
       "      <td>52</td>\n",
       "      <td>высшее</td>\n",
       "      <td>0</td>\n",
       "      <td>женат / замужем</td>\n",
       "      <td>0</td>\n",
       "      <td>F</td>\n",
       "      <td>пенсионер</td>\n",
       "      <td>0</td>\n",
       "      <td>NaN</td>\n",
       "      <td>покупка жилья для семьи</td>\n",
       "    </tr>\n",
       "    <tr>\n",
       "      <th>72</th>\n",
       "      <td>1</td>\n",
       "      <td>NaN</td>\n",
       "      <td>32</td>\n",
       "      <td>высшее</td>\n",
       "      <td>0</td>\n",
       "      <td>женат / замужем</td>\n",
       "      <td>0</td>\n",
       "      <td>M</td>\n",
       "      <td>госслужащий</td>\n",
       "      <td>0</td>\n",
       "      <td>NaN</td>\n",
       "      <td>операции с коммерческой недвижимостью</td>\n",
       "    </tr>\n",
       "    <tr>\n",
       "      <th>82</th>\n",
       "      <td>2</td>\n",
       "      <td>NaN</td>\n",
       "      <td>50</td>\n",
       "      <td>высшее</td>\n",
       "      <td>0</td>\n",
       "      <td>женат / замужем</td>\n",
       "      <td>0</td>\n",
       "      <td>F</td>\n",
       "      <td>сотрудник</td>\n",
       "      <td>0</td>\n",
       "      <td>NaN</td>\n",
       "      <td>жилье</td>\n",
       "    </tr>\n",
       "    <tr>\n",
       "      <th>83</th>\n",
       "      <td>0</td>\n",
       "      <td>NaN</td>\n",
       "      <td>52</td>\n",
       "      <td>среднее</td>\n",
       "      <td>1</td>\n",
       "      <td>женат / замужем</td>\n",
       "      <td>0</td>\n",
       "      <td>M</td>\n",
       "      <td>сотрудник</td>\n",
       "      <td>0</td>\n",
       "      <td>NaN</td>\n",
       "      <td>жилье</td>\n",
       "    </tr>\n",
       "  </tbody>\n",
       "</table>\n",
       "</div>"
      ],
      "text/plain": [
       "    children  days_employed  dob_years education  education_id  \\\n",
       "12         0            NaN         65   среднее             1   \n",
       "26         0            NaN         41   среднее             1   \n",
       "29         0            NaN         63   среднее             1   \n",
       "41         0            NaN         50   среднее             1   \n",
       "55         0            NaN         54   среднее             1   \n",
       "65         0            NaN         21   среднее             1   \n",
       "67         0            NaN         52    высшее             0   \n",
       "72         1            NaN         32    высшее             0   \n",
       "82         2            NaN         50    высшее             0   \n",
       "83         0            NaN         52   среднее             1   \n",
       "\n",
       "            family_status  family_status_id gender  income_type  debt  \\\n",
       "12       гражданский брак                 1      M    пенсионер     0   \n",
       "26        женат / замужем                 0      M  госслужащий     0   \n",
       "29  Не женат / не замужем                 4      F    пенсионер     0   \n",
       "41        женат / замужем                 0      F  госслужащий     0   \n",
       "55       гражданский брак                 1      F    пенсионер     1   \n",
       "65  Не женат / не замужем                 4      M    компаньон     0   \n",
       "67        женат / замужем                 0      F    пенсионер     0   \n",
       "72        женат / замужем                 0      M  госслужащий     0   \n",
       "82        женат / замужем                 0      F    сотрудник     0   \n",
       "83        женат / замужем                 0      M    сотрудник     0   \n",
       "\n",
       "    total_income                                purpose  \n",
       "12           NaN                        сыграть свадьбу  \n",
       "26           NaN                            образование  \n",
       "29           NaN       строительство жилой недвижимости  \n",
       "41           NaN       сделка с подержанным автомобилем  \n",
       "55           NaN                        сыграть свадьбу  \n",
       "65           NaN  операции с коммерческой недвижимостью  \n",
       "67           NaN                покупка жилья для семьи  \n",
       "72           NaN  операции с коммерческой недвижимостью  \n",
       "82           NaN                                  жилье  \n",
       "83           NaN                                  жилье  "
      ]
     },
     "execution_count": 6,
     "metadata": {},
     "output_type": "execute_result"
    }
   ],
   "source": [
    "# посмотрим на первые 10 строк с пропусками и оценим наличие каких-либо видимых закономерностей\n",
    "data.loc[data['days_employed'].isna()].head(10)"
   ]
  },
  {
   "cell_type": "markdown",
   "metadata": {},
   "source": [
    "Видимых закономерностей не установлено. Так как в рамках поставленной задачи, значения 'days_employed' не окажут влияния на результат исследования, не будем проводить дальнейшее исследование по поиску взаимосвязей."
   ]
  },
  {
   "cell_type": "markdown",
   "metadata": {},
   "source": [
    "**Роботаем с пропусками в столбце 'days_employed'.**\n",
    "Очевидно, что трудовой стаж связан с возрастом клиента.\n",
    "Можно сгруппировать клиентов по возрастным группам и использовать медианное значение стажа для пропусков внутри группы.\n",
    "Прежде всего, необходимо решить, что делать с отрицательными значениями стажа и с оценить кол-во ошибочных данных.\n",
    "На данном этапе, под ошибками имееется ввиду стаж, например, превышающий разумные пределы. Так для записи под номером 4  заявлен стаж 340266.072047 дней. Что, при средней продолжительности года в 365/366 дней, составит около 930 лет.\n",
    "На сегодняшний день, пенсионный возраст в России: 60 лет — для женщин и 65 лет — для мужчин.\n",
    "Будем полагать, что речь идёт о подтвержденном стаже, т.е. в соотвествии с ТК РФ начало тредовой деятельности с 16 лет.\n",
    "Таким образом, наиболее вероятный максимальны стаж 60 - 16 = 44 года, или порядка 16 000 дней."
   ]
  },
  {
   "cell_type": "code",
   "execution_count": 7,
   "metadata": {},
   "outputs": [
    {
     "name": "stdout",
     "output_type": "stream",
     "text": [
      "Минимальное значение положительного стажа:  328728\n",
      "Максимальное значение положительного стажа:  401755\n",
      "Количество значение положительного стажа:  3445\n"
     ]
    }
   ],
   "source": [
    "# рассмотрим положительны стаж детельно\n",
    "print ('Минимальное значение положительного стажа: ', int(data.loc[data['days_employed'] > 0]['days_employed'].min()))\n",
    "print ('Максимальное значение положительного стажа: ', int(data.loc[data['days_employed'] > 0]['days_employed'].max()))\n",
    "print ('Количество значение положительного стажа: ', int(data.loc[data['days_employed'] > 0]['days_employed'].count()))"
   ]
  },
  {
   "cell_type": "markdown",
   "metadata": {},
   "source": [
    "Вывод: Все данные с положительным стажем ошибочны. Максимальное значение стажа данных - 401744, что в 25 раз больше предполагаемого максимально стажа 16000. Возможно, эти данные указаны в часах, т.е. с мультипликатором 24."
   ]
  },
  {
   "cell_type": "code",
   "execution_count": 8,
   "metadata": {
    "scrolled": true
   },
   "outputs": [
    {
     "data": {
      "text/html": [
       "<div>\n",
       "<style scoped>\n",
       "    .dataframe tbody tr th:only-of-type {\n",
       "        vertical-align: middle;\n",
       "    }\n",
       "\n",
       "    .dataframe tbody tr th {\n",
       "        vertical-align: top;\n",
       "    }\n",
       "\n",
       "    .dataframe thead th {\n",
       "        text-align: right;\n",
       "    }\n",
       "</style>\n",
       "<table border=\"1\" class=\"dataframe\">\n",
       "  <thead>\n",
       "    <tr style=\"text-align: right;\">\n",
       "      <th></th>\n",
       "      <th>children</th>\n",
       "      <th>days_employed</th>\n",
       "      <th>dob_years</th>\n",
       "      <th>education</th>\n",
       "      <th>education_id</th>\n",
       "      <th>family_status</th>\n",
       "      <th>family_status_id</th>\n",
       "      <th>gender</th>\n",
       "      <th>income_type</th>\n",
       "      <th>debt</th>\n",
       "      <th>total_income</th>\n",
       "      <th>purpose</th>\n",
       "    </tr>\n",
       "  </thead>\n",
       "  <tbody>\n",
       "    <tr>\n",
       "      <th>4</th>\n",
       "      <td>0</td>\n",
       "      <td>340266.072047</td>\n",
       "      <td>53</td>\n",
       "      <td>среднее</td>\n",
       "      <td>1</td>\n",
       "      <td>гражданский брак</td>\n",
       "      <td>1</td>\n",
       "      <td>F</td>\n",
       "      <td>пенсионер</td>\n",
       "      <td>0</td>\n",
       "      <td>158616.077870</td>\n",
       "      <td>сыграть свадьбу</td>\n",
       "    </tr>\n",
       "    <tr>\n",
       "      <th>18</th>\n",
       "      <td>0</td>\n",
       "      <td>400281.136913</td>\n",
       "      <td>53</td>\n",
       "      <td>среднее</td>\n",
       "      <td>1</td>\n",
       "      <td>вдовец / вдова</td>\n",
       "      <td>2</td>\n",
       "      <td>F</td>\n",
       "      <td>пенсионер</td>\n",
       "      <td>0</td>\n",
       "      <td>56823.777243</td>\n",
       "      <td>на покупку подержанного автомобиля</td>\n",
       "    </tr>\n",
       "    <tr>\n",
       "      <th>24</th>\n",
       "      <td>1</td>\n",
       "      <td>338551.952911</td>\n",
       "      <td>57</td>\n",
       "      <td>среднее</td>\n",
       "      <td>1</td>\n",
       "      <td>Не женат / не замужем</td>\n",
       "      <td>4</td>\n",
       "      <td>F</td>\n",
       "      <td>пенсионер</td>\n",
       "      <td>0</td>\n",
       "      <td>290547.235997</td>\n",
       "      <td>операции с коммерческой недвижимостью</td>\n",
       "    </tr>\n",
       "    <tr>\n",
       "      <th>25</th>\n",
       "      <td>0</td>\n",
       "      <td>363548.489348</td>\n",
       "      <td>67</td>\n",
       "      <td>среднее</td>\n",
       "      <td>1</td>\n",
       "      <td>женат / замужем</td>\n",
       "      <td>0</td>\n",
       "      <td>M</td>\n",
       "      <td>пенсионер</td>\n",
       "      <td>0</td>\n",
       "      <td>55112.757732</td>\n",
       "      <td>покупка недвижимости</td>\n",
       "    </tr>\n",
       "    <tr>\n",
       "      <th>30</th>\n",
       "      <td>1</td>\n",
       "      <td>335581.668515</td>\n",
       "      <td>62</td>\n",
       "      <td>среднее</td>\n",
       "      <td>1</td>\n",
       "      <td>женат / замужем</td>\n",
       "      <td>0</td>\n",
       "      <td>F</td>\n",
       "      <td>пенсионер</td>\n",
       "      <td>0</td>\n",
       "      <td>171456.067993</td>\n",
       "      <td>операции с коммерческой недвижимостью</td>\n",
       "    </tr>\n",
       "    <tr>\n",
       "      <th>35</th>\n",
       "      <td>0</td>\n",
       "      <td>394021.072184</td>\n",
       "      <td>68</td>\n",
       "      <td>среднее</td>\n",
       "      <td>1</td>\n",
       "      <td>гражданский брак</td>\n",
       "      <td>1</td>\n",
       "      <td>M</td>\n",
       "      <td>пенсионер</td>\n",
       "      <td>0</td>\n",
       "      <td>77805.677436</td>\n",
       "      <td>на проведение свадьбы</td>\n",
       "    </tr>\n",
       "    <tr>\n",
       "      <th>50</th>\n",
       "      <td>0</td>\n",
       "      <td>353731.432338</td>\n",
       "      <td>63</td>\n",
       "      <td>среднее</td>\n",
       "      <td>1</td>\n",
       "      <td>женат / замужем</td>\n",
       "      <td>0</td>\n",
       "      <td>F</td>\n",
       "      <td>пенсионер</td>\n",
       "      <td>0</td>\n",
       "      <td>92342.730612</td>\n",
       "      <td>автомобили</td>\n",
       "    </tr>\n",
       "    <tr>\n",
       "      <th>56</th>\n",
       "      <td>0</td>\n",
       "      <td>370145.087237</td>\n",
       "      <td>64</td>\n",
       "      <td>среднее</td>\n",
       "      <td>1</td>\n",
       "      <td>вдовец / вдова</td>\n",
       "      <td>2</td>\n",
       "      <td>F</td>\n",
       "      <td>пенсионер</td>\n",
       "      <td>0</td>\n",
       "      <td>149141.043533</td>\n",
       "      <td>образование</td>\n",
       "    </tr>\n",
       "    <tr>\n",
       "      <th>71</th>\n",
       "      <td>0</td>\n",
       "      <td>338113.529892</td>\n",
       "      <td>62</td>\n",
       "      <td>среднее</td>\n",
       "      <td>1</td>\n",
       "      <td>женат / замужем</td>\n",
       "      <td>0</td>\n",
       "      <td>F</td>\n",
       "      <td>пенсионер</td>\n",
       "      <td>0</td>\n",
       "      <td>43929.696397</td>\n",
       "      <td>автомобили</td>\n",
       "    </tr>\n",
       "    <tr>\n",
       "      <th>78</th>\n",
       "      <td>0</td>\n",
       "      <td>359722.945074</td>\n",
       "      <td>61</td>\n",
       "      <td>высшее</td>\n",
       "      <td>0</td>\n",
       "      <td>женат / замужем</td>\n",
       "      <td>0</td>\n",
       "      <td>M</td>\n",
       "      <td>пенсионер</td>\n",
       "      <td>0</td>\n",
       "      <td>175127.646000</td>\n",
       "      <td>сделка с автомобилем</td>\n",
       "    </tr>\n",
       "  </tbody>\n",
       "</table>\n",
       "</div>"
      ],
      "text/plain": [
       "    children  days_employed  dob_years education  education_id  \\\n",
       "4          0  340266.072047         53   среднее             1   \n",
       "18         0  400281.136913         53   среднее             1   \n",
       "24         1  338551.952911         57   среднее             1   \n",
       "25         0  363548.489348         67   среднее             1   \n",
       "30         1  335581.668515         62   среднее             1   \n",
       "35         0  394021.072184         68   среднее             1   \n",
       "50         0  353731.432338         63   среднее             1   \n",
       "56         0  370145.087237         64   среднее             1   \n",
       "71         0  338113.529892         62   среднее             1   \n",
       "78         0  359722.945074         61    высшее             0   \n",
       "\n",
       "            family_status  family_status_id gender income_type  debt  \\\n",
       "4        гражданский брак                 1      F   пенсионер     0   \n",
       "18         вдовец / вдова                 2      F   пенсионер     0   \n",
       "24  Не женат / не замужем                 4      F   пенсионер     0   \n",
       "25        женат / замужем                 0      M   пенсионер     0   \n",
       "30        женат / замужем                 0      F   пенсионер     0   \n",
       "35       гражданский брак                 1      M   пенсионер     0   \n",
       "50        женат / замужем                 0      F   пенсионер     0   \n",
       "56         вдовец / вдова                 2      F   пенсионер     0   \n",
       "71        женат / замужем                 0      F   пенсионер     0   \n",
       "78        женат / замужем                 0      M   пенсионер     0   \n",
       "\n",
       "     total_income                                purpose  \n",
       "4   158616.077870                        сыграть свадьбу  \n",
       "18   56823.777243     на покупку подержанного автомобиля  \n",
       "24  290547.235997  операции с коммерческой недвижимостью  \n",
       "25   55112.757732                   покупка недвижимости  \n",
       "30  171456.067993  операции с коммерческой недвижимостью  \n",
       "35   77805.677436                  на проведение свадьбы  \n",
       "50   92342.730612                             автомобили  \n",
       "56  149141.043533                            образование  \n",
       "71   43929.696397                             автомобили  \n",
       "78  175127.646000                   сделка с автомобилем  "
      ]
     },
     "execution_count": 8,
     "metadata": {},
     "output_type": "execute_result"
    }
   ],
   "source": [
    "# посмотрим первые 10 записей со стажем > 0\n",
    "data[data['days_employed'] > 0].head(10)"
   ]
  },
  {
   "cell_type": "markdown",
   "metadata": {},
   "source": [
    "Среди первых 10, положительный стаж только у клиентов категории \"пенсионер\". Проверим все категории на наличие/отсутствие такого стажа."
   ]
  },
  {
   "cell_type": "code",
   "execution_count": 9,
   "metadata": {},
   "outputs": [
    {
     "data": {
      "text/plain": [
       "income_type\n",
       "безработный       2\n",
       "пенсионер      3443\n",
       "Name: days_employed, dtype: int64"
      ]
     },
     "execution_count": 9,
     "metadata": {},
     "output_type": "execute_result"
    }
   ],
   "source": [
    "data[data['days_employed'] > 0].groupby('income_type')['days_employed'].count()"
   ]
  },
  {
   "cell_type": "markdown",
   "metadata": {},
   "source": [
    "Проверим группы на наличие стажа = 0"
   ]
  },
  {
   "cell_type": "code",
   "execution_count": 10,
   "metadata": {},
   "outputs": [
    {
     "data": {
      "text/plain": [
       "Series([], Name: days_employed, dtype: int64)"
      ]
     },
     "execution_count": 10,
     "metadata": {},
     "output_type": "execute_result"
    }
   ],
   "source": [
    "data[data['days_employed'] == 0].groupby('income_type')['days_employed'].count()"
   ]
  },
  {
   "cell_type": "markdown",
   "metadata": {},
   "source": [
    "Проверим группы на наличие стажа < 0"
   ]
  },
  {
   "cell_type": "code",
   "execution_count": 11,
   "metadata": {},
   "outputs": [
    {
     "data": {
      "text/plain": [
       "income_type\n",
       "в декрете              1\n",
       "госслужащий         1312\n",
       "компаньон           4577\n",
       "предприниматель        1\n",
       "сотрудник          10014\n",
       "студент                1\n",
       "Name: days_employed, dtype: int64"
      ]
     },
     "execution_count": 11,
     "metadata": {},
     "output_type": "execute_result"
    }
   ],
   "source": [
    "data[data['days_employed'] < 0].groupby('income_type')['days_employed'].count()"
   ]
  },
  {
   "cell_type": "code",
   "execution_count": 12,
   "metadata": {
    "scrolled": true
   },
   "outputs": [
    {
     "name": "stdout",
     "output_type": "stream",
     "text": [
      "Минимальное значение положительного стажа:  13697\n",
      "Максимальное значение положительного стажа:  16739\n",
      "Количество значение положительного стажа:  3445\n"
     ]
    }
   ],
   "source": [
    "# Заменим значения 'days_employed', которые больше 0 на 'days_employed'/ 24\n",
    "data.loc[(data['days_employed'] > 0), 'days_employed'] = data['days_employed']/24 \n",
    "# проверка\n",
    "print ('Минимальное значение положительного стажа: ', int(data.loc[data['days_employed'] > 0]['days_employed'].min()))\n",
    "print ('Максимальное значение положительного стажа: ', int(data.loc[data['days_employed'] > 0]['days_employed'].max()))\n",
    "print ('Количество значение положительного стажа: ', int(data.loc[data['days_employed'] > 0]['days_employed'].count()))"
   ]
  },
  {
   "cell_type": "code",
   "execution_count": 13,
   "metadata": {},
   "outputs": [
    {
     "name": "stdout",
     "output_type": "stream",
     "text": [
      "Минимальное значение отрицательного стажа:  -18388\n",
      "Максимальное значение отрицательного стажа:  -24\n",
      "Количество значение отрицательного стажа:  15906\n"
     ]
    }
   ],
   "source": [
    "# рассмотрим отрицательный стаж \n",
    "print ('Минимальное значение отрицательного стажа: ', int(data.loc[data['days_employed'] < 0]['days_employed'].min()))\n",
    "print ('Максимальное значение отрицательного стажа: ', int(data.loc[data['days_employed'] < 0]['days_employed'].max()))\n",
    "print ('Количество значение отрицательного стажа: ', int(data.loc[data['days_employed'] < 0]['days_employed'].count()))"
   ]
  },
  {
   "cell_type": "markdown",
   "metadata": {},
   "source": [
    "Опираясь на эти значения и максимальный теоретический стаж, допускаем, что ошибка только в знаке данных."
   ]
  },
  {
   "cell_type": "code",
   "execution_count": 14,
   "metadata": {},
   "outputs": [
    {
     "name": "stdout",
     "output_type": "stream",
     "text": [
      "Минимальное значение отрицательного стажа:  nan\n",
      "Максимальное значение отрицательного стажа:  nan\n",
      "Количество значение отрицательного стажа:  0\n"
     ]
    }
   ],
   "source": [
    "# Заменим значения 'days_employed', которые меньше 0 на модуль'days_employed'\n",
    "data.loc[(data['days_employed'] < 0), 'days_employed'] = data['days_employed'].abs()\n",
    "# проверка\n",
    "print ('Минимальное значение отрицательного стажа: ', data.loc[data['days_employed'] < 0]['days_employed'].min())\n",
    "print ('Максимальное значение отрицательного стажа: ', data.loc[data['days_employed'] < 0]['days_employed'].max())\n",
    "print ('Количество значение отрицательного стажа: ', data.loc[data['days_employed'] < 0]['days_employed'].count())"
   ]
  },
  {
   "cell_type": "markdown",
   "metadata": {},
   "source": [
    "Для выделения возрастных категорий необходимо убедиться в отсутствии онибок в колонке 'dob_years'"
   ]
  },
  {
   "cell_type": "code",
   "execution_count": 15,
   "metadata": {},
   "outputs": [
    {
     "name": "stdout",
     "output_type": "stream",
     "text": [
      "Минимальный возраст клиента 0\n",
      "Максимальный возраст клиента 75\n"
     ]
    }
   ],
   "source": [
    "print ('Минимальный возраст клиента', data['dob_years'].min())\n",
    "print ('Максимальный возраст клиента', data['dob_years'].max())"
   ]
  },
  {
   "cell_type": "markdown",
   "metadata": {},
   "source": [
    "Видим, что имеет место ошибка в возрасте. Оценим количество строк с возрастом 0."
   ]
  },
  {
   "cell_type": "code",
   "execution_count": 16,
   "metadata": {},
   "outputs": [
    {
     "data": {
      "text/plain": [
       "101"
      ]
     },
     "execution_count": 16,
     "metadata": {},
     "output_type": "execute_result"
    }
   ],
   "source": [
    "data[data['dob_years'] == 0]['dob_years'].count()"
   ]
  },
  {
   "cell_type": "code",
   "execution_count": 17,
   "metadata": {},
   "outputs": [
    {
     "data": {
      "text/html": [
       "<div>\n",
       "<style scoped>\n",
       "    .dataframe tbody tr th:only-of-type {\n",
       "        vertical-align: middle;\n",
       "    }\n",
       "\n",
       "    .dataframe tbody tr th {\n",
       "        vertical-align: top;\n",
       "    }\n",
       "\n",
       "    .dataframe thead th {\n",
       "        text-align: right;\n",
       "    }\n",
       "</style>\n",
       "<table border=\"1\" class=\"dataframe\">\n",
       "  <thead>\n",
       "    <tr style=\"text-align: right;\">\n",
       "      <th></th>\n",
       "      <th>children</th>\n",
       "      <th>days_employed</th>\n",
       "      <th>dob_years</th>\n",
       "      <th>education</th>\n",
       "      <th>education_id</th>\n",
       "      <th>family_status</th>\n",
       "      <th>family_status_id</th>\n",
       "      <th>gender</th>\n",
       "      <th>income_type</th>\n",
       "      <th>debt</th>\n",
       "      <th>total_income</th>\n",
       "      <th>purpose</th>\n",
       "    </tr>\n",
       "  </thead>\n",
       "  <tbody>\n",
       "    <tr>\n",
       "      <th>99</th>\n",
       "      <td>0</td>\n",
       "      <td>14439.234121</td>\n",
       "      <td>0</td>\n",
       "      <td>Среднее</td>\n",
       "      <td>1</td>\n",
       "      <td>женат / замужем</td>\n",
       "      <td>0</td>\n",
       "      <td>F</td>\n",
       "      <td>пенсионер</td>\n",
       "      <td>0</td>\n",
       "      <td>71291.522491</td>\n",
       "      <td>автомобиль</td>\n",
       "    </tr>\n",
       "    <tr>\n",
       "      <th>149</th>\n",
       "      <td>0</td>\n",
       "      <td>2664.273168</td>\n",
       "      <td>0</td>\n",
       "      <td>среднее</td>\n",
       "      <td>1</td>\n",
       "      <td>в разводе</td>\n",
       "      <td>3</td>\n",
       "      <td>F</td>\n",
       "      <td>сотрудник</td>\n",
       "      <td>0</td>\n",
       "      <td>70176.435951</td>\n",
       "      <td>операции с жильем</td>\n",
       "    </tr>\n",
       "    <tr>\n",
       "      <th>270</th>\n",
       "      <td>3</td>\n",
       "      <td>1872.663186</td>\n",
       "      <td>0</td>\n",
       "      <td>среднее</td>\n",
       "      <td>1</td>\n",
       "      <td>женат / замужем</td>\n",
       "      <td>0</td>\n",
       "      <td>F</td>\n",
       "      <td>сотрудник</td>\n",
       "      <td>0</td>\n",
       "      <td>102166.458894</td>\n",
       "      <td>ремонт жилью</td>\n",
       "    </tr>\n",
       "    <tr>\n",
       "      <th>578</th>\n",
       "      <td>0</td>\n",
       "      <td>16577.356876</td>\n",
       "      <td>0</td>\n",
       "      <td>среднее</td>\n",
       "      <td>1</td>\n",
       "      <td>женат / замужем</td>\n",
       "      <td>0</td>\n",
       "      <td>F</td>\n",
       "      <td>пенсионер</td>\n",
       "      <td>0</td>\n",
       "      <td>97620.687042</td>\n",
       "      <td>строительство собственной недвижимости</td>\n",
       "    </tr>\n",
       "    <tr>\n",
       "      <th>1040</th>\n",
       "      <td>0</td>\n",
       "      <td>1158.029561</td>\n",
       "      <td>0</td>\n",
       "      <td>высшее</td>\n",
       "      <td>0</td>\n",
       "      <td>в разводе</td>\n",
       "      <td>3</td>\n",
       "      <td>F</td>\n",
       "      <td>компаньон</td>\n",
       "      <td>0</td>\n",
       "      <td>303994.134987</td>\n",
       "      <td>свой автомобиль</td>\n",
       "    </tr>\n",
       "    <tr>\n",
       "      <th>1149</th>\n",
       "      <td>0</td>\n",
       "      <td>934.654854</td>\n",
       "      <td>0</td>\n",
       "      <td>среднее</td>\n",
       "      <td>1</td>\n",
       "      <td>женат / замужем</td>\n",
       "      <td>0</td>\n",
       "      <td>F</td>\n",
       "      <td>компаньон</td>\n",
       "      <td>0</td>\n",
       "      <td>201852.430096</td>\n",
       "      <td>покупка недвижимости</td>\n",
       "    </tr>\n",
       "    <tr>\n",
       "      <th>1175</th>\n",
       "      <td>0</td>\n",
       "      <td>15453.312833</td>\n",
       "      <td>0</td>\n",
       "      <td>среднее</td>\n",
       "      <td>1</td>\n",
       "      <td>женат / замужем</td>\n",
       "      <td>0</td>\n",
       "      <td>F</td>\n",
       "      <td>пенсионер</td>\n",
       "      <td>0</td>\n",
       "      <td>313949.845188</td>\n",
       "      <td>получение дополнительного образования</td>\n",
       "    </tr>\n",
       "    <tr>\n",
       "      <th>1386</th>\n",
       "      <td>0</td>\n",
       "      <td>5043.219890</td>\n",
       "      <td>0</td>\n",
       "      <td>высшее</td>\n",
       "      <td>0</td>\n",
       "      <td>женат / замужем</td>\n",
       "      <td>0</td>\n",
       "      <td>M</td>\n",
       "      <td>госслужащий</td>\n",
       "      <td>0</td>\n",
       "      <td>240523.618071</td>\n",
       "      <td>сделка с автомобилем</td>\n",
       "    </tr>\n",
       "    <tr>\n",
       "      <th>1890</th>\n",
       "      <td>0</td>\n",
       "      <td>NaN</td>\n",
       "      <td>0</td>\n",
       "      <td>высшее</td>\n",
       "      <td>0</td>\n",
       "      <td>Не женат / не замужем</td>\n",
       "      <td>4</td>\n",
       "      <td>F</td>\n",
       "      <td>сотрудник</td>\n",
       "      <td>0</td>\n",
       "      <td>NaN</td>\n",
       "      <td>жилье</td>\n",
       "    </tr>\n",
       "    <tr>\n",
       "      <th>1898</th>\n",
       "      <td>0</td>\n",
       "      <td>15422.689043</td>\n",
       "      <td>0</td>\n",
       "      <td>среднее</td>\n",
       "      <td>1</td>\n",
       "      <td>вдовец / вдова</td>\n",
       "      <td>2</td>\n",
       "      <td>F</td>\n",
       "      <td>пенсионер</td>\n",
       "      <td>0</td>\n",
       "      <td>127400.268338</td>\n",
       "      <td>на покупку автомобиля</td>\n",
       "    </tr>\n",
       "  </tbody>\n",
       "</table>\n",
       "</div>"
      ],
      "text/plain": [
       "      children  days_employed  dob_years education  education_id  \\\n",
       "99           0   14439.234121          0   Среднее             1   \n",
       "149          0    2664.273168          0   среднее             1   \n",
       "270          3    1872.663186          0   среднее             1   \n",
       "578          0   16577.356876          0   среднее             1   \n",
       "1040         0    1158.029561          0    высшее             0   \n",
       "1149         0     934.654854          0   среднее             1   \n",
       "1175         0   15453.312833          0   среднее             1   \n",
       "1386         0    5043.219890          0    высшее             0   \n",
       "1890         0            NaN          0    высшее             0   \n",
       "1898         0   15422.689043          0   среднее             1   \n",
       "\n",
       "              family_status  family_status_id gender  income_type  debt  \\\n",
       "99          женат / замужем                 0      F    пенсионер     0   \n",
       "149               в разводе                 3      F    сотрудник     0   \n",
       "270         женат / замужем                 0      F    сотрудник     0   \n",
       "578         женат / замужем                 0      F    пенсионер     0   \n",
       "1040              в разводе                 3      F    компаньон     0   \n",
       "1149        женат / замужем                 0      F    компаньон     0   \n",
       "1175        женат / замужем                 0      F    пенсионер     0   \n",
       "1386        женат / замужем                 0      M  госслужащий     0   \n",
       "1890  Не женат / не замужем                 4      F    сотрудник     0   \n",
       "1898         вдовец / вдова                 2      F    пенсионер     0   \n",
       "\n",
       "       total_income                                 purpose  \n",
       "99     71291.522491                              автомобиль  \n",
       "149    70176.435951                       операции с жильем  \n",
       "270   102166.458894                            ремонт жилью  \n",
       "578    97620.687042  строительство собственной недвижимости  \n",
       "1040  303994.134987                         свой автомобиль  \n",
       "1149  201852.430096                    покупка недвижимости  \n",
       "1175  313949.845188   получение дополнительного образования  \n",
       "1386  240523.618071                    сделка с автомобилем  \n",
       "1890            NaN                                   жилье  \n",
       "1898  127400.268338                   на покупку автомобиля  "
      ]
     },
     "execution_count": 17,
     "metadata": {},
     "output_type": "execute_result"
    }
   ],
   "source": [
    "# посмотрим на первые 10 строк, для которых 'dob_years' = 0\n",
    "data[(data['dob_years'] == 0)].head(10)"
   ]
  },
  {
   "cell_type": "code",
   "execution_count": 18,
   "metadata": {},
   "outputs": [
    {
     "data": {
      "text/plain": [
       "10"
      ]
     },
     "execution_count": 18,
     "metadata": {},
     "output_type": "execute_result"
    }
   ],
   "source": [
    "# оценим кол-во записей, в которых присутствуют пропуски и возраст заёмщика равен 0\n",
    "data.loc[(data['dob_years'] == 0) & data['days_employed'].isna()]['dob_years'].count()"
   ]
  },
  {
   "cell_type": "code",
   "execution_count": 19,
   "metadata": {
    "scrolled": true
   },
   "outputs": [
    {
     "data": {
      "text/html": [
       "<div>\n",
       "<style scoped>\n",
       "    .dataframe tbody tr th:only-of-type {\n",
       "        vertical-align: middle;\n",
       "    }\n",
       "\n",
       "    .dataframe tbody tr th {\n",
       "        vertical-align: top;\n",
       "    }\n",
       "\n",
       "    .dataframe thead th {\n",
       "        text-align: right;\n",
       "    }\n",
       "</style>\n",
       "<table border=\"1\" class=\"dataframe\">\n",
       "  <thead>\n",
       "    <tr style=\"text-align: right;\">\n",
       "      <th></th>\n",
       "      <th>children</th>\n",
       "      <th>days_employed</th>\n",
       "      <th>dob_years</th>\n",
       "      <th>education</th>\n",
       "      <th>education_id</th>\n",
       "      <th>family_status</th>\n",
       "      <th>family_status_id</th>\n",
       "      <th>gender</th>\n",
       "      <th>income_type</th>\n",
       "      <th>debt</th>\n",
       "      <th>total_income</th>\n",
       "      <th>purpose</th>\n",
       "    </tr>\n",
       "  </thead>\n",
       "  <tbody>\n",
       "    <tr>\n",
       "      <th>1890</th>\n",
       "      <td>0</td>\n",
       "      <td>NaN</td>\n",
       "      <td>0</td>\n",
       "      <td>высшее</td>\n",
       "      <td>0</td>\n",
       "      <td>Не женат / не замужем</td>\n",
       "      <td>4</td>\n",
       "      <td>F</td>\n",
       "      <td>сотрудник</td>\n",
       "      <td>0</td>\n",
       "      <td>NaN</td>\n",
       "      <td>жилье</td>\n",
       "    </tr>\n",
       "    <tr>\n",
       "      <th>2284</th>\n",
       "      <td>0</td>\n",
       "      <td>NaN</td>\n",
       "      <td>0</td>\n",
       "      <td>среднее</td>\n",
       "      <td>1</td>\n",
       "      <td>вдовец / вдова</td>\n",
       "      <td>2</td>\n",
       "      <td>F</td>\n",
       "      <td>пенсионер</td>\n",
       "      <td>0</td>\n",
       "      <td>NaN</td>\n",
       "      <td>недвижимость</td>\n",
       "    </tr>\n",
       "    <tr>\n",
       "      <th>4064</th>\n",
       "      <td>1</td>\n",
       "      <td>NaN</td>\n",
       "      <td>0</td>\n",
       "      <td>среднее</td>\n",
       "      <td>1</td>\n",
       "      <td>гражданский брак</td>\n",
       "      <td>1</td>\n",
       "      <td>M</td>\n",
       "      <td>компаньон</td>\n",
       "      <td>0</td>\n",
       "      <td>NaN</td>\n",
       "      <td>ремонт жилью</td>\n",
       "    </tr>\n",
       "    <tr>\n",
       "      <th>5014</th>\n",
       "      <td>0</td>\n",
       "      <td>NaN</td>\n",
       "      <td>0</td>\n",
       "      <td>среднее</td>\n",
       "      <td>1</td>\n",
       "      <td>женат / замужем</td>\n",
       "      <td>0</td>\n",
       "      <td>F</td>\n",
       "      <td>компаньон</td>\n",
       "      <td>0</td>\n",
       "      <td>NaN</td>\n",
       "      <td>покупка недвижимости</td>\n",
       "    </tr>\n",
       "    <tr>\n",
       "      <th>6411</th>\n",
       "      <td>0</td>\n",
       "      <td>NaN</td>\n",
       "      <td>0</td>\n",
       "      <td>высшее</td>\n",
       "      <td>0</td>\n",
       "      <td>гражданский брак</td>\n",
       "      <td>1</td>\n",
       "      <td>F</td>\n",
       "      <td>пенсионер</td>\n",
       "      <td>0</td>\n",
       "      <td>NaN</td>\n",
       "      <td>свадьба</td>\n",
       "    </tr>\n",
       "    <tr>\n",
       "      <th>6670</th>\n",
       "      <td>0</td>\n",
       "      <td>NaN</td>\n",
       "      <td>0</td>\n",
       "      <td>Высшее</td>\n",
       "      <td>0</td>\n",
       "      <td>в разводе</td>\n",
       "      <td>3</td>\n",
       "      <td>F</td>\n",
       "      <td>пенсионер</td>\n",
       "      <td>0</td>\n",
       "      <td>NaN</td>\n",
       "      <td>покупка жилой недвижимости</td>\n",
       "    </tr>\n",
       "    <tr>\n",
       "      <th>8574</th>\n",
       "      <td>0</td>\n",
       "      <td>NaN</td>\n",
       "      <td>0</td>\n",
       "      <td>среднее</td>\n",
       "      <td>1</td>\n",
       "      <td>женат / замужем</td>\n",
       "      <td>0</td>\n",
       "      <td>F</td>\n",
       "      <td>сотрудник</td>\n",
       "      <td>0</td>\n",
       "      <td>NaN</td>\n",
       "      <td>недвижимость</td>\n",
       "    </tr>\n",
       "    <tr>\n",
       "      <th>12403</th>\n",
       "      <td>3</td>\n",
       "      <td>NaN</td>\n",
       "      <td>0</td>\n",
       "      <td>среднее</td>\n",
       "      <td>1</td>\n",
       "      <td>женат / замужем</td>\n",
       "      <td>0</td>\n",
       "      <td>M</td>\n",
       "      <td>сотрудник</td>\n",
       "      <td>0</td>\n",
       "      <td>NaN</td>\n",
       "      <td>операции с коммерческой недвижимостью</td>\n",
       "    </tr>\n",
       "    <tr>\n",
       "      <th>13741</th>\n",
       "      <td>0</td>\n",
       "      <td>NaN</td>\n",
       "      <td>0</td>\n",
       "      <td>среднее</td>\n",
       "      <td>1</td>\n",
       "      <td>гражданский брак</td>\n",
       "      <td>1</td>\n",
       "      <td>F</td>\n",
       "      <td>сотрудник</td>\n",
       "      <td>0</td>\n",
       "      <td>NaN</td>\n",
       "      <td>на проведение свадьбы</td>\n",
       "    </tr>\n",
       "    <tr>\n",
       "      <th>19829</th>\n",
       "      <td>0</td>\n",
       "      <td>NaN</td>\n",
       "      <td>0</td>\n",
       "      <td>среднее</td>\n",
       "      <td>1</td>\n",
       "      <td>женат / замужем</td>\n",
       "      <td>0</td>\n",
       "      <td>F</td>\n",
       "      <td>сотрудник</td>\n",
       "      <td>0</td>\n",
       "      <td>NaN</td>\n",
       "      <td>жилье</td>\n",
       "    </tr>\n",
       "  </tbody>\n",
       "</table>\n",
       "</div>"
      ],
      "text/plain": [
       "       children  days_employed  dob_years education  education_id  \\\n",
       "1890          0            NaN          0    высшее             0   \n",
       "2284          0            NaN          0   среднее             1   \n",
       "4064          1            NaN          0   среднее             1   \n",
       "5014          0            NaN          0   среднее             1   \n",
       "6411          0            NaN          0    высшее             0   \n",
       "6670          0            NaN          0    Высшее             0   \n",
       "8574          0            NaN          0   среднее             1   \n",
       "12403         3            NaN          0   среднее             1   \n",
       "13741         0            NaN          0   среднее             1   \n",
       "19829         0            NaN          0   среднее             1   \n",
       "\n",
       "               family_status  family_status_id gender income_type  debt  \\\n",
       "1890   Не женат / не замужем                 4      F   сотрудник     0   \n",
       "2284          вдовец / вдова                 2      F   пенсионер     0   \n",
       "4064        гражданский брак                 1      M   компаньон     0   \n",
       "5014         женат / замужем                 0      F   компаньон     0   \n",
       "6411        гражданский брак                 1      F   пенсионер     0   \n",
       "6670               в разводе                 3      F   пенсионер     0   \n",
       "8574         женат / замужем                 0      F   сотрудник     0   \n",
       "12403        женат / замужем                 0      M   сотрудник     0   \n",
       "13741       гражданский брак                 1      F   сотрудник     0   \n",
       "19829        женат / замужем                 0      F   сотрудник     0   \n",
       "\n",
       "       total_income                                purpose  \n",
       "1890            NaN                                  жилье  \n",
       "2284            NaN                           недвижимость  \n",
       "4064            NaN                           ремонт жилью  \n",
       "5014            NaN                   покупка недвижимости  \n",
       "6411            NaN                                свадьба  \n",
       "6670            NaN             покупка жилой недвижимости  \n",
       "8574            NaN                           недвижимость  \n",
       "12403           NaN  операции с коммерческой недвижимостью  \n",
       "13741           NaN                  на проведение свадьбы  \n",
       "19829           NaN                                  жилье  "
      ]
     },
     "execution_count": 19,
     "metadata": {},
     "output_type": "execute_result"
    }
   ],
   "source": [
    "# всего 10 строк. посмотим их\n",
    "data[(data['dob_years'] == 0) & data['days_employed'].isna()]"
   ]
  },
  {
   "cell_type": "markdown",
   "metadata": {},
   "source": [
    "10 записей из 21525 составляют менее 0.05% при заполнения медианными знечениями ощутимого влияния на конечный результт не окажут. Можно удалить"
   ]
  },
  {
   "cell_type": "code",
   "execution_count": 20,
   "metadata": {},
   "outputs": [
    {
     "data": {
      "text/html": [
       "<div>\n",
       "<style scoped>\n",
       "    .dataframe tbody tr th:only-of-type {\n",
       "        vertical-align: middle;\n",
       "    }\n",
       "\n",
       "    .dataframe tbody tr th {\n",
       "        vertical-align: top;\n",
       "    }\n",
       "\n",
       "    .dataframe thead th {\n",
       "        text-align: right;\n",
       "    }\n",
       "</style>\n",
       "<table border=\"1\" class=\"dataframe\">\n",
       "  <thead>\n",
       "    <tr style=\"text-align: right;\">\n",
       "      <th></th>\n",
       "      <th>children</th>\n",
       "      <th>days_employed</th>\n",
       "      <th>dob_years</th>\n",
       "      <th>education</th>\n",
       "      <th>education_id</th>\n",
       "      <th>family_status</th>\n",
       "      <th>family_status_id</th>\n",
       "      <th>gender</th>\n",
       "      <th>income_type</th>\n",
       "      <th>debt</th>\n",
       "      <th>total_income</th>\n",
       "      <th>purpose</th>\n",
       "    </tr>\n",
       "  </thead>\n",
       "  <tbody>\n",
       "  </tbody>\n",
       "</table>\n",
       "</div>"
      ],
      "text/plain": [
       "Empty DataFrame\n",
       "Columns: [children, days_employed, dob_years, education, education_id, family_status, family_status_id, gender, income_type, debt, total_income, purpose]\n",
       "Index: []"
      ]
     },
     "execution_count": 20,
     "metadata": {},
     "output_type": "execute_result"
    }
   ],
   "source": [
    "# индексы строк для удаления\n",
    "row_indx = data.index[(data['dob_years'] == 0) & data['days_employed'].isna()]\n",
    "# удаляем \n",
    "data = data.drop(row_indx)\n",
    "# проверяем\n",
    "data.loc[(data['dob_years'] == 0) & data['days_employed'].isna()]"
   ]
  },
  {
   "cell_type": "code",
   "execution_count": 21,
   "metadata": {},
   "outputs": [
    {
     "data": {
      "text/plain": [
       "income_type\n",
       "госслужащий     6\n",
       "компаньон      18\n",
       "пенсионер      17\n",
       "сотрудник      50\n",
       "Name: income_type, dtype: int64"
      ]
     },
     "execution_count": 21,
     "metadata": {},
     "output_type": "execute_result"
    }
   ],
   "source": [
    "# группируем строки с возрастом равным 0 по 'income_type'\n",
    "data[data['dob_years'] == 0].groupby('income_type')['income_type'].count()"
   ]
  },
  {
   "cell_type": "code",
   "execution_count": 22,
   "metadata": {},
   "outputs": [
    {
     "data": {
      "text/plain": [
       "income_type\n",
       "безработный       0.00%\n",
       "в декрете         0.00%\n",
       "госслужащий       0.41%\n",
       "компаньон         0.35%\n",
       "пенсионер         0.44%\n",
       "предприниматель   0.00%\n",
       "сотрудник         0.45%\n",
       "студент           0.00%\n",
       "dtype: float64"
      ]
     },
     "metadata": {},
     "output_type": "display_data"
    }
   ],
   "source": [
    "# посмотрим на доли\n",
    "with pd.option_context('display.float_format','{:.2%}'.format):\n",
    "    display(data.groupby('income_type').apply(lambda group : (group['dob_years'] == 0).mean()))"
   ]
  },
  {
   "cell_type": "markdown",
   "metadata": {},
   "source": [
    "Доли несущественны и не окажут значимого влияния на результат исследования."
   ]
  },
  {
   "cell_type": "code",
   "execution_count": 23,
   "metadata": {},
   "outputs": [
    {
     "name": "stdout",
     "output_type": "stream",
     "text": [
      "Минимальный возраст клиента 19.0\n",
      "Максимальный возраст клиента 75.0\n"
     ]
    }
   ],
   "source": [
    "# меняем все нулевые dob на медианные значения в группах 'income_type'\n",
    "for i in data['income_type'].unique():\n",
    "    dob_mediana = data.loc[(data['income_type'] == i) & data['dob_years'] != 0]['dob_years'].median()\n",
    "    data.loc[(data['income_type'] == i) & (data['dob_years'] == 0), 'dob_years'] = dob_mediana \n",
    "# проверка\n",
    "print ('Минимальный возраст клиента', data['dob_years'].min())\n",
    "print ('Максимальный возраст клиента', data['dob_years'].max())"
   ]
  },
  {
   "cell_type": "markdown",
   "metadata": {},
   "source": [
    "Посмотрим на наличее ошибок во взаимосвязи стажа и возраста клиентов."
   ]
  },
  {
   "cell_type": "code",
   "execution_count": 24,
   "metadata": {},
   "outputs": [
    {
     "name": "stdout",
     "output_type": "stream",
     "text": [
      "Число записей по категориям для которых стаж больше возраста: 53\n",
      "пенсионер      51\n",
      "безработный     2\n",
      "Name: income_type, dtype: int64\n"
     ]
    }
   ],
   "source": [
    "# Записи для которых стаж больше возраста.\n",
    "print ('Число записей по категориям для которых стаж больше возраста:', end = ' ')\n",
    "print (data.loc[data['dob_years'] < data['days_employed']/366]['income_type'].count())\n",
    "print (data.loc[data['dob_years'] < data['days_employed']/366]['income_type'].value_counts())"
   ]
  },
  {
   "cell_type": "code",
   "execution_count": 25,
   "metadata": {},
   "outputs": [
    {
     "data": {
      "text/html": [
       "<div>\n",
       "<style scoped>\n",
       "    .dataframe tbody tr th:only-of-type {\n",
       "        vertical-align: middle;\n",
       "    }\n",
       "\n",
       "    .dataframe tbody tr th {\n",
       "        vertical-align: top;\n",
       "    }\n",
       "\n",
       "    .dataframe thead th {\n",
       "        text-align: right;\n",
       "    }\n",
       "</style>\n",
       "<table border=\"1\" class=\"dataframe\">\n",
       "  <thead>\n",
       "    <tr style=\"text-align: right;\">\n",
       "      <th></th>\n",
       "      <th>children</th>\n",
       "      <th>days_employed</th>\n",
       "      <th>dob_years</th>\n",
       "      <th>education</th>\n",
       "      <th>education_id</th>\n",
       "      <th>family_status</th>\n",
       "      <th>family_status_id</th>\n",
       "      <th>gender</th>\n",
       "      <th>income_type</th>\n",
       "      <th>debt</th>\n",
       "      <th>total_income</th>\n",
       "      <th>purpose</th>\n",
       "    </tr>\n",
       "  </thead>\n",
       "  <tbody>\n",
       "    <tr>\n",
       "      <th>157</th>\n",
       "      <td>0</td>\n",
       "      <td>14517.251167</td>\n",
       "      <td>38.0</td>\n",
       "      <td>среднее</td>\n",
       "      <td>1</td>\n",
       "      <td>женат / замужем</td>\n",
       "      <td>0</td>\n",
       "      <td>F</td>\n",
       "      <td>пенсионер</td>\n",
       "      <td>1</td>\n",
       "      <td>113560.650035</td>\n",
       "      <td>сделка с автомобилем</td>\n",
       "    </tr>\n",
       "    <tr>\n",
       "      <th>751</th>\n",
       "      <td>0</td>\n",
       "      <td>16281.477669</td>\n",
       "      <td>41.0</td>\n",
       "      <td>среднее</td>\n",
       "      <td>1</td>\n",
       "      <td>женат / замужем</td>\n",
       "      <td>0</td>\n",
       "      <td>M</td>\n",
       "      <td>пенсионер</td>\n",
       "      <td>0</td>\n",
       "      <td>151898.693438</td>\n",
       "      <td>операции со своей недвижимостью</td>\n",
       "    </tr>\n",
       "    <tr>\n",
       "      <th>776</th>\n",
       "      <td>0</td>\n",
       "      <td>15222.356680</td>\n",
       "      <td>38.0</td>\n",
       "      <td>среднее</td>\n",
       "      <td>1</td>\n",
       "      <td>женат / замужем</td>\n",
       "      <td>0</td>\n",
       "      <td>F</td>\n",
       "      <td>пенсионер</td>\n",
       "      <td>0</td>\n",
       "      <td>73859.425084</td>\n",
       "      <td>покупка недвижимости</td>\n",
       "    </tr>\n",
       "    <tr>\n",
       "      <th>1242</th>\n",
       "      <td>0</td>\n",
       "      <td>13948.510826</td>\n",
       "      <td>22.0</td>\n",
       "      <td>Среднее</td>\n",
       "      <td>1</td>\n",
       "      <td>Не женат / не замужем</td>\n",
       "      <td>4</td>\n",
       "      <td>F</td>\n",
       "      <td>пенсионер</td>\n",
       "      <td>0</td>\n",
       "      <td>89368.600062</td>\n",
       "      <td>получение высшего образования</td>\n",
       "    </tr>\n",
       "    <tr>\n",
       "      <th>1383</th>\n",
       "      <td>0</td>\n",
       "      <td>14741.783820</td>\n",
       "      <td>37.0</td>\n",
       "      <td>среднее</td>\n",
       "      <td>1</td>\n",
       "      <td>вдовец / вдова</td>\n",
       "      <td>2</td>\n",
       "      <td>F</td>\n",
       "      <td>пенсионер</td>\n",
       "      <td>0</td>\n",
       "      <td>216452.226085</td>\n",
       "      <td>строительство недвижимости</td>\n",
       "    </tr>\n",
       "  </tbody>\n",
       "</table>\n",
       "</div>"
      ],
      "text/plain": [
       "      children  days_employed  dob_years education  education_id  \\\n",
       "157          0   14517.251167       38.0   среднее             1   \n",
       "751          0   16281.477669       41.0   среднее             1   \n",
       "776          0   15222.356680       38.0   среднее             1   \n",
       "1242         0   13948.510826       22.0   Среднее             1   \n",
       "1383         0   14741.783820       37.0   среднее             1   \n",
       "\n",
       "              family_status  family_status_id gender income_type  debt  \\\n",
       "157         женат / замужем                 0      F   пенсионер     1   \n",
       "751         женат / замужем                 0      M   пенсионер     0   \n",
       "776         женат / замужем                 0      F   пенсионер     0   \n",
       "1242  Не женат / не замужем                 4      F   пенсионер     0   \n",
       "1383         вдовец / вдова                 2      F   пенсионер     0   \n",
       "\n",
       "       total_income                          purpose  \n",
       "157   113560.650035             сделка с автомобилем  \n",
       "751   151898.693438  операции со своей недвижимостью  \n",
       "776    73859.425084             покупка недвижимости  \n",
       "1242   89368.600062    получение высшего образования  \n",
       "1383  216452.226085       строительство недвижимости  "
      ]
     },
     "execution_count": 25,
     "metadata": {},
     "output_type": "execute_result"
    }
   ],
   "source": [
    "# Посмотрим на первые 5 записей для которых стаж больше возраста\n",
    "data.loc[data['dob_years'] < data['days_employed']/366].head()"
   ]
  },
  {
   "cell_type": "markdown",
   "metadata": {},
   "source": [
    "Из данных видно, что данные по стажу близки к теоретическому максимальному стажу для группы 'пенсионер', а возраст не соответствует \"days_employed\" и \"income_type\". Т.е. будем полагать, что этой группы записей ошибочным являются данные столбца 'dob_years' заменим их на расчётный возраст по формуле- (стаж/365 + 16)"
   ]
  },
  {
   "cell_type": "code",
   "execution_count": 26,
   "metadata": {},
   "outputs": [
    {
     "name": "stdout",
     "output_type": "stream",
     "text": [
      "Число записей по категориям для которых стаж больше возраста: 0\n"
     ]
    }
   ],
   "source": [
    "data.loc[data['dob_years'] < data['days_employed']/366, 'dob_years'] = data['days_employed'] / 365 + 16\n",
    "# проверка\n",
    "print ('Число записей по категориям для которых стаж больше возраста:', end = ' ')\n",
    "print (data.loc[data['dob_years'] < data['days_employed']/366]['income_type'].count())\n",
    "if data.loc[data['dob_years'] < data['days_employed']/366]['income_type'].count() != 0:\n",
    "    print (data.loc[data['dob_years'] < data['days_employed']/366]['income_type'].value_counts())"
   ]
  },
  {
   "cell_type": "code",
   "execution_count": 27,
   "metadata": {},
   "outputs": [
    {
     "name": "stdout",
     "output_type": "stream",
     "text": [
      "Число записей по категориям для которых стаж больше трудоспособного возраста: 828\n",
      "пенсионер      811\n",
      "сотрудник       11\n",
      "компаньон        4\n",
      "госслужащий      2\n",
      "Name: income_type, dtype: int64\n"
     ]
    }
   ],
   "source": [
    "# Записи для которых стаж больше трудоспособного возраста.\n",
    "# Здесь трудоспособным возрастом будем считать 14 лет.\n",
    "print ('Число записей по категориям для которых стаж больше трудоспособного возраста:', end = ' ')\n",
    "print (data.loc[data['dob_years'] -14 < data['days_employed']/366]['income_type'].count())\n",
    "print (data.loc[data['dob_years'] -14 < data['days_employed']/366]['income_type'].value_counts())"
   ]
  },
  {
   "cell_type": "code",
   "execution_count": 28,
   "metadata": {},
   "outputs": [
    {
     "data": {
      "text/html": [
       "<div>\n",
       "<style scoped>\n",
       "    .dataframe tbody tr th:only-of-type {\n",
       "        vertical-align: middle;\n",
       "    }\n",
       "\n",
       "    .dataframe tbody tr th {\n",
       "        vertical-align: top;\n",
       "    }\n",
       "\n",
       "    .dataframe thead th {\n",
       "        text-align: right;\n",
       "    }\n",
       "</style>\n",
       "<table border=\"1\" class=\"dataframe\">\n",
       "  <thead>\n",
       "    <tr style=\"text-align: right;\">\n",
       "      <th></th>\n",
       "      <th>children</th>\n",
       "      <th>days_employed</th>\n",
       "      <th>dob_years</th>\n",
       "      <th>education</th>\n",
       "      <th>education_id</th>\n",
       "      <th>family_status</th>\n",
       "      <th>family_status_id</th>\n",
       "      <th>gender</th>\n",
       "      <th>income_type</th>\n",
       "      <th>debt</th>\n",
       "      <th>total_income</th>\n",
       "      <th>purpose</th>\n",
       "    </tr>\n",
       "  </thead>\n",
       "  <tbody>\n",
       "    <tr>\n",
       "      <th>18</th>\n",
       "      <td>0</td>\n",
       "      <td>16678.380705</td>\n",
       "      <td>53.0</td>\n",
       "      <td>среднее</td>\n",
       "      <td>1</td>\n",
       "      <td>вдовец / вдова</td>\n",
       "      <td>2</td>\n",
       "      <td>F</td>\n",
       "      <td>пенсионер</td>\n",
       "      <td>0</td>\n",
       "      <td>56823.777243</td>\n",
       "      <td>на покупку подержанного автомобиля</td>\n",
       "    </tr>\n",
       "    <tr>\n",
       "      <th>98</th>\n",
       "      <td>0</td>\n",
       "      <td>15204.425239</td>\n",
       "      <td>54.0</td>\n",
       "      <td>высшее</td>\n",
       "      <td>0</td>\n",
       "      <td>женат / замужем</td>\n",
       "      <td>0</td>\n",
       "      <td>F</td>\n",
       "      <td>пенсионер</td>\n",
       "      <td>0</td>\n",
       "      <td>199707.298524</td>\n",
       "      <td>покупка жилья для сдачи</td>\n",
       "    </tr>\n",
       "    <tr>\n",
       "      <th>178</th>\n",
       "      <td>0</td>\n",
       "      <td>16488.681725</td>\n",
       "      <td>59.0</td>\n",
       "      <td>среднее</td>\n",
       "      <td>1</td>\n",
       "      <td>вдовец / вдова</td>\n",
       "      <td>2</td>\n",
       "      <td>F</td>\n",
       "      <td>пенсионер</td>\n",
       "      <td>0</td>\n",
       "      <td>87268.778786</td>\n",
       "      <td>приобретение автомобиля</td>\n",
       "    </tr>\n",
       "    <tr>\n",
       "      <th>206</th>\n",
       "      <td>0</td>\n",
       "      <td>15163.536736</td>\n",
       "      <td>54.0</td>\n",
       "      <td>Среднее</td>\n",
       "      <td>1</td>\n",
       "      <td>женат / замужем</td>\n",
       "      <td>0</td>\n",
       "      <td>F</td>\n",
       "      <td>пенсионер</td>\n",
       "      <td>0</td>\n",
       "      <td>267172.709200</td>\n",
       "      <td>получение образования</td>\n",
       "    </tr>\n",
       "    <tr>\n",
       "      <th>217</th>\n",
       "      <td>0</td>\n",
       "      <td>16023.746735</td>\n",
       "      <td>54.0</td>\n",
       "      <td>среднее</td>\n",
       "      <td>1</td>\n",
       "      <td>гражданский брак</td>\n",
       "      <td>1</td>\n",
       "      <td>F</td>\n",
       "      <td>пенсионер</td>\n",
       "      <td>0</td>\n",
       "      <td>269589.005129</td>\n",
       "      <td>строительство собственной недвижимости</td>\n",
       "    </tr>\n",
       "  </tbody>\n",
       "</table>\n",
       "</div>"
      ],
      "text/plain": [
       "     children  days_employed  dob_years education  education_id  \\\n",
       "18          0   16678.380705       53.0   среднее             1   \n",
       "98          0   15204.425239       54.0    высшее             0   \n",
       "178         0   16488.681725       59.0   среднее             1   \n",
       "206         0   15163.536736       54.0   Среднее             1   \n",
       "217         0   16023.746735       54.0   среднее             1   \n",
       "\n",
       "        family_status  family_status_id gender income_type  debt  \\\n",
       "18     вдовец / вдова                 2      F   пенсионер     0   \n",
       "98    женат / замужем                 0      F   пенсионер     0   \n",
       "178    вдовец / вдова                 2      F   пенсионер     0   \n",
       "206   женат / замужем                 0      F   пенсионер     0   \n",
       "217  гражданский брак                 1      F   пенсионер     0   \n",
       "\n",
       "      total_income                                 purpose  \n",
       "18    56823.777243      на покупку подержанного автомобиля  \n",
       "98   199707.298524                 покупка жилья для сдачи  \n",
       "178   87268.778786                 приобретение автомобиля  \n",
       "206  267172.709200                   получение образования  \n",
       "217  269589.005129  строительство собственной недвижимости  "
      ]
     },
     "execution_count": 28,
     "metadata": {},
     "output_type": "execute_result"
    }
   ],
   "source": [
    "# Посмотрим на первые 5 записей для которых стаж больше трудоспособного возраста\n",
    "data.loc[data['dob_years'] - 14 < data['days_employed']/366].head()"
   ]
  },
  {
   "cell_type": "markdown",
   "metadata": {},
   "source": [
    "Видно, что для этих записей ошибка несущественна. Т.е. стаж примерно соотвествуеет возрасту."
   ]
  },
  {
   "cell_type": "code",
   "execution_count": 29,
   "metadata": {},
   "outputs": [
    {
     "data": {
      "text/plain": [
       "55.0    99\n",
       "54.0    93\n",
       "52.0    88\n",
       "56.0    87\n",
       "53.0    82\n",
       "51.0    73\n",
       "57.0    65\n",
       "50.0    62\n",
       "58.0    34\n",
       "49.0    30\n",
       "48.0    21\n",
       "59.0    18\n",
       "47.0    15\n",
       "46.0    14\n",
       "44.0    10\n",
       "45.0     9\n",
       "42.0     7\n",
       "43.0     7\n",
       "41.0     4\n",
       "36.0     2\n",
       "61.0     2\n",
       "39.0     2\n",
       "40.0     2\n",
       "29.0     1\n",
       "38.0     1\n",
       "Name: dob_years, dtype: int64"
      ]
     },
     "execution_count": 29,
     "metadata": {},
     "output_type": "execute_result"
    }
   ],
   "source": [
    "# посмотрим распределение возрастов в этой группе\n",
    "data.loc[data['dob_years'] - 14 < data['days_employed']/366]['dob_years'].value_counts()"
   ]
  },
  {
   "cell_type": "code",
   "execution_count": 30,
   "metadata": {},
   "outputs": [
    {
     "name": "stdout",
     "output_type": "stream",
     "text": [
      "Минимальный возраст начала трудового стажа 13.999647344011173\n"
     ]
    }
   ],
   "source": [
    "# Оценим максимальную ошибку по группе\n",
    "data1 = data.loc[data['dob_years'] - 14 < data['days_employed']/366]\n",
    "print ('Минимальный возраст начала трудового стажа', (data1['dob_years']-data1['days_employed']/366).max())\n"
   ]
  },
  {
   "cell_type": "markdown",
   "metadata": {},
   "source": [
    "Так как максимальная ошибка близка к теоретически принятому значению в 14 лет, оставляем данные без изменений."
   ]
  },
  {
   "cell_type": "markdown",
   "metadata": {},
   "source": [
    "Установим возрастные группы для определения стажа в пропусках."
   ]
  },
  {
   "cell_type": "code",
   "execution_count": 31,
   "metadata": {},
   "outputs": [
    {
     "data": {
      "text/html": [
       "<div>\n",
       "<style scoped>\n",
       "    .dataframe tbody tr th:only-of-type {\n",
       "        vertical-align: middle;\n",
       "    }\n",
       "\n",
       "    .dataframe tbody tr th {\n",
       "        vertical-align: top;\n",
       "    }\n",
       "\n",
       "    .dataframe thead th {\n",
       "        text-align: right;\n",
       "    }\n",
       "</style>\n",
       "<table border=\"1\" class=\"dataframe\">\n",
       "  <thead>\n",
       "    <tr style=\"text-align: right;\">\n",
       "      <th></th>\n",
       "      <th>children</th>\n",
       "      <th>days_employed</th>\n",
       "      <th>dob_years</th>\n",
       "      <th>education</th>\n",
       "      <th>education_id</th>\n",
       "      <th>family_status</th>\n",
       "      <th>family_status_id</th>\n",
       "      <th>gender</th>\n",
       "      <th>income_type</th>\n",
       "      <th>debt</th>\n",
       "      <th>total_income</th>\n",
       "      <th>purpose</th>\n",
       "      <th>age_groups</th>\n",
       "    </tr>\n",
       "  </thead>\n",
       "  <tbody>\n",
       "    <tr>\n",
       "      <th>0</th>\n",
       "      <td>1</td>\n",
       "      <td>8437.673028</td>\n",
       "      <td>42.0</td>\n",
       "      <td>высшее</td>\n",
       "      <td>0</td>\n",
       "      <td>женат / замужем</td>\n",
       "      <td>0</td>\n",
       "      <td>F</td>\n",
       "      <td>сотрудник</td>\n",
       "      <td>0</td>\n",
       "      <td>253875.639453</td>\n",
       "      <td>покупка жилья</td>\n",
       "      <td>4.0</td>\n",
       "    </tr>\n",
       "    <tr>\n",
       "      <th>1</th>\n",
       "      <td>1</td>\n",
       "      <td>4024.803754</td>\n",
       "      <td>36.0</td>\n",
       "      <td>среднее</td>\n",
       "      <td>1</td>\n",
       "      <td>женат / замужем</td>\n",
       "      <td>0</td>\n",
       "      <td>F</td>\n",
       "      <td>сотрудник</td>\n",
       "      <td>0</td>\n",
       "      <td>112080.014102</td>\n",
       "      <td>приобретение автомобиля</td>\n",
       "      <td>3.0</td>\n",
       "    </tr>\n",
       "    <tr>\n",
       "      <th>2</th>\n",
       "      <td>0</td>\n",
       "      <td>5623.422610</td>\n",
       "      <td>33.0</td>\n",
       "      <td>Среднее</td>\n",
       "      <td>1</td>\n",
       "      <td>женат / замужем</td>\n",
       "      <td>0</td>\n",
       "      <td>M</td>\n",
       "      <td>сотрудник</td>\n",
       "      <td>0</td>\n",
       "      <td>145885.952297</td>\n",
       "      <td>покупка жилья</td>\n",
       "      <td>3.0</td>\n",
       "    </tr>\n",
       "    <tr>\n",
       "      <th>3</th>\n",
       "      <td>3</td>\n",
       "      <td>4124.747207</td>\n",
       "      <td>32.0</td>\n",
       "      <td>среднее</td>\n",
       "      <td>1</td>\n",
       "      <td>женат / замужем</td>\n",
       "      <td>0</td>\n",
       "      <td>M</td>\n",
       "      <td>сотрудник</td>\n",
       "      <td>0</td>\n",
       "      <td>267628.550329</td>\n",
       "      <td>дополнительное образование</td>\n",
       "      <td>3.0</td>\n",
       "    </tr>\n",
       "    <tr>\n",
       "      <th>4</th>\n",
       "      <td>0</td>\n",
       "      <td>14177.753002</td>\n",
       "      <td>53.0</td>\n",
       "      <td>среднее</td>\n",
       "      <td>1</td>\n",
       "      <td>гражданский брак</td>\n",
       "      <td>1</td>\n",
       "      <td>F</td>\n",
       "      <td>пенсионер</td>\n",
       "      <td>0</td>\n",
       "      <td>158616.077870</td>\n",
       "      <td>сыграть свадьбу</td>\n",
       "      <td>5.0</td>\n",
       "    </tr>\n",
       "  </tbody>\n",
       "</table>\n",
       "</div>"
      ],
      "text/plain": [
       "   children  days_employed  dob_years education  education_id  \\\n",
       "0         1    8437.673028       42.0    высшее             0   \n",
       "1         1    4024.803754       36.0   среднее             1   \n",
       "2         0    5623.422610       33.0   Среднее             1   \n",
       "3         3    4124.747207       32.0   среднее             1   \n",
       "4         0   14177.753002       53.0   среднее             1   \n",
       "\n",
       "      family_status  family_status_id gender income_type  debt   total_income  \\\n",
       "0   женат / замужем                 0      F   сотрудник     0  253875.639453   \n",
       "1   женат / замужем                 0      F   сотрудник     0  112080.014102   \n",
       "2   женат / замужем                 0      M   сотрудник     0  145885.952297   \n",
       "3   женат / замужем                 0      M   сотрудник     0  267628.550329   \n",
       "4  гражданский брак                 1      F   пенсионер     0  158616.077870   \n",
       "\n",
       "                      purpose  age_groups  \n",
       "0               покупка жилья         4.0  \n",
       "1     приобретение автомобиля         3.0  \n",
       "2               покупка жилья         3.0  \n",
       "3  дополнительное образование         3.0  \n",
       "4             сыграть свадьбу         5.0  "
      ]
     },
     "execution_count": 31,
     "metadata": {},
     "output_type": "execute_result"
    }
   ],
   "source": [
    "# \"ширина\" группы 10лет, т.е., например, группа 3 это клиенты с dob от 30 до 39 лет\n",
    "data['age_groups'] = (data ['dob_years'] + 1) // 10\n",
    "data.head()"
   ]
  },
  {
   "cell_type": "code",
   "execution_count": 32,
   "metadata": {},
   "outputs": [
    {
     "data": {
      "text/plain": [
       "age_groups\n",
       "2    2631\n",
       "3    5620\n",
       "4    5490\n",
       "5    4770\n",
       "6    2748\n",
       "7     256\n",
       "Name: age_groups, dtype: int64"
      ]
     },
     "execution_count": 32,
     "metadata": {},
     "output_type": "execute_result"
    }
   ],
   "source": [
    "# посмотрим распределение по возрастным группам\n",
    "data['age_groups'] = data['age_groups'].astype('int')\n",
    "data.groupby('age_groups')['age_groups'].count()\n"
   ]
  },
  {
   "cell_type": "code",
   "execution_count": 33,
   "metadata": {},
   "outputs": [
    {
     "name": "stdout",
     "output_type": "stream",
     "text": [
      "В 7-ой группе 16 пропусков, что составляет 6.25 % от общего число в группе\n"
     ]
    }
   ],
   "source": [
    "# посмотрим сколько пропусков в меньшей, 7-ой группе\n",
    "data_miss_in7 = data.loc[(data['age_groups'] == 7) & (data['days_employed'].isna() == True)]['age_groups'].count()\n",
    "print('В 7-ой группе', data_miss_in7,'пропусков, что составляет', data_miss_in7/256*100, '% от общего число в группе' )"
   ]
  },
  {
   "cell_type": "markdown",
   "metadata": {},
   "source": [
    "Доля незначительна, оставляем группы без изменений."
   ]
  },
  {
   "cell_type": "markdown",
   "metadata": {},
   "source": [
    "Обработаем пропуски в колонке 'days_employed'. Меняем на медианные значения внутри групп."
   ]
  },
  {
   "cell_type": "code",
   "execution_count": 34,
   "metadata": {},
   "outputs": [],
   "source": [
    "for i in data['age_groups'].unique():\n",
    "    gr_median = data.loc[(data['age_groups'] == i) & data['days_employed'].isna() == False]['days_employed'].median()\n",
    "    data.loc[(data['age_groups'] == i) & (data['days_employed'].isna()), 'days_employed'] = gr_median"
   ]
  },
  {
   "cell_type": "markdown",
   "metadata": {},
   "source": [
    "Проверяем пропуски по колонке \"days_employed\""
   ]
  },
  {
   "cell_type": "code",
   "execution_count": 35,
   "metadata": {},
   "outputs": [
    {
     "name": "stdout",
     "output_type": "stream",
     "text": [
      "<class 'pandas.core.frame.DataFrame'>\n",
      "Int64Index: 21515 entries, 0 to 21524\n",
      "Data columns (total 13 columns):\n",
      " #   Column            Non-Null Count  Dtype  \n",
      "---  ------            --------------  -----  \n",
      " 0   children          21515 non-null  int64  \n",
      " 1   days_employed     21515 non-null  float64\n",
      " 2   dob_years         21515 non-null  float64\n",
      " 3   education         21515 non-null  object \n",
      " 4   education_id      21515 non-null  int64  \n",
      " 5   family_status     21515 non-null  object \n",
      " 6   family_status_id  21515 non-null  int64  \n",
      " 7   gender            21515 non-null  object \n",
      " 8   income_type       21515 non-null  object \n",
      " 9   debt              21515 non-null  int64  \n",
      " 10  total_income      19351 non-null  float64\n",
      " 11  purpose           21515 non-null  object \n",
      " 12  age_groups        21515 non-null  int32  \n",
      "dtypes: float64(3), int32(1), int64(4), object(5)\n",
      "memory usage: 2.7+ MB\n"
     ]
    }
   ],
   "source": [
    "data.info()"
   ]
  },
  {
   "cell_type": "code",
   "execution_count": 36,
   "metadata": {},
   "outputs": [],
   "source": [
    "# вспомогательный столбец \"age_groups\" нам больше не нужен, удалим его\n",
    "data.drop('age_groups', axis=1, inplace=True)"
   ]
  },
  {
   "cell_type": "markdown",
   "metadata": {},
   "source": [
    "**Роботаем с пропусками в столбце 'total_income'.**\n",
    "Бедем менять на медиану для каждой из категорий 'income_type'. Выбор медианного значения обусловлено меньшему влиянию \"выбросов\", по сравлению с арифметическим средним.\n",
    "Создадим цикл по значениям 'income_type'."
   ]
  },
  {
   "cell_type": "code",
   "execution_count": 37,
   "metadata": {},
   "outputs": [
    {
     "data": {
      "text/plain": [
       "array(['сотрудник', 'пенсионер', 'компаньон', 'госслужащий',\n",
       "       'безработный', 'предприниматель', 'студент', 'в декрете'],\n",
       "      dtype=object)"
      ]
     },
     "execution_count": 37,
     "metadata": {},
     "output_type": "execute_result"
    }
   ],
   "source": [
    "# посмотрим на уникальные значения 'income_type'\n",
    "data['income_type'].unique()"
   ]
  },
  {
   "cell_type": "code",
   "execution_count": 38,
   "metadata": {},
   "outputs": [
    {
     "name": "stdout",
     "output_type": "stream",
     "text": [
      "<class 'pandas.core.frame.DataFrame'>\n",
      "Int64Index: 21515 entries, 0 to 21524\n",
      "Data columns (total 12 columns):\n",
      " #   Column            Non-Null Count  Dtype  \n",
      "---  ------            --------------  -----  \n",
      " 0   children          21515 non-null  int64  \n",
      " 1   days_employed     21515 non-null  float64\n",
      " 2   dob_years         21515 non-null  float64\n",
      " 3   education         21515 non-null  object \n",
      " 4   education_id      21515 non-null  int64  \n",
      " 5   family_status     21515 non-null  object \n",
      " 6   family_status_id  21515 non-null  int64  \n",
      " 7   gender            21515 non-null  object \n",
      " 8   income_type       21515 non-null  object \n",
      " 9   debt              21515 non-null  int64  \n",
      " 10  total_income      21515 non-null  float64\n",
      " 11  purpose           21515 non-null  object \n",
      "dtypes: float64(3), int64(4), object(5)\n",
      "memory usage: 2.6+ MB\n"
     ]
    }
   ],
   "source": [
    "# создадим цикл для перебора категорий 'income_type'\n",
    "for i in data['income_type'].unique():\n",
    "    # находим медиану для категории i\n",
    "    ti_median = data.loc[data['income_type'] == i]['total_income'].median()\n",
    "    # меняем пропуски на медиану, при совпадении категории\n",
    "    data.loc[(data['income_type'] == i) & data['total_income'].isna(), 'total_income'] = ti_median  \n",
    "# проверка\n",
    "data.info()"
   ]
  },
  {
   "cell_type": "markdown",
   "metadata": {},
   "source": [
    "Проверим ошибки в полях 'children',  'education_id',  'family_status_id',  'gender',  'debt'"
   ]
  },
  {
   "cell_type": "code",
   "execution_count": 39,
   "metadata": {},
   "outputs": [
    {
     "name": "stdout",
     "output_type": "stream",
     "text": [
      "Минимальное количество детей -1\n",
      "Максимальное количество детей 20\n"
     ]
    }
   ],
   "source": [
    "# Крайние значения по столбцу 'children'\n",
    "print ('Минимальное количество детей', data['children'].min())\n",
    "print ('Максимальное количество детей', data['children'].max())"
   ]
  },
  {
   "cell_type": "code",
   "execution_count": 40,
   "metadata": {},
   "outputs": [
    {
     "name": "stdout",
     "output_type": "stream",
     "text": [
      "Количество записей со значением -1 в колонке 'children' : 47\n"
     ]
    }
   ],
   "source": [
    "# количество записей со значением в колонке 'children' -1\n",
    "print (\"Количество записей со значением -1 в колонке 'children' :\", data.loc[data['children'] == -1]['children'].count())"
   ]
  },
  {
   "cell_type": "code",
   "execution_count": 41,
   "metadata": {},
   "outputs": [
    {
     "name": "stdout",
     "output_type": "stream",
     "text": [
      "Количество записей со значением -1 в колонке 'children' : 0\n"
     ]
    }
   ],
   "source": [
    "# Вероятно, ошибка свызана с указанием тире в поле дети. Меняем на 1.\n",
    "data.loc[(data['children'] == -1), 'children'] = data['children'].abs()\n",
    "# проверка\n",
    "print (\"Количество записей со значением -1 в колонке 'children' :\", data.loc[data['children'] == -1]['children'].count())"
   ]
  },
  {
   "cell_type": "code",
   "execution_count": 42,
   "metadata": {},
   "outputs": [
    {
     "name": "stdout",
     "output_type": "stream",
     "text": [
      "Количество записей со значением 20 в колонке 'children' : 76\n"
     ]
    }
   ],
   "source": [
    "# количество записей со значением в колонке 'children' 20\n",
    "print (\"Количество записей со значением 20 в колонке 'children' :\", data.loc[data['children'] == 20]['children'].count())"
   ]
  },
  {
   "cell_type": "code",
   "execution_count": 43,
   "metadata": {},
   "outputs": [
    {
     "name": "stdout",
     "output_type": "stream",
     "text": [
      "Количество записей со значением 20 в колонке 'children' : 0\n"
     ]
    }
   ],
   "source": [
    "# Вероятно, ошибка, приписан лишний 0. Примем дла этих записей число детей равным 2.\n",
    "data.loc[(data['children'] == 20), 'children'] = 2\n",
    "# проверка\n",
    "print (\"Количество записей со значением 20 в колонке 'children' :\", data.loc[data['children'] == 20]['children'].count())"
   ]
  },
  {
   "cell_type": "code",
   "execution_count": 44,
   "metadata": {
    "scrolled": true
   },
   "outputs": [
    {
     "data": {
      "text/plain": [
       "array([1, 0, 3, 2, 4, 5], dtype=int64)"
      ]
     },
     "execution_count": 44,
     "metadata": {},
     "output_type": "execute_result"
    }
   ],
   "source": [
    "# Уникальные значения столбца 'children'\n",
    "data['children'].unique()"
   ]
  },
  {
   "cell_type": "code",
   "execution_count": 45,
   "metadata": {
    "scrolled": true
   },
   "outputs": [
    {
     "data": {
      "text/plain": [
       "array([0, 1, 2, 3, 4], dtype=int64)"
      ]
     },
     "execution_count": 45,
     "metadata": {},
     "output_type": "execute_result"
    }
   ],
   "source": [
    "# Уникальные значения столбца 'education_id'\n",
    "data['education_id'].unique()"
   ]
  },
  {
   "cell_type": "code",
   "execution_count": 46,
   "metadata": {},
   "outputs": [
    {
     "data": {
      "text/plain": [
       "array([0, 1, 2, 3, 4], dtype=int64)"
      ]
     },
     "execution_count": 46,
     "metadata": {},
     "output_type": "execute_result"
    }
   ],
   "source": [
    "# Уникальные значения столбца 'family_status_id'\n",
    "data['family_status_id'].unique()"
   ]
  },
  {
   "cell_type": "code",
   "execution_count": 47,
   "metadata": {},
   "outputs": [
    {
     "data": {
      "text/plain": [
       "array(['F', 'M', 'XNA'], dtype=object)"
      ]
     },
     "execution_count": 47,
     "metadata": {},
     "output_type": "execute_result"
    }
   ],
   "source": [
    "# Уникальные значения столбца 'gender'\n",
    "data['gender'].unique()"
   ]
  },
  {
   "cell_type": "code",
   "execution_count": 48,
   "metadata": {},
   "outputs": [
    {
     "data": {
      "text/plain": [
       "1"
      ]
     },
     "execution_count": 48,
     "metadata": {},
     "output_type": "execute_result"
    }
   ],
   "source": [
    "# Проверим кол-во значений 'XNA'\n",
    "data[data['gender'] == 'XNA']['gender'].count()"
   ]
  },
  {
   "cell_type": "markdown",
   "metadata": {},
   "source": [
    "Всего одна запись. Оставляем без изменения."
   ]
  },
  {
   "cell_type": "code",
   "execution_count": 49,
   "metadata": {},
   "outputs": [
    {
     "data": {
      "text/plain": [
       "array([0, 1], dtype=int64)"
      ]
     },
     "execution_count": 49,
     "metadata": {},
     "output_type": "execute_result"
    }
   ],
   "source": [
    "# Уникальные значения столбца 'debt'\n",
    "data['debt'].unique()"
   ]
  },
  {
   "cell_type": "markdown",
   "metadata": {},
   "source": [
    "**Вывод**"
   ]
  },
  {
   "cell_type": "markdown",
   "metadata": {},
   "source": [
    "Исходные данные содержали связанные пропуски в столбцах \"days_employed\" и \"total_income\".\n",
    "Пропуски были заменены медианными значениями внутри соответствующих категорий.\n",
    "Помимо пропусков данные проверены на наличие ананальных значений. Найденные значения исправлены."
   ]
  },
  {
   "cell_type": "markdown",
   "metadata": {},
   "source": [
    "### Замена типа данных"
   ]
  },
  {
   "cell_type": "markdown",
   "metadata": {},
   "source": [
    "Три столбца данных содержат данные типа float. Дробные части данных в этих столбцах не окажут значимого влияния на цели исследования. Преобразуем их в целочисленные значения."
   ]
  },
  {
   "cell_type": "code",
   "execution_count": 50,
   "metadata": {},
   "outputs": [],
   "source": [
    "data['days_employed'] = data['days_employed'].astype('int')\n",
    "data['dob_years'] = data['dob_years'].astype('int')\n",
    "data['total_income'] = data['total_income'].astype('int')"
   ]
  },
  {
   "cell_type": "code",
   "execution_count": 51,
   "metadata": {},
   "outputs": [
    {
     "name": "stdout",
     "output_type": "stream",
     "text": [
      "<class 'pandas.core.frame.DataFrame'>\n",
      "Int64Index: 21515 entries, 0 to 21524\n",
      "Data columns (total 12 columns):\n",
      " #   Column            Non-Null Count  Dtype \n",
      "---  ------            --------------  ----- \n",
      " 0   children          21515 non-null  int64 \n",
      " 1   days_employed     21515 non-null  int32 \n",
      " 2   dob_years         21515 non-null  int32 \n",
      " 3   education         21515 non-null  object\n",
      " 4   education_id      21515 non-null  int64 \n",
      " 5   family_status     21515 non-null  object\n",
      " 6   family_status_id  21515 non-null  int64 \n",
      " 7   gender            21515 non-null  object\n",
      " 8   income_type       21515 non-null  object\n",
      " 9   debt              21515 non-null  int64 \n",
      " 10  total_income      21515 non-null  int32 \n",
      " 11  purpose           21515 non-null  object\n",
      "dtypes: int32(3), int64(4), object(5)\n",
      "memory usage: 2.4+ MB\n"
     ]
    }
   ],
   "source": [
    "# проверка\n",
    "data.info()"
   ]
  },
  {
   "cell_type": "code",
   "execution_count": 52,
   "metadata": {},
   "outputs": [
    {
     "data": {
      "text/html": [
       "<div>\n",
       "<style scoped>\n",
       "    .dataframe tbody tr th:only-of-type {\n",
       "        vertical-align: middle;\n",
       "    }\n",
       "\n",
       "    .dataframe tbody tr th {\n",
       "        vertical-align: top;\n",
       "    }\n",
       "\n",
       "    .dataframe thead th {\n",
       "        text-align: right;\n",
       "    }\n",
       "</style>\n",
       "<table border=\"1\" class=\"dataframe\">\n",
       "  <thead>\n",
       "    <tr style=\"text-align: right;\">\n",
       "      <th></th>\n",
       "      <th>children</th>\n",
       "      <th>days_employed</th>\n",
       "      <th>dob_years</th>\n",
       "      <th>education</th>\n",
       "      <th>education_id</th>\n",
       "      <th>family_status</th>\n",
       "      <th>family_status_id</th>\n",
       "      <th>gender</th>\n",
       "      <th>income_type</th>\n",
       "      <th>debt</th>\n",
       "      <th>total_income</th>\n",
       "      <th>purpose</th>\n",
       "    </tr>\n",
       "  </thead>\n",
       "  <tbody>\n",
       "    <tr>\n",
       "      <th>0</th>\n",
       "      <td>1</td>\n",
       "      <td>8437</td>\n",
       "      <td>42</td>\n",
       "      <td>высшее</td>\n",
       "      <td>0</td>\n",
       "      <td>женат / замужем</td>\n",
       "      <td>0</td>\n",
       "      <td>F</td>\n",
       "      <td>сотрудник</td>\n",
       "      <td>0</td>\n",
       "      <td>253875</td>\n",
       "      <td>покупка жилья</td>\n",
       "    </tr>\n",
       "    <tr>\n",
       "      <th>1</th>\n",
       "      <td>1</td>\n",
       "      <td>4024</td>\n",
       "      <td>36</td>\n",
       "      <td>среднее</td>\n",
       "      <td>1</td>\n",
       "      <td>женат / замужем</td>\n",
       "      <td>0</td>\n",
       "      <td>F</td>\n",
       "      <td>сотрудник</td>\n",
       "      <td>0</td>\n",
       "      <td>112080</td>\n",
       "      <td>приобретение автомобиля</td>\n",
       "    </tr>\n",
       "    <tr>\n",
       "      <th>2</th>\n",
       "      <td>0</td>\n",
       "      <td>5623</td>\n",
       "      <td>33</td>\n",
       "      <td>Среднее</td>\n",
       "      <td>1</td>\n",
       "      <td>женат / замужем</td>\n",
       "      <td>0</td>\n",
       "      <td>M</td>\n",
       "      <td>сотрудник</td>\n",
       "      <td>0</td>\n",
       "      <td>145885</td>\n",
       "      <td>покупка жилья</td>\n",
       "    </tr>\n",
       "    <tr>\n",
       "      <th>3</th>\n",
       "      <td>3</td>\n",
       "      <td>4124</td>\n",
       "      <td>32</td>\n",
       "      <td>среднее</td>\n",
       "      <td>1</td>\n",
       "      <td>женат / замужем</td>\n",
       "      <td>0</td>\n",
       "      <td>M</td>\n",
       "      <td>сотрудник</td>\n",
       "      <td>0</td>\n",
       "      <td>267628</td>\n",
       "      <td>дополнительное образование</td>\n",
       "    </tr>\n",
       "    <tr>\n",
       "      <th>4</th>\n",
       "      <td>0</td>\n",
       "      <td>14177</td>\n",
       "      <td>53</td>\n",
       "      <td>среднее</td>\n",
       "      <td>1</td>\n",
       "      <td>гражданский брак</td>\n",
       "      <td>1</td>\n",
       "      <td>F</td>\n",
       "      <td>пенсионер</td>\n",
       "      <td>0</td>\n",
       "      <td>158616</td>\n",
       "      <td>сыграть свадьбу</td>\n",
       "    </tr>\n",
       "  </tbody>\n",
       "</table>\n",
       "</div>"
      ],
      "text/plain": [
       "   children  days_employed  dob_years education  education_id  \\\n",
       "0         1           8437         42    высшее             0   \n",
       "1         1           4024         36   среднее             1   \n",
       "2         0           5623         33   Среднее             1   \n",
       "3         3           4124         32   среднее             1   \n",
       "4         0          14177         53   среднее             1   \n",
       "\n",
       "      family_status  family_status_id gender income_type  debt  total_income  \\\n",
       "0   женат / замужем                 0      F   сотрудник     0        253875   \n",
       "1   женат / замужем                 0      F   сотрудник     0        112080   \n",
       "2   женат / замужем                 0      M   сотрудник     0        145885   \n",
       "3   женат / замужем                 0      M   сотрудник     0        267628   \n",
       "4  гражданский брак                 1      F   пенсионер     0        158616   \n",
       "\n",
       "                      purpose  \n",
       "0               покупка жилья  \n",
       "1     приобретение автомобиля  \n",
       "2               покупка жилья  \n",
       "3  дополнительное образование  \n",
       "4             сыграть свадьбу  "
      ]
     },
     "execution_count": 52,
     "metadata": {},
     "output_type": "execute_result"
    }
   ],
   "source": [
    "data.head()"
   ]
  },
  {
   "cell_type": "markdown",
   "metadata": {},
   "source": [
    "**Вывод**"
   ]
  },
  {
   "cell_type": "markdown",
   "metadata": {},
   "source": [
    "Произведенные замены типов данных сделали данные столбцов более удобными для визуального восприятия и анализа. Так же уменьшился объем занимаемой памяти."
   ]
  },
  {
   "cell_type": "markdown",
   "metadata": {},
   "source": [
    "### Обработка дубликатов"
   ]
  },
  {
   "cell_type": "markdown",
   "metadata": {},
   "source": [
    "Посмотрим на явные дубликаты"
   ]
  },
  {
   "cell_type": "code",
   "execution_count": 53,
   "metadata": {},
   "outputs": [
    {
     "data": {
      "text/plain": [
       "54"
      ]
     },
     "execution_count": 53,
     "metadata": {},
     "output_type": "execute_result"
    }
   ],
   "source": [
    "data.duplicated().sum()"
   ]
  },
  {
   "cell_type": "markdown",
   "metadata": {},
   "source": [
    "Удалим дубликаты и обновим индексы"
   ]
  },
  {
   "cell_type": "code",
   "execution_count": 54,
   "metadata": {},
   "outputs": [
    {
     "data": {
      "text/plain": [
       "0"
      ]
     },
     "execution_count": 54,
     "metadata": {},
     "output_type": "execute_result"
    }
   ],
   "source": [
    "data = data.drop_duplicates().reset_index(drop=True)\n",
    "# проверка\n",
    "data.duplicated().sum()"
   ]
  },
  {
   "cell_type": "markdown",
   "metadata": {},
   "source": [
    "Проверим на наличие неявных дубликатов. Их наличие возможно в столбцах со строковыми переменными.\n",
    "Для этого посмотрим уникальнае значения."
   ]
  },
  {
   "cell_type": "code",
   "execution_count": 55,
   "metadata": {},
   "outputs": [
    {
     "data": {
      "text/plain": [
       "array(['высшее', 'среднее', 'Среднее', 'СРЕДНЕЕ', 'ВЫСШЕЕ',\n",
       "       'неоконченное высшее', 'начальное', 'Высшее',\n",
       "       'НЕОКОНЧЕННОЕ ВЫСШЕЕ', 'Неоконченное высшее', 'НАЧАЛЬНОЕ',\n",
       "       'Начальное', 'Ученая степень', 'УЧЕНАЯ СТЕПЕНЬ', 'ученая степень'],\n",
       "      dtype=object)"
      ]
     },
     "execution_count": 55,
     "metadata": {},
     "output_type": "execute_result"
    }
   ],
   "source": [
    "data['education'].unique()"
   ]
  },
  {
   "cell_type": "code",
   "execution_count": 56,
   "metadata": {},
   "outputs": [
    {
     "data": {
      "text/plain": [
       "array(['высшее', 'среднее', 'неоконченное высшее', 'начальное',\n",
       "       'ученая степень'], dtype=object)"
      ]
     },
     "execution_count": 56,
     "metadata": {},
     "output_type": "execute_result"
    }
   ],
   "source": [
    "# приведём свсе к нижнему регистру\n",
    "data['education'] = data['education'].str.lower()\n",
    "# проверка\n",
    "data['education'].unique()"
   ]
  },
  {
   "cell_type": "code",
   "execution_count": 57,
   "metadata": {},
   "outputs": [
    {
     "data": {
      "text/plain": [
       "array(['женат / замужем', 'гражданский брак', 'вдовец / вдова',\n",
       "       'в разводе', 'Не женат / не замужем'], dtype=object)"
      ]
     },
     "execution_count": 57,
     "metadata": {},
     "output_type": "execute_result"
    }
   ],
   "source": [
    "data['family_status'].unique()"
   ]
  },
  {
   "cell_type": "code",
   "execution_count": 58,
   "metadata": {},
   "outputs": [
    {
     "data": {
      "text/plain": [
       "array(['женат / замужем', 'гражданский брак', 'вдовец / вдова',\n",
       "       'в разводе', 'не женат / не замужем'], dtype=object)"
      ]
     },
     "execution_count": 58,
     "metadata": {},
     "output_type": "execute_result"
    }
   ],
   "source": [
    "# хотя повторов и нет, но приведем к нижнему регистру\n",
    "data['family_status'] = data['family_status'].str.lower()\n",
    "# проверка\n",
    "data['family_status'].unique()"
   ]
  },
  {
   "cell_type": "code",
   "execution_count": 59,
   "metadata": {},
   "outputs": [
    {
     "data": {
      "text/plain": [
       "array(['сотрудник', 'пенсионер', 'компаньон', 'госслужащий',\n",
       "       'безработный', 'предприниматель', 'студент', 'в декрете'],\n",
       "      dtype=object)"
      ]
     },
     "execution_count": 59,
     "metadata": {},
     "output_type": "execute_result"
    }
   ],
   "source": [
    "data['income_type'].unique()"
   ]
  },
  {
   "cell_type": "code",
   "execution_count": 60,
   "metadata": {},
   "outputs": [
    {
     "data": {
      "text/plain": [
       "array(['покупка жилья', 'приобретение автомобиля',\n",
       "       'дополнительное образование', 'сыграть свадьбу',\n",
       "       'операции с жильем', 'образование', 'на проведение свадьбы',\n",
       "       'покупка жилья для семьи', 'покупка недвижимости',\n",
       "       'покупка коммерческой недвижимости', 'покупка жилой недвижимости',\n",
       "       'строительство собственной недвижимости', 'недвижимость',\n",
       "       'строительство недвижимости', 'на покупку подержанного автомобиля',\n",
       "       'на покупку своего автомобиля',\n",
       "       'операции с коммерческой недвижимостью',\n",
       "       'строительство жилой недвижимости', 'жилье',\n",
       "       'операции со своей недвижимостью', 'автомобили',\n",
       "       'заняться образованием', 'сделка с подержанным автомобилем',\n",
       "       'получение образования', 'автомобиль', 'свадьба',\n",
       "       'получение дополнительного образования', 'покупка своего жилья',\n",
       "       'операции с недвижимостью', 'получение высшего образования',\n",
       "       'свой автомобиль', 'сделка с автомобилем',\n",
       "       'профильное образование', 'высшее образование',\n",
       "       'покупка жилья для сдачи', 'на покупку автомобиля', 'ремонт жилью',\n",
       "       'заняться высшим образованием'], dtype=object)"
      ]
     },
     "execution_count": 60,
     "metadata": {},
     "output_type": "execute_result"
    }
   ],
   "source": [
    "data['purpose'].unique()"
   ]
  },
  {
   "cell_type": "code",
   "execution_count": 61,
   "metadata": {},
   "outputs": [
    {
     "data": {
      "text/plain": [
       "array(['покупка жилья', 'приобретение автомобиля',\n",
       "       'дополнительное образование', 'сыграть свадьбу',\n",
       "       'операции с жильем', 'образование', 'на проведение свадьбы',\n",
       "       'покупка жилья для семьи', 'покупка недвижимости',\n",
       "       'покупка коммерческой недвижимости', 'покупка жилой недвижимости',\n",
       "       'строительство собственной недвижимости', 'недвижимость',\n",
       "       'строительство недвижимости', 'на покупку подержанного автомобиля',\n",
       "       'на покупку своего автомобиля',\n",
       "       'операции с коммерческой недвижимостью',\n",
       "       'строительство жилой недвижимости', 'жилье',\n",
       "       'операции со своей недвижимостью', 'автомобили',\n",
       "       'заняться образованием', 'сделка с подержанным автомобилем',\n",
       "       'получение образования', 'автомобиль', 'свадьба',\n",
       "       'получение дополнительного образования', 'покупка своего жилья',\n",
       "       'операции с недвижимостью', 'получение высшего образования',\n",
       "       'свой автомобиль', 'сделка с автомобилем',\n",
       "       'профильное образование', 'высшее образование',\n",
       "       'покупка жилья для сдачи', 'на покупку автомобиля', 'ремонт жилью',\n",
       "       'заняться высшим образованием'], dtype=object)"
      ]
     },
     "execution_count": 61,
     "metadata": {},
     "output_type": "execute_result"
    }
   ],
   "source": [
    "# большое разнообразие записей. чтобы исключить оштибку визуального поиска приведем к нижнему регистру.\n",
    "data['purpose'] = data['purpose'].str.lower()\n",
    "# проверка\n",
    "data['purpose'].unique()"
   ]
  },
  {
   "cell_type": "markdown",
   "metadata": {},
   "source": [
    "**Вывод**"
   ]
  },
  {
   "cell_type": "markdown",
   "metadata": {},
   "source": [
    "Удалено 54 явных дубликата. Произведён поиск и исправление неявных дубликатов."
   ]
  },
  {
   "cell_type": "markdown",
   "metadata": {},
   "source": [
    "### Лемматизация"
   ]
  },
  {
   "cell_type": "markdown",
   "metadata": {},
   "source": [
    "В колонке 'purpose' есть скрытые дубликаты. Т.е. одни цели описаны разными словами, например: 'покупка жилья', 'операции с жильем', 'покупка жилья для семьи' и т.д. и т.п. Эти повторы нужно привести к единому виду."
   ]
  },
  {
   "cell_type": "code",
   "execution_count": 62,
   "metadata": {},
   "outputs": [
    {
     "name": "stdout",
     "output_type": "stream",
     "text": [
      "Текущее количество уникальных целей: 38\n"
     ]
    }
   ],
   "source": [
    "print ('Текущее количество уникальных целей:', len(data['purpose'].unique()))"
   ]
  },
  {
   "cell_type": "markdown",
   "metadata": {},
   "source": [
    "Определим частоту использования основ слов в множестве значений 'purpose'"
   ]
  },
  {
   "cell_type": "code",
   "execution_count": 63,
   "metadata": {},
   "outputs": [
    {
     "data": {
      "text/plain": [
       "Counter({'покупка': 10,\n",
       "         'жилье': 7,\n",
       "         'приобретение': 1,\n",
       "         'автомобиль': 9,\n",
       "         'дополнительный': 2,\n",
       "         'образование': 9,\n",
       "         'сыграть': 1,\n",
       "         'свадьба': 3,\n",
       "         'операция': 4,\n",
       "         'с': 5,\n",
       "         'на': 4,\n",
       "         'проведение': 1,\n",
       "         'для': 2,\n",
       "         'семья': 1,\n",
       "         'недвижимость': 10,\n",
       "         'коммерческий': 2,\n",
       "         'жилой': 2,\n",
       "         'строительство': 3,\n",
       "         'собственный': 1,\n",
       "         'подержать': 2,\n",
       "         'свой': 4,\n",
       "         'со': 1,\n",
       "         'заниматься': 2,\n",
       "         'сделка': 2,\n",
       "         'получение': 3,\n",
       "         'высокий': 3,\n",
       "         'профильный': 1,\n",
       "         'сдача': 1,\n",
       "         'ремонт': 1})"
      ]
     },
     "execution_count": 63,
     "metadata": {},
     "output_type": "execute_result"
    }
   ],
   "source": [
    "purposes = data['purpose'].unique()\n",
    "lemmas =' '.join(m.lemmatize(' '.join(purposes)))\n",
    "from collections import Counter\n",
    "Counter(lemmas.split())"
   ]
  },
  {
   "cell_type": "markdown",
   "metadata": {},
   "source": [
    "Выбираем наиболее часто встречающиеся значения и запишем их в Series. Таких значний будет 5."
   ]
  },
  {
   "cell_type": "code",
   "execution_count": 64,
   "metadata": {},
   "outputs": [],
   "source": [
    "new_name = pd.Series(['жилье', 'автомобиль', 'образование', 'свадьба', 'недвижимость'])"
   ]
  },
  {
   "cell_type": "code",
   "execution_count": 65,
   "metadata": {},
   "outputs": [],
   "source": [
    "# создадим DF с оригинальными наименованиями\n",
    "names = pd.DataFrame(data = purposes, columns =  ['original_name'])"
   ]
  },
  {
   "cell_type": "code",
   "execution_count": 66,
   "metadata": {},
   "outputs": [],
   "source": [
    "# функция для нахождения основы слова\n",
    "def lem_fun(o_name):\n",
    "    lm = ''.join(m.lemmatize(o_name))\n",
    "    return lm       "
   ]
  },
  {
   "cell_type": "code",
   "execution_count": 67,
   "metadata": {},
   "outputs": [
    {
     "name": "stderr",
     "output_type": "stream",
     "text": [
      "100%|██████████████████████████████████████████| 38/38 [01:20<00:00,  2.12s/it]\n"
     ]
    }
   ],
   "source": [
    "# добавим в 'names' слолбец 'lemma' c основами слов столбца 'original_name'\n",
    "names['lemma'] = names['original_name'].progress_apply(lem_fun)"
   ]
  },
  {
   "cell_type": "code",
   "execution_count": 68,
   "metadata": {},
   "outputs": [
    {
     "data": {
      "text/html": [
       "<div>\n",
       "<style scoped>\n",
       "    .dataframe tbody tr th:only-of-type {\n",
       "        vertical-align: middle;\n",
       "    }\n",
       "\n",
       "    .dataframe tbody tr th {\n",
       "        vertical-align: top;\n",
       "    }\n",
       "\n",
       "    .dataframe thead th {\n",
       "        text-align: right;\n",
       "    }\n",
       "</style>\n",
       "<table border=\"1\" class=\"dataframe\">\n",
       "  <thead>\n",
       "    <tr style=\"text-align: right;\">\n",
       "      <th></th>\n",
       "      <th>original_name</th>\n",
       "      <th>lemma</th>\n",
       "      <th>new_name</th>\n",
       "    </tr>\n",
       "  </thead>\n",
       "  <tbody>\n",
       "    <tr>\n",
       "      <th>0</th>\n",
       "      <td>покупка жилья</td>\n",
       "      <td>покупка жилье\\n</td>\n",
       "      <td>жилье</td>\n",
       "    </tr>\n",
       "    <tr>\n",
       "      <th>1</th>\n",
       "      <td>приобретение автомобиля</td>\n",
       "      <td>приобретение автомобиль\\n</td>\n",
       "      <td>автомобиль</td>\n",
       "    </tr>\n",
       "    <tr>\n",
       "      <th>2</th>\n",
       "      <td>дополнительное образование</td>\n",
       "      <td>дополнительный образование\\n</td>\n",
       "      <td>образование</td>\n",
       "    </tr>\n",
       "    <tr>\n",
       "      <th>3</th>\n",
       "      <td>сыграть свадьбу</td>\n",
       "      <td>сыграть свадьба\\n</td>\n",
       "      <td>свадьба</td>\n",
       "    </tr>\n",
       "    <tr>\n",
       "      <th>4</th>\n",
       "      <td>операции с жильем</td>\n",
       "      <td>операция с жилье\\n</td>\n",
       "      <td>жилье</td>\n",
       "    </tr>\n",
       "    <tr>\n",
       "      <th>5</th>\n",
       "      <td>образование</td>\n",
       "      <td>образование\\n</td>\n",
       "      <td>образование</td>\n",
       "    </tr>\n",
       "    <tr>\n",
       "      <th>6</th>\n",
       "      <td>на проведение свадьбы</td>\n",
       "      <td>на проведение свадьба\\n</td>\n",
       "      <td>свадьба</td>\n",
       "    </tr>\n",
       "    <tr>\n",
       "      <th>7</th>\n",
       "      <td>покупка жилья для семьи</td>\n",
       "      <td>покупка жилье для семья\\n</td>\n",
       "      <td>жилье</td>\n",
       "    </tr>\n",
       "    <tr>\n",
       "      <th>8</th>\n",
       "      <td>покупка недвижимости</td>\n",
       "      <td>покупка недвижимость\\n</td>\n",
       "      <td>недвижимость</td>\n",
       "    </tr>\n",
       "    <tr>\n",
       "      <th>9</th>\n",
       "      <td>покупка коммерческой недвижимости</td>\n",
       "      <td>покупка коммерческий недвижимость\\n</td>\n",
       "      <td>недвижимость</td>\n",
       "    </tr>\n",
       "    <tr>\n",
       "      <th>10</th>\n",
       "      <td>покупка жилой недвижимости</td>\n",
       "      <td>покупка жилой недвижимость\\n</td>\n",
       "      <td>недвижимость</td>\n",
       "    </tr>\n",
       "    <tr>\n",
       "      <th>11</th>\n",
       "      <td>строительство собственной недвижимости</td>\n",
       "      <td>строительство собственный недвижимость\\n</td>\n",
       "      <td>недвижимость</td>\n",
       "    </tr>\n",
       "    <tr>\n",
       "      <th>12</th>\n",
       "      <td>недвижимость</td>\n",
       "      <td>недвижимость\\n</td>\n",
       "      <td>недвижимость</td>\n",
       "    </tr>\n",
       "    <tr>\n",
       "      <th>13</th>\n",
       "      <td>строительство недвижимости</td>\n",
       "      <td>строительство недвижимость\\n</td>\n",
       "      <td>недвижимость</td>\n",
       "    </tr>\n",
       "    <tr>\n",
       "      <th>14</th>\n",
       "      <td>на покупку подержанного автомобиля</td>\n",
       "      <td>на покупка подержать автомобиль\\n</td>\n",
       "      <td>автомобиль</td>\n",
       "    </tr>\n",
       "    <tr>\n",
       "      <th>15</th>\n",
       "      <td>на покупку своего автомобиля</td>\n",
       "      <td>на покупка свой автомобиль\\n</td>\n",
       "      <td>автомобиль</td>\n",
       "    </tr>\n",
       "    <tr>\n",
       "      <th>16</th>\n",
       "      <td>операции с коммерческой недвижимостью</td>\n",
       "      <td>операция с коммерческий недвижимость\\n</td>\n",
       "      <td>недвижимость</td>\n",
       "    </tr>\n",
       "    <tr>\n",
       "      <th>17</th>\n",
       "      <td>строительство жилой недвижимости</td>\n",
       "      <td>строительство жилой недвижимость\\n</td>\n",
       "      <td>недвижимость</td>\n",
       "    </tr>\n",
       "    <tr>\n",
       "      <th>18</th>\n",
       "      <td>жилье</td>\n",
       "      <td>жилье\\n</td>\n",
       "      <td>жилье</td>\n",
       "    </tr>\n",
       "    <tr>\n",
       "      <th>19</th>\n",
       "      <td>операции со своей недвижимостью</td>\n",
       "      <td>операция со свой недвижимость\\n</td>\n",
       "      <td>недвижимость</td>\n",
       "    </tr>\n",
       "    <tr>\n",
       "      <th>20</th>\n",
       "      <td>автомобили</td>\n",
       "      <td>автомобиль\\n</td>\n",
       "      <td>автомобиль</td>\n",
       "    </tr>\n",
       "    <tr>\n",
       "      <th>21</th>\n",
       "      <td>заняться образованием</td>\n",
       "      <td>заниматься образование\\n</td>\n",
       "      <td>образование</td>\n",
       "    </tr>\n",
       "    <tr>\n",
       "      <th>22</th>\n",
       "      <td>сделка с подержанным автомобилем</td>\n",
       "      <td>сделка с подержанный автомобиль\\n</td>\n",
       "      <td>автомобиль</td>\n",
       "    </tr>\n",
       "    <tr>\n",
       "      <th>23</th>\n",
       "      <td>получение образования</td>\n",
       "      <td>получение образование\\n</td>\n",
       "      <td>образование</td>\n",
       "    </tr>\n",
       "    <tr>\n",
       "      <th>24</th>\n",
       "      <td>автомобиль</td>\n",
       "      <td>автомобиль\\n</td>\n",
       "      <td>автомобиль</td>\n",
       "    </tr>\n",
       "    <tr>\n",
       "      <th>25</th>\n",
       "      <td>свадьба</td>\n",
       "      <td>свадьба\\n</td>\n",
       "      <td>свадьба</td>\n",
       "    </tr>\n",
       "    <tr>\n",
       "      <th>26</th>\n",
       "      <td>получение дополнительного образования</td>\n",
       "      <td>получение дополнительный образование\\n</td>\n",
       "      <td>образование</td>\n",
       "    </tr>\n",
       "    <tr>\n",
       "      <th>27</th>\n",
       "      <td>покупка своего жилья</td>\n",
       "      <td>покупка свой жилье\\n</td>\n",
       "      <td>жилье</td>\n",
       "    </tr>\n",
       "    <tr>\n",
       "      <th>28</th>\n",
       "      <td>операции с недвижимостью</td>\n",
       "      <td>операция с недвижимость\\n</td>\n",
       "      <td>недвижимость</td>\n",
       "    </tr>\n",
       "    <tr>\n",
       "      <th>29</th>\n",
       "      <td>получение высшего образования</td>\n",
       "      <td>получение высокий образование\\n</td>\n",
       "      <td>образование</td>\n",
       "    </tr>\n",
       "    <tr>\n",
       "      <th>30</th>\n",
       "      <td>свой автомобиль</td>\n",
       "      <td>свой автомобиль\\n</td>\n",
       "      <td>автомобиль</td>\n",
       "    </tr>\n",
       "    <tr>\n",
       "      <th>31</th>\n",
       "      <td>сделка с автомобилем</td>\n",
       "      <td>сделка с автомобиль\\n</td>\n",
       "      <td>автомобиль</td>\n",
       "    </tr>\n",
       "    <tr>\n",
       "      <th>32</th>\n",
       "      <td>профильное образование</td>\n",
       "      <td>профильный образование\\n</td>\n",
       "      <td>образование</td>\n",
       "    </tr>\n",
       "    <tr>\n",
       "      <th>33</th>\n",
       "      <td>высшее образование</td>\n",
       "      <td>высокий образование\\n</td>\n",
       "      <td>образование</td>\n",
       "    </tr>\n",
       "    <tr>\n",
       "      <th>34</th>\n",
       "      <td>покупка жилья для сдачи</td>\n",
       "      <td>покупка жилье для сдача\\n</td>\n",
       "      <td>жилье</td>\n",
       "    </tr>\n",
       "    <tr>\n",
       "      <th>35</th>\n",
       "      <td>на покупку автомобиля</td>\n",
       "      <td>на покупка автомобиль\\n</td>\n",
       "      <td>автомобиль</td>\n",
       "    </tr>\n",
       "    <tr>\n",
       "      <th>36</th>\n",
       "      <td>ремонт жилью</td>\n",
       "      <td>ремонт жилье\\n</td>\n",
       "      <td>жилье</td>\n",
       "    </tr>\n",
       "    <tr>\n",
       "      <th>37</th>\n",
       "      <td>заняться высшим образованием</td>\n",
       "      <td>заниматься высокий образование\\n</td>\n",
       "      <td>образование</td>\n",
       "    </tr>\n",
       "  </tbody>\n",
       "</table>\n",
       "</div>"
      ],
      "text/plain": [
       "                             original_name  \\\n",
       "0                            покупка жилья   \n",
       "1                  приобретение автомобиля   \n",
       "2               дополнительное образование   \n",
       "3                          сыграть свадьбу   \n",
       "4                        операции с жильем   \n",
       "5                              образование   \n",
       "6                    на проведение свадьбы   \n",
       "7                  покупка жилья для семьи   \n",
       "8                     покупка недвижимости   \n",
       "9        покупка коммерческой недвижимости   \n",
       "10              покупка жилой недвижимости   \n",
       "11  строительство собственной недвижимости   \n",
       "12                            недвижимость   \n",
       "13              строительство недвижимости   \n",
       "14      на покупку подержанного автомобиля   \n",
       "15            на покупку своего автомобиля   \n",
       "16   операции с коммерческой недвижимостью   \n",
       "17        строительство жилой недвижимости   \n",
       "18                                   жилье   \n",
       "19         операции со своей недвижимостью   \n",
       "20                              автомобили   \n",
       "21                   заняться образованием   \n",
       "22        сделка с подержанным автомобилем   \n",
       "23                   получение образования   \n",
       "24                              автомобиль   \n",
       "25                                 свадьба   \n",
       "26   получение дополнительного образования   \n",
       "27                    покупка своего жилья   \n",
       "28                операции с недвижимостью   \n",
       "29           получение высшего образования   \n",
       "30                         свой автомобиль   \n",
       "31                    сделка с автомобилем   \n",
       "32                  профильное образование   \n",
       "33                      высшее образование   \n",
       "34                 покупка жилья для сдачи   \n",
       "35                   на покупку автомобиля   \n",
       "36                            ремонт жилью   \n",
       "37            заняться высшим образованием   \n",
       "\n",
       "                                       lemma      new_name  \n",
       "0                            покупка жилье\\n         жилье  \n",
       "1                  приобретение автомобиль\\n    автомобиль  \n",
       "2               дополнительный образование\\n   образование  \n",
       "3                          сыграть свадьба\\n       свадьба  \n",
       "4                         операция с жилье\\n         жилье  \n",
       "5                              образование\\n   образование  \n",
       "6                    на проведение свадьба\\n       свадьба  \n",
       "7                  покупка жилье для семья\\n         жилье  \n",
       "8                     покупка недвижимость\\n  недвижимость  \n",
       "9        покупка коммерческий недвижимость\\n  недвижимость  \n",
       "10              покупка жилой недвижимость\\n  недвижимость  \n",
       "11  строительство собственный недвижимость\\n  недвижимость  \n",
       "12                            недвижимость\\n  недвижимость  \n",
       "13              строительство недвижимость\\n  недвижимость  \n",
       "14         на покупка подержать автомобиль\\n    автомобиль  \n",
       "15              на покупка свой автомобиль\\n    автомобиль  \n",
       "16    операция с коммерческий недвижимость\\n  недвижимость  \n",
       "17        строительство жилой недвижимость\\n  недвижимость  \n",
       "18                                   жилье\\n         жилье  \n",
       "19           операция со свой недвижимость\\n  недвижимость  \n",
       "20                              автомобиль\\n    автомобиль  \n",
       "21                  заниматься образование\\n   образование  \n",
       "22         сделка с подержанный автомобиль\\n    автомобиль  \n",
       "23                   получение образование\\n   образование  \n",
       "24                              автомобиль\\n    автомобиль  \n",
       "25                                 свадьба\\n       свадьба  \n",
       "26    получение дополнительный образование\\n   образование  \n",
       "27                      покупка свой жилье\\n         жилье  \n",
       "28                 операция с недвижимость\\n  недвижимость  \n",
       "29           получение высокий образование\\n   образование  \n",
       "30                         свой автомобиль\\n    автомобиль  \n",
       "31                     сделка с автомобиль\\n    автомобиль  \n",
       "32                  профильный образование\\n   образование  \n",
       "33                     высокий образование\\n   образование  \n",
       "34                 покупка жилье для сдача\\n         жилье  \n",
       "35                   на покупка автомобиль\\n    автомобиль  \n",
       "36                            ремонт жилье\\n         жилье  \n",
       "37          заниматься высокий образование\\n   образование  "
      ]
     },
     "execution_count": 68,
     "metadata": {},
     "output_type": "execute_result"
    }
   ],
   "source": [
    "# проверим, есть ли в леммах оригинальных наименований наши выбранные леммы :\n",
    "# ['жилье', 'автомобиль', 'образование', 'свадьба', 'недвижимость']\n",
    "# при нахождении соответствия, записываем его в столбец 'new_name'\n",
    "for i in new_name:\n",
    "    for n in range(len(purposes)):#len(purposes)):\n",
    "        if i in names.loc[n,'lemma']:\n",
    "            names.loc[n,'new_name'] = i\n",
    "names"
   ]
  },
  {
   "cell_type": "markdown",
   "metadata": {},
   "source": [
    "Видим, что все строки заполнены, а значит наше предположение о 5 основных леммах верно.\n",
    "Проверим группы по каждой из 5 лемм."
   ]
  },
  {
   "cell_type": "code",
   "execution_count": 69,
   "metadata": {},
   "outputs": [
    {
     "data": {
      "text/html": [
       "<div>\n",
       "<style scoped>\n",
       "    .dataframe tbody tr th:only-of-type {\n",
       "        vertical-align: middle;\n",
       "    }\n",
       "\n",
       "    .dataframe tbody tr th {\n",
       "        vertical-align: top;\n",
       "    }\n",
       "\n",
       "    .dataframe thead th {\n",
       "        text-align: right;\n",
       "    }\n",
       "</style>\n",
       "<table border=\"1\" class=\"dataframe\">\n",
       "  <thead>\n",
       "    <tr style=\"text-align: right;\">\n",
       "      <th></th>\n",
       "      <th>original_name</th>\n",
       "      <th>lemma</th>\n",
       "      <th>new_name</th>\n",
       "    </tr>\n",
       "  </thead>\n",
       "  <tbody>\n",
       "    <tr>\n",
       "      <th>0</th>\n",
       "      <td>покупка жилья</td>\n",
       "      <td>покупка жилье\\n</td>\n",
       "      <td>жилье</td>\n",
       "    </tr>\n",
       "    <tr>\n",
       "      <th>4</th>\n",
       "      <td>операции с жильем</td>\n",
       "      <td>операция с жилье\\n</td>\n",
       "      <td>жилье</td>\n",
       "    </tr>\n",
       "    <tr>\n",
       "      <th>7</th>\n",
       "      <td>покупка жилья для семьи</td>\n",
       "      <td>покупка жилье для семья\\n</td>\n",
       "      <td>жилье</td>\n",
       "    </tr>\n",
       "    <tr>\n",
       "      <th>18</th>\n",
       "      <td>жилье</td>\n",
       "      <td>жилье\\n</td>\n",
       "      <td>жилье</td>\n",
       "    </tr>\n",
       "    <tr>\n",
       "      <th>27</th>\n",
       "      <td>покупка своего жилья</td>\n",
       "      <td>покупка свой жилье\\n</td>\n",
       "      <td>жилье</td>\n",
       "    </tr>\n",
       "    <tr>\n",
       "      <th>34</th>\n",
       "      <td>покупка жилья для сдачи</td>\n",
       "      <td>покупка жилье для сдача\\n</td>\n",
       "      <td>жилье</td>\n",
       "    </tr>\n",
       "    <tr>\n",
       "      <th>36</th>\n",
       "      <td>ремонт жилью</td>\n",
       "      <td>ремонт жилье\\n</td>\n",
       "      <td>жилье</td>\n",
       "    </tr>\n",
       "  </tbody>\n",
       "</table>\n",
       "</div>"
      ],
      "text/plain": [
       "              original_name                      lemma new_name\n",
       "0             покупка жилья            покупка жилье\\n    жилье\n",
       "4         операции с жильем         операция с жилье\\n    жилье\n",
       "7   покупка жилья для семьи  покупка жилье для семья\\n    жилье\n",
       "18                    жилье                    жилье\\n    жилье\n",
       "27     покупка своего жилья       покупка свой жилье\\n    жилье\n",
       "34  покупка жилья для сдачи  покупка жилье для сдача\\n    жилье\n",
       "36             ремонт жилью             ремонт жилье\\n    жилье"
      ]
     },
     "execution_count": 69,
     "metadata": {},
     "output_type": "execute_result"
    }
   ],
   "source": [
    "names.loc[names['new_name'] == 'жилье']"
   ]
  },
  {
   "cell_type": "markdown",
   "metadata": {},
   "source": [
    "Можно выделить новую кетегорию - 'ремонт'"
   ]
  },
  {
   "cell_type": "code",
   "execution_count": 70,
   "metadata": {},
   "outputs": [
    {
     "data": {
      "text/html": [
       "<div>\n",
       "<style scoped>\n",
       "    .dataframe tbody tr th:only-of-type {\n",
       "        vertical-align: middle;\n",
       "    }\n",
       "\n",
       "    .dataframe tbody tr th {\n",
       "        vertical-align: top;\n",
       "    }\n",
       "\n",
       "    .dataframe thead th {\n",
       "        text-align: right;\n",
       "    }\n",
       "</style>\n",
       "<table border=\"1\" class=\"dataframe\">\n",
       "  <thead>\n",
       "    <tr style=\"text-align: right;\">\n",
       "      <th></th>\n",
       "      <th>original_name</th>\n",
       "      <th>lemma</th>\n",
       "      <th>new_name</th>\n",
       "    </tr>\n",
       "  </thead>\n",
       "  <tbody>\n",
       "    <tr>\n",
       "      <th>36</th>\n",
       "      <td>ремонт жилью</td>\n",
       "      <td>ремонт жилье\\n</td>\n",
       "      <td>ремонт</td>\n",
       "    </tr>\n",
       "  </tbody>\n",
       "</table>\n",
       "</div>"
      ],
      "text/plain": [
       "   original_name           lemma new_name\n",
       "36  ремонт жилью  ремонт жилье\\n   ремонт"
      ]
     },
     "execution_count": 70,
     "metadata": {},
     "output_type": "execute_result"
    }
   ],
   "source": [
    "# поменяем значение столбца 'new_name' в строке с индексом 36\n",
    "names.loc[36, 'new_name'] = 'ремонт'\n",
    "names.loc[names['new_name'] == 'ремонт']"
   ]
  },
  {
   "cell_type": "code",
   "execution_count": 71,
   "metadata": {},
   "outputs": [
    {
     "data": {
      "text/html": [
       "<div>\n",
       "<style scoped>\n",
       "    .dataframe tbody tr th:only-of-type {\n",
       "        vertical-align: middle;\n",
       "    }\n",
       "\n",
       "    .dataframe tbody tr th {\n",
       "        vertical-align: top;\n",
       "    }\n",
       "\n",
       "    .dataframe thead th {\n",
       "        text-align: right;\n",
       "    }\n",
       "</style>\n",
       "<table border=\"1\" class=\"dataframe\">\n",
       "  <thead>\n",
       "    <tr style=\"text-align: right;\">\n",
       "      <th></th>\n",
       "      <th>original_name</th>\n",
       "      <th>lemma</th>\n",
       "      <th>new_name</th>\n",
       "    </tr>\n",
       "  </thead>\n",
       "  <tbody>\n",
       "    <tr>\n",
       "      <th>1</th>\n",
       "      <td>приобретение автомобиля</td>\n",
       "      <td>приобретение автомобиль\\n</td>\n",
       "      <td>автомобиль</td>\n",
       "    </tr>\n",
       "    <tr>\n",
       "      <th>14</th>\n",
       "      <td>на покупку подержанного автомобиля</td>\n",
       "      <td>на покупка подержать автомобиль\\n</td>\n",
       "      <td>автомобиль</td>\n",
       "    </tr>\n",
       "    <tr>\n",
       "      <th>15</th>\n",
       "      <td>на покупку своего автомобиля</td>\n",
       "      <td>на покупка свой автомобиль\\n</td>\n",
       "      <td>автомобиль</td>\n",
       "    </tr>\n",
       "    <tr>\n",
       "      <th>20</th>\n",
       "      <td>автомобили</td>\n",
       "      <td>автомобиль\\n</td>\n",
       "      <td>автомобиль</td>\n",
       "    </tr>\n",
       "    <tr>\n",
       "      <th>22</th>\n",
       "      <td>сделка с подержанным автомобилем</td>\n",
       "      <td>сделка с подержанный автомобиль\\n</td>\n",
       "      <td>автомобиль</td>\n",
       "    </tr>\n",
       "    <tr>\n",
       "      <th>24</th>\n",
       "      <td>автомобиль</td>\n",
       "      <td>автомобиль\\n</td>\n",
       "      <td>автомобиль</td>\n",
       "    </tr>\n",
       "    <tr>\n",
       "      <th>30</th>\n",
       "      <td>свой автомобиль</td>\n",
       "      <td>свой автомобиль\\n</td>\n",
       "      <td>автомобиль</td>\n",
       "    </tr>\n",
       "    <tr>\n",
       "      <th>31</th>\n",
       "      <td>сделка с автомобилем</td>\n",
       "      <td>сделка с автомобиль\\n</td>\n",
       "      <td>автомобиль</td>\n",
       "    </tr>\n",
       "    <tr>\n",
       "      <th>35</th>\n",
       "      <td>на покупку автомобиля</td>\n",
       "      <td>на покупка автомобиль\\n</td>\n",
       "      <td>автомобиль</td>\n",
       "    </tr>\n",
       "  </tbody>\n",
       "</table>\n",
       "</div>"
      ],
      "text/plain": [
       "                         original_name                              lemma  \\\n",
       "1              приобретение автомобиля          приобретение автомобиль\\n   \n",
       "14  на покупку подержанного автомобиля  на покупка подержать автомобиль\\n   \n",
       "15        на покупку своего автомобиля       на покупка свой автомобиль\\n   \n",
       "20                          автомобили                       автомобиль\\n   \n",
       "22    сделка с подержанным автомобилем  сделка с подержанный автомобиль\\n   \n",
       "24                          автомобиль                       автомобиль\\n   \n",
       "30                     свой автомобиль                  свой автомобиль\\n   \n",
       "31                сделка с автомобилем              сделка с автомобиль\\n   \n",
       "35               на покупку автомобиля            на покупка автомобиль\\n   \n",
       "\n",
       "      new_name  \n",
       "1   автомобиль  \n",
       "14  автомобиль  \n",
       "15  автомобиль  \n",
       "20  автомобиль  \n",
       "22  автомобиль  \n",
       "24  автомобиль  \n",
       "30  автомобиль  \n",
       "31  автомобиль  \n",
       "35  автомобиль  "
      ]
     },
     "execution_count": 71,
     "metadata": {},
     "output_type": "execute_result"
    }
   ],
   "source": [
    "names.loc[names['new_name'] == 'автомобиль']"
   ]
  },
  {
   "cell_type": "markdown",
   "metadata": {},
   "source": [
    "По группе замечаний нет."
   ]
  },
  {
   "cell_type": "code",
   "execution_count": 72,
   "metadata": {},
   "outputs": [
    {
     "data": {
      "text/html": [
       "<div>\n",
       "<style scoped>\n",
       "    .dataframe tbody tr th:only-of-type {\n",
       "        vertical-align: middle;\n",
       "    }\n",
       "\n",
       "    .dataframe tbody tr th {\n",
       "        vertical-align: top;\n",
       "    }\n",
       "\n",
       "    .dataframe thead th {\n",
       "        text-align: right;\n",
       "    }\n",
       "</style>\n",
       "<table border=\"1\" class=\"dataframe\">\n",
       "  <thead>\n",
       "    <tr style=\"text-align: right;\">\n",
       "      <th></th>\n",
       "      <th>original_name</th>\n",
       "      <th>lemma</th>\n",
       "      <th>new_name</th>\n",
       "    </tr>\n",
       "  </thead>\n",
       "  <tbody>\n",
       "    <tr>\n",
       "      <th>2</th>\n",
       "      <td>дополнительное образование</td>\n",
       "      <td>дополнительный образование\\n</td>\n",
       "      <td>образование</td>\n",
       "    </tr>\n",
       "    <tr>\n",
       "      <th>5</th>\n",
       "      <td>образование</td>\n",
       "      <td>образование\\n</td>\n",
       "      <td>образование</td>\n",
       "    </tr>\n",
       "    <tr>\n",
       "      <th>21</th>\n",
       "      <td>заняться образованием</td>\n",
       "      <td>заниматься образование\\n</td>\n",
       "      <td>образование</td>\n",
       "    </tr>\n",
       "    <tr>\n",
       "      <th>23</th>\n",
       "      <td>получение образования</td>\n",
       "      <td>получение образование\\n</td>\n",
       "      <td>образование</td>\n",
       "    </tr>\n",
       "    <tr>\n",
       "      <th>26</th>\n",
       "      <td>получение дополнительного образования</td>\n",
       "      <td>получение дополнительный образование\\n</td>\n",
       "      <td>образование</td>\n",
       "    </tr>\n",
       "    <tr>\n",
       "      <th>29</th>\n",
       "      <td>получение высшего образования</td>\n",
       "      <td>получение высокий образование\\n</td>\n",
       "      <td>образование</td>\n",
       "    </tr>\n",
       "    <tr>\n",
       "      <th>32</th>\n",
       "      <td>профильное образование</td>\n",
       "      <td>профильный образование\\n</td>\n",
       "      <td>образование</td>\n",
       "    </tr>\n",
       "    <tr>\n",
       "      <th>33</th>\n",
       "      <td>высшее образование</td>\n",
       "      <td>высокий образование\\n</td>\n",
       "      <td>образование</td>\n",
       "    </tr>\n",
       "    <tr>\n",
       "      <th>37</th>\n",
       "      <td>заняться высшим образованием</td>\n",
       "      <td>заниматься высокий образование\\n</td>\n",
       "      <td>образование</td>\n",
       "    </tr>\n",
       "  </tbody>\n",
       "</table>\n",
       "</div>"
      ],
      "text/plain": [
       "                            original_name  \\\n",
       "2              дополнительное образование   \n",
       "5                             образование   \n",
       "21                  заняться образованием   \n",
       "23                  получение образования   \n",
       "26  получение дополнительного образования   \n",
       "29          получение высшего образования   \n",
       "32                 профильное образование   \n",
       "33                     высшее образование   \n",
       "37           заняться высшим образованием   \n",
       "\n",
       "                                     lemma     new_name  \n",
       "2             дополнительный образование\\n  образование  \n",
       "5                            образование\\n  образование  \n",
       "21                заниматься образование\\n  образование  \n",
       "23                 получение образование\\n  образование  \n",
       "26  получение дополнительный образование\\n  образование  \n",
       "29         получение высокий образование\\n  образование  \n",
       "32                профильный образование\\n  образование  \n",
       "33                   высокий образование\\n  образование  \n",
       "37        заниматься высокий образование\\n  образование  "
      ]
     },
     "execution_count": 72,
     "metadata": {},
     "output_type": "execute_result"
    }
   ],
   "source": [
    "names.loc[names['new_name'] == 'образование']"
   ]
  },
  {
   "cell_type": "markdown",
   "metadata": {},
   "source": [
    "По группе замечаний нет."
   ]
  },
  {
   "cell_type": "code",
   "execution_count": 73,
   "metadata": {},
   "outputs": [
    {
     "data": {
      "text/html": [
       "<div>\n",
       "<style scoped>\n",
       "    .dataframe tbody tr th:only-of-type {\n",
       "        vertical-align: middle;\n",
       "    }\n",
       "\n",
       "    .dataframe tbody tr th {\n",
       "        vertical-align: top;\n",
       "    }\n",
       "\n",
       "    .dataframe thead th {\n",
       "        text-align: right;\n",
       "    }\n",
       "</style>\n",
       "<table border=\"1\" class=\"dataframe\">\n",
       "  <thead>\n",
       "    <tr style=\"text-align: right;\">\n",
       "      <th></th>\n",
       "      <th>original_name</th>\n",
       "      <th>lemma</th>\n",
       "      <th>new_name</th>\n",
       "    </tr>\n",
       "  </thead>\n",
       "  <tbody>\n",
       "    <tr>\n",
       "      <th>3</th>\n",
       "      <td>сыграть свадьбу</td>\n",
       "      <td>сыграть свадьба\\n</td>\n",
       "      <td>свадьба</td>\n",
       "    </tr>\n",
       "    <tr>\n",
       "      <th>6</th>\n",
       "      <td>на проведение свадьбы</td>\n",
       "      <td>на проведение свадьба\\n</td>\n",
       "      <td>свадьба</td>\n",
       "    </tr>\n",
       "    <tr>\n",
       "      <th>25</th>\n",
       "      <td>свадьба</td>\n",
       "      <td>свадьба\\n</td>\n",
       "      <td>свадьба</td>\n",
       "    </tr>\n",
       "  </tbody>\n",
       "</table>\n",
       "</div>"
      ],
      "text/plain": [
       "            original_name                    lemma new_name\n",
       "3         сыграть свадьбу        сыграть свадьба\\n  свадьба\n",
       "6   на проведение свадьбы  на проведение свадьба\\n  свадьба\n",
       "25                свадьба                свадьба\\n  свадьба"
      ]
     },
     "execution_count": 73,
     "metadata": {},
     "output_type": "execute_result"
    }
   ],
   "source": [
    "names.loc[names['new_name'] == 'свадьба']"
   ]
  },
  {
   "cell_type": "markdown",
   "metadata": {},
   "source": [
    "По группе замечаний нет."
   ]
  },
  {
   "cell_type": "code",
   "execution_count": 74,
   "metadata": {},
   "outputs": [
    {
     "data": {
      "text/html": [
       "<div>\n",
       "<style scoped>\n",
       "    .dataframe tbody tr th:only-of-type {\n",
       "        vertical-align: middle;\n",
       "    }\n",
       "\n",
       "    .dataframe tbody tr th {\n",
       "        vertical-align: top;\n",
       "    }\n",
       "\n",
       "    .dataframe thead th {\n",
       "        text-align: right;\n",
       "    }\n",
       "</style>\n",
       "<table border=\"1\" class=\"dataframe\">\n",
       "  <thead>\n",
       "    <tr style=\"text-align: right;\">\n",
       "      <th></th>\n",
       "      <th>original_name</th>\n",
       "      <th>lemma</th>\n",
       "      <th>new_name</th>\n",
       "    </tr>\n",
       "  </thead>\n",
       "  <tbody>\n",
       "    <tr>\n",
       "      <th>8</th>\n",
       "      <td>покупка недвижимости</td>\n",
       "      <td>покупка недвижимость\\n</td>\n",
       "      <td>недвижимость</td>\n",
       "    </tr>\n",
       "    <tr>\n",
       "      <th>9</th>\n",
       "      <td>покупка коммерческой недвижимости</td>\n",
       "      <td>покупка коммерческий недвижимость\\n</td>\n",
       "      <td>недвижимость</td>\n",
       "    </tr>\n",
       "    <tr>\n",
       "      <th>10</th>\n",
       "      <td>покупка жилой недвижимости</td>\n",
       "      <td>покупка жилой недвижимость\\n</td>\n",
       "      <td>недвижимость</td>\n",
       "    </tr>\n",
       "    <tr>\n",
       "      <th>11</th>\n",
       "      <td>строительство собственной недвижимости</td>\n",
       "      <td>строительство собственный недвижимость\\n</td>\n",
       "      <td>недвижимость</td>\n",
       "    </tr>\n",
       "    <tr>\n",
       "      <th>12</th>\n",
       "      <td>недвижимость</td>\n",
       "      <td>недвижимость\\n</td>\n",
       "      <td>недвижимость</td>\n",
       "    </tr>\n",
       "    <tr>\n",
       "      <th>13</th>\n",
       "      <td>строительство недвижимости</td>\n",
       "      <td>строительство недвижимость\\n</td>\n",
       "      <td>недвижимость</td>\n",
       "    </tr>\n",
       "    <tr>\n",
       "      <th>16</th>\n",
       "      <td>операции с коммерческой недвижимостью</td>\n",
       "      <td>операция с коммерческий недвижимость\\n</td>\n",
       "      <td>недвижимость</td>\n",
       "    </tr>\n",
       "    <tr>\n",
       "      <th>17</th>\n",
       "      <td>строительство жилой недвижимости</td>\n",
       "      <td>строительство жилой недвижимость\\n</td>\n",
       "      <td>недвижимость</td>\n",
       "    </tr>\n",
       "    <tr>\n",
       "      <th>19</th>\n",
       "      <td>операции со своей недвижимостью</td>\n",
       "      <td>операция со свой недвижимость\\n</td>\n",
       "      <td>недвижимость</td>\n",
       "    </tr>\n",
       "    <tr>\n",
       "      <th>28</th>\n",
       "      <td>операции с недвижимостью</td>\n",
       "      <td>операция с недвижимость\\n</td>\n",
       "      <td>недвижимость</td>\n",
       "    </tr>\n",
       "  </tbody>\n",
       "</table>\n",
       "</div>"
      ],
      "text/plain": [
       "                             original_name  \\\n",
       "8                     покупка недвижимости   \n",
       "9        покупка коммерческой недвижимости   \n",
       "10              покупка жилой недвижимости   \n",
       "11  строительство собственной недвижимости   \n",
       "12                            недвижимость   \n",
       "13              строительство недвижимости   \n",
       "16   операции с коммерческой недвижимостью   \n",
       "17        строительство жилой недвижимости   \n",
       "19         операции со своей недвижимостью   \n",
       "28                операции с недвижимостью   \n",
       "\n",
       "                                       lemma      new_name  \n",
       "8                     покупка недвижимость\\n  недвижимость  \n",
       "9        покупка коммерческий недвижимость\\n  недвижимость  \n",
       "10              покупка жилой недвижимость\\n  недвижимость  \n",
       "11  строительство собственный недвижимость\\n  недвижимость  \n",
       "12                            недвижимость\\n  недвижимость  \n",
       "13              строительство недвижимость\\n  недвижимость  \n",
       "16    операция с коммерческий недвижимость\\n  недвижимость  \n",
       "17        строительство жилой недвижимость\\n  недвижимость  \n",
       "19           операция со свой недвижимость\\n  недвижимость  \n",
       "28                 операция с недвижимость\\n  недвижимость  "
      ]
     },
     "execution_count": 74,
     "metadata": {},
     "output_type": "execute_result"
    }
   ],
   "source": [
    "names.loc[names['new_name'] == 'недвижимость']"
   ]
  },
  {
   "cell_type": "markdown",
   "metadata": {},
   "source": [
    "Группы 'недвижимость' и 'жилье' можно объединить и выделить отдельно операции с коммерческой недвижимостью."
   ]
  },
  {
   "cell_type": "code",
   "execution_count": 75,
   "metadata": {},
   "outputs": [
    {
     "data": {
      "text/html": [
       "<div>\n",
       "<style scoped>\n",
       "    .dataframe tbody tr th:only-of-type {\n",
       "        vertical-align: middle;\n",
       "    }\n",
       "\n",
       "    .dataframe tbody tr th {\n",
       "        vertical-align: top;\n",
       "    }\n",
       "\n",
       "    .dataframe thead th {\n",
       "        text-align: right;\n",
       "    }\n",
       "</style>\n",
       "<table border=\"1\" class=\"dataframe\">\n",
       "  <thead>\n",
       "    <tr style=\"text-align: right;\">\n",
       "      <th></th>\n",
       "      <th>original_name</th>\n",
       "      <th>lemma</th>\n",
       "      <th>new_name</th>\n",
       "    </tr>\n",
       "  </thead>\n",
       "  <tbody>\n",
       "    <tr>\n",
       "      <th>0</th>\n",
       "      <td>покупка жилья</td>\n",
       "      <td>покупка жилье\\n</td>\n",
       "      <td>недвижимость</td>\n",
       "    </tr>\n",
       "    <tr>\n",
       "      <th>1</th>\n",
       "      <td>приобретение автомобиля</td>\n",
       "      <td>приобретение автомобиль\\n</td>\n",
       "      <td>автомобиль</td>\n",
       "    </tr>\n",
       "    <tr>\n",
       "      <th>2</th>\n",
       "      <td>дополнительное образование</td>\n",
       "      <td>дополнительный образование\\n</td>\n",
       "      <td>образование</td>\n",
       "    </tr>\n",
       "    <tr>\n",
       "      <th>3</th>\n",
       "      <td>сыграть свадьбу</td>\n",
       "      <td>сыграть свадьба\\n</td>\n",
       "      <td>свадьба</td>\n",
       "    </tr>\n",
       "    <tr>\n",
       "      <th>4</th>\n",
       "      <td>операции с жильем</td>\n",
       "      <td>операция с жилье\\n</td>\n",
       "      <td>недвижимость</td>\n",
       "    </tr>\n",
       "    <tr>\n",
       "      <th>5</th>\n",
       "      <td>образование</td>\n",
       "      <td>образование\\n</td>\n",
       "      <td>образование</td>\n",
       "    </tr>\n",
       "    <tr>\n",
       "      <th>6</th>\n",
       "      <td>на проведение свадьбы</td>\n",
       "      <td>на проведение свадьба\\n</td>\n",
       "      <td>свадьба</td>\n",
       "    </tr>\n",
       "    <tr>\n",
       "      <th>7</th>\n",
       "      <td>покупка жилья для семьи</td>\n",
       "      <td>покупка жилье для семья\\n</td>\n",
       "      <td>недвижимость</td>\n",
       "    </tr>\n",
       "    <tr>\n",
       "      <th>8</th>\n",
       "      <td>покупка недвижимости</td>\n",
       "      <td>покупка недвижимость\\n</td>\n",
       "      <td>недвижимость</td>\n",
       "    </tr>\n",
       "    <tr>\n",
       "      <th>9</th>\n",
       "      <td>покупка коммерческой недвижимости</td>\n",
       "      <td>покупка коммерческий недвижимость\\n</td>\n",
       "      <td>недвижимость ком.</td>\n",
       "    </tr>\n",
       "    <tr>\n",
       "      <th>10</th>\n",
       "      <td>покупка жилой недвижимости</td>\n",
       "      <td>покупка жилой недвижимость\\n</td>\n",
       "      <td>недвижимость</td>\n",
       "    </tr>\n",
       "    <tr>\n",
       "      <th>11</th>\n",
       "      <td>строительство собственной недвижимости</td>\n",
       "      <td>строительство собственный недвижимость\\n</td>\n",
       "      <td>недвижимость</td>\n",
       "    </tr>\n",
       "    <tr>\n",
       "      <th>12</th>\n",
       "      <td>недвижимость</td>\n",
       "      <td>недвижимость\\n</td>\n",
       "      <td>недвижимость</td>\n",
       "    </tr>\n",
       "    <tr>\n",
       "      <th>13</th>\n",
       "      <td>строительство недвижимости</td>\n",
       "      <td>строительство недвижимость\\n</td>\n",
       "      <td>недвижимость</td>\n",
       "    </tr>\n",
       "    <tr>\n",
       "      <th>14</th>\n",
       "      <td>на покупку подержанного автомобиля</td>\n",
       "      <td>на покупка подержать автомобиль\\n</td>\n",
       "      <td>автомобиль</td>\n",
       "    </tr>\n",
       "    <tr>\n",
       "      <th>15</th>\n",
       "      <td>на покупку своего автомобиля</td>\n",
       "      <td>на покупка свой автомобиль\\n</td>\n",
       "      <td>автомобиль</td>\n",
       "    </tr>\n",
       "    <tr>\n",
       "      <th>16</th>\n",
       "      <td>операции с коммерческой недвижимостью</td>\n",
       "      <td>операция с коммерческий недвижимость\\n</td>\n",
       "      <td>недвижимость ком.</td>\n",
       "    </tr>\n",
       "    <tr>\n",
       "      <th>17</th>\n",
       "      <td>строительство жилой недвижимости</td>\n",
       "      <td>строительство жилой недвижимость\\n</td>\n",
       "      <td>недвижимость</td>\n",
       "    </tr>\n",
       "    <tr>\n",
       "      <th>18</th>\n",
       "      <td>жилье</td>\n",
       "      <td>жилье\\n</td>\n",
       "      <td>недвижимость</td>\n",
       "    </tr>\n",
       "    <tr>\n",
       "      <th>19</th>\n",
       "      <td>операции со своей недвижимостью</td>\n",
       "      <td>операция со свой недвижимость\\n</td>\n",
       "      <td>недвижимость</td>\n",
       "    </tr>\n",
       "    <tr>\n",
       "      <th>20</th>\n",
       "      <td>автомобили</td>\n",
       "      <td>автомобиль\\n</td>\n",
       "      <td>автомобиль</td>\n",
       "    </tr>\n",
       "    <tr>\n",
       "      <th>21</th>\n",
       "      <td>заняться образованием</td>\n",
       "      <td>заниматься образование\\n</td>\n",
       "      <td>образование</td>\n",
       "    </tr>\n",
       "    <tr>\n",
       "      <th>22</th>\n",
       "      <td>сделка с подержанным автомобилем</td>\n",
       "      <td>сделка с подержанный автомобиль\\n</td>\n",
       "      <td>автомобиль</td>\n",
       "    </tr>\n",
       "    <tr>\n",
       "      <th>23</th>\n",
       "      <td>получение образования</td>\n",
       "      <td>получение образование\\n</td>\n",
       "      <td>образование</td>\n",
       "    </tr>\n",
       "    <tr>\n",
       "      <th>24</th>\n",
       "      <td>автомобиль</td>\n",
       "      <td>автомобиль\\n</td>\n",
       "      <td>автомобиль</td>\n",
       "    </tr>\n",
       "    <tr>\n",
       "      <th>25</th>\n",
       "      <td>свадьба</td>\n",
       "      <td>свадьба\\n</td>\n",
       "      <td>свадьба</td>\n",
       "    </tr>\n",
       "    <tr>\n",
       "      <th>26</th>\n",
       "      <td>получение дополнительного образования</td>\n",
       "      <td>получение дополнительный образование\\n</td>\n",
       "      <td>образование</td>\n",
       "    </tr>\n",
       "    <tr>\n",
       "      <th>27</th>\n",
       "      <td>покупка своего жилья</td>\n",
       "      <td>покупка свой жилье\\n</td>\n",
       "      <td>недвижимость</td>\n",
       "    </tr>\n",
       "    <tr>\n",
       "      <th>28</th>\n",
       "      <td>операции с недвижимостью</td>\n",
       "      <td>операция с недвижимость\\n</td>\n",
       "      <td>недвижимость</td>\n",
       "    </tr>\n",
       "    <tr>\n",
       "      <th>29</th>\n",
       "      <td>получение высшего образования</td>\n",
       "      <td>получение высокий образование\\n</td>\n",
       "      <td>образование</td>\n",
       "    </tr>\n",
       "    <tr>\n",
       "      <th>30</th>\n",
       "      <td>свой автомобиль</td>\n",
       "      <td>свой автомобиль\\n</td>\n",
       "      <td>автомобиль</td>\n",
       "    </tr>\n",
       "    <tr>\n",
       "      <th>31</th>\n",
       "      <td>сделка с автомобилем</td>\n",
       "      <td>сделка с автомобиль\\n</td>\n",
       "      <td>автомобиль</td>\n",
       "    </tr>\n",
       "    <tr>\n",
       "      <th>32</th>\n",
       "      <td>профильное образование</td>\n",
       "      <td>профильный образование\\n</td>\n",
       "      <td>образование</td>\n",
       "    </tr>\n",
       "    <tr>\n",
       "      <th>33</th>\n",
       "      <td>высшее образование</td>\n",
       "      <td>высокий образование\\n</td>\n",
       "      <td>образование</td>\n",
       "    </tr>\n",
       "    <tr>\n",
       "      <th>34</th>\n",
       "      <td>покупка жилья для сдачи</td>\n",
       "      <td>покупка жилье для сдача\\n</td>\n",
       "      <td>недвижимость</td>\n",
       "    </tr>\n",
       "    <tr>\n",
       "      <th>35</th>\n",
       "      <td>на покупку автомобиля</td>\n",
       "      <td>на покупка автомобиль\\n</td>\n",
       "      <td>автомобиль</td>\n",
       "    </tr>\n",
       "    <tr>\n",
       "      <th>36</th>\n",
       "      <td>ремонт жилью</td>\n",
       "      <td>ремонт жилье\\n</td>\n",
       "      <td>ремонт</td>\n",
       "    </tr>\n",
       "    <tr>\n",
       "      <th>37</th>\n",
       "      <td>заняться высшим образованием</td>\n",
       "      <td>заниматься высокий образование\\n</td>\n",
       "      <td>образование</td>\n",
       "    </tr>\n",
       "  </tbody>\n",
       "</table>\n",
       "</div>"
      ],
      "text/plain": [
       "                             original_name  \\\n",
       "0                            покупка жилья   \n",
       "1                  приобретение автомобиля   \n",
       "2               дополнительное образование   \n",
       "3                          сыграть свадьбу   \n",
       "4                        операции с жильем   \n",
       "5                              образование   \n",
       "6                    на проведение свадьбы   \n",
       "7                  покупка жилья для семьи   \n",
       "8                     покупка недвижимости   \n",
       "9        покупка коммерческой недвижимости   \n",
       "10              покупка жилой недвижимости   \n",
       "11  строительство собственной недвижимости   \n",
       "12                            недвижимость   \n",
       "13              строительство недвижимости   \n",
       "14      на покупку подержанного автомобиля   \n",
       "15            на покупку своего автомобиля   \n",
       "16   операции с коммерческой недвижимостью   \n",
       "17        строительство жилой недвижимости   \n",
       "18                                   жилье   \n",
       "19         операции со своей недвижимостью   \n",
       "20                              автомобили   \n",
       "21                   заняться образованием   \n",
       "22        сделка с подержанным автомобилем   \n",
       "23                   получение образования   \n",
       "24                              автомобиль   \n",
       "25                                 свадьба   \n",
       "26   получение дополнительного образования   \n",
       "27                    покупка своего жилья   \n",
       "28                операции с недвижимостью   \n",
       "29           получение высшего образования   \n",
       "30                         свой автомобиль   \n",
       "31                    сделка с автомобилем   \n",
       "32                  профильное образование   \n",
       "33                      высшее образование   \n",
       "34                 покупка жилья для сдачи   \n",
       "35                   на покупку автомобиля   \n",
       "36                            ремонт жилью   \n",
       "37            заняться высшим образованием   \n",
       "\n",
       "                                       lemma           new_name  \n",
       "0                            покупка жилье\\n       недвижимость  \n",
       "1                  приобретение автомобиль\\n         автомобиль  \n",
       "2               дополнительный образование\\n        образование  \n",
       "3                          сыграть свадьба\\n            свадьба  \n",
       "4                         операция с жилье\\n       недвижимость  \n",
       "5                              образование\\n        образование  \n",
       "6                    на проведение свадьба\\n            свадьба  \n",
       "7                  покупка жилье для семья\\n       недвижимость  \n",
       "8                     покупка недвижимость\\n       недвижимость  \n",
       "9        покупка коммерческий недвижимость\\n  недвижимость ком.  \n",
       "10              покупка жилой недвижимость\\n       недвижимость  \n",
       "11  строительство собственный недвижимость\\n       недвижимость  \n",
       "12                            недвижимость\\n       недвижимость  \n",
       "13              строительство недвижимость\\n       недвижимость  \n",
       "14         на покупка подержать автомобиль\\n         автомобиль  \n",
       "15              на покупка свой автомобиль\\n         автомобиль  \n",
       "16    операция с коммерческий недвижимость\\n  недвижимость ком.  \n",
       "17        строительство жилой недвижимость\\n       недвижимость  \n",
       "18                                   жилье\\n       недвижимость  \n",
       "19           операция со свой недвижимость\\n       недвижимость  \n",
       "20                              автомобиль\\n         автомобиль  \n",
       "21                  заниматься образование\\n        образование  \n",
       "22         сделка с подержанный автомобиль\\n         автомобиль  \n",
       "23                   получение образование\\n        образование  \n",
       "24                              автомобиль\\n         автомобиль  \n",
       "25                                 свадьба\\n            свадьба  \n",
       "26    получение дополнительный образование\\n        образование  \n",
       "27                      покупка свой жилье\\n       недвижимость  \n",
       "28                 операция с недвижимость\\n       недвижимость  \n",
       "29           получение высокий образование\\n        образование  \n",
       "30                         свой автомобиль\\n         автомобиль  \n",
       "31                     сделка с автомобиль\\n         автомобиль  \n",
       "32                  профильный образование\\n        образование  \n",
       "33                     высокий образование\\n        образование  \n",
       "34                 покупка жилье для сдача\\n       недвижимость  \n",
       "35                   на покупка автомобиль\\n         автомобиль  \n",
       "36                            ремонт жилье\\n             ремонт  \n",
       "37          заниматься высокий образование\\n        образование  "
      ]
     },
     "execution_count": 75,
     "metadata": {},
     "output_type": "execute_result"
    }
   ],
   "source": [
    "# меняем 'жилье' на 'недвижимость', а если в лемме есть 'коммерческий', то меняем на 'недвижимость ком.'\n",
    "names['new_name'] = names['new_name'].replace('жилье', 'недвижимость')\n",
    "for n in range(len(purposes)):\n",
    "    if 'коммерческий' in names.loc[n,'lemma']:\n",
    "            names.loc[n,'new_name'] = 'недвижимость ком.'\n",
    "names"
   ]
  },
  {
   "cell_type": "markdown",
   "metadata": {},
   "source": [
    "Таблица соответствий готова. Применим ее для замены оригинальных значений 'purpose' на новые."
   ]
  },
  {
   "cell_type": "code",
   "execution_count": 76,
   "metadata": {},
   "outputs": [
    {
     "data": {
      "text/plain": [
       "array(['недвижимость', 'автомобиль', 'образование', 'свадьба',\n",
       "       'недвижимость ком.', 'ремонт'], dtype=object)"
      ]
     },
     "execution_count": 76,
     "metadata": {},
     "output_type": "execute_result"
    }
   ],
   "source": [
    "for i in range(len(purposes)):\n",
    "    data['purpose'] = data['purpose'].replace(names.loc[i, 'original_name'], names.loc[i, 'new_name'])\n",
    "# проверка\n",
    "data['purpose'].unique()"
   ]
  },
  {
   "cell_type": "markdown",
   "metadata": {},
   "source": [
    "**Вывод**"
   ]
  },
  {
   "cell_type": "markdown",
   "metadata": {},
   "source": [
    "В исходных данных цели, обозначенные разними словами, зачастую имели одно значение. Лемматизация помогла выделить из 38 разныз целей в исходных данных 6 групп."
   ]
  },
  {
   "cell_type": "markdown",
   "metadata": {},
   "source": [
    "### Категоризация данных"
   ]
  },
  {
   "cell_type": "markdown",
   "metadata": {},
   "source": [
    "**Определим зависимость между количеством детей и случаями задолженности.**"
   ]
  },
  {
   "cell_type": "code",
   "execution_count": 77,
   "metadata": {},
   "outputs": [],
   "source": [
    "# создадим функцию для подсчёта общего числа записей в столбце 'm' удоблетворяющих критерию 'n'\n",
    "def total_lines (n, m):\n",
    "    tl = data.loc[data[m] == n][m].count()\n",
    "    return tl"
   ]
  },
  {
   "cell_type": "code",
   "execution_count": 78,
   "metadata": {},
   "outputs": [],
   "source": [
    "# Функция для нахождения случаев задолженности по категории (cret)\n",
    "def dep(cret):\n",
    "    data2 = data.loc[:, [cret, 'debt']].groupby(cret).sum()\n",
    "    data2 ['total_cases'] = data.groupby(cret)[cret].count()\n",
    "    data2 ['ratio'] =(data2 ['debt'] / data2 ['total_cases'])\n",
    "    data2 ['div_from_total'] = data2 ['ratio'] - data['debt'].sum() / data['debt'].count()\n",
    "    data2 = data2.style.format({'ratio':'{:.2%}', 'div_from_total':'{:.2%}'})\n",
    "    print ('Total debt ratio {:.2%}'.format(data['debt'].sum() / data['debt'].count()))\n",
    "    return data2"
   ]
  },
  {
   "cell_type": "code",
   "execution_count": 79,
   "metadata": {},
   "outputs": [
    {
     "name": "stdout",
     "output_type": "stream",
     "text": [
      "Total debt ratio 8.11%\n"
     ]
    },
    {
     "data": {
      "text/html": [
       "<style  type=\"text/css\" >\n",
       "</style><table id=\"T_7c862_\" ><thead>    <tr>        <th class=\"blank level0\" ></th>        <th class=\"col_heading level0 col0\" >debt</th>        <th class=\"col_heading level0 col1\" >total_cases</th>        <th class=\"col_heading level0 col2\" >ratio</th>        <th class=\"col_heading level0 col3\" >div_from_total</th>    </tr>    <tr>        <th class=\"index_name level0\" >children</th>        <th class=\"blank\" ></th>        <th class=\"blank\" ></th>        <th class=\"blank\" ></th>        <th class=\"blank\" ></th>    </tr></thead><tbody>\n",
       "                <tr>\n",
       "                        <th id=\"T_7c862_level0_row0\" class=\"row_heading level0 row0\" >0</th>\n",
       "                        <td id=\"T_7c862_row0_col0\" class=\"data row0 col0\" >1063</td>\n",
       "                        <td id=\"T_7c862_row0_col1\" class=\"data row0 col1\" >14099</td>\n",
       "                        <td id=\"T_7c862_row0_col2\" class=\"data row0 col2\" >7.54%</td>\n",
       "                        <td id=\"T_7c862_row0_col3\" class=\"data row0 col3\" >-0.57%</td>\n",
       "            </tr>\n",
       "            <tr>\n",
       "                        <th id=\"T_7c862_level0_row1\" class=\"row_heading level0 row1\" >1</th>\n",
       "                        <td id=\"T_7c862_row1_col0\" class=\"data row1 col0\" >445</td>\n",
       "                        <td id=\"T_7c862_row1_col1\" class=\"data row1 col1\" >4855</td>\n",
       "                        <td id=\"T_7c862_row1_col2\" class=\"data row1 col2\" >9.17%</td>\n",
       "                        <td id=\"T_7c862_row1_col3\" class=\"data row1 col3\" >1.05%</td>\n",
       "            </tr>\n",
       "            <tr>\n",
       "                        <th id=\"T_7c862_level0_row2\" class=\"row_heading level0 row2\" >2</th>\n",
       "                        <td id=\"T_7c862_row2_col0\" class=\"data row2 col0\" >202</td>\n",
       "                        <td id=\"T_7c862_row2_col1\" class=\"data row2 col1\" >2128</td>\n",
       "                        <td id=\"T_7c862_row2_col2\" class=\"data row2 col2\" >9.49%</td>\n",
       "                        <td id=\"T_7c862_row2_col3\" class=\"data row2 col3\" >1.38%</td>\n",
       "            </tr>\n",
       "            <tr>\n",
       "                        <th id=\"T_7c862_level0_row3\" class=\"row_heading level0 row3\" >3</th>\n",
       "                        <td id=\"T_7c862_row3_col0\" class=\"data row3 col0\" >27</td>\n",
       "                        <td id=\"T_7c862_row3_col1\" class=\"data row3 col1\" >329</td>\n",
       "                        <td id=\"T_7c862_row3_col2\" class=\"data row3 col2\" >8.21%</td>\n",
       "                        <td id=\"T_7c862_row3_col3\" class=\"data row3 col3\" >0.09%</td>\n",
       "            </tr>\n",
       "            <tr>\n",
       "                        <th id=\"T_7c862_level0_row4\" class=\"row_heading level0 row4\" >4</th>\n",
       "                        <td id=\"T_7c862_row4_col0\" class=\"data row4 col0\" >4</td>\n",
       "                        <td id=\"T_7c862_row4_col1\" class=\"data row4 col1\" >41</td>\n",
       "                        <td id=\"T_7c862_row4_col2\" class=\"data row4 col2\" >9.76%</td>\n",
       "                        <td id=\"T_7c862_row4_col3\" class=\"data row4 col3\" >1.64%</td>\n",
       "            </tr>\n",
       "            <tr>\n",
       "                        <th id=\"T_7c862_level0_row5\" class=\"row_heading level0 row5\" >5</th>\n",
       "                        <td id=\"T_7c862_row5_col0\" class=\"data row5 col0\" >0</td>\n",
       "                        <td id=\"T_7c862_row5_col1\" class=\"data row5 col1\" >9</td>\n",
       "                        <td id=\"T_7c862_row5_col2\" class=\"data row5 col2\" >0.00%</td>\n",
       "                        <td id=\"T_7c862_row5_col3\" class=\"data row5 col3\" >-8.11%</td>\n",
       "            </tr>\n",
       "    </tbody></table>"
      ],
      "text/plain": [
       "<pandas.io.formats.style.Styler at 0x4931ab0c10>"
      ]
     },
     "execution_count": 79,
     "metadata": {},
     "output_type": "execute_result"
    }
   ],
   "source": [
    "data_children = dep('children')\n",
    "data_children"
   ]
  },
  {
   "cell_type": "markdown",
   "metadata": {},
   "source": [
    "**Определим зависимость между семейным положением и случаями задолженности.**"
   ]
  },
  {
   "cell_type": "code",
   "execution_count": 80,
   "metadata": {},
   "outputs": [
    {
     "name": "stdout",
     "output_type": "stream",
     "text": [
      "Total debt ratio 8.11%\n"
     ]
    },
    {
     "data": {
      "text/html": [
       "<style  type=\"text/css\" >\n",
       "</style><table id=\"T_986a2_\" ><thead>    <tr>        <th class=\"blank level0\" ></th>        <th class=\"col_heading level0 col0\" >debt</th>        <th class=\"col_heading level0 col1\" >total_cases</th>        <th class=\"col_heading level0 col2\" >ratio</th>        <th class=\"col_heading level0 col3\" >div_from_total</th>    </tr>    <tr>        <th class=\"index_name level0\" >family_status</th>        <th class=\"blank\" ></th>        <th class=\"blank\" ></th>        <th class=\"blank\" ></th>        <th class=\"blank\" ></th>    </tr></thead><tbody>\n",
       "                <tr>\n",
       "                        <th id=\"T_986a2_level0_row0\" class=\"row_heading level0 row0\" >в разводе</th>\n",
       "                        <td id=\"T_986a2_row0_col0\" class=\"data row0 col0\" >85</td>\n",
       "                        <td id=\"T_986a2_row0_col1\" class=\"data row0 col1\" >1194</td>\n",
       "                        <td id=\"T_986a2_row0_col2\" class=\"data row0 col2\" >7.12%</td>\n",
       "                        <td id=\"T_986a2_row0_col3\" class=\"data row0 col3\" >-0.99%</td>\n",
       "            </tr>\n",
       "            <tr>\n",
       "                        <th id=\"T_986a2_level0_row1\" class=\"row_heading level0 row1\" >вдовец / вдова</th>\n",
       "                        <td id=\"T_986a2_row1_col0\" class=\"data row1 col0\" >63</td>\n",
       "                        <td id=\"T_986a2_row1_col1\" class=\"data row1 col1\" >958</td>\n",
       "                        <td id=\"T_986a2_row1_col2\" class=\"data row1 col2\" >6.58%</td>\n",
       "                        <td id=\"T_986a2_row1_col3\" class=\"data row1 col3\" >-1.54%</td>\n",
       "            </tr>\n",
       "            <tr>\n",
       "                        <th id=\"T_986a2_level0_row2\" class=\"row_heading level0 row2\" >гражданский брак</th>\n",
       "                        <td id=\"T_986a2_row2_col0\" class=\"data row2 col0\" >388</td>\n",
       "                        <td id=\"T_986a2_row2_col1\" class=\"data row2 col1\" >4160</td>\n",
       "                        <td id=\"T_986a2_row2_col2\" class=\"data row2 col2\" >9.33%</td>\n",
       "                        <td id=\"T_986a2_row2_col3\" class=\"data row2 col3\" >1.21%</td>\n",
       "            </tr>\n",
       "            <tr>\n",
       "                        <th id=\"T_986a2_level0_row3\" class=\"row_heading level0 row3\" >женат / замужем</th>\n",
       "                        <td id=\"T_986a2_row3_col0\" class=\"data row3 col0\" >931</td>\n",
       "                        <td id=\"T_986a2_row3_col1\" class=\"data row3 col1\" >12340</td>\n",
       "                        <td id=\"T_986a2_row3_col2\" class=\"data row3 col2\" >7.54%</td>\n",
       "                        <td id=\"T_986a2_row3_col3\" class=\"data row3 col3\" >-0.57%</td>\n",
       "            </tr>\n",
       "            <tr>\n",
       "                        <th id=\"T_986a2_level0_row4\" class=\"row_heading level0 row4\" >не женат / не замужем</th>\n",
       "                        <td id=\"T_986a2_row4_col0\" class=\"data row4 col0\" >274</td>\n",
       "                        <td id=\"T_986a2_row4_col1\" class=\"data row4 col1\" >2809</td>\n",
       "                        <td id=\"T_986a2_row4_col2\" class=\"data row4 col2\" >9.75%</td>\n",
       "                        <td id=\"T_986a2_row4_col3\" class=\"data row4 col3\" >1.64%</td>\n",
       "            </tr>\n",
       "    </tbody></table>"
      ],
      "text/plain": [
       "<pandas.io.formats.style.Styler at 0x49319710d0>"
      ]
     },
     "execution_count": 80,
     "metadata": {},
     "output_type": "execute_result"
    }
   ],
   "source": [
    "data_family_st = dep('family_status')\n",
    "data_family_st"
   ]
  },
  {
   "cell_type": "markdown",
   "metadata": {},
   "source": [
    "**Определим зависимость между уровнем дохода и случаями задолженности.**"
   ]
  },
  {
   "cell_type": "markdown",
   "metadata": {},
   "source": [
    "Для определения замвисимости случаев задолженности от уроня дохода, необходимо сформировать интервалы по уровню дохода с приемлемой репрезентативностью."
   ]
  },
  {
   "cell_type": "code",
   "execution_count": 81,
   "metadata": {},
   "outputs": [
    {
     "name": "stdout",
     "output_type": "stream",
     "text": [
      "Минимальный доход  20667\n",
      "Медианный доход    142594\n",
      "Средний доход      165306\n",
      "Максимальны доход  2265604\n"
     ]
    }
   ],
   "source": [
    "# посмотрим показатели дохода\n",
    "print ('Минимальный доход ', data['total_income'].min())\n",
    "print ('Медианный доход   ', int(data['total_income'].median()))\n",
    "print ('Средний доход     ', int(data['total_income'].mean()))\n",
    "print ('Максимальны доход ', data['total_income'].max())"
   ]
  },
  {
   "cell_type": "markdown",
   "metadata": {},
   "source": [
    "Видим широкий разброс дохода. Максимальный больше минимального почти в 110 раз. Значительное превышение среднего над медианой говорит о том, что есть \"выбросы\" у верхней границы доходов. Будем полагать, что на такой выборке нам будет достаточно разбить клиетнов на 5 групп по уровню дохода. Отсортируем данные по увеличению дохода и определим верхнии границы интервалов."
   ]
  },
  {
   "cell_type": "code",
   "execution_count": 82,
   "metadata": {},
   "outputs": [],
   "source": [
    "# сортировка по уровню дохода c сохранением старых индексов\n",
    "data = data.sort_values(by = 'total_income').reset_index()"
   ]
  },
  {
   "cell_type": "code",
   "execution_count": 83,
   "metadata": {},
   "outputs": [
    {
     "name": "stdout",
     "output_type": "stream",
     "text": [
      "Интервал 1 верхняя граница 98552\n",
      "Интервал 2 верхняя граница 132121\n",
      "Интервал 3 верхняя граница 161306\n",
      "Интервал 4 верхняя граница 214604\n"
     ]
    }
   ],
   "source": [
    "# определим интервалы в каждом из которых будет 1/5 от общего колечества данных\n",
    "# вернём значение дохода для последней записи интервала\n",
    "for i in range(4):\n",
    "    n = data['total_income'].count() // 5 + data['total_income'].count() //5 * i\n",
    "    print ('Интервал', i+1, 'верхняя граница',data.loc[n,'total_income'])"
   ]
  },
  {
   "cell_type": "code",
   "execution_count": 84,
   "metadata": {},
   "outputs": [],
   "source": [
    "# округлим полученные данные и создадим словарь названий интервалов\n",
    "incom_levels = {\n",
    "        1 : 'до 100000',\n",
    "        2 : 'от 100001 до 130000',\n",
    "        3 : 'от 130001 до 160000',\n",
    "        4 : 'от 160001 до 220000',\n",
    "        5 : 'свыше 220001'\n",
    "}"
   ]
  },
  {
   "cell_type": "code",
   "execution_count": 85,
   "metadata": {},
   "outputs": [],
   "source": [
    "# функция для нахождение номера интервада по доходу\n",
    "def incom_id(incom):\n",
    "    if incom <= 100000:\n",
    "        return 1\n",
    "    elif incom > 100000 and incom <= 130000:\n",
    "        return 2\n",
    "    elif incom > 130000 and incom <= 160000:\n",
    "        return 3\n",
    "    elif incom > 160000 and incom <= 220000:\n",
    "        return 4\n",
    "    else:\n",
    "        return 5"
   ]
  },
  {
   "cell_type": "code",
   "execution_count": 86,
   "metadata": {},
   "outputs": [],
   "source": [
    "# добавим в табдицу столбец 'incom_id', \n",
    "# значения которого получаться в результате применения функции incom_id к столбцу 'total_income'\n",
    "data ['incom_id'] = data['total_income'].apply(incom_id)"
   ]
  },
  {
   "cell_type": "code",
   "execution_count": 87,
   "metadata": {},
   "outputs": [
    {
     "name": "stdout",
     "output_type": "stream",
     "text": [
      "Total debt ratio 8.11%\n"
     ]
    },
    {
     "data": {
      "text/html": [
       "<style  type=\"text/css\" >\n",
       "</style><table id=\"T_dc13f_\" ><thead>    <tr>        <th class=\"blank level0\" ></th>        <th class=\"col_heading level0 col0\" >incom_level</th>        <th class=\"col_heading level0 col1\" >debt</th>        <th class=\"col_heading level0 col2\" >total_cases</th>        <th class=\"col_heading level0 col3\" >ratio</th>        <th class=\"col_heading level0 col4\" >div_from_total</th>    </tr>    <tr>        <th class=\"index_name level0\" >incom_id</th>        <th class=\"blank\" ></th>        <th class=\"blank\" ></th>        <th class=\"blank\" ></th>        <th class=\"blank\" ></th>        <th class=\"blank\" ></th>    </tr></thead><tbody>\n",
       "                <tr>\n",
       "                        <th id=\"T_dc13f_level0_row0\" class=\"row_heading level0 row0\" >1</th>\n",
       "                        <td id=\"T_dc13f_row0_col0\" class=\"data row0 col0\" >до 100000</td>\n",
       "                        <td id=\"T_dc13f_row0_col1\" class=\"data row0 col1\" >354</td>\n",
       "                        <td id=\"T_dc13f_row0_col2\" class=\"data row0 col2\" >4463</td>\n",
       "                        <td id=\"T_dc13f_row0_col3\" class=\"data row0 col3\" >7.93%</td>\n",
       "                        <td id=\"T_dc13f_row0_col4\" class=\"data row0 col4\" >-0.18%</td>\n",
       "            </tr>\n",
       "            <tr>\n",
       "                        <th id=\"T_dc13f_level0_row1\" class=\"row_heading level0 row1\" >2</th>\n",
       "                        <td id=\"T_dc13f_row1_col0\" class=\"data row1 col0\" >от 100001 до 130000</td>\n",
       "                        <td id=\"T_dc13f_row1_col1\" class=\"data row1 col1\" >328</td>\n",
       "                        <td id=\"T_dc13f_row1_col2\" class=\"data row1 col2\" >3871</td>\n",
       "                        <td id=\"T_dc13f_row1_col3\" class=\"data row1 col3\" >8.47%</td>\n",
       "                        <td id=\"T_dc13f_row1_col4\" class=\"data row1 col4\" >0.36%</td>\n",
       "            </tr>\n",
       "            <tr>\n",
       "                        <th id=\"T_dc13f_level0_row2\" class=\"row_heading level0 row2\" >3</th>\n",
       "                        <td id=\"T_dc13f_row2_col0\" class=\"data row2 col0\" >от 130001 до 160000</td>\n",
       "                        <td id=\"T_dc13f_row2_col1\" class=\"data row2 col1\" >391</td>\n",
       "                        <td id=\"T_dc13f_row2_col2\" class=\"data row2 col2\" >4407</td>\n",
       "                        <td id=\"T_dc13f_row2_col3\" class=\"data row2 col3\" >8.87%</td>\n",
       "                        <td id=\"T_dc13f_row2_col4\" class=\"data row2 col4\" >0.76%</td>\n",
       "            </tr>\n",
       "            <tr>\n",
       "                        <th id=\"T_dc13f_level0_row3\" class=\"row_heading level0 row3\" >4</th>\n",
       "                        <td id=\"T_dc13f_row3_col0\" class=\"data row3 col0\" >от 160001 до 220000</td>\n",
       "                        <td id=\"T_dc13f_row3_col1\" class=\"data row3 col1\" >384</td>\n",
       "                        <td id=\"T_dc13f_row3_col2\" class=\"data row3 col2\" >4712</td>\n",
       "                        <td id=\"T_dc13f_row3_col3\" class=\"data row3 col3\" >8.15%</td>\n",
       "                        <td id=\"T_dc13f_row3_col4\" class=\"data row3 col4\" >0.04%</td>\n",
       "            </tr>\n",
       "            <tr>\n",
       "                        <th id=\"T_dc13f_level0_row4\" class=\"row_heading level0 row4\" >5</th>\n",
       "                        <td id=\"T_dc13f_row4_col0\" class=\"data row4 col0\" >свыше 220001</td>\n",
       "                        <td id=\"T_dc13f_row4_col1\" class=\"data row4 col1\" >284</td>\n",
       "                        <td id=\"T_dc13f_row4_col2\" class=\"data row4 col2\" >4008</td>\n",
       "                        <td id=\"T_dc13f_row4_col3\" class=\"data row4 col3\" >7.09%</td>\n",
       "                        <td id=\"T_dc13f_row4_col4\" class=\"data row4 col4\" >-1.03%</td>\n",
       "            </tr>\n",
       "    </tbody></table>"
      ],
      "text/plain": [
       "<pandas.io.formats.style.Styler at 0x49316c73d0>"
      ]
     },
     "execution_count": 87,
     "metadata": {},
     "output_type": "execute_result"
    }
   ],
   "source": [
    "# тут немного доработаем для добавления колонки с названием интервала\n",
    "data_incom = dep('incom_id').data\n",
    "data_incom.insert(0, 'incom_level', [incom_levels.get(x) for x in data_incom.index])\n",
    "data_incom = data_incom.style.format({'ratio':'{:.2%}', 'div_from_total':'{:.2%}'})\n",
    "data_incom"
   ]
  },
  {
   "cell_type": "markdown",
   "metadata": {},
   "source": [
    "**Определим зависимость между целью кредитаи случаями задолженности.**"
   ]
  },
  {
   "cell_type": "code",
   "execution_count": 88,
   "metadata": {
    "scrolled": true
   },
   "outputs": [
    {
     "name": "stdout",
     "output_type": "stream",
     "text": [
      "Цель кредита - недвижимость       | случаев задолженности  648  | доля по группе  7.29  % | всего в группе 8889\n",
      "Цель кредита - образование        | случаев задолженности  370  | доля по группе  9.22  % | всего в группе 4014\n",
      "Цель кредита - автомобиль         | случаев задолженности  403  | доля по группе  9.35  % | всего в группе 4308\n",
      "Цель кредита - свадьба            | случаев задолженности  186  | доля по группе  7.97  % | всего в группе 2333\n",
      "Цель кредита - недвижимость ком.  | случаев задолженности  99   | доля по группе  7.55  % | всего в группе 1311\n",
      "Цель кредита - ремонт             | случаев задолженности  35   | доля по группе  5.78  % | всего в группе 606\n"
     ]
    }
   ],
   "source": [
    "# зависимость между целью кредита и случаями задолженности\n",
    "for i in data['purpose'].unique():\n",
    "    debt_cases = data.loc[data['purpose'] == i]['debt'].sum()\n",
    "    debt_ratio = round(debt_cases / total_lines(i, 'purpose') *100, 2)\n",
    "    print(f\"Цель кредита - {i:<18} | случаев задолженности {debt_cases: < 5} | доля по группе {debt_ratio: < 6} % | всего в группе {total_lines(i, 'purpose')}\" )"
   ]
  },
  {
   "cell_type": "code",
   "execution_count": 89,
   "metadata": {},
   "outputs": [
    {
     "name": "stdout",
     "output_type": "stream",
     "text": [
      "Total debt ratio 8.11%\n"
     ]
    },
    {
     "data": {
      "text/html": [
       "<style  type=\"text/css\" >\n",
       "</style><table id=\"T_f906e_\" ><thead>    <tr>        <th class=\"blank level0\" ></th>        <th class=\"col_heading level0 col0\" >debt</th>        <th class=\"col_heading level0 col1\" >total_cases</th>        <th class=\"col_heading level0 col2\" >ratio</th>        <th class=\"col_heading level0 col3\" >div_from_total</th>    </tr>    <tr>        <th class=\"index_name level0\" >purpose</th>        <th class=\"blank\" ></th>        <th class=\"blank\" ></th>        <th class=\"blank\" ></th>        <th class=\"blank\" ></th>    </tr></thead><tbody>\n",
       "                <tr>\n",
       "                        <th id=\"T_f906e_level0_row0\" class=\"row_heading level0 row0\" >автомобиль</th>\n",
       "                        <td id=\"T_f906e_row0_col0\" class=\"data row0 col0\" >403</td>\n",
       "                        <td id=\"T_f906e_row0_col1\" class=\"data row0 col1\" >4308</td>\n",
       "                        <td id=\"T_f906e_row0_col2\" class=\"data row0 col2\" >9.35%</td>\n",
       "                        <td id=\"T_f906e_row0_col3\" class=\"data row0 col3\" >1.24%</td>\n",
       "            </tr>\n",
       "            <tr>\n",
       "                        <th id=\"T_f906e_level0_row1\" class=\"row_heading level0 row1\" >недвижимость</th>\n",
       "                        <td id=\"T_f906e_row1_col0\" class=\"data row1 col0\" >648</td>\n",
       "                        <td id=\"T_f906e_row1_col1\" class=\"data row1 col1\" >8889</td>\n",
       "                        <td id=\"T_f906e_row1_col2\" class=\"data row1 col2\" >7.29%</td>\n",
       "                        <td id=\"T_f906e_row1_col3\" class=\"data row1 col3\" >-0.82%</td>\n",
       "            </tr>\n",
       "            <tr>\n",
       "                        <th id=\"T_f906e_level0_row2\" class=\"row_heading level0 row2\" >недвижимость ком.</th>\n",
       "                        <td id=\"T_f906e_row2_col0\" class=\"data row2 col0\" >99</td>\n",
       "                        <td id=\"T_f906e_row2_col1\" class=\"data row2 col1\" >1311</td>\n",
       "                        <td id=\"T_f906e_row2_col2\" class=\"data row2 col2\" >7.55%</td>\n",
       "                        <td id=\"T_f906e_row2_col3\" class=\"data row2 col3\" >-0.56%</td>\n",
       "            </tr>\n",
       "            <tr>\n",
       "                        <th id=\"T_f906e_level0_row3\" class=\"row_heading level0 row3\" >образование</th>\n",
       "                        <td id=\"T_f906e_row3_col0\" class=\"data row3 col0\" >370</td>\n",
       "                        <td id=\"T_f906e_row3_col1\" class=\"data row3 col1\" >4014</td>\n",
       "                        <td id=\"T_f906e_row3_col2\" class=\"data row3 col2\" >9.22%</td>\n",
       "                        <td id=\"T_f906e_row3_col3\" class=\"data row3 col3\" >1.11%</td>\n",
       "            </tr>\n",
       "            <tr>\n",
       "                        <th id=\"T_f906e_level0_row4\" class=\"row_heading level0 row4\" >ремонт</th>\n",
       "                        <td id=\"T_f906e_row4_col0\" class=\"data row4 col0\" >35</td>\n",
       "                        <td id=\"T_f906e_row4_col1\" class=\"data row4 col1\" >606</td>\n",
       "                        <td id=\"T_f906e_row4_col2\" class=\"data row4 col2\" >5.78%</td>\n",
       "                        <td id=\"T_f906e_row4_col3\" class=\"data row4 col3\" >-2.34%</td>\n",
       "            </tr>\n",
       "            <tr>\n",
       "                        <th id=\"T_f906e_level0_row5\" class=\"row_heading level0 row5\" >свадьба</th>\n",
       "                        <td id=\"T_f906e_row5_col0\" class=\"data row5 col0\" >186</td>\n",
       "                        <td id=\"T_f906e_row5_col1\" class=\"data row5 col1\" >2333</td>\n",
       "                        <td id=\"T_f906e_row5_col2\" class=\"data row5 col2\" >7.97%</td>\n",
       "                        <td id=\"T_f906e_row5_col3\" class=\"data row5 col3\" >-0.14%</td>\n",
       "            </tr>\n",
       "    </tbody></table>"
      ],
      "text/plain": [
       "<pandas.io.formats.style.Styler at 0x492ad733a0>"
      ]
     },
     "execution_count": 89,
     "metadata": {},
     "output_type": "execute_result"
    }
   ],
   "source": [
    "data_purpose = dep('purpose')\n",
    "data_purpose"
   ]
  },
  {
   "cell_type": "markdown",
   "metadata": {},
   "source": [
    "**Дополнительно.** Хотя это и не требуется в рамках задания, но оценим, на смольно другие представленные в данных факторы влияют на финансовую дисциплину клиента."
   ]
  },
  {
   "cell_type": "code",
   "execution_count": 90,
   "metadata": {},
   "outputs": [
    {
     "name": "stdout",
     "output_type": "stream",
     "text": [
      "Total debt ratio 8.11%\n"
     ]
    },
    {
     "data": {
      "text/html": [
       "<style  type=\"text/css\" >\n",
       "</style><table id=\"T_91182_\" ><thead>    <tr>        <th class=\"blank level0\" ></th>        <th class=\"col_heading level0 col0\" >debt</th>        <th class=\"col_heading level0 col1\" >total_cases</th>        <th class=\"col_heading level0 col2\" >ratio</th>        <th class=\"col_heading level0 col3\" >div_from_total</th>    </tr>    <tr>        <th class=\"index_name level0\" >education</th>        <th class=\"blank\" ></th>        <th class=\"blank\" ></th>        <th class=\"blank\" ></th>        <th class=\"blank\" ></th>    </tr></thead><tbody>\n",
       "                <tr>\n",
       "                        <th id=\"T_91182_level0_row0\" class=\"row_heading level0 row0\" >высшее</th>\n",
       "                        <td id=\"T_91182_row0_col0\" class=\"data row0 col0\" >278</td>\n",
       "                        <td id=\"T_91182_row0_col1\" class=\"data row0 col1\" >5248</td>\n",
       "                        <td id=\"T_91182_row0_col2\" class=\"data row0 col2\" >5.30%</td>\n",
       "                        <td id=\"T_91182_row0_col3\" class=\"data row0 col3\" >-2.82%</td>\n",
       "            </tr>\n",
       "            <tr>\n",
       "                        <th id=\"T_91182_level0_row1\" class=\"row_heading level0 row1\" >начальное</th>\n",
       "                        <td id=\"T_91182_row1_col0\" class=\"data row1 col0\" >31</td>\n",
       "                        <td id=\"T_91182_row1_col1\" class=\"data row1 col1\" >282</td>\n",
       "                        <td id=\"T_91182_row1_col2\" class=\"data row1 col2\" >10.99%</td>\n",
       "                        <td id=\"T_91182_row1_col3\" class=\"data row1 col3\" >2.88%</td>\n",
       "            </tr>\n",
       "            <tr>\n",
       "                        <th id=\"T_91182_level0_row2\" class=\"row_heading level0 row2\" >неоконченное высшее</th>\n",
       "                        <td id=\"T_91182_row2_col0\" class=\"data row2 col0\" >68</td>\n",
       "                        <td id=\"T_91182_row2_col1\" class=\"data row2 col1\" >744</td>\n",
       "                        <td id=\"T_91182_row2_col2\" class=\"data row2 col2\" >9.14%</td>\n",
       "                        <td id=\"T_91182_row2_col3\" class=\"data row2 col3\" >1.03%</td>\n",
       "            </tr>\n",
       "            <tr>\n",
       "                        <th id=\"T_91182_level0_row3\" class=\"row_heading level0 row3\" >среднее</th>\n",
       "                        <td id=\"T_91182_row3_col0\" class=\"data row3 col0\" >1364</td>\n",
       "                        <td id=\"T_91182_row3_col1\" class=\"data row3 col1\" >15181</td>\n",
       "                        <td id=\"T_91182_row3_col2\" class=\"data row3 col2\" >8.98%</td>\n",
       "                        <td id=\"T_91182_row3_col3\" class=\"data row3 col3\" >0.87%</td>\n",
       "            </tr>\n",
       "            <tr>\n",
       "                        <th id=\"T_91182_level0_row4\" class=\"row_heading level0 row4\" >ученая степень</th>\n",
       "                        <td id=\"T_91182_row4_col0\" class=\"data row4 col0\" >0</td>\n",
       "                        <td id=\"T_91182_row4_col1\" class=\"data row4 col1\" >6</td>\n",
       "                        <td id=\"T_91182_row4_col2\" class=\"data row4 col2\" >0.00%</td>\n",
       "                        <td id=\"T_91182_row4_col3\" class=\"data row4 col3\" >-8.11%</td>\n",
       "            </tr>\n",
       "    </tbody></table>"
      ],
      "text/plain": [
       "<pandas.io.formats.style.Styler at 0x492ad6ffa0>"
      ]
     },
     "execution_count": 90,
     "metadata": {},
     "output_type": "execute_result"
    }
   ],
   "source": [
    "data_education = dep('education')\n",
    "data_education"
   ]
  },
  {
   "cell_type": "code",
   "execution_count": 91,
   "metadata": {},
   "outputs": [],
   "source": [
    "# зависимость между полом заёмщика и случаями задолженности\n",
    "gender_f = {\n",
    "        'M' : 'Мужчина',\n",
    "        'F' : 'Женщина',\n",
    "        'XNA' : 'Неопределено'\n",
    "}"
   ]
  },
  {
   "cell_type": "code",
   "execution_count": 92,
   "metadata": {},
   "outputs": [
    {
     "name": "stdout",
     "output_type": "stream",
     "text": [
      "Total debt ratio 8.11%\n"
     ]
    },
    {
     "data": {
      "text/html": [
       "<style  type=\"text/css\" >\n",
       "</style><table id=\"T_5ad3d_\" ><thead>    <tr>        <th class=\"blank level0\" ></th>        <th class=\"col_heading level0 col0\" >gender_name</th>        <th class=\"col_heading level0 col1\" >debt</th>        <th class=\"col_heading level0 col2\" >total_cases</th>        <th class=\"col_heading level0 col3\" >ratio</th>        <th class=\"col_heading level0 col4\" >div_from_total</th>    </tr>    <tr>        <th class=\"index_name level0\" >gender</th>        <th class=\"blank\" ></th>        <th class=\"blank\" ></th>        <th class=\"blank\" ></th>        <th class=\"blank\" ></th>        <th class=\"blank\" ></th>    </tr></thead><tbody>\n",
       "                <tr>\n",
       "                        <th id=\"T_5ad3d_level0_row0\" class=\"row_heading level0 row0\" >F</th>\n",
       "                        <td id=\"T_5ad3d_row0_col0\" class=\"data row0 col0\" >Женщина</td>\n",
       "                        <td id=\"T_5ad3d_row0_col1\" class=\"data row0 col1\" >994</td>\n",
       "                        <td id=\"T_5ad3d_row0_col2\" class=\"data row0 col2\" >14181</td>\n",
       "                        <td id=\"T_5ad3d_row0_col3\" class=\"data row0 col3\" >7.01%</td>\n",
       "                        <td id=\"T_5ad3d_row0_col4\" class=\"data row0 col4\" >-1.10%</td>\n",
       "            </tr>\n",
       "            <tr>\n",
       "                        <th id=\"T_5ad3d_level0_row1\" class=\"row_heading level0 row1\" >M</th>\n",
       "                        <td id=\"T_5ad3d_row1_col0\" class=\"data row1 col0\" >Мужчина</td>\n",
       "                        <td id=\"T_5ad3d_row1_col1\" class=\"data row1 col1\" >747</td>\n",
       "                        <td id=\"T_5ad3d_row1_col2\" class=\"data row1 col2\" >7279</td>\n",
       "                        <td id=\"T_5ad3d_row1_col3\" class=\"data row1 col3\" >10.26%</td>\n",
       "                        <td id=\"T_5ad3d_row1_col4\" class=\"data row1 col4\" >2.15%</td>\n",
       "            </tr>\n",
       "            <tr>\n",
       "                        <th id=\"T_5ad3d_level0_row2\" class=\"row_heading level0 row2\" >XNA</th>\n",
       "                        <td id=\"T_5ad3d_row2_col0\" class=\"data row2 col0\" >Неопределено</td>\n",
       "                        <td id=\"T_5ad3d_row2_col1\" class=\"data row2 col1\" >0</td>\n",
       "                        <td id=\"T_5ad3d_row2_col2\" class=\"data row2 col2\" >1</td>\n",
       "                        <td id=\"T_5ad3d_row2_col3\" class=\"data row2 col3\" >0.00%</td>\n",
       "                        <td id=\"T_5ad3d_row2_col4\" class=\"data row2 col4\" >-8.11%</td>\n",
       "            </tr>\n",
       "    </tbody></table>"
      ],
      "text/plain": [
       "<pandas.io.formats.style.Styler at 0x492ad5bcd0>"
      ]
     },
     "execution_count": 92,
     "metadata": {},
     "output_type": "execute_result"
    }
   ],
   "source": [
    "data_gender = dep('gender').data\n",
    "data_gender.insert(0, 'gender_name', [gender_f.get(x) for x in data_gender.index])\n",
    "data_gender = data_gender.style.format({'ratio':'{:.2%}', 'div_from_total':'{:.2%}'})\n",
    "data_gender"
   ]
  },
  {
   "cell_type": "code",
   "execution_count": 93,
   "metadata": {},
   "outputs": [
    {
     "name": "stdout",
     "output_type": "stream",
     "text": [
      "Total debt ratio 8.11%\n"
     ]
    },
    {
     "data": {
      "text/html": [
       "<style  type=\"text/css\" >\n",
       "</style><table id=\"T_92a77_\" ><thead>    <tr>        <th class=\"blank level0\" ></th>        <th class=\"col_heading level0 col0\" >debt</th>        <th class=\"col_heading level0 col1\" >total_cases</th>        <th class=\"col_heading level0 col2\" >ratio</th>        <th class=\"col_heading level0 col3\" >div_from_total</th>    </tr>    <tr>        <th class=\"index_name level0\" >income_type</th>        <th class=\"blank\" ></th>        <th class=\"blank\" ></th>        <th class=\"blank\" ></th>        <th class=\"blank\" ></th>    </tr></thead><tbody>\n",
       "                <tr>\n",
       "                        <th id=\"T_92a77_level0_row0\" class=\"row_heading level0 row0\" >безработный</th>\n",
       "                        <td id=\"T_92a77_row0_col0\" class=\"data row0 col0\" >1</td>\n",
       "                        <td id=\"T_92a77_row0_col1\" class=\"data row0 col1\" >2</td>\n",
       "                        <td id=\"T_92a77_row0_col2\" class=\"data row0 col2\" >50.00%</td>\n",
       "                        <td id=\"T_92a77_row0_col3\" class=\"data row0 col3\" >41.89%</td>\n",
       "            </tr>\n",
       "            <tr>\n",
       "                        <th id=\"T_92a77_level0_row1\" class=\"row_heading level0 row1\" >в декрете</th>\n",
       "                        <td id=\"T_92a77_row1_col0\" class=\"data row1 col0\" >1</td>\n",
       "                        <td id=\"T_92a77_row1_col1\" class=\"data row1 col1\" >1</td>\n",
       "                        <td id=\"T_92a77_row1_col2\" class=\"data row1 col2\" >100.00%</td>\n",
       "                        <td id=\"T_92a77_row1_col3\" class=\"data row1 col3\" >91.89%</td>\n",
       "            </tr>\n",
       "            <tr>\n",
       "                        <th id=\"T_92a77_level0_row2\" class=\"row_heading level0 row2\" >госслужащий</th>\n",
       "                        <td id=\"T_92a77_row2_col0\" class=\"data row2 col0\" >86</td>\n",
       "                        <td id=\"T_92a77_row2_col1\" class=\"data row2 col1\" >1457</td>\n",
       "                        <td id=\"T_92a77_row2_col2\" class=\"data row2 col2\" >5.90%</td>\n",
       "                        <td id=\"T_92a77_row2_col3\" class=\"data row2 col3\" >-2.21%</td>\n",
       "            </tr>\n",
       "            <tr>\n",
       "                        <th id=\"T_92a77_level0_row3\" class=\"row_heading level0 row3\" >компаньон</th>\n",
       "                        <td id=\"T_92a77_row3_col0\" class=\"data row3 col0\" >376</td>\n",
       "                        <td id=\"T_92a77_row3_col1\" class=\"data row3 col1\" >5078</td>\n",
       "                        <td id=\"T_92a77_row3_col2\" class=\"data row3 col2\" >7.40%</td>\n",
       "                        <td id=\"T_92a77_row3_col3\" class=\"data row3 col3\" >-0.71%</td>\n",
       "            </tr>\n",
       "            <tr>\n",
       "                        <th id=\"T_92a77_level0_row4\" class=\"row_heading level0 row4\" >пенсионер</th>\n",
       "                        <td id=\"T_92a77_row4_col0\" class=\"data row4 col0\" >216</td>\n",
       "                        <td id=\"T_92a77_row4_col1\" class=\"data row4 col1\" >3834</td>\n",
       "                        <td id=\"T_92a77_row4_col2\" class=\"data row4 col2\" >5.63%</td>\n",
       "                        <td id=\"T_92a77_row4_col3\" class=\"data row4 col3\" >-2.48%</td>\n",
       "            </tr>\n",
       "            <tr>\n",
       "                        <th id=\"T_92a77_level0_row5\" class=\"row_heading level0 row5\" >предприниматель</th>\n",
       "                        <td id=\"T_92a77_row5_col0\" class=\"data row5 col0\" >0</td>\n",
       "                        <td id=\"T_92a77_row5_col1\" class=\"data row5 col1\" >2</td>\n",
       "                        <td id=\"T_92a77_row5_col2\" class=\"data row5 col2\" >0.00%</td>\n",
       "                        <td id=\"T_92a77_row5_col3\" class=\"data row5 col3\" >-8.11%</td>\n",
       "            </tr>\n",
       "            <tr>\n",
       "                        <th id=\"T_92a77_level0_row6\" class=\"row_heading level0 row6\" >сотрудник</th>\n",
       "                        <td id=\"T_92a77_row6_col0\" class=\"data row6 col0\" >1061</td>\n",
       "                        <td id=\"T_92a77_row6_col1\" class=\"data row6 col1\" >11086</td>\n",
       "                        <td id=\"T_92a77_row6_col2\" class=\"data row6 col2\" >9.57%</td>\n",
       "                        <td id=\"T_92a77_row6_col3\" class=\"data row6 col3\" >1.46%</td>\n",
       "            </tr>\n",
       "            <tr>\n",
       "                        <th id=\"T_92a77_level0_row7\" class=\"row_heading level0 row7\" >студент</th>\n",
       "                        <td id=\"T_92a77_row7_col0\" class=\"data row7 col0\" >0</td>\n",
       "                        <td id=\"T_92a77_row7_col1\" class=\"data row7 col1\" >1</td>\n",
       "                        <td id=\"T_92a77_row7_col2\" class=\"data row7 col2\" >0.00%</td>\n",
       "                        <td id=\"T_92a77_row7_col3\" class=\"data row7 col3\" >-8.11%</td>\n",
       "            </tr>\n",
       "    </tbody></table>"
      ],
      "text/plain": [
       "<pandas.io.formats.style.Styler at 0x4931971250>"
      ]
     },
     "execution_count": 93,
     "metadata": {},
     "output_type": "execute_result"
    }
   ],
   "source": [
    "data_incom_tp = dep('income_type')\n",
    "data_incom_tp"
   ]
  },
  {
   "cell_type": "markdown",
   "metadata": {},
   "source": [
    "**Вывод**"
   ]
  },
  {
   "cell_type": "markdown",
   "metadata": {},
   "source": [
    "Проведен анализ случаем задолженности по всем представленным в данных категориям."
   ]
  },
  {
   "cell_type": "markdown",
   "metadata": {},
   "source": [
    "## Ответы на вопросы"
   ]
  },
  {
   "cell_type": "markdown",
   "metadata": {},
   "source": [
    "### Есть ли зависимость между наличием детей и возвратом кредита в срок?"
   ]
  },
  {
   "cell_type": "code",
   "execution_count": 94,
   "metadata": {},
   "outputs": [
    {
     "data": {
      "text/html": [
       "<style  type=\"text/css\" >\n",
       "</style><table id=\"T_7c862_\" ><thead>    <tr>        <th class=\"blank level0\" ></th>        <th class=\"col_heading level0 col0\" >debt</th>        <th class=\"col_heading level0 col1\" >total_cases</th>        <th class=\"col_heading level0 col2\" >ratio</th>        <th class=\"col_heading level0 col3\" >div_from_total</th>    </tr>    <tr>        <th class=\"index_name level0\" >children</th>        <th class=\"blank\" ></th>        <th class=\"blank\" ></th>        <th class=\"blank\" ></th>        <th class=\"blank\" ></th>    </tr></thead><tbody>\n",
       "                <tr>\n",
       "                        <th id=\"T_7c862_level0_row0\" class=\"row_heading level0 row0\" >0</th>\n",
       "                        <td id=\"T_7c862_row0_col0\" class=\"data row0 col0\" >1063</td>\n",
       "                        <td id=\"T_7c862_row0_col1\" class=\"data row0 col1\" >14099</td>\n",
       "                        <td id=\"T_7c862_row0_col2\" class=\"data row0 col2\" >7.54%</td>\n",
       "                        <td id=\"T_7c862_row0_col3\" class=\"data row0 col3\" >-0.57%</td>\n",
       "            </tr>\n",
       "            <tr>\n",
       "                        <th id=\"T_7c862_level0_row1\" class=\"row_heading level0 row1\" >1</th>\n",
       "                        <td id=\"T_7c862_row1_col0\" class=\"data row1 col0\" >445</td>\n",
       "                        <td id=\"T_7c862_row1_col1\" class=\"data row1 col1\" >4855</td>\n",
       "                        <td id=\"T_7c862_row1_col2\" class=\"data row1 col2\" >9.17%</td>\n",
       "                        <td id=\"T_7c862_row1_col3\" class=\"data row1 col3\" >1.05%</td>\n",
       "            </tr>\n",
       "            <tr>\n",
       "                        <th id=\"T_7c862_level0_row2\" class=\"row_heading level0 row2\" >2</th>\n",
       "                        <td id=\"T_7c862_row2_col0\" class=\"data row2 col0\" >202</td>\n",
       "                        <td id=\"T_7c862_row2_col1\" class=\"data row2 col1\" >2128</td>\n",
       "                        <td id=\"T_7c862_row2_col2\" class=\"data row2 col2\" >9.49%</td>\n",
       "                        <td id=\"T_7c862_row2_col3\" class=\"data row2 col3\" >1.38%</td>\n",
       "            </tr>\n",
       "            <tr>\n",
       "                        <th id=\"T_7c862_level0_row3\" class=\"row_heading level0 row3\" >3</th>\n",
       "                        <td id=\"T_7c862_row3_col0\" class=\"data row3 col0\" >27</td>\n",
       "                        <td id=\"T_7c862_row3_col1\" class=\"data row3 col1\" >329</td>\n",
       "                        <td id=\"T_7c862_row3_col2\" class=\"data row3 col2\" >8.21%</td>\n",
       "                        <td id=\"T_7c862_row3_col3\" class=\"data row3 col3\" >0.09%</td>\n",
       "            </tr>\n",
       "            <tr>\n",
       "                        <th id=\"T_7c862_level0_row4\" class=\"row_heading level0 row4\" >4</th>\n",
       "                        <td id=\"T_7c862_row4_col0\" class=\"data row4 col0\" >4</td>\n",
       "                        <td id=\"T_7c862_row4_col1\" class=\"data row4 col1\" >41</td>\n",
       "                        <td id=\"T_7c862_row4_col2\" class=\"data row4 col2\" >9.76%</td>\n",
       "                        <td id=\"T_7c862_row4_col3\" class=\"data row4 col3\" >1.64%</td>\n",
       "            </tr>\n",
       "            <tr>\n",
       "                        <th id=\"T_7c862_level0_row5\" class=\"row_heading level0 row5\" >5</th>\n",
       "                        <td id=\"T_7c862_row5_col0\" class=\"data row5 col0\" >0</td>\n",
       "                        <td id=\"T_7c862_row5_col1\" class=\"data row5 col1\" >9</td>\n",
       "                        <td id=\"T_7c862_row5_col2\" class=\"data row5 col2\" >0.00%</td>\n",
       "                        <td id=\"T_7c862_row5_col3\" class=\"data row5 col3\" >-8.11%</td>\n",
       "            </tr>\n",
       "    </tbody></table>"
      ],
      "text/plain": [
       "<pandas.io.formats.style.Styler at 0x4931ab0c10>"
      ]
     },
     "execution_count": 94,
     "metadata": {},
     "output_type": "execute_result"
    }
   ],
   "source": [
    "data_children"
   ]
  },
  {
   "cell_type": "markdown",
   "metadata": {},
   "source": [
    "**Вывод**"
   ]
  },
  {
   "cell_type": "markdown",
   "metadata": {},
   "source": [
    "По представленным данным можно сделать вывод об присутствии/отсутствии зависимости между случаями задолженности и одной стороны и отсутствием/наличием 1-2-3 детей с другой стороны. Данные по клиентам с 4 или 5 детьми представлены в небольшом, относительно всего объема данных, количестве и исследования по ним не могут быть интерпретированы."
   ]
  },
  {
   "cell_type": "markdown",
   "metadata": {},
   "source": [
    "На основании проведенного исследования можно утверждать, что клиенты без детей допускают просрочки в меньшей степени, чем клиенты с детьми. Самыми недисциплинированными, на основании представленных данных, оказались клиенты с 2 детьми. Так, доля случаем задолжености в такой группе на 1.95 п.п. выше, чем по группе без детей."
   ]
  },
  {
   "cell_type": "markdown",
   "metadata": {},
   "source": [
    "### Есть ли зависимость между семейным положением и возвратом кредита в срок?"
   ]
  },
  {
   "cell_type": "code",
   "execution_count": 95,
   "metadata": {},
   "outputs": [
    {
     "data": {
      "text/html": [
       "<style  type=\"text/css\" >\n",
       "</style><table id=\"T_986a2_\" ><thead>    <tr>        <th class=\"blank level0\" ></th>        <th class=\"col_heading level0 col0\" >debt</th>        <th class=\"col_heading level0 col1\" >total_cases</th>        <th class=\"col_heading level0 col2\" >ratio</th>        <th class=\"col_heading level0 col3\" >div_from_total</th>    </tr>    <tr>        <th class=\"index_name level0\" >family_status</th>        <th class=\"blank\" ></th>        <th class=\"blank\" ></th>        <th class=\"blank\" ></th>        <th class=\"blank\" ></th>    </tr></thead><tbody>\n",
       "                <tr>\n",
       "                        <th id=\"T_986a2_level0_row0\" class=\"row_heading level0 row0\" >в разводе</th>\n",
       "                        <td id=\"T_986a2_row0_col0\" class=\"data row0 col0\" >85</td>\n",
       "                        <td id=\"T_986a2_row0_col1\" class=\"data row0 col1\" >1194</td>\n",
       "                        <td id=\"T_986a2_row0_col2\" class=\"data row0 col2\" >7.12%</td>\n",
       "                        <td id=\"T_986a2_row0_col3\" class=\"data row0 col3\" >-0.99%</td>\n",
       "            </tr>\n",
       "            <tr>\n",
       "                        <th id=\"T_986a2_level0_row1\" class=\"row_heading level0 row1\" >вдовец / вдова</th>\n",
       "                        <td id=\"T_986a2_row1_col0\" class=\"data row1 col0\" >63</td>\n",
       "                        <td id=\"T_986a2_row1_col1\" class=\"data row1 col1\" >958</td>\n",
       "                        <td id=\"T_986a2_row1_col2\" class=\"data row1 col2\" >6.58%</td>\n",
       "                        <td id=\"T_986a2_row1_col3\" class=\"data row1 col3\" >-1.54%</td>\n",
       "            </tr>\n",
       "            <tr>\n",
       "                        <th id=\"T_986a2_level0_row2\" class=\"row_heading level0 row2\" >гражданский брак</th>\n",
       "                        <td id=\"T_986a2_row2_col0\" class=\"data row2 col0\" >388</td>\n",
       "                        <td id=\"T_986a2_row2_col1\" class=\"data row2 col1\" >4160</td>\n",
       "                        <td id=\"T_986a2_row2_col2\" class=\"data row2 col2\" >9.33%</td>\n",
       "                        <td id=\"T_986a2_row2_col3\" class=\"data row2 col3\" >1.21%</td>\n",
       "            </tr>\n",
       "            <tr>\n",
       "                        <th id=\"T_986a2_level0_row3\" class=\"row_heading level0 row3\" >женат / замужем</th>\n",
       "                        <td id=\"T_986a2_row3_col0\" class=\"data row3 col0\" >931</td>\n",
       "                        <td id=\"T_986a2_row3_col1\" class=\"data row3 col1\" >12340</td>\n",
       "                        <td id=\"T_986a2_row3_col2\" class=\"data row3 col2\" >7.54%</td>\n",
       "                        <td id=\"T_986a2_row3_col3\" class=\"data row3 col3\" >-0.57%</td>\n",
       "            </tr>\n",
       "            <tr>\n",
       "                        <th id=\"T_986a2_level0_row4\" class=\"row_heading level0 row4\" >не женат / не замужем</th>\n",
       "                        <td id=\"T_986a2_row4_col0\" class=\"data row4 col0\" >274</td>\n",
       "                        <td id=\"T_986a2_row4_col1\" class=\"data row4 col1\" >2809</td>\n",
       "                        <td id=\"T_986a2_row4_col2\" class=\"data row4 col2\" >9.75%</td>\n",
       "                        <td id=\"T_986a2_row4_col3\" class=\"data row4 col3\" >1.64%</td>\n",
       "            </tr>\n",
       "    </tbody></table>"
      ],
      "text/plain": [
       "<pandas.io.formats.style.Styler at 0x49319710d0>"
      ]
     },
     "execution_count": 95,
     "metadata": {},
     "output_type": "execute_result"
    }
   ],
   "source": [
    "data_family_st"
   ]
  },
  {
   "cell_type": "markdown",
   "metadata": {},
   "source": [
    "**Вывод**"
   ]
  },
  {
   "cell_type": "markdown",
   "metadata": {},
   "source": [
    "На основании проведенного исследования можно утверждать, что наименее финансово дисциплинированными являются клиенты категории \"не женат / не замужем\", и люди состоящие в гражданском браке. Разница между долями по наименее(не женат / не замужем) и наиболее(вдовец / вдова) дисциплинированными  группам составляет 3.17 п.п."
   ]
  },
  {
   "cell_type": "markdown",
   "metadata": {},
   "source": [
    "### Есть ли зависимость между уровнем дохода и возвратом кредита в срок?"
   ]
  },
  {
   "cell_type": "code",
   "execution_count": 96,
   "metadata": {},
   "outputs": [
    {
     "data": {
      "text/html": [
       "<style  type=\"text/css\" >\n",
       "</style><table id=\"T_dc13f_\" ><thead>    <tr>        <th class=\"blank level0\" ></th>        <th class=\"col_heading level0 col0\" >incom_level</th>        <th class=\"col_heading level0 col1\" >debt</th>        <th class=\"col_heading level0 col2\" >total_cases</th>        <th class=\"col_heading level0 col3\" >ratio</th>        <th class=\"col_heading level0 col4\" >div_from_total</th>    </tr>    <tr>        <th class=\"index_name level0\" >incom_id</th>        <th class=\"blank\" ></th>        <th class=\"blank\" ></th>        <th class=\"blank\" ></th>        <th class=\"blank\" ></th>        <th class=\"blank\" ></th>    </tr></thead><tbody>\n",
       "                <tr>\n",
       "                        <th id=\"T_dc13f_level0_row0\" class=\"row_heading level0 row0\" >1</th>\n",
       "                        <td id=\"T_dc13f_row0_col0\" class=\"data row0 col0\" >до 100000</td>\n",
       "                        <td id=\"T_dc13f_row0_col1\" class=\"data row0 col1\" >354</td>\n",
       "                        <td id=\"T_dc13f_row0_col2\" class=\"data row0 col2\" >4463</td>\n",
       "                        <td id=\"T_dc13f_row0_col3\" class=\"data row0 col3\" >7.93%</td>\n",
       "                        <td id=\"T_dc13f_row0_col4\" class=\"data row0 col4\" >-0.18%</td>\n",
       "            </tr>\n",
       "            <tr>\n",
       "                        <th id=\"T_dc13f_level0_row1\" class=\"row_heading level0 row1\" >2</th>\n",
       "                        <td id=\"T_dc13f_row1_col0\" class=\"data row1 col0\" >от 100001 до 130000</td>\n",
       "                        <td id=\"T_dc13f_row1_col1\" class=\"data row1 col1\" >328</td>\n",
       "                        <td id=\"T_dc13f_row1_col2\" class=\"data row1 col2\" >3871</td>\n",
       "                        <td id=\"T_dc13f_row1_col3\" class=\"data row1 col3\" >8.47%</td>\n",
       "                        <td id=\"T_dc13f_row1_col4\" class=\"data row1 col4\" >0.36%</td>\n",
       "            </tr>\n",
       "            <tr>\n",
       "                        <th id=\"T_dc13f_level0_row2\" class=\"row_heading level0 row2\" >3</th>\n",
       "                        <td id=\"T_dc13f_row2_col0\" class=\"data row2 col0\" >от 130001 до 160000</td>\n",
       "                        <td id=\"T_dc13f_row2_col1\" class=\"data row2 col1\" >391</td>\n",
       "                        <td id=\"T_dc13f_row2_col2\" class=\"data row2 col2\" >4407</td>\n",
       "                        <td id=\"T_dc13f_row2_col3\" class=\"data row2 col3\" >8.87%</td>\n",
       "                        <td id=\"T_dc13f_row2_col4\" class=\"data row2 col4\" >0.76%</td>\n",
       "            </tr>\n",
       "            <tr>\n",
       "                        <th id=\"T_dc13f_level0_row3\" class=\"row_heading level0 row3\" >4</th>\n",
       "                        <td id=\"T_dc13f_row3_col0\" class=\"data row3 col0\" >от 160001 до 220000</td>\n",
       "                        <td id=\"T_dc13f_row3_col1\" class=\"data row3 col1\" >384</td>\n",
       "                        <td id=\"T_dc13f_row3_col2\" class=\"data row3 col2\" >4712</td>\n",
       "                        <td id=\"T_dc13f_row3_col3\" class=\"data row3 col3\" >8.15%</td>\n",
       "                        <td id=\"T_dc13f_row3_col4\" class=\"data row3 col4\" >0.04%</td>\n",
       "            </tr>\n",
       "            <tr>\n",
       "                        <th id=\"T_dc13f_level0_row4\" class=\"row_heading level0 row4\" >5</th>\n",
       "                        <td id=\"T_dc13f_row4_col0\" class=\"data row4 col0\" >свыше 220001</td>\n",
       "                        <td id=\"T_dc13f_row4_col1\" class=\"data row4 col1\" >284</td>\n",
       "                        <td id=\"T_dc13f_row4_col2\" class=\"data row4 col2\" >4008</td>\n",
       "                        <td id=\"T_dc13f_row4_col3\" class=\"data row4 col3\" >7.09%</td>\n",
       "                        <td id=\"T_dc13f_row4_col4\" class=\"data row4 col4\" >-1.03%</td>\n",
       "            </tr>\n",
       "    </tbody></table>"
      ],
      "text/plain": [
       "<pandas.io.formats.style.Styler at 0x49316c73d0>"
      ]
     },
     "execution_count": 96,
     "metadata": {},
     "output_type": "execute_result"
    }
   ],
   "source": [
    "data_incom"
   ]
  },
  {
   "cell_type": "markdown",
   "metadata": {},
   "source": [
    "**Вывод**"
   ]
  },
  {
   "cell_type": "markdown",
   "metadata": {},
   "source": [
    "На основании проведенного исследования можно утверждать, что наиболее финансово дисциплинированными являются клиенты с уровнем дохода более 220001. Интересно, что худший результат показала группа не с минимальным доходом, а средняя группа клиентов с доход от 130001 до 160000. Разброс по группам 1.78 п.п."
   ]
  },
  {
   "cell_type": "markdown",
   "metadata": {},
   "source": [
    "### Как разные цели кредита влияют на его возврат в срок?"
   ]
  },
  {
   "cell_type": "code",
   "execution_count": 97,
   "metadata": {},
   "outputs": [
    {
     "data": {
      "text/html": [
       "<style  type=\"text/css\" >\n",
       "</style><table id=\"T_f906e_\" ><thead>    <tr>        <th class=\"blank level0\" ></th>        <th class=\"col_heading level0 col0\" >debt</th>        <th class=\"col_heading level0 col1\" >total_cases</th>        <th class=\"col_heading level0 col2\" >ratio</th>        <th class=\"col_heading level0 col3\" >div_from_total</th>    </tr>    <tr>        <th class=\"index_name level0\" >purpose</th>        <th class=\"blank\" ></th>        <th class=\"blank\" ></th>        <th class=\"blank\" ></th>        <th class=\"blank\" ></th>    </tr></thead><tbody>\n",
       "                <tr>\n",
       "                        <th id=\"T_f906e_level0_row0\" class=\"row_heading level0 row0\" >автомобиль</th>\n",
       "                        <td id=\"T_f906e_row0_col0\" class=\"data row0 col0\" >403</td>\n",
       "                        <td id=\"T_f906e_row0_col1\" class=\"data row0 col1\" >4308</td>\n",
       "                        <td id=\"T_f906e_row0_col2\" class=\"data row0 col2\" >9.35%</td>\n",
       "                        <td id=\"T_f906e_row0_col3\" class=\"data row0 col3\" >1.24%</td>\n",
       "            </tr>\n",
       "            <tr>\n",
       "                        <th id=\"T_f906e_level0_row1\" class=\"row_heading level0 row1\" >недвижимость</th>\n",
       "                        <td id=\"T_f906e_row1_col0\" class=\"data row1 col0\" >648</td>\n",
       "                        <td id=\"T_f906e_row1_col1\" class=\"data row1 col1\" >8889</td>\n",
       "                        <td id=\"T_f906e_row1_col2\" class=\"data row1 col2\" >7.29%</td>\n",
       "                        <td id=\"T_f906e_row1_col3\" class=\"data row1 col3\" >-0.82%</td>\n",
       "            </tr>\n",
       "            <tr>\n",
       "                        <th id=\"T_f906e_level0_row2\" class=\"row_heading level0 row2\" >недвижимость ком.</th>\n",
       "                        <td id=\"T_f906e_row2_col0\" class=\"data row2 col0\" >99</td>\n",
       "                        <td id=\"T_f906e_row2_col1\" class=\"data row2 col1\" >1311</td>\n",
       "                        <td id=\"T_f906e_row2_col2\" class=\"data row2 col2\" >7.55%</td>\n",
       "                        <td id=\"T_f906e_row2_col3\" class=\"data row2 col3\" >-0.56%</td>\n",
       "            </tr>\n",
       "            <tr>\n",
       "                        <th id=\"T_f906e_level0_row3\" class=\"row_heading level0 row3\" >образование</th>\n",
       "                        <td id=\"T_f906e_row3_col0\" class=\"data row3 col0\" >370</td>\n",
       "                        <td id=\"T_f906e_row3_col1\" class=\"data row3 col1\" >4014</td>\n",
       "                        <td id=\"T_f906e_row3_col2\" class=\"data row3 col2\" >9.22%</td>\n",
       "                        <td id=\"T_f906e_row3_col3\" class=\"data row3 col3\" >1.11%</td>\n",
       "            </tr>\n",
       "            <tr>\n",
       "                        <th id=\"T_f906e_level0_row4\" class=\"row_heading level0 row4\" >ремонт</th>\n",
       "                        <td id=\"T_f906e_row4_col0\" class=\"data row4 col0\" >35</td>\n",
       "                        <td id=\"T_f906e_row4_col1\" class=\"data row4 col1\" >606</td>\n",
       "                        <td id=\"T_f906e_row4_col2\" class=\"data row4 col2\" >5.78%</td>\n",
       "                        <td id=\"T_f906e_row4_col3\" class=\"data row4 col3\" >-2.34%</td>\n",
       "            </tr>\n",
       "            <tr>\n",
       "                        <th id=\"T_f906e_level0_row5\" class=\"row_heading level0 row5\" >свадьба</th>\n",
       "                        <td id=\"T_f906e_row5_col0\" class=\"data row5 col0\" >186</td>\n",
       "                        <td id=\"T_f906e_row5_col1\" class=\"data row5 col1\" >2333</td>\n",
       "                        <td id=\"T_f906e_row5_col2\" class=\"data row5 col2\" >7.97%</td>\n",
       "                        <td id=\"T_f906e_row5_col3\" class=\"data row5 col3\" >-0.14%</td>\n",
       "            </tr>\n",
       "    </tbody></table>"
      ],
      "text/plain": [
       "<pandas.io.formats.style.Styler at 0x492ad733a0>"
      ]
     },
     "execution_count": 97,
     "metadata": {},
     "output_type": "execute_result"
    }
   ],
   "source": [
    "data_purpose"
   ]
  },
  {
   "cell_type": "markdown",
   "metadata": {},
   "source": [
    "**Вывод**"
   ]
  },
  {
   "cell_type": "markdown",
   "metadata": {},
   "source": [
    "На основании проведенного исследования можно утверждать, что наиболее финансово дисциплинированными являются клиенты берущие кредит на ремонт. Выделенная отдельно группа по операциям с комменческой недвижимостью, имеет показатели близкие к группе 'недвижимость', разница всего 0.26 п.п. Больше всего проблем испытывают клиенты, взявшие кредит на приобретение автомобиля.  Разброс по группам 3.57 п.п."
   ]
  },
  {
   "cell_type": "markdown",
   "metadata": {},
   "source": [
    "## Выводы"
   ]
  },
  {
   "cell_type": "markdown",
   "metadata": {},
   "source": [
    "Исследование завершено, ответы на поставленные вопросы получены. Из заявленных к анализу зависимостей, наиболее значимая, т.е. имеющая больший разброс значений ро группам - цель кредита. Наименее значимая, как не странно - уровень дохода."
   ]
  },
  {
   "cell_type": "markdown",
   "metadata": {},
   "source": [
    "Анализ за рамками поставленной задачи показал, что на случаи задолженности оказываем существенное влияние пол клиента, женщины на 3.25 п.п. более аккуратны. Если рассматривать заёмщиков с точки зрения занятости, то из представленных категорий (за исключением 'в декрете', 'безработный', 'студент', 'предприниматель' в виду с низкой представленнностью в данных) наиболее аккуратны пенсионеры, а менее аккуратны сотрудники. Разница между указанными категориями 3.94 п.п., что является самым большим разбросом в данном исследовании."
   ]
  },
  {
   "cell_type": "code",
   "execution_count": null,
   "metadata": {},
   "outputs": [],
   "source": []
  }
 ],
 "metadata": {
  "ExecuteTimeLog": [
   {
    "duration": 360,
    "start_time": "2021-11-14T22:02:54.715Z"
   },
   {
    "duration": 801,
    "start_time": "2021-11-14T22:02:59.223Z"
   },
   {
    "duration": 264,
    "start_time": "2021-11-14T22:03:00.026Z"
   },
   {
    "duration": 16,
    "start_time": "2021-11-14T22:03:00.295Z"
   },
   {
    "duration": 32,
    "start_time": "2021-11-14T22:03:00.314Z"
   },
   {
    "duration": 10,
    "start_time": "2021-11-14T22:03:00.349Z"
   },
   {
    "duration": 49,
    "start_time": "2021-11-14T22:03:00.362Z"
   },
   {
    "duration": 18,
    "start_time": "2021-11-14T22:03:00.414Z"
   },
   {
    "duration": 40,
    "start_time": "2021-11-14T22:03:00.436Z"
   },
   {
    "duration": 12,
    "start_time": "2021-11-14T22:03:00.500Z"
   },
   {
    "duration": 19,
    "start_time": "2021-11-14T22:03:00.514Z"
   },
   {
    "duration": 39,
    "start_time": "2021-11-14T22:03:00.536Z"
   },
   {
    "duration": 25,
    "start_time": "2021-11-14T22:03:00.578Z"
   },
   {
    "duration": 18,
    "start_time": "2021-11-14T22:03:00.606Z"
   },
   {
    "duration": 21,
    "start_time": "2021-11-14T22:03:00.626Z"
   },
   {
    "duration": 6,
    "start_time": "2021-11-14T22:03:00.650Z"
   },
   {
    "duration": 43,
    "start_time": "2021-11-14T22:03:00.659Z"
   },
   {
    "duration": 26,
    "start_time": "2021-11-14T22:03:00.704Z"
   },
   {
    "duration": 15,
    "start_time": "2021-11-14T22:03:00.733Z"
   },
   {
    "duration": 52,
    "start_time": "2021-11-14T22:03:00.750Z"
   },
   {
    "duration": 22,
    "start_time": "2021-11-14T22:03:00.804Z"
   },
   {
    "duration": 28,
    "start_time": "2021-11-14T22:03:00.829Z"
   },
   {
    "duration": 72,
    "start_time": "2021-11-14T22:03:00.860Z"
   },
   {
    "duration": 95,
    "start_time": "2021-11-14T22:03:00.938Z"
   },
   {
    "duration": 13,
    "start_time": "2021-11-14T22:03:01.037Z"
   },
   {
    "duration": 34,
    "start_time": "2021-11-14T22:03:01.053Z"
   },
   {
    "duration": 17,
    "start_time": "2021-11-14T22:03:01.102Z"
   },
   {
    "duration": 22,
    "start_time": "2021-11-14T22:03:01.122Z"
   },
   {
    "duration": 25,
    "start_time": "2021-11-14T22:03:01.147Z"
   },
   {
    "duration": 36,
    "start_time": "2021-11-14T22:03:01.174Z"
   },
   {
    "duration": 24,
    "start_time": "2021-11-14T22:03:01.212Z"
   },
   {
    "duration": 29,
    "start_time": "2021-11-14T22:03:01.239Z"
   },
   {
    "duration": 30,
    "start_time": "2021-11-14T22:03:01.271Z"
   },
   {
    "duration": 15,
    "start_time": "2021-11-14T22:03:01.304Z"
   },
   {
    "duration": 83,
    "start_time": "2021-11-14T22:03:01.321Z"
   },
   {
    "duration": 16,
    "start_time": "2021-11-14T22:03:01.407Z"
   },
   {
    "duration": 8,
    "start_time": "2021-11-14T22:03:01.426Z"
   },
   {
    "duration": 11,
    "start_time": "2021-11-14T22:03:01.437Z"
   },
   {
    "duration": 137,
    "start_time": "2021-11-14T22:03:01.451Z"
   },
   {
    "duration": 14,
    "start_time": "2021-11-14T22:03:01.590Z"
   },
   {
    "duration": 15,
    "start_time": "2021-11-14T22:03:01.607Z"
   },
   {
    "duration": 23,
    "start_time": "2021-11-14T22:03:01.625Z"
   },
   {
    "duration": 9,
    "start_time": "2021-11-14T22:03:01.651Z"
   },
   {
    "duration": 41,
    "start_time": "2021-11-14T22:03:01.663Z"
   },
   {
    "duration": 6,
    "start_time": "2021-11-14T22:03:01.706Z"
   },
   {
    "duration": 23,
    "start_time": "2021-11-14T22:03:01.714Z"
   },
   {
    "duration": 8,
    "start_time": "2021-11-14T22:03:01.740Z"
   },
   {
    "duration": 64,
    "start_time": "2021-11-14T22:03:01.751Z"
   },
   {
    "duration": 24,
    "start_time": "2021-11-14T22:03:01.817Z"
   },
   {
    "duration": 17,
    "start_time": "2021-11-14T22:03:01.844Z"
   },
   {
    "duration": 13,
    "start_time": "2021-11-14T22:03:01.863Z"
   },
   {
    "duration": 54,
    "start_time": "2021-11-14T22:03:01.878Z"
   },
   {
    "duration": 21,
    "start_time": "2021-11-14T22:03:01.935Z"
   },
   {
    "duration": 35,
    "start_time": "2021-11-14T22:03:01.958Z"
   },
   {
    "duration": 51,
    "start_time": "2021-11-14T22:03:01.995Z"
   },
   {
    "duration": 6,
    "start_time": "2021-11-14T22:03:02.049Z"
   },
   {
    "duration": 10,
    "start_time": "2021-11-14T22:03:02.058Z"
   },
   {
    "duration": 32,
    "start_time": "2021-11-14T22:03:02.070Z"
   },
   {
    "duration": 16,
    "start_time": "2021-11-14T22:03:02.105Z"
   },
   {
    "duration": 28,
    "start_time": "2021-11-14T22:03:02.123Z"
   },
   {
    "duration": 9,
    "start_time": "2021-11-14T22:03:02.154Z"
   },
   {
    "duration": 37,
    "start_time": "2021-11-14T22:03:02.165Z"
   },
   {
    "duration": 34,
    "start_time": "2021-11-14T22:03:02.204Z"
   },
   {
    "duration": 23,
    "start_time": "2021-11-14T22:03:02.241Z"
   },
   {
    "duration": 14,
    "start_time": "2021-11-14T22:03:02.267Z"
   },
   {
    "duration": 975,
    "start_time": "2021-11-14T22:03:02.283Z"
   },
   {
    "duration": 5,
    "start_time": "2021-11-14T22:03:03.260Z"
   },
   {
    "duration": 12,
    "start_time": "2021-11-14T22:03:03.268Z"
   },
   {
    "duration": 4,
    "start_time": "2021-11-14T22:03:03.301Z"
   },
   {
    "duration": 19,
    "start_time": "2021-11-14T22:03:03.308Z"
   },
   {
    "duration": 48,
    "start_time": "2021-11-14T22:03:03.330Z"
   },
   {
    "duration": 39,
    "start_time": "2021-11-14T22:03:03.380Z"
   },
   {
    "duration": 14,
    "start_time": "2021-11-14T22:03:03.421Z"
   },
   {
    "duration": 16,
    "start_time": "2021-11-14T22:03:03.438Z"
   },
   {
    "duration": 46,
    "start_time": "2021-11-14T22:03:03.456Z"
   },
   {
    "duration": 20,
    "start_time": "2021-11-14T22:03:03.504Z"
   },
   {
    "duration": 17,
    "start_time": "2021-11-14T22:03:03.527Z"
   },
   {
    "duration": 21,
    "start_time": "2021-11-14T22:03:03.546Z"
   },
   {
    "duration": 132,
    "start_time": "2021-11-14T22:03:03.570Z"
   },
   {
    "duration": 4,
    "start_time": "2021-11-14T22:03:03.704Z"
   },
   {
    "duration": 54,
    "start_time": "2021-11-14T22:03:03.710Z"
   },
   {
    "duration": 84,
    "start_time": "2021-11-14T22:03:03.767Z"
   },
   {
    "duration": 10,
    "start_time": "2021-11-14T22:03:03.853Z"
   },
   {
    "duration": 41,
    "start_time": "2021-11-14T22:03:03.865Z"
   },
   {
    "duration": 12,
    "start_time": "2021-11-14T22:03:03.908Z"
   },
   {
    "duration": 4,
    "start_time": "2021-11-14T22:03:03.923Z"
   },
   {
    "duration": 5,
    "start_time": "2021-11-14T22:03:03.930Z"
   },
   {
    "duration": 21,
    "start_time": "2021-11-14T22:03:03.937Z"
   },
   {
    "duration": 76,
    "start_time": "2021-11-14T22:03:03.961Z"
   },
   {
    "duration": 90,
    "start_time": "2021-11-14T22:03:04.040Z"
   },
   {
    "duration": 90,
    "start_time": "2021-11-14T22:03:04.133Z"
   },
   {
    "duration": 45,
    "start_time": "2021-11-14T22:03:04.226Z"
   },
   {
    "duration": 113,
    "start_time": "2021-11-14T22:03:04.273Z"
   },
   {
    "duration": 46,
    "start_time": "2021-11-14T22:03:04.401Z"
   },
   {
    "duration": 108,
    "start_time": "2021-11-14T22:03:04.449Z"
   },
   {
    "duration": 55,
    "start_time": "2021-11-14T22:03:04.559Z"
   },
   {
    "duration": 86,
    "start_time": "2021-11-14T22:03:04.616Z"
   },
   {
    "duration": 111,
    "start_time": "2021-11-14T22:10:14.021Z"
   },
   {
    "duration": 21,
    "start_time": "2021-11-14T22:12:08.711Z"
   },
   {
    "duration": 20,
    "start_time": "2021-11-14T22:12:37.462Z"
   },
   {
    "duration": 4,
    "start_time": "2021-11-14T22:12:47.277Z"
   },
   {
    "duration": 270,
    "start_time": "2021-11-14T22:12:47.284Z"
   },
   {
    "duration": 14,
    "start_time": "2021-11-14T22:12:47.557Z"
   },
   {
    "duration": 38,
    "start_time": "2021-11-14T22:12:47.574Z"
   },
   {
    "duration": 9,
    "start_time": "2021-11-14T22:12:47.616Z"
   },
   {
    "duration": 21,
    "start_time": "2021-11-14T22:12:47.628Z"
   },
   {
    "duration": 50,
    "start_time": "2021-11-14T22:12:47.651Z"
   },
   {
    "duration": 23,
    "start_time": "2021-11-14T22:12:47.705Z"
   },
   {
    "duration": 11,
    "start_time": "2021-11-14T22:12:47.732Z"
   },
   {
    "duration": 9,
    "start_time": "2021-11-14T22:12:47.746Z"
   },
   {
    "duration": 54,
    "start_time": "2021-11-14T22:12:47.758Z"
   },
   {
    "duration": 21,
    "start_time": "2021-11-14T22:12:47.815Z"
   },
   {
    "duration": 21,
    "start_time": "2021-11-14T22:12:47.838Z"
   },
   {
    "duration": 52,
    "start_time": "2021-11-14T22:12:47.862Z"
   },
   {
    "duration": 6,
    "start_time": "2021-11-14T22:12:47.916Z"
   },
   {
    "duration": 12,
    "start_time": "2021-11-14T22:12:47.924Z"
   },
   {
    "duration": 23,
    "start_time": "2021-11-14T22:12:47.948Z"
   },
   {
    "duration": 9,
    "start_time": "2021-11-14T22:12:48.000Z"
   },
   {
    "duration": 22,
    "start_time": "2021-11-14T22:12:48.012Z"
   },
   {
    "duration": 18,
    "start_time": "2021-11-14T22:12:48.036Z"
   },
   {
    "duration": 51,
    "start_time": "2021-11-14T22:12:48.057Z"
   },
   {
    "duration": 60,
    "start_time": "2021-11-14T22:12:48.111Z"
   },
   {
    "duration": 20,
    "start_time": "2021-11-14T22:12:48.201Z"
   },
   {
    "duration": 101,
    "start_time": "2021-11-14T22:12:48.224Z"
   },
   {
    "duration": 12,
    "start_time": "2021-11-14T22:12:48.328Z"
   },
   {
    "duration": 23,
    "start_time": "2021-11-14T22:12:48.342Z"
   },
   {
    "duration": 42,
    "start_time": "2021-11-14T22:12:48.368Z"
   },
   {
    "duration": 13,
    "start_time": "2021-11-14T22:12:48.413Z"
   },
   {
    "duration": 20,
    "start_time": "2021-11-14T22:12:48.429Z"
   },
   {
    "duration": 50,
    "start_time": "2021-11-14T22:12:48.452Z"
   },
   {
    "duration": 10,
    "start_time": "2021-11-14T22:12:48.505Z"
   },
   {
    "duration": 22,
    "start_time": "2021-11-14T22:12:48.517Z"
   },
   {
    "duration": 11,
    "start_time": "2021-11-14T22:12:48.541Z"
   },
   {
    "duration": 46,
    "start_time": "2021-11-14T22:12:48.555Z"
   },
   {
    "duration": 56,
    "start_time": "2021-11-14T22:12:48.604Z"
   },
   {
    "duration": 38,
    "start_time": "2021-11-14T22:12:48.663Z"
   },
   {
    "duration": 7,
    "start_time": "2021-11-14T22:12:48.703Z"
   },
   {
    "duration": 11,
    "start_time": "2021-11-14T22:12:48.712Z"
   },
   {
    "duration": 101,
    "start_time": "2021-11-14T22:12:48.725Z"
   },
   {
    "duration": 6,
    "start_time": "2021-11-14T22:12:48.829Z"
   },
   {
    "duration": 8,
    "start_time": "2021-11-14T22:12:48.838Z"
   },
   {
    "duration": 11,
    "start_time": "2021-11-14T22:12:48.848Z"
   },
   {
    "duration": 42,
    "start_time": "2021-11-14T22:12:48.861Z"
   },
   {
    "duration": 14,
    "start_time": "2021-11-14T22:12:48.906Z"
   },
   {
    "duration": 7,
    "start_time": "2021-11-14T22:12:48.922Z"
   },
   {
    "duration": 7,
    "start_time": "2021-11-14T22:12:48.931Z"
   },
   {
    "duration": 7,
    "start_time": "2021-11-14T22:12:48.940Z"
   },
   {
    "duration": 53,
    "start_time": "2021-11-14T22:12:48.949Z"
   },
   {
    "duration": 8,
    "start_time": "2021-11-14T22:12:49.005Z"
   },
   {
    "duration": 13,
    "start_time": "2021-11-14T22:12:49.015Z"
   },
   {
    "duration": 10,
    "start_time": "2021-11-14T22:12:49.030Z"
   },
   {
    "duration": 18,
    "start_time": "2021-11-14T22:12:49.043Z"
   },
   {
    "duration": 52,
    "start_time": "2021-11-14T22:12:49.064Z"
   },
   {
    "duration": 25,
    "start_time": "2021-11-14T22:12:49.118Z"
   },
   {
    "duration": 73,
    "start_time": "2021-11-14T22:12:49.146Z"
   },
   {
    "duration": 7,
    "start_time": "2021-11-14T22:12:49.222Z"
   },
   {
    "duration": 6,
    "start_time": "2021-11-14T22:12:49.231Z"
   },
   {
    "duration": 23,
    "start_time": "2021-11-14T22:12:49.240Z"
   },
   {
    "duration": 34,
    "start_time": "2021-11-14T22:12:49.266Z"
   },
   {
    "duration": 22,
    "start_time": "2021-11-14T22:12:49.303Z"
   },
   {
    "duration": 6,
    "start_time": "2021-11-14T22:12:49.328Z"
   },
   {
    "duration": 8,
    "start_time": "2021-11-14T22:12:49.336Z"
   },
   {
    "duration": 63,
    "start_time": "2021-11-14T22:12:49.346Z"
   },
   {
    "duration": 8,
    "start_time": "2021-11-14T22:12:49.412Z"
   },
   {
    "duration": 29,
    "start_time": "2021-11-14T22:12:49.422Z"
   },
   {
    "duration": 996,
    "start_time": "2021-11-14T22:12:49.453Z"
   },
   {
    "duration": 5,
    "start_time": "2021-11-14T22:12:50.452Z"
   },
   {
    "duration": 5,
    "start_time": "2021-11-14T22:12:50.466Z"
   },
   {
    "duration": 26,
    "start_time": "2021-11-14T22:12:50.474Z"
   },
   {
    "duration": 26,
    "start_time": "2021-11-14T22:12:50.503Z"
   },
   {
    "duration": 42,
    "start_time": "2021-11-14T22:12:50.532Z"
   },
   {
    "duration": 45,
    "start_time": "2021-11-14T22:12:50.576Z"
   },
   {
    "duration": 24,
    "start_time": "2021-11-14T22:12:50.624Z"
   },
   {
    "duration": 19,
    "start_time": "2021-11-14T22:12:50.650Z"
   },
   {
    "duration": 18,
    "start_time": "2021-11-14T22:12:50.671Z"
   },
   {
    "duration": 18,
    "start_time": "2021-11-14T22:12:50.691Z"
   },
   {
    "duration": 18,
    "start_time": "2021-11-14T22:12:50.711Z"
   },
   {
    "duration": 25,
    "start_time": "2021-11-14T22:12:50.731Z"
   },
   {
    "duration": 116,
    "start_time": "2021-11-14T22:12:50.758Z"
   },
   {
    "duration": 3,
    "start_time": "2021-11-14T22:12:50.877Z"
   },
   {
    "duration": 56,
    "start_time": "2021-11-14T22:12:50.883Z"
   },
   {
    "duration": 82,
    "start_time": "2021-11-14T22:12:50.942Z"
   },
   {
    "duration": 8,
    "start_time": "2021-11-14T22:12:51.026Z"
   },
   {
    "duration": 18,
    "start_time": "2021-11-14T22:12:51.037Z"
   },
   {
    "duration": 11,
    "start_time": "2021-11-14T22:12:51.058Z"
   },
   {
    "duration": 4,
    "start_time": "2021-11-14T22:12:51.101Z"
   },
   {
    "duration": 13,
    "start_time": "2021-11-14T22:12:51.107Z"
   },
   {
    "duration": 26,
    "start_time": "2021-11-14T22:12:51.122Z"
   },
   {
    "duration": 59,
    "start_time": "2021-11-14T22:12:51.150Z"
   },
   {
    "duration": 69,
    "start_time": "2021-11-14T22:12:51.212Z"
   },
   {
    "duration": 72,
    "start_time": "2021-11-14T22:12:51.301Z"
   },
   {
    "duration": 59,
    "start_time": "2021-11-14T22:12:51.375Z"
   },
   {
    "duration": 103,
    "start_time": "2021-11-14T22:12:51.437Z"
   },
   {
    "duration": 61,
    "start_time": "2021-11-14T22:12:51.543Z"
   },
   {
    "duration": 69,
    "start_time": "2021-11-14T22:12:51.607Z"
   },
   {
    "duration": 66,
    "start_time": "2021-11-14T22:12:51.678Z"
   },
   {
    "duration": 97,
    "start_time": "2021-11-14T22:12:51.747Z"
   },
   {
    "duration": 1407,
    "start_time": "2021-11-16T09:24:11.060Z"
   },
   {
    "duration": 1718,
    "start_time": "2021-11-16T09:24:20.398Z"
   },
   {
    "duration": 38,
    "start_time": "2021-11-16T09:25:06.506Z"
   },
   {
    "duration": 27,
    "start_time": "2021-11-16T09:26:38.735Z"
   },
   {
    "duration": 27,
    "start_time": "2021-11-16T09:26:51.402Z"
   },
   {
    "duration": 11728,
    "start_time": "2021-11-16T09:27:21.125Z"
   },
   {
    "duration": 2437,
    "start_time": "2021-11-16T09:27:39.148Z"
   },
   {
    "duration": 7733,
    "start_time": "2021-11-16T09:39:14.670Z"
   },
   {
    "duration": 1508,
    "start_time": "2021-11-16T09:39:22.406Z"
   }
  ],
  "celltoolbar": "Raw Cell Format",
  "kernelspec": {
   "display_name": "Python 3",
   "language": "python",
   "name": "python3"
  },
  "language_info": {
   "codemirror_mode": {
    "name": "ipython",
    "version": 3
   },
   "file_extension": ".py",
   "mimetype": "text/x-python",
   "name": "python",
   "nbconvert_exporter": "python",
   "pygments_lexer": "ipython3",
   "version": "3.8.8"
  },
  "toc": {
   "base_numbering": 1,
   "nav_menu": {},
   "number_sections": true,
   "sideBar": true,
   "skip_h1_title": true,
   "title_cell": "Table of Contents",
   "title_sidebar": "Contents",
   "toc_cell": false,
   "toc_position": {
    "height": "calc(100% - 180px)",
    "left": "10px",
    "top": "150px",
    "width": "384px"
   },
   "toc_section_display": true,
   "toc_window_display": true
  }
 },
 "nbformat": 4,
 "nbformat_minor": 2
}
