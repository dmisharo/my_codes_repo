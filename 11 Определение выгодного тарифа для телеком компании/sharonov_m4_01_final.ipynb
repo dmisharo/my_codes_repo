{
 "cells": [
  {
   "cell_type": "markdown",
   "id": "1328abf2",
   "metadata": {},
   "source": [
    "<font size = 6> Определение перспективного тарифа для телеком-компании</font>"
   ]
  },
  {
   "cell_type": "markdown",
   "id": "e193b80d",
   "metadata": {},
   "source": [
    "## Описание проекта"
   ]
  },
  {
   "cell_type": "markdown",
   "id": "8736d804",
   "metadata": {},
   "source": [
    "Клиентам предлагают два тарифных плана: «Смарт» и «Ультра».  \n",
    "Чтобы скорректировать рекламный бюджет, коммерческий департамент хочет понять, какой тариф приносит больше денег.\n",
    "Необходимо провести предварительный анализ тарифов на небольшой выборке клиентов. В распоряжении данные 500 пользователей «Мегалайна»: кто они, откуда, каким тарифом пользуются, сколько звонков и сообщений каждый отправил за 2018 год.  \n",
    "Необходимо проанализировать поведение клиентов и сделать вывод — какой тариф лучше."
   ]
  },
  {
   "cell_type": "markdown",
   "id": "c4d835d0",
   "metadata": {},
   "source": [
    "Тариф «Смарт»\n",
    "* Ежемесячная плата: 550 рублей\n",
    "* Включено 500 минут разговора, 50 сообщений и 15 Гб интернет-трафика\n",
    "* Стоимость услуг сверх тарифного пакета:\n",
    "* минута разговора: 3 рубля\n",
    "* сообщение: 3 рубля\n",
    "* 1 Гб интернет-трафика: 200 рублей\n",
    "\n",
    "Тариф «Ультра»\n",
    "* Ежемесячная плата: 1950 рублей\n",
    "* Включено 3000 минут разговора, 1000 сообщений и 30 Гб интернет-трафика\n",
    "* Стоимость услуг сверх тарифного пакета:\n",
    "* минута разговора: 1 рубль\n",
    "* сообщение: 1 рубль\n",
    "* 1 Гб интернет-трафика: 150 рублей"
   ]
  },
  {
   "cell_type": "markdown",
   "id": "18b3f78e",
   "metadata": {},
   "source": [
    "## Получение данных"
   ]
  },
  {
   "cell_type": "code",
   "execution_count": 1,
   "id": "97ed1879",
   "metadata": {},
   "outputs": [],
   "source": [
    "# Импорт необходимых библиотек\n",
    "import pandas as pd\n",
    "from datetime import datetime \n",
    "import matplotlib.pyplot as plt\n",
    "import seaborn as sns\n",
    "import numpy as np\n",
    "import scipy.stats as stats\n",
    "from math import ceil\n",
    "from tqdm import tqdm"
   ]
  },
  {
   "cell_type": "code",
   "execution_count": 2,
   "id": "de490332",
   "metadata": {},
   "outputs": [],
   "source": [
    "# создадим список с именами тадлиц для чтения\n",
    "files_list = ['calls', 'internet', 'messages', 'tariffs', 'users']\n",
    "\n",
    "# ссылка для файлов на Яндексе\n",
    "link_to_file = 'https://code.s3.yandex.net/datasets/'"
   ]
  },
  {
   "cell_type": "code",
   "execution_count": 3,
   "id": "e1abc4a1",
   "metadata": {
    "scrolled": false
   },
   "outputs": [
    {
     "name": "stdout",
     "output_type": "stream",
     "text": [
      ">>>>>>>>>>>>>>>>>>>>>>>>>>>>>>>>>>>>>>>>>>>>>>>>>> calls\n",
      "<class 'pandas.core.frame.DataFrame'>\n",
      "RangeIndex: 202607 entries, 0 to 202606\n",
      "Data columns (total 4 columns):\n",
      " #   Column     Non-Null Count   Dtype  \n",
      "---  ------     --------------   -----  \n",
      " 0   id         202607 non-null  object \n",
      " 1   call_date  202607 non-null  object \n",
      " 2   duration   202607 non-null  float64\n",
      " 3   user_id    202607 non-null  int64  \n",
      "dtypes: float64(1), int64(1), object(2)\n",
      "memory usage: 6.2+ MB\n"
     ]
    },
    {
     "data": {
      "text/html": [
       "<div>\n",
       "<style scoped>\n",
       "    .dataframe tbody tr th:only-of-type {\n",
       "        vertical-align: middle;\n",
       "    }\n",
       "\n",
       "    .dataframe tbody tr th {\n",
       "        vertical-align: top;\n",
       "    }\n",
       "\n",
       "    .dataframe thead th {\n",
       "        text-align: right;\n",
       "    }\n",
       "</style>\n",
       "<table border=\"1\" class=\"dataframe\">\n",
       "  <thead>\n",
       "    <tr style=\"text-align: right;\">\n",
       "      <th></th>\n",
       "      <th>id</th>\n",
       "      <th>call_date</th>\n",
       "      <th>duration</th>\n",
       "      <th>user_id</th>\n",
       "    </tr>\n",
       "  </thead>\n",
       "  <tbody>\n",
       "    <tr>\n",
       "      <th>0</th>\n",
       "      <td>1000_0</td>\n",
       "      <td>2018-07-25</td>\n",
       "      <td>0.0</td>\n",
       "      <td>1000</td>\n",
       "    </tr>\n",
       "    <tr>\n",
       "      <th>1</th>\n",
       "      <td>1000_1</td>\n",
       "      <td>2018-08-17</td>\n",
       "      <td>0.0</td>\n",
       "      <td>1000</td>\n",
       "    </tr>\n",
       "  </tbody>\n",
       "</table>\n",
       "</div>"
      ],
      "text/plain": [
       "       id   call_date  duration  user_id\n",
       "0  1000_0  2018-07-25       0.0     1000\n",
       "1  1000_1  2018-08-17       0.0     1000"
      ]
     },
     "metadata": {},
     "output_type": "display_data"
    },
    {
     "name": "stdout",
     "output_type": "stream",
     "text": [
      "\n",
      ">>>>>>>>>>>>>>>>>>>>>>>>>>>>>>>>>>>>>>>>>>>>>>>>>> internet\n",
      "<class 'pandas.core.frame.DataFrame'>\n",
      "RangeIndex: 149396 entries, 0 to 149395\n",
      "Data columns (total 5 columns):\n",
      " #   Column        Non-Null Count   Dtype  \n",
      "---  ------        --------------   -----  \n",
      " 0   Unnamed: 0    149396 non-null  int64  \n",
      " 1   id            149396 non-null  object \n",
      " 2   mb_used       149396 non-null  float64\n",
      " 3   session_date  149396 non-null  object \n",
      " 4   user_id       149396 non-null  int64  \n",
      "dtypes: float64(1), int64(2), object(2)\n",
      "memory usage: 5.7+ MB\n"
     ]
    },
    {
     "data": {
      "text/html": [
       "<div>\n",
       "<style scoped>\n",
       "    .dataframe tbody tr th:only-of-type {\n",
       "        vertical-align: middle;\n",
       "    }\n",
       "\n",
       "    .dataframe tbody tr th {\n",
       "        vertical-align: top;\n",
       "    }\n",
       "\n",
       "    .dataframe thead th {\n",
       "        text-align: right;\n",
       "    }\n",
       "</style>\n",
       "<table border=\"1\" class=\"dataframe\">\n",
       "  <thead>\n",
       "    <tr style=\"text-align: right;\">\n",
       "      <th></th>\n",
       "      <th>Unnamed: 0</th>\n",
       "      <th>id</th>\n",
       "      <th>mb_used</th>\n",
       "      <th>session_date</th>\n",
       "      <th>user_id</th>\n",
       "    </tr>\n",
       "  </thead>\n",
       "  <tbody>\n",
       "    <tr>\n",
       "      <th>0</th>\n",
       "      <td>0</td>\n",
       "      <td>1000_0</td>\n",
       "      <td>112.95</td>\n",
       "      <td>2018-11-25</td>\n",
       "      <td>1000</td>\n",
       "    </tr>\n",
       "    <tr>\n",
       "      <th>1</th>\n",
       "      <td>1</td>\n",
       "      <td>1000_1</td>\n",
       "      <td>1052.81</td>\n",
       "      <td>2018-09-07</td>\n",
       "      <td>1000</td>\n",
       "    </tr>\n",
       "  </tbody>\n",
       "</table>\n",
       "</div>"
      ],
      "text/plain": [
       "   Unnamed: 0      id  mb_used session_date  user_id\n",
       "0           0  1000_0   112.95   2018-11-25     1000\n",
       "1           1  1000_1  1052.81   2018-09-07     1000"
      ]
     },
     "metadata": {},
     "output_type": "display_data"
    },
    {
     "name": "stdout",
     "output_type": "stream",
     "text": [
      "\n",
      ">>>>>>>>>>>>>>>>>>>>>>>>>>>>>>>>>>>>>>>>>>>>>>>>>> messages\n",
      "<class 'pandas.core.frame.DataFrame'>\n",
      "RangeIndex: 123036 entries, 0 to 123035\n",
      "Data columns (total 3 columns):\n",
      " #   Column        Non-Null Count   Dtype \n",
      "---  ------        --------------   ----- \n",
      " 0   id            123036 non-null  object\n",
      " 1   message_date  123036 non-null  object\n",
      " 2   user_id       123036 non-null  int64 \n",
      "dtypes: int64(1), object(2)\n",
      "memory usage: 2.8+ MB\n"
     ]
    },
    {
     "data": {
      "text/html": [
       "<div>\n",
       "<style scoped>\n",
       "    .dataframe tbody tr th:only-of-type {\n",
       "        vertical-align: middle;\n",
       "    }\n",
       "\n",
       "    .dataframe tbody tr th {\n",
       "        vertical-align: top;\n",
       "    }\n",
       "\n",
       "    .dataframe thead th {\n",
       "        text-align: right;\n",
       "    }\n",
       "</style>\n",
       "<table border=\"1\" class=\"dataframe\">\n",
       "  <thead>\n",
       "    <tr style=\"text-align: right;\">\n",
       "      <th></th>\n",
       "      <th>id</th>\n",
       "      <th>message_date</th>\n",
       "      <th>user_id</th>\n",
       "    </tr>\n",
       "  </thead>\n",
       "  <tbody>\n",
       "    <tr>\n",
       "      <th>0</th>\n",
       "      <td>1000_0</td>\n",
       "      <td>2018-06-27</td>\n",
       "      <td>1000</td>\n",
       "    </tr>\n",
       "    <tr>\n",
       "      <th>1</th>\n",
       "      <td>1000_1</td>\n",
       "      <td>2018-10-08</td>\n",
       "      <td>1000</td>\n",
       "    </tr>\n",
       "  </tbody>\n",
       "</table>\n",
       "</div>"
      ],
      "text/plain": [
       "       id message_date  user_id\n",
       "0  1000_0   2018-06-27     1000\n",
       "1  1000_1   2018-10-08     1000"
      ]
     },
     "metadata": {},
     "output_type": "display_data"
    },
    {
     "name": "stdout",
     "output_type": "stream",
     "text": [
      "\n",
      ">>>>>>>>>>>>>>>>>>>>>>>>>>>>>>>>>>>>>>>>>>>>>>>>>> tariffs\n",
      "<class 'pandas.core.frame.DataFrame'>\n",
      "RangeIndex: 2 entries, 0 to 1\n",
      "Data columns (total 8 columns):\n",
      " #   Column                 Non-Null Count  Dtype \n",
      "---  ------                 --------------  ----- \n",
      " 0   messages_included      2 non-null      int64 \n",
      " 1   mb_per_month_included  2 non-null      int64 \n",
      " 2   minutes_included       2 non-null      int64 \n",
      " 3   rub_monthly_fee        2 non-null      int64 \n",
      " 4   rub_per_gb             2 non-null      int64 \n",
      " 5   rub_per_message        2 non-null      int64 \n",
      " 6   rub_per_minute         2 non-null      int64 \n",
      " 7   tariff_name            2 non-null      object\n",
      "dtypes: int64(7), object(1)\n",
      "memory usage: 256.0+ bytes\n"
     ]
    },
    {
     "data": {
      "text/html": [
       "<div>\n",
       "<style scoped>\n",
       "    .dataframe tbody tr th:only-of-type {\n",
       "        vertical-align: middle;\n",
       "    }\n",
       "\n",
       "    .dataframe tbody tr th {\n",
       "        vertical-align: top;\n",
       "    }\n",
       "\n",
       "    .dataframe thead th {\n",
       "        text-align: right;\n",
       "    }\n",
       "</style>\n",
       "<table border=\"1\" class=\"dataframe\">\n",
       "  <thead>\n",
       "    <tr style=\"text-align: right;\">\n",
       "      <th></th>\n",
       "      <th>messages_included</th>\n",
       "      <th>mb_per_month_included</th>\n",
       "      <th>minutes_included</th>\n",
       "      <th>rub_monthly_fee</th>\n",
       "      <th>rub_per_gb</th>\n",
       "      <th>rub_per_message</th>\n",
       "      <th>rub_per_minute</th>\n",
       "      <th>tariff_name</th>\n",
       "    </tr>\n",
       "  </thead>\n",
       "  <tbody>\n",
       "    <tr>\n",
       "      <th>0</th>\n",
       "      <td>50</td>\n",
       "      <td>15360</td>\n",
       "      <td>500</td>\n",
       "      <td>550</td>\n",
       "      <td>200</td>\n",
       "      <td>3</td>\n",
       "      <td>3</td>\n",
       "      <td>smart</td>\n",
       "    </tr>\n",
       "    <tr>\n",
       "      <th>1</th>\n",
       "      <td>1000</td>\n",
       "      <td>30720</td>\n",
       "      <td>3000</td>\n",
       "      <td>1950</td>\n",
       "      <td>150</td>\n",
       "      <td>1</td>\n",
       "      <td>1</td>\n",
       "      <td>ultra</td>\n",
       "    </tr>\n",
       "  </tbody>\n",
       "</table>\n",
       "</div>"
      ],
      "text/plain": [
       "   messages_included  mb_per_month_included  minutes_included  \\\n",
       "0                 50                  15360               500   \n",
       "1               1000                  30720              3000   \n",
       "\n",
       "   rub_monthly_fee  rub_per_gb  rub_per_message  rub_per_minute tariff_name  \n",
       "0              550         200                3               3       smart  \n",
       "1             1950         150                1               1       ultra  "
      ]
     },
     "metadata": {},
     "output_type": "display_data"
    },
    {
     "name": "stdout",
     "output_type": "stream",
     "text": [
      "\n",
      ">>>>>>>>>>>>>>>>>>>>>>>>>>>>>>>>>>>>>>>>>>>>>>>>>> users\n",
      "<class 'pandas.core.frame.DataFrame'>\n",
      "RangeIndex: 500 entries, 0 to 499\n",
      "Data columns (total 8 columns):\n",
      " #   Column      Non-Null Count  Dtype \n",
      "---  ------      --------------  ----- \n",
      " 0   user_id     500 non-null    int64 \n",
      " 1   age         500 non-null    int64 \n",
      " 2   churn_date  38 non-null     object\n",
      " 3   city        500 non-null    object\n",
      " 4   first_name  500 non-null    object\n",
      " 5   last_name   500 non-null    object\n",
      " 6   reg_date    500 non-null    object\n",
      " 7   tariff      500 non-null    object\n",
      "dtypes: int64(2), object(6)\n",
      "memory usage: 31.4+ KB\n"
     ]
    },
    {
     "data": {
      "text/html": [
       "<div>\n",
       "<style scoped>\n",
       "    .dataframe tbody tr th:only-of-type {\n",
       "        vertical-align: middle;\n",
       "    }\n",
       "\n",
       "    .dataframe tbody tr th {\n",
       "        vertical-align: top;\n",
       "    }\n",
       "\n",
       "    .dataframe thead th {\n",
       "        text-align: right;\n",
       "    }\n",
       "</style>\n",
       "<table border=\"1\" class=\"dataframe\">\n",
       "  <thead>\n",
       "    <tr style=\"text-align: right;\">\n",
       "      <th></th>\n",
       "      <th>user_id</th>\n",
       "      <th>age</th>\n",
       "      <th>churn_date</th>\n",
       "      <th>city</th>\n",
       "      <th>first_name</th>\n",
       "      <th>last_name</th>\n",
       "      <th>reg_date</th>\n",
       "      <th>tariff</th>\n",
       "    </tr>\n",
       "  </thead>\n",
       "  <tbody>\n",
       "    <tr>\n",
       "      <th>0</th>\n",
       "      <td>1000</td>\n",
       "      <td>52</td>\n",
       "      <td>NaN</td>\n",
       "      <td>Краснодар</td>\n",
       "      <td>Рафаил</td>\n",
       "      <td>Верещагин</td>\n",
       "      <td>2018-05-25</td>\n",
       "      <td>ultra</td>\n",
       "    </tr>\n",
       "    <tr>\n",
       "      <th>1</th>\n",
       "      <td>1001</td>\n",
       "      <td>41</td>\n",
       "      <td>NaN</td>\n",
       "      <td>Москва</td>\n",
       "      <td>Иван</td>\n",
       "      <td>Ежов</td>\n",
       "      <td>2018-11-01</td>\n",
       "      <td>smart</td>\n",
       "    </tr>\n",
       "  </tbody>\n",
       "</table>\n",
       "</div>"
      ],
      "text/plain": [
       "   user_id  age churn_date       city first_name  last_name    reg_date tariff\n",
       "0     1000   52        NaN  Краснодар     Рафаил  Верещагин  2018-05-25  ultra\n",
       "1     1001   41        NaN     Москва       Иван       Ежов  2018-11-01  smart"
      ]
     },
     "metadata": {},
     "output_type": "display_data"
    },
    {
     "name": "stdout",
     "output_type": "stream",
     "text": [
      "\n"
     ]
    }
   ],
   "source": [
    "# Читаем данные и выводим название, info и первые 2 строки\n",
    "for file_name in files_list:\n",
    "    \n",
    "    try:\n",
    "        globals()[file_name] = pd.read_csv(file_name + \".csv\")\n",
    "    except FileNotFoundError:\n",
    "        globals()[file_name] = pd.read_csv(link_to_file + file_name + \".csv\")\n",
    "    \n",
    "    print(50*'>', file_name)\n",
    "    globals()[file_name].info()\n",
    "    display(globals()[file_name].head(2))\n",
    "    print()"
   ]
  },
  {
   "cell_type": "code",
   "execution_count": 4,
   "id": "646cdf9b",
   "metadata": {
    "scrolled": true
   },
   "outputs": [
    {
     "data": {
      "text/plain": [
       "0              0\n",
       "1              1\n",
       "2              2\n",
       "3              3\n",
       "4              4\n",
       "           ...  \n",
       "149391    149391\n",
       "149392    149392\n",
       "149393    149393\n",
       "149394    149394\n",
       "149395    149395\n",
       "Name: Unnamed: 0, Length: 149396, dtype: int64"
      ]
     },
     "execution_count": 4,
     "metadata": {},
     "output_type": "execute_result"
    }
   ],
   "source": [
    "# Посмотрим на первый столбец таблицы internet\n",
    "internet['Unnamed: 0']"
   ]
  },
  {
   "cell_type": "code",
   "execution_count": 5,
   "id": "e2b792f7",
   "metadata": {},
   "outputs": [
    {
     "data": {
      "text/html": [
       "<div>\n",
       "<style scoped>\n",
       "    .dataframe tbody tr th:only-of-type {\n",
       "        vertical-align: middle;\n",
       "    }\n",
       "\n",
       "    .dataframe tbody tr th {\n",
       "        vertical-align: top;\n",
       "    }\n",
       "\n",
       "    .dataframe thead th {\n",
       "        text-align: right;\n",
       "    }\n",
       "</style>\n",
       "<table border=\"1\" class=\"dataframe\">\n",
       "  <thead>\n",
       "    <tr style=\"text-align: right;\">\n",
       "      <th></th>\n",
       "      <th>id</th>\n",
       "      <th>mb_used</th>\n",
       "      <th>session_date</th>\n",
       "      <th>user_id</th>\n",
       "    </tr>\n",
       "  </thead>\n",
       "  <tbody>\n",
       "    <tr>\n",
       "      <th>0</th>\n",
       "      <td>1000_0</td>\n",
       "      <td>112.95</td>\n",
       "      <td>2018-11-25</td>\n",
       "      <td>1000</td>\n",
       "    </tr>\n",
       "    <tr>\n",
       "      <th>1</th>\n",
       "      <td>1000_1</td>\n",
       "      <td>1052.81</td>\n",
       "      <td>2018-09-07</td>\n",
       "      <td>1000</td>\n",
       "    </tr>\n",
       "    <tr>\n",
       "      <th>2</th>\n",
       "      <td>1000_2</td>\n",
       "      <td>1197.26</td>\n",
       "      <td>2018-06-25</td>\n",
       "      <td>1000</td>\n",
       "    </tr>\n",
       "    <tr>\n",
       "      <th>3</th>\n",
       "      <td>1000_3</td>\n",
       "      <td>550.27</td>\n",
       "      <td>2018-08-22</td>\n",
       "      <td>1000</td>\n",
       "    </tr>\n",
       "    <tr>\n",
       "      <th>4</th>\n",
       "      <td>1000_4</td>\n",
       "      <td>302.56</td>\n",
       "      <td>2018-09-24</td>\n",
       "      <td>1000</td>\n",
       "    </tr>\n",
       "  </tbody>\n",
       "</table>\n",
       "</div>"
      ],
      "text/plain": [
       "       id  mb_used session_date  user_id\n",
       "0  1000_0   112.95   2018-11-25     1000\n",
       "1  1000_1  1052.81   2018-09-07     1000\n",
       "2  1000_2  1197.26   2018-06-25     1000\n",
       "3  1000_3   550.27   2018-08-22     1000\n",
       "4  1000_4   302.56   2018-09-24     1000"
      ]
     },
     "execution_count": 5,
     "metadata": {},
     "output_type": "execute_result"
    }
   ],
   "source": [
    "# задвоение индексов. удалим столбец\n",
    "internet = internet.drop('Unnamed: 0', axis=1)\n",
    "# проверка\n",
    "internet.head()"
   ]
  },
  {
   "cell_type": "markdown",
   "id": "7670f800",
   "metadata": {},
   "source": [
    "**Вывод** Получены данные из 5 файлов. В 'users' имеются пропуски. Данные в некоторых столбцах требуют изменения типа. На следующем этапе проведём преобразование типов данных, проверку на дубликаты и корректность данных.\n"
   ]
  },
  {
   "cell_type": "markdown",
   "id": "b70982c2",
   "metadata": {},
   "source": [
    "## Подготовка данных"
   ]
  },
  {
   "cell_type": "markdown",
   "id": "ca88e4e8",
   "metadata": {},
   "source": [
    "Меняем типы данных."
   ]
  },
  {
   "cell_type": "code",
   "execution_count": 6,
   "id": "3f739cf7",
   "metadata": {},
   "outputs": [
    {
     "name": "stdout",
     "output_type": "stream",
     "text": [
      "<class 'pandas.core.frame.DataFrame'>\n",
      "RangeIndex: 202607 entries, 0 to 202606\n",
      "Data columns (total 4 columns):\n",
      " #   Column     Non-Null Count   Dtype         \n",
      "---  ------     --------------   -----         \n",
      " 0   id         202607 non-null  object        \n",
      " 1   call_date  202607 non-null  datetime64[ns]\n",
      " 2   duration   202607 non-null  float64       \n",
      " 3   user_id    202607 non-null  int64         \n",
      "dtypes: datetime64[ns](1), float64(1), int64(1), object(1)\n",
      "memory usage: 6.2+ MB\n"
     ]
    }
   ],
   "source": [
    "calls['call_date'] = pd.to_datetime(calls['call_date'], format='%Y-%m-%d')\n",
    "calls['duration'] = pd.to_numeric(calls['duration'])\n",
    "calls.info()"
   ]
  },
  {
   "cell_type": "code",
   "execution_count": 7,
   "id": "b0468b0f",
   "metadata": {},
   "outputs": [
    {
     "name": "stdout",
     "output_type": "stream",
     "text": [
      "<class 'pandas.core.frame.DataFrame'>\n",
      "RangeIndex: 149396 entries, 0 to 149395\n",
      "Data columns (total 4 columns):\n",
      " #   Column        Non-Null Count   Dtype         \n",
      "---  ------        --------------   -----         \n",
      " 0   id            149396 non-null  object        \n",
      " 1   mb_used       149396 non-null  float64       \n",
      " 2   session_date  149396 non-null  datetime64[ns]\n",
      " 3   user_id       149396 non-null  int64         \n",
      "dtypes: datetime64[ns](1), float64(1), int64(1), object(1)\n",
      "memory usage: 4.6+ MB\n"
     ]
    }
   ],
   "source": [
    "internet['session_date'] = pd.to_datetime(internet['session_date'], format='%Y-%m-%d')\n",
    "internet.info()"
   ]
  },
  {
   "cell_type": "code",
   "execution_count": 8,
   "id": "5d348cfe",
   "metadata": {
    "scrolled": true
   },
   "outputs": [
    {
     "name": "stdout",
     "output_type": "stream",
     "text": [
      "<class 'pandas.core.frame.DataFrame'>\n",
      "RangeIndex: 123036 entries, 0 to 123035\n",
      "Data columns (total 3 columns):\n",
      " #   Column        Non-Null Count   Dtype         \n",
      "---  ------        --------------   -----         \n",
      " 0   id            123036 non-null  object        \n",
      " 1   message_date  123036 non-null  datetime64[ns]\n",
      " 2   user_id       123036 non-null  int64         \n",
      "dtypes: datetime64[ns](1), int64(1), object(1)\n",
      "memory usage: 2.8+ MB\n"
     ]
    }
   ],
   "source": [
    "messages['message_date'] = pd.to_datetime(messages['message_date'], format='%Y-%m-%d')\n",
    "messages.info()"
   ]
  },
  {
   "cell_type": "code",
   "execution_count": 9,
   "id": "dd3069ba",
   "metadata": {},
   "outputs": [
    {
     "name": "stdout",
     "output_type": "stream",
     "text": [
      "<class 'pandas.core.frame.DataFrame'>\n",
      "RangeIndex: 500 entries, 0 to 499\n",
      "Data columns (total 8 columns):\n",
      " #   Column      Non-Null Count  Dtype         \n",
      "---  ------      --------------  -----         \n",
      " 0   user_id     500 non-null    int64         \n",
      " 1   age         500 non-null    int64         \n",
      " 2   churn_date  38 non-null     datetime64[ns]\n",
      " 3   city        500 non-null    object        \n",
      " 4   first_name  500 non-null    object        \n",
      " 5   last_name   500 non-null    object        \n",
      " 6   reg_date    500 non-null    datetime64[ns]\n",
      " 7   tariff      500 non-null    object        \n",
      "dtypes: datetime64[ns](2), int64(2), object(4)\n",
      "memory usage: 31.4+ KB\n"
     ]
    }
   ],
   "source": [
    "users['churn_date'] = pd.to_datetime(users['churn_date'], format='%Y-%m-%d')\n",
    "users['reg_date'] = pd.to_datetime(users['reg_date'], format='%Y-%m-%d')\n",
    "users.info()"
   ]
  },
  {
   "cell_type": "code",
   "execution_count": 10,
   "id": "1d7387b4",
   "metadata": {},
   "outputs": [
    {
     "name": "stdout",
     "output_type": "stream",
     "text": [
      "Число дубликатов в таблице calls      0\n",
      "Число дубликатов в таблице internet   0\n",
      "Число дубликатов в таблице messages   0\n",
      "Число дубликатов в таблице tariffs    0\n",
      "Число дубликатов в таблице users      0\n"
     ]
    }
   ],
   "source": [
    "# проверим число дубликатов в данных\n",
    "for df in files_list:\n",
    "    print(f'Число дубликатов в таблице {df:<10} {globals()[df].duplicated().sum()}')"
   ]
  },
  {
   "cell_type": "code",
   "execution_count": 11,
   "id": "f586cd69",
   "metadata": {},
   "outputs": [
    {
     "name": "stdout",
     "output_type": "stream",
     "text": [
      ">>>>>>>>>>>>>>>>>>>>>>>>>>>>>>>>>>>>>>>>>>>>>>>>>> calls\n"
     ]
    },
    {
     "data": {
      "text/html": [
       "<style  type=\"text/css\" >\n",
       "</style><table id=\"T_d86dc_\" ><thead>    <tr>        <th class=\"blank level0\" ></th>        <th class=\"col_heading level0 col0\" >duration</th>        <th class=\"col_heading level0 col1\" >user_id</th>    </tr></thead><tbody>\n",
       "                <tr>\n",
       "                        <th id=\"T_d86dc_level0_row0\" class=\"row_heading level0 row0\" >count</th>\n",
       "                        <td id=\"T_d86dc_row0_col0\" class=\"data row0 col0\" >202607.00</td>\n",
       "                        <td id=\"T_d86dc_row0_col1\" class=\"data row0 col1\" >202607.00</td>\n",
       "            </tr>\n",
       "            <tr>\n",
       "                        <th id=\"T_d86dc_level0_row1\" class=\"row_heading level0 row1\" >mean</th>\n",
       "                        <td id=\"T_d86dc_row1_col0\" class=\"data row1 col0\" >6.76</td>\n",
       "                        <td id=\"T_d86dc_row1_col1\" class=\"data row1 col1\" >1253.94</td>\n",
       "            </tr>\n",
       "            <tr>\n",
       "                        <th id=\"T_d86dc_level0_row2\" class=\"row_heading level0 row2\" >std</th>\n",
       "                        <td id=\"T_d86dc_row2_col0\" class=\"data row2 col0\" >5.84</td>\n",
       "                        <td id=\"T_d86dc_row2_col1\" class=\"data row2 col1\" >144.72</td>\n",
       "            </tr>\n",
       "            <tr>\n",
       "                        <th id=\"T_d86dc_level0_row3\" class=\"row_heading level0 row3\" >min</th>\n",
       "                        <td id=\"T_d86dc_row3_col0\" class=\"data row3 col0\" >0.00</td>\n",
       "                        <td id=\"T_d86dc_row3_col1\" class=\"data row3 col1\" >1000.00</td>\n",
       "            </tr>\n",
       "            <tr>\n",
       "                        <th id=\"T_d86dc_level0_row4\" class=\"row_heading level0 row4\" >25%</th>\n",
       "                        <td id=\"T_d86dc_row4_col0\" class=\"data row4 col0\" >1.30</td>\n",
       "                        <td id=\"T_d86dc_row4_col1\" class=\"data row4 col1\" >1126.00</td>\n",
       "            </tr>\n",
       "            <tr>\n",
       "                        <th id=\"T_d86dc_level0_row5\" class=\"row_heading level0 row5\" >50%</th>\n",
       "                        <td id=\"T_d86dc_row5_col0\" class=\"data row5 col0\" >6.00</td>\n",
       "                        <td id=\"T_d86dc_row5_col1\" class=\"data row5 col1\" >1260.00</td>\n",
       "            </tr>\n",
       "            <tr>\n",
       "                        <th id=\"T_d86dc_level0_row6\" class=\"row_heading level0 row6\" >75%</th>\n",
       "                        <td id=\"T_d86dc_row6_col0\" class=\"data row6 col0\" >10.70</td>\n",
       "                        <td id=\"T_d86dc_row6_col1\" class=\"data row6 col1\" >1379.00</td>\n",
       "            </tr>\n",
       "            <tr>\n",
       "                        <th id=\"T_d86dc_level0_row7\" class=\"row_heading level0 row7\" >max</th>\n",
       "                        <td id=\"T_d86dc_row7_col0\" class=\"data row7 col0\" >38.00</td>\n",
       "                        <td id=\"T_d86dc_row7_col1\" class=\"data row7 col1\" >1499.00</td>\n",
       "            </tr>\n",
       "    </tbody></table>"
      ],
      "text/plain": [
       "<pandas.io.formats.style.Styler at 0xb04862100>"
      ]
     },
     "metadata": {},
     "output_type": "display_data"
    },
    {
     "name": "stdout",
     "output_type": "stream",
     "text": [
      ">>>>>>>>>>>>>>>>>>>>>>>>>>>>>>>>>>>>>>>>>>>>>>>>>> internet\n"
     ]
    },
    {
     "data": {
      "text/html": [
       "<style  type=\"text/css\" >\n",
       "</style><table id=\"T_2766e_\" ><thead>    <tr>        <th class=\"blank level0\" ></th>        <th class=\"col_heading level0 col0\" >mb_used</th>        <th class=\"col_heading level0 col1\" >user_id</th>    </tr></thead><tbody>\n",
       "                <tr>\n",
       "                        <th id=\"T_2766e_level0_row0\" class=\"row_heading level0 row0\" >count</th>\n",
       "                        <td id=\"T_2766e_row0_col0\" class=\"data row0 col0\" >149396.00</td>\n",
       "                        <td id=\"T_2766e_row0_col1\" class=\"data row0 col1\" >149396.00</td>\n",
       "            </tr>\n",
       "            <tr>\n",
       "                        <th id=\"T_2766e_level0_row1\" class=\"row_heading level0 row1\" >mean</th>\n",
       "                        <td id=\"T_2766e_row1_col0\" class=\"data row1 col0\" >370.19</td>\n",
       "                        <td id=\"T_2766e_row1_col1\" class=\"data row1 col1\" >1252.10</td>\n",
       "            </tr>\n",
       "            <tr>\n",
       "                        <th id=\"T_2766e_level0_row2\" class=\"row_heading level0 row2\" >std</th>\n",
       "                        <td id=\"T_2766e_row2_col0\" class=\"data row2 col0\" >278.30</td>\n",
       "                        <td id=\"T_2766e_row2_col1\" class=\"data row2 col1\" >144.05</td>\n",
       "            </tr>\n",
       "            <tr>\n",
       "                        <th id=\"T_2766e_level0_row3\" class=\"row_heading level0 row3\" >min</th>\n",
       "                        <td id=\"T_2766e_row3_col0\" class=\"data row3 col0\" >0.00</td>\n",
       "                        <td id=\"T_2766e_row3_col1\" class=\"data row3 col1\" >1000.00</td>\n",
       "            </tr>\n",
       "            <tr>\n",
       "                        <th id=\"T_2766e_level0_row4\" class=\"row_heading level0 row4\" >25%</th>\n",
       "                        <td id=\"T_2766e_row4_col0\" class=\"data row4 col0\" >138.19</td>\n",
       "                        <td id=\"T_2766e_row4_col1\" class=\"data row4 col1\" >1130.00</td>\n",
       "            </tr>\n",
       "            <tr>\n",
       "                        <th id=\"T_2766e_level0_row5\" class=\"row_heading level0 row5\" >50%</th>\n",
       "                        <td id=\"T_2766e_row5_col0\" class=\"data row5 col0\" >348.01</td>\n",
       "                        <td id=\"T_2766e_row5_col1\" class=\"data row5 col1\" >1251.00</td>\n",
       "            </tr>\n",
       "            <tr>\n",
       "                        <th id=\"T_2766e_level0_row6\" class=\"row_heading level0 row6\" >75%</th>\n",
       "                        <td id=\"T_2766e_row6_col0\" class=\"data row6 col0\" >559.55</td>\n",
       "                        <td id=\"T_2766e_row6_col1\" class=\"data row6 col1\" >1380.00</td>\n",
       "            </tr>\n",
       "            <tr>\n",
       "                        <th id=\"T_2766e_level0_row7\" class=\"row_heading level0 row7\" >max</th>\n",
       "                        <td id=\"T_2766e_row7_col0\" class=\"data row7 col0\" >1724.83</td>\n",
       "                        <td id=\"T_2766e_row7_col1\" class=\"data row7 col1\" >1499.00</td>\n",
       "            </tr>\n",
       "    </tbody></table>"
      ],
      "text/plain": [
       "<pandas.io.formats.style.Styler at 0xb04862280>"
      ]
     },
     "metadata": {},
     "output_type": "display_data"
    },
    {
     "name": "stdout",
     "output_type": "stream",
     "text": [
      ">>>>>>>>>>>>>>>>>>>>>>>>>>>>>>>>>>>>>>>>>>>>>>>>>> messages\n"
     ]
    },
    {
     "data": {
      "text/html": [
       "<style  type=\"text/css\" >\n",
       "</style><table id=\"T_43474_\" ><thead>    <tr>        <th class=\"blank level0\" ></th>        <th class=\"col_heading level0 col0\" >user_id</th>    </tr></thead><tbody>\n",
       "                <tr>\n",
       "                        <th id=\"T_43474_level0_row0\" class=\"row_heading level0 row0\" >count</th>\n",
       "                        <td id=\"T_43474_row0_col0\" class=\"data row0 col0\" >123036.00</td>\n",
       "            </tr>\n",
       "            <tr>\n",
       "                        <th id=\"T_43474_level0_row1\" class=\"row_heading level0 row1\" >mean</th>\n",
       "                        <td id=\"T_43474_row1_col0\" class=\"data row1 col0\" >1256.99</td>\n",
       "            </tr>\n",
       "            <tr>\n",
       "                        <th id=\"T_43474_level0_row2\" class=\"row_heading level0 row2\" >std</th>\n",
       "                        <td id=\"T_43474_row2_col0\" class=\"data row2 col0\" >143.52</td>\n",
       "            </tr>\n",
       "            <tr>\n",
       "                        <th id=\"T_43474_level0_row3\" class=\"row_heading level0 row3\" >min</th>\n",
       "                        <td id=\"T_43474_row3_col0\" class=\"data row3 col0\" >1000.00</td>\n",
       "            </tr>\n",
       "            <tr>\n",
       "                        <th id=\"T_43474_level0_row4\" class=\"row_heading level0 row4\" >25%</th>\n",
       "                        <td id=\"T_43474_row4_col0\" class=\"data row4 col0\" >1134.00</td>\n",
       "            </tr>\n",
       "            <tr>\n",
       "                        <th id=\"T_43474_level0_row5\" class=\"row_heading level0 row5\" >50%</th>\n",
       "                        <td id=\"T_43474_row5_col0\" class=\"data row5 col0\" >1271.00</td>\n",
       "            </tr>\n",
       "            <tr>\n",
       "                        <th id=\"T_43474_level0_row6\" class=\"row_heading level0 row6\" >75%</th>\n",
       "                        <td id=\"T_43474_row6_col0\" class=\"data row6 col0\" >1381.00</td>\n",
       "            </tr>\n",
       "            <tr>\n",
       "                        <th id=\"T_43474_level0_row7\" class=\"row_heading level0 row7\" >max</th>\n",
       "                        <td id=\"T_43474_row7_col0\" class=\"data row7 col0\" >1499.00</td>\n",
       "            </tr>\n",
       "    </tbody></table>"
      ],
      "text/plain": [
       "<pandas.io.formats.style.Styler at 0xb0c54a1c0>"
      ]
     },
     "metadata": {},
     "output_type": "display_data"
    },
    {
     "name": "stdout",
     "output_type": "stream",
     "text": [
      ">>>>>>>>>>>>>>>>>>>>>>>>>>>>>>>>>>>>>>>>>>>>>>>>>> tariffs\n"
     ]
    },
    {
     "data": {
      "text/html": [
       "<style  type=\"text/css\" >\n",
       "</style><table id=\"T_a4121_\" ><thead>    <tr>        <th class=\"blank level0\" ></th>        <th class=\"col_heading level0 col0\" >messages_included</th>        <th class=\"col_heading level0 col1\" >mb_per_month_included</th>        <th class=\"col_heading level0 col2\" >minutes_included</th>        <th class=\"col_heading level0 col3\" >rub_monthly_fee</th>        <th class=\"col_heading level0 col4\" >rub_per_gb</th>        <th class=\"col_heading level0 col5\" >rub_per_message</th>        <th class=\"col_heading level0 col6\" >rub_per_minute</th>    </tr></thead><tbody>\n",
       "                <tr>\n",
       "                        <th id=\"T_a4121_level0_row0\" class=\"row_heading level0 row0\" >count</th>\n",
       "                        <td id=\"T_a4121_row0_col0\" class=\"data row0 col0\" >2.00</td>\n",
       "                        <td id=\"T_a4121_row0_col1\" class=\"data row0 col1\" >2.00</td>\n",
       "                        <td id=\"T_a4121_row0_col2\" class=\"data row0 col2\" >2.00</td>\n",
       "                        <td id=\"T_a4121_row0_col3\" class=\"data row0 col3\" >2.00</td>\n",
       "                        <td id=\"T_a4121_row0_col4\" class=\"data row0 col4\" >2.00</td>\n",
       "                        <td id=\"T_a4121_row0_col5\" class=\"data row0 col5\" >2.00</td>\n",
       "                        <td id=\"T_a4121_row0_col6\" class=\"data row0 col6\" >2.00</td>\n",
       "            </tr>\n",
       "            <tr>\n",
       "                        <th id=\"T_a4121_level0_row1\" class=\"row_heading level0 row1\" >mean</th>\n",
       "                        <td id=\"T_a4121_row1_col0\" class=\"data row1 col0\" >525.00</td>\n",
       "                        <td id=\"T_a4121_row1_col1\" class=\"data row1 col1\" >23040.00</td>\n",
       "                        <td id=\"T_a4121_row1_col2\" class=\"data row1 col2\" >1750.00</td>\n",
       "                        <td id=\"T_a4121_row1_col3\" class=\"data row1 col3\" >1250.00</td>\n",
       "                        <td id=\"T_a4121_row1_col4\" class=\"data row1 col4\" >175.00</td>\n",
       "                        <td id=\"T_a4121_row1_col5\" class=\"data row1 col5\" >2.00</td>\n",
       "                        <td id=\"T_a4121_row1_col6\" class=\"data row1 col6\" >2.00</td>\n",
       "            </tr>\n",
       "            <tr>\n",
       "                        <th id=\"T_a4121_level0_row2\" class=\"row_heading level0 row2\" >std</th>\n",
       "                        <td id=\"T_a4121_row2_col0\" class=\"data row2 col0\" >671.75</td>\n",
       "                        <td id=\"T_a4121_row2_col1\" class=\"data row2 col1\" >10861.16</td>\n",
       "                        <td id=\"T_a4121_row2_col2\" class=\"data row2 col2\" >1767.77</td>\n",
       "                        <td id=\"T_a4121_row2_col3\" class=\"data row2 col3\" >989.95</td>\n",
       "                        <td id=\"T_a4121_row2_col4\" class=\"data row2 col4\" >35.36</td>\n",
       "                        <td id=\"T_a4121_row2_col5\" class=\"data row2 col5\" >1.41</td>\n",
       "                        <td id=\"T_a4121_row2_col6\" class=\"data row2 col6\" >1.41</td>\n",
       "            </tr>\n",
       "            <tr>\n",
       "                        <th id=\"T_a4121_level0_row3\" class=\"row_heading level0 row3\" >min</th>\n",
       "                        <td id=\"T_a4121_row3_col0\" class=\"data row3 col0\" >50.00</td>\n",
       "                        <td id=\"T_a4121_row3_col1\" class=\"data row3 col1\" >15360.00</td>\n",
       "                        <td id=\"T_a4121_row3_col2\" class=\"data row3 col2\" >500.00</td>\n",
       "                        <td id=\"T_a4121_row3_col3\" class=\"data row3 col3\" >550.00</td>\n",
       "                        <td id=\"T_a4121_row3_col4\" class=\"data row3 col4\" >150.00</td>\n",
       "                        <td id=\"T_a4121_row3_col5\" class=\"data row3 col5\" >1.00</td>\n",
       "                        <td id=\"T_a4121_row3_col6\" class=\"data row3 col6\" >1.00</td>\n",
       "            </tr>\n",
       "            <tr>\n",
       "                        <th id=\"T_a4121_level0_row4\" class=\"row_heading level0 row4\" >25%</th>\n",
       "                        <td id=\"T_a4121_row4_col0\" class=\"data row4 col0\" >287.50</td>\n",
       "                        <td id=\"T_a4121_row4_col1\" class=\"data row4 col1\" >19200.00</td>\n",
       "                        <td id=\"T_a4121_row4_col2\" class=\"data row4 col2\" >1125.00</td>\n",
       "                        <td id=\"T_a4121_row4_col3\" class=\"data row4 col3\" >900.00</td>\n",
       "                        <td id=\"T_a4121_row4_col4\" class=\"data row4 col4\" >162.50</td>\n",
       "                        <td id=\"T_a4121_row4_col5\" class=\"data row4 col5\" >1.50</td>\n",
       "                        <td id=\"T_a4121_row4_col6\" class=\"data row4 col6\" >1.50</td>\n",
       "            </tr>\n",
       "            <tr>\n",
       "                        <th id=\"T_a4121_level0_row5\" class=\"row_heading level0 row5\" >50%</th>\n",
       "                        <td id=\"T_a4121_row5_col0\" class=\"data row5 col0\" >525.00</td>\n",
       "                        <td id=\"T_a4121_row5_col1\" class=\"data row5 col1\" >23040.00</td>\n",
       "                        <td id=\"T_a4121_row5_col2\" class=\"data row5 col2\" >1750.00</td>\n",
       "                        <td id=\"T_a4121_row5_col3\" class=\"data row5 col3\" >1250.00</td>\n",
       "                        <td id=\"T_a4121_row5_col4\" class=\"data row5 col4\" >175.00</td>\n",
       "                        <td id=\"T_a4121_row5_col5\" class=\"data row5 col5\" >2.00</td>\n",
       "                        <td id=\"T_a4121_row5_col6\" class=\"data row5 col6\" >2.00</td>\n",
       "            </tr>\n",
       "            <tr>\n",
       "                        <th id=\"T_a4121_level0_row6\" class=\"row_heading level0 row6\" >75%</th>\n",
       "                        <td id=\"T_a4121_row6_col0\" class=\"data row6 col0\" >762.50</td>\n",
       "                        <td id=\"T_a4121_row6_col1\" class=\"data row6 col1\" >26880.00</td>\n",
       "                        <td id=\"T_a4121_row6_col2\" class=\"data row6 col2\" >2375.00</td>\n",
       "                        <td id=\"T_a4121_row6_col3\" class=\"data row6 col3\" >1600.00</td>\n",
       "                        <td id=\"T_a4121_row6_col4\" class=\"data row6 col4\" >187.50</td>\n",
       "                        <td id=\"T_a4121_row6_col5\" class=\"data row6 col5\" >2.50</td>\n",
       "                        <td id=\"T_a4121_row6_col6\" class=\"data row6 col6\" >2.50</td>\n",
       "            </tr>\n",
       "            <tr>\n",
       "                        <th id=\"T_a4121_level0_row7\" class=\"row_heading level0 row7\" >max</th>\n",
       "                        <td id=\"T_a4121_row7_col0\" class=\"data row7 col0\" >1000.00</td>\n",
       "                        <td id=\"T_a4121_row7_col1\" class=\"data row7 col1\" >30720.00</td>\n",
       "                        <td id=\"T_a4121_row7_col2\" class=\"data row7 col2\" >3000.00</td>\n",
       "                        <td id=\"T_a4121_row7_col3\" class=\"data row7 col3\" >1950.00</td>\n",
       "                        <td id=\"T_a4121_row7_col4\" class=\"data row7 col4\" >200.00</td>\n",
       "                        <td id=\"T_a4121_row7_col5\" class=\"data row7 col5\" >3.00</td>\n",
       "                        <td id=\"T_a4121_row7_col6\" class=\"data row7 col6\" >3.00</td>\n",
       "            </tr>\n",
       "    </tbody></table>"
      ],
      "text/plain": [
       "<pandas.io.formats.style.Styler at 0xb0b99feb0>"
      ]
     },
     "metadata": {},
     "output_type": "display_data"
    },
    {
     "name": "stdout",
     "output_type": "stream",
     "text": [
      ">>>>>>>>>>>>>>>>>>>>>>>>>>>>>>>>>>>>>>>>>>>>>>>>>> users\n"
     ]
    },
    {
     "data": {
      "text/html": [
       "<style  type=\"text/css\" >\n",
       "</style><table id=\"T_31597_\" ><thead>    <tr>        <th class=\"blank level0\" ></th>        <th class=\"col_heading level0 col0\" >user_id</th>        <th class=\"col_heading level0 col1\" >age</th>    </tr></thead><tbody>\n",
       "                <tr>\n",
       "                        <th id=\"T_31597_level0_row0\" class=\"row_heading level0 row0\" >count</th>\n",
       "                        <td id=\"T_31597_row0_col0\" class=\"data row0 col0\" >500.00</td>\n",
       "                        <td id=\"T_31597_row0_col1\" class=\"data row0 col1\" >500.00</td>\n",
       "            </tr>\n",
       "            <tr>\n",
       "                        <th id=\"T_31597_level0_row1\" class=\"row_heading level0 row1\" >mean</th>\n",
       "                        <td id=\"T_31597_row1_col0\" class=\"data row1 col0\" >1249.50</td>\n",
       "                        <td id=\"T_31597_row1_col1\" class=\"data row1 col1\" >46.59</td>\n",
       "            </tr>\n",
       "            <tr>\n",
       "                        <th id=\"T_31597_level0_row2\" class=\"row_heading level0 row2\" >std</th>\n",
       "                        <td id=\"T_31597_row2_col0\" class=\"data row2 col0\" >144.48</td>\n",
       "                        <td id=\"T_31597_row2_col1\" class=\"data row2 col1\" >16.67</td>\n",
       "            </tr>\n",
       "            <tr>\n",
       "                        <th id=\"T_31597_level0_row3\" class=\"row_heading level0 row3\" >min</th>\n",
       "                        <td id=\"T_31597_row3_col0\" class=\"data row3 col0\" >1000.00</td>\n",
       "                        <td id=\"T_31597_row3_col1\" class=\"data row3 col1\" >18.00</td>\n",
       "            </tr>\n",
       "            <tr>\n",
       "                        <th id=\"T_31597_level0_row4\" class=\"row_heading level0 row4\" >25%</th>\n",
       "                        <td id=\"T_31597_row4_col0\" class=\"data row4 col0\" >1124.75</td>\n",
       "                        <td id=\"T_31597_row4_col1\" class=\"data row4 col1\" >32.00</td>\n",
       "            </tr>\n",
       "            <tr>\n",
       "                        <th id=\"T_31597_level0_row5\" class=\"row_heading level0 row5\" >50%</th>\n",
       "                        <td id=\"T_31597_row5_col0\" class=\"data row5 col0\" >1249.50</td>\n",
       "                        <td id=\"T_31597_row5_col1\" class=\"data row5 col1\" >46.00</td>\n",
       "            </tr>\n",
       "            <tr>\n",
       "                        <th id=\"T_31597_level0_row6\" class=\"row_heading level0 row6\" >75%</th>\n",
       "                        <td id=\"T_31597_row6_col0\" class=\"data row6 col0\" >1374.25</td>\n",
       "                        <td id=\"T_31597_row6_col1\" class=\"data row6 col1\" >62.00</td>\n",
       "            </tr>\n",
       "            <tr>\n",
       "                        <th id=\"T_31597_level0_row7\" class=\"row_heading level0 row7\" >max</th>\n",
       "                        <td id=\"T_31597_row7_col0\" class=\"data row7 col0\" >1499.00</td>\n",
       "                        <td id=\"T_31597_row7_col1\" class=\"data row7 col1\" >75.00</td>\n",
       "            </tr>\n",
       "    </tbody></table>"
      ],
      "text/plain": [
       "<pandas.io.formats.style.Styler at 0xb08568940>"
      ]
     },
     "metadata": {},
     "output_type": "display_data"
    }
   ],
   "source": [
    "# Посмотрим на минимальные и максимальные значения числовых пременных\n",
    "for file_name in files_list:\n",
    "    print(50*'>', file_name)\n",
    "    display(globals()[file_name].describe().style.format('{:.2f}'))"
   ]
  },
  {
   "cell_type": "code",
   "execution_count": 12,
   "id": "9488e100",
   "metadata": {},
   "outputs": [
    {
     "name": "stdout",
     "output_type": "stream",
     "text": [
      "2018-01-01 00:00:00 2018-12-31 00:00:00 365\n",
      "2018-01-01 00:00:00 2018-12-31 00:00:00 365\n",
      "2018-01-02 00:00:00 2018-12-31 00:00:00 364\n",
      "2018-08-17 00:00:00 2018-12-30 00:00:00 33\n",
      "2018-01-01 00:00:00 2018-12-31 00:00:00 270\n"
     ]
    }
   ],
   "source": [
    "# посмотрим на даты (минимальную, максимальную, число уникальных)\n",
    "print(calls['call_date'].min(), calls['call_date'].max(), calls['call_date'].nunique())\n",
    "print(internet['session_date'].min(), internet['session_date'].max(), internet['session_date'].nunique())\n",
    "print(messages['message_date'].min(), messages['message_date'].max(), messages['message_date'].nunique())\n",
    "print(users['churn_date'].min(), users['churn_date'].max(), users['churn_date'].nunique())\n",
    "print(users['reg_date'].min(), users['reg_date'].max(), users['reg_date'].nunique())"
   ]
  },
  {
   "cell_type": "markdown",
   "id": "a88e8deb",
   "metadata": {},
   "source": [
    "Тат как по условию исследования, представлены данные за 1 календарный год, создадим для каждого DF дополнительынй столбец с номером месяца события."
   ]
  },
  {
   "cell_type": "code",
   "execution_count": 13,
   "id": "cad00d74",
   "metadata": {},
   "outputs": [],
   "source": [
    "calls['month'] = calls['call_date'].dt.month\n",
    "internet['month'] = internet['session_date'].dt.month\n",
    "messages['month'] = messages['message_date'].dt.month\n",
    "users['reg_month'] = users['reg_date'].dt.month\n",
    "users['churn_month'] = users['churn_date'].dt.month"
   ]
  },
  {
   "cell_type": "code",
   "execution_count": 14,
   "id": "1c3f4433",
   "metadata": {},
   "outputs": [
    {
     "data": {
      "text/plain": [
       "38"
      ]
     },
     "execution_count": 14,
     "metadata": {},
     "output_type": "execute_result"
    }
   ],
   "source": [
    "# Посмотрим на число клиентов покинувших компанию\n",
    "users.loc[users['churn_date'].isna() == False]['user_id'].count()"
   ]
  },
  {
   "cell_type": "code",
   "execution_count": 15,
   "id": "50a52fd4",
   "metadata": {},
   "outputs": [
    {
     "data": {
      "text/html": [
       "<div>\n",
       "<style scoped>\n",
       "    .dataframe tbody tr th:only-of-type {\n",
       "        vertical-align: middle;\n",
       "    }\n",
       "\n",
       "    .dataframe tbody tr th {\n",
       "        vertical-align: top;\n",
       "    }\n",
       "\n",
       "    .dataframe thead th {\n",
       "        text-align: right;\n",
       "    }\n",
       "</style>\n",
       "<table border=\"1\" class=\"dataframe\">\n",
       "  <thead>\n",
       "    <tr style=\"text-align: right;\">\n",
       "      <th></th>\n",
       "      <th>user_id</th>\n",
       "    </tr>\n",
       "    <tr>\n",
       "      <th>churn_month</th>\n",
       "      <th></th>\n",
       "    </tr>\n",
       "  </thead>\n",
       "  <tbody>\n",
       "    <tr>\n",
       "      <th>8.0</th>\n",
       "      <td>2</td>\n",
       "    </tr>\n",
       "    <tr>\n",
       "      <th>9.0</th>\n",
       "      <td>3</td>\n",
       "    </tr>\n",
       "    <tr>\n",
       "      <th>10.0</th>\n",
       "      <td>9</td>\n",
       "    </tr>\n",
       "    <tr>\n",
       "      <th>11.0</th>\n",
       "      <td>8</td>\n",
       "    </tr>\n",
       "    <tr>\n",
       "      <th>12.0</th>\n",
       "      <td>16</td>\n",
       "    </tr>\n",
       "  </tbody>\n",
       "</table>\n",
       "</div>"
      ],
      "text/plain": [
       "             user_id\n",
       "churn_month         \n",
       "8.0                2\n",
       "9.0                3\n",
       "10.0               9\n",
       "11.0               8\n",
       "12.0              16"
      ]
     },
     "execution_count": 15,
     "metadata": {},
     "output_type": "execute_result"
    }
   ],
   "source": [
    "# Распределение по месяцам\n",
    "users.loc[users['churn_date'].isna() == False].groupby('churn_month').agg({'user_id':'count'})"
   ]
  },
  {
   "cell_type": "markdown",
   "id": "19af8858",
   "metadata": {},
   "source": [
    "38 клиентов отказалось от услуг компании, почти половина в дукабре. Отток клиентов незначителен и не окажет влияние на исследование."
   ]
  },
  {
   "cell_type": "markdown",
   "id": "fae0af0e",
   "metadata": {},
   "source": [
    "По условиям тарифа, продолжительнолсть каждого звонка округляется в большую сторону до цехых минут.  \n",
    "\"*Каждый звонок округляется отдельно: даже если он длился всего 1 секунду, будет засчитан как 1 минута.*\""
   ]
  },
  {
   "cell_type": "code",
   "execution_count": 16,
   "id": "2d4676a8",
   "metadata": {
    "scrolled": false
   },
   "outputs": [
    {
     "name": "stdout",
     "output_type": "stream",
     "text": [
      "<class 'pandas.core.frame.DataFrame'>\n",
      "RangeIndex: 202607 entries, 0 to 202606\n",
      "Data columns (total 5 columns):\n",
      " #   Column     Non-Null Count   Dtype         \n",
      "---  ------     --------------   -----         \n",
      " 0   id         202607 non-null  object        \n",
      " 1   call_date  202607 non-null  datetime64[ns]\n",
      " 2   duration   202607 non-null  int32         \n",
      " 3   user_id    202607 non-null  int64         \n",
      " 4   month      202607 non-null  int64         \n",
      "dtypes: datetime64[ns](1), int32(1), int64(2), object(1)\n",
      "memory usage: 7.0+ MB\n"
     ]
    },
    {
     "data": {
      "text/html": [
       "<div>\n",
       "<style scoped>\n",
       "    .dataframe tbody tr th:only-of-type {\n",
       "        vertical-align: middle;\n",
       "    }\n",
       "\n",
       "    .dataframe tbody tr th {\n",
       "        vertical-align: top;\n",
       "    }\n",
       "\n",
       "    .dataframe thead th {\n",
       "        text-align: right;\n",
       "    }\n",
       "</style>\n",
       "<table border=\"1\" class=\"dataframe\">\n",
       "  <thead>\n",
       "    <tr style=\"text-align: right;\">\n",
       "      <th></th>\n",
       "      <th>id</th>\n",
       "      <th>call_date</th>\n",
       "      <th>duration</th>\n",
       "      <th>user_id</th>\n",
       "      <th>month</th>\n",
       "    </tr>\n",
       "  </thead>\n",
       "  <tbody>\n",
       "    <tr>\n",
       "      <th>0</th>\n",
       "      <td>1000_0</td>\n",
       "      <td>2018-07-25</td>\n",
       "      <td>0</td>\n",
       "      <td>1000</td>\n",
       "      <td>7</td>\n",
       "    </tr>\n",
       "    <tr>\n",
       "      <th>1</th>\n",
       "      <td>1000_1</td>\n",
       "      <td>2018-08-17</td>\n",
       "      <td>0</td>\n",
       "      <td>1000</td>\n",
       "      <td>8</td>\n",
       "    </tr>\n",
       "    <tr>\n",
       "      <th>2</th>\n",
       "      <td>1000_2</td>\n",
       "      <td>2018-06-11</td>\n",
       "      <td>3</td>\n",
       "      <td>1000</td>\n",
       "      <td>6</td>\n",
       "    </tr>\n",
       "    <tr>\n",
       "      <th>3</th>\n",
       "      <td>1000_3</td>\n",
       "      <td>2018-09-21</td>\n",
       "      <td>14</td>\n",
       "      <td>1000</td>\n",
       "      <td>9</td>\n",
       "    </tr>\n",
       "    <tr>\n",
       "      <th>4</th>\n",
       "      <td>1000_4</td>\n",
       "      <td>2018-12-15</td>\n",
       "      <td>6</td>\n",
       "      <td>1000</td>\n",
       "      <td>12</td>\n",
       "    </tr>\n",
       "  </tbody>\n",
       "</table>\n",
       "</div>"
      ],
      "text/plain": [
       "       id  call_date  duration  user_id  month\n",
       "0  1000_0 2018-07-25         0     1000      7\n",
       "1  1000_1 2018-08-17         0     1000      8\n",
       "2  1000_2 2018-06-11         3     1000      6\n",
       "3  1000_3 2018-09-21        14     1000      9\n",
       "4  1000_4 2018-12-15         6     1000     12"
      ]
     },
     "execution_count": 16,
     "metadata": {},
     "output_type": "execute_result"
    }
   ],
   "source": [
    "calls['duration'] = np.ceil(calls['duration']).astype('int')\n",
    "calls.info()\n",
    "calls.head()"
   ]
  },
  {
   "cell_type": "markdown",
   "id": "c26893c2",
   "metadata": {},
   "source": [
    "**Выводы** Необходимые изменения типов произведены. Дубликаты проверены. Сопоставление среднего и медианных значений для числовых переменных даёт основание полагать, что значительные аномалии в данных отсутствуют. Временной интервал данных 2018 год. 38 клиентов перестали пользоваться услугами связи, что не отразится на результатах исследования."
   ]
  },
  {
   "cell_type": "markdown",
   "id": "5890421c",
   "metadata": {},
   "source": [
    "### Количество сделанных звонков и израсходованных минут разговора по месяцам"
   ]
  },
  {
   "cell_type": "markdown",
   "id": "4b31b4ff",
   "metadata": {},
   "source": [
    "Группируем по клиенту и месяцу. В качестве агрегирующих функций -  подсчет числа звонков и сумма израсходаванных минут. "
   ]
  },
  {
   "cell_type": "code",
   "execution_count": 17,
   "id": "36a3bd04",
   "metadata": {
    "scrolled": false
   },
   "outputs": [
    {
     "data": {
      "text/html": [
       "<div>\n",
       "<style scoped>\n",
       "    .dataframe tbody tr th:only-of-type {\n",
       "        vertical-align: middle;\n",
       "    }\n",
       "\n",
       "    .dataframe tbody tr th {\n",
       "        vertical-align: top;\n",
       "    }\n",
       "\n",
       "    .dataframe thead th {\n",
       "        text-align: right;\n",
       "    }\n",
       "</style>\n",
       "<table border=\"1\" class=\"dataframe\">\n",
       "  <thead>\n",
       "    <tr style=\"text-align: right;\">\n",
       "      <th></th>\n",
       "      <th>user_id</th>\n",
       "      <th>month</th>\n",
       "      <th>cal_no</th>\n",
       "      <th>cal_dur</th>\n",
       "    </tr>\n",
       "  </thead>\n",
       "  <tbody>\n",
       "    <tr>\n",
       "      <th>0</th>\n",
       "      <td>1000</td>\n",
       "      <td>5</td>\n",
       "      <td>22</td>\n",
       "      <td>159</td>\n",
       "    </tr>\n",
       "    <tr>\n",
       "      <th>1</th>\n",
       "      <td>1000</td>\n",
       "      <td>6</td>\n",
       "      <td>43</td>\n",
       "      <td>172</td>\n",
       "    </tr>\n",
       "    <tr>\n",
       "      <th>2</th>\n",
       "      <td>1000</td>\n",
       "      <td>7</td>\n",
       "      <td>47</td>\n",
       "      <td>340</td>\n",
       "    </tr>\n",
       "    <tr>\n",
       "      <th>3</th>\n",
       "      <td>1000</td>\n",
       "      <td>8</td>\n",
       "      <td>52</td>\n",
       "      <td>408</td>\n",
       "    </tr>\n",
       "    <tr>\n",
       "      <th>4</th>\n",
       "      <td>1000</td>\n",
       "      <td>9</td>\n",
       "      <td>58</td>\n",
       "      <td>466</td>\n",
       "    </tr>\n",
       "    <tr>\n",
       "      <th>...</th>\n",
       "      <td>...</td>\n",
       "      <td>...</td>\n",
       "      <td>...</td>\n",
       "      <td>...</td>\n",
       "    </tr>\n",
       "    <tr>\n",
       "      <th>3169</th>\n",
       "      <td>1498</td>\n",
       "      <td>10</td>\n",
       "      <td>41</td>\n",
       "      <td>247</td>\n",
       "    </tr>\n",
       "    <tr>\n",
       "      <th>3170</th>\n",
       "      <td>1499</td>\n",
       "      <td>9</td>\n",
       "      <td>9</td>\n",
       "      <td>70</td>\n",
       "    </tr>\n",
       "    <tr>\n",
       "      <th>3171</th>\n",
       "      <td>1499</td>\n",
       "      <td>10</td>\n",
       "      <td>68</td>\n",
       "      <td>449</td>\n",
       "    </tr>\n",
       "    <tr>\n",
       "      <th>3172</th>\n",
       "      <td>1499</td>\n",
       "      <td>11</td>\n",
       "      <td>74</td>\n",
       "      <td>612</td>\n",
       "    </tr>\n",
       "    <tr>\n",
       "      <th>3173</th>\n",
       "      <td>1499</td>\n",
       "      <td>12</td>\n",
       "      <td>69</td>\n",
       "      <td>492</td>\n",
       "    </tr>\n",
       "  </tbody>\n",
       "</table>\n",
       "<p>3174 rows × 4 columns</p>\n",
       "</div>"
      ],
      "text/plain": [
       "      user_id  month  cal_no  cal_dur\n",
       "0        1000      5      22      159\n",
       "1        1000      6      43      172\n",
       "2        1000      7      47      340\n",
       "3        1000      8      52      408\n",
       "4        1000      9      58      466\n",
       "...       ...    ...     ...      ...\n",
       "3169     1498     10      41      247\n",
       "3170     1499      9       9       70\n",
       "3171     1499     10      68      449\n",
       "3172     1499     11      74      612\n",
       "3173     1499     12      69      492\n",
       "\n",
       "[3174 rows x 4 columns]"
      ]
     },
     "execution_count": 17,
     "metadata": {},
     "output_type": "execute_result"
    }
   ],
   "source": [
    "user_cal = (\n",
    "    calls.groupby(['user_id', 'month'])\n",
    "    .agg({'id':'count', 'duration':'sum'})\n",
    "    .reset_index()\n",
    "    .rename(columns={'id': 'cal_no', 'duration': 'cal_dur'})\n",
    ")\n",
    "user_cal"
   ]
  },
  {
   "cell_type": "markdown",
   "id": "931be82b",
   "metadata": {},
   "source": [
    "Посмотрим на динамику"
   ]
  },
  {
   "cell_type": "code",
   "execution_count": 18,
   "id": "0e187b8c",
   "metadata": {},
   "outputs": [
    {
     "data": {
      "text/html": [
       "<div>\n",
       "<style scoped>\n",
       "    .dataframe tbody tr th:only-of-type {\n",
       "        vertical-align: middle;\n",
       "    }\n",
       "\n",
       "    .dataframe tbody tr th {\n",
       "        vertical-align: top;\n",
       "    }\n",
       "\n",
       "    .dataframe thead th {\n",
       "        text-align: right;\n",
       "    }\n",
       "</style>\n",
       "<table border=\"1\" class=\"dataframe\">\n",
       "  <thead>\n",
       "    <tr style=\"text-align: right;\">\n",
       "      <th></th>\n",
       "      <th>month</th>\n",
       "      <th>user_no</th>\n",
       "      <th>calls_no</th>\n",
       "      <th>duration</th>\n",
       "      <th>calls_per_user</th>\n",
       "      <th>duration_per_user</th>\n",
       "      <th>delta</th>\n",
       "    </tr>\n",
       "  </thead>\n",
       "  <tbody>\n",
       "    <tr>\n",
       "      <th>0</th>\n",
       "      <td>1</td>\n",
       "      <td>43</td>\n",
       "      <td>1476</td>\n",
       "      <td>10784</td>\n",
       "      <td>34.33</td>\n",
       "      <td>250.79</td>\n",
       "      <td>43</td>\n",
       "    </tr>\n",
       "    <tr>\n",
       "      <th>1</th>\n",
       "      <td>2</td>\n",
       "      <td>82</td>\n",
       "      <td>3328</td>\n",
       "      <td>24455</td>\n",
       "      <td>40.59</td>\n",
       "      <td>298.23</td>\n",
       "      <td>39</td>\n",
       "    </tr>\n",
       "    <tr>\n",
       "      <th>2</th>\n",
       "      <td>3</td>\n",
       "      <td>114</td>\n",
       "      <td>6687</td>\n",
       "      <td>48151</td>\n",
       "      <td>58.66</td>\n",
       "      <td>422.38</td>\n",
       "      <td>32</td>\n",
       "    </tr>\n",
       "    <tr>\n",
       "      <th>3</th>\n",
       "      <td>4</td>\n",
       "      <td>165</td>\n",
       "      <td>9272</td>\n",
       "      <td>66310</td>\n",
       "      <td>56.19</td>\n",
       "      <td>401.88</td>\n",
       "      <td>51</td>\n",
       "    </tr>\n",
       "    <tr>\n",
       "      <th>4</th>\n",
       "      <td>5</td>\n",
       "      <td>205</td>\n",
       "      <td>12647</td>\n",
       "      <td>88810</td>\n",
       "      <td>61.69</td>\n",
       "      <td>433.22</td>\n",
       "      <td>40</td>\n",
       "    </tr>\n",
       "    <tr>\n",
       "      <th>5</th>\n",
       "      <td>6</td>\n",
       "      <td>244</td>\n",
       "      <td>14716</td>\n",
       "      <td>105180</td>\n",
       "      <td>60.31</td>\n",
       "      <td>431.07</td>\n",
       "      <td>39</td>\n",
       "    </tr>\n",
       "    <tr>\n",
       "      <th>6</th>\n",
       "      <td>7</td>\n",
       "      <td>289</td>\n",
       "      <td>18298</td>\n",
       "      <td>131746</td>\n",
       "      <td>63.31</td>\n",
       "      <td>455.87</td>\n",
       "      <td>45</td>\n",
       "    </tr>\n",
       "    <tr>\n",
       "      <th>7</th>\n",
       "      <td>8</td>\n",
       "      <td>337</td>\n",
       "      <td>21488</td>\n",
       "      <td>153698</td>\n",
       "      <td>63.76</td>\n",
       "      <td>456.08</td>\n",
       "      <td>48</td>\n",
       "    </tr>\n",
       "    <tr>\n",
       "      <th>8</th>\n",
       "      <td>9</td>\n",
       "      <td>370</td>\n",
       "      <td>24061</td>\n",
       "      <td>173475</td>\n",
       "      <td>65.03</td>\n",
       "      <td>468.85</td>\n",
       "      <td>33</td>\n",
       "    </tr>\n",
       "    <tr>\n",
       "      <th>9</th>\n",
       "      <td>10</td>\n",
       "      <td>411</td>\n",
       "      <td>27146</td>\n",
       "      <td>193928</td>\n",
       "      <td>66.05</td>\n",
       "      <td>471.84</td>\n",
       "      <td>41</td>\n",
       "    </tr>\n",
       "    <tr>\n",
       "      <th>10</th>\n",
       "      <td>11</td>\n",
       "      <td>444</td>\n",
       "      <td>29501</td>\n",
       "      <td>210089</td>\n",
       "      <td>66.44</td>\n",
       "      <td>473.17</td>\n",
       "      <td>33</td>\n",
       "    </tr>\n",
       "    <tr>\n",
       "      <th>11</th>\n",
       "      <td>12</td>\n",
       "      <td>470</td>\n",
       "      <td>33987</td>\n",
       "      <td>243675</td>\n",
       "      <td>72.31</td>\n",
       "      <td>518.46</td>\n",
       "      <td>26</td>\n",
       "    </tr>\n",
       "  </tbody>\n",
       "</table>\n",
       "</div>"
      ],
      "text/plain": [
       "    month  user_no  calls_no  duration  calls_per_user  duration_per_user  \\\n",
       "0       1       43      1476     10784           34.33             250.79   \n",
       "1       2       82      3328     24455           40.59             298.23   \n",
       "2       3      114      6687     48151           58.66             422.38   \n",
       "3       4      165      9272     66310           56.19             401.88   \n",
       "4       5      205     12647     88810           61.69             433.22   \n",
       "5       6      244     14716    105180           60.31             431.07   \n",
       "6       7      289     18298    131746           63.31             455.87   \n",
       "7       8      337     21488    153698           63.76             456.08   \n",
       "8       9      370     24061    173475           65.03             468.85   \n",
       "9      10      411     27146    193928           66.05             471.84   \n",
       "10     11      444     29501    210089           66.44             473.17   \n",
       "11     12      470     33987    243675           72.31             518.46   \n",
       "\n",
       "    delta  \n",
       "0      43  \n",
       "1      39  \n",
       "2      32  \n",
       "3      51  \n",
       "4      40  \n",
       "5      39  \n",
       "6      45  \n",
       "7      48  \n",
       "8      33  \n",
       "9      41  \n",
       "10     33  \n",
       "11     26  "
      ]
     },
     "execution_count": 18,
     "metadata": {},
     "output_type": "execute_result"
    }
   ],
   "source": [
    "tm = (calls.groupby('month')\n",
    "    .agg({'user_id':'nunique', 'id':'count', 'duration':'sum'})\n",
    "    .reset_index()\n",
    "    .rename(columns={'user_id': 'user_no', 'id': 'calls_no'}))\n",
    "\n",
    "# добавим данные\n",
    "# среднее число звонков на одного активного клиента\n",
    "tm['calls_per_user']    = round(tm['calls_no'] / tm['user_no'], 2) \n",
    "# средняя продолжительность звонков на одного активного клиента\n",
    "tm['duration_per_user'] = round(tm['duration'] / tm['user_no'], 2) \n",
    "# расчитаем прирост активных клиентов относительно предыдущего месяца\n",
    "tm['delta'] = tm['user_no']\n",
    "tm['delta'] = tm.delta.shift(1, fill_value=0)\n",
    "tm['delta'] = tm['user_no'] - tm['delta']\n",
    "tm"
   ]
  },
  {
   "cell_type": "code",
   "execution_count": 19,
   "id": "e1acf178",
   "metadata": {},
   "outputs": [
    {
     "data": {
      "text/plain": [
       "count    12.0000\n",
       "mean     39.1667\n",
       "std       7.2090\n",
       "min      26.0000\n",
       "25%      33.0000\n",
       "50%      39.5000\n",
       "75%      43.5000\n",
       "max      51.0000\n",
       "Name: delta, dtype: object"
      ]
     },
     "execution_count": 19,
     "metadata": {},
     "output_type": "execute_result"
    }
   ],
   "source": [
    "# Характеристики прироста новых пользователей услуги\n",
    "tm['delta'].describe().map('{:.4f}'.format)"
   ]
  },
  {
   "cell_type": "markdown",
   "id": "25a07d8a",
   "metadata": {},
   "source": [
    "Визуализируем"
   ]
  },
  {
   "cell_type": "code",
   "execution_count": 20,
   "id": "db24c26c",
   "metadata": {
    "scrolled": false
   },
   "outputs": [
    {
     "data": {
      "image/png": "[encoded data removed]",
      "text/plain": [
       "<Figure size 720x1080 with 6 Axes>"
      ]
     },
     "metadata": {
      "needs_background": "light"
     },
     "output_type": "display_data"
    }
   ],
   "source": [
    "fig1, ax1 = plt.subplots(nrows=6, ncols=1, figsize=(10,15))\n",
    "\n",
    "ax1[0].set_title(f'Динамика пользователей голосовой связи')\n",
    "ax1[0].plot(tm['month'], tm['user_no'])\n",
    "ax1[0].set_xlabel(\"Месяц\", fontsize=10)\n",
    "ax1[0].set_ylabel(\"Число пользователей\", fontsize=10)\n",
    "\n",
    "ax1[1].set_title(f'Прирост пользователей голосовой связи')\n",
    "ax1[1].bar(tm['month'], tm['delta'])\n",
    "ax1[1].set_xlabel(\"Месяц\", fontsize=10)\n",
    "ax1[1].set_ylabel(\"Число пользователей\", fontsize=10)\n",
    "\n",
    "ax1[2].set_title(f'Динамика числа голоcовых вызовов')\n",
    "ax1[2].plot(tm['month'], tm['calls_no'])\n",
    "ax1[2].set_xlabel(\"Месяц\", fontsize=10)\n",
    "ax1[2].set_ylabel(\"Число вызовов\", fontsize=10)\n",
    "\n",
    "ax1[3].set_title(f'Cреднее число вызовов на одного клиента')\n",
    "ax1[3].plot(tm['month'], tm['calls_per_user'])\n",
    "ax1[3].set_xlabel(\"Месяц\", fontsize=10)\n",
    "ax1[3].set_ylabel(\"Число вызовов\", fontsize=10)\n",
    "\n",
    "ax1[4].set_title(f'Динамика продолжительности вызовов')\n",
    "ax1[4].plot(tm['month'], tm['duration'])\n",
    "ax1[4].set_xlabel(\"Месяц\", fontsize=10)\n",
    "ax1[4].set_ylabel(\"Продолжительность вызова\", fontsize=10)\n",
    "\n",
    "ax1[5].set_title(f'Cредняя продолжительность вызова одного клиента')\n",
    "ax1[5].plot(tm['month'], tm['duration_per_user'])\n",
    "ax1[5].set_xlabel(\"Месяц\", fontsize=10)\n",
    "ax1[5].set_ylabel(\"Продолжительность вызова\", fontsize=10)\n",
    "\n",
    "fig1.tight_layout()\n"
   ]
  },
  {
   "cell_type": "markdown",
   "id": "9115d3fa",
   "metadata": {},
   "source": [
    "**Выводы**\n",
    "- линейный рост числа пользователей услуги голосовой связи\n",
    "- месячныый присрост новых пользователей услуги 26-51 человек (39.17 среднее, 39.5 медиана)\n",
    "- почти линейный рост числа вызовов\n",
    "- при увеличении числа пользователей, наблюдается снижение активности в апреле\n",
    "- средние число вызовов и продолжительность вызовов растут"
   ]
  },
  {
   "cell_type": "markdown",
   "id": "02ce8d47",
   "metadata": {},
   "source": [
    "### Количество отправленных сообщений по месяцам"
   ]
  },
  {
   "cell_type": "markdown",
   "id": "9b50bb1d",
   "metadata": {},
   "source": [
    "Группироем по клиенту и месяцу. В качестве агрегирующей функции -  подсчет числа сообщений. "
   ]
  },
  {
   "cell_type": "code",
   "execution_count": 21,
   "id": "6e3670bb",
   "metadata": {},
   "outputs": [
    {
     "data": {
      "text/html": [
       "<div>\n",
       "<style scoped>\n",
       "    .dataframe tbody tr th:only-of-type {\n",
       "        vertical-align: middle;\n",
       "    }\n",
       "\n",
       "    .dataframe tbody tr th {\n",
       "        vertical-align: top;\n",
       "    }\n",
       "\n",
       "    .dataframe thead th {\n",
       "        text-align: right;\n",
       "    }\n",
       "</style>\n",
       "<table border=\"1\" class=\"dataframe\">\n",
       "  <thead>\n",
       "    <tr style=\"text-align: right;\">\n",
       "      <th></th>\n",
       "      <th>user_id</th>\n",
       "      <th>month</th>\n",
       "      <th>msg_no</th>\n",
       "    </tr>\n",
       "  </thead>\n",
       "  <tbody>\n",
       "    <tr>\n",
       "      <th>483</th>\n",
       "      <td>1089</td>\n",
       "      <td>7</td>\n",
       "      <td>152</td>\n",
       "    </tr>\n",
       "    <tr>\n",
       "      <th>524</th>\n",
       "      <td>1096</td>\n",
       "      <td>7</td>\n",
       "      <td>100</td>\n",
       "    </tr>\n",
       "    <tr>\n",
       "      <th>1836</th>\n",
       "      <td>1351</td>\n",
       "      <td>11</td>\n",
       "      <td>5</td>\n",
       "    </tr>\n",
       "    <tr>\n",
       "      <th>2501</th>\n",
       "      <td>1464</td>\n",
       "      <td>2</td>\n",
       "      <td>13</td>\n",
       "    </tr>\n",
       "    <tr>\n",
       "      <th>2121</th>\n",
       "      <td>1396</td>\n",
       "      <td>4</td>\n",
       "      <td>88</td>\n",
       "    </tr>\n",
       "  </tbody>\n",
       "</table>\n",
       "</div>"
      ],
      "text/plain": [
       "      user_id  month  msg_no\n",
       "483      1089      7     152\n",
       "524      1096      7     100\n",
       "1836     1351     11       5\n",
       "2501     1464      2      13\n",
       "2121     1396      4      88"
      ]
     },
     "execution_count": 21,
     "metadata": {},
     "output_type": "execute_result"
    }
   ],
   "source": [
    "user_msg = (\n",
    "    messages.groupby(['user_id', 'month'])['id'].count()\n",
    "    .reset_index()\n",
    "    .rename(columns={'id': 'msg_no'})\n",
    ")\n",
    "user_msg.sample(5)"
   ]
  },
  {
   "cell_type": "markdown",
   "id": "f775799d",
   "metadata": {},
   "source": [
    "Посмотрим на динамику"
   ]
  },
  {
   "cell_type": "code",
   "execution_count": 22,
   "id": "4a03b4b1",
   "metadata": {},
   "outputs": [
    {
     "data": {
      "text/html": [
       "<div>\n",
       "<style scoped>\n",
       "    .dataframe tbody tr th:only-of-type {\n",
       "        vertical-align: middle;\n",
       "    }\n",
       "\n",
       "    .dataframe tbody tr th {\n",
       "        vertical-align: top;\n",
       "    }\n",
       "\n",
       "    .dataframe thead th {\n",
       "        text-align: right;\n",
       "    }\n",
       "</style>\n",
       "<table border=\"1\" class=\"dataframe\">\n",
       "  <thead>\n",
       "    <tr style=\"text-align: right;\">\n",
       "      <th></th>\n",
       "      <th>month</th>\n",
       "      <th>user_no</th>\n",
       "      <th>msg_no</th>\n",
       "      <th>msg_per_user</th>\n",
       "      <th>delta</th>\n",
       "    </tr>\n",
       "  </thead>\n",
       "  <tbody>\n",
       "    <tr>\n",
       "      <th>0</th>\n",
       "      <td>1</td>\n",
       "      <td>38</td>\n",
       "      <td>924</td>\n",
       "      <td>24.32</td>\n",
       "      <td>38</td>\n",
       "    </tr>\n",
       "    <tr>\n",
       "      <th>1</th>\n",
       "      <td>2</td>\n",
       "      <td>66</td>\n",
       "      <td>1924</td>\n",
       "      <td>29.15</td>\n",
       "      <td>28</td>\n",
       "    </tr>\n",
       "    <tr>\n",
       "      <th>2</th>\n",
       "      <td>3</td>\n",
       "      <td>94</td>\n",
       "      <td>3648</td>\n",
       "      <td>38.81</td>\n",
       "      <td>28</td>\n",
       "    </tr>\n",
       "    <tr>\n",
       "      <th>3</th>\n",
       "      <td>4</td>\n",
       "      <td>135</td>\n",
       "      <td>5179</td>\n",
       "      <td>38.36</td>\n",
       "      <td>41</td>\n",
       "    </tr>\n",
       "    <tr>\n",
       "      <th>4</th>\n",
       "      <td>5</td>\n",
       "      <td>174</td>\n",
       "      <td>7298</td>\n",
       "      <td>41.94</td>\n",
       "      <td>39</td>\n",
       "    </tr>\n",
       "    <tr>\n",
       "      <th>5</th>\n",
       "      <td>6</td>\n",
       "      <td>209</td>\n",
       "      <td>8983</td>\n",
       "      <td>42.98</td>\n",
       "      <td>35</td>\n",
       "    </tr>\n",
       "    <tr>\n",
       "      <th>6</th>\n",
       "      <td>7</td>\n",
       "      <td>247</td>\n",
       "      <td>11320</td>\n",
       "      <td>45.83</td>\n",
       "      <td>38</td>\n",
       "    </tr>\n",
       "    <tr>\n",
       "      <th>7</th>\n",
       "      <td>8</td>\n",
       "      <td>292</td>\n",
       "      <td>13088</td>\n",
       "      <td>44.82</td>\n",
       "      <td>45</td>\n",
       "    </tr>\n",
       "    <tr>\n",
       "      <th>8</th>\n",
       "      <td>9</td>\n",
       "      <td>318</td>\n",
       "      <td>14759</td>\n",
       "      <td>46.41</td>\n",
       "      <td>26</td>\n",
       "    </tr>\n",
       "    <tr>\n",
       "      <th>9</th>\n",
       "      <td>10</td>\n",
       "      <td>357</td>\n",
       "      <td>17114</td>\n",
       "      <td>47.94</td>\n",
       "      <td>39</td>\n",
       "    </tr>\n",
       "    <tr>\n",
       "      <th>10</th>\n",
       "      <td>11</td>\n",
       "      <td>383</td>\n",
       "      <td>18244</td>\n",
       "      <td>47.63</td>\n",
       "      <td>26</td>\n",
       "    </tr>\n",
       "    <tr>\n",
       "      <th>11</th>\n",
       "      <td>12</td>\n",
       "      <td>404</td>\n",
       "      <td>20555</td>\n",
       "      <td>50.88</td>\n",
       "      <td>21</td>\n",
       "    </tr>\n",
       "  </tbody>\n",
       "</table>\n",
       "</div>"
      ],
      "text/plain": [
       "    month  user_no  msg_no  msg_per_user  delta\n",
       "0       1       38     924         24.32     38\n",
       "1       2       66    1924         29.15     28\n",
       "2       3       94    3648         38.81     28\n",
       "3       4      135    5179         38.36     41\n",
       "4       5      174    7298         41.94     39\n",
       "5       6      209    8983         42.98     35\n",
       "6       7      247   11320         45.83     38\n",
       "7       8      292   13088         44.82     45\n",
       "8       9      318   14759         46.41     26\n",
       "9      10      357   17114         47.94     39\n",
       "10     11      383   18244         47.63     26\n",
       "11     12      404   20555         50.88     21"
      ]
     },
     "execution_count": 22,
     "metadata": {},
     "output_type": "execute_result"
    }
   ],
   "source": [
    "tm2 = (messages.groupby('month')\n",
    "    .agg({'user_id':'nunique', 'id':'count'})\n",
    "    .reset_index()\n",
    "    .rename(columns={'user_id': 'user_no', 'id': 'msg_no'}))\n",
    "\n",
    "# добавим данные\n",
    "# среднее число сообщений на одного клиента\n",
    "tm2['msg_per_user'] = round(tm2['msg_no'] / tm2['user_no'], 2) \n",
    "# расчитаем прирост клиентов относительно предыдущего месяца\n",
    "tm2['delta'] = tm2['user_no']\n",
    "tm2['delta'] = tm2.delta.shift(1, fill_value=0)\n",
    "tm2['delta'] = tm2['user_no'] - tm2['delta']\n",
    "tm2"
   ]
  },
  {
   "cell_type": "code",
   "execution_count": 23,
   "id": "a1d73c14",
   "metadata": {},
   "outputs": [
    {
     "data": {
      "text/plain": [
       "count    12.0000\n",
       "mean     33.6667\n",
       "std       7.5116\n",
       "min      21.0000\n",
       "25%      27.5000\n",
       "50%      36.5000\n",
       "75%      39.0000\n",
       "max      45.0000\n",
       "Name: delta, dtype: object"
      ]
     },
     "execution_count": 23,
     "metadata": {},
     "output_type": "execute_result"
    }
   ],
   "source": [
    "# Характеристики прироста новых пользователей услуги\n",
    "tm2['delta'].describe().map('{:.4f}'.format)"
   ]
  },
  {
   "cell_type": "markdown",
   "id": "0a7a978b",
   "metadata": {},
   "source": [
    "Визуализируем"
   ]
  },
  {
   "cell_type": "code",
   "execution_count": 24,
   "id": "db08f2ff",
   "metadata": {
    "scrolled": false
   },
   "outputs": [
    {
     "data": {
      "image/png": "[encoded data removed]",
      "text/plain": [
       "<Figure size 720x720 with 4 Axes>"
      ]
     },
     "metadata": {
      "needs_background": "light"
     },
     "output_type": "display_data"
    }
   ],
   "source": [
    "fig2, ax2 = plt.subplots(nrows=4, ncols=1, figsize=(10,10))\n",
    "\n",
    "ax2[0].set_title(f'Динамика числа пользователей текстовых сооющений')\n",
    "ax2[0].plot(tm2['month'], tm2['user_no'])\n",
    "ax2[0].set_xlabel(\"Месяц\", fontsize=10)\n",
    "ax2[0].set_ylabel(\"Число пользователей\", fontsize=10)\n",
    "\n",
    "ax2[1].set_title(f'Прирост пользователей текстовых сооющений')\n",
    "ax2[1].bar(tm2['month'], tm2['delta'])\n",
    "ax2[1].set_xlabel(\"Месяц\", fontsize=10)\n",
    "ax2[1].set_ylabel(\"Число пользователей\", fontsize=10)\n",
    "\n",
    "ax2[2].set_title(f'Динамика числа сообщений')\n",
    "ax2[2].plot(tm2['month'], tm2['msg_no'])\n",
    "ax2[2].set_xlabel(\"Месяц\", fontsize=10)\n",
    "ax2[2].set_ylabel(\"Число сообщений\", fontsize=10)\n",
    "\n",
    "ax2[3].set_title(f'Среднее число сообщений на одного клиента')\n",
    "ax2[3].plot(tm2['month'], tm2['msg_per_user'])\n",
    "ax2[3].set_xlabel(\"Месяц\", fontsize=10)\n",
    "ax2[3].set_ylabel(\"Число сообщений\", fontsize=10)\n",
    "\n",
    "fig2.tight_layout()"
   ]
  },
  {
   "cell_type": "markdown",
   "id": "9d8d4d8c",
   "metadata": {},
   "source": [
    "**Выводы**\n",
    "- линейный рост числа пользователей услуги текстовых сообщений\n",
    "- месячныый присрост новых пользователей услуги 21-45 человек (33.67 среднее, 36,5 медиана)\n",
    "- почти линейный рост числа сообщений\n",
    "- при увеличении числа пользователей, наблюдается снижение активности в апреле\n",
    "- среднее число сообщений растет"
   ]
  },
  {
   "cell_type": "markdown",
   "id": "2e8d3361",
   "metadata": {},
   "source": [
    "### Объем израсходованного интернет-трафика по месяцам"
   ]
  },
  {
   "cell_type": "markdown",
   "id": "b5d987e9",
   "metadata": {},
   "source": [
    "Группироем по клиенту и месяцу. В качестве агрегирующей функции - сумма израсходаванного трафика.  \n",
    "После получения месячного трафика в мегабайтах, переводим его в гигабайты и округляем вверх согласно условиям тарификации.\n",
    "\"*«Мегалайн» всегда округляет мегабайты — до гигабайт. Для веб-трафика отдельные сессии не считаются. Вместо этого общая сумма за месяц округляется в бо́льшую сторону. Если абонент использует 1025 мегабайт в этом месяце, с него возьмут плату за 2 гигабайта.*\""
   ]
  },
  {
   "cell_type": "code",
   "execution_count": 25,
   "id": "18d67758",
   "metadata": {
    "scrolled": false
   },
   "outputs": [
    {
     "data": {
      "text/html": [
       "<div>\n",
       "<style scoped>\n",
       "    .dataframe tbody tr th:only-of-type {\n",
       "        vertical-align: middle;\n",
       "    }\n",
       "\n",
       "    .dataframe tbody tr th {\n",
       "        vertical-align: top;\n",
       "    }\n",
       "\n",
       "    .dataframe thead th {\n",
       "        text-align: right;\n",
       "    }\n",
       "</style>\n",
       "<table border=\"1\" class=\"dataframe\">\n",
       "  <thead>\n",
       "    <tr style=\"text-align: right;\">\n",
       "      <th></th>\n",
       "      <th>user_id</th>\n",
       "      <th>month</th>\n",
       "      <th>gb_used</th>\n",
       "    </tr>\n",
       "  </thead>\n",
       "  <tbody>\n",
       "    <tr>\n",
       "      <th>0</th>\n",
       "      <td>1000</td>\n",
       "      <td>5</td>\n",
       "      <td>3</td>\n",
       "    </tr>\n",
       "    <tr>\n",
       "      <th>1</th>\n",
       "      <td>1000</td>\n",
       "      <td>6</td>\n",
       "      <td>23</td>\n",
       "    </tr>\n",
       "    <tr>\n",
       "      <th>2</th>\n",
       "      <td>1000</td>\n",
       "      <td>7</td>\n",
       "      <td>14</td>\n",
       "    </tr>\n",
       "    <tr>\n",
       "      <th>3</th>\n",
       "      <td>1000</td>\n",
       "      <td>8</td>\n",
       "      <td>14</td>\n",
       "    </tr>\n",
       "    <tr>\n",
       "      <th>4</th>\n",
       "      <td>1000</td>\n",
       "      <td>9</td>\n",
       "      <td>15</td>\n",
       "    </tr>\n",
       "    <tr>\n",
       "      <th>...</th>\n",
       "      <td>...</td>\n",
       "      <td>...</td>\n",
       "      <td>...</td>\n",
       "    </tr>\n",
       "    <tr>\n",
       "      <th>3198</th>\n",
       "      <td>1498</td>\n",
       "      <td>10</td>\n",
       "      <td>21</td>\n",
       "    </tr>\n",
       "    <tr>\n",
       "      <th>3199</th>\n",
       "      <td>1499</td>\n",
       "      <td>9</td>\n",
       "      <td>2</td>\n",
       "    </tr>\n",
       "    <tr>\n",
       "      <th>3200</th>\n",
       "      <td>1499</td>\n",
       "      <td>10</td>\n",
       "      <td>18</td>\n",
       "    </tr>\n",
       "    <tr>\n",
       "      <th>3201</th>\n",
       "      <td>1499</td>\n",
       "      <td>11</td>\n",
       "      <td>18</td>\n",
       "    </tr>\n",
       "    <tr>\n",
       "      <th>3202</th>\n",
       "      <td>1499</td>\n",
       "      <td>12</td>\n",
       "      <td>13</td>\n",
       "    </tr>\n",
       "  </tbody>\n",
       "</table>\n",
       "<p>3203 rows × 3 columns</p>\n",
       "</div>"
      ],
      "text/plain": [
       "      user_id  month  gb_used\n",
       "0        1000      5        3\n",
       "1        1000      6       23\n",
       "2        1000      7       14\n",
       "3        1000      8       14\n",
       "4        1000      9       15\n",
       "...       ...    ...      ...\n",
       "3198     1498     10       21\n",
       "3199     1499      9        2\n",
       "3200     1499     10       18\n",
       "3201     1499     11       18\n",
       "3202     1499     12       13\n",
       "\n",
       "[3203 rows x 3 columns]"
      ]
     },
     "execution_count": 25,
     "metadata": {},
     "output_type": "execute_result"
    }
   ],
   "source": [
    "user_int = internet.groupby(['user_id', 'month'])['mb_used'].sum().reset_index()\n",
    "user_int['mb_used'] = np.ceil(user_int['mb_used']/1024).astype('int') # добавим пересчет mb>gb\n",
    "user_int = user_int.rename(columns={'mb_used': 'gb_used'})\n",
    "user_int"
   ]
  },
  {
   "cell_type": "markdown",
   "id": "6a8df28a",
   "metadata": {},
   "source": [
    "Посмотрим на динамику"
   ]
  },
  {
   "cell_type": "code",
   "execution_count": 26,
   "id": "0cd65554",
   "metadata": {},
   "outputs": [
    {
     "data": {
      "text/html": [
       "<div>\n",
       "<style scoped>\n",
       "    .dataframe tbody tr th:only-of-type {\n",
       "        vertical-align: middle;\n",
       "    }\n",
       "\n",
       "    .dataframe tbody tr th {\n",
       "        vertical-align: top;\n",
       "    }\n",
       "\n",
       "    .dataframe thead th {\n",
       "        text-align: right;\n",
       "    }\n",
       "</style>\n",
       "<table border=\"1\" class=\"dataframe\">\n",
       "  <thead>\n",
       "    <tr style=\"text-align: right;\">\n",
       "      <th></th>\n",
       "      <th>month</th>\n",
       "      <th>user_no</th>\n",
       "      <th>gb_used</th>\n",
       "      <th>gb_per_user</th>\n",
       "      <th>delta</th>\n",
       "    </tr>\n",
       "  </thead>\n",
       "  <tbody>\n",
       "    <tr>\n",
       "      <th>0</th>\n",
       "      <td>1</td>\n",
       "      <td>43</td>\n",
       "      <td>416</td>\n",
       "      <td>9.67</td>\n",
       "      <td>43</td>\n",
       "    </tr>\n",
       "    <tr>\n",
       "      <th>1</th>\n",
       "      <td>2</td>\n",
       "      <td>80</td>\n",
       "      <td>975</td>\n",
       "      <td>12.19</td>\n",
       "      <td>37</td>\n",
       "    </tr>\n",
       "    <tr>\n",
       "      <th>2</th>\n",
       "      <td>3</td>\n",
       "      <td>114</td>\n",
       "      <td>1826</td>\n",
       "      <td>16.02</td>\n",
       "      <td>34</td>\n",
       "    </tr>\n",
       "    <tr>\n",
       "      <th>3</th>\n",
       "      <td>4</td>\n",
       "      <td>167</td>\n",
       "      <td>2459</td>\n",
       "      <td>14.72</td>\n",
       "      <td>53</td>\n",
       "    </tr>\n",
       "    <tr>\n",
       "      <th>4</th>\n",
       "      <td>5</td>\n",
       "      <td>207</td>\n",
       "      <td>3541</td>\n",
       "      <td>17.11</td>\n",
       "      <td>40</td>\n",
       "    </tr>\n",
       "    <tr>\n",
       "      <th>5</th>\n",
       "      <td>6</td>\n",
       "      <td>247</td>\n",
       "      <td>4207</td>\n",
       "      <td>17.03</td>\n",
       "      <td>40</td>\n",
       "    </tr>\n",
       "    <tr>\n",
       "      <th>6</th>\n",
       "      <td>7</td>\n",
       "      <td>291</td>\n",
       "      <td>5057</td>\n",
       "      <td>17.38</td>\n",
       "      <td>44</td>\n",
       "    </tr>\n",
       "    <tr>\n",
       "      <th>7</th>\n",
       "      <td>8</td>\n",
       "      <td>340</td>\n",
       "      <td>6030</td>\n",
       "      <td>17.74</td>\n",
       "      <td>49</td>\n",
       "    </tr>\n",
       "    <tr>\n",
       "      <th>8</th>\n",
       "      <td>9</td>\n",
       "      <td>374</td>\n",
       "      <td>6475</td>\n",
       "      <td>17.31</td>\n",
       "      <td>34</td>\n",
       "    </tr>\n",
       "    <tr>\n",
       "      <th>9</th>\n",
       "      <td>10</td>\n",
       "      <td>416</td>\n",
       "      <td>7431</td>\n",
       "      <td>17.86</td>\n",
       "      <td>42</td>\n",
       "    </tr>\n",
       "    <tr>\n",
       "      <th>10</th>\n",
       "      <td>11</td>\n",
       "      <td>449</td>\n",
       "      <td>8026</td>\n",
       "      <td>17.88</td>\n",
       "      <td>33</td>\n",
       "    </tr>\n",
       "    <tr>\n",
       "      <th>11</th>\n",
       "      <td>12</td>\n",
       "      <td>475</td>\n",
       "      <td>9156</td>\n",
       "      <td>19.28</td>\n",
       "      <td>26</td>\n",
       "    </tr>\n",
       "  </tbody>\n",
       "</table>\n",
       "</div>"
      ],
      "text/plain": [
       "    month  user_no  gb_used  gb_per_user  delta\n",
       "0       1       43      416         9.67     43\n",
       "1       2       80      975        12.19     37\n",
       "2       3      114     1826        16.02     34\n",
       "3       4      167     2459        14.72     53\n",
       "4       5      207     3541        17.11     40\n",
       "5       6      247     4207        17.03     40\n",
       "6       7      291     5057        17.38     44\n",
       "7       8      340     6030        17.74     49\n",
       "8       9      374     6475        17.31     34\n",
       "9      10      416     7431        17.86     42\n",
       "10     11      449     8026        17.88     33\n",
       "11     12      475     9156        19.28     26"
      ]
     },
     "execution_count": 26,
     "metadata": {},
     "output_type": "execute_result"
    }
   ],
   "source": [
    "tm3 = (user_int.groupby('month')\n",
    "    .agg({'user_id':'nunique', 'gb_used':'sum'})\n",
    "    .reset_index()\n",
    "    .rename(columns={'user_id': 'user_no'})\n",
    "      )\n",
    "# добавим данные\n",
    "tm3['gb_per_user'] = round(tm3['gb_used'] / tm3['user_no'], 2) # среднее число сообщений на одного клиента\n",
    "# расчитаем прирост клиентов относительно предыдущего месяца\n",
    "tm3['delta'] = tm3['user_no']\n",
    "tm3['delta'] = tm3.delta.shift(1, fill_value=0)\n",
    "tm3['delta'] = tm3['user_no'] - tm3['delta']\n",
    "tm3"
   ]
  },
  {
   "cell_type": "code",
   "execution_count": 27,
   "id": "da46ce03",
   "metadata": {},
   "outputs": [
    {
     "data": {
      "text/plain": [
       "count    12.0000\n",
       "mean     39.5833\n",
       "std       7.4034\n",
       "min      26.0000\n",
       "25%      34.0000\n",
       "50%      40.0000\n",
       "75%      43.2500\n",
       "max      53.0000\n",
       "Name: delta, dtype: object"
      ]
     },
     "execution_count": 27,
     "metadata": {},
     "output_type": "execute_result"
    }
   ],
   "source": [
    "# Характеристики прироста новых пользователей услуги\n",
    "tm3['delta'].describe().map('{:.4f}'.format)"
   ]
  },
  {
   "cell_type": "markdown",
   "id": "1c10a2f9",
   "metadata": {},
   "source": [
    "Визуализируем"
   ]
  },
  {
   "cell_type": "code",
   "execution_count": 28,
   "id": "787298c7",
   "metadata": {},
   "outputs": [
    {
     "data": {
      "image/png": "[encoded data removed]",
      "text/plain": [
       "<Figure size 720x720 with 4 Axes>"
      ]
     },
     "metadata": {
      "needs_background": "light"
     },
     "output_type": "display_data"
    }
   ],
   "source": [
    "fig3, ax3 = plt.subplots(nrows=4, ncols=1, figsize=(10,10))\n",
    "\n",
    "ax3[0].set_title(f'Динамика числа пользователей мобильного интернета')\n",
    "ax3[0].plot(tm3['month'], tm3['user_no'])\n",
    "ax3[0].set_xlabel(\"Месяц\", fontsize=10)\n",
    "ax3[0].set_ylabel(\"Число пользователей\", fontsize=10)\n",
    "\n",
    "ax3[1].set_title(f'Прирост числа пользователей мобильного интернета')\n",
    "ax3[1].bar(tm3['month'], tm3['delta'])\n",
    "ax3[1].set_xlabel(\"Месяц\", fontsize=10)\n",
    "ax3[1].set_ylabel(\"Число пользователей\", fontsize=10)\n",
    "\n",
    "ax3[2].set_title(f'Динамика израсходованного трафика')\n",
    "ax3[2].plot(tm3['month'], tm3['gb_used'])\n",
    "ax3[2].set_xlabel(\"Месяц\", fontsize=10)\n",
    "ax3[2].set_ylabel(\"Объем трафика, Gb\", fontsize=10)\n",
    "\n",
    "ax3[3].set_title(f'Средний объем трафика пользователей мобильного интернета')\n",
    "ax3[3].plot(tm3['month'], tm3['gb_per_user'])\n",
    "ax3[3].set_xlabel(\"Месяц\", fontsize=10)\n",
    "ax3[3].set_ylabel(\"Объем трафика, Gb\", fontsize=10)\n",
    "\n",
    "fig3.tight_layout()"
   ]
  },
  {
   "cell_type": "markdown",
   "id": "e7bd6f18",
   "metadata": {},
   "source": [
    "**Выводы**\n",
    "- линейный рост числа пользователей услуги мобильного интернета\n",
    "- месячный присрост новых пользователей услуги 26-53 человек (39.58 среднее, 40 медиана)\n",
    "- почти линейный рост объема трафика\n",
    "- при увеличении числа пользователей, наблюдается снижение активности в апреле\n",
    "- средний объем трафика растет"
   ]
  },
  {
   "cell_type": "markdown",
   "id": "1e890406",
   "metadata": {},
   "source": [
    "### Выручка с пользователя"
   ]
  },
  {
   "cell_type": "markdown",
   "id": "f5733bc1",
   "metadata": {},
   "source": [
    "Для расчета вуручки с пользователя объединим таблицы user_cal, user_msg, user_int по столбцам user_id и month.  \n",
    "Для каждого пользователя добавим низвание тарифа."
   ]
  },
  {
   "cell_type": "code",
   "execution_count": 29,
   "id": "fb1983f1",
   "metadata": {
    "scrolled": true
   },
   "outputs": [
    {
     "data": {
      "text/html": [
       "<div>\n",
       "<style scoped>\n",
       "    .dataframe tbody tr th:only-of-type {\n",
       "        vertical-align: middle;\n",
       "    }\n",
       "\n",
       "    .dataframe tbody tr th {\n",
       "        vertical-align: top;\n",
       "    }\n",
       "\n",
       "    .dataframe thead th {\n",
       "        text-align: right;\n",
       "    }\n",
       "</style>\n",
       "<table border=\"1\" class=\"dataframe\">\n",
       "  <thead>\n",
       "    <tr style=\"text-align: right;\">\n",
       "      <th></th>\n",
       "      <th>user_id</th>\n",
       "      <th>month</th>\n",
       "      <th>cal_no</th>\n",
       "      <th>cal_dur</th>\n",
       "      <th>msg_no</th>\n",
       "      <th>gb_used</th>\n",
       "      <th>tariff</th>\n",
       "    </tr>\n",
       "  </thead>\n",
       "  <tbody>\n",
       "    <tr>\n",
       "      <th>0</th>\n",
       "      <td>1000</td>\n",
       "      <td>5</td>\n",
       "      <td>22.0</td>\n",
       "      <td>159.0</td>\n",
       "      <td>22.0</td>\n",
       "      <td>3.0</td>\n",
       "      <td>ultra</td>\n",
       "    </tr>\n",
       "    <tr>\n",
       "      <th>1</th>\n",
       "      <td>1000</td>\n",
       "      <td>6</td>\n",
       "      <td>43.0</td>\n",
       "      <td>172.0</td>\n",
       "      <td>60.0</td>\n",
       "      <td>23.0</td>\n",
       "      <td>ultra</td>\n",
       "    </tr>\n",
       "    <tr>\n",
       "      <th>2</th>\n",
       "      <td>1000</td>\n",
       "      <td>7</td>\n",
       "      <td>47.0</td>\n",
       "      <td>340.0</td>\n",
       "      <td>75.0</td>\n",
       "      <td>14.0</td>\n",
       "      <td>ultra</td>\n",
       "    </tr>\n",
       "    <tr>\n",
       "      <th>3</th>\n",
       "      <td>1000</td>\n",
       "      <td>8</td>\n",
       "      <td>52.0</td>\n",
       "      <td>408.0</td>\n",
       "      <td>81.0</td>\n",
       "      <td>14.0</td>\n",
       "      <td>ultra</td>\n",
       "    </tr>\n",
       "    <tr>\n",
       "      <th>4</th>\n",
       "      <td>1000</td>\n",
       "      <td>9</td>\n",
       "      <td>58.0</td>\n",
       "      <td>466.0</td>\n",
       "      <td>57.0</td>\n",
       "      <td>15.0</td>\n",
       "      <td>ultra</td>\n",
       "    </tr>\n",
       "  </tbody>\n",
       "</table>\n",
       "</div>"
      ],
      "text/plain": [
       "   user_id  month  cal_no  cal_dur  msg_no  gb_used tariff\n",
       "0     1000      5    22.0    159.0    22.0      3.0  ultra\n",
       "1     1000      6    43.0    172.0    60.0     23.0  ultra\n",
       "2     1000      7    47.0    340.0    75.0     14.0  ultra\n",
       "3     1000      8    52.0    408.0    81.0     14.0  ultra\n",
       "4     1000      9    58.0    466.0    57.0     15.0  ultra"
      ]
     },
     "execution_count": 29,
     "metadata": {},
     "output_type": "execute_result"
    }
   ],
   "source": [
    "user_tot = (\n",
    "    user_cal.merge(user_msg, on=['user_id', 'month'], how='outer')\n",
    "            .merge(user_int, on=['user_id', 'month'], how='outer')\n",
    "            .merge(users.loc[:, ['user_id', 'tariff']], on='user_id', how='left')\n",
    ")\n",
    "user_tot.head()"
   ]
  },
  {
   "cell_type": "markdown",
   "id": "4352e223",
   "metadata": {},
   "source": [
    "Создадим функцию расчета месячной стоимости услуг связи для каждого клиента/месяца (одна строка).  \n",
    "Каждую тарифицируемую услугу будем проверять на превышение включенного лимита."
   ]
  },
  {
   "cell_type": "code",
   "execution_count": 30,
   "id": "56f4e9ec",
   "metadata": {},
   "outputs": [],
   "source": [
    "def monthly_payment(row):\n",
    "    tariff = row['tariff']\n",
    "    tm = tariffs.query('tariff_name == @tariff').reset_index()\n",
    "    payment = tm.loc[0, 'rub_monthly_fee']\n",
    "    if row['msg_no'] > tm.loc[0, 'messages_included']: \n",
    "        payment += (row['msg_no'] - tm.loc[0, 'messages_included']) * tm.loc[0, 'rub_per_message']\n",
    "    if row['gb_used'] > tm.loc[0, 'mb_per_month_included'] / 1024:  \n",
    "        payment += (row['gb_used'] - tm.loc[0, 'mb_per_month_included'] / 1024) * tm.loc[0, 'rub_per_gb']\n",
    "    if row['cal_dur'] > tm.loc[0, 'minutes_included']: \n",
    "        payment += (row['cal_dur'] - tm.loc[0, 'minutes_included']) * tm.loc[0, 'rub_per_minute']\n",
    "    row['month_payment'] = payment  \n",
    "    return row"
   ]
  },
  {
   "cell_type": "code",
   "execution_count": 31,
   "id": "d324b7f5",
   "metadata": {
    "scrolled": true
   },
   "outputs": [
    {
     "name": "stderr",
     "output_type": "stream",
     "text": [
      "100%|██████████████████████████████████████| 3214/3214 [00:41<00:00, 77.86it/s]\n"
     ]
    },
    {
     "data": {
      "text/html": [
       "<div>\n",
       "<style scoped>\n",
       "    .dataframe tbody tr th:only-of-type {\n",
       "        vertical-align: middle;\n",
       "    }\n",
       "\n",
       "    .dataframe tbody tr th {\n",
       "        vertical-align: top;\n",
       "    }\n",
       "\n",
       "    .dataframe thead th {\n",
       "        text-align: right;\n",
       "    }\n",
       "</style>\n",
       "<table border=\"1\" class=\"dataframe\">\n",
       "  <thead>\n",
       "    <tr style=\"text-align: right;\">\n",
       "      <th></th>\n",
       "      <th>user_id</th>\n",
       "      <th>month</th>\n",
       "      <th>cal_no</th>\n",
       "      <th>cal_dur</th>\n",
       "      <th>msg_no</th>\n",
       "      <th>gb_used</th>\n",
       "      <th>tariff</th>\n",
       "      <th>month_payment</th>\n",
       "    </tr>\n",
       "  </thead>\n",
       "  <tbody>\n",
       "    <tr>\n",
       "      <th>0</th>\n",
       "      <td>1000</td>\n",
       "      <td>5</td>\n",
       "      <td>22.0</td>\n",
       "      <td>159.0</td>\n",
       "      <td>22.0</td>\n",
       "      <td>3.0</td>\n",
       "      <td>ultra</td>\n",
       "      <td>1950.0</td>\n",
       "    </tr>\n",
       "    <tr>\n",
       "      <th>1</th>\n",
       "      <td>1000</td>\n",
       "      <td>6</td>\n",
       "      <td>43.0</td>\n",
       "      <td>172.0</td>\n",
       "      <td>60.0</td>\n",
       "      <td>23.0</td>\n",
       "      <td>ultra</td>\n",
       "      <td>1950.0</td>\n",
       "    </tr>\n",
       "    <tr>\n",
       "      <th>2</th>\n",
       "      <td>1000</td>\n",
       "      <td>7</td>\n",
       "      <td>47.0</td>\n",
       "      <td>340.0</td>\n",
       "      <td>75.0</td>\n",
       "      <td>14.0</td>\n",
       "      <td>ultra</td>\n",
       "      <td>1950.0</td>\n",
       "    </tr>\n",
       "    <tr>\n",
       "      <th>3</th>\n",
       "      <td>1000</td>\n",
       "      <td>8</td>\n",
       "      <td>52.0</td>\n",
       "      <td>408.0</td>\n",
       "      <td>81.0</td>\n",
       "      <td>14.0</td>\n",
       "      <td>ultra</td>\n",
       "      <td>1950.0</td>\n",
       "    </tr>\n",
       "    <tr>\n",
       "      <th>4</th>\n",
       "      <td>1000</td>\n",
       "      <td>9</td>\n",
       "      <td>58.0</td>\n",
       "      <td>466.0</td>\n",
       "      <td>57.0</td>\n",
       "      <td>15.0</td>\n",
       "      <td>ultra</td>\n",
       "      <td>1950.0</td>\n",
       "    </tr>\n",
       "  </tbody>\n",
       "</table>\n",
       "</div>"
      ],
      "text/plain": [
       "   user_id  month  cal_no  cal_dur  msg_no  gb_used tariff  month_payment\n",
       "0     1000      5    22.0    159.0    22.0      3.0  ultra         1950.0\n",
       "1     1000      6    43.0    172.0    60.0     23.0  ultra         1950.0\n",
       "2     1000      7    47.0    340.0    75.0     14.0  ultra         1950.0\n",
       "3     1000      8    52.0    408.0    81.0     14.0  ultra         1950.0\n",
       "4     1000      9    58.0    466.0    57.0     15.0  ultra         1950.0"
      ]
     },
     "execution_count": 31,
     "metadata": {},
     "output_type": "execute_result"
    }
   ],
   "source": [
    "# Применим функцию к DF, используем tqdm для визуализации процесса\n",
    "tqdm.pandas()\n",
    "user_tot = user_tot.progress_apply(monthly_payment, axis=1)\n",
    "user_tot = user_tot.fillna(0)\n",
    "user_tot.head()"
   ]
  },
  {
   "cell_type": "code",
   "execution_count": 32,
   "id": "c34ca89f",
   "metadata": {},
   "outputs": [
    {
     "data": {
      "image/png": "[encoded data removed]",
      "text/plain": [
       "<Figure size 1080x360 with 1 Axes>"
      ]
     },
     "metadata": {
      "needs_background": "light"
     },
     "output_type": "display_data"
    }
   ],
   "source": [
    "# Выручка по тарифам и месяцам\n",
    "# user_tot.groupby('month').agg({'month_payment':'sum'}).reset_index()\n",
    "plt.figure(figsize=(15, 5))\n",
    "sns.barplot(x='month', \n",
    "            y='month_payment',\n",
    "            data = user_tot.groupby(['month', 'tariff']).agg({'month_payment':'sum'}).reset_index(),\n",
    "            hue = 'tariff')\n",
    "plt.title(f'Динамика выручки по тарифам и месяцам')\n",
    "plt.grid(axis='y')\n",
    "plt.xlabel(\"Месяц\", fontsize=14)\n",
    "plt.ylabel(\"Выручка, руб.\", fontsize=14)\n",
    "plt.show()"
   ]
  },
  {
   "cell_type": "markdown",
   "id": "4786dbc4",
   "metadata": {},
   "source": [
    "**Выводы** \n",
    "- почти линейный рост числа пользователей по услугам\n",
    "- сходная динамика прироста числа пользователей по услугам. худшая динамина по текстовым сообщениям\n",
    "- нельзя утверждать что клиенты отказываются от голосовых вызовов и текстовых сообщений в пользу мобильного интернета (мессенджеров)\n",
    "- при увеличении числа пользователей, по всем услугам наблюдается снижение активности в апреле\n",
    "- объемы всех услуг в расчете на одного пользователя растут\n",
    "- почти линейтый рост выручки по каждому из тарифов. по smart прирост больше. разрым межу тарифами увеличивается, от ~25К руб в июне, до ~230К в декабре."
   ]
  },
  {
   "cell_type": "markdown",
   "id": "404a9f78",
   "metadata": {},
   "source": [
    "## Анализ данных"
   ]
  },
  {
   "cell_type": "markdown",
   "id": "71bb838b",
   "metadata": {},
   "source": [
    "### Доли клиентов по тарифам"
   ]
  },
  {
   "cell_type": "code",
   "execution_count": 33,
   "id": "9eed5d3d",
   "metadata": {},
   "outputs": [
    {
     "data": {
      "image/png": "[encoded data removed]",
      "text/plain": [
       "<Figure size 1080x360 with 1 Axes>"
      ]
     },
     "metadata": {
      "needs_background": "light"
     },
     "output_type": "display_data"
    }
   ],
   "source": [
    "# Разделим пользователей по тарифам. Доля пользователей тарифа от общего числа.\n",
    "plt.figure(figsize=(15, 5))\n",
    "plt.bar(\n",
    "    user_tot.query('tariff ==\"smart\"').groupby('month').agg({'tariff':'count'}).reset_index()['month'],\n",
    "    user_tot.query('tariff ==\"smart\"').groupby('month').agg({'tariff':'count'}).reset_index()['tariff'],\n",
    "    label='smart'\n",
    "    )\n",
    "plt.bar(\n",
    "    user_tot.query('tariff ==\"ultra\"').groupby('month').agg({'tariff':'count'}).reset_index()['month'],\n",
    "    user_tot.query('tariff ==\"ultra\"').groupby('month').agg({'tariff':'count'}).reset_index()['tariff'],\n",
    "    bottom = user_tot.query('tariff ==\"smart\"').groupby('month').agg({'tariff':'count'}).reset_index()['tariff'],\n",
    "    label='ultra'\n",
    "    )\n",
    "plt.title(f'Доля активных пользователей тарифа от общего числа')\n",
    "plt.xlabel(\"Месяц\", fontsize=14)\n",
    "plt.ylabel(\"Число пользователей\", fontsize=14)\n",
    "plt.grid(axis='y')\n",
    "plt.legend()\n",
    "plt.show()"
   ]
  },
  {
   "cell_type": "code",
   "execution_count": 34,
   "id": "79b0f292",
   "metadata": {},
   "outputs": [
    {
     "data": {
      "text/html": [
       "<div>\n",
       "<style scoped>\n",
       "    .dataframe tbody tr th:only-of-type {\n",
       "        vertical-align: middle;\n",
       "    }\n",
       "\n",
       "    .dataframe tbody tr th {\n",
       "        vertical-align: top;\n",
       "    }\n",
       "\n",
       "    .dataframe thead th {\n",
       "        text-align: right;\n",
       "    }\n",
       "</style>\n",
       "<table border=\"1\" class=\"dataframe\">\n",
       "  <thead>\n",
       "    <tr style=\"text-align: right;\">\n",
       "      <th>tariff</th>\n",
       "      <th>month</th>\n",
       "      <th>smart</th>\n",
       "      <th>ultra</th>\n",
       "      <th>total_usr</th>\n",
       "      <th>smatr_ration</th>\n",
       "      <th>ultra_ration</th>\n",
       "    </tr>\n",
       "  </thead>\n",
       "  <tbody>\n",
       "    <tr>\n",
       "      <th>0</th>\n",
       "      <td>1</td>\n",
       "      <td>34</td>\n",
       "      <td>9</td>\n",
       "      <td>43</td>\n",
       "      <td>0.79</td>\n",
       "      <td>0.21</td>\n",
       "    </tr>\n",
       "    <tr>\n",
       "      <th>1</th>\n",
       "      <td>2</td>\n",
       "      <td>58</td>\n",
       "      <td>24</td>\n",
       "      <td>82</td>\n",
       "      <td>0.71</td>\n",
       "      <td>0.29</td>\n",
       "    </tr>\n",
       "    <tr>\n",
       "      <th>2</th>\n",
       "      <td>3</td>\n",
       "      <td>77</td>\n",
       "      <td>37</td>\n",
       "      <td>114</td>\n",
       "      <td>0.68</td>\n",
       "      <td>0.32</td>\n",
       "    </tr>\n",
       "    <tr>\n",
       "      <th>3</th>\n",
       "      <td>4</td>\n",
       "      <td>112</td>\n",
       "      <td>55</td>\n",
       "      <td>167</td>\n",
       "      <td>0.67</td>\n",
       "      <td>0.33</td>\n",
       "    </tr>\n",
       "    <tr>\n",
       "      <th>4</th>\n",
       "      <td>5</td>\n",
       "      <td>141</td>\n",
       "      <td>67</td>\n",
       "      <td>208</td>\n",
       "      <td>0.68</td>\n",
       "      <td>0.32</td>\n",
       "    </tr>\n",
       "    <tr>\n",
       "      <th>5</th>\n",
       "      <td>6</td>\n",
       "      <td>164</td>\n",
       "      <td>84</td>\n",
       "      <td>248</td>\n",
       "      <td>0.66</td>\n",
       "      <td>0.34</td>\n",
       "    </tr>\n",
       "    <tr>\n",
       "      <th>6</th>\n",
       "      <td>7</td>\n",
       "      <td>201</td>\n",
       "      <td>91</td>\n",
       "      <td>292</td>\n",
       "      <td>0.69</td>\n",
       "      <td>0.31</td>\n",
       "    </tr>\n",
       "    <tr>\n",
       "      <th>7</th>\n",
       "      <td>8</td>\n",
       "      <td>235</td>\n",
       "      <td>107</td>\n",
       "      <td>342</td>\n",
       "      <td>0.69</td>\n",
       "      <td>0.31</td>\n",
       "    </tr>\n",
       "    <tr>\n",
       "      <th>8</th>\n",
       "      <td>9</td>\n",
       "      <td>260</td>\n",
       "      <td>115</td>\n",
       "      <td>375</td>\n",
       "      <td>0.69</td>\n",
       "      <td>0.31</td>\n",
       "    </tr>\n",
       "    <tr>\n",
       "      <th>9</th>\n",
       "      <td>10</td>\n",
       "      <td>294</td>\n",
       "      <td>123</td>\n",
       "      <td>417</td>\n",
       "      <td>0.71</td>\n",
       "      <td>0.29</td>\n",
       "    </tr>\n",
       "    <tr>\n",
       "      <th>10</th>\n",
       "      <td>11</td>\n",
       "      <td>316</td>\n",
       "      <td>134</td>\n",
       "      <td>450</td>\n",
       "      <td>0.70</td>\n",
       "      <td>0.30</td>\n",
       "    </tr>\n",
       "    <tr>\n",
       "      <th>11</th>\n",
       "      <td>12</td>\n",
       "      <td>337</td>\n",
       "      <td>139</td>\n",
       "      <td>476</td>\n",
       "      <td>0.71</td>\n",
       "      <td>0.29</td>\n",
       "    </tr>\n",
       "  </tbody>\n",
       "</table>\n",
       "</div>"
      ],
      "text/plain": [
       "tariff  month  smart  ultra  total_usr  smatr_ration  ultra_ration\n",
       "0           1     34      9         43          0.79          0.21\n",
       "1           2     58     24         82          0.71          0.29\n",
       "2           3     77     37        114          0.68          0.32\n",
       "3           4    112     55        167          0.67          0.33\n",
       "4           5    141     67        208          0.68          0.32\n",
       "5           6    164     84        248          0.66          0.34\n",
       "6           7    201     91        292          0.69          0.31\n",
       "7           8    235    107        342          0.69          0.31\n",
       "8           9    260    115        375          0.69          0.31\n",
       "9          10    294    123        417          0.71          0.29\n",
       "10         11    316    134        450          0.70          0.30\n",
       "11         12    337    139        476          0.71          0.29"
      ]
     },
     "execution_count": 34,
     "metadata": {},
     "output_type": "execute_result"
    }
   ],
   "source": [
    "# абсолютное и относичельное число активных пользователей по месяцам \n",
    "tm4 = user_tot.pivot_table(index='month', columns='tariff', values='user_id', aggfunc='count').reset_index()\n",
    "tm4['total_usr'] = tm4['smart'] + tm4['ultra']\n",
    "tm4['smatr_ration'] = round(tm4['smart'] / tm4['total_usr'], 2)\n",
    "tm4['ultra_ration'] = 1 - tm4['smatr_ration']\n",
    "tm4"
   ]
  },
  {
   "cell_type": "markdown",
   "id": "6fecd409",
   "metadata": {},
   "source": [
    "Доля клиентов тарифа ultra примерно одинакова, минимальна в начале 21%, максимальна в мае - 34%, остальные месяца 29-33%"
   ]
  },
  {
   "cell_type": "markdown",
   "id": "050553c5",
   "metadata": {},
   "source": [
    "### Средние значения потребленных услуг по тарифам и месяцам"
   ]
  },
  {
   "cell_type": "code",
   "execution_count": 35,
   "id": "ea7ff299",
   "metadata": {},
   "outputs": [
    {
     "data": {
      "text/html": [
       "<div>\n",
       "<style scoped>\n",
       "    .dataframe tbody tr th:only-of-type {\n",
       "        vertical-align: middle;\n",
       "    }\n",
       "\n",
       "    .dataframe tbody tr th {\n",
       "        vertical-align: top;\n",
       "    }\n",
       "\n",
       "    .dataframe thead tr th {\n",
       "        text-align: left;\n",
       "    }\n",
       "\n",
       "    .dataframe thead tr:last-of-type th {\n",
       "        text-align: right;\n",
       "    }\n",
       "</style>\n",
       "<table border=\"1\" class=\"dataframe\">\n",
       "  <thead>\n",
       "    <tr>\n",
       "      <th></th>\n",
       "      <th></th>\n",
       "      <th>cal_dur</th>\n",
       "      <th>cal_no</th>\n",
       "      <th>gb_used</th>\n",
       "      <th>msg_no</th>\n",
       "    </tr>\n",
       "    <tr>\n",
       "      <th></th>\n",
       "      <th></th>\n",
       "      <th>mean</th>\n",
       "      <th>mean</th>\n",
       "      <th>mean</th>\n",
       "      <th>mean</th>\n",
       "    </tr>\n",
       "    <tr>\n",
       "      <th>month</th>\n",
       "      <th>tariff</th>\n",
       "      <th></th>\n",
       "      <th></th>\n",
       "      <th></th>\n",
       "      <th></th>\n",
       "    </tr>\n",
       "  </thead>\n",
       "  <tbody>\n",
       "    <tr>\n",
       "      <th rowspan=\"2\" valign=\"top\">1</th>\n",
       "      <th>smart</th>\n",
       "      <td>203.85</td>\n",
       "      <td>27.68</td>\n",
       "      <td>8.74</td>\n",
       "      <td>18.24</td>\n",
       "    </tr>\n",
       "    <tr>\n",
       "      <th>ultra</th>\n",
       "      <td>428.11</td>\n",
       "      <td>59.44</td>\n",
       "      <td>13.22</td>\n",
       "      <td>33.78</td>\n",
       "    </tr>\n",
       "    <tr>\n",
       "      <th rowspan=\"2\" valign=\"top\">2</th>\n",
       "      <th>smart</th>\n",
       "      <td>298.69</td>\n",
       "      <td>40.19</td>\n",
       "      <td>11.84</td>\n",
       "      <td>24.09</td>\n",
       "    </tr>\n",
       "    <tr>\n",
       "      <th>ultra</th>\n",
       "      <td>297.12</td>\n",
       "      <td>41.54</td>\n",
       "      <td>12.00</td>\n",
       "      <td>21.96</td>\n",
       "    </tr>\n",
       "    <tr>\n",
       "      <th rowspan=\"2\" valign=\"top\">3</th>\n",
       "      <th>smart</th>\n",
       "      <td>390.05</td>\n",
       "      <td>54.32</td>\n",
       "      <td>15.23</td>\n",
       "      <td>31.86</td>\n",
       "    </tr>\n",
       "    <tr>\n",
       "      <th>ultra</th>\n",
       "      <td>489.65</td>\n",
       "      <td>67.68</td>\n",
       "      <td>17.65</td>\n",
       "      <td>32.30</td>\n",
       "    </tr>\n",
       "    <tr>\n",
       "      <th rowspan=\"2\" valign=\"top\">4</th>\n",
       "      <th>smart</th>\n",
       "      <td>367.13</td>\n",
       "      <td>51.31</td>\n",
       "      <td>13.62</td>\n",
       "      <td>30.74</td>\n",
       "    </tr>\n",
       "    <tr>\n",
       "      <th>ultra</th>\n",
       "      <td>458.02</td>\n",
       "      <td>64.09</td>\n",
       "      <td>16.96</td>\n",
       "      <td>31.56</td>\n",
       "    </tr>\n",
       "    <tr>\n",
       "      <th rowspan=\"2\" valign=\"top\">5</th>\n",
       "      <th>smart</th>\n",
       "      <td>387.36</td>\n",
       "      <td>55.24</td>\n",
       "      <td>15.91</td>\n",
       "      <td>33.77</td>\n",
       "    </tr>\n",
       "    <tr>\n",
       "      <th>ultra</th>\n",
       "      <td>510.33</td>\n",
       "      <td>72.51</td>\n",
       "      <td>19.37</td>\n",
       "      <td>37.85</td>\n",
       "    </tr>\n",
       "    <tr>\n",
       "      <th rowspan=\"2\" valign=\"top\">6</th>\n",
       "      <th>smart</th>\n",
       "      <td>395.64</td>\n",
       "      <td>55.55</td>\n",
       "      <td>15.95</td>\n",
       "      <td>33.40</td>\n",
       "    </tr>\n",
       "    <tr>\n",
       "      <th>ultra</th>\n",
       "      <td>479.70</td>\n",
       "      <td>66.74</td>\n",
       "      <td>18.94</td>\n",
       "      <td>41.73</td>\n",
       "    </tr>\n",
       "    <tr>\n",
       "      <th rowspan=\"2\" valign=\"top\">7</th>\n",
       "      <th>smart</th>\n",
       "      <td>408.35</td>\n",
       "      <td>56.73</td>\n",
       "      <td>15.88</td>\n",
       "      <td>33.75</td>\n",
       "    </tr>\n",
       "    <tr>\n",
       "      <th>ultra</th>\n",
       "      <td>545.79</td>\n",
       "      <td>75.78</td>\n",
       "      <td>20.51</td>\n",
       "      <td>49.85</td>\n",
       "    </tr>\n",
       "    <tr>\n",
       "      <th rowspan=\"2\" valign=\"top\">8</th>\n",
       "      <th>smart</th>\n",
       "      <td>421.47</td>\n",
       "      <td>58.98</td>\n",
       "      <td>16.74</td>\n",
       "      <td>33.64</td>\n",
       "    </tr>\n",
       "    <tr>\n",
       "      <th>ultra</th>\n",
       "      <td>510.78</td>\n",
       "      <td>71.29</td>\n",
       "      <td>19.60</td>\n",
       "      <td>48.44</td>\n",
       "    </tr>\n",
       "    <tr>\n",
       "      <th rowspan=\"2\" valign=\"top\">9</th>\n",
       "      <th>smart</th>\n",
       "      <td>428.61</td>\n",
       "      <td>59.55</td>\n",
       "      <td>16.39</td>\n",
       "      <td>33.64</td>\n",
       "    </tr>\n",
       "    <tr>\n",
       "      <th>ultra</th>\n",
       "      <td>539.44</td>\n",
       "      <td>74.60</td>\n",
       "      <td>19.24</td>\n",
       "      <td>52.29</td>\n",
       "    </tr>\n",
       "    <tr>\n",
       "      <th rowspan=\"2\" valign=\"top\">10</th>\n",
       "      <th>smart</th>\n",
       "      <td>426.14</td>\n",
       "      <td>59.96</td>\n",
       "      <td>16.88</td>\n",
       "      <td>33.77</td>\n",
       "    </tr>\n",
       "    <tr>\n",
       "      <th>ultra</th>\n",
       "      <td>558.08</td>\n",
       "      <td>77.37</td>\n",
       "      <td>20.07</td>\n",
       "      <td>58.43</td>\n",
       "    </tr>\n",
       "    <tr>\n",
       "      <th rowspan=\"2\" valign=\"top\">11</th>\n",
       "      <th>smart</th>\n",
       "      <td>435.27</td>\n",
       "      <td>61.50</td>\n",
       "      <td>17.00</td>\n",
       "      <td>34.08</td>\n",
       "    </tr>\n",
       "    <tr>\n",
       "      <th>ultra</th>\n",
       "      <td>541.38</td>\n",
       "      <td>75.12</td>\n",
       "      <td>19.81</td>\n",
       "      <td>55.79</td>\n",
       "    </tr>\n",
       "    <tr>\n",
       "      <th rowspan=\"2\" valign=\"top\">12</th>\n",
       "      <th>smart</th>\n",
       "      <td>478.56</td>\n",
       "      <td>66.49</td>\n",
       "      <td>18.20</td>\n",
       "      <td>35.99</td>\n",
       "    </tr>\n",
       "    <tr>\n",
       "      <th>ultra</th>\n",
       "      <td>592.81</td>\n",
       "      <td>83.32</td>\n",
       "      <td>21.74</td>\n",
       "      <td>60.61</td>\n",
       "    </tr>\n",
       "  </tbody>\n",
       "</table>\n",
       "</div>"
      ],
      "text/plain": [
       "             cal_dur cal_no gb_used msg_no\n",
       "                mean   mean    mean   mean\n",
       "month tariff                              \n",
       "1     smart   203.85  27.68    8.74  18.24\n",
       "      ultra   428.11  59.44   13.22  33.78\n",
       "2     smart   298.69  40.19   11.84  24.09\n",
       "      ultra   297.12  41.54   12.00  21.96\n",
       "3     smart   390.05  54.32   15.23  31.86\n",
       "      ultra   489.65  67.68   17.65  32.30\n",
       "4     smart   367.13  51.31   13.62  30.74\n",
       "      ultra   458.02  64.09   16.96  31.56\n",
       "5     smart   387.36  55.24   15.91  33.77\n",
       "      ultra   510.33  72.51   19.37  37.85\n",
       "6     smart   395.64  55.55   15.95  33.40\n",
       "      ultra   479.70  66.74   18.94  41.73\n",
       "7     smart   408.35  56.73   15.88  33.75\n",
       "      ultra   545.79  75.78   20.51  49.85\n",
       "8     smart   421.47  58.98   16.74  33.64\n",
       "      ultra   510.78  71.29   19.60  48.44\n",
       "9     smart   428.61  59.55   16.39  33.64\n",
       "      ultra   539.44  74.60   19.24  52.29\n",
       "10    smart   426.14  59.96   16.88  33.77\n",
       "      ultra   558.08  77.37   20.07  58.43\n",
       "11    smart   435.27  61.50   17.00  34.08\n",
       "      ultra   541.38  75.12   19.81  55.79\n",
       "12    smart   478.56  66.49   18.20  35.99\n",
       "      ultra   592.81  83.32   21.74  60.61"
      ]
     },
     "execution_count": 35,
     "metadata": {},
     "output_type": "execute_result"
    }
   ],
   "source": [
    "# Посмотрим на средние\n",
    "# Среднее число вызовов, продолжительности, числа сообщенийй и трафика по тарифам в месяц\n",
    "(user_tot.pivot_table(\n",
    "    index=['month', 'tariff'], \n",
    "    values=['cal_no', 'cal_dur', 'msg_no', 'gb_used'], \n",
    "    aggfunc={'mean'})\n",
    "    .applymap('{:.2f}'.format)\n",
    ")"
   ]
  },
  {
   "cell_type": "markdown",
   "id": "1b5f59b4",
   "metadata": {},
   "source": [
    "Визуализируем"
   ]
  },
  {
   "cell_type": "code",
   "execution_count": 36,
   "id": "09ed445d",
   "metadata": {
    "scrolled": false
   },
   "outputs": [
    {
     "data": {
      "image/png": "[encoded data removed]",
      "text/plain": [
       "<Figure size 864x1440 with 4 Axes>"
      ]
     },
     "metadata": {
      "needs_background": "light"
     },
     "output_type": "display_data"
    }
   ],
   "source": [
    "tm5 = (user_tot.pivot_table(\n",
    "    index=['month', 'tariff'], \n",
    "    values=['cal_no', 'cal_dur', 'msg_no', 'gb_used'], \n",
    "    aggfunc={'mean'})\n",
    "    .reset_index().droplevel(level=1, axis=1))\n",
    "\n",
    "fig4 = plt.figure(figsize=(12,20))\n",
    "ax1 = fig4.add_subplot(4,1,1)\n",
    "ax2 = fig4.add_subplot(4,1,2)\n",
    "ax3 = fig4.add_subplot(4,1,3)\n",
    "ax4 = fig4.add_subplot(4,1,4)\n",
    "\n",
    "sns.barplot(x=\"month\", y=\"cal_no\", data=tm5, hue='tariff', ax = ax1)\n",
    "ax1.set_title('Седнее число голосовых вызовов')\n",
    "ax1.set_xlabel(\"Месяц\", fontsize=14)\n",
    "ax1.set_ylabel(\"Число вызовов\", fontsize=14)\n",
    "\n",
    "sns.barplot(x=\"month\", y=\"cal_dur\", data=tm5, hue='tariff', ax = ax2)\n",
    "sns.lineplot(x=[x for x in range(12)], y=500, ax = ax2) # покажем порог оплаты для smart\n",
    "ax2.set_title('Средняя продолжительность голосовых вызовов')\n",
    "ax2.set_xlabel(\"Месяц\", fontsize=14)\n",
    "ax2.set_ylabel(\"Продолжительность вызовов\", fontsize=14)\n",
    "\n",
    "\n",
    "sns.barplot(x=\"month\", y=\"msg_no\", data=tm5, hue='tariff', ax = ax3)\n",
    "ax3.set_title('Среднее число текстовых сообщение')\n",
    "ax3.set_xlabel(\"Месяц\", fontsize=14)\n",
    "ax3.set_ylabel(\"Число сообщений\", fontsize=14)\n",
    "\n",
    "\n",
    "sns.barplot(x=\"month\", y=\"gb_used\", data=tm5, hue='tariff', ax = ax4)\n",
    "sns.lineplot(x=[x for x in range(12)], y=15, ax = ax4) # покажем порог оплаты для smart\n",
    "ax4.set_title('Средний объем интернет трафика')\n",
    "ax4.set_xlabel(\"Месяц\", fontsize=14)\n",
    "ax4.set_ylabel(\"Объем трафика, Gb\", fontsize=14)\n",
    "\n",
    "fig4.tight_layout()"
   ]
  },
  {
   "cell_type": "markdown",
   "id": "8c81060c",
   "metadata": {},
   "source": [
    "Среднее число голосовых вызовов не является показательным. На их онвании трудно делать какие-то выводы. Ожидаемо, число вызовов у клиентов тарифа ultra выше.  \n",
    "Показательно, что средняя продолжительность вызовов в декабре, для клиентов smart, чуть ниже лимита тарифа. Это говорит о том, что значительное число клиентов тарифа превышает лимит.  \n",
    "Среднее число текстовых сообщение по обоим тарифам так же ниже лимита. Для клиентов smart, начиная с мая оно примерно одинаково, в районе 40 (при лимите 50). Это даёт основание полагать, что существует группа клиентов превыщающая лимит.  \n",
    "По дианрамме со средним объемам трафика можно с уверенность говорить, что, как минимум в 9 месяцах, клиенты smart превышают лимит.  \n",
    "Для подтверждения предположений выше, посмотрим на распределение значений по тарифам и месяцам"
   ]
  },
  {
   "cell_type": "code",
   "execution_count": 37,
   "id": "250bfe06",
   "metadata": {
    "scrolled": false
   },
   "outputs": [
    {
     "data": {
      "image/png": "[encoded data removed]",
      "text/plain": [
       "<Figure size 864x1800 with 4 Axes>"
      ]
     },
     "metadata": {
      "needs_background": "light"
     },
     "output_type": "display_data"
    }
   ],
   "source": [
    "fig4 = plt.figure(figsize=(12,25))\n",
    "ax1 = fig4.add_subplot(4,1,1)\n",
    "ax2 = fig4.add_subplot(4,1,2)\n",
    "ax3 = fig4.add_subplot(4,1,3)\n",
    "ax4 = fig4.add_subplot(4,1,4)\n",
    "\n",
    "\n",
    "sns.boxplot(x='month', y='cal_no', data=user_tot, hue='tariff', ax = ax1)\n",
    "ax1.set_title('Распределение числа голосовых вызовов по тарифам и месяцам')\n",
    "ax1.set_xlabel(\"Месяц\", fontsize=14)\n",
    "ax1.set_ylabel(\"Число вызовов\", fontsize=14)\n",
    "\n",
    "\n",
    "sns.boxplot(x='month', y='cal_dur', data=user_tot, hue='tariff', ax = ax2)\n",
    "# добавим число включенных в пакет минут\n",
    "# для тарифа smart - 500, для ultra - 3000\n",
    "# предварительный анализ показал, что маклимальное число сообщений не превышает 1750\n",
    "# поэтому, добавим на график только число для smart\n",
    "sns.lineplot(x=[x for x in range(12)], y=500, ax = ax2, color='red')\n",
    "ax2.set_title('Распределение продолжительности голосовых вызовов по тарифам и месяцам')\n",
    "ax2.set_xlabel(\"Месяц\", fontsize=14)\n",
    "ax2.set_ylabel(\"Продолжительность вызовов\", fontsize=14)\n",
    "\n",
    "sns.boxplot(x='month', y='msg_no', data=user_tot, hue='tariff', ax = ax3)\n",
    "# добавим число включенных в пакет сообщений\n",
    "# для тарифа smart - 50, для ultra - 1000\n",
    "# предварительный анализ показал, что маклимальное число сообщений не превышает 300\n",
    "# поэтому, добавим на график только число для smart\n",
    "sns.lineplot(x=[x for x in range(12)], y=50, ax = ax3, color='red')\n",
    "ax3.set_title('Распределение числа текстовых сообщений по тарифам и месяцам')\n",
    "ax3.set_xlabel(\"Месяц\", fontsize=14)\n",
    "ax3.set_ylabel(\"Число сообщений\", fontsize=14)\n",
    "\n",
    "sns.boxplot(x='month', y='gb_used', data=user_tot, hue='tariff', ax = ax4)\n",
    "sns.lineplot(x=[x for x in range(12)], y=30, ax = ax4)\n",
    "sns.lineplot(x=[x for x in range(12)], y=15, ax = ax4)\n",
    "ax4.set_title('Средний объем интернет трафика')\n",
    "ax4.set_xlabel(\"Месяц\", fontsize=14)\n",
    "ax4.set_ylabel(\"Объем трафика, Gb\", fontsize=14)\n",
    "\n",
    "fig4.tight_layout()"
   ]
  },
  {
   "cell_type": "markdown",
   "id": "26bbe8e1",
   "metadata": {},
   "source": [
    "Предположения высказанные выше подтвердились. Хуже всего обстоят дела, т.е. значительное превышение лимита на тарифе smart, по услуге \"мобильный интернет\". Наихудший показаль по декабрю. Тут только порядка 25% клиентов уложились в лимит. В 9 из 12 месяцев, более 50% клиентов превышают лимит.  \n",
    "Так же по этой услуге есть превышение лимина на тарифе ultra, но оно не так значительно. Как миниму, 75% клиентов всегда укладывались в лимит. Значения по тарифу ultra имеют более широкий размах.\n",
    "\n",
    "Таким образом, превышения лимита имеет место:  \n",
    "- по тарифу ultra только по услуге \"мобильный интернет\"\n",
    "- по тарифу smart - по всем услугам"
   ]
  },
  {
   "cell_type": "markdown",
   "id": "603cbe5a",
   "metadata": {},
   "source": [
    "### Затраты клиентов по тарифам и месяцам"
   ]
  },
  {
   "cell_type": "markdown",
   "id": "e177b6c4",
   "metadata": {},
   "source": [
    "Посмотрим на респределение затрат клиентов"
   ]
  },
  {
   "cell_type": "code",
   "execution_count": 38,
   "id": "aded5008",
   "metadata": {},
   "outputs": [
    {
     "data": {
      "image/png": "[encoded data removed]",
      "text/plain": [
       "<Figure size 1080x720 with 1 Axes>"
      ]
     },
     "metadata": {
      "needs_background": "light"
     },
     "output_type": "display_data"
    }
   ],
   "source": [
    "plt.figure(figsize=(15, 10))\n",
    "sns.boxplot(x='month', y='month_payment', data=user_tot, hue='tariff')\n",
    "# зададим диапазон по оси у, принимая во внимание стоимоть тарифов 550 и 1950\n",
    "plt.ylim(500, 4500)\n",
    "plt.title('month_payment')\n",
    "plt.xlabel(\"Месяц\", fontsize=14)\n",
    "plt.ylabel(\"Месячный платеж, руб.\", fontsize=14)\n",
    "plt.show()"
   ]
  },
  {
   "cell_type": "markdown",
   "id": "61b5f02b",
   "metadata": {},
   "source": [
    "* Тариф \"ultra\" - в основном клиентам хватает включенных в тариф услуг.  \n",
    "* Тариф \"smart\" - уже со второго месяца около 50% клиентов превышают объем включенных услуг. Дальше показатель только растёт и к концну года: менее 25% укладываются в стоимость тарифа (550руб); более 50% клиентов платят больше 1000руб."
   ]
  },
  {
   "cell_type": "code",
   "execution_count": 39,
   "id": "9b9da315",
   "metadata": {
    "scrolled": false
   },
   "outputs": [
    {
     "name": "stdout",
     "output_type": "stream",
     "text": [
      "\n",
      "Самые прибыльные клиенты тарифа SMART\n"
     ]
    },
    {
     "data": {
      "text/html": [
       "<div>\n",
       "<style scoped>\n",
       "    .dataframe tbody tr th:only-of-type {\n",
       "        vertical-align: middle;\n",
       "    }\n",
       "\n",
       "    .dataframe tbody tr th {\n",
       "        vertical-align: top;\n",
       "    }\n",
       "\n",
       "    .dataframe thead th {\n",
       "        text-align: right;\n",
       "    }\n",
       "</style>\n",
       "<table border=\"1\" class=\"dataframe\">\n",
       "  <thead>\n",
       "    <tr style=\"text-align: right;\">\n",
       "      <th></th>\n",
       "      <th>user_id</th>\n",
       "      <th>month</th>\n",
       "      <th>cal_no</th>\n",
       "      <th>cal_dur</th>\n",
       "      <th>msg_no</th>\n",
       "      <th>gb_used</th>\n",
       "      <th>tariff</th>\n",
       "      <th>month_payment</th>\n",
       "    </tr>\n",
       "  </thead>\n",
       "  <tbody>\n",
       "    <tr>\n",
       "      <th>3106</th>\n",
       "      <td>1486</td>\n",
       "      <td>12</td>\n",
       "      <td>133.0</td>\n",
       "      <td>1007.0</td>\n",
       "      <td>83.0</td>\n",
       "      <td>38.0</td>\n",
       "      <td>smart</td>\n",
       "      <td>6770.0</td>\n",
       "    </tr>\n",
       "    <tr>\n",
       "      <th>260</th>\n",
       "      <td>1042</td>\n",
       "      <td>12</td>\n",
       "      <td>121.0</td>\n",
       "      <td>728.0</td>\n",
       "      <td>75.0</td>\n",
       "      <td>37.0</td>\n",
       "      <td>smart</td>\n",
       "      <td>5709.0</td>\n",
       "    </tr>\n",
       "    <tr>\n",
       "      <th>3105</th>\n",
       "      <td>1486</td>\n",
       "      <td>11</td>\n",
       "      <td>108.0</td>\n",
       "      <td>764.0</td>\n",
       "      <td>96.0</td>\n",
       "      <td>36.0</td>\n",
       "      <td>smart</td>\n",
       "      <td>5680.0</td>\n",
       "    </tr>\n",
       "    <tr>\n",
       "      <th>1622</th>\n",
       "      <td>1261</td>\n",
       "      <td>12</td>\n",
       "      <td>141.0</td>\n",
       "      <td>1074.0</td>\n",
       "      <td>22.0</td>\n",
       "      <td>32.0</td>\n",
       "      <td>smart</td>\n",
       "      <td>5672.0</td>\n",
       "    </tr>\n",
       "    <tr>\n",
       "      <th>1793</th>\n",
       "      <td>1286</td>\n",
       "      <td>12</td>\n",
       "      <td>95.0</td>\n",
       "      <td>739.0</td>\n",
       "      <td>68.0</td>\n",
       "      <td>35.0</td>\n",
       "      <td>smart</td>\n",
       "      <td>5321.0</td>\n",
       "    </tr>\n",
       "  </tbody>\n",
       "</table>\n",
       "</div>"
      ],
      "text/plain": [
       "      user_id  month  cal_no  cal_dur  msg_no  gb_used tariff  month_payment\n",
       "3106     1486     12   133.0   1007.0    83.0     38.0  smart         6770.0\n",
       "260      1042     12   121.0    728.0    75.0     37.0  smart         5709.0\n",
       "3105     1486     11   108.0    764.0    96.0     36.0  smart         5680.0\n",
       "1622     1261     12   141.0   1074.0    22.0     32.0  smart         5672.0\n",
       "1793     1286     12    95.0    739.0    68.0     35.0  smart         5321.0"
      ]
     },
     "metadata": {},
     "output_type": "display_data"
    },
    {
     "name": "stdout",
     "output_type": "stream",
     "text": [
      "\n",
      "Самые прибыльные клиенты тарифа ULTRA\n"
     ]
    },
    {
     "data": {
      "text/html": [
       "<div>\n",
       "<style scoped>\n",
       "    .dataframe tbody tr th:only-of-type {\n",
       "        vertical-align: middle;\n",
       "    }\n",
       "\n",
       "    .dataframe tbody tr th {\n",
       "        vertical-align: top;\n",
       "    }\n",
       "\n",
       "    .dataframe thead th {\n",
       "        text-align: right;\n",
       "    }\n",
       "</style>\n",
       "<table border=\"1\" class=\"dataframe\">\n",
       "  <thead>\n",
       "    <tr style=\"text-align: right;\">\n",
       "      <th></th>\n",
       "      <th>user_id</th>\n",
       "      <th>month</th>\n",
       "      <th>cal_no</th>\n",
       "      <th>cal_dur</th>\n",
       "      <th>msg_no</th>\n",
       "      <th>gb_used</th>\n",
       "      <th>tariff</th>\n",
       "      <th>month_payment</th>\n",
       "    </tr>\n",
       "  </thead>\n",
       "  <tbody>\n",
       "    <tr>\n",
       "      <th>782</th>\n",
       "      <td>1124</td>\n",
       "      <td>10</td>\n",
       "      <td>152.0</td>\n",
       "      <td>1225.0</td>\n",
       "      <td>121.0</td>\n",
       "      <td>49.0</td>\n",
       "      <td>ultra</td>\n",
       "      <td>4800.0</td>\n",
       "    </tr>\n",
       "    <tr>\n",
       "      <th>1499</th>\n",
       "      <td>1240</td>\n",
       "      <td>8</td>\n",
       "      <td>54.0</td>\n",
       "      <td>457.0</td>\n",
       "      <td>0.0</td>\n",
       "      <td>48.0</td>\n",
       "      <td>ultra</td>\n",
       "      <td>4650.0</td>\n",
       "    </tr>\n",
       "    <tr>\n",
       "      <th>1597</th>\n",
       "      <td>1255</td>\n",
       "      <td>7</td>\n",
       "      <td>37.0</td>\n",
       "      <td>263.0</td>\n",
       "      <td>0.0</td>\n",
       "      <td>45.0</td>\n",
       "      <td>ultra</td>\n",
       "      <td>4200.0</td>\n",
       "    </tr>\n",
       "    <tr>\n",
       "      <th>1884</th>\n",
       "      <td>1300</td>\n",
       "      <td>11</td>\n",
       "      <td>88.0</td>\n",
       "      <td>658.0</td>\n",
       "      <td>170.0</td>\n",
       "      <td>44.0</td>\n",
       "      <td>ultra</td>\n",
       "      <td>4050.0</td>\n",
       "    </tr>\n",
       "    <tr>\n",
       "      <th>2393</th>\n",
       "      <td>1380</td>\n",
       "      <td>12</td>\n",
       "      <td>104.0</td>\n",
       "      <td>735.0</td>\n",
       "      <td>30.0</td>\n",
       "      <td>43.0</td>\n",
       "      <td>ultra</td>\n",
       "      <td>3900.0</td>\n",
       "    </tr>\n",
       "  </tbody>\n",
       "</table>\n",
       "</div>"
      ],
      "text/plain": [
       "      user_id  month  cal_no  cal_dur  msg_no  gb_used tariff  month_payment\n",
       "782      1124     10   152.0   1225.0   121.0     49.0  ultra         4800.0\n",
       "1499     1240      8    54.0    457.0     0.0     48.0  ultra         4650.0\n",
       "1597     1255      7    37.0    263.0     0.0     45.0  ultra         4200.0\n",
       "1884     1300     11    88.0    658.0   170.0     44.0  ultra         4050.0\n",
       "2393     1380     12   104.0    735.0    30.0     43.0  ultra         3900.0"
      ]
     },
     "metadata": {},
     "output_type": "display_data"
    }
   ],
   "source": [
    "# Для справки посмотрим на Топ-5 самых прибыльных клиентов для каждого из тарифов\n",
    "print(\"\")\n",
    "print(\"Самые прибыльные клиенты тарифа SMART\")\n",
    "display(user_tot.query('tariff == \"smart\"').sort_values(by='month_payment', ascending = False).head())\n",
    "print(\"\")\n",
    "print(\"Самые прибыльные клиенты тарифа ULTRA\")\n",
    "display(user_tot.query('tariff == \"ultra\"').sort_values(by='month_payment', ascending = False).head())"
   ]
  },
  {
   "cell_type": "markdown",
   "id": "31ba4633",
   "metadata": {},
   "source": [
    "Похоже, что клиент 1486 дважды попавший в Топ-3, явно ошибся с выбором тарифа."
   ]
  },
  {
   "cell_type": "markdown",
   "id": "1fd9939a",
   "metadata": {},
   "source": [
    "### Средняя и общая выручки по тарифам"
   ]
  },
  {
   "cell_type": "code",
   "execution_count": 40,
   "id": "959aa50a",
   "metadata": {},
   "outputs": [
    {
     "name": "stdout",
     "output_type": "stream",
     "text": [
      "Средние значения\n"
     ]
    },
    {
     "data": {
      "text/html": [
       "<div>\n",
       "<style scoped>\n",
       "    .dataframe tbody tr th:only-of-type {\n",
       "        vertical-align: middle;\n",
       "    }\n",
       "\n",
       "    .dataframe tbody tr th {\n",
       "        vertical-align: top;\n",
       "    }\n",
       "\n",
       "    .dataframe thead th {\n",
       "        text-align: right;\n",
       "    }\n",
       "</style>\n",
       "<table border=\"1\" class=\"dataframe\">\n",
       "  <thead>\n",
       "    <tr style=\"text-align: right;\">\n",
       "      <th></th>\n",
       "      <th>cal_no</th>\n",
       "      <th>cal_dur</th>\n",
       "      <th>msg_no</th>\n",
       "      <th>gb_used</th>\n",
       "      <th>month_payment</th>\n",
       "    </tr>\n",
       "    <tr>\n",
       "      <th>tariff</th>\n",
       "      <th></th>\n",
       "      <th></th>\n",
       "      <th></th>\n",
       "      <th></th>\n",
       "      <th></th>\n",
       "    </tr>\n",
       "  </thead>\n",
       "  <tbody>\n",
       "    <tr>\n",
       "      <th>smart</th>\n",
       "      <td>58.46</td>\n",
       "      <td>417.93</td>\n",
       "      <td>33.38</td>\n",
       "      <td>16.33</td>\n",
       "      <td>1289.97</td>\n",
       "    </tr>\n",
       "    <tr>\n",
       "      <th>ultra</th>\n",
       "      <td>73.39</td>\n",
       "      <td>526.62</td>\n",
       "      <td>49.36</td>\n",
       "      <td>19.49</td>\n",
       "      <td>2070.15</td>\n",
       "    </tr>\n",
       "  </tbody>\n",
       "</table>\n",
       "</div>"
      ],
      "text/plain": [
       "       cal_no cal_dur msg_no gb_used month_payment\n",
       "tariff                                            \n",
       "smart   58.46  417.93  33.38   16.33       1289.97\n",
       "ultra   73.39  526.62  49.36   19.49       2070.15"
      ]
     },
     "metadata": {},
     "output_type": "display_data"
    },
    {
     "name": "stdout",
     "output_type": "stream",
     "text": [
      "\n",
      "Выручка по тарифам за год\n"
     ]
    },
    {
     "data": {
      "text/html": [
       "<div>\n",
       "<style scoped>\n",
       "    .dataframe tbody tr th:only-of-type {\n",
       "        vertical-align: middle;\n",
       "    }\n",
       "\n",
       "    .dataframe tbody tr th {\n",
       "        vertical-align: top;\n",
       "    }\n",
       "\n",
       "    .dataframe thead th {\n",
       "        text-align: right;\n",
       "    }\n",
       "</style>\n",
       "<table border=\"1\" class=\"dataframe\">\n",
       "  <thead>\n",
       "    <tr style=\"text-align: right;\">\n",
       "      <th></th>\n",
       "      <th>month_payment</th>\n",
       "    </tr>\n",
       "    <tr>\n",
       "      <th>tariff</th>\n",
       "      <th></th>\n",
       "    </tr>\n",
       "  </thead>\n",
       "  <tbody>\n",
       "    <tr>\n",
       "      <th>smart</th>\n",
       "      <td>2875351.0</td>\n",
       "    </tr>\n",
       "    <tr>\n",
       "      <th>ultra</th>\n",
       "      <td>2039100.0</td>\n",
       "    </tr>\n",
       "  </tbody>\n",
       "</table>\n",
       "</div>"
      ],
      "text/plain": [
       "        month_payment\n",
       "tariff               \n",
       "smart       2875351.0\n",
       "ultra       2039100.0"
      ]
     },
     "metadata": {},
     "output_type": "display_data"
    }
   ],
   "source": [
    "# Посмотрим средние значения для каждой из услуг по каждому тарифу за год\n",
    "print('Средние значения')\n",
    "display(\n",
    "user_tot.groupby('tariff')\n",
    "    .agg({\n",
    "         'cal_no':'mean',\n",
    "         'cal_dur': 'mean',\n",
    "         'msg_no': 'mean',\n",
    "         'gb_used': 'mean',\n",
    "         'month_payment': 'mean'})\n",
    "    .applymap('{:.2f}'.format)\n",
    ")\n",
    "print()\n",
    "# Выручка по тарифам за год\n",
    "print('Выручка по тарифам за год')\n",
    "display(user_tot.groupby('tariff').agg({'month_payment': 'sum'}))"
   ]
  },
  {
   "cell_type": "markdown",
   "id": "d514a696",
   "metadata": {},
   "source": [
    "Cильное различие во всех показателях кроме интернета. Даже среднее по smart превышает лимит в 15gb  \n",
    "Общая годовая выручка по smart больше, но в расчёте на клиента лидирует ultra."
   ]
  },
  {
   "cell_type": "markdown",
   "id": "9f286ae1",
   "metadata": {},
   "source": [
    "### Распределения и основные статистические показатели"
   ]
  },
  {
   "cell_type": "markdown",
   "id": "b8568440",
   "metadata": {},
   "source": [
    "Построим гистограммы для этих показателей"
   ]
  },
  {
   "cell_type": "code",
   "execution_count": 41,
   "id": "7f87a6e8",
   "metadata": {
    "scrolled": false
   },
   "outputs": [
    {
     "data": {
      "image/png": "[encoded data removed]",
      "text/plain": [
       "<Figure size 1080x1800 with 5 Axes>"
      ]
     },
     "metadata": {
      "needs_background": "light"
     },
     "output_type": "display_data"
    }
   ],
   "source": [
    "fig4 = plt.figure(figsize=(15,25))\n",
    "ax1 = fig4.add_subplot(5,1,1)\n",
    "ax2 = fig4.add_subplot(5,1,2)\n",
    "ax3 = fig4.add_subplot(5,1,3)\n",
    "ax4 = fig4.add_subplot(5,1,4)\n",
    "ax5 = fig4.add_subplot(5,1,5)\n",
    "\n",
    "sns.histplot(x='cal_no', data=user_tot, hue='tariff', ax = ax1)\n",
    "ax1.set_title('Распределение числа голосовых вызовов по тарифам')\n",
    "ax1.set_xlabel(\"Число вызовов\", fontsize=14)\n",
    "ax1.set_ylabel(\"Частота\", fontsize=14)\n",
    "\n",
    "sns.histplot(x='cal_dur', data=user_tot, hue='tariff', ax = ax2)\n",
    "ax2.set_title('Распределение продолжительности голосовых вызовов по тарифам')\n",
    "ax2.set_xlabel(\"Продолжительность вызова\", fontsize=14)\n",
    "ax2.set_ylabel(\"Частота\", fontsize=14)\n",
    "\n",
    "sns.histplot(x='msg_no', data=user_tot, hue='tariff', ax = ax3)\n",
    "ax3.set_title('Распределение числа текстовых сообщений по тарифам')\n",
    "ax3.set_xlabel(\"Число сообщений\", fontsize=14)\n",
    "ax3.set_ylabel(\"Частота\", fontsize=14)\n",
    "\n",
    "sns.histplot(x='gb_used', data=user_tot, hue='tariff', ax = ax4)\n",
    "ax4.set_title('Распределение среднего объема интернет трафика')\n",
    "ax4.set_xlabel(\"Объем трафика, Gb\", fontsize=14)\n",
    "ax4.set_ylabel(\"Частота\", fontsize=14)\n",
    "\n",
    "sns.histplot(x='month_payment', data=user_tot, hue='tariff', ax = ax5)\n",
    "ax5.set_title('Распределение сумм месячного платёж клиентов')\n",
    "ax5.set_xlabel(\"Сумма месячного платежа, руб.\", fontsize=14)\n",
    "ax5.set_ylabel(\"Частота\", fontsize=14)\n",
    "\n",
    "fig4.tight_layout()"
   ]
  },
  {
   "cell_type": "markdown",
   "id": "240f82a8",
   "metadata": {},
   "source": [
    "Посмотрим на основные характеричстики"
   ]
  },
  {
   "cell_type": "code",
   "execution_count": 42,
   "id": "77b6d121",
   "metadata": {},
   "outputs": [
    {
     "name": "stdout",
     "output_type": "stream",
     "text": [
      "Для тарифа SMART\n"
     ]
    },
    {
     "data": {
      "text/html": [
       "<div>\n",
       "<style scoped>\n",
       "    .dataframe tbody tr th:only-of-type {\n",
       "        vertical-align: middle;\n",
       "    }\n",
       "\n",
       "    .dataframe tbody tr th {\n",
       "        vertical-align: top;\n",
       "    }\n",
       "\n",
       "    .dataframe thead th {\n",
       "        text-align: right;\n",
       "    }\n",
       "</style>\n",
       "<table border=\"1\" class=\"dataframe\">\n",
       "  <thead>\n",
       "    <tr style=\"text-align: right;\">\n",
       "      <th></th>\n",
       "      <th>cal_dur</th>\n",
       "      <th>msg_no</th>\n",
       "      <th>gb_used</th>\n",
       "      <th>month_payment</th>\n",
       "    </tr>\n",
       "  </thead>\n",
       "  <tbody>\n",
       "    <tr>\n",
       "      <th>count</th>\n",
       "      <td>2229.00</td>\n",
       "      <td>2229.00</td>\n",
       "      <td>2229.00</td>\n",
       "      <td>2229.00</td>\n",
       "    </tr>\n",
       "    <tr>\n",
       "      <th>mean</th>\n",
       "      <td>417.93</td>\n",
       "      <td>33.38</td>\n",
       "      <td>16.33</td>\n",
       "      <td>1289.97</td>\n",
       "    </tr>\n",
       "    <tr>\n",
       "      <th>std</th>\n",
       "      <td>190.31</td>\n",
       "      <td>28.23</td>\n",
       "      <td>5.75</td>\n",
       "      <td>818.40</td>\n",
       "    </tr>\n",
       "    <tr>\n",
       "      <th>min</th>\n",
       "      <td>0.00</td>\n",
       "      <td>0.00</td>\n",
       "      <td>0.00</td>\n",
       "      <td>550.00</td>\n",
       "    </tr>\n",
       "    <tr>\n",
       "      <th>25%</th>\n",
       "      <td>282.00</td>\n",
       "      <td>10.00</td>\n",
       "      <td>13.00</td>\n",
       "      <td>550.00</td>\n",
       "    </tr>\n",
       "    <tr>\n",
       "      <th>50%</th>\n",
       "      <td>422.00</td>\n",
       "      <td>28.00</td>\n",
       "      <td>17.00</td>\n",
       "      <td>1023.00</td>\n",
       "    </tr>\n",
       "    <tr>\n",
       "      <th>75%</th>\n",
       "      <td>545.00</td>\n",
       "      <td>51.00</td>\n",
       "      <td>20.00</td>\n",
       "      <td>1750.00</td>\n",
       "    </tr>\n",
       "    <tr>\n",
       "      <th>max</th>\n",
       "      <td>1435.00</td>\n",
       "      <td>143.00</td>\n",
       "      <td>38.00</td>\n",
       "      <td>6770.00</td>\n",
       "    </tr>\n",
       "  </tbody>\n",
       "</table>\n",
       "</div>"
      ],
      "text/plain": [
       "       cal_dur   msg_no  gb_used month_payment\n",
       "count  2229.00  2229.00  2229.00       2229.00\n",
       "mean    417.93    33.38    16.33       1289.97\n",
       "std     190.31    28.23     5.75        818.40\n",
       "min       0.00     0.00     0.00        550.00\n",
       "25%     282.00    10.00    13.00        550.00\n",
       "50%     422.00    28.00    17.00       1023.00\n",
       "75%     545.00    51.00    20.00       1750.00\n",
       "max    1435.00   143.00    38.00       6770.00"
      ]
     },
     "metadata": {},
     "output_type": "display_data"
    },
    {
     "name": "stdout",
     "output_type": "stream",
     "text": [
      "\n",
      "Для тарифа ULTRA\n"
     ]
    },
    {
     "data": {
      "text/html": [
       "<div>\n",
       "<style scoped>\n",
       "    .dataframe tbody tr th:only-of-type {\n",
       "        vertical-align: middle;\n",
       "    }\n",
       "\n",
       "    .dataframe tbody tr th {\n",
       "        vertical-align: top;\n",
       "    }\n",
       "\n",
       "    .dataframe thead th {\n",
       "        text-align: right;\n",
       "    }\n",
       "</style>\n",
       "<table border=\"1\" class=\"dataframe\">\n",
       "  <thead>\n",
       "    <tr style=\"text-align: right;\">\n",
       "      <th></th>\n",
       "      <th>cal_dur</th>\n",
       "      <th>msg_no</th>\n",
       "      <th>gb_used</th>\n",
       "      <th>month_payment</th>\n",
       "    </tr>\n",
       "  </thead>\n",
       "  <tbody>\n",
       "    <tr>\n",
       "      <th>count</th>\n",
       "      <td>985.00</td>\n",
       "      <td>985.00</td>\n",
       "      <td>985.00</td>\n",
       "      <td>985.00</td>\n",
       "    </tr>\n",
       "    <tr>\n",
       "      <th>mean</th>\n",
       "      <td>526.62</td>\n",
       "      <td>49.36</td>\n",
       "      <td>19.49</td>\n",
       "      <td>2070.15</td>\n",
       "    </tr>\n",
       "    <tr>\n",
       "      <th>std</th>\n",
       "      <td>317.61</td>\n",
       "      <td>47.80</td>\n",
       "      <td>9.85</td>\n",
       "      <td>376.19</td>\n",
       "    </tr>\n",
       "    <tr>\n",
       "      <th>min</th>\n",
       "      <td>0.00</td>\n",
       "      <td>0.00</td>\n",
       "      <td>0.00</td>\n",
       "      <td>1950.00</td>\n",
       "    </tr>\n",
       "    <tr>\n",
       "      <th>25%</th>\n",
       "      <td>284.00</td>\n",
       "      <td>6.00</td>\n",
       "      <td>12.00</td>\n",
       "      <td>1950.00</td>\n",
       "    </tr>\n",
       "    <tr>\n",
       "      <th>50%</th>\n",
       "      <td>518.00</td>\n",
       "      <td>38.00</td>\n",
       "      <td>19.00</td>\n",
       "      <td>1950.00</td>\n",
       "    </tr>\n",
       "    <tr>\n",
       "      <th>75%</th>\n",
       "      <td>752.00</td>\n",
       "      <td>79.00</td>\n",
       "      <td>27.00</td>\n",
       "      <td>1950.00</td>\n",
       "    </tr>\n",
       "    <tr>\n",
       "      <th>max</th>\n",
       "      <td>1673.00</td>\n",
       "      <td>224.00</td>\n",
       "      <td>49.00</td>\n",
       "      <td>4800.00</td>\n",
       "    </tr>\n",
       "  </tbody>\n",
       "</table>\n",
       "</div>"
      ],
      "text/plain": [
       "       cal_dur  msg_no gb_used month_payment\n",
       "count   985.00  985.00  985.00        985.00\n",
       "mean    526.62   49.36   19.49       2070.15\n",
       "std     317.61   47.80    9.85        376.19\n",
       "min       0.00    0.00    0.00       1950.00\n",
       "25%     284.00    6.00   12.00       1950.00\n",
       "50%     518.00   38.00   19.00       1950.00\n",
       "75%     752.00   79.00   27.00       1950.00\n",
       "max    1673.00  224.00   49.00       4800.00"
      ]
     },
     "metadata": {},
     "output_type": "display_data"
    }
   ],
   "source": [
    "print('Для тарифа SMART')\n",
    "display(user_tot.loc[user_tot['tariff'] == 'smart']\n",
    "    .loc[:, ['cal_dur', 'msg_no', 'gb_used', 'month_payment']]\n",
    "    .describe()\n",
    "    .applymap(\"{0:.2f}\".format)) \n",
    "print('')\n",
    "print('Для тарифа ULTRA')\n",
    "display(user_tot.loc[user_tot['tariff'] == 'ultra']\n",
    "    .loc[:, ['cal_dur', 'msg_no', 'gb_used', 'month_payment']]\n",
    "    .describe()\n",
    "    .applymap(\"{0:.2f}\".format)) "
   ]
  },
  {
   "cell_type": "code",
   "execution_count": 43,
   "id": "1d34a69a",
   "metadata": {},
   "outputs": [
    {
     "name": "stdout",
     "output_type": "stream",
     "text": [
      "Дисперсии для тарифа SMART\n"
     ]
    },
    {
     "data": {
      "text/plain": [
       "cal_dur           36219.32\n",
       "msg_no              796.81\n",
       "gb_used              33.03\n",
       "month_payment    669785.71\n",
       "dtype: object"
      ]
     },
     "metadata": {},
     "output_type": "display_data"
    },
    {
     "name": "stdout",
     "output_type": "stream",
     "text": [
      "\n",
      "Дисперсии для тарифа ULTRA\n"
     ]
    },
    {
     "data": {
      "text/plain": [
       "cal_dur          100873.63\n",
       "msg_no             2285.27\n",
       "gb_used              97.09\n",
       "month_payment    141516.75\n",
       "dtype: object"
      ]
     },
     "metadata": {},
     "output_type": "display_data"
    }
   ],
   "source": [
    "print('Дисперсии для тарифа SMART')\n",
    "display(user_tot.loc[user_tot['tariff'] == 'smart']\n",
    "    .loc[:, ['cal_dur', 'msg_no', 'gb_used', 'month_payment']]\n",
    "    .var()\n",
    "    .map(\"{0:.2f}\".format))\n",
    "print('')\n",
    "print('Дисперсии для тарифа ULTRA')\n",
    "display(user_tot.loc[user_tot['tariff'] == 'ultra']\n",
    "    .loc[:, ['cal_dur', 'msg_no', 'gb_used', 'month_payment']]\n",
    "    .var()\n",
    "    .map(\"{0:.2f}\".format))    "
   ]
  },
  {
   "cell_type": "code",
   "execution_count": 44,
   "id": "a9151cc4",
   "metadata": {
    "scrolled": true
   },
   "outputs": [
    {
     "data": {
      "text/html": [
       "<div>\n",
       "<style scoped>\n",
       "    .dataframe tbody tr th:only-of-type {\n",
       "        vertical-align: middle;\n",
       "    }\n",
       "\n",
       "    .dataframe tbody tr th {\n",
       "        vertical-align: top;\n",
       "    }\n",
       "\n",
       "    .dataframe thead th {\n",
       "        text-align: right;\n",
       "    }\n",
       "</style>\n",
       "<table border=\"1\" class=\"dataframe\">\n",
       "  <thead>\n",
       "    <tr style=\"text-align: right;\">\n",
       "      <th></th>\n",
       "      <th>messages_included</th>\n",
       "      <th>mb_per_month_included</th>\n",
       "      <th>minutes_included</th>\n",
       "      <th>rub_monthly_fee</th>\n",
       "      <th>rub_per_gb</th>\n",
       "      <th>rub_per_message</th>\n",
       "      <th>rub_per_minute</th>\n",
       "      <th>tariff_name</th>\n",
       "    </tr>\n",
       "  </thead>\n",
       "  <tbody>\n",
       "    <tr>\n",
       "      <th>0</th>\n",
       "      <td>50</td>\n",
       "      <td>15360</td>\n",
       "      <td>500</td>\n",
       "      <td>550</td>\n",
       "      <td>200</td>\n",
       "      <td>3</td>\n",
       "      <td>3</td>\n",
       "      <td>smart</td>\n",
       "    </tr>\n",
       "    <tr>\n",
       "      <th>1</th>\n",
       "      <td>1000</td>\n",
       "      <td>30720</td>\n",
       "      <td>3000</td>\n",
       "      <td>1950</td>\n",
       "      <td>150</td>\n",
       "      <td>1</td>\n",
       "      <td>1</td>\n",
       "      <td>ultra</td>\n",
       "    </tr>\n",
       "  </tbody>\n",
       "</table>\n",
       "</div>"
      ],
      "text/plain": [
       "   messages_included  mb_per_month_included  minutes_included  \\\n",
       "0                 50                  15360               500   \n",
       "1               1000                  30720              3000   \n",
       "\n",
       "   rub_monthly_fee  rub_per_gb  rub_per_message  rub_per_minute tariff_name  \n",
       "0              550         200                3               3       smart  \n",
       "1             1950         150                1               1       ultra  "
      ]
     },
     "execution_count": 44,
     "metadata": {},
     "output_type": "execute_result"
    }
   ],
   "source": [
    "tariffs"
   ]
  },
  {
   "cell_type": "markdown",
   "id": "c77c7639",
   "metadata": {},
   "source": [
    "**Выводы**  \n",
    "\n",
    "Распределение клиентов по тарифам: SMART 70%, ULTRA 30%\n",
    "\n",
    "Особенности клиентов тарифа SMART:\n",
    "  - голосовые вызовы: более 25% превышают лимит\n",
    "  - текстовые сообщения: более 25% превышают лимит\n",
    "  - мобильный интернет: более 50% превышают лимит\n",
    "  - размер ежемесячного платежа: менее 50% укладываются в стоимость тарифа (550руб), более 50% клиентов платят больше 1000руб. максимальный платёж превышает стоимость тарифа в 12 раз.\n",
    "  \n",
    "Особенности клиентов тарифа ULTRA:\n",
    "  - голосовые вызовы: 100% без превышения\n",
    "  - текстовые сообщения: 100% без превышения\n",
    "  - мобильный интернет: 75% без превышения\n",
    "  - размер ежемесячного платежа: большинство клиентов (около 75%) как правило, обходятся без дополнительных птатежей. максимальный платёж превышает стоимость тарифа в 2.5 раза.  \n",
    "\n",
    "Таким образом, превышения лимита имеет место:\n",
    "  - по тарифу ultra только по услуге \"мобильный интернет\" (менее 25% клиентов)\n",
    "  - по тарифу smart - по всем услугам (около 75% клиентов)\n",
    "\n",
    "Общая годовая выручка по smart больше, но в расчёте на клиента выручка ultra больше в 1.6 раза."
   ]
  },
  {
   "cell_type": "markdown",
   "id": "7f9a8422",
   "metadata": {},
   "source": [
    "## Проверка гипотезы"
   ]
  },
  {
   "cell_type": "markdown",
   "id": "124dfdb5",
   "metadata": {},
   "source": [
    "Для проверки гипотез ниже, примем уровень значимости 5%"
   ]
  },
  {
   "cell_type": "code",
   "execution_count": 45,
   "id": "30dc58d8",
   "metadata": {},
   "outputs": [],
   "source": [
    "alpha = .05"
   ]
  },
  {
   "cell_type": "markdown",
   "id": "3f645885",
   "metadata": {},
   "source": [
    "### Гипотеза о равенстве выручки"
   ]
  },
  {
   "cell_type": "markdown",
   "id": "ef052ba7",
   "metadata": {},
   "source": [
    "**Нулевая и альтернативная гипотезы**  \n",
    "Н0: средняя выручка пользователей тарифов «Ультра» и «Смарт» равны;  \n",
    "НА: средняя выручка пользователей тарифов «Ультра» и «Смарт» не равны (различаются)"
   ]
  },
  {
   "cell_type": "code",
   "execution_count": 46,
   "id": "55e4b6ed",
   "metadata": {},
   "outputs": [
    {
     "name": "stdout",
     "output_type": "stream",
     "text": [
      "p-значение 4.2606313931076085e-250\n",
      "Отвергаем нулевую гипотезу\n"
     ]
    }
   ],
   "source": [
    "results = stats.ttest_ind(\n",
    "    user_tot.query('tariff == \"smart\"')['month_payment'],\n",
    "    user_tot.query('tariff == \"ultra\"')['month_payment'],\n",
    "    equal_var=False)\n",
    "print('p-значение', results.pvalue)\n",
    "if results.pvalue < alpha:\n",
    "    print(\"Отвергаем нулевую гипотезу\")\n",
    "else:\n",
    "    print(\"Не получилось отвергнуть нулевую гипотезу\") "
   ]
  },
  {
   "cell_type": "markdown",
   "id": "a4c126ff",
   "metadata": {},
   "source": [
    "p-значение ничножно мало по сравнению с принятым уровнем значимости. Поэтому, гипотезу, что средняя выручка пользователей тарифов «Ультра» и «Смарт» равны отвергаем. "
   ]
  },
  {
   "cell_type": "markdown",
   "id": "100a55b6",
   "metadata": {},
   "source": [
    "### Гипотеза о равенстве выручки Москвы и других регионов"
   ]
  },
  {
   "cell_type": "markdown",
   "id": "e3a3c512",
   "metadata": {},
   "source": [
    "Добавим в таблицу город клиента, присоединив данные таблицы users к таблице user_tot"
   ]
  },
  {
   "cell_type": "code",
   "execution_count": 47,
   "id": "260aa6b4",
   "metadata": {},
   "outputs": [
    {
     "data": {
      "text/html": [
       "<div>\n",
       "<style scoped>\n",
       "    .dataframe tbody tr th:only-of-type {\n",
       "        vertical-align: middle;\n",
       "    }\n",
       "\n",
       "    .dataframe tbody tr th {\n",
       "        vertical-align: top;\n",
       "    }\n",
       "\n",
       "    .dataframe thead th {\n",
       "        text-align: right;\n",
       "    }\n",
       "</style>\n",
       "<table border=\"1\" class=\"dataframe\">\n",
       "  <thead>\n",
       "    <tr style=\"text-align: right;\">\n",
       "      <th></th>\n",
       "      <th>user_id</th>\n",
       "      <th>month</th>\n",
       "      <th>cal_no</th>\n",
       "      <th>cal_dur</th>\n",
       "      <th>msg_no</th>\n",
       "      <th>gb_used</th>\n",
       "      <th>tariff</th>\n",
       "      <th>month_payment</th>\n",
       "      <th>city</th>\n",
       "    </tr>\n",
       "  </thead>\n",
       "  <tbody>\n",
       "    <tr>\n",
       "      <th>2572</th>\n",
       "      <td>1404</td>\n",
       "      <td>11</td>\n",
       "      <td>39.0</td>\n",
       "      <td>226.0</td>\n",
       "      <td>59.0</td>\n",
       "      <td>18.0</td>\n",
       "      <td>smart</td>\n",
       "      <td>1177.0</td>\n",
       "      <td>Не Москва</td>\n",
       "    </tr>\n",
       "    <tr>\n",
       "      <th>1820</th>\n",
       "      <td>1291</td>\n",
       "      <td>8</td>\n",
       "      <td>77.0</td>\n",
       "      <td>487.0</td>\n",
       "      <td>0.0</td>\n",
       "      <td>13.0</td>\n",
       "      <td>smart</td>\n",
       "      <td>550.0</td>\n",
       "      <td>Москва</td>\n",
       "    </tr>\n",
       "    <tr>\n",
       "      <th>866</th>\n",
       "      <td>1142</td>\n",
       "      <td>4</td>\n",
       "      <td>67.0</td>\n",
       "      <td>475.0</td>\n",
       "      <td>24.0</td>\n",
       "      <td>22.0</td>\n",
       "      <td>smart</td>\n",
       "      <td>1950.0</td>\n",
       "      <td>Не Москва</td>\n",
       "    </tr>\n",
       "    <tr>\n",
       "      <th>1392</th>\n",
       "      <td>1221</td>\n",
       "      <td>7</td>\n",
       "      <td>20.0</td>\n",
       "      <td>114.0</td>\n",
       "      <td>32.0</td>\n",
       "      <td>9.0</td>\n",
       "      <td>smart</td>\n",
       "      <td>550.0</td>\n",
       "      <td>Не Москва</td>\n",
       "    </tr>\n",
       "    <tr>\n",
       "      <th>1870</th>\n",
       "      <td>1299</td>\n",
       "      <td>3</td>\n",
       "      <td>82.0</td>\n",
       "      <td>714.0</td>\n",
       "      <td>38.0</td>\n",
       "      <td>22.0</td>\n",
       "      <td>smart</td>\n",
       "      <td>2592.0</td>\n",
       "      <td>Не Москва</td>\n",
       "    </tr>\n",
       "  </tbody>\n",
       "</table>\n",
       "</div>"
      ],
      "text/plain": [
       "      user_id  month  cal_no  cal_dur  msg_no  gb_used tariff  month_payment  \\\n",
       "2572     1404     11    39.0    226.0    59.0     18.0  smart         1177.0   \n",
       "1820     1291      8    77.0    487.0     0.0     13.0  smart          550.0   \n",
       "866      1142      4    67.0    475.0    24.0     22.0  smart         1950.0   \n",
       "1392     1221      7    20.0    114.0    32.0      9.0  smart          550.0   \n",
       "1870     1299      3    82.0    714.0    38.0     22.0  smart         2592.0   \n",
       "\n",
       "           city  \n",
       "2572  Не Москва  \n",
       "1820     Москва  \n",
       "866   Не Москва  \n",
       "1392  Не Москва  \n",
       "1870  Не Москва  "
      ]
     },
     "execution_count": 47,
     "metadata": {},
     "output_type": "execute_result"
    }
   ],
   "source": [
    "# слияние таблиц\n",
    "user_tot_city = user_tot.merge(users.loc[:, ['user_id', 'city']], on='user_id', how='left')\n",
    "# заменим название всех городов кроме Москвы на \"Не Москва\"\n",
    "user_tot_city['city'] = user_tot_city['city'].apply(lambda x: 'Москва' if x == 'Москва' else 'Не Москва')\n",
    "# проверка\n",
    "user_tot_city.sample(5)"
   ]
  },
  {
   "cell_type": "markdown",
   "id": "b0792c67",
   "metadata": {},
   "source": [
    "**Нулевая и альтернативная гипотезы**  \n",
    "Н0: средняя выручка пользователей Москвы и других регионов равны;  \n",
    "НА: средняя выручка пользователей Москвы и других регионов не равны (различаются)\n",
    "\n",
    "Проверку гипотез будем проводить для каждого из тарифов"
   ]
  },
  {
   "cell_type": "code",
   "execution_count": 48,
   "id": "f5ae3e99",
   "metadata": {},
   "outputs": [
    {
     "name": "stdout",
     "output_type": "stream",
     "text": [
      "Для тарифа SMART\n",
      "p-значение 0.15468343176376667\n",
      "Не получилось отвергнуть нулевую гипотезу\n"
     ]
    }
   ],
   "source": [
    "results = stats.ttest_ind(\n",
    "    user_tot_city.query('tariff == \"smart\" & city == \"Москва\"')['month_payment'],\n",
    "    user_tot_city.query('tariff == \"smart\" & city == \"Не Москва\"')['month_payment'],\n",
    "    equal_var=False)\n",
    "print('Для тарифа SMART')\n",
    "print('p-значение', results.pvalue)\n",
    "if results.pvalue < alpha:\n",
    "    print(\"Отвергаем нулевую гипотезу\")\n",
    "else:\n",
    "    print(\"Не получилось отвергнуть нулевую гипотезу\") "
   ]
  },
  {
   "cell_type": "code",
   "execution_count": 49,
   "id": "dfbf2f10",
   "metadata": {},
   "outputs": [
    {
     "name": "stdout",
     "output_type": "stream",
     "text": [
      "Для тарифа ULTRA\n",
      "p-значение 0.8544997530689904\n",
      "Не получилось отвергнуть нулевую гипотезу\n"
     ]
    }
   ],
   "source": [
    "results = stats.ttest_ind(\n",
    "    user_tot_city.query('tariff == \"ultra\" & city == \"Москва\"')['month_payment'],\n",
    "    user_tot_city.query('tariff == \"ultra\" & city == \"Не Москва\"')['month_payment'],\n",
    "    equal_var=False)\n",
    "print('Для тарифа ULTRA')\n",
    "print('p-значение', results.pvalue)\n",
    "if results.pvalue < alpha:\n",
    "    print(\"Отвергаем нулевую гипотезу\")\n",
    "else:\n",
    "    print(\"Не получилось отвергнуть нулевую гипотезу\") "
   ]
  },
  {
   "cell_type": "markdown",
   "id": "332e8284",
   "metadata": {},
   "source": [
    "Гипотезу о равенстве средней выручки пользователей Москвы и других регионов не удалось отвергнуть для обоих тарифов. Более того, видно что даже при уровне значимости 1% результат не изменится."
   ]
  },
  {
   "cell_type": "markdown",
   "id": "4e859fab",
   "metadata": {},
   "source": [
    "## Выводы и рекомендации"
   ]
  },
  {
   "cell_type": "markdown",
   "id": "ea042079",
   "metadata": {},
   "source": [
    "*Выводы по услугам:*\n",
    "- Линейный рост числа пользователей по услугам\n",
    "- Сходная динамика прироста числа пользователей по услугам. Худшая динамина по текстовым сообщениям\n",
    "- Нельзя утверждать что клиенты отказываются от голосовых вызовов и текстовых сообщений в пользу мобильного интернета (мессенджеров)\n",
    "- Объемы всех услуг в расчете на одного пользователя растут\n",
    "- Почти линейтый рост выручки по каждому из тарифов. По smart прирост больше. Разрыв межу тарифами увеличивается (от ~25К руб. в июне, до ~230К в декабре.)\n",
    "\n",
    "\n",
    "*Выводы по тарифам:*\n",
    "\n",
    "Распределение клиентов по тарифам: SMART 70%, ULTRA 30%\n",
    "\n",
    "Особенности клиентов тарифа SMART:\n",
    "  - голосовые вызовы: более 25% превышают лимит\n",
    "  - текстовые сообщения: более 25% превышают лимит\n",
    "  - мобильный интернет: более 50% превышают лимит\n",
    "  - размер ежемесячного платежа: менее 50% укладываются в стоимость тарифа (550руб), более 50% клиентов платят больше 1000руб. максимальный платёж превышает стоимость тарифа в 12 раз.\n",
    "  \n",
    "Особенности клиентов тарифа ULTRA:\n",
    "  - голосовые вызовы: 100% без превышения\n",
    "  - текстовые сообщения: 100% без превышения\n",
    "  - мобильный интернет: 75% без превышения\n",
    "  - размер ежемесячного платежа: большинство клиентов (около 75%) как правило, обходятся без дополнительных птатежей. максимальный платёж превышает стоимость тарифа в 2.5 раза.  \n",
    "\n",
    "Таким образом, превышения лимита имеет место:\n",
    "  - по тарифу ultra только по услуге \"мобильный интернет\" (менее 25% клиентов)\n",
    "  - по тарифу smart - по всем услугам (около 75% клиентов)\n",
    "  \n",
    "Общая годовая выручка по smart больше, но в расчёте на клиента выручка ultra больше в 1.6 раза.\n",
    "В среднем, выручка с одного клиента тарифа ultra в 1.6 раза выше. Клиентов тарифа smatr больше более чем в 2 раза. Это даёт основание предполагать, что стоимость привлечения клиента на тариф smart ниже, чем на тариф ultra. Таким образом, при одинаковых затратах на рекламную компанию, в случае smart будет привлечено в 2-3 раза больше клиентов. Это даст большуб общую выручку компании.  \n",
    "**Проверка гипотезы о равенстве выручки Москвы и других регионов и изложенные выше пояснения, дают основание рекомедовать федеральное промо тарифа smart.**\n"
   ]
  }
 ],
 "metadata": {
  "ExecuteTimeLog": [
   {
    "duration": 1407,
    "start_time": "2022-06-30T09:21:14.648Z"
   },
   {
    "duration": 3,
    "start_time": "2022-06-30T09:21:16.057Z"
   },
   {
    "duration": 159,
    "start_time": "2022-06-30T09:21:16.062Z"
   },
   {
    "duration": 0,
    "start_time": "2022-06-30T09:21:16.224Z"
   },
   {
    "duration": 0,
    "start_time": "2022-06-30T09:21:16.225Z"
   },
   {
    "duration": 1,
    "start_time": "2022-06-30T09:21:16.227Z"
   },
   {
    "duration": 0,
    "start_time": "2022-06-30T09:21:16.229Z"
   },
   {
    "duration": 0,
    "start_time": "2022-06-30T09:21:16.231Z"
   },
   {
    "duration": 0,
    "start_time": "2022-06-30T09:21:16.233Z"
   },
   {
    "duration": 0,
    "start_time": "2022-06-30T09:21:16.235Z"
   },
   {
    "duration": 0,
    "start_time": "2022-06-30T09:21:16.237Z"
   },
   {
    "duration": 0,
    "start_time": "2022-06-30T09:21:16.238Z"
   },
   {
    "duration": 0,
    "start_time": "2022-06-30T09:21:16.240Z"
   },
   {
    "duration": 0,
    "start_time": "2022-06-30T09:21:16.242Z"
   },
   {
    "duration": 0,
    "start_time": "2022-06-30T09:21:16.244Z"
   },
   {
    "duration": 0,
    "start_time": "2022-06-30T09:21:16.245Z"
   },
   {
    "duration": 0,
    "start_time": "2022-06-30T09:21:16.247Z"
   },
   {
    "duration": 0,
    "start_time": "2022-06-30T09:21:16.248Z"
   },
   {
    "duration": 0,
    "start_time": "2022-06-30T09:21:16.250Z"
   },
   {
    "duration": 0,
    "start_time": "2022-06-30T09:21:16.252Z"
   },
   {
    "duration": 0,
    "start_time": "2022-06-30T09:21:16.254Z"
   },
   {
    "duration": 0,
    "start_time": "2022-06-30T09:21:16.255Z"
   },
   {
    "duration": 0,
    "start_time": "2022-06-30T09:21:16.257Z"
   },
   {
    "duration": 0,
    "start_time": "2022-06-30T09:21:16.258Z"
   },
   {
    "duration": 0,
    "start_time": "2022-06-30T09:21:16.259Z"
   },
   {
    "duration": 0,
    "start_time": "2022-06-30T09:21:16.260Z"
   },
   {
    "duration": 0,
    "start_time": "2022-06-30T09:21:16.262Z"
   },
   {
    "duration": 0,
    "start_time": "2022-06-30T09:21:16.263Z"
   },
   {
    "duration": 0,
    "start_time": "2022-06-30T09:21:16.264Z"
   },
   {
    "duration": 0,
    "start_time": "2022-06-30T09:21:16.327Z"
   },
   {
    "duration": 0,
    "start_time": "2022-06-30T09:21:16.329Z"
   },
   {
    "duration": 0,
    "start_time": "2022-06-30T09:21:16.331Z"
   },
   {
    "duration": 0,
    "start_time": "2022-06-30T09:21:16.332Z"
   },
   {
    "duration": 0,
    "start_time": "2022-06-30T09:21:16.334Z"
   },
   {
    "duration": 0,
    "start_time": "2022-06-30T09:21:16.335Z"
   },
   {
    "duration": 0,
    "start_time": "2022-06-30T09:21:16.336Z"
   },
   {
    "duration": 0,
    "start_time": "2022-06-30T09:21:16.338Z"
   },
   {
    "duration": 0,
    "start_time": "2022-06-30T09:21:16.339Z"
   },
   {
    "duration": 0,
    "start_time": "2022-06-30T09:21:16.340Z"
   },
   {
    "duration": 0,
    "start_time": "2022-06-30T09:21:16.341Z"
   },
   {
    "duration": 0,
    "start_time": "2022-06-30T09:21:16.342Z"
   },
   {
    "duration": 0,
    "start_time": "2022-06-30T09:21:16.344Z"
   },
   {
    "duration": 0,
    "start_time": "2022-06-30T09:21:16.346Z"
   },
   {
    "duration": 0,
    "start_time": "2022-06-30T09:21:16.348Z"
   },
   {
    "duration": 0,
    "start_time": "2022-06-30T09:21:16.350Z"
   },
   {
    "duration": 1290,
    "start_time": "2022-07-01T06:35:47.428Z"
   },
   {
    "duration": 4,
    "start_time": "2022-07-01T06:35:48.720Z"
   },
   {
    "duration": 1196,
    "start_time": "2022-07-01T06:35:48.726Z"
   },
   {
    "duration": 6,
    "start_time": "2022-07-01T06:35:49.924Z"
   },
   {
    "duration": 23,
    "start_time": "2022-07-01T06:35:49.932Z"
   },
   {
    "duration": 86,
    "start_time": "2022-07-01T06:35:49.957Z"
   },
   {
    "duration": 44,
    "start_time": "2022-07-01T06:35:50.045Z"
   },
   {
    "duration": 49,
    "start_time": "2022-07-01T06:35:50.091Z"
   },
   {
    "duration": 12,
    "start_time": "2022-07-01T06:35:50.142Z"
   },
   {
    "duration": 182,
    "start_time": "2022-07-01T06:35:50.157Z"
   },
   {
    "duration": 131,
    "start_time": "2022-07-01T06:35:50.341Z"
   },
   {
    "duration": 20,
    "start_time": "2022-07-01T06:35:50.475Z"
   },
   {
    "duration": 56,
    "start_time": "2022-07-01T06:35:50.522Z"
   },
   {
    "duration": 8,
    "start_time": "2022-07-01T06:35:50.580Z"
   },
   {
    "duration": 33,
    "start_time": "2022-07-01T06:35:50.590Z"
   },
   {
    "duration": 85,
    "start_time": "2022-07-01T06:35:50.625Z"
   },
   {
    "duration": 30,
    "start_time": "2022-07-01T06:35:50.723Z"
   },
   {
    "duration": 40,
    "start_time": "2022-07-01T06:35:50.755Z"
   },
   {
    "duration": 834,
    "start_time": "2022-07-01T06:35:50.797Z"
   },
   {
    "duration": 19,
    "start_time": "2022-07-01T06:35:51.633Z"
   },
   {
    "duration": 27,
    "start_time": "2022-07-01T06:35:51.654Z"
   },
   {
    "duration": 551,
    "start_time": "2022-07-01T06:35:51.683Z"
   },
   {
    "duration": 24,
    "start_time": "2022-07-01T06:35:52.236Z"
   },
   {
    "duration": 16,
    "start_time": "2022-07-01T06:35:52.261Z"
   },
   {
    "duration": 633,
    "start_time": "2022-07-01T06:35:52.278Z"
   },
   {
    "duration": 30,
    "start_time": "2022-07-01T06:35:52.912Z"
   },
   {
    "duration": 85,
    "start_time": "2022-07-01T06:35:52.943Z"
   },
   {
    "duration": 8933,
    "start_time": "2022-07-01T06:35:53.031Z"
   },
   {
    "duration": 310,
    "start_time": "2022-07-01T06:36:01.966Z"
   },
   {
    "duration": 300,
    "start_time": "2022-07-01T06:36:02.277Z"
   },
   {
    "duration": 45,
    "start_time": "2022-07-01T06:36:02.579Z"
   },
   {
    "duration": 39,
    "start_time": "2022-07-01T06:36:02.627Z"
   },
   {
    "duration": 1251,
    "start_time": "2022-07-01T06:36:02.668Z"
   },
   {
    "duration": 2295,
    "start_time": "2022-07-01T06:36:03.921Z"
   },
   {
    "duration": 526,
    "start_time": "2022-07-01T06:36:06.222Z"
   },
   {
    "duration": 35,
    "start_time": "2022-07-01T06:36:06.750Z"
   },
   {
    "duration": 47,
    "start_time": "2022-07-01T06:36:06.787Z"
   },
   {
    "duration": 2281,
    "start_time": "2022-07-01T06:36:06.836Z"
   },
   {
    "duration": 37,
    "start_time": "2022-07-01T06:36:09.123Z"
   },
   {
    "duration": 9,
    "start_time": "2022-07-01T06:36:09.164Z"
   },
   {
    "duration": 12,
    "start_time": "2022-07-01T06:36:09.175Z"
   },
   {
    "duration": 17,
    "start_time": "2022-07-01T06:36:09.188Z"
   },
   {
    "duration": 26,
    "start_time": "2022-07-01T06:36:09.224Z"
   },
   {
    "duration": 18,
    "start_time": "2022-07-01T06:36:09.252Z"
   },
   {
    "duration": 20,
    "start_time": "2022-07-01T06:36:09.272Z"
   },
   {
    "duration": 23,
    "start_time": "2022-07-01T06:52:08.784Z"
   },
   {
    "duration": 1227,
    "start_time": "2022-07-01T07:15:24.913Z"
   },
   {
    "duration": 2,
    "start_time": "2022-07-01T07:15:26.143Z"
   },
   {
    "duration": 1365,
    "start_time": "2022-07-01T07:15:26.147Z"
   },
   {
    "duration": 4,
    "start_time": "2022-07-01T07:15:27.515Z"
   },
   {
    "duration": 30,
    "start_time": "2022-07-01T07:15:27.521Z"
   },
   {
    "duration": 48,
    "start_time": "2022-07-01T07:15:27.553Z"
   },
   {
    "duration": 39,
    "start_time": "2022-07-01T07:15:27.603Z"
   },
   {
    "duration": 31,
    "start_time": "2022-07-01T07:15:27.644Z"
   },
   {
    "duration": 12,
    "start_time": "2022-07-01T07:15:27.676Z"
   },
   {
    "duration": 190,
    "start_time": "2022-07-01T07:15:27.691Z"
   },
   {
    "duration": 151,
    "start_time": "2022-07-01T07:15:27.883Z"
   },
   {
    "duration": 20,
    "start_time": "2022-07-01T07:15:28.035Z"
   },
   {
    "duration": 51,
    "start_time": "2022-07-01T07:15:28.056Z"
   },
   {
    "duration": 26,
    "start_time": "2022-07-01T07:15:28.109Z"
   },
   {
    "duration": 14,
    "start_time": "2022-07-01T07:15:28.137Z"
   },
   {
    "duration": 79,
    "start_time": "2022-07-01T07:15:28.153Z"
   },
   {
    "duration": 30,
    "start_time": "2022-07-01T07:15:28.239Z"
   },
   {
    "duration": 64,
    "start_time": "2022-07-01T07:15:28.271Z"
   },
   {
    "duration": 782,
    "start_time": "2022-07-01T07:15:28.337Z"
   },
   {
    "duration": 27,
    "start_time": "2022-07-01T07:15:29.120Z"
   },
   {
    "duration": 26,
    "start_time": "2022-07-01T07:15:29.149Z"
   },
   {
    "duration": 567,
    "start_time": "2022-07-01T07:15:29.176Z"
   },
   {
    "duration": 22,
    "start_time": "2022-07-01T07:15:29.745Z"
   },
   {
    "duration": 20,
    "start_time": "2022-07-01T07:15:29.769Z"
   },
   {
    "duration": 572,
    "start_time": "2022-07-01T07:15:29.791Z"
   },
   {
    "duration": 22,
    "start_time": "2022-07-01T07:15:30.364Z"
   },
   {
    "duration": 97,
    "start_time": "2022-07-01T07:15:30.387Z"
   },
   {
    "duration": 8496,
    "start_time": "2022-07-01T07:15:30.487Z"
   },
   {
    "duration": 310,
    "start_time": "2022-07-01T07:15:38.985Z"
   },
   {
    "duration": 303,
    "start_time": "2022-07-01T07:15:39.298Z"
   },
   {
    "duration": 34,
    "start_time": "2022-07-01T07:15:39.603Z"
   },
   {
    "duration": 27,
    "start_time": "2022-07-01T07:15:39.638Z"
   },
   {
    "duration": 1274,
    "start_time": "2022-07-01T07:15:39.667Z"
   },
   {
    "duration": 2420,
    "start_time": "2022-07-01T07:15:40.943Z"
   },
   {
    "duration": 525,
    "start_time": "2022-07-01T07:15:43.365Z"
   },
   {
    "duration": 48,
    "start_time": "2022-07-01T07:15:43.892Z"
   },
   {
    "duration": 18,
    "start_time": "2022-07-01T07:15:43.942Z"
   },
   {
    "duration": 2097,
    "start_time": "2022-07-01T07:15:43.962Z"
   },
   {
    "duration": 36,
    "start_time": "2022-07-01T07:15:46.060Z"
   },
   {
    "duration": 39,
    "start_time": "2022-07-01T07:15:46.098Z"
   },
   {
    "duration": 3,
    "start_time": "2022-07-01T07:15:46.141Z"
   },
   {
    "duration": 18,
    "start_time": "2022-07-01T07:15:46.146Z"
   },
   {
    "duration": 22,
    "start_time": "2022-07-01T07:15:46.165Z"
   },
   {
    "duration": 11,
    "start_time": "2022-07-01T07:15:46.188Z"
   },
   {
    "duration": 13,
    "start_time": "2022-07-01T07:15:46.200Z"
   },
   {
    "duration": 1158,
    "start_time": "2022-07-04T13:45:28.122Z"
   },
   {
    "duration": 3,
    "start_time": "2022-07-04T13:45:29.282Z"
   },
   {
    "duration": 2312,
    "start_time": "2022-07-04T13:45:29.290Z"
   },
   {
    "duration": 6,
    "start_time": "2022-07-04T13:45:31.604Z"
   },
   {
    "duration": 25,
    "start_time": "2022-07-04T13:45:31.611Z"
   },
   {
    "duration": 49,
    "start_time": "2022-07-04T13:45:31.638Z"
   },
   {
    "duration": 30,
    "start_time": "2022-07-04T13:45:31.692Z"
   },
   {
    "duration": 26,
    "start_time": "2022-07-04T13:45:31.724Z"
   },
   {
    "duration": 14,
    "start_time": "2022-07-04T13:45:31.752Z"
   },
   {
    "duration": 163,
    "start_time": "2022-07-04T13:45:31.791Z"
   },
   {
    "duration": 138,
    "start_time": "2022-07-04T13:45:31.955Z"
   },
   {
    "duration": 17,
    "start_time": "2022-07-04T13:45:32.095Z"
   },
   {
    "duration": 45,
    "start_time": "2022-07-04T13:45:32.114Z"
   },
   {
    "duration": 31,
    "start_time": "2022-07-04T13:45:32.161Z"
   },
   {
    "duration": 14,
    "start_time": "2022-07-04T13:45:32.193Z"
   },
   {
    "duration": 36,
    "start_time": "2022-07-04T13:45:32.209Z"
   },
   {
    "duration": 45,
    "start_time": "2022-07-04T13:45:32.247Z"
   },
   {
    "duration": 37,
    "start_time": "2022-07-04T13:45:32.294Z"
   },
   {
    "duration": 8,
    "start_time": "2022-07-04T13:45:32.333Z"
   },
   {
    "duration": 799,
    "start_time": "2022-07-04T13:45:32.342Z"
   },
   {
    "duration": 19,
    "start_time": "2022-07-04T13:45:33.143Z"
   },
   {
    "duration": 23,
    "start_time": "2022-07-04T13:45:33.163Z"
   },
   {
    "duration": 7,
    "start_time": "2022-07-04T13:45:33.187Z"
   },
   {
    "duration": 522,
    "start_time": "2022-07-04T13:45:33.195Z"
   },
   {
    "duration": 20,
    "start_time": "2022-07-04T13:45:33.718Z"
   },
   {
    "duration": 14,
    "start_time": "2022-07-04T13:45:33.739Z"
   },
   {
    "duration": 6,
    "start_time": "2022-07-04T13:45:33.755Z"
   },
   {
    "duration": 542,
    "start_time": "2022-07-04T13:45:33.764Z"
   },
   {
    "duration": 21,
    "start_time": "2022-07-04T13:45:34.308Z"
   },
   {
    "duration": 83,
    "start_time": "2022-07-04T13:45:34.330Z"
   },
   {
    "duration": 7882,
    "start_time": "2022-07-04T13:45:34.415Z"
   },
   {
    "duration": 243,
    "start_time": "2022-07-04T13:45:42.299Z"
   },
   {
    "duration": 265,
    "start_time": "2022-07-04T13:45:42.543Z"
   },
   {
    "duration": 21,
    "start_time": "2022-07-04T13:45:42.809Z"
   },
   {
    "duration": 32,
    "start_time": "2022-07-04T13:45:42.832Z"
   },
   {
    "duration": 1090,
    "start_time": "2022-07-04T13:45:42.866Z"
   },
   {
    "duration": 1970,
    "start_time": "2022-07-04T13:45:43.958Z"
   },
   {
    "duration": 444,
    "start_time": "2022-07-04T13:45:45.930Z"
   },
   {
    "duration": 35,
    "start_time": "2022-07-04T13:45:46.376Z"
   },
   {
    "duration": 21,
    "start_time": "2022-07-04T13:45:46.412Z"
   },
   {
    "duration": 1818,
    "start_time": "2022-07-04T13:45:46.434Z"
   },
   {
    "duration": 50,
    "start_time": "2022-07-04T13:45:48.253Z"
   },
   {
    "duration": 14,
    "start_time": "2022-07-04T13:45:48.305Z"
   },
   {
    "duration": 7,
    "start_time": "2022-07-04T13:45:48.320Z"
   },
   {
    "duration": 4,
    "start_time": "2022-07-04T13:45:48.328Z"
   },
   {
    "duration": 25,
    "start_time": "2022-07-04T13:45:48.334Z"
   },
   {
    "duration": 18,
    "start_time": "2022-07-04T13:45:48.361Z"
   },
   {
    "duration": 10,
    "start_time": "2022-07-04T13:45:48.391Z"
   },
   {
    "duration": 15,
    "start_time": "2022-07-04T13:45:48.402Z"
   }
  ],
  "kernelspec": {
   "display_name": "Python 3",
   "language": "python",
   "name": "python3"
  },
  "language_info": {
   "codemirror_mode": {
    "name": "ipython",
    "version": 3
   },
   "file_extension": ".py",
   "mimetype": "text/x-python",
   "name": "python",
   "nbconvert_exporter": "python",
   "pygments_lexer": "ipython3",
   "version": "3.8.8"
  },
  "toc": {
   "base_numbering": 1,
   "nav_menu": {},
   "number_sections": true,
   "sideBar": true,
   "skip_h1_title": false,
   "title_cell": "Table of Contents",
   "title_sidebar": "Contents",
   "toc_cell": false,
   "toc_position": {
    "height": "calc(100% - 180px)",
    "left": "10px",
    "top": "150px",
    "width": "349.047px"
   },
   "toc_section_display": true,
   "toc_window_display": true
  }
 },
 "nbformat": 4,
 "nbformat_minor": 5
}
