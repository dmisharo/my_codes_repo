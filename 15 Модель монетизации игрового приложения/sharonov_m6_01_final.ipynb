{
 "cells": [
  {
   "cell_type": "markdown",
   "id": "c0528d72",
   "metadata": {},
   "source": [
    "<font size = 6> Модель монетизации игрового приложения</font>"
   ]
  },
  {
   "cell_type": "markdown",
   "id": "f09178c2",
   "metadata": {},
   "source": [
    "## Описание проекта"
   ]
  },
  {
   "cell_type": "markdown",
   "id": "9af11d9e",
   "metadata": {},
   "source": [
    "Многие игры зарабатывают с помощью рекламы. И все они сталкиваются с противоречием:\n",
    "- Пользователь разозлится и уйдёт, если начать показывать ему рекламу раньше, чем игра его затянет.\n",
    "- Но  чем позже создатели игры включат рекламу, тем меньше они заработают.\n",
    "\n",
    "**Задача:** Сформировать модель монетизации игрового приложения.\n",
    "\n",
    "Пока создатели игры планируют зарабатывать с помощью рекламы и показывать её на экране выбором постройки.\n",
    "\n",
    "Зная расходы на продвижение игры, необходимо рассчитать её окупаемость при разных сценариях.\n",
    "\n",
    "\n",
    "**Описание данных**  \n",
    "Основной датасет *game_actions.csv*:\n",
    "\n",
    "- `event_datetime` — время события;\n",
    "- `event` — одно из трёх событий:\n",
    "    1. building — объект построен,\n",
    "    2. finished_stage_1 — первый уровень завершён,\n",
    "    3. project — проект завершён;\n",
    "- `building_type` — один из трёх типов здания:\n",
    "    1. assembly_shop — сборочный цех,\n",
    "    2. spaceport — космопорт,\n",
    "    3. research_center — исследовательский центр;\n",
    "- `user_i` — идентификатор пользователя;\n",
    "- `project_type` — тип реализованного проекта;\n",
    "\n",
    "Датасеты с информацией о рекламных активностях.\n",
    "\n",
    "Датасет *ad_cost.csv* :\n",
    "\n",
    "- `day` - день, в который был совершен клик по объявлению\n",
    "- `source` - источник трафика\n",
    "- `cost` - стоимость кликов\n",
    "\n",
    "Датасет *user_source.csv* :\n",
    "\n",
    "- `user_id` - идентификатор пользователя\n",
    "- `source` - источников, с которого пришёл пользователь, установивший приложение"
   ]
  },
  {
   "cell_type": "markdown",
   "id": "3f84de16",
   "metadata": {},
   "source": [
    "## Получение данных"
   ]
  },
  {
   "cell_type": "code",
   "execution_count": 1,
   "id": "6579f1cd",
   "metadata": {},
   "outputs": [],
   "source": [
    "# Импорт необходимых библиотек\n",
    "import pandas as pd\n",
    "from datetime import datetime\n",
    "from datetime import date\n",
    "from datetime import timedelta\n",
    "from io import BytesIO\n",
    "import requests\n",
    "import matplotlib.pyplot as plt\n",
    "import seaborn as sns\n",
    "# import numpy as np\n",
    "import scipy.stats as stats\n",
    "# from math import ceil\n",
    "from tqdm import tqdm"
   ]
  },
  {
   "cell_type": "code",
   "execution_count": 2,
   "id": "d90dd024",
   "metadata": {},
   "outputs": [],
   "source": [
    "# создадим словарь, где ключ - имя датасета, а значение - идентификатор таблицы на Google Disk\n",
    "files_list = {'game_actions' : '******', \n",
    "              'ad_costs' : '******', \n",
    "              'user_source' : '******'}"
   ]
  },
  {
   "cell_type": "code",
   "execution_count": 3,
   "id": "0c8559da",
   "metadata": {
    "scrolled": false
   },
   "outputs": [
    {
     "name": "stdout",
     "output_type": "stream",
     "text": [
      ">>>>>>>>>>>>>>>>>>>>>>>>>>>>>>>>>>>>>>>>>>>>>>>>>> game_actions\n",
      "<class 'pandas.core.frame.DataFrame'>\n",
      "RangeIndex: 135640 entries, 0 to 135639\n",
      "Data columns (total 5 columns):\n",
      " #   Column          Non-Null Count   Dtype \n",
      "---  ------          --------------   ----- \n",
      " 0   event_datetime  135640 non-null  object\n",
      " 1   event           135640 non-null  object\n",
      " 2   building_type   127957 non-null  object\n",
      " 3   user_id         135640 non-null  object\n",
      " 4   project_type    1866 non-null    object\n",
      "dtypes: object(5)\n",
      "memory usage: 5.2+ MB\n"
     ]
    },
    {
     "data": {
      "text/html": [
       "<div>\n",
       "<style scoped>\n",
       "    .dataframe tbody tr th:only-of-type {\n",
       "        vertical-align: middle;\n",
       "    }\n",
       "\n",
       "    .dataframe tbody tr th {\n",
       "        vertical-align: top;\n",
       "    }\n",
       "\n",
       "    .dataframe thead th {\n",
       "        text-align: right;\n",
       "    }\n",
       "</style>\n",
       "<table border=\"1\" class=\"dataframe\">\n",
       "  <thead>\n",
       "    <tr style=\"text-align: right;\">\n",
       "      <th></th>\n",
       "      <th>event_datetime</th>\n",
       "      <th>event</th>\n",
       "      <th>building_type</th>\n",
       "      <th>user_id</th>\n",
       "      <th>project_type</th>\n",
       "    </tr>\n",
       "  </thead>\n",
       "  <tbody>\n",
       "    <tr>\n",
       "      <th>0</th>\n",
       "      <td>2020-05-04 00:00:01</td>\n",
       "      <td>building</td>\n",
       "      <td>assembly_shop</td>\n",
       "      <td>55e92310-cb8e-4754-b622-597e124b03de</td>\n",
       "      <td>NaN</td>\n",
       "    </tr>\n",
       "    <tr>\n",
       "      <th>1</th>\n",
       "      <td>2020-05-04 00:00:03</td>\n",
       "      <td>building</td>\n",
       "      <td>assembly_shop</td>\n",
       "      <td>c07b1c10-f477-44dc-81dc-ec82254b1347</td>\n",
       "      <td>NaN</td>\n",
       "    </tr>\n",
       "  </tbody>\n",
       "</table>\n",
       "</div>"
      ],
      "text/plain": [
       "        event_datetime     event  building_type  \\\n",
       "0  2020-05-04 00:00:01  building  assembly_shop   \n",
       "1  2020-05-04 00:00:03  building  assembly_shop   \n",
       "\n",
       "                                user_id project_type  \n",
       "0  55e92310-cb8e-4754-b622-597e124b03de          NaN  \n",
       "1  c07b1c10-f477-44dc-81dc-ec82254b1347          NaN  "
      ]
     },
     "metadata": {},
     "output_type": "display_data"
    },
    {
     "name": "stdout",
     "output_type": "stream",
     "text": [
      "\n",
      ">>>>>>>>>>>>>>>>>>>>>>>>>>>>>>>>>>>>>>>>>>>>>>>>>> ad_costs\n",
      "<class 'pandas.core.frame.DataFrame'>\n",
      "RangeIndex: 28 entries, 0 to 27\n",
      "Data columns (total 3 columns):\n",
      " #   Column  Non-Null Count  Dtype  \n",
      "---  ------  --------------  -----  \n",
      " 0   source  28 non-null     object \n",
      " 1   day     28 non-null     object \n",
      " 2   cost    28 non-null     float64\n",
      "dtypes: float64(1), object(2)\n",
      "memory usage: 800.0+ bytes\n"
     ]
    },
    {
     "data": {
      "text/html": [
       "<div>\n",
       "<style scoped>\n",
       "    .dataframe tbody tr th:only-of-type {\n",
       "        vertical-align: middle;\n",
       "    }\n",
       "\n",
       "    .dataframe tbody tr th {\n",
       "        vertical-align: top;\n",
       "    }\n",
       "\n",
       "    .dataframe thead th {\n",
       "        text-align: right;\n",
       "    }\n",
       "</style>\n",
       "<table border=\"1\" class=\"dataframe\">\n",
       "  <thead>\n",
       "    <tr style=\"text-align: right;\">\n",
       "      <th></th>\n",
       "      <th>source</th>\n",
       "      <th>day</th>\n",
       "      <th>cost</th>\n",
       "    </tr>\n",
       "  </thead>\n",
       "  <tbody>\n",
       "    <tr>\n",
       "      <th>0</th>\n",
       "      <td>facebook_ads</td>\n",
       "      <td>2020-05-03</td>\n",
       "      <td>935.882786</td>\n",
       "    </tr>\n",
       "    <tr>\n",
       "      <th>1</th>\n",
       "      <td>facebook_ads</td>\n",
       "      <td>2020-05-04</td>\n",
       "      <td>548.354480</td>\n",
       "    </tr>\n",
       "  </tbody>\n",
       "</table>\n",
       "</div>"
      ],
      "text/plain": [
       "         source         day        cost\n",
       "0  facebook_ads  2020-05-03  935.882786\n",
       "1  facebook_ads  2020-05-04  548.354480"
      ]
     },
     "metadata": {},
     "output_type": "display_data"
    },
    {
     "name": "stdout",
     "output_type": "stream",
     "text": [
      "\n",
      ">>>>>>>>>>>>>>>>>>>>>>>>>>>>>>>>>>>>>>>>>>>>>>>>>> user_source\n",
      "<class 'pandas.core.frame.DataFrame'>\n",
      "RangeIndex: 13576 entries, 0 to 13575\n",
      "Data columns (total 2 columns):\n",
      " #   Column   Non-Null Count  Dtype \n",
      "---  ------   --------------  ----- \n",
      " 0   user_id  13576 non-null  object\n",
      " 1   source   13576 non-null  object\n",
      "dtypes: object(2)\n",
      "memory usage: 212.2+ KB\n"
     ]
    },
    {
     "data": {
      "text/html": [
       "<div>\n",
       "<style scoped>\n",
       "    .dataframe tbody tr th:only-of-type {\n",
       "        vertical-align: middle;\n",
       "    }\n",
       "\n",
       "    .dataframe tbody tr th {\n",
       "        vertical-align: top;\n",
       "    }\n",
       "\n",
       "    .dataframe thead th {\n",
       "        text-align: right;\n",
       "    }\n",
       "</style>\n",
       "<table border=\"1\" class=\"dataframe\">\n",
       "  <thead>\n",
       "    <tr style=\"text-align: right;\">\n",
       "      <th></th>\n",
       "      <th>user_id</th>\n",
       "      <th>source</th>\n",
       "    </tr>\n",
       "  </thead>\n",
       "  <tbody>\n",
       "    <tr>\n",
       "      <th>0</th>\n",
       "      <td>0001f83c-c6ac-4621-b7f0-8a28b283ac30</td>\n",
       "      <td>facebook_ads</td>\n",
       "    </tr>\n",
       "    <tr>\n",
       "      <th>1</th>\n",
       "      <td>00151b4f-ba38-44a8-a650-d7cf130a0105</td>\n",
       "      <td>yandex_direct</td>\n",
       "    </tr>\n",
       "  </tbody>\n",
       "</table>\n",
       "</div>"
      ],
      "text/plain": [
       "                                user_id         source\n",
       "0  0001f83c-c6ac-4621-b7f0-8a28b283ac30   facebook_ads\n",
       "1  00151b4f-ba38-44a8-a650-d7cf130a0105  yandex_direct"
      ]
     },
     "metadata": {},
     "output_type": "display_data"
    },
    {
     "name": "stdout",
     "output_type": "stream",
     "text": [
      "\n"
     ]
    }
   ],
   "source": [
    "# Читаем данные и выводим название, info и первые 2 строки\n",
    "for df_name in files_list:\n",
    "    \n",
    "    try:\n",
    "        globals()[df_name] = pd.read_csv(df_name + \".csv\")\n",
    "    except FileNotFoundError:\n",
    "        spreadsheet_id = files_list[df_name]\n",
    "        file_name = 'https://docs.google.com/spreadsheets/d/{}/export?format=csv'.format(spreadsheet_id)\n",
    "        r = requests.get(file_name)\n",
    "        globals()[df_name] = pd.read_csv(BytesIO(r.content))\n",
    "                  \n",
    "    print(50*'>', df_name)\n",
    "    globals()[df_name].info()\n",
    "    display(globals()[df_name].head(2))\n",
    "    print()"
   ]
  },
  {
   "cell_type": "markdown",
   "id": "8b99da1b",
   "metadata": {},
   "source": [
    "**Выводы**  \n",
    "- game_actions 135640 записей, пропуски в столбцах `building_type` и `project_type` обусловлены ограниченныи числом значений категориальных переменных. Тип строения может быть только у события постройка, а тип проекта по условию только один и может быть только у проекта, требуется изменение типа по столбцу `event_datetime`\n",
    "- ad_costs 28 записей, пропуски отсутствуют, требуется изменение типа по столбцу `day`\n",
    "- user_source 13576 записей, пропуски отсутствуют, изменение типа данных не требуется"
   ]
  },
  {
   "cell_type": "markdown",
   "id": "6206000a",
   "metadata": {},
   "source": [
    "## Предобработка данных"
   ]
  },
  {
   "cell_type": "markdown",
   "id": "bc7b2977",
   "metadata": {},
   "source": [
    "### Датасет `game_actions`"
   ]
  },
  {
   "cell_type": "markdown",
   "id": "2e638d5e",
   "metadata": {},
   "source": [
    "Проверим доступные сзначения столбцов `event`, `building_type`, `project_type`"
   ]
  },
  {
   "cell_type": "code",
   "execution_count": 4,
   "id": "faf45e40",
   "metadata": {},
   "outputs": [
    {
     "data": {
      "text/plain": [
       "building            127957\n",
       "finished_stage_1      5817\n",
       "project               1866\n",
       "Name: event, dtype: int64"
      ]
     },
     "execution_count": 4,
     "metadata": {},
     "output_type": "execute_result"
    }
   ],
   "source": [
    "game_actions['event'].value_counts()"
   ]
  },
  {
   "cell_type": "code",
   "execution_count": 5,
   "id": "7fb3e79c",
   "metadata": {},
   "outputs": [
    {
     "data": {
      "text/plain": [
       "spaceport          59325\n",
       "assembly_shop      54494\n",
       "research_center    14138\n",
       "Name: building_type, dtype: int64"
      ]
     },
     "execution_count": 5,
     "metadata": {},
     "output_type": "execute_result"
    }
   ],
   "source": [
    "game_actions['building_type'].value_counts()"
   ]
  },
  {
   "cell_type": "code",
   "execution_count": 6,
   "id": "86122969",
   "metadata": {},
   "outputs": [
    {
     "data": {
      "text/plain": [
       "satellite_orbital_assembly    1866\n",
       "Name: project_type, dtype: int64"
      ]
     },
     "execution_count": 6,
     "metadata": {},
     "output_type": "execute_result"
    }
   ],
   "source": [
    "game_actions['project_type'].value_counts()"
   ]
  },
  {
   "cell_type": "markdown",
   "id": "c9a8bb50",
   "metadata": {},
   "source": [
    "Ошибок не выявлено"
   ]
  },
  {
   "cell_type": "markdown",
   "id": "923ef91a",
   "metadata": {},
   "source": [
    "Посмотрим у каких `event` есть пропуски в `building_type`"
   ]
  },
  {
   "cell_type": "code",
   "execution_count": 7,
   "id": "c791a025",
   "metadata": {},
   "outputs": [
    {
     "data": {
      "text/plain": [
       "array(['finished_stage_1', 'project'], dtype=object)"
      ]
     },
     "execution_count": 7,
     "metadata": {},
     "output_type": "execute_result"
    }
   ],
   "source": [
    "game_actions.loc[game_actions['building_type'].isna()]['event'].unique()"
   ]
  },
  {
   "cell_type": "markdown",
   "id": "66b9125e",
   "metadata": {},
   "source": [
    "Пропуски только у событий `finished_stage_1` и `project`. Данные корректны."
   ]
  },
  {
   "cell_type": "markdown",
   "id": "fe935ba1",
   "metadata": {},
   "source": [
    "Посмотрим у каких `event` есть пропуски в `project_type`"
   ]
  },
  {
   "cell_type": "code",
   "execution_count": 8,
   "id": "38249910",
   "metadata": {},
   "outputs": [
    {
     "data": {
      "text/plain": [
       "array(['building', 'finished_stage_1'], dtype=object)"
      ]
     },
     "execution_count": 8,
     "metadata": {},
     "output_type": "execute_result"
    }
   ],
   "source": [
    "game_actions.loc[game_actions['project_type'].isna()]['event'].unique()"
   ]
  },
  {
   "cell_type": "markdown",
   "id": "41b8a91c",
   "metadata": {},
   "source": [
    "Пропуски только у событий `building` и `finished_stage_1`. Данные корректны."
   ]
  },
  {
   "cell_type": "markdown",
   "id": "6637ea0c",
   "metadata": {},
   "source": [
    "Проверим дубликаты"
   ]
  },
  {
   "cell_type": "code",
   "execution_count": 9,
   "id": "ced7bfec",
   "metadata": {},
   "outputs": [
    {
     "data": {
      "text/plain": [
       "1"
      ]
     },
     "execution_count": 9,
     "metadata": {},
     "output_type": "execute_result"
    }
   ],
   "source": [
    "game_actions.duplicated().sum()"
   ]
  },
  {
   "cell_type": "markdown",
   "id": "95f051dc",
   "metadata": {},
   "source": [
    "Найден 1 думликат. Посмотрим на него."
   ]
  },
  {
   "cell_type": "code",
   "execution_count": 10,
   "id": "98a18265",
   "metadata": {},
   "outputs": [
    {
     "data": {
      "text/html": [
       "<div>\n",
       "<style scoped>\n",
       "    .dataframe tbody tr th:only-of-type {\n",
       "        vertical-align: middle;\n",
       "    }\n",
       "\n",
       "    .dataframe tbody tr th {\n",
       "        vertical-align: top;\n",
       "    }\n",
       "\n",
       "    .dataframe thead th {\n",
       "        text-align: right;\n",
       "    }\n",
       "</style>\n",
       "<table border=\"1\" class=\"dataframe\">\n",
       "  <thead>\n",
       "    <tr style=\"text-align: right;\">\n",
       "      <th></th>\n",
       "      <th>event_datetime</th>\n",
       "      <th>event</th>\n",
       "      <th>building_type</th>\n",
       "      <th>user_id</th>\n",
       "      <th>project_type</th>\n",
       "    </tr>\n",
       "  </thead>\n",
       "  <tbody>\n",
       "    <tr>\n",
       "      <th>74891</th>\n",
       "      <td>2020-05-10 18:41:56</td>\n",
       "      <td>building</td>\n",
       "      <td>research_center</td>\n",
       "      <td>c9af55d2-b0ae-4bb4-b3d5-f32aa9ac03af</td>\n",
       "      <td>NaN</td>\n",
       "    </tr>\n",
       "  </tbody>\n",
       "</table>\n",
       "</div>"
      ],
      "text/plain": [
       "            event_datetime     event    building_type  \\\n",
       "74891  2020-05-10 18:41:56  building  research_center   \n",
       "\n",
       "                                    user_id project_type  \n",
       "74891  c9af55d2-b0ae-4bb4-b3d5-f32aa9ac03af          NaN  "
      ]
     },
     "execution_count": 10,
     "metadata": {},
     "output_type": "execute_result"
    }
   ],
   "source": [
    "game_actions.loc[game_actions.duplicated()]"
   ]
  },
  {
   "cell_type": "markdown",
   "id": "48ee3318",
   "metadata": {},
   "source": [
    "Выведем все записи с `event_datetime` = 2020-05-10 18:41:56"
   ]
  },
  {
   "cell_type": "code",
   "execution_count": 11,
   "id": "12a3c0dd",
   "metadata": {},
   "outputs": [
    {
     "data": {
      "text/html": [
       "<div>\n",
       "<style scoped>\n",
       "    .dataframe tbody tr th:only-of-type {\n",
       "        vertical-align: middle;\n",
       "    }\n",
       "\n",
       "    .dataframe tbody tr th {\n",
       "        vertical-align: top;\n",
       "    }\n",
       "\n",
       "    .dataframe thead th {\n",
       "        text-align: right;\n",
       "    }\n",
       "</style>\n",
       "<table border=\"1\" class=\"dataframe\">\n",
       "  <thead>\n",
       "    <tr style=\"text-align: right;\">\n",
       "      <th></th>\n",
       "      <th>event_datetime</th>\n",
       "      <th>event</th>\n",
       "      <th>building_type</th>\n",
       "      <th>user_id</th>\n",
       "      <th>project_type</th>\n",
       "    </tr>\n",
       "  </thead>\n",
       "  <tbody>\n",
       "    <tr>\n",
       "      <th>74890</th>\n",
       "      <td>2020-05-10 18:41:56</td>\n",
       "      <td>building</td>\n",
       "      <td>research_center</td>\n",
       "      <td>c9af55d2-b0ae-4bb4-b3d5-f32aa9ac03af</td>\n",
       "      <td>NaN</td>\n",
       "    </tr>\n",
       "    <tr>\n",
       "      <th>74891</th>\n",
       "      <td>2020-05-10 18:41:56</td>\n",
       "      <td>building</td>\n",
       "      <td>research_center</td>\n",
       "      <td>c9af55d2-b0ae-4bb4-b3d5-f32aa9ac03af</td>\n",
       "      <td>NaN</td>\n",
       "    </tr>\n",
       "  </tbody>\n",
       "</table>\n",
       "</div>"
      ],
      "text/plain": [
       "            event_datetime     event    building_type  \\\n",
       "74890  2020-05-10 18:41:56  building  research_center   \n",
       "74891  2020-05-10 18:41:56  building  research_center   \n",
       "\n",
       "                                    user_id project_type  \n",
       "74890  c9af55d2-b0ae-4bb4-b3d5-f32aa9ac03af          NaN  \n",
       "74891  c9af55d2-b0ae-4bb4-b3d5-f32aa9ac03af          NaN  "
      ]
     },
     "execution_count": 11,
     "metadata": {},
     "output_type": "execute_result"
    }
   ],
   "source": [
    "game_actions.query('event_datetime == \"2020-05-10 18:41:56\"')"
   ]
  },
  {
   "cell_type": "markdown",
   "id": "9e8e1d16",
   "metadata": {},
   "source": [
    "Идентичное действие для одного пользователя, индексы записей последовательны. Считаем программной ошибкой, дубликаат удаляем."
   ]
  },
  {
   "cell_type": "code",
   "execution_count": 12,
   "id": "90c4ed9a",
   "metadata": {},
   "outputs": [
    {
     "name": "stdout",
     "output_type": "stream",
     "text": [
      "<class 'pandas.core.frame.DataFrame'>\n",
      "RangeIndex: 135639 entries, 0 to 135638\n",
      "Data columns (total 5 columns):\n",
      " #   Column          Non-Null Count   Dtype \n",
      "---  ------          --------------   ----- \n",
      " 0   event_datetime  135639 non-null  object\n",
      " 1   event           135639 non-null  object\n",
      " 2   building_type   127956 non-null  object\n",
      " 3   user_id         135639 non-null  object\n",
      " 4   project_type    1866 non-null    object\n",
      "dtypes: object(5)\n",
      "memory usage: 5.2+ MB\n"
     ]
    }
   ],
   "source": [
    "game_actions = game_actions.drop_duplicates().reset_index(drop=True)\n",
    "# проверка\n",
    "game_actions.info()"
   ]
  },
  {
   "cell_type": "markdown",
   "id": "e88ad845",
   "metadata": {},
   "source": [
    "Изменим тип данных для `event_datetime`"
   ]
  },
  {
   "cell_type": "code",
   "execution_count": 13,
   "id": "6b8de86d",
   "metadata": {},
   "outputs": [
    {
     "name": "stdout",
     "output_type": "stream",
     "text": [
      "<class 'pandas.core.frame.DataFrame'>\n",
      "RangeIndex: 135639 entries, 0 to 135638\n",
      "Data columns (total 5 columns):\n",
      " #   Column          Non-Null Count   Dtype         \n",
      "---  ------          --------------   -----         \n",
      " 0   event_datetime  135639 non-null  datetime64[ns]\n",
      " 1   event           135639 non-null  object        \n",
      " 2   building_type   127956 non-null  object        \n",
      " 3   user_id         135639 non-null  object        \n",
      " 4   project_type    1866 non-null    object        \n",
      "dtypes: datetime64[ns](1), object(4)\n",
      "memory usage: 5.2+ MB\n"
     ]
    }
   ],
   "source": [
    "game_actions['event_datetime'] = pd.to_datetime(game_actions['event_datetime'], format='%Y-%m-%d %H:%M:%S')\n",
    "# проверка\n",
    "game_actions.info()"
   ]
  },
  {
   "cell_type": "markdown",
   "id": "acdfdded",
   "metadata": {},
   "source": [
    "Проверим диапазон дат в датасете"
   ]
  },
  {
   "cell_type": "code",
   "execution_count": 14,
   "id": "c08fd2fd",
   "metadata": {},
   "outputs": [
    {
     "name": "stdout",
     "output_type": "stream",
     "text": [
      "Первая дата    : 2020-05-04 00:00:01\n",
      "Последняя дата : 2020-06-05 12:32:49\n"
     ]
    }
   ],
   "source": [
    "print('Первая дата    :', game_actions['event_datetime'].min())\n",
    "print('Последняя дата :', game_actions['event_datetime'].max())"
   ]
  },
  {
   "cell_type": "markdown",
   "id": "928f4136",
   "metadata": {},
   "source": [
    "### Датасет `ad_costs`"
   ]
  },
  {
   "cell_type": "markdown",
   "id": "a6a8fb97",
   "metadata": {},
   "source": [
    "Проверим доступные сзначения столбцов `source`"
   ]
  },
  {
   "cell_type": "code",
   "execution_count": 15,
   "id": "30b77e84",
   "metadata": {},
   "outputs": [
    {
     "data": {
      "text/plain": [
       "instagram_new_adverts      7\n",
       "youtube_channel_reklama    7\n",
       "yandex_direct              7\n",
       "facebook_ads               7\n",
       "Name: source, dtype: int64"
      ]
     },
     "execution_count": 15,
     "metadata": {},
     "output_type": "execute_result"
    }
   ],
   "source": [
    "ad_costs['source'].value_counts()"
   ]
  },
  {
   "cell_type": "markdown",
   "id": "1d6167f9",
   "metadata": {},
   "source": [
    "Проверим дубликаты"
   ]
  },
  {
   "cell_type": "code",
   "execution_count": 16,
   "id": "6bbaad9c",
   "metadata": {},
   "outputs": [
    {
     "data": {
      "text/plain": [
       "0"
      ]
     },
     "execution_count": 16,
     "metadata": {},
     "output_type": "execute_result"
    }
   ],
   "source": [
    "ad_costs.duplicated().sum()"
   ]
  },
  {
   "cell_type": "markdown",
   "id": "58d4cb61",
   "metadata": {},
   "source": [
    "Изменим тип данных для `event_datetime`"
   ]
  },
  {
   "cell_type": "code",
   "execution_count": 17,
   "id": "0fe36574",
   "metadata": {},
   "outputs": [
    {
     "name": "stdout",
     "output_type": "stream",
     "text": [
      "<class 'pandas.core.frame.DataFrame'>\n",
      "RangeIndex: 28 entries, 0 to 27\n",
      "Data columns (total 3 columns):\n",
      " #   Column  Non-Null Count  Dtype         \n",
      "---  ------  --------------  -----         \n",
      " 0   source  28 non-null     object        \n",
      " 1   day     28 non-null     datetime64[ns]\n",
      " 2   cost    28 non-null     float64       \n",
      "dtypes: datetime64[ns](1), float64(1), object(1)\n",
      "memory usage: 800.0+ bytes\n"
     ]
    }
   ],
   "source": [
    "ad_costs['day'] = pd.to_datetime(ad_costs['day'], format='%Y-%m-%d')\n",
    "# ad_costs['cost'] = ad_costs['cost'].astype(float)\n",
    "ad_costs.info()"
   ]
  },
  {
   "cell_type": "markdown",
   "id": "4f61e5ea",
   "metadata": {},
   "source": [
    "Проверим диапазон дат в датасете"
   ]
  },
  {
   "cell_type": "code",
   "execution_count": 18,
   "id": "0a6e695f",
   "metadata": {},
   "outputs": [
    {
     "name": "stdout",
     "output_type": "stream",
     "text": [
      "Первая дата    : 2020-05-03 00:00:00\n",
      "Последняя дата : 2020-05-09 00:00:00\n"
     ]
    }
   ],
   "source": [
    "print('Первая дата    :', ad_costs['day'].min())\n",
    "print('Последняя дата :', ad_costs['day'].max())"
   ]
  },
  {
   "cell_type": "markdown",
   "id": "38b1dddd",
   "metadata": {},
   "source": [
    "По условию, \"В датасетах содержатся данные первых пользователей приложения — когорты пользователей, которые начали пользоваться приложением в период с 4 по 10 мая включительно.\" Поэтому, полагаем, что в данных ошибка и они сдвинуты на день (подтверждено тимлидом). Скорректируем данные."
   ]
  },
  {
   "cell_type": "code",
   "execution_count": 19,
   "id": "fcfcedd6",
   "metadata": {},
   "outputs": [
    {
     "name": "stdout",
     "output_type": "stream",
     "text": [
      "Первая дата    : 2020-05-04 00:00:00\n",
      "Последняя дата : 2020-05-10 00:00:00\n"
     ]
    }
   ],
   "source": [
    "ad_costs['day'] = ad_costs['day'] + timedelta(days=1)\n",
    "# проверка\n",
    "print('Первая дата    :', ad_costs['day'].min())\n",
    "print('Последняя дата :', ad_costs['day'].max())"
   ]
  },
  {
   "cell_type": "markdown",
   "id": "5257e085",
   "metadata": {},
   "source": [
    "### Датасет `user_source`"
   ]
  },
  {
   "cell_type": "markdown",
   "id": "fa6742c9",
   "metadata": {},
   "source": [
    "Проверим доступные сзначения столбцов `source`"
   ]
  },
  {
   "cell_type": "code",
   "execution_count": 20,
   "id": "249aded8",
   "metadata": {},
   "outputs": [
    {
     "data": {
      "text/plain": [
       "yandex_direct              4817\n",
       "instagram_new_adverts      3347\n",
       "facebook_ads               2726\n",
       "youtube_channel_reklama    2686\n",
       "Name: source, dtype: int64"
      ]
     },
     "execution_count": 20,
     "metadata": {},
     "output_type": "execute_result"
    }
   ],
   "source": [
    "user_source['source'].value_counts()"
   ]
  },
  {
   "cell_type": "markdown",
   "id": "0ef97bf0",
   "metadata": {},
   "source": [
    "Проверим дубликаты"
   ]
  },
  {
   "cell_type": "code",
   "execution_count": 21,
   "id": "037cac23",
   "metadata": {},
   "outputs": [
    {
     "data": {
      "text/plain": [
       "0"
      ]
     },
     "execution_count": 21,
     "metadata": {},
     "output_type": "execute_result"
    }
   ],
   "source": [
    "user_source.duplicated().sum()"
   ]
  },
  {
   "cell_type": "markdown",
   "id": "07262d96",
   "metadata": {},
   "source": [
    "Замена типов данных не требуется."
   ]
  },
  {
   "cell_type": "markdown",
   "id": "9e7d8668",
   "metadata": {},
   "source": [
    "**Выводы** Данные подготовлены для анализа. Произведена проверка, обработка пропусков, удаление дубликатов, изменение типа, корректировка."
   ]
  },
  {
   "cell_type": "markdown",
   "id": "99aed238",
   "metadata": {},
   "source": [
    "## Исследовательский анализ данных"
   ]
  },
  {
   "cell_type": "markdown",
   "id": "12c9c867",
   "metadata": {},
   "source": [
    "###  Структура игроков"
   ]
  },
  {
   "cell_type": "code",
   "execution_count": 22,
   "id": "cbc7e525",
   "metadata": {},
   "outputs": [
    {
     "data": {
      "text/plain": [
       "13576"
      ]
     },
     "execution_count": 22,
     "metadata": {},
     "output_type": "execute_result"
    }
   ],
   "source": [
    "# число уникальных пользователей\n",
    "total_users = game_actions['user_id'].nunique()\n",
    "total_users"
   ]
  },
  {
   "cell_type": "code",
   "execution_count": 23,
   "id": "f771374e",
   "metadata": {},
   "outputs": [
    {
     "data": {
      "text/plain": [
       "5817"
      ]
     },
     "execution_count": 23,
     "metadata": {},
     "output_type": "execute_result"
    }
   ],
   "source": [
    "# список пользователей завершивших первый уровень\n",
    "users_finished = game_actions.query('event == \"finished_stage_1\"')['user_id'].to_list()\n",
    "# число пользователей завершивших первый уровень\n",
    "st_com_users = len(users_finished)\n",
    "st_com_users"
   ]
  },
  {
   "cell_type": "code",
   "execution_count": 24,
   "id": "ee0196d0",
   "metadata": {},
   "outputs": [
    {
     "name": "stdout",
     "output_type": "stream",
     "text": [
      "Число пользователей реализовавших проект 1866\n",
      "Число пользователей реализовавших проект и завершивших уровень 1866\n"
     ]
    }
   ],
   "source": [
    "# список пользователей реализовавших проект\n",
    "users_with_project = game_actions.query('project_type == \"satellite_orbital_assembly\"')['user_id'].to_list()\n",
    "# список пользователей завершивших уровень победой\n",
    "users_finished_wo_project = (\n",
    "    game_actions.query('user_id not in @users_with_project and event == \"finished_stage_1\"')['user_id']).to_list()\n",
    "# число пользователей реализовавших проект (PvE)\n",
    "pve_users = len(users_with_project)\n",
    "print('Число пользователей реализовавших проект', pve_users)\n",
    "# число пользователей реализовавших проект и завершивших уровень\n",
    "print(\n",
    "    'Число пользователей реализовавших проект и завершивших уровень', \n",
    "    game_actions.query('user_id in @users_with_project and event == \"finished_stage_1\"')['user_id'].count())"
   ]
  },
  {
   "cell_type": "markdown",
   "id": "527f334a",
   "metadata": {},
   "source": [
    "Все пользователи реализовавшие проект, закончили уровень."
   ]
  },
  {
   "cell_type": "code",
   "execution_count": 25,
   "id": "80801706",
   "metadata": {},
   "outputs": [
    {
     "data": {
      "text/plain": [
       "3951"
      ]
     },
     "execution_count": 25,
     "metadata": {},
     "output_type": "execute_result"
    }
   ],
   "source": [
    "# число пользователей завершивших победой (PvP)\n",
    "pvp_users = st_com_users - pve_users\n",
    "pvp_users"
   ]
  },
  {
   "cell_type": "code",
   "execution_count": 26,
   "id": "6489f946",
   "metadata": {},
   "outputs": [
    {
     "data": {
      "image/png": "[encoded data removed]",
      "text/plain": [
       "<Figure size 504x504 with 1 Axes>"
      ]
     },
     "metadata": {},
     "output_type": "display_data"
    }
   ],
   "source": [
    "# визуализируем структуру игроков\n",
    "def make_autopct(values):\n",
    "    def my_autopct(pct):\n",
    "        total = sum(values)\n",
    "        val = int(round(pct*total/100.0))\n",
    "        return '{p:.2f}%\\n ({v:d})'.format(p=pct,v=val)\n",
    "    return my_autopct\n",
    "\n",
    "values = [total_users - st_com_users, pvp_users, pve_users]\n",
    "plt.figure(figsize=(7,7))\n",
    "plt.pie(\n",
    "    values, \n",
    "    labels = [\"Не завершили уровень\", \"Завершили уровень победой над врагом\", \"Завершили уровень реализацией проекта\"], \n",
    "    autopct = make_autopct(values))\n",
    "plt.title('Структура игроков', fontsize=14)\n",
    "plt.show()"
   ]
  },
  {
   "cell_type": "markdown",
   "id": "c0dac8c6",
   "metadata": {},
   "source": [
    "**Выводы** Из 13576 игроков около 43% (5817) завершили уровень. Доля игроков с PvE около 14%, а PvP - 29%"
   ]
  },
  {
   "cell_type": "markdown",
   "id": "362b3af1",
   "metadata": {},
   "source": [
    "### Распреседение игроков по числу событий"
   ]
  },
  {
   "cell_type": "code",
   "execution_count": 27,
   "id": "2f6d580f",
   "metadata": {},
   "outputs": [],
   "source": [
    "# функция для определения типа игрока: закончил уровень проектом, закончил уровень победой, не закончил уровень\n",
    "def us_type(user_id):\n",
    "    if user_id in users_with_project: return 'finished_pve'\n",
    "    elif user_id in users_finished_wo_project: return 'finished_pvp'\n",
    "    else: return 'not_finished'"
   ]
  },
  {
   "cell_type": "code",
   "execution_count": 28,
   "id": "b944c927",
   "metadata": {},
   "outputs": [
    {
     "name": "stderr",
     "output_type": "stream",
     "text": [
      "100%|██████████████████████████████████| 13576/13576 [00:04<00:00, 2976.60it/s]\n"
     ]
    },
    {
     "data": {
      "text/html": [
       "<div>\n",
       "<style scoped>\n",
       "    .dataframe tbody tr th:only-of-type {\n",
       "        vertical-align: middle;\n",
       "    }\n",
       "\n",
       "    .dataframe tbody tr th {\n",
       "        vertical-align: top;\n",
       "    }\n",
       "\n",
       "    .dataframe thead th {\n",
       "        text-align: right;\n",
       "    }\n",
       "</style>\n",
       "<table border=\"1\" class=\"dataframe\">\n",
       "  <thead>\n",
       "    <tr style=\"text-align: right;\">\n",
       "      <th></th>\n",
       "      <th>user_id</th>\n",
       "      <th>ev_no</th>\n",
       "      <th>user_type</th>\n",
       "    </tr>\n",
       "  </thead>\n",
       "  <tbody>\n",
       "    <tr>\n",
       "      <th>0</th>\n",
       "      <td>bf542075-e3a2-4e79-82d8-3838e86d2a25</td>\n",
       "      <td>22</td>\n",
       "      <td>finished_pve</td>\n",
       "    </tr>\n",
       "    <tr>\n",
       "      <th>1</th>\n",
       "      <td>ff841992-d93b-462e-bc6e-18c24a514f36</td>\n",
       "      <td>22</td>\n",
       "      <td>finished_pve</td>\n",
       "    </tr>\n",
       "  </tbody>\n",
       "</table>\n",
       "</div>"
      ],
      "text/plain": [
       "                                user_id  ev_no     user_type\n",
       "0  bf542075-e3a2-4e79-82d8-3838e86d2a25     22  finished_pve\n",
       "1  ff841992-d93b-462e-bc6e-18c24a514f36     22  finished_pve"
      ]
     },
     "execution_count": 28,
     "metadata": {},
     "output_type": "execute_result"
    }
   ],
   "source": [
    "# число событий по пользователям\n",
    "ev_by_users = game_actions['user_id'].value_counts().reset_index().rename(columns={'index':'user_id', 'user_id':'ev_no'})\n",
    "\n",
    "# дополнительный столбец с типом игрока  \n",
    "tqdm.pandas()\n",
    "ev_by_users['user_type'] = ev_by_users['user_id'].progress_apply(us_type)\n",
    "ev_by_users.head(2)"
   ]
  },
  {
   "cell_type": "code",
   "execution_count": 29,
   "id": "48b04b65",
   "metadata": {
    "scrolled": false
   },
   "outputs": [
    {
     "data": {
      "image/png": "[encoded data removed]",
      "text/plain": [
       "<Figure size 1080x864 with 4 Axes>"
      ]
     },
     "metadata": {
      "needs_background": "light"
     },
     "output_type": "display_data"
    }
   ],
   "source": [
    "# визуализируем\n",
    "fig42 = plt.figure(figsize=(15,12))\n",
    "ax1 = fig42.add_subplot(4,1,1)\n",
    "ax2 = fig42.add_subplot(4,1,2)\n",
    "ax3 = fig42.add_subplot(4,1,3)\n",
    "ax4 = fig42.add_subplot(4,1,4)\n",
    "\n",
    "sns.histplot(x='ev_no', data=ev_by_users.query('user_type == \"finished_pve\"'), bins=22, binwidth = 1, ax = ax1)\n",
    "ax1.set_title('Распределение игроков PvE завершивших уровень по числу событий', fontsize=14)\n",
    "ax1.set_xlabel('Число событий', fontsize=12)\n",
    "ax1.set_ylabel('Частота', fontsize=12)\n",
    "ax1.set_xticks([x for x in range(0, 22)])\n",
    "ax1.set_xlim(0, 22)\n",
    "\n",
    "sns.histplot(x='ev_no', data=ev_by_users.query('user_type == \"finished_pvp\"'), bins=22, binwidth = 1, ax = ax2)\n",
    "ax2.set_title('Распределение игроков PvР завершивших уровень по числу событий', fontsize=14)\n",
    "ax2.set_xlabel('Число событий', fontsize=12)\n",
    "ax2.set_ylabel('Частота', fontsize=12)\n",
    "ax2.set_xticks([x for x in range(0, 22)])\n",
    "ax2.set_xlim(0, 22)\n",
    "\n",
    "sns.histplot(x='ev_no', data=ev_by_users.query('user_type == \"not_finished\"'), bins=22, binwidth = 1, ax = ax3)\n",
    "ax3.set_title('Распределение игроков не завершивших уровень по числу событий', fontsize=14)\n",
    "ax3.set_xlabel('Число событий', fontsize=12)\n",
    "ax3.set_ylabel('Частота', fontsize=12)\n",
    "ax3.set_xticks([x for x in range(0, 22)])\n",
    "ax3.set_xlim(0, 22)\n",
    "\n",
    "sns.boxplot(x=\"ev_no\", y=\"user_type\", data=ev_by_users, ax = ax4)\n",
    "ax4.set_title('Распределение числа событий по типам игроков', fontsize=14)\n",
    "ax4.set_xlabel('Число событий', fontsize=12)\n",
    "ax4.set_ylabel('Тип игрока', fontsize=12)\n",
    "ax4.set_xticks([x for x in range(0, 22)])\n",
    "ax4.set_xlim(0, 22)\n",
    "\n",
    "fig42.tight_layout()"
   ]
  },
  {
   "cell_type": "markdown",
   "id": "42153513",
   "metadata": {},
   "source": [
    "**Выводы**\n",
    "- *PvE* От 12 жо 22 событий с медианой 14.\n",
    "- *PvP* От 3 до 20 событий с медианой 11.\n",
    "- *Игроки не завершившие уровень* От 1 до 20 событий с медианой 8. "
   ]
  },
  {
   "cell_type": "markdown",
   "id": "22eb79f8",
   "metadata": {},
   "source": [
    "Число событий по типам"
   ]
  },
  {
   "cell_type": "code",
   "execution_count": 30,
   "id": "18a7bf60",
   "metadata": {},
   "outputs": [
    {
     "data": {
      "image/png": "[encoded data removed]",
      "text/plain": [
       "<Figure size 1080x504 with 1 Axes>"
      ]
     },
     "metadata": {
      "needs_background": "light"
     },
     "output_type": "display_data"
    }
   ],
   "source": [
    "plt.figure(figsize=(15,7))\n",
    "sns.barplot(y='index', x='event', data=game_actions['event'].value_counts().reset_index(), color='cornflowerblue')\n",
    "plt.title('Число событий по типам', fontsize=14)\n",
    "plt.xlabel('Число событий', fontsize=12)\n",
    "plt.ylabel('Событие', fontsize=12)\n",
    "plt.show()"
   ]
  },
  {
   "cell_type": "markdown",
   "id": "a811493d",
   "metadata": {},
   "source": [
    "Большая доля всех событий - постройка"
   ]
  },
  {
   "cell_type": "markdown",
   "id": "d9c0ceaf",
   "metadata": {},
   "source": [
    "### Активность игроков по дням"
   ]
  },
  {
   "cell_type": "code",
   "execution_count": 31,
   "id": "2a4c2731",
   "metadata": {},
   "outputs": [],
   "source": [
    "# активность(число event) по дням\n",
    "game_actions['event_date'] = pd.DatetimeIndex(game_actions['event_datetime']).date"
   ]
  },
  {
   "cell_type": "code",
   "execution_count": 32,
   "id": "69f3bf0b",
   "metadata": {},
   "outputs": [
    {
     "data": {
      "image/png": "[encoded data removed]",
      "text/plain": [
       "<Figure size 1080x864 with 4 Axes>"
      ]
     },
     "metadata": {
      "needs_background": "light"
     },
     "output_type": "display_data"
    }
   ],
   "source": [
    "# визуализируем\n",
    "fig43 = plt.figure(figsize=(15,12))\n",
    "ax1 = fig43.add_subplot(4,1,1)\n",
    "ax2 = fig43.add_subplot(4,1,2)\n",
    "ax3 = fig43.add_subplot(4,1,3)\n",
    "ax4 = fig43.add_subplot(4,1,4)\n",
    "\n",
    "ax1.bar(\n",
    "    x = 'event_date', \n",
    "    height = 'user_id', \n",
    "    data = game_actions.groupby('event_date').agg({'user_id':'count'}).reset_index())\n",
    "ax1.set_title('Активность всех игроков', fontsize=14)\n",
    "ax1.set_xlabel('', fontsize=12)\n",
    "ax1.set_ylabel('Действий', fontsize=12)\n",
    "\n",
    "ax2.bar(\n",
    "    x = 'event_date', \n",
    "    height = 'user_id', \n",
    "    data = game_actions.query('user_id in @users_with_project').groupby('event_date').agg({'user_id':'count'}).reset_index())\n",
    "ax2.set_title('Активность игроков PvE', fontsize=14)\n",
    "ax2.set_xlabel('', fontsize=12)\n",
    "ax2.set_ylabel('Действий', fontsize=12)\n",
    "\n",
    "ax3.bar(\n",
    "    x = 'event_date', \n",
    "    height = 'user_id', \n",
    "    data = game_actions.query('user_id in @users_finished_wo_project').groupby('event_date').agg({'user_id':'count'}).reset_index())\n",
    "ax3.set_title('Активность игроков PvP', fontsize=14)\n",
    "ax3.set_xlabel('', fontsize=12)\n",
    "ax3.set_ylabel('Действий', fontsize=12)\n",
    "\n",
    "ax4.bar(\n",
    "    x = 'event_date', \n",
    "    height = 'user_id', \n",
    "    data = game_actions.query('user_id not in @users_finished').groupby('event_date').agg({'user_id':'count'}).reset_index())\n",
    "ax4.set_title('Активность игроков не завершивших уровень', fontsize=14)\n",
    "ax4.set_xlabel('', fontsize=12)\n",
    "ax4.set_ylabel('Действий', fontsize=12)\n",
    "\n",
    "fig43.tight_layout()"
   ]
  },
  {
   "cell_type": "markdown",
   "id": "10f14341",
   "metadata": {},
   "source": [
    "**Выводы** Активность игроков растёт в период рекламы (с 1 по 10 число) после чего затухает. Динамика активности в разрезе по типам игроков практически идентична. Стоит отметить, что дольше всего сохраняется ативность игроков PvP, вплоть до 05-06-2020."
   ]
  },
  {
   "cell_type": "markdown",
   "id": "b6f30d19",
   "metadata": {},
   "source": [
    "### Распределение игроков по числу построек"
   ]
  },
  {
   "cell_type": "code",
   "execution_count": 33,
   "id": "d670d547",
   "metadata": {},
   "outputs": [
    {
     "data": {
      "text/plain": [
       "127956"
      ]
     },
     "execution_count": 33,
     "metadata": {},
     "output_type": "execute_result"
    }
   ],
   "source": [
    "# всего запусков построек\n",
    "game_actions.query('event == \"building\"')['event'].count()"
   ]
  },
  {
   "cell_type": "code",
   "execution_count": 34,
   "id": "9debe71f",
   "metadata": {},
   "outputs": [
    {
     "name": "stderr",
     "output_type": "stream",
     "text": [
      "100%|██████████████████████████████████| 13576/13576 [00:04<00:00, 3173.02it/s]\n"
     ]
    },
    {
     "data": {
      "text/html": [
       "<div>\n",
       "<style scoped>\n",
       "    .dataframe tbody tr th:only-of-type {\n",
       "        vertical-align: middle;\n",
       "    }\n",
       "\n",
       "    .dataframe tbody tr th {\n",
       "        vertical-align: top;\n",
       "    }\n",
       "\n",
       "    .dataframe thead th {\n",
       "        text-align: right;\n",
       "    }\n",
       "</style>\n",
       "<table border=\"1\" class=\"dataframe\">\n",
       "  <thead>\n",
       "    <tr style=\"text-align: right;\">\n",
       "      <th></th>\n",
       "      <th>user_id</th>\n",
       "      <th>bl_no</th>\n",
       "      <th>user_type</th>\n",
       "    </tr>\n",
       "  </thead>\n",
       "  <tbody>\n",
       "    <tr>\n",
       "      <th>0</th>\n",
       "      <td>b8a01939-eb2d-4021-a1fb-c3f2a52fa176</td>\n",
       "      <td>20</td>\n",
       "      <td>not_finished</td>\n",
       "    </tr>\n",
       "    <tr>\n",
       "      <th>1</th>\n",
       "      <td>a5add3ce-1ac4-4b97-aba0-f040efc4c1b0</td>\n",
       "      <td>20</td>\n",
       "      <td>not_finished</td>\n",
       "    </tr>\n",
       "  </tbody>\n",
       "</table>\n",
       "</div>"
      ],
      "text/plain": [
       "                                user_id  bl_no     user_type\n",
       "0  b8a01939-eb2d-4021-a1fb-c3f2a52fa176     20  not_finished\n",
       "1  a5add3ce-1ac4-4b97-aba0-f040efc4c1b0     20  not_finished"
      ]
     },
     "execution_count": 34,
     "metadata": {},
     "output_type": "execute_result"
    }
   ],
   "source": [
    "# число событий по пользователям\n",
    "bl_by_users = (\n",
    "    game_actions.query('event == \"building\"')['user_id']\n",
    "    .value_counts()\n",
    "    .reset_index()\n",
    "    .rename(columns={'index':'user_id', 'user_id':'bl_no'}))\n",
    "\n",
    "# дополнительный столбец с типом игрока  \n",
    "tqdm.pandas()\n",
    "bl_by_users['user_type'] = bl_by_users['user_id'].progress_apply(us_type)\n",
    "bl_by_users.head(2)"
   ]
  },
  {
   "cell_type": "code",
   "execution_count": 35,
   "id": "d58c4605",
   "metadata": {
    "scrolled": false
   },
   "outputs": [
    {
     "data": {
      "image/png": "[encoded data removed]",
      "text/plain": [
       "<Figure size 1080x864 with 4 Axes>"
      ]
     },
     "metadata": {
      "needs_background": "light"
     },
     "output_type": "display_data"
    }
   ],
   "source": [
    "# визуализируем\n",
    "fig42 = plt.figure(figsize=(15,12))\n",
    "ax1 = fig42.add_subplot(4,1,1)\n",
    "ax2 = fig42.add_subplot(4,1,2)\n",
    "ax3 = fig42.add_subplot(4,1,3)\n",
    "ax4 = fig42.add_subplot(4,1,4)\n",
    "\n",
    "sns.histplot(x='bl_no', data=bl_by_users.query('user_type == \"finished_pve\"'), bins=22, binwidth = 1, ax = ax1)\n",
    "ax1.set_title('Распределение игроков PvE завершивших уровень по числу построек', fontsize=14)\n",
    "ax1.set_xlabel('Число построек', fontsize=12)\n",
    "ax1.set_ylabel('Частота', fontsize=12)\n",
    "ax1.set_xticks([x for x in range(0, 22)])\n",
    "ax1.set_xlim(0, 22)\n",
    "\n",
    "sns.histplot(x='bl_no', data=bl_by_users.query('user_type == \"finished_pvp\"'), bins=22, binwidth = 1, ax = ax2)\n",
    "ax2.set_title('Распределение игроков PvР завершивших уровень по числу построек', fontsize=14)\n",
    "ax2.set_xlabel('Число построек', fontsize=12)\n",
    "ax2.set_ylabel('Частота', fontsize=12)\n",
    "ax2.set_xticks([x for x in range(0, 22)])\n",
    "ax2.set_xlim(0, 22)\n",
    "\n",
    "sns.histplot(x='bl_no', data=bl_by_users.query('user_type == \"not_finished\"'), bins=22, binwidth = 1, ax = ax3)\n",
    "ax3.set_title('Распределение игроков не завершивших уровень по числу построек', fontsize=14)\n",
    "ax3.set_xlabel('Число построек', fontsize=12)\n",
    "ax3.set_ylabel('Частота', fontsize=12)\n",
    "ax3.set_xticks([x for x in range(0, 22)])\n",
    "ax3.set_xlim(0, 22)\n",
    "\n",
    "sns.boxplot(x=\"bl_no\", y=\"user_type\", data=bl_by_users, ax = ax4)\n",
    "ax4.set_title('Распределение числа построек по типам игроков', fontsize=14)\n",
    "ax4.set_xlabel('Число построек', fontsize=12)\n",
    "ax4.set_ylabel('Тип игрока', fontsize=12)\n",
    "ax4.set_xticks([x for x in range(0, 22)])\n",
    "ax4.set_xlim(0, 22)\n",
    "\n",
    "fig42.tight_layout()"
   ]
  },
  {
   "cell_type": "markdown",
   "id": "38bbbb66",
   "metadata": {},
   "source": [
    "**Выводы**\n",
    "- *PvE* от 10 до 18 построек с медианой 12 и двумя выбросами, 19 и 20.\n",
    "- *PvP* от 2 до 18 построек с медианой 10 и выбросом 19. Диаграмма размаха симметрична.\n",
    "- *Игроки не завершившие уровень* от 1 до 20 построек с медианой 8. \n",
    "Для групп, кроме PvE характерен \"провал\" по числу игроков с 7 постройками. Разница между числом игроков с 6 и 7 постройками почти в четырехкратная. Более 25% игроков не завершивших уровень и завершивших уровень PvP, потенциально могли его завершить стратегией PvE, так как у таких игроков более 12 построек, что выше медианного значения числа построек игроков, завершивших уровень PvE. 25% игроков не завершивших уровень имели столько же построек, сколько 50% завершивших уровень PvP."
   ]
  },
  {
   "cell_type": "code",
   "execution_count": 36,
   "id": "2d7c1598",
   "metadata": {},
   "outputs": [
    {
     "data": {
      "image/png": "[encoded data removed]",
      "text/plain": [
       "<Figure size 1080x864 with 2 Axes>"
      ]
     },
     "metadata": {
      "needs_background": "light"
     },
     "output_type": "display_data"
    }
   ],
   "source": [
    "# число игроков по числу построек без разбивки по типу\n",
    "fig44 = plt.figure(figsize=(15,12))\n",
    "ax1 = fig44.add_subplot(2,1,1)\n",
    "ax2 = fig44.add_subplot(6,1,3)\n",
    "\n",
    "sns.histplot(\n",
    "    x=\"event\",\n",
    "    data=(\n",
    "        game_actions.query('event == \"building\"')\n",
    "        .groupby('user_id').agg({'event':'count'}).reset_index()\n",
    "         ),\n",
    "    binwidth = 1, \n",
    "    ax = ax1)\n",
    "ax1.set_title('Распределение игроков по числу построек', fontsize=14)\n",
    "ax1.set_xlabel('  ', fontsize=12)\n",
    "ax1.set_ylabel('', fontsize=12)\n",
    "ax1.set_xticks([x for x in range(0, 22)])\n",
    "\n",
    "sns.boxplot(\n",
    "    x=\"event\",\n",
    "    data=(\n",
    "        game_actions.query('event == \"building\"')\n",
    "        .groupby('user_id').agg({'event':'count'}).reset_index()\n",
    "         ),\n",
    "    ax = ax2)\n",
    "\n",
    "ax2.set_xlabel('Число построек', fontsize=12)\n",
    "ax2.set_ylabel('', fontsize=12)\n",
    "ax2.set_xticks([x for x in range(0, 22)])\n",
    "\n",
    "fig44.tight_layout()"
   ]
  },
  {
   "cell_type": "markdown",
   "id": "9bab1671",
   "metadata": {},
   "source": [
    "Все игроки хотя бы раз запускали постройку, 75% игроков делало это более 6 раз, а половина от 6 до 12 раз."
   ]
  },
  {
   "cell_type": "markdown",
   "id": "f249b18f",
   "metadata": {},
   "source": [
    "### Профили игроков"
   ]
  },
  {
   "cell_type": "code",
   "execution_count": 37,
   "id": "214a65f5",
   "metadata": {},
   "outputs": [
    {
     "data": {
      "text/html": [
       "<div>\n",
       "<style scoped>\n",
       "    .dataframe tbody tr th:only-of-type {\n",
       "        vertical-align: middle;\n",
       "    }\n",
       "\n",
       "    .dataframe tbody tr th {\n",
       "        vertical-align: top;\n",
       "    }\n",
       "\n",
       "    .dataframe thead th {\n",
       "        text-align: right;\n",
       "    }\n",
       "</style>\n",
       "<table border=\"1\" class=\"dataframe\">\n",
       "  <thead>\n",
       "    <tr style=\"text-align: right;\">\n",
       "      <th></th>\n",
       "      <th>user_id</th>\n",
       "      <th>event_datetime</th>\n",
       "      <th>source</th>\n",
       "    </tr>\n",
       "  </thead>\n",
       "  <tbody>\n",
       "    <tr>\n",
       "      <th>0</th>\n",
       "      <td>0001f83c-c6ac-4621-b7f0-8a28b283ac30</td>\n",
       "      <td>2020-05-06</td>\n",
       "      <td>facebook_ads</td>\n",
       "    </tr>\n",
       "    <tr>\n",
       "      <th>1</th>\n",
       "      <td>00151b4f-ba38-44a8-a650-d7cf130a0105</td>\n",
       "      <td>2020-05-06</td>\n",
       "      <td>yandex_direct</td>\n",
       "    </tr>\n",
       "    <tr>\n",
       "      <th>2</th>\n",
       "      <td>001aaea6-3d14-43f1-8ca8-7f48820f17aa</td>\n",
       "      <td>2020-05-05</td>\n",
       "      <td>youtube_channel_reklama</td>\n",
       "    </tr>\n",
       "    <tr>\n",
       "      <th>3</th>\n",
       "      <td>001d39dc-366c-4021-9604-6a3b9ff01e25</td>\n",
       "      <td>2020-05-05</td>\n",
       "      <td>instagram_new_adverts</td>\n",
       "    </tr>\n",
       "    <tr>\n",
       "      <th>4</th>\n",
       "      <td>002f508f-67b6-479f-814b-b05f00d4e995</td>\n",
       "      <td>2020-05-05</td>\n",
       "      <td>facebook_ads</td>\n",
       "    </tr>\n",
       "  </tbody>\n",
       "</table>\n",
       "</div>"
      ],
      "text/plain": [
       "                                user_id event_datetime  \\\n",
       "0  0001f83c-c6ac-4621-b7f0-8a28b283ac30     2020-05-06   \n",
       "1  00151b4f-ba38-44a8-a650-d7cf130a0105     2020-05-06   \n",
       "2  001aaea6-3d14-43f1-8ca8-7f48820f17aa     2020-05-05   \n",
       "3  001d39dc-366c-4021-9604-6a3b9ff01e25     2020-05-05   \n",
       "4  002f508f-67b6-479f-814b-b05f00d4e995     2020-05-05   \n",
       "\n",
       "                    source  \n",
       "0             facebook_ads  \n",
       "1            yandex_direct  \n",
       "2  youtube_channel_reklama  \n",
       "3    instagram_new_adverts  \n",
       "4             facebook_ads  "
      ]
     },
     "execution_count": 37,
     "metadata": {},
     "output_type": "execute_result"
    }
   ],
   "source": [
    "# создадим профили игроков\n",
    "# даты первого захода игрока\n",
    "profiles = game_actions.groupby('user_id').agg({'event_datetime':'min'}).reset_index()\n",
    "profiles['event_datetime'] = pd.DatetimeIndex(profiles['event_datetime']).date\n",
    "profiles = pd.merge(profiles, user_source, on='user_id')\n",
    "profiles.head()"
   ]
  },
  {
   "cell_type": "code",
   "execution_count": 38,
   "id": "a0f8e244",
   "metadata": {},
   "outputs": [
    {
     "data": {
      "text/html": [
       "<div>\n",
       "<style scoped>\n",
       "    .dataframe tbody tr th:only-of-type {\n",
       "        vertical-align: middle;\n",
       "    }\n",
       "\n",
       "    .dataframe tbody tr th {\n",
       "        vertical-align: top;\n",
       "    }\n",
       "\n",
       "    .dataframe thead th {\n",
       "        text-align: right;\n",
       "    }\n",
       "</style>\n",
       "<table border=\"1\" class=\"dataframe\">\n",
       "  <thead>\n",
       "    <tr style=\"text-align: right;\">\n",
       "      <th></th>\n",
       "      <th>user_id</th>\n",
       "    </tr>\n",
       "    <tr>\n",
       "      <th>event_datetime</th>\n",
       "      <th></th>\n",
       "    </tr>\n",
       "  </thead>\n",
       "  <tbody>\n",
       "    <tr>\n",
       "      <th>2020-05-04</th>\n",
       "      <td>5860</td>\n",
       "    </tr>\n",
       "    <tr>\n",
       "      <th>2020-05-05</th>\n",
       "      <td>3361</td>\n",
       "    </tr>\n",
       "    <tr>\n",
       "      <th>2020-05-06</th>\n",
       "      <td>1847</td>\n",
       "    </tr>\n",
       "    <tr>\n",
       "      <th>2020-05-07</th>\n",
       "      <td>1109</td>\n",
       "    </tr>\n",
       "    <tr>\n",
       "      <th>2020-05-08</th>\n",
       "      <td>688</td>\n",
       "    </tr>\n",
       "    <tr>\n",
       "      <th>2020-05-09</th>\n",
       "      <td>440</td>\n",
       "    </tr>\n",
       "    <tr>\n",
       "      <th>2020-05-10</th>\n",
       "      <td>271</td>\n",
       "    </tr>\n",
       "  </tbody>\n",
       "</table>\n",
       "</div>"
      ],
      "text/plain": [
       "                user_id\n",
       "event_datetime         \n",
       "2020-05-04         5860\n",
       "2020-05-05         3361\n",
       "2020-05-06         1847\n",
       "2020-05-07         1109\n",
       "2020-05-08          688\n",
       "2020-05-09          440\n",
       "2020-05-10          271"
      ]
     },
     "execution_count": 38,
     "metadata": {},
     "output_type": "execute_result"
    }
   ],
   "source": [
    "# распределение игроков по датам привлечения\n",
    "profiles.groupby('event_datetime').agg({'user_id':'count'})"
   ]
  },
  {
   "cell_type": "code",
   "execution_count": 39,
   "id": "65bef315",
   "metadata": {},
   "outputs": [
    {
     "data": {
      "image/png": "[encoded data removed]",
      "text/plain": [
       "<Figure size 1080x504 with 1 Axes>"
      ]
     },
     "metadata": {
      "needs_background": "light"
     },
     "output_type": "display_data"
    }
   ],
   "source": [
    "# визуализируем\n",
    "plt.figure(figsize=(15,7))\n",
    "sns.histplot(x = 'event_datetime', data = profiles, bins=7)\n",
    "plt.title('Число привлеченных игроков по датам', fontsize=14)\n",
    "plt.xlabel('Дата первого действия игрока', fontsize=12)\n",
    "plt.ylabel('Число игроков', fontsize=12)\n",
    "plt.show()"
   ]
  },
  {
   "cell_type": "markdown",
   "id": "5a722c96",
   "metadata": {},
   "source": [
    "Больше всего игроков, почти 6000, привлечено в первый день (04-05-2020). Дальше наблюдается равномерное снижение с коэффицентом 0.55-0.65 до 270 (10-05-2020)."
   ]
  },
  {
   "cell_type": "code",
   "execution_count": 40,
   "id": "fd5c4b04",
   "metadata": {},
   "outputs": [
    {
     "data": {
      "text/html": [
       "<div>\n",
       "<style scoped>\n",
       "    .dataframe tbody tr th:only-of-type {\n",
       "        vertical-align: middle;\n",
       "    }\n",
       "\n",
       "    .dataframe tbody tr th {\n",
       "        vertical-align: top;\n",
       "    }\n",
       "\n",
       "    .dataframe thead th {\n",
       "        text-align: right;\n",
       "    }\n",
       "</style>\n",
       "<table border=\"1\" class=\"dataframe\">\n",
       "  <thead>\n",
       "    <tr style=\"text-align: right;\">\n",
       "      <th></th>\n",
       "      <th>source</th>\n",
       "      <th>event_datetime</th>\n",
       "      <th>user_id</th>\n",
       "    </tr>\n",
       "  </thead>\n",
       "  <tbody>\n",
       "    <tr>\n",
       "      <th>0</th>\n",
       "      <td>facebook_ads</td>\n",
       "      <td>2020-05-04</td>\n",
       "      <td>1184</td>\n",
       "    </tr>\n",
       "    <tr>\n",
       "      <th>1</th>\n",
       "      <td>facebook_ads</td>\n",
       "      <td>2020-05-05</td>\n",
       "      <td>694</td>\n",
       "    </tr>\n",
       "  </tbody>\n",
       "</table>\n",
       "</div>"
      ],
      "text/plain": [
       "         source event_datetime  user_id\n",
       "0  facebook_ads     2020-05-04     1184\n",
       "1  facebook_ads     2020-05-05      694"
      ]
     },
     "execution_count": 40,
     "metadata": {},
     "output_type": "execute_result"
    }
   ],
   "source": [
    "# в разбивке по каналам\n",
    "users_by_days = profiles.groupby(['source', 'event_datetime']).agg({'user_id':'count'}).reset_index()\n",
    "users_by_days.head(2)"
   ]
  },
  {
   "cell_type": "code",
   "execution_count": 41,
   "id": "e8c58ef5",
   "metadata": {},
   "outputs": [],
   "source": [
    "# добавим стоимость рекламы по каналу и дате\n",
    "users_by_days['event_datetime'] = pd.to_datetime(users_by_days['event_datetime'], format='%Y-%m-%d')\n",
    "users_by_days = users_by_days.merge(ad_costs, left_on=['source','event_datetime'], right_on = ['source','day'], how=\"left\")"
   ]
  },
  {
   "cell_type": "code",
   "execution_count": 42,
   "id": "68ddf81b",
   "metadata": {},
   "outputs": [
    {
     "data": {
      "text/html": [
       "<div>\n",
       "<style scoped>\n",
       "    .dataframe tbody tr th:only-of-type {\n",
       "        vertical-align: middle;\n",
       "    }\n",
       "\n",
       "    .dataframe tbody tr th {\n",
       "        vertical-align: top;\n",
       "    }\n",
       "\n",
       "    .dataframe thead th {\n",
       "        text-align: right;\n",
       "    }\n",
       "</style>\n",
       "<table border=\"1\" class=\"dataframe\">\n",
       "  <thead>\n",
       "    <tr style=\"text-align: right;\">\n",
       "      <th></th>\n",
       "      <th>source</th>\n",
       "      <th>event_datetime</th>\n",
       "      <th>user_id</th>\n",
       "      <th>day</th>\n",
       "      <th>cost</th>\n",
       "      <th>cost_per_user</th>\n",
       "    </tr>\n",
       "  </thead>\n",
       "  <tbody>\n",
       "    <tr>\n",
       "      <th>0</th>\n",
       "      <td>facebook_ads</td>\n",
       "      <td>2020-05-04</td>\n",
       "      <td>1184</td>\n",
       "      <td>2020-05-04</td>\n",
       "      <td>935.882786</td>\n",
       "      <td>0.790442</td>\n",
       "    </tr>\n",
       "    <tr>\n",
       "      <th>1</th>\n",
       "      <td>facebook_ads</td>\n",
       "      <td>2020-05-05</td>\n",
       "      <td>694</td>\n",
       "      <td>2020-05-05</td>\n",
       "      <td>548.354480</td>\n",
       "      <td>0.790136</td>\n",
       "    </tr>\n",
       "  </tbody>\n",
       "</table>\n",
       "</div>"
      ],
      "text/plain": [
       "         source event_datetime  user_id        day        cost  cost_per_user\n",
       "0  facebook_ads     2020-05-04     1184 2020-05-04  935.882786       0.790442\n",
       "1  facebook_ads     2020-05-05      694 2020-05-05  548.354480       0.790136"
      ]
     },
     "execution_count": 42,
     "metadata": {},
     "output_type": "execute_result"
    }
   ],
   "source": [
    "# стоимость привлечения игрока по дате и каналу\n",
    "users_by_days['cost_per_user'] = users_by_days['cost'] / users_by_days['user_id']\n",
    "users_by_days.head(2)"
   ]
  },
  {
   "cell_type": "code",
   "execution_count": 43,
   "id": "85fe1557",
   "metadata": {},
   "outputs": [
    {
     "data": {
      "image/png": "[encoded data removed]",
      "text/plain": [
       "<Figure size 1080x720 with 2 Axes>"
      ]
     },
     "metadata": {
      "needs_background": "light"
     },
     "output_type": "display_data"
    }
   ],
   "source": [
    "# визуализируем\n",
    "fig45 = plt.figure(figsize=(15,10))\n",
    "ax1 = fig45.add_subplot(2,1,1)\n",
    "ax2 = fig45.add_subplot(2,1,2)\n",
    "\n",
    "sns.barplot(\n",
    "    x = pd.DatetimeIndex(users_by_days['event_datetime']).date, \n",
    "    y = 'user_id', \n",
    "    data = users_by_days, \n",
    "    hue='source', \n",
    "    hue_order=('yandex_direct', 'instagram_new_adverts', 'facebook_ads', 'youtube_channel_reklama'),\n",
    "    ax = ax1)\n",
    "ax1.set_title('Число привлеченных игроков по датам c разбивкой по каналам', fontsize=14)\n",
    "ax1.set_xlabel('Дата привлечения', fontsize=12)\n",
    "ax1.set_ylabel('Число игроков', fontsize=12)\n",
    "\n",
    "sns.barplot(\n",
    "    x = pd.DatetimeIndex(users_by_days['event_datetime']).date, \n",
    "    y = users_by_days['cost_per_user'], \n",
    "    data = users_by_days, \n",
    "    hue='source', \n",
    "    hue_order=('yandex_direct', 'instagram_new_adverts', 'facebook_ads', 'youtube_channel_reklama'),\n",
    "    ax = ax2)\n",
    "ax2.set_title('Стоимость привлеченных одного игрока по датам c разбивкой по каналам', fontsize=14)\n",
    "ax2.set_xlabel('Дата привлечения', fontsize=12)\n",
    "ax2.set_ylabel('Стоисмость, USD', fontsize=12)\n",
    "\n",
    "fig45.tight_layout()"
   ]
  },
  {
   "cell_type": "markdown",
   "id": "ddefdac8",
   "metadata": {},
   "source": [
    "* Больше всего игроков привлечено через yandex_direct, далее instagram_new_adverts и facebook_ads с youtube_channel_reklama. Первые 2 лидируют во все дни, последние 2 показывают примерно одинаковый результат. В первые 2-3 дня yandex_direct лидирует с существенным отрывом.  \n",
    "* Самые дорогие каналы по стоимость привлечения - instagram_new_adverts и facebook_ads. Самый дешевый - youtube_channel_reklama. Стоимость привлечения одного игрока почти постоянна и не меняется во времени. \n",
    "* С точки зрения эффективности вложений, в лидерах yandex_direct. Так же стоит обратить внимание на youtube_channel_reklama. Хотя, канал и занимает 3-4 места по числу привлеченных клиентов, стоимость привлечения самая низкая, а самое значительное отставание по числу привлеченных игроков от instagram_new_adverts 20% (04-05-2020)"
   ]
  },
  {
   "cell_type": "code",
   "execution_count": 44,
   "id": "1f6fc870",
   "metadata": {},
   "outputs": [
    {
     "data": {
      "text/html": [
       "<div>\n",
       "<style scoped>\n",
       "    .dataframe tbody tr th:only-of-type {\n",
       "        vertical-align: middle;\n",
       "    }\n",
       "\n",
       "    .dataframe tbody tr th {\n",
       "        vertical-align: top;\n",
       "    }\n",
       "\n",
       "    .dataframe thead th {\n",
       "        text-align: right;\n",
       "    }\n",
       "</style>\n",
       "<table border=\"1\" class=\"dataframe\">\n",
       "  <thead>\n",
       "    <tr style=\"text-align: right;\">\n",
       "      <th></th>\n",
       "      <th>user_id_x</th>\n",
       "      <th>event_datetime</th>\n",
       "      <th>source</th>\n",
       "      <th>user_id_y</th>\n",
       "      <th>day</th>\n",
       "      <th>cost</th>\n",
       "      <th>cost_per_user</th>\n",
       "    </tr>\n",
       "  </thead>\n",
       "  <tbody>\n",
       "    <tr>\n",
       "      <th>0</th>\n",
       "      <td>0001f83c-c6ac-4621-b7f0-8a28b283ac30</td>\n",
       "      <td>2020-05-06</td>\n",
       "      <td>facebook_ads</td>\n",
       "      <td>345</td>\n",
       "      <td>2020-05-06</td>\n",
       "      <td>260.185754</td>\n",
       "      <td>0.754162</td>\n",
       "    </tr>\n",
       "    <tr>\n",
       "      <th>1</th>\n",
       "      <td>00151b4f-ba38-44a8-a650-d7cf130a0105</td>\n",
       "      <td>2020-05-06</td>\n",
       "      <td>yandex_direct</td>\n",
       "      <td>664</td>\n",
       "      <td>2020-05-06</td>\n",
       "      <td>308.232990</td>\n",
       "      <td>0.464206</td>\n",
       "    </tr>\n",
       "  </tbody>\n",
       "</table>\n",
       "</div>"
      ],
      "text/plain": [
       "                              user_id_x event_datetime         source  \\\n",
       "0  0001f83c-c6ac-4621-b7f0-8a28b283ac30     2020-05-06   facebook_ads   \n",
       "1  00151b4f-ba38-44a8-a650-d7cf130a0105     2020-05-06  yandex_direct   \n",
       "\n",
       "   user_id_y        day        cost  cost_per_user  \n",
       "0        345 2020-05-06  260.185754       0.754162  \n",
       "1        664 2020-05-06  308.232990       0.464206  "
      ]
     },
     "execution_count": 44,
     "metadata": {},
     "output_type": "execute_result"
    }
   ],
   "source": [
    "# добавим данные в профайлы\n",
    "profiles['event_datetime'] = pd.to_datetime(profiles['event_datetime'], format='%Y-%m-%d')\n",
    "profiles = profiles.merge(\n",
    "    users_by_days, \n",
    "    left_on=['source','event_datetime'], \n",
    "    right_on = ['source','event_datetime'], \n",
    "    how=\"left\")\n",
    "profiles.head(2)"
   ]
  },
  {
   "cell_type": "code",
   "execution_count": 45,
   "id": "d5b6b4d7",
   "metadata": {},
   "outputs": [
    {
     "data": {
      "text/html": [
       "<div>\n",
       "<style scoped>\n",
       "    .dataframe tbody tr th:only-of-type {\n",
       "        vertical-align: middle;\n",
       "    }\n",
       "\n",
       "    .dataframe tbody tr th {\n",
       "        vertical-align: top;\n",
       "    }\n",
       "\n",
       "    .dataframe thead th {\n",
       "        text-align: right;\n",
       "    }\n",
       "</style>\n",
       "<table border=\"1\" class=\"dataframe\">\n",
       "  <thead>\n",
       "    <tr style=\"text-align: right;\">\n",
       "      <th></th>\n",
       "      <th>user_id</th>\n",
       "      <th>first_ts</th>\n",
       "      <th>source</th>\n",
       "      <th>cohort_size</th>\n",
       "      <th>cost_per_user</th>\n",
       "    </tr>\n",
       "  </thead>\n",
       "  <tbody>\n",
       "    <tr>\n",
       "      <th>0</th>\n",
       "      <td>0001f83c-c6ac-4621-b7f0-8a28b283ac30</td>\n",
       "      <td>2020-05-06</td>\n",
       "      <td>facebook_ads</td>\n",
       "      <td>345</td>\n",
       "      <td>0.754162</td>\n",
       "    </tr>\n",
       "    <tr>\n",
       "      <th>1</th>\n",
       "      <td>00151b4f-ba38-44a8-a650-d7cf130a0105</td>\n",
       "      <td>2020-05-06</td>\n",
       "      <td>yandex_direct</td>\n",
       "      <td>664</td>\n",
       "      <td>0.464206</td>\n",
       "    </tr>\n",
       "  </tbody>\n",
       "</table>\n",
       "</div>"
      ],
      "text/plain": [
       "                                user_id   first_ts         source  \\\n",
       "0  0001f83c-c6ac-4621-b7f0-8a28b283ac30 2020-05-06   facebook_ads   \n",
       "1  00151b4f-ba38-44a8-a650-d7cf130a0105 2020-05-06  yandex_direct   \n",
       "\n",
       "   cohort_size  cost_per_user  \n",
       "0          345       0.754162  \n",
       "1          664       0.464206  "
      ]
     },
     "execution_count": 45,
     "metadata": {},
     "output_type": "execute_result"
    }
   ],
   "source": [
    "# переименуем столбцы\n",
    "profiles = profiles.rename(columns={'user_id_x' : 'user_id', 'event_datetime' : 'first_ts', 'user_id_y' : 'cohort_size'})\n",
    "# удалим лишнее\n",
    "profiles.drop(columns=['day', 'cost'], inplace=True)\n",
    "profiles.head(2)"
   ]
  },
  {
   "cell_type": "markdown",
   "id": "4a16eff2",
   "metadata": {},
   "source": [
    "### Модель монетезации"
   ]
  },
  {
   "cell_type": "code",
   "execution_count": 46,
   "id": "928487da",
   "metadata": {
    "scrolled": true
   },
   "outputs": [
    {
     "data": {
      "text/plain": [
       "count    13576.000000\n",
       "mean         0.560075\n",
       "std          0.143726\n",
       "min          0.390759\n",
       "25%          0.459149\n",
       "50%          0.466381\n",
       "75%          0.649590\n",
       "max          0.809634\n",
       "Name: cost_per_user, dtype: float64"
      ]
     },
     "execution_count": 46,
     "metadata": {},
     "output_type": "execute_result"
    }
   ],
   "source": [
    "# посмотрим на основные данные по `cost_per_user`\n",
    "profiles['cost_per_user'].describe()"
   ]
  },
  {
   "cell_type": "markdown",
   "id": "ba9a887c",
   "metadata": {},
   "source": [
    "Средняя (медианная) стоимость привлечения игрока 0.46. Таким образом, для окупаемости, в среднем игроки должны строить не менее 7 (0.46/0.07) строений (т.е. просматривать рекламу 7 раз). Текущий показатель (медиана) 10. Можем предположить, что игра перестанет окупаться, при третьей постройке (первый показ рекламы - третья постройка).  \n",
    "Провериим это. Добавим число построек для каждого игрока. И расчитаем для него 5 вариантов, показ рекламы с 1-5 постройки."
   ]
  },
  {
   "cell_type": "code",
   "execution_count": 47,
   "id": "2f1a9263",
   "metadata": {},
   "outputs": [
    {
     "data": {
      "text/html": [
       "<div>\n",
       "<style scoped>\n",
       "    .dataframe tbody tr th:only-of-type {\n",
       "        vertical-align: middle;\n",
       "    }\n",
       "\n",
       "    .dataframe tbody tr th {\n",
       "        vertical-align: top;\n",
       "    }\n",
       "\n",
       "    .dataframe thead th {\n",
       "        text-align: right;\n",
       "    }\n",
       "</style>\n",
       "<table border=\"1\" class=\"dataframe\">\n",
       "  <thead>\n",
       "    <tr style=\"text-align: right;\">\n",
       "      <th></th>\n",
       "      <th>user_id</th>\n",
       "      <th>first_ts</th>\n",
       "      <th>source</th>\n",
       "      <th>cohort_size</th>\n",
       "      <th>cost_per_user</th>\n",
       "      <th>buildings</th>\n",
       "      <th>user_type</th>\n",
       "    </tr>\n",
       "  </thead>\n",
       "  <tbody>\n",
       "    <tr>\n",
       "      <th>0</th>\n",
       "      <td>0001f83c-c6ac-4621-b7f0-8a28b283ac30</td>\n",
       "      <td>2020-05-06</td>\n",
       "      <td>facebook_ads</td>\n",
       "      <td>345</td>\n",
       "      <td>0.754162</td>\n",
       "      <td>13</td>\n",
       "      <td>not_finished</td>\n",
       "    </tr>\n",
       "    <tr>\n",
       "      <th>1</th>\n",
       "      <td>00151b4f-ba38-44a8-a650-d7cf130a0105</td>\n",
       "      <td>2020-05-06</td>\n",
       "      <td>yandex_direct</td>\n",
       "      <td>664</td>\n",
       "      <td>0.464206</td>\n",
       "      <td>9</td>\n",
       "      <td>not_finished</td>\n",
       "    </tr>\n",
       "  </tbody>\n",
       "</table>\n",
       "</div>"
      ],
      "text/plain": [
       "                                user_id   first_ts         source  \\\n",
       "0  0001f83c-c6ac-4621-b7f0-8a28b283ac30 2020-05-06   facebook_ads   \n",
       "1  00151b4f-ba38-44a8-a650-d7cf130a0105 2020-05-06  yandex_direct   \n",
       "\n",
       "   cohort_size  cost_per_user  buildings     user_type  \n",
       "0          345       0.754162         13  not_finished  \n",
       "1          664       0.464206          9  not_finished  "
      ]
     },
     "execution_count": 47,
     "metadata": {},
     "output_type": "execute_result"
    }
   ],
   "source": [
    "#добавим число построек для каждого игрока\n",
    "buildings_by_users = (\n",
    "    game_actions.query('event == \"building\"')\n",
    "    .groupby('user_id').agg({'event':'count'})\n",
    "    .reset_index())\n",
    "df = pd.merge(profiles, buildings_by_users, on='user_id', how='left')\n",
    "df = df.rename(columns={'event' : 'buildings'})\n",
    "# добавим тип игрока\n",
    "df = df.merge(ev_by_users.loc[:, ['user_id', 'user_type']], on='user_id', how='left')\n",
    "df.head(2)"
   ]
  },
  {
   "cell_type": "markdown",
   "id": "abad5e81",
   "metadata": {},
   "source": [
    "Для каждого игрока добывим 5 столбцов (вариантов). Расчитаем сумму заработка на игроке при показе реклямы начинас с 1,2..5 построек. Если у игрока, например 2 постройки, то при условии паказа рекламы с 3 постройки, на таком игроке заработка не будет."
   ]
  },
  {
   "cell_type": "code",
   "execution_count": 48,
   "id": "369c1bd0",
   "metadata": {},
   "outputs": [
    {
     "data": {
      "text/html": [
       "<div>\n",
       "<style scoped>\n",
       "    .dataframe tbody tr th:only-of-type {\n",
       "        vertical-align: middle;\n",
       "    }\n",
       "\n",
       "    .dataframe tbody tr th {\n",
       "        vertical-align: top;\n",
       "    }\n",
       "\n",
       "    .dataframe thead th {\n",
       "        text-align: right;\n",
       "    }\n",
       "</style>\n",
       "<table border=\"1\" class=\"dataframe\">\n",
       "  <thead>\n",
       "    <tr style=\"text-align: right;\">\n",
       "      <th></th>\n",
       "      <th>user_id</th>\n",
       "      <th>first_ts</th>\n",
       "      <th>source</th>\n",
       "      <th>cohort_size</th>\n",
       "      <th>cost_per_user</th>\n",
       "      <th>buildings</th>\n",
       "      <th>user_type</th>\n",
       "      <th>ltv_1</th>\n",
       "      <th>ltv_2</th>\n",
       "      <th>ltv_3</th>\n",
       "      <th>ltv_4</th>\n",
       "      <th>ltv_5</th>\n",
       "    </tr>\n",
       "  </thead>\n",
       "  <tbody>\n",
       "    <tr>\n",
       "      <th>0</th>\n",
       "      <td>0001f83c-c6ac-4621-b7f0-8a28b283ac30</td>\n",
       "      <td>2020-05-06</td>\n",
       "      <td>facebook_ads</td>\n",
       "      <td>345</td>\n",
       "      <td>0.754162</td>\n",
       "      <td>13</td>\n",
       "      <td>not_finished</td>\n",
       "      <td>0.91</td>\n",
       "      <td>0.84</td>\n",
       "      <td>0.77</td>\n",
       "      <td>0.70</td>\n",
       "      <td>0.63</td>\n",
       "    </tr>\n",
       "    <tr>\n",
       "      <th>1</th>\n",
       "      <td>00151b4f-ba38-44a8-a650-d7cf130a0105</td>\n",
       "      <td>2020-05-06</td>\n",
       "      <td>yandex_direct</td>\n",
       "      <td>664</td>\n",
       "      <td>0.464206</td>\n",
       "      <td>9</td>\n",
       "      <td>not_finished</td>\n",
       "      <td>0.63</td>\n",
       "      <td>0.56</td>\n",
       "      <td>0.49</td>\n",
       "      <td>0.42</td>\n",
       "      <td>0.35</td>\n",
       "    </tr>\n",
       "    <tr>\n",
       "      <th>2</th>\n",
       "      <td>001aaea6-3d14-43f1-8ca8-7f48820f17aa</td>\n",
       "      <td>2020-05-05</td>\n",
       "      <td>youtube_channel_reklama</td>\n",
       "      <td>663</td>\n",
       "      <td>0.390759</td>\n",
       "      <td>4</td>\n",
       "      <td>not_finished</td>\n",
       "      <td>0.28</td>\n",
       "      <td>0.21</td>\n",
       "      <td>0.14</td>\n",
       "      <td>0.07</td>\n",
       "      <td>0.00</td>\n",
       "    </tr>\n",
       "    <tr>\n",
       "      <th>3</th>\n",
       "      <td>001d39dc-366c-4021-9604-6a3b9ff01e25</td>\n",
       "      <td>2020-05-05</td>\n",
       "      <td>instagram_new_adverts</td>\n",
       "      <td>796</td>\n",
       "      <td>0.631816</td>\n",
       "      <td>8</td>\n",
       "      <td>finished_pvp</td>\n",
       "      <td>0.56</td>\n",
       "      <td>0.49</td>\n",
       "      <td>0.42</td>\n",
       "      <td>0.35</td>\n",
       "      <td>0.28</td>\n",
       "    </tr>\n",
       "    <tr>\n",
       "      <th>4</th>\n",
       "      <td>002f508f-67b6-479f-814b-b05f00d4e995</td>\n",
       "      <td>2020-05-05</td>\n",
       "      <td>facebook_ads</td>\n",
       "      <td>694</td>\n",
       "      <td>0.790136</td>\n",
       "      <td>12</td>\n",
       "      <td>not_finished</td>\n",
       "      <td>0.84</td>\n",
       "      <td>0.77</td>\n",
       "      <td>0.70</td>\n",
       "      <td>0.63</td>\n",
       "      <td>0.56</td>\n",
       "    </tr>\n",
       "  </tbody>\n",
       "</table>\n",
       "</div>"
      ],
      "text/plain": [
       "                                user_id   first_ts                   source  \\\n",
       "0  0001f83c-c6ac-4621-b7f0-8a28b283ac30 2020-05-06             facebook_ads   \n",
       "1  00151b4f-ba38-44a8-a650-d7cf130a0105 2020-05-06            yandex_direct   \n",
       "2  001aaea6-3d14-43f1-8ca8-7f48820f17aa 2020-05-05  youtube_channel_reklama   \n",
       "3  001d39dc-366c-4021-9604-6a3b9ff01e25 2020-05-05    instagram_new_adverts   \n",
       "4  002f508f-67b6-479f-814b-b05f00d4e995 2020-05-05             facebook_ads   \n",
       "\n",
       "   cohort_size  cost_per_user  buildings     user_type  ltv_1  ltv_2  ltv_3  \\\n",
       "0          345       0.754162         13  not_finished   0.91   0.84   0.77   \n",
       "1          664       0.464206          9  not_finished   0.63   0.56   0.49   \n",
       "2          663       0.390759          4  not_finished   0.28   0.21   0.14   \n",
       "3          796       0.631816          8  finished_pvp   0.56   0.49   0.42   \n",
       "4          694       0.790136         12  not_finished   0.84   0.77   0.70   \n",
       "\n",
       "   ltv_4  ltv_5  \n",
       "0   0.70   0.63  \n",
       "1   0.42   0.35  \n",
       "2   0.07   0.00  \n",
       "3   0.35   0.28  \n",
       "4   0.63   0.56  "
      ]
     },
     "execution_count": 48,
     "metadata": {},
     "output_type": "execute_result"
    }
   ],
   "source": [
    "for i in range(1, 6):\n",
    "    col_name = 'ltv_' + str(i)\n",
    "    df[col_name] = (df['buildings'] - (i-1))*0.07\n",
    "    # если число построект игрока < i, то заработок на игроке 0\n",
    "    df[col_name] = df[col_name].mask(df[col_name] < 0, 0)\n",
    "df.head()"
   ]
  },
  {
   "cell_type": "markdown",
   "id": "9cebc5ca",
   "metadata": {},
   "source": [
    "Общий доход для каждого из 5 вариантов"
   ]
  },
  {
   "cell_type": "code",
   "execution_count": 49,
   "id": "eaaa0823",
   "metadata": {},
   "outputs": [
    {
     "name": "stdout",
     "output_type": "stream",
     "text": [
      "При показе рекламы с 1 постройки, доход 1353.34\n",
      "При показе рекламы с 2 постройки, доход 403.02\n",
      "При показе рекламы с 3 постройки, доход -543.31\n",
      "При показе рекламы с 4 постройки, доход -1470.18\n",
      "При показе рекламы с 5 постройки, доход -2358.13\n"
     ]
    }
   ],
   "source": [
    "for i in range(1, 6):\n",
    "    col_name = 'ltv_' + str(i)\n",
    "    income = round(df[col_name].sum() - df['cost_per_user'].sum(), 2)\n",
    "    print(f'При показе рекламы с {i} постройки, доход {income}')"
   ]
  },
  {
   "cell_type": "markdown",
   "id": "f16ca704",
   "metadata": {},
   "source": [
    "Что бы вложения в рекламу окупались, нужно начинать показ рекламы не позже 2-ой стройки."
   ]
  },
  {
   "cell_type": "markdown",
   "id": "59b41228",
   "metadata": {},
   "source": [
    "Определим доходность по каналам привлечения"
   ]
  },
  {
   "cell_type": "code",
   "execution_count": 50,
   "id": "9fcb52bb",
   "metadata": {},
   "outputs": [
    {
     "data": {
      "text/html": [
       "<div>\n",
       "<style scoped>\n",
       "    .dataframe tbody tr th:only-of-type {\n",
       "        vertical-align: middle;\n",
       "    }\n",
       "\n",
       "    .dataframe tbody tr th {\n",
       "        vertical-align: top;\n",
       "    }\n",
       "\n",
       "    .dataframe thead th {\n",
       "        text-align: right;\n",
       "    }\n",
       "</style>\n",
       "<table border=\"1\" class=\"dataframe\">\n",
       "  <thead>\n",
       "    <tr style=\"text-align: right;\">\n",
       "      <th></th>\n",
       "      <th>cost_per_user</th>\n",
       "      <th>ltv_1</th>\n",
       "      <th>ltv_2</th>\n",
       "      <th>ltv_3</th>\n",
       "      <th>ltv_4</th>\n",
       "      <th>ltv_5</th>\n",
       "    </tr>\n",
       "    <tr>\n",
       "      <th>source</th>\n",
       "      <th></th>\n",
       "      <th></th>\n",
       "      <th></th>\n",
       "      <th></th>\n",
       "      <th></th>\n",
       "      <th></th>\n",
       "    </tr>\n",
       "  </thead>\n",
       "  <tbody>\n",
       "    <tr>\n",
       "      <th>facebook_ads</th>\n",
       "      <td>2140.904643</td>\n",
       "      <td>1829.17</td>\n",
       "      <td>1638.35</td>\n",
       "      <td>1448.51</td>\n",
       "      <td>1262.17</td>\n",
       "      <td>1082.20</td>\n",
       "    </tr>\n",
       "    <tr>\n",
       "      <th>instagram_new_adverts</th>\n",
       "      <td>2161.441691</td>\n",
       "      <td>2227.05</td>\n",
       "      <td>1992.76</td>\n",
       "      <td>1759.24</td>\n",
       "      <td>1529.99</td>\n",
       "      <td>1310.33</td>\n",
       "    </tr>\n",
       "    <tr>\n",
       "      <th>yandex_direct</th>\n",
       "      <td>2233.111449</td>\n",
       "      <td>3152.24</td>\n",
       "      <td>2815.05</td>\n",
       "      <td>2479.19</td>\n",
       "      <td>2150.33</td>\n",
       "      <td>1836.38</td>\n",
       "    </tr>\n",
       "    <tr>\n",
       "      <th>youtube_channel_reklama</th>\n",
       "      <td>1068.119204</td>\n",
       "      <td>1748.46</td>\n",
       "      <td>1560.44</td>\n",
       "      <td>1373.33</td>\n",
       "      <td>1190.91</td>\n",
       "      <td>1016.54</td>\n",
       "    </tr>\n",
       "  </tbody>\n",
       "</table>\n",
       "</div>"
      ],
      "text/plain": [
       "                         cost_per_user    ltv_1    ltv_2    ltv_3    ltv_4  \\\n",
       "source                                                                       \n",
       "facebook_ads               2140.904643  1829.17  1638.35  1448.51  1262.17   \n",
       "instagram_new_adverts      2161.441691  2227.05  1992.76  1759.24  1529.99   \n",
       "yandex_direct              2233.111449  3152.24  2815.05  2479.19  2150.33   \n",
       "youtube_channel_reklama    1068.119204  1748.46  1560.44  1373.33  1190.91   \n",
       "\n",
       "                           ltv_5  \n",
       "source                            \n",
       "facebook_ads             1082.20  \n",
       "instagram_new_adverts    1310.33  \n",
       "yandex_direct            1836.38  \n",
       "youtube_channel_reklama  1016.54  "
      ]
     },
     "execution_count": 50,
     "metadata": {},
     "output_type": "execute_result"
    }
   ],
   "source": [
    "dft = (\n",
    "    df.groupby('source')\n",
    "    .agg(\n",
    "        {'cost_per_user':'sum', \n",
    "         'ltv_1' : 'sum', \n",
    "         'ltv_2' : 'sum', \n",
    "         'ltv_3' : 'sum', \n",
    "         'ltv_4' : 'sum', \n",
    "         'ltv_5' : 'sum'})).reset_index()\n",
    "dft.index = dft['source']\n",
    "dft.drop(columns='source', inplace=True)\n",
    "dft"
   ]
  },
  {
   "cell_type": "code",
   "execution_count": 51,
   "id": "ee5fcc12",
   "metadata": {},
   "outputs": [
    {
     "data": {
      "image/png": "[encoded data removed]",
      "text/plain": [
       "<Figure size 1080x144 with 1 Axes>"
      ]
     },
     "metadata": {
      "needs_background": "light"
     },
     "output_type": "display_data"
    },
    {
     "data": {
      "image/png": "[encoded data removed]",
      "text/plain": [
       "<Figure size 1080x144 with 1 Axes>"
      ]
     },
     "metadata": {
      "needs_background": "light"
     },
     "output_type": "display_data"
    },
    {
     "data": {
      "image/png": "[encoded data removed]",
      "text/plain": [
       "<Figure size 1080x144 with 1 Axes>"
      ]
     },
     "metadata": {
      "needs_background": "light"
     },
     "output_type": "display_data"
    },
    {
     "data": {
      "image/png": "[encoded data removed]",
      "text/plain": [
       "<Figure size 1080x144 with 1 Axes>"
      ]
     },
     "metadata": {
      "needs_background": "light"
     },
     "output_type": "display_data"
    }
   ],
   "source": [
    "# визуализируем\n",
    "for src in dft.index:\n",
    "    plt.figure(figsize=(15,2))\n",
    "    plt.barh(dft.columns.to_list(), dft.loc[src].to_frame()[src].to_list())\n",
    "    plt.title(f'По каналу {src}')\n",
    "    plt.show()"
   ]
  },
  {
   "cell_type": "markdown",
   "id": "2734c368",
   "metadata": {},
   "source": [
    "Прибыль по каналам привлечения"
   ]
  },
  {
   "cell_type": "code",
   "execution_count": 52,
   "id": "47c93bbd",
   "metadata": {},
   "outputs": [],
   "source": [
    "# функция для \"подсвечивание\" отрицательного значения\n",
    "def style_negative(v, props=''):\n",
    "    return props if v < 0 else None"
   ]
  },
  {
   "cell_type": "code",
   "execution_count": 53,
   "id": "c98e4a35",
   "metadata": {},
   "outputs": [
    {
     "data": {
      "text/html": [
       "<style  type=\"text/css\" >\n",
       "#T_948d6_row0_col1,#T_948d6_row0_col2,#T_948d6_row0_col3,#T_948d6_row0_col4,#T_948d6_row0_col5,#T_948d6_row1_col2,#T_948d6_row1_col3,#T_948d6_row1_col4,#T_948d6_row1_col5,#T_948d6_row2_col4,#T_948d6_row2_col5,#T_948d6_row3_col5{\n",
       "            color: red;\n",
       "        }</style><table id=\"T_948d6_\" ><thead>    <tr>        <th class=\"blank level0\" ></th>        <th class=\"col_heading level0 col0\" >cost_per_source</th>        <th class=\"col_heading level0 col1\" >income_1</th>        <th class=\"col_heading level0 col2\" >income_2</th>        <th class=\"col_heading level0 col3\" >income_3</th>        <th class=\"col_heading level0 col4\" >income_4</th>        <th class=\"col_heading level0 col5\" >income_5</th>    </tr>    <tr>        <th class=\"index_name level0\" >source</th>        <th class=\"blank\" ></th>        <th class=\"blank\" ></th>        <th class=\"blank\" ></th>        <th class=\"blank\" ></th>        <th class=\"blank\" ></th>        <th class=\"blank\" ></th>    </tr></thead><tbody>\n",
       "                <tr>\n",
       "                        <th id=\"T_948d6_level0_row0\" class=\"row_heading level0 row0\" >facebook_ads</th>\n",
       "                        <td id=\"T_948d6_row0_col0\" class=\"data row0 col0\" >2140.90</td>\n",
       "                        <td id=\"T_948d6_row0_col1\" class=\"data row0 col1\" >-311.73</td>\n",
       "                        <td id=\"T_948d6_row0_col2\" class=\"data row0 col2\" >-502.55</td>\n",
       "                        <td id=\"T_948d6_row0_col3\" class=\"data row0 col3\" >-692.39</td>\n",
       "                        <td id=\"T_948d6_row0_col4\" class=\"data row0 col4\" >-878.73</td>\n",
       "                        <td id=\"T_948d6_row0_col5\" class=\"data row0 col5\" >-1058.70</td>\n",
       "            </tr>\n",
       "            <tr>\n",
       "                        <th id=\"T_948d6_level0_row1\" class=\"row_heading level0 row1\" >instagram_new_adverts</th>\n",
       "                        <td id=\"T_948d6_row1_col0\" class=\"data row1 col0\" >2161.44</td>\n",
       "                        <td id=\"T_948d6_row1_col1\" class=\"data row1 col1\" >65.61</td>\n",
       "                        <td id=\"T_948d6_row1_col2\" class=\"data row1 col2\" >-168.68</td>\n",
       "                        <td id=\"T_948d6_row1_col3\" class=\"data row1 col3\" >-402.20</td>\n",
       "                        <td id=\"T_948d6_row1_col4\" class=\"data row1 col4\" >-631.45</td>\n",
       "                        <td id=\"T_948d6_row1_col5\" class=\"data row1 col5\" >-851.11</td>\n",
       "            </tr>\n",
       "            <tr>\n",
       "                        <th id=\"T_948d6_level0_row2\" class=\"row_heading level0 row2\" >yandex_direct</th>\n",
       "                        <td id=\"T_948d6_row2_col0\" class=\"data row2 col0\" >2233.11</td>\n",
       "                        <td id=\"T_948d6_row2_col1\" class=\"data row2 col1\" >919.13</td>\n",
       "                        <td id=\"T_948d6_row2_col2\" class=\"data row2 col2\" >581.94</td>\n",
       "                        <td id=\"T_948d6_row2_col3\" class=\"data row2 col3\" >246.08</td>\n",
       "                        <td id=\"T_948d6_row2_col4\" class=\"data row2 col4\" >-82.78</td>\n",
       "                        <td id=\"T_948d6_row2_col5\" class=\"data row2 col5\" >-396.73</td>\n",
       "            </tr>\n",
       "            <tr>\n",
       "                        <th id=\"T_948d6_level0_row3\" class=\"row_heading level0 row3\" >youtube_channel_reklama</th>\n",
       "                        <td id=\"T_948d6_row3_col0\" class=\"data row3 col0\" >1068.12</td>\n",
       "                        <td id=\"T_948d6_row3_col1\" class=\"data row3 col1\" >680.34</td>\n",
       "                        <td id=\"T_948d6_row3_col2\" class=\"data row3 col2\" >492.32</td>\n",
       "                        <td id=\"T_948d6_row3_col3\" class=\"data row3 col3\" >305.21</td>\n",
       "                        <td id=\"T_948d6_row3_col4\" class=\"data row3 col4\" >122.79</td>\n",
       "                        <td id=\"T_948d6_row3_col5\" class=\"data row3 col5\" >-51.58</td>\n",
       "            </tr>\n",
       "    </tbody></table>"
      ],
      "text/plain": [
       "<pandas.io.formats.style.Styler at 0x3c05019f10>"
      ]
     },
     "execution_count": 53,
     "metadata": {},
     "output_type": "execute_result"
    }
   ],
   "source": [
    "for i in range(1, 6):\n",
    "    col_name = 'ltv_' + str(i)\n",
    "    dft[col_name] = dft[col_name] - dft['cost_per_user']\n",
    "dft = dft.rename(\n",
    "                columns={'cost_per_user':'cost_per_source',\n",
    "                         'ltv_1':'income_1',\n",
    "                         'ltv_2':'income_2',\n",
    "                         'ltv_3':'income_3',\n",
    "                         'ltv_4':'income_4',\n",
    "                         'ltv_5':'income_5'})\n",
    "\n",
    "dft.style.applymap(style_negative, props='color:red;').format(\"{:.2f}\")"
   ]
  },
  {
   "cell_type": "markdown",
   "id": "20fe6725",
   "metadata": {},
   "source": [
    "- `facebook_ads` Возможность заработка отсутствует даже, если начинать показ рекламы с 1 постройки. Причина - высокая стоимость привлечения.\n",
    "- `instagram_new_adverts` Возможен небольшой доход при запуске рекламы с 1 постройки.\n",
    "- `yandex_direct` `youtube_channel_reklama` Из-за более низкой стоимости привлечения для этих каналов, показ рекламы можно начинать с 3 и 4 постройки соответственно."
   ]
  },
  {
   "cell_type": "markdown",
   "id": "c5bdba47",
   "metadata": {},
   "source": [
    "Определим доходность по типам игроков"
   ]
  },
  {
   "cell_type": "code",
   "execution_count": 54,
   "id": "da534e7d",
   "metadata": {},
   "outputs": [
    {
     "data": {
      "text/html": [
       "<style  type=\"text/css\" >\n",
       "</style><table id=\"T_f238e_\" ><thead>    <tr>        <th class=\"blank level0\" ></th>        <th class=\"col_heading level0 col0\" >cost_per_user</th>        <th class=\"col_heading level0 col1\" >ltv_1</th>        <th class=\"col_heading level0 col2\" >ltv_2</th>        <th class=\"col_heading level0 col3\" >ltv_3</th>        <th class=\"col_heading level0 col4\" >ltv_4</th>        <th class=\"col_heading level0 col5\" >ltv_5</th>    </tr>    <tr>        <th class=\"index_name level0\" >user_type</th>        <th class=\"blank\" ></th>        <th class=\"blank\" ></th>        <th class=\"blank\" ></th>        <th class=\"blank\" ></th>        <th class=\"blank\" ></th>        <th class=\"blank\" ></th>    </tr></thead><tbody>\n",
       "                <tr>\n",
       "                        <th id=\"T_f238e_level0_row0\" class=\"row_heading level0 row0\" >finished_pve</th>\n",
       "                        <td id=\"T_f238e_row0_col0\" class=\"data row0 col0\" >1052.87</td>\n",
       "                        <td id=\"T_f238e_row0_col1\" class=\"data row0 col1\" >1652.07</td>\n",
       "                        <td id=\"T_f238e_row0_col2\" class=\"data row0 col2\" >1521.45</td>\n",
       "                        <td id=\"T_f238e_row0_col3\" class=\"data row0 col3\" >1390.83</td>\n",
       "                        <td id=\"T_f238e_row0_col4\" class=\"data row0 col4\" >1260.21</td>\n",
       "                        <td id=\"T_f238e_row0_col5\" class=\"data row0 col5\" >1129.59</td>\n",
       "            </tr>\n",
       "            <tr>\n",
       "                        <th id=\"T_f238e_level0_row1\" class=\"row_heading level0 row1\" >finished_pvp</th>\n",
       "                        <td id=\"T_f238e_row1_col0\" class=\"data row1 col0\" >2205.13</td>\n",
       "                        <td id=\"T_f238e_row1_col1\" class=\"data row1 col1\" >2602.95</td>\n",
       "                        <td id=\"T_f238e_row1_col2\" class=\"data row1 col2\" >2326.38</td>\n",
       "                        <td id=\"T_f238e_row1_col3\" class=\"data row1 col3\" >2049.81</td>\n",
       "                        <td id=\"T_f238e_row1_col4\" class=\"data row1 col4\" >1776.67</td>\n",
       "                        <td id=\"T_f238e_row1_col5\" class=\"data row1 col5\" >1510.60</td>\n",
       "            </tr>\n",
       "            <tr>\n",
       "                        <th id=\"T_f238e_level0_row2\" class=\"row_heading level0 row2\" >not_finished</th>\n",
       "                        <td id=\"T_f238e_row2_col0\" class=\"data row2 col0\" >4345.58</td>\n",
       "                        <td id=\"T_f238e_row2_col1\" class=\"data row2 col1\" >4701.90</td>\n",
       "                        <td id=\"T_f238e_row2_col2\" class=\"data row2 col2\" >4158.77</td>\n",
       "                        <td id=\"T_f238e_row2_col3\" class=\"data row2 col3\" >3619.63</td>\n",
       "                        <td id=\"T_f238e_row2_col4\" class=\"data row2 col4\" >3096.52</td>\n",
       "                        <td id=\"T_f238e_row2_col5\" class=\"data row2 col5\" >2605.26</td>\n",
       "            </tr>\n",
       "    </tbody></table>"
      ],
      "text/plain": [
       "<pandas.io.formats.style.Styler at 0x3c06554070>"
      ]
     },
     "execution_count": 54,
     "metadata": {},
     "output_type": "execute_result"
    }
   ],
   "source": [
    "dft = (\n",
    "    df.groupby('user_type')\n",
    "    .agg(\n",
    "        {'cost_per_user':'sum', \n",
    "         'ltv_1' : 'sum', \n",
    "         'ltv_2' : 'sum', \n",
    "         'ltv_3' : 'sum', \n",
    "         'ltv_4' : 'sum', \n",
    "         'ltv_5' : 'sum'})).reset_index()\n",
    "dft.index = dft['user_type']\n",
    "dft.drop(columns='user_type', inplace=True)\n",
    "dft.style.format(\"{:.2f}\")"
   ]
  },
  {
   "cell_type": "code",
   "execution_count": 55,
   "id": "8712f65c",
   "metadata": {},
   "outputs": [
    {
     "data": {
      "image/png": "[encoded data removed]",
      "text/plain": [
       "<Figure size 1080x144 with 1 Axes>"
      ]
     },
     "metadata": {
      "needs_background": "light"
     },
     "output_type": "display_data"
    },
    {
     "data": {
      "image/png": "[encoded data removed]",
      "text/plain": [
       "<Figure size 1080x144 with 1 Axes>"
      ]
     },
     "metadata": {
      "needs_background": "light"
     },
     "output_type": "display_data"
    },
    {
     "data": {
      "image/png": "[encoded data removed]",
      "text/plain": [
       "<Figure size 1080x144 with 1 Axes>"
      ]
     },
     "metadata": {
      "needs_background": "light"
     },
     "output_type": "display_data"
    }
   ],
   "source": [
    "# визуализируем\n",
    "for type in dft.index:\n",
    "    plt.figure(figsize=(15,2))\n",
    "    plt.barh(dft.columns.to_list(), dft.loc[type].to_frame()[type].to_list())\n",
    "    plt.title(f'Тип игрока: \"{type}\"')\n",
    "    plt.show()"
   ]
  },
  {
   "cell_type": "markdown",
   "id": "fbfeced2",
   "metadata": {},
   "source": [
    "Прибыль по типам игроков"
   ]
  },
  {
   "cell_type": "code",
   "execution_count": 56,
   "id": "c378c991",
   "metadata": {},
   "outputs": [
    {
     "data": {
      "text/html": [
       "<style  type=\"text/css\" >\n",
       "#T_25038_row1_col3,#T_25038_row1_col4,#T_25038_row1_col5,#T_25038_row2_col2,#T_25038_row2_col3,#T_25038_row2_col4,#T_25038_row2_col5{\n",
       "            color: red;\n",
       "        }</style><table id=\"T_25038_\" ><thead>    <tr>        <th class=\"blank level0\" ></th>        <th class=\"col_heading level0 col0\" >cost_per_type</th>        <th class=\"col_heading level0 col1\" >income_1</th>        <th class=\"col_heading level0 col2\" >income_2</th>        <th class=\"col_heading level0 col3\" >income_3</th>        <th class=\"col_heading level0 col4\" >income_4</th>        <th class=\"col_heading level0 col5\" >income_5</th>    </tr>    <tr>        <th class=\"index_name level0\" >user_type</th>        <th class=\"blank\" ></th>        <th class=\"blank\" ></th>        <th class=\"blank\" ></th>        <th class=\"blank\" ></th>        <th class=\"blank\" ></th>        <th class=\"blank\" ></th>    </tr></thead><tbody>\n",
       "                <tr>\n",
       "                        <th id=\"T_25038_level0_row0\" class=\"row_heading level0 row0\" >finished_pve</th>\n",
       "                        <td id=\"T_25038_row0_col0\" class=\"data row0 col0\" >1052.87</td>\n",
       "                        <td id=\"T_25038_row0_col1\" class=\"data row0 col1\" >599.20</td>\n",
       "                        <td id=\"T_25038_row0_col2\" class=\"data row0 col2\" >468.58</td>\n",
       "                        <td id=\"T_25038_row0_col3\" class=\"data row0 col3\" >337.96</td>\n",
       "                        <td id=\"T_25038_row0_col4\" class=\"data row0 col4\" >207.34</td>\n",
       "                        <td id=\"T_25038_row0_col5\" class=\"data row0 col5\" >76.72</td>\n",
       "            </tr>\n",
       "            <tr>\n",
       "                        <th id=\"T_25038_level0_row1\" class=\"row_heading level0 row1\" >finished_pvp</th>\n",
       "                        <td id=\"T_25038_row1_col0\" class=\"data row1 col0\" >2205.13</td>\n",
       "                        <td id=\"T_25038_row1_col1\" class=\"data row1 col1\" >397.82</td>\n",
       "                        <td id=\"T_25038_row1_col2\" class=\"data row1 col2\" >121.25</td>\n",
       "                        <td id=\"T_25038_row1_col3\" class=\"data row1 col3\" >-155.32</td>\n",
       "                        <td id=\"T_25038_row1_col4\" class=\"data row1 col4\" >-428.46</td>\n",
       "                        <td id=\"T_25038_row1_col5\" class=\"data row1 col5\" >-694.53</td>\n",
       "            </tr>\n",
       "            <tr>\n",
       "                        <th id=\"T_25038_level0_row2\" class=\"row_heading level0 row2\" >not_finished</th>\n",
       "                        <td id=\"T_25038_row2_col0\" class=\"data row2 col0\" >4345.58</td>\n",
       "                        <td id=\"T_25038_row2_col1\" class=\"data row2 col1\" >356.32</td>\n",
       "                        <td id=\"T_25038_row2_col2\" class=\"data row2 col2\" >-186.81</td>\n",
       "                        <td id=\"T_25038_row2_col3\" class=\"data row2 col3\" >-725.95</td>\n",
       "                        <td id=\"T_25038_row2_col4\" class=\"data row2 col4\" >-1249.06</td>\n",
       "                        <td id=\"T_25038_row2_col5\" class=\"data row2 col5\" >-1740.32</td>\n",
       "            </tr>\n",
       "    </tbody></table>"
      ],
      "text/plain": [
       "<pandas.io.formats.style.Styler at 0x3c06b69160>"
      ]
     },
     "execution_count": 56,
     "metadata": {},
     "output_type": "execute_result"
    }
   ],
   "source": [
    "for i in range(1, 6):\n",
    "    col_name = 'ltv_' + str(i)\n",
    "    dft[col_name] = dft[col_name] - dft['cost_per_user']\n",
    "dft = dft.rename(\n",
    "                columns={'cost_per_user':'cost_per_type',\n",
    "                         'ltv_1':'income_1',\n",
    "                         'ltv_2':'income_2',\n",
    "                         'ltv_3':'income_3',\n",
    "                         'ltv_4':'income_4',\n",
    "                         'ltv_5':'income_5'})\n",
    "\n",
    "dft.style.applymap(style_negative, props='color:red;').format(\"{:.2f}\")"
   ]
  },
  {
   "cell_type": "markdown",
   "id": "289cda96",
   "metadata": {},
   "source": [
    "- Игроки завершившие уровень реализацией проекта (14% игроков PvE). Стратегия предусматривает большое число событий (построек). По-этому, ту есть существенный запас по времени начала показа рекламы. Даже если начинать показ с 5 постройки, игроки PvE будут приносить прибыль.\n",
    "- Игроки завершившие уровень победой над врагом (29% игроков PvP). Картина схожа с анализом на общих данных, без разбивки по типам игроков). Ожидается прибыль при старте показа рекламы со 2 стройки.\n",
    "- Игроки не завершившие уровень (57%). Прибыль возможна только при условии показа рекламы с первой постройки."
   ]
  },
  {
   "cell_type": "markdown",
   "id": "1007008b",
   "metadata": {},
   "source": [
    "Посмотрим прибыль по дням привлечения"
   ]
  },
  {
   "cell_type": "code",
   "execution_count": 57,
   "id": "52d111b0",
   "metadata": {},
   "outputs": [
    {
     "data": {
      "text/html": [
       "<style  type=\"text/css\" >\n",
       "#T_4d950_row0_col4,#T_4d950_row0_col5,#T_4d950_row1_col3,#T_4d950_row1_col4,#T_4d950_row1_col5,#T_4d950_row2_col2,#T_4d950_row2_col3,#T_4d950_row2_col4,#T_4d950_row2_col5,#T_4d950_row3_col2,#T_4d950_row3_col3,#T_4d950_row3_col4,#T_4d950_row3_col5,#T_4d950_row4_col1,#T_4d950_row4_col2,#T_4d950_row4_col3,#T_4d950_row4_col4,#T_4d950_row4_col5,#T_4d950_row5_col1,#T_4d950_row5_col2,#T_4d950_row5_col3,#T_4d950_row5_col4,#T_4d950_row5_col5,#T_4d950_row6_col1,#T_4d950_row6_col2,#T_4d950_row6_col3,#T_4d950_row6_col4,#T_4d950_row6_col5{\n",
       "            color: red;\n",
       "        }</style><table id=\"T_4d950_\" ><thead>    <tr>        <th class=\"blank level0\" ></th>        <th class=\"col_heading level0 col0\" >cost_per_day</th>        <th class=\"col_heading level0 col1\" >income_1</th>        <th class=\"col_heading level0 col2\" >income_2</th>        <th class=\"col_heading level0 col3\" >income_3</th>        <th class=\"col_heading level0 col4\" >income_4</th>        <th class=\"col_heading level0 col5\" >income_5</th>    </tr>    <tr>        <th class=\"index_name level0\" >first_ts</th>        <th class=\"blank\" ></th>        <th class=\"blank\" ></th>        <th class=\"blank\" ></th>        <th class=\"blank\" ></th>        <th class=\"blank\" ></th>        <th class=\"blank\" ></th>    </tr></thead><tbody>\n",
       "                <tr>\n",
       "                        <th id=\"T_4d950_level0_row0\" class=\"row_heading level0 row0\" >2020-05-04 00:00:00</th>\n",
       "                        <td id=\"T_4d950_row0_col0\" class=\"data row0 col0\" >3302.45</td>\n",
       "                        <td id=\"T_4d950_row0_col1\" class=\"data row0 col1\" >942.00</td>\n",
       "                        <td id=\"T_4d950_row0_col2\" class=\"data row0 col2\" >531.80</td>\n",
       "                        <td id=\"T_4d950_row0_col3\" class=\"data row0 col3\" >122.23</td>\n",
       "                        <td id=\"T_4d950_row0_col4\" class=\"data row0 col4\" >-283.63</td>\n",
       "                        <td id=\"T_4d950_row0_col5\" class=\"data row0 col5\" >-681.79</td>\n",
       "            </tr>\n",
       "            <tr>\n",
       "                        <th id=\"T_4d950_level0_row1\" class=\"row_heading level0 row1\" >2020-05-05 00:00:00</th>\n",
       "                        <td id=\"T_4d950_row1_col0\" class=\"data row1 col0\" >1865.00</td>\n",
       "                        <td id=\"T_4d950_row1_col1\" class=\"data row1 col1\" >427.29</td>\n",
       "                        <td id=\"T_4d950_row1_col2\" class=\"data row1 col2\" >192.02</td>\n",
       "                        <td id=\"T_4d950_row1_col3\" class=\"data row1 col3\" >-42.55</td>\n",
       "                        <td id=\"T_4d950_row1_col4\" class=\"data row1 col4\" >-273.62</td>\n",
       "                        <td id=\"T_4d950_row1_col5\" class=\"data row1 col5\" >-497.83</td>\n",
       "            </tr>\n",
       "            <tr>\n",
       "                        <th id=\"T_4d950_level0_row2\" class=\"row_heading level0 row2\" >2020-05-06 00:00:00</th>\n",
       "                        <td id=\"T_4d950_row2_col0\" class=\"data row2 col0\" >1029.43</td>\n",
       "                        <td id=\"T_4d950_row2_col1\" class=\"data row2 col1\" >117.59</td>\n",
       "                        <td id=\"T_4d950_row2_col2\" class=\"data row2 col2\" >-11.70</td>\n",
       "                        <td id=\"T_4d950_row2_col3\" class=\"data row2 col3\" >-140.08</td>\n",
       "                        <td id=\"T_4d950_row2_col4\" class=\"data row2 col4\" >-265.94</td>\n",
       "                        <td id=\"T_4d950_row2_col5\" class=\"data row2 col5\" >-386.34</td>\n",
       "            </tr>\n",
       "            <tr>\n",
       "                        <th id=\"T_4d950_level0_row3\" class=\"row_heading level0 row3\" >2020-05-07 00:00:00</th>\n",
       "                        <td id=\"T_4d950_row3_col0\" class=\"data row3 col0\" >620.48</td>\n",
       "                        <td id=\"T_4d950_row3_col1\" class=\"data row3 col1\" >2.80</td>\n",
       "                        <td id=\"T_4d950_row3_col2\" class=\"data row3 col2\" >-74.83</td>\n",
       "                        <td id=\"T_4d950_row3_col3\" class=\"data row3 col3\" >-152.11</td>\n",
       "                        <td id=\"T_4d950_row3_col4\" class=\"data row3 col4\" >-226.52</td>\n",
       "                        <td id=\"T_4d950_row3_col5\" class=\"data row3 col5\" >-294.00</td>\n",
       "            </tr>\n",
       "            <tr>\n",
       "                        <th id=\"T_4d950_level0_row4\" class=\"row_heading level0 row4\" >2020-05-08 00:00:00</th>\n",
       "                        <td id=\"T_4d950_row4_col0\" class=\"data row4 col0\" >391.85</td>\n",
       "                        <td id=\"T_4d950_row4_col1\" class=\"data row4 col1\" >-53.12</td>\n",
       "                        <td id=\"T_4d950_row4_col2\" class=\"data row4 col2\" >-101.28</td>\n",
       "                        <td id=\"T_4d950_row4_col3\" class=\"data row4 col3\" >-148.81</td>\n",
       "                        <td id=\"T_4d950_row4_col4\" class=\"data row4 col4\" >-193.40</td>\n",
       "                        <td id=\"T_4d950_row4_col5\" class=\"data row4 col5\" >-232.46</td>\n",
       "            </tr>\n",
       "            <tr>\n",
       "                        <th id=\"T_4d950_level0_row5\" class=\"row_heading level0 row5\" >2020-05-09 00:00:00</th>\n",
       "                        <td id=\"T_4d950_row5_col0\" class=\"data row5 col0\" >242.77</td>\n",
       "                        <td id=\"T_4d950_row5_col1\" class=\"data row5 col1\" >-42.85</td>\n",
       "                        <td id=\"T_4d950_row5_col2\" class=\"data row5 col2\" >-73.65</td>\n",
       "                        <td id=\"T_4d950_row5_col3\" class=\"data row5 col3\" >-104.10</td>\n",
       "                        <td id=\"T_4d950_row5_col4\" class=\"data row5 col4\" >-132.31</td>\n",
       "                        <td id=\"T_4d950_row5_col5\" class=\"data row5 col5\" >-156.46</td>\n",
       "            </tr>\n",
       "            <tr>\n",
       "                        <th id=\"T_4d950_level0_row6\" class=\"row_heading level0 row6\" >2020-05-10 00:00:00</th>\n",
       "                        <td id=\"T_4d950_row6_col0\" class=\"data row6 col0\" >151.59</td>\n",
       "                        <td id=\"T_4d950_row6_col1\" class=\"data row6 col1\" >-40.36</td>\n",
       "                        <td id=\"T_4d950_row6_col2\" class=\"data row6 col2\" >-59.33</td>\n",
       "                        <td id=\"T_4d950_row6_col3\" class=\"data row6 col3\" >-77.88</td>\n",
       "                        <td id=\"T_4d950_row6_col4\" class=\"data row6 col4\" >-94.75</td>\n",
       "                        <td id=\"T_4d950_row6_col5\" class=\"data row6 col5\" >-109.24</td>\n",
       "            </tr>\n",
       "    </tbody></table>"
      ],
      "text/plain": [
       "<pandas.io.formats.style.Styler at 0x3c04f92af0>"
      ]
     },
     "execution_count": 57,
     "metadata": {},
     "output_type": "execute_result"
    }
   ],
   "source": [
    "dft = (\n",
    "    df.groupby('first_ts')\n",
    "    .agg(\n",
    "        {'cost_per_user':'sum', \n",
    "         'ltv_1' : 'sum', \n",
    "         'ltv_2' : 'sum', \n",
    "         'ltv_3' : 'sum', \n",
    "         'ltv_4' : 'sum', \n",
    "         'ltv_5' : 'sum'})).reset_index()\n",
    "dft.index = dft['first_ts']\n",
    "dft.drop(columns='first_ts', inplace=True)\n",
    "for i in range(1, 6):\n",
    "    col_name = 'ltv_' + str(i)\n",
    "    dft[col_name] = dft[col_name] - dft['cost_per_user']\n",
    "dft = dft.rename(\n",
    "                columns={'cost_per_user':'cost_per_day',\n",
    "                         'ltv_1':'income_1',\n",
    "                         'ltv_2':'income_2',\n",
    "                         'ltv_3':'income_3',\n",
    "                         'ltv_4':'income_4',\n",
    "                         'ltv_5':'income_5'})\n",
    "\n",
    "dft.style.applymap(style_negative, props='color:red;').format(\"{:.2f}\")"
   ]
  },
  {
   "cell_type": "markdown",
   "id": "bc071f23",
   "metadata": {},
   "source": [
    "Доли игроков по канам по дням примрно одинаковы. Поэтому, при неизменной стоимости привлечения, общий доход зависит от числа игроков. Видно, что 07-05-2020, когда число привлеченных игроков около 1100, расходы и дохооды почти равны. Для когорты размером 5860 (04-05-2020) прибыль сохраняется вплоть до 3 уровня начала показа рекламы."
   ]
  },
  {
   "cell_type": "markdown",
   "id": "91513fd2",
   "metadata": {},
   "source": [
    "## Проверка гипотез"
   ]
  },
  {
   "cell_type": "markdown",
   "id": "18899179",
   "metadata": {},
   "source": [
    "**Уровень значимости.** Размер выборок в нашем случае достаточно велик, поэтому, можно принять уровень значимости 0.01.  \n",
    "**Критерий проверки.** Для сравнения двух выборочных средних значений независимых выборок применяется t-критерий Стьюдента. У нас количественные переменные с нормальным распределением."
   ]
  },
  {
   "cell_type": "code",
   "execution_count": 58,
   "id": "b668df04",
   "metadata": {},
   "outputs": [],
   "source": [
    "alpha = .01"
   ]
  },
  {
   "cell_type": "markdown",
   "id": "d05c4789",
   "metadata": {},
   "source": [
    "###  Гипотеза о равенстве времени проходжения уровня для игроков PvE и PvP\n",
    "H0: Среднее время прохождения уровня для PvE равно среднему времени прохождения укровня для PvP  \n",
    "Н1: Среднее время прохождения уровня для PvE не равно среднему времени прохождения укровня для PvP "
   ]
  },
  {
   "cell_type": "markdown",
   "id": "66e59844",
   "metadata": {},
   "source": [
    "Подготовим данные"
   ]
  },
  {
   "cell_type": "code",
   "execution_count": 59,
   "id": "fb00bf3d",
   "metadata": {},
   "outputs": [
    {
     "data": {
      "text/html": [
       "<div>\n",
       "<style scoped>\n",
       "    .dataframe tbody tr th:only-of-type {\n",
       "        vertical-align: middle;\n",
       "    }\n",
       "\n",
       "    .dataframe tbody tr th {\n",
       "        vertical-align: top;\n",
       "    }\n",
       "\n",
       "    .dataframe thead th {\n",
       "        text-align: right;\n",
       "    }\n",
       "</style>\n",
       "<table border=\"1\" class=\"dataframe\">\n",
       "  <thead>\n",
       "    <tr style=\"text-align: right;\">\n",
       "      <th></th>\n",
       "      <th>user_id</th>\n",
       "      <th>first_ts</th>\n",
       "      <th>source</th>\n",
       "      <th>cohort_size</th>\n",
       "      <th>cost_per_user</th>\n",
       "    </tr>\n",
       "  </thead>\n",
       "  <tbody>\n",
       "    <tr>\n",
       "      <th>3</th>\n",
       "      <td>001d39dc-366c-4021-9604-6a3b9ff01e25</td>\n",
       "      <td>2020-05-05</td>\n",
       "      <td>instagram_new_adverts</td>\n",
       "      <td>796</td>\n",
       "      <td>0.631816</td>\n",
       "    </tr>\n",
       "    <tr>\n",
       "      <th>6</th>\n",
       "      <td>003ee7e8-6356-4286-a715-62f22a18d2a1</td>\n",
       "      <td>2020-05-05</td>\n",
       "      <td>instagram_new_adverts</td>\n",
       "      <td>796</td>\n",
       "      <td>0.631816</td>\n",
       "    </tr>\n",
       "  </tbody>\n",
       "</table>\n",
       "</div>"
      ],
      "text/plain": [
       "                                user_id   first_ts                 source  \\\n",
       "3  001d39dc-366c-4021-9604-6a3b9ff01e25 2020-05-05  instagram_new_adverts   \n",
       "6  003ee7e8-6356-4286-a715-62f22a18d2a1 2020-05-05  instagram_new_adverts   \n",
       "\n",
       "   cohort_size  cost_per_user  \n",
       "3          796       0.631816  \n",
       "6          796       0.631816  "
      ]
     },
     "execution_count": 59,
     "metadata": {},
     "output_type": "execute_result"
    }
   ],
   "source": [
    "# только игроки завершившие уровень\n",
    "dft51 = profiles.query('user_id in @users_finished')\n",
    "dft51.head(2)"
   ]
  },
  {
   "cell_type": "code",
   "execution_count": 60,
   "id": "e10d52fb",
   "metadata": {},
   "outputs": [
    {
     "data": {
      "text/html": [
       "<div>\n",
       "<style scoped>\n",
       "    .dataframe tbody tr th:only-of-type {\n",
       "        vertical-align: middle;\n",
       "    }\n",
       "\n",
       "    .dataframe tbody tr th {\n",
       "        vertical-align: top;\n",
       "    }\n",
       "\n",
       "    .dataframe thead th {\n",
       "        text-align: right;\n",
       "    }\n",
       "</style>\n",
       "<table border=\"1\" class=\"dataframe\">\n",
       "  <thead>\n",
       "    <tr style=\"text-align: right;\">\n",
       "      <th></th>\n",
       "      <th>user_id</th>\n",
       "      <th>first_ts</th>\n",
       "      <th>source</th>\n",
       "      <th>cohort_size</th>\n",
       "      <th>cost_per_user</th>\n",
       "      <th>event_date</th>\n",
       "      <th>time_spent</th>\n",
       "    </tr>\n",
       "  </thead>\n",
       "  <tbody>\n",
       "    <tr>\n",
       "      <th>0</th>\n",
       "      <td>001d39dc-366c-4021-9604-6a3b9ff01e25</td>\n",
       "      <td>2020-05-05</td>\n",
       "      <td>instagram_new_adverts</td>\n",
       "      <td>796</td>\n",
       "      <td>0.631816</td>\n",
       "      <td>2020-05-12</td>\n",
       "      <td>7 days</td>\n",
       "    </tr>\n",
       "    <tr>\n",
       "      <th>1</th>\n",
       "      <td>003ee7e8-6356-4286-a715-62f22a18d2a1</td>\n",
       "      <td>2020-05-05</td>\n",
       "      <td>instagram_new_adverts</td>\n",
       "      <td>796</td>\n",
       "      <td>0.631816</td>\n",
       "      <td>2020-05-17</td>\n",
       "      <td>12 days</td>\n",
       "    </tr>\n",
       "    <tr>\n",
       "      <th>2</th>\n",
       "      <td>004074f8-251a-4776-922c-8348dca1a2f6</td>\n",
       "      <td>2020-05-04</td>\n",
       "      <td>facebook_ads</td>\n",
       "      <td>1184</td>\n",
       "      <td>0.790442</td>\n",
       "      <td>2020-05-16</td>\n",
       "      <td>12 days</td>\n",
       "    </tr>\n",
       "    <tr>\n",
       "      <th>3</th>\n",
       "      <td>00464e5e-28ed-4be6-bf44-517ef7b3937b</td>\n",
       "      <td>2020-05-04</td>\n",
       "      <td>yandex_direct</td>\n",
       "      <td>2078</td>\n",
       "      <td>0.466381</td>\n",
       "      <td>2020-05-15</td>\n",
       "      <td>11 days</td>\n",
       "    </tr>\n",
       "    <tr>\n",
       "      <th>4</th>\n",
       "      <td>0056c007-c082-43cc-bdef-afc49bca4cb9</td>\n",
       "      <td>2020-05-10</td>\n",
       "      <td>instagram_new_adverts</td>\n",
       "      <td>70</td>\n",
       "      <td>0.668220</td>\n",
       "      <td>2020-05-16</td>\n",
       "      <td>6 days</td>\n",
       "    </tr>\n",
       "  </tbody>\n",
       "</table>\n",
       "</div>"
      ],
      "text/plain": [
       "                                user_id   first_ts                 source  \\\n",
       "0  001d39dc-366c-4021-9604-6a3b9ff01e25 2020-05-05  instagram_new_adverts   \n",
       "1  003ee7e8-6356-4286-a715-62f22a18d2a1 2020-05-05  instagram_new_adverts   \n",
       "2  004074f8-251a-4776-922c-8348dca1a2f6 2020-05-04           facebook_ads   \n",
       "3  00464e5e-28ed-4be6-bf44-517ef7b3937b 2020-05-04          yandex_direct   \n",
       "4  0056c007-c082-43cc-bdef-afc49bca4cb9 2020-05-10  instagram_new_adverts   \n",
       "\n",
       "   cohort_size  cost_per_user  event_date time_spent  \n",
       "0          796       0.631816  2020-05-12     7 days  \n",
       "1          796       0.631816  2020-05-17    12 days  \n",
       "2         1184       0.790442  2020-05-16    12 days  \n",
       "3         2078       0.466381  2020-05-15    11 days  \n",
       "4           70       0.668220  2020-05-16     6 days  "
      ]
     },
     "execution_count": 60,
     "metadata": {},
     "output_type": "execute_result"
    }
   ],
   "source": [
    "# добавим даду завершения уровня\n",
    "dft51 = dft51.merge(\n",
    "    game_actions.query('event == \"finished_stage_1\"').loc[:, ['user_id', 'event_date']],\n",
    "    on='user_id',\n",
    "    how='left')\n",
    "# расчитаем разницу между датой завершения уровня и датой первого действия\n",
    "dft51['time_spent'] = (\n",
    "    pd.DatetimeIndex(dft51['event_date']).date -\n",
    "    pd.DatetimeIndex(dft51['first_ts']).date)\n",
    "dft51.head()"
   ]
  },
  {
   "cell_type": "code",
   "execution_count": 61,
   "id": "2da601b1",
   "metadata": {},
   "outputs": [
    {
     "data": {
      "text/html": [
       "<div>\n",
       "<style scoped>\n",
       "    .dataframe tbody tr th:only-of-type {\n",
       "        vertical-align: middle;\n",
       "    }\n",
       "\n",
       "    .dataframe tbody tr th {\n",
       "        vertical-align: top;\n",
       "    }\n",
       "\n",
       "    .dataframe thead th {\n",
       "        text-align: right;\n",
       "    }\n",
       "</style>\n",
       "<table border=\"1\" class=\"dataframe\">\n",
       "  <thead>\n",
       "    <tr style=\"text-align: right;\">\n",
       "      <th></th>\n",
       "      <th>user_id</th>\n",
       "      <th>first_ts</th>\n",
       "      <th>source</th>\n",
       "      <th>cohort_size</th>\n",
       "      <th>cost_per_user</th>\n",
       "      <th>event_date</th>\n",
       "      <th>time_spent</th>\n",
       "      <th>user_type</th>\n",
       "    </tr>\n",
       "  </thead>\n",
       "  <tbody>\n",
       "    <tr>\n",
       "      <th>0</th>\n",
       "      <td>001d39dc-366c-4021-9604-6a3b9ff01e25</td>\n",
       "      <td>2020-05-05</td>\n",
       "      <td>instagram_new_adverts</td>\n",
       "      <td>796</td>\n",
       "      <td>0.631816</td>\n",
       "      <td>2020-05-12</td>\n",
       "      <td>7 days</td>\n",
       "      <td>finished_pvp</td>\n",
       "    </tr>\n",
       "    <tr>\n",
       "      <th>1</th>\n",
       "      <td>003ee7e8-6356-4286-a715-62f22a18d2a1</td>\n",
       "      <td>2020-05-05</td>\n",
       "      <td>instagram_new_adverts</td>\n",
       "      <td>796</td>\n",
       "      <td>0.631816</td>\n",
       "      <td>2020-05-17</td>\n",
       "      <td>12 days</td>\n",
       "      <td>finished_pvp</td>\n",
       "    </tr>\n",
       "    <tr>\n",
       "      <th>2</th>\n",
       "      <td>004074f8-251a-4776-922c-8348dca1a2f6</td>\n",
       "      <td>2020-05-04</td>\n",
       "      <td>facebook_ads</td>\n",
       "      <td>1184</td>\n",
       "      <td>0.790442</td>\n",
       "      <td>2020-05-16</td>\n",
       "      <td>12 days</td>\n",
       "      <td>finished_pvp</td>\n",
       "    </tr>\n",
       "    <tr>\n",
       "      <th>3</th>\n",
       "      <td>00464e5e-28ed-4be6-bf44-517ef7b3937b</td>\n",
       "      <td>2020-05-04</td>\n",
       "      <td>yandex_direct</td>\n",
       "      <td>2078</td>\n",
       "      <td>0.466381</td>\n",
       "      <td>2020-05-15</td>\n",
       "      <td>11 days</td>\n",
       "      <td>finished_pvp</td>\n",
       "    </tr>\n",
       "    <tr>\n",
       "      <th>4</th>\n",
       "      <td>0056c007-c082-43cc-bdef-afc49bca4cb9</td>\n",
       "      <td>2020-05-10</td>\n",
       "      <td>instagram_new_adverts</td>\n",
       "      <td>70</td>\n",
       "      <td>0.668220</td>\n",
       "      <td>2020-05-16</td>\n",
       "      <td>6 days</td>\n",
       "      <td>finished_pvp</td>\n",
       "    </tr>\n",
       "  </tbody>\n",
       "</table>\n",
       "</div>"
      ],
      "text/plain": [
       "                                user_id   first_ts                 source  \\\n",
       "0  001d39dc-366c-4021-9604-6a3b9ff01e25 2020-05-05  instagram_new_adverts   \n",
       "1  003ee7e8-6356-4286-a715-62f22a18d2a1 2020-05-05  instagram_new_adverts   \n",
       "2  004074f8-251a-4776-922c-8348dca1a2f6 2020-05-04           facebook_ads   \n",
       "3  00464e5e-28ed-4be6-bf44-517ef7b3937b 2020-05-04          yandex_direct   \n",
       "4  0056c007-c082-43cc-bdef-afc49bca4cb9 2020-05-10  instagram_new_adverts   \n",
       "\n",
       "   cohort_size  cost_per_user  event_date time_spent     user_type  \n",
       "0          796       0.631816  2020-05-12     7 days  finished_pvp  \n",
       "1          796       0.631816  2020-05-17    12 days  finished_pvp  \n",
       "2         1184       0.790442  2020-05-16    12 days  finished_pvp  \n",
       "3         2078       0.466381  2020-05-15    11 days  finished_pvp  \n",
       "4           70       0.668220  2020-05-16     6 days  finished_pvp  "
      ]
     },
     "execution_count": 61,
     "metadata": {},
     "output_type": "execute_result"
    }
   ],
   "source": [
    "# добавим тип игрока\n",
    "dft51 = dft51.merge(ev_by_users.loc[:, ['user_id', 'user_type']], on='user_id', how='left')\n",
    "dft51.head()"
   ]
  },
  {
   "cell_type": "code",
   "execution_count": 62,
   "id": "3f0af750",
   "metadata": {},
   "outputs": [
    {
     "data": {
      "image/png": "[encoded data removed]",
      "text/plain": [
       "<Figure size 1080x360 with 1 Axes>"
      ]
     },
     "metadata": {
      "needs_background": "light"
     },
     "output_type": "display_data"
    }
   ],
   "source": [
    "plt.figure(figsize=(15,5))\n",
    "sns.boxplot(x=dft51['time_spent'].dt.days, y=\"user_type\", data=dft51)\n",
    "plt.title('Распределение времени затраченного на прохождение уровня', fontsize=14)\n",
    "plt.xlabel('Время прохождения уровня, дней', fontsize=12)\n",
    "plt.ylabel('', fontsize=12)\n",
    "plt.xticks([x for x in range(0, 33)])\n",
    "plt.show()\n"
   ]
  },
  {
   "cell_type": "code",
   "execution_count": 63,
   "id": "e9d3edff",
   "metadata": {},
   "outputs": [
    {
     "name": "stdout",
     "output_type": "stream",
     "text": [
      "Выборка PvE - 1866, выборка PvP - 3951\n"
     ]
    }
   ],
   "source": [
    "# формируем выборки\n",
    "dft51_pve = dft51.query('user_type == \"finished_pve\"')\n",
    "dft51_pvp = dft51.query('user_type == \"finished_pvp\"')\n",
    "# посмотрим на их размер\n",
    "print(f'Выборка PvE - {dft51_pve.shape[0]}, выборка PvP - {dft51_pvp.shape[0]}')"
   ]
  },
  {
   "cell_type": "markdown",
   "id": "3a3b6932",
   "metadata": {},
   "source": [
    "Выборки имеют существенное различие в размере и их дисперсии могут быть не равны. Поэтому, сравнивая средние значения t-тестом, при вызове метода scipy.stats.ttest_ind(), укажем equal_var = False"
   ]
  },
  {
   "cell_type": "code",
   "execution_count": 64,
   "id": "86c61f41",
   "metadata": {},
   "outputs": [
    {
     "name": "stdout",
     "output_type": "stream",
     "text": [
      "p-значение 6.570466755643636e-105\n",
      "Отвергаем нулевую гипотезу\n"
     ]
    }
   ],
   "source": [
    "results = stats.ttest_ind(dft51_pve['time_spent'].dt.days, dft51_pvp['time_spent'].dt.days, equal_var=False)\n",
    "print('p-значение', results.pvalue)\n",
    "if results.pvalue < alpha:\n",
    "    print(\"Отвергаем нулевую гипотезу\")\n",
    "else:\n",
    "    print(\"Не получилось отвергнуть нулевую гипотезу\") "
   ]
  },
  {
   "cell_type": "markdown",
   "id": "3ffb8d48",
   "metadata": {},
   "source": [
    "p-значение ничтожно мало по сравнению с принятым уровнем значимости. Поэтому, гипотезу отвергаем."
   ]
  },
  {
   "cell_type": "markdown",
   "id": "003cc210",
   "metadata": {},
   "source": [
    "### Гипотеза о равенстве доходов с игроков PvE и PvP\n",
    "H0: Средние доходы с игроков PvE и PvP равны  \n",
    "Н1: Средние доходы с игроков PvE и PvP не равны"
   ]
  },
  {
   "cell_type": "code",
   "execution_count": 65,
   "id": "b6e49104",
   "metadata": {},
   "outputs": [
    {
     "data": {
      "text/html": [
       "<div>\n",
       "<style scoped>\n",
       "    .dataframe tbody tr th:only-of-type {\n",
       "        vertical-align: middle;\n",
       "    }\n",
       "\n",
       "    .dataframe tbody tr th {\n",
       "        vertical-align: top;\n",
       "    }\n",
       "\n",
       "    .dataframe thead th {\n",
       "        text-align: right;\n",
       "    }\n",
       "</style>\n",
       "<table border=\"1\" class=\"dataframe\">\n",
       "  <thead>\n",
       "    <tr style=\"text-align: right;\">\n",
       "      <th></th>\n",
       "      <th>user_id</th>\n",
       "      <th>first_ts</th>\n",
       "      <th>source</th>\n",
       "      <th>cohort_size</th>\n",
       "      <th>cost_per_user</th>\n",
       "      <th>buildings</th>\n",
       "      <th>user_type</th>\n",
       "      <th>ltv_1</th>\n",
       "      <th>ltv_2</th>\n",
       "      <th>ltv_3</th>\n",
       "      <th>ltv_4</th>\n",
       "      <th>ltv_5</th>\n",
       "    </tr>\n",
       "  </thead>\n",
       "  <tbody>\n",
       "    <tr>\n",
       "      <th>0</th>\n",
       "      <td>0001f83c-c6ac-4621-b7f0-8a28b283ac30</td>\n",
       "      <td>2020-05-06</td>\n",
       "      <td>facebook_ads</td>\n",
       "      <td>345</td>\n",
       "      <td>0.754162</td>\n",
       "      <td>13</td>\n",
       "      <td>not_finished</td>\n",
       "      <td>0.91</td>\n",
       "      <td>0.84</td>\n",
       "      <td>0.77</td>\n",
       "      <td>0.70</td>\n",
       "      <td>0.63</td>\n",
       "    </tr>\n",
       "    <tr>\n",
       "      <th>1</th>\n",
       "      <td>00151b4f-ba38-44a8-a650-d7cf130a0105</td>\n",
       "      <td>2020-05-06</td>\n",
       "      <td>yandex_direct</td>\n",
       "      <td>664</td>\n",
       "      <td>0.464206</td>\n",
       "      <td>9</td>\n",
       "      <td>not_finished</td>\n",
       "      <td>0.63</td>\n",
       "      <td>0.56</td>\n",
       "      <td>0.49</td>\n",
       "      <td>0.42</td>\n",
       "      <td>0.35</td>\n",
       "    </tr>\n",
       "  </tbody>\n",
       "</table>\n",
       "</div>"
      ],
      "text/plain": [
       "                                user_id   first_ts         source  \\\n",
       "0  0001f83c-c6ac-4621-b7f0-8a28b283ac30 2020-05-06   facebook_ads   \n",
       "1  00151b4f-ba38-44a8-a650-d7cf130a0105 2020-05-06  yandex_direct   \n",
       "\n",
       "   cohort_size  cost_per_user  buildings     user_type  ltv_1  ltv_2  ltv_3  \\\n",
       "0          345       0.754162         13  not_finished   0.91   0.84   0.77   \n",
       "1          664       0.464206          9  not_finished   0.63   0.56   0.49   \n",
       "\n",
       "   ltv_4  ltv_5  \n",
       "0   0.70   0.63  \n",
       "1   0.42   0.35  "
      ]
     },
     "execution_count": 65,
     "metadata": {},
     "output_type": "execute_result"
    }
   ],
   "source": [
    "df.head(2)"
   ]
  },
  {
   "cell_type": "code",
   "execution_count": 66,
   "id": "ec2bdf41",
   "metadata": {},
   "outputs": [],
   "source": [
    "# формируем выборки\n",
    "dft52_pve = df.query('user_type == \"finished_pve\"')\n",
    "dft52_pvp = df.query('user_type == \"finished_pvp\"')"
   ]
  },
  {
   "cell_type": "code",
   "execution_count": 67,
   "id": "1d6fa707",
   "metadata": {},
   "outputs": [
    {
     "name": "stdout",
     "output_type": "stream",
     "text": [
      "p-значение 0.0\n",
      "Отвергаем нулевую гипотезу\n"
     ]
    }
   ],
   "source": [
    "results = stats.ttest_ind(dft52_pve['ltv_1'], dft52_pvp['ltv_1'], equal_var=False)\n",
    "print('p-значение', results.pvalue)\n",
    "if results.pvalue < alpha:\n",
    "    print(\"Отвергаем нулевую гипотезу\")\n",
    "else:\n",
    "    print(\"Не получилось отвергнуть нулевую гипотезу\") "
   ]
  },
  {
   "cell_type": "markdown",
   "id": "b6884645",
   "metadata": {},
   "source": [
    "p-значение ничтожно мало по сравнению с принятым уровнем значимости. Поэтому, гипотезу отвергаем."
   ]
  },
  {
   "cell_type": "markdown",
   "id": "d416cbde",
   "metadata": {},
   "source": [
    "## Выводы"
   ]
  },
  {
   "cell_type": "markdown",
   "id": "9dd7b450",
   "metadata": {},
   "source": [
    "**На основании анализа полученных данных можно сделать следующие выводы:**\n",
    "\n",
    "**Анализ игроков.** \n",
    "Из общего числа 13576 игроков около 43% (5817) завершили уровень. Доля игроков с PvE около 14%, а PvP - 29%.\n",
    "\n",
    "Игроки PvE в среднем, тратят на прохождение уровня на 2 дня больше игроков PvP. Половина PvE проходит уровень за 11-15 дней, а PvP за 8-13. При этом в обеих группах наблюдаются выбросы более 21.\n",
    "\n",
    "Активность растёт в период рекламы (с 1 по 10 число) после чего затухает. Динамика активности в разрезе по типам игроков практически идентична. Дольше всего сохраняется активность игроков PvP, вплоть до 05-06-2020.\n",
    "- *PvE* От 12 жо 22 событий с медианой 14.\n",
    "- *PvP* От 3 до 20 событий с медианой 11.\n",
    "- *Игроки не завершившие уровень* От 1 до 20 событий с медианой 8. \n",
    "\n",
    "Большая доля всех событий - постройка (94% от общего числа событий).\n",
    "- *PvE* от 10 до 18 построек с медианой 12 и двумя выбросами, 19 и 20.\n",
    "- *PvP* от 2 до 18 построек с медианой 10 и выбросом 19. Диаграмма размаха симметрична.\n",
    "- *Игроки не завершившие уровень* от 1 до 20 построек с медианой 8.  \n",
    "Для групп, кроме PvE характерен \"провал\" по числу игроков с 7 постройками. Разница между числом игроков с 6 и 7 постройками почти в четырехкратная. Более 25% игроков не завершивших уровень и завершивших уровень PvP, потенциально могли его завершить стратегией PvE, так как у таких игроков более 12 построек, что выше медианного значения числа построек игроков, завершивших уровень PvE. 25% игроков не завершивших уровень имели столько же построек, сколько 50% завершивших уровень PvP.\n",
    "\n",
    "Все игроки хотя бы раз запускали постройку, 75% игроков делало это более 6 раз, а половина от 6 до 12 раз.\n",
    "\n",
    "Больше всего игроков, почти 6000, привлечено в первый день (04-05-2020). Дальше наблюдается равномерное снижение с коэффицентом 0.55-0.65 до 270 (10-05-2020).\n",
    "\n",
    "**Анализ затрат на рекламу.**\n",
    "\n",
    "* Больше всего игроков привлечено через yandex_direct, далее instagram_new_adverts и facebook_ads с youtube_channel_reklama. Первые 2 лидируют во все дни, последние 2 показывают примерно одинаковый результат. В первые 2-3 дня yandex_direct лидирует с существенным отрывом.  \n",
    "* Самые дорогие каналы по стоимость привлечения - instagram_new_adverts и facebook_ads. Самый дешевый - youtube_channel_reklama. Стоимость привлечения одного игрока почти постоянна и не меняется во времени. \n",
    "* С точки зрения эффективности вложений, в лидерах yandex_direct. Так же стоит обратить внимание на youtube_channel_reklama. Хотя, канал и занимает 3-4 места по числу привлеченных клиентов, стоимость привлечения самая низкая, а самое значительное отставание по числу привлеченных игроков от instagram_new_adverts 20% (04-05-2020).\n",
    "\n",
    "**Анализ доходов (модель монетизации).**\n",
    "\n",
    "Проведено моделирование прибыли при разном времени запуска ракламы.\n",
    "\n",
    "*Доходность по каналам привлечения*\n",
    "- facebook_ads Возможность заработка отсутствует даже, если начинать показ рекламы с 1 постройки. Причина - высокая стоимость привлечения.\n",
    "- instagram_new_adverts Возможен небольшой доход при запуске рекламы с 1 постройки.\n",
    "- yandex_direct, youtube_channel_reklama Из-за более низкой стоимости привлечения для этих каналов, показ рекламы можно начинать с 3 и 4 постройки соответственно.\n",
    "\n",
    "*Доходность по типам игроков*\n",
    "- Игроки завершившие уровень реализацией проекта (14% игроков PvE). Стратегия предусматривает большое число событий (построек). Поэтому, ту есть существенный запас по времени начала показа рекламы. Даже если начинать показ с 5 постройки, игроки PvE будут приносить прибыль.\n",
    "- Игроки завершившие уровень победой над врагом (29% игроков PvP). Картина схожа с анализом на общих данных, без разбивки по типам игроков). Ожидается прибыль при старте показа рекламы со 2 стройки.\n",
    "- Игроки не завершившие уровень (57%). Прибыль возможна только при условии показа рекламы с первой постройки.\n",
    "\n",
    "*Прибыль по дням привлечения*\n",
    "Доли игроков по канам по дням примерно одинаковы. Поэтому, при неизменной стоимости привлечения, общий доход зависит от числа игроков. Так, для 07-05-2020, когда число привлеченных игроков около 1100, расходы и дохооды почти равны. А для когорты размером 5860 (04-05-2020) прибыль сохраняется вплоть до 3 уровня начала показа рекламы.\n",
    "\n",
    "Моделирование по общим данным показывает, что для окупаемости вложений в рекламу нужно начинать ее показ не позже 2-ой стройки.\n",
    "\n",
    "**Рекомендации**  \n",
    "Для минимизации перегруженности рекламы, можно размещать ее при втором строительстве. В этом случае доходы от размещения должны превысить расходы на привлечение. При этом, существенное влияние на результат будут иметь такие факторы как число привлеченных игроков и каналы привлечения. "
   ]
  },
  {
   "cell_type": "code",
   "execution_count": null,
   "id": "57b96ca6",
   "metadata": {},
   "outputs": [],
   "source": []
  }
 ],
 "metadata": {
  "ExecuteTimeLog": [
   {
    "duration": 1364,
    "start_time": "2022-10-10T10:15:42.068Z"
   },
   {
    "duration": 4,
    "start_time": "2022-10-10T10:15:43.434Z"
   },
   {
    "duration": 10061,
    "start_time": "2022-10-10T10:15:43.440Z"
   },
   {
    "duration": 14,
    "start_time": "2022-10-10T10:15:53.503Z"
   },
   {
    "duration": 22,
    "start_time": "2022-10-10T10:15:53.519Z"
   },
   {
    "duration": 20,
    "start_time": "2022-10-10T10:15:53.542Z"
   },
   {
    "duration": 27,
    "start_time": "2022-10-10T10:15:53.564Z"
   },
   {
    "duration": 40,
    "start_time": "2022-10-10T10:15:53.592Z"
   },
   {
    "duration": 66,
    "start_time": "2022-10-10T10:15:53.633Z"
   },
   {
    "duration": 84,
    "start_time": "2022-10-10T10:15:53.703Z"
   },
   {
    "duration": 32,
    "start_time": "2022-10-10T10:15:53.790Z"
   },
   {
    "duration": 115,
    "start_time": "2022-10-10T10:15:53.824Z"
   },
   {
    "duration": 51,
    "start_time": "2022-10-10T10:15:53.941Z"
   },
   {
    "duration": 5,
    "start_time": "2022-10-10T10:15:53.994Z"
   },
   {
    "duration": 25,
    "start_time": "2022-10-10T10:15:54.000Z"
   },
   {
    "duration": 21,
    "start_time": "2022-10-10T10:15:54.026Z"
   },
   {
    "duration": 27,
    "start_time": "2022-10-10T10:15:54.049Z"
   },
   {
    "duration": 20,
    "start_time": "2022-10-10T10:15:54.078Z"
   },
   {
    "duration": 22,
    "start_time": "2022-10-10T10:15:54.099Z"
   },
   {
    "duration": 17,
    "start_time": "2022-10-10T10:15:54.122Z"
   },
   {
    "duration": 16,
    "start_time": "2022-10-10T10:15:54.140Z"
   },
   {
    "duration": 29,
    "start_time": "2022-10-10T10:15:54.158Z"
   },
   {
    "duration": 9,
    "start_time": "2022-10-10T10:15:54.188Z"
   },
   {
    "duration": 49,
    "start_time": "2022-10-10T10:15:54.199Z"
   },
   {
    "duration": 6,
    "start_time": "2022-10-10T10:15:54.250Z"
   },
   {
    "duration": 141,
    "start_time": "2022-10-10T10:15:54.258Z"
   },
   {
    "duration": 4,
    "start_time": "2022-10-10T10:15:54.400Z"
   },
   {
    "duration": 1067,
    "start_time": "2022-10-10T10:15:54.407Z"
   },
   {
    "duration": 984,
    "start_time": "2022-10-10T10:15:55.476Z"
   },
   {
    "duration": 166,
    "start_time": "2022-10-10T10:15:56.462Z"
   },
   {
    "duration": 37,
    "start_time": "2022-10-10T10:15:56.630Z"
   },
   {
    "duration": 1210,
    "start_time": "2022-10-10T10:15:56.669Z"
   },
   {
    "duration": 21,
    "start_time": "2022-10-10T10:15:57.881Z"
   },
   {
    "duration": 1092,
    "start_time": "2022-10-10T10:15:57.904Z"
   },
   {
    "duration": 1013,
    "start_time": "2022-10-10T10:15:58.998Z"
   },
   {
    "duration": 610,
    "start_time": "2022-10-10T10:16:00.013Z"
   },
   {
    "duration": 57,
    "start_time": "2022-10-10T10:16:00.624Z"
   },
   {
    "duration": 12,
    "start_time": "2022-10-10T10:16:00.683Z"
   },
   {
    "duration": 231,
    "start_time": "2022-10-10T10:16:00.696Z"
   },
   {
    "duration": 15,
    "start_time": "2022-10-10T10:16:00.929Z"
   },
   {
    "duration": 39,
    "start_time": "2022-10-10T10:16:00.945Z"
   },
   {
    "duration": 64,
    "start_time": "2022-10-10T10:16:00.986Z"
   },
   {
    "duration": 1003,
    "start_time": "2022-10-10T10:16:01.052Z"
   },
   {
    "duration": 20,
    "start_time": "2022-10-10T10:16:02.056Z"
   },
   {
    "duration": 95,
    "start_time": "2022-10-10T10:16:02.078Z"
   },
   {
    "duration": 18,
    "start_time": "2022-10-10T10:16:02.175Z"
   },
   {
    "duration": 109,
    "start_time": "2022-10-10T10:16:02.195Z"
   },
   {
    "duration": 23,
    "start_time": "2022-10-10T10:16:02.306Z"
   },
   {
    "duration": 52,
    "start_time": "2022-10-10T10:16:02.331Z"
   },
   {
    "duration": 131,
    "start_time": "2022-10-10T10:16:02.384Z"
   },
   {
    "duration": 505,
    "start_time": "2022-10-10T10:16:02.517Z"
   },
   {
    "duration": 3,
    "start_time": "2022-10-10T10:16:03.024Z"
   },
   {
    "duration": 71,
    "start_time": "2022-10-10T10:16:03.029Z"
   },
   {
    "duration": 14,
    "start_time": "2022-10-10T10:16:03.102Z"
   },
   {
    "duration": 363,
    "start_time": "2022-10-10T10:16:03.121Z"
   },
   {
    "duration": 16,
    "start_time": "2022-10-10T10:16:03.486Z"
   },
   {
    "duration": 35,
    "start_time": "2022-10-10T10:16:03.503Z"
   },
   {
    "duration": 26,
    "start_time": "2022-10-10T10:16:03.540Z"
   },
   {
    "duration": 50,
    "start_time": "2022-10-10T10:16:03.567Z"
   },
   {
    "duration": 56,
    "start_time": "2022-10-10T10:16:03.619Z"
   },
   {
    "duration": 21,
    "start_time": "2022-10-10T10:16:03.676Z"
   },
   {
    "duration": 236,
    "start_time": "2022-10-10T10:16:03.699Z"
   },
   {
    "duration": 9,
    "start_time": "2022-10-10T10:16:03.937Z"
   },
   {
    "duration": 40,
    "start_time": "2022-10-10T10:16:03.948Z"
   },
   {
    "duration": 37,
    "start_time": "2022-10-10T10:16:03.989Z"
   },
   {
    "duration": 47,
    "start_time": "2022-10-10T10:16:04.028Z"
   },
   {
    "duration": 17,
    "start_time": "2022-10-10T10:16:04.076Z"
   },
   {
    "duration": 48,
    "start_time": "2022-10-10T11:29:29.287Z"
   },
   {
    "duration": 58,
    "start_time": "2022-10-10T11:37:35.866Z"
   },
   {
    "duration": 67,
    "start_time": "2022-10-10T11:39:52.191Z"
   }
  ],
  "kernelspec": {
   "display_name": "Python 3",
   "language": "python",
   "name": "python3"
  },
  "language_info": {
   "codemirror_mode": {
    "name": "ipython",
    "version": 3
   },
   "file_extension": ".py",
   "mimetype": "text/x-python",
   "name": "python",
   "nbconvert_exporter": "python",
   "pygments_lexer": "ipython3",
   "version": "3.8.8"
  },
  "toc": {
   "base_numbering": 1,
   "nav_menu": {},
   "number_sections": true,
   "sideBar": true,
   "skip_h1_title": false,
   "title_cell": "Table of Contents",
   "title_sidebar": "Contents",
   "toc_cell": false,
   "toc_position": {
    "height": "calc(100% - 180px)",
    "left": "10px",
    "top": "150px",
    "width": "383.991px"
   },
   "toc_section_display": true,
   "toc_window_display": true
  }
 },
 "nbformat": 4,
 "nbformat_minor": 5
}
