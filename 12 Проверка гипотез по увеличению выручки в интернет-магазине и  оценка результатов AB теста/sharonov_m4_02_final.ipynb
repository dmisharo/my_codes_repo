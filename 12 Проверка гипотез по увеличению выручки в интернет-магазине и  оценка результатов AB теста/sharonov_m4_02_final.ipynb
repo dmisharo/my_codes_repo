{
 "cells": [
  {
   "cell_type": "markdown",
   "id": "f451caac",
   "metadata": {},
   "source": [
    "<font size = 6> Проверка гипотез увеличения выручки интернет-магазина </font>"
   ]
  },
  {
   "cell_type": "markdown",
   "id": "07f37d57",
   "metadata": {},
   "source": [
    "## Описание проекта"
   ]
  },
  {
   "cell_type": "markdown",
   "id": "9642af85",
   "metadata": {},
   "source": [
    "Совместно с отделом маркетинга подготовлен список гипотез для увеличения выручки.\n",
    "\n",
    "**Задачи:**\n",
    "- приоритизация гипотез; \n",
    "- анализ результатов A/B-теста\n",
    "\n",
    "**Описание данных**\n",
    "\n",
    "Файл hypothesis.csv - гипотезы по увеличению выручки интернет-магазина\n",
    "* Hypothesis — краткое описание гипотезы;\n",
    "* Reach — охват пользователей по 10-балльной шкале;\n",
    "* Impact — влияние на пользователей по 10-балльной шкале;\n",
    "* Confidence — уверенность в гипотезе по 10-балльной шкале;\n",
    "* Efforts — затраты ресурсов на проверку гипотезы по 10-балльной шкале. Чем больше значение Efforts, тем дороже проверка гипотезы.\n",
    "\n",
    "Файлы orders.csv, visitors.csv - результаты  A/B-теста  \n",
    "orders.csv\n",
    "* transactionId — идентификатор заказа;\n",
    "* visitorId — идентификатор пользователя, совершившего заказ;\n",
    "* date — дата, когда был совершён заказ;\n",
    "* revenue — выручка заказа;\n",
    "* group — группа A/B-теста, в которую попал заказ.  \n",
    "\n",
    "visitors.csv\n",
    "* date — дата;\n",
    "* group — группа A/B-теста;\n",
    "* visitors — количество пользователей в указанную дату в указанной группе A/B-теста"
   ]
  },
  {
   "cell_type": "markdown",
   "id": "7511f5d6",
   "metadata": {},
   "source": [
    "## Получение данных"
   ]
  },
  {
   "cell_type": "code",
   "execution_count": 1,
   "id": "c6c6d55d",
   "metadata": {},
   "outputs": [],
   "source": [
    "# Импорт необходимых библиотек\n",
    "import pandas as pd\n",
    "import datetime as dt\n",
    "import numpy as np\n",
    "import matplotlib.pyplot as plt\n",
    "import scipy.stats as stats"
   ]
  },
  {
   "cell_type": "code",
   "execution_count": 2,
   "id": "4589a511",
   "metadata": {},
   "outputs": [],
   "source": [
    "# создадим список с именами тадлиц для чтения\n",
    "files_list = ['hypothesis', 'orders', 'visitors']\n",
    "\n",
    "# ссылка для файлов на Яндексе\n",
    "link_to_files = '**************************'"
   ]
  },
  {
   "cell_type": "code",
   "execution_count": 3,
   "id": "814ea177",
   "metadata": {
    "scrolled": false
   },
   "outputs": [
    {
     "name": "stdout",
     "output_type": "stream",
     "text": [
      ">>>>>>>>>>>>>>>>>>>>>>>>>>>>>>>>>>>>>>>>>>>>>>>>>> hypothesis\n",
      "<class 'pandas.core.frame.DataFrame'>\n",
      "RangeIndex: 9 entries, 0 to 8\n",
      "Data columns (total 5 columns):\n",
      " #   Column      Non-Null Count  Dtype \n",
      "---  ------      --------------  ----- \n",
      " 0   Hypothesis  9 non-null      object\n",
      " 1   Reach       9 non-null      int64 \n",
      " 2   Impact      9 non-null      int64 \n",
      " 3   Confidence  9 non-null      int64 \n",
      " 4   Efforts     9 non-null      int64 \n",
      "dtypes: int64(4), object(1)\n",
      "memory usage: 488.0+ bytes\n"
     ]
    },
    {
     "data": {
      "text/html": [
       "<div>\n",
       "<style scoped>\n",
       "    .dataframe tbody tr th:only-of-type {\n",
       "        vertical-align: middle;\n",
       "    }\n",
       "\n",
       "    .dataframe tbody tr th {\n",
       "        vertical-align: top;\n",
       "    }\n",
       "\n",
       "    .dataframe thead th {\n",
       "        text-align: right;\n",
       "    }\n",
       "</style>\n",
       "<table border=\"1\" class=\"dataframe\">\n",
       "  <thead>\n",
       "    <tr style=\"text-align: right;\">\n",
       "      <th></th>\n",
       "      <th>Hypothesis</th>\n",
       "      <th>Reach</th>\n",
       "      <th>Impact</th>\n",
       "      <th>Confidence</th>\n",
       "      <th>Efforts</th>\n",
       "    </tr>\n",
       "  </thead>\n",
       "  <tbody>\n",
       "    <tr>\n",
       "      <th>0</th>\n",
       "      <td>Добавить два новых канала привлечения трафика,...</td>\n",
       "      <td>3</td>\n",
       "      <td>10</td>\n",
       "      <td>8</td>\n",
       "      <td>6</td>\n",
       "    </tr>\n",
       "    <tr>\n",
       "      <th>1</th>\n",
       "      <td>Запустить собственную службу доставки, что сок...</td>\n",
       "      <td>2</td>\n",
       "      <td>5</td>\n",
       "      <td>4</td>\n",
       "      <td>10</td>\n",
       "    </tr>\n",
       "  </tbody>\n",
       "</table>\n",
       "</div>"
      ],
      "text/plain": [
       "                                          Hypothesis  Reach  Impact  \\\n",
       "0  Добавить два новых канала привлечения трафика,...      3      10   \n",
       "1  Запустить собственную службу доставки, что сок...      2       5   \n",
       "\n",
       "   Confidence  Efforts  \n",
       "0           8        6  \n",
       "1           4       10  "
      ]
     },
     "metadata": {},
     "output_type": "display_data"
    },
    {
     "name": "stdout",
     "output_type": "stream",
     "text": [
      "\n",
      ">>>>>>>>>>>>>>>>>>>>>>>>>>>>>>>>>>>>>>>>>>>>>>>>>> orders\n",
      "<class 'pandas.core.frame.DataFrame'>\n",
      "RangeIndex: 1197 entries, 0 to 1196\n",
      "Data columns (total 5 columns):\n",
      " #   Column         Non-Null Count  Dtype \n",
      "---  ------         --------------  ----- \n",
      " 0   transactionId  1197 non-null   int64 \n",
      " 1   visitorId      1197 non-null   int64 \n",
      " 2   date           1197 non-null   object\n",
      " 3   revenue        1197 non-null   int64 \n",
      " 4   group          1197 non-null   object\n",
      "dtypes: int64(3), object(2)\n",
      "memory usage: 46.9+ KB\n"
     ]
    },
    {
     "data": {
      "text/html": [
       "<div>\n",
       "<style scoped>\n",
       "    .dataframe tbody tr th:only-of-type {\n",
       "        vertical-align: middle;\n",
       "    }\n",
       "\n",
       "    .dataframe tbody tr th {\n",
       "        vertical-align: top;\n",
       "    }\n",
       "\n",
       "    .dataframe thead th {\n",
       "        text-align: right;\n",
       "    }\n",
       "</style>\n",
       "<table border=\"1\" class=\"dataframe\">\n",
       "  <thead>\n",
       "    <tr style=\"text-align: right;\">\n",
       "      <th></th>\n",
       "      <th>transactionId</th>\n",
       "      <th>visitorId</th>\n",
       "      <th>date</th>\n",
       "      <th>revenue</th>\n",
       "      <th>group</th>\n",
       "    </tr>\n",
       "  </thead>\n",
       "  <tbody>\n",
       "    <tr>\n",
       "      <th>0</th>\n",
       "      <td>3667963787</td>\n",
       "      <td>3312258926</td>\n",
       "      <td>2019-08-15</td>\n",
       "      <td>1650</td>\n",
       "      <td>B</td>\n",
       "    </tr>\n",
       "    <tr>\n",
       "      <th>1</th>\n",
       "      <td>2804400009</td>\n",
       "      <td>3642806036</td>\n",
       "      <td>2019-08-15</td>\n",
       "      <td>730</td>\n",
       "      <td>B</td>\n",
       "    </tr>\n",
       "  </tbody>\n",
       "</table>\n",
       "</div>"
      ],
      "text/plain": [
       "   transactionId   visitorId        date  revenue group\n",
       "0     3667963787  3312258926  2019-08-15     1650     B\n",
       "1     2804400009  3642806036  2019-08-15      730     B"
      ]
     },
     "metadata": {},
     "output_type": "display_data"
    },
    {
     "name": "stdout",
     "output_type": "stream",
     "text": [
      "\n",
      ">>>>>>>>>>>>>>>>>>>>>>>>>>>>>>>>>>>>>>>>>>>>>>>>>> visitors\n",
      "<class 'pandas.core.frame.DataFrame'>\n",
      "RangeIndex: 62 entries, 0 to 61\n",
      "Data columns (total 3 columns):\n",
      " #   Column    Non-Null Count  Dtype \n",
      "---  ------    --------------  ----- \n",
      " 0   date      62 non-null     object\n",
      " 1   group     62 non-null     object\n",
      " 2   visitors  62 non-null     int64 \n",
      "dtypes: int64(1), object(2)\n",
      "memory usage: 1.6+ KB\n"
     ]
    },
    {
     "data": {
      "text/html": [
       "<div>\n",
       "<style scoped>\n",
       "    .dataframe tbody tr th:only-of-type {\n",
       "        vertical-align: middle;\n",
       "    }\n",
       "\n",
       "    .dataframe tbody tr th {\n",
       "        vertical-align: top;\n",
       "    }\n",
       "\n",
       "    .dataframe thead th {\n",
       "        text-align: right;\n",
       "    }\n",
       "</style>\n",
       "<table border=\"1\" class=\"dataframe\">\n",
       "  <thead>\n",
       "    <tr style=\"text-align: right;\">\n",
       "      <th></th>\n",
       "      <th>date</th>\n",
       "      <th>group</th>\n",
       "      <th>visitors</th>\n",
       "    </tr>\n",
       "  </thead>\n",
       "  <tbody>\n",
       "    <tr>\n",
       "      <th>0</th>\n",
       "      <td>2019-08-01</td>\n",
       "      <td>A</td>\n",
       "      <td>719</td>\n",
       "    </tr>\n",
       "    <tr>\n",
       "      <th>1</th>\n",
       "      <td>2019-08-02</td>\n",
       "      <td>A</td>\n",
       "      <td>619</td>\n",
       "    </tr>\n",
       "  </tbody>\n",
       "</table>\n",
       "</div>"
      ],
      "text/plain": [
       "         date group  visitors\n",
       "0  2019-08-01     A       719\n",
       "1  2019-08-02     A       619"
      ]
     },
     "metadata": {},
     "output_type": "display_data"
    },
    {
     "name": "stdout",
     "output_type": "stream",
     "text": [
      "\n"
     ]
    }
   ],
   "source": [
    "# читаем данные и выводим название, info и первые 2 строки\n",
    "for file_name in files_list:\n",
    "    \n",
    "    try:\n",
    "        globals()[file_name] = pd.read_csv(file_name + \".csv\")\n",
    "    except Exception as e:\n",
    "        print(f'{e} Локальная версия файла не найдена. Загрузка с ЯП')\n",
    "        globals()[file_name] = pd.read_csv(link_to_files + file_name + \".csv\")\n",
    "    \n",
    "    print(50*'>', file_name)\n",
    "    globals()[file_name].info()\n",
    "    display(globals()[file_name].head(2))\n",
    "    print()"
   ]
  },
  {
   "cell_type": "code",
   "execution_count": 4,
   "id": "2ec90f95",
   "metadata": {},
   "outputs": [
    {
     "data": {
      "text/html": [
       "<div>\n",
       "<style scoped>\n",
       "    .dataframe tbody tr th:only-of-type {\n",
       "        vertical-align: middle;\n",
       "    }\n",
       "\n",
       "    .dataframe tbody tr th {\n",
       "        vertical-align: top;\n",
       "    }\n",
       "\n",
       "    .dataframe thead th {\n",
       "        text-align: right;\n",
       "    }\n",
       "</style>\n",
       "<table border=\"1\" class=\"dataframe\">\n",
       "  <thead>\n",
       "    <tr style=\"text-align: right;\">\n",
       "      <th></th>\n",
       "      <th>visitors</th>\n",
       "    </tr>\n",
       "    <tr>\n",
       "      <th>group</th>\n",
       "      <th></th>\n",
       "    </tr>\n",
       "  </thead>\n",
       "  <tbody>\n",
       "    <tr>\n",
       "      <th>A</th>\n",
       "      <td>18736</td>\n",
       "    </tr>\n",
       "    <tr>\n",
       "      <th>B</th>\n",
       "      <td>18916</td>\n",
       "    </tr>\n",
       "  </tbody>\n",
       "</table>\n",
       "</div>"
      ],
      "text/plain": [
       "       visitors\n",
       "group          \n",
       "A         18736\n",
       "B         18916"
      ]
     },
     "execution_count": 4,
     "metadata": {},
     "output_type": "execute_result"
    }
   ],
   "source": [
    "# посмотрим распределение по группам\n",
    "visitors.groupby('group').agg({'visitors':'sum'})"
   ]
  },
  {
   "cell_type": "code",
   "execution_count": 5,
   "id": "5f62dc2e",
   "metadata": {
    "scrolled": true
   },
   "outputs": [
    {
     "data": {
      "text/html": [
       "<div>\n",
       "<style scoped>\n",
       "    .dataframe tbody tr th:only-of-type {\n",
       "        vertical-align: middle;\n",
       "    }\n",
       "\n",
       "    .dataframe tbody tr th {\n",
       "        vertical-align: top;\n",
       "    }\n",
       "\n",
       "    .dataframe thead th {\n",
       "        text-align: right;\n",
       "    }\n",
       "</style>\n",
       "<table border=\"1\" class=\"dataframe\">\n",
       "  <thead>\n",
       "    <tr style=\"text-align: right;\">\n",
       "      <th></th>\n",
       "      <th>revenue</th>\n",
       "    </tr>\n",
       "    <tr>\n",
       "      <th>group</th>\n",
       "      <th></th>\n",
       "    </tr>\n",
       "  </thead>\n",
       "  <tbody>\n",
       "    <tr>\n",
       "      <th>A</th>\n",
       "      <td>4084803</td>\n",
       "    </tr>\n",
       "    <tr>\n",
       "      <th>B</th>\n",
       "      <td>5907760</td>\n",
       "    </tr>\n",
       "  </tbody>\n",
       "</table>\n",
       "</div>"
      ],
      "text/plain": [
       "       revenue\n",
       "group         \n",
       "A      4084803\n",
       "B      5907760"
      ]
     },
     "execution_count": 5,
     "metadata": {},
     "output_type": "execute_result"
    }
   ],
   "source": [
    "# посмотрим на выручку по группам\n",
    "orders.groupby('group').agg({'revenue':'sum'})"
   ]
  },
  {
   "cell_type": "code",
   "execution_count": 6,
   "id": "15139be0",
   "metadata": {},
   "outputs": [
    {
     "data": {
      "text/html": [
       "<div>\n",
       "<style scoped>\n",
       "    .dataframe tbody tr th:only-of-type {\n",
       "        vertical-align: middle;\n",
       "    }\n",
       "\n",
       "    .dataframe tbody tr th {\n",
       "        vertical-align: top;\n",
       "    }\n",
       "\n",
       "    .dataframe thead th {\n",
       "        text-align: right;\n",
       "    }\n",
       "</style>\n",
       "<table border=\"1\" class=\"dataframe\">\n",
       "  <thead>\n",
       "    <tr style=\"text-align: right;\">\n",
       "      <th></th>\n",
       "      <th>visitors</th>\n",
       "    </tr>\n",
       "    <tr>\n",
       "      <th>group</th>\n",
       "      <th></th>\n",
       "    </tr>\n",
       "  </thead>\n",
       "  <tbody>\n",
       "    <tr>\n",
       "      <th>A</th>\n",
       "      <td>31</td>\n",
       "    </tr>\n",
       "    <tr>\n",
       "      <th>B</th>\n",
       "      <td>31</td>\n",
       "    </tr>\n",
       "  </tbody>\n",
       "</table>\n",
       "</div>"
      ],
      "text/plain": [
       "       visitors\n",
       "group          \n",
       "A            31\n",
       "B            31"
      ]
     },
     "execution_count": 6,
     "metadata": {},
     "output_type": "execute_result"
    }
   ],
   "source": [
    "# посмотрим распределение по группам\n",
    "visitors.groupby('group').agg({'visitors':'count'})"
   ]
  },
  {
   "cell_type": "code",
   "execution_count": 7,
   "id": "c237a71a",
   "metadata": {
    "scrolled": true
   },
   "outputs": [
    {
     "data": {
      "text/html": [
       "<div>\n",
       "<style scoped>\n",
       "    .dataframe tbody tr th:only-of-type {\n",
       "        vertical-align: middle;\n",
       "    }\n",
       "\n",
       "    .dataframe tbody tr th {\n",
       "        vertical-align: top;\n",
       "    }\n",
       "\n",
       "    .dataframe thead th {\n",
       "        text-align: right;\n",
       "    }\n",
       "</style>\n",
       "<table border=\"1\" class=\"dataframe\">\n",
       "  <thead>\n",
       "    <tr style=\"text-align: right;\">\n",
       "      <th></th>\n",
       "      <th>orders</th>\n",
       "      <th>total_revenue</th>\n",
       "    </tr>\n",
       "    <tr>\n",
       "      <th>group</th>\n",
       "      <th></th>\n",
       "      <th></th>\n",
       "    </tr>\n",
       "  </thead>\n",
       "  <tbody>\n",
       "    <tr>\n",
       "      <th>A</th>\n",
       "      <td>557</td>\n",
       "      <td>4084803</td>\n",
       "    </tr>\n",
       "    <tr>\n",
       "      <th>B</th>\n",
       "      <td>640</td>\n",
       "      <td>5907760</td>\n",
       "    </tr>\n",
       "  </tbody>\n",
       "</table>\n",
       "</div>"
      ],
      "text/plain": [
       "       orders  total_revenue\n",
       "group                       \n",
       "A         557        4084803\n",
       "B         640        5907760"
      ]
     },
     "execution_count": 7,
     "metadata": {},
     "output_type": "execute_result"
    }
   ],
   "source": [
    "# посмотрим на число заказов и выручку по группам \n",
    "(\n",
    "orders.groupby('group')\n",
    "    .agg({'transactionId':'count', 'revenue':'sum'})\n",
    "    .rename(columns={'transactionId': 'orders', 'revenue': 'total_revenue'})\n",
    ")    "
   ]
  },
  {
   "cell_type": "code",
   "execution_count": 8,
   "id": "85f1775f",
   "metadata": {},
   "outputs": [
    {
     "name": "stdout",
     "output_type": "stream",
     "text": [
      "Число дубликатов в таблице orders   - 0\n",
      "Число дубликатов в таблице visitors - 0\n"
     ]
    }
   ],
   "source": [
    "# проверим число дубликатов в таблицах\n",
    "print(f'Число дубликатов в таблице orders   - {orders.duplicated().sum()}')\n",
    "print(f'Число дубликатов в таблице visitors - {visitors.duplicated().sum()}')"
   ]
  },
  {
   "cell_type": "code",
   "execution_count": 9,
   "id": "75732fb6",
   "metadata": {},
   "outputs": [
    {
     "name": "stdout",
     "output_type": "stream",
     "text": [
      "Число клиентов попавших в обе группы - 58\n"
     ]
    }
   ],
   "source": [
    "# посмотрим на число пересечений, т.е. число visitorId попавших в обе группы\n",
    "id_repeats = len(pd.merge(orders[orders['group'] == 'A']['visitorId'].drop_duplicates(),\n",
    "                          orders[orders['group'] == 'B']['visitorId'].drop_duplicates(),\n",
    "                          how='inner',\n",
    "                          on='visitorId',\n",
    "                         )\n",
    "                )\n",
    "print(f'Число клиентов попавших в обе группы - {id_repeats}')"
   ]
  },
  {
   "cell_type": "markdown",
   "id": "c973e974",
   "metadata": {},
   "source": [
    "Дубликаты не выявлены. Наличие пересечений учтём ниже при установлении гриниц аномальности."
   ]
  },
  {
   "cell_type": "markdown",
   "id": "b5bb68e3",
   "metadata": {},
   "source": [
    "## Приоритизация гипотез"
   ]
  },
  {
   "cell_type": "code",
   "execution_count": 10,
   "id": "d673898a",
   "metadata": {},
   "outputs": [
    {
     "data": {
      "text/html": [
       "<div>\n",
       "<style scoped>\n",
       "    .dataframe tbody tr th:only-of-type {\n",
       "        vertical-align: middle;\n",
       "    }\n",
       "\n",
       "    .dataframe tbody tr th {\n",
       "        vertical-align: top;\n",
       "    }\n",
       "\n",
       "    .dataframe thead th {\n",
       "        text-align: right;\n",
       "    }\n",
       "</style>\n",
       "<table border=\"1\" class=\"dataframe\">\n",
       "  <thead>\n",
       "    <tr style=\"text-align: right;\">\n",
       "      <th></th>\n",
       "      <th>Hypothesis</th>\n",
       "      <th>Reach</th>\n",
       "      <th>Impact</th>\n",
       "      <th>Confidence</th>\n",
       "      <th>Efforts</th>\n",
       "    </tr>\n",
       "  </thead>\n",
       "  <tbody>\n",
       "    <tr>\n",
       "      <th>0</th>\n",
       "      <td>Добавить два новых канала привлечения трафика, что позволит привлекать на 30% больше пользователей</td>\n",
       "      <td>3</td>\n",
       "      <td>10</td>\n",
       "      <td>8</td>\n",
       "      <td>6</td>\n",
       "    </tr>\n",
       "    <tr>\n",
       "      <th>1</th>\n",
       "      <td>Запустить собственную службу доставки, что сократит срок доставки заказов</td>\n",
       "      <td>2</td>\n",
       "      <td>5</td>\n",
       "      <td>4</td>\n",
       "      <td>10</td>\n",
       "    </tr>\n",
       "    <tr>\n",
       "      <th>2</th>\n",
       "      <td>Добавить блоки рекомендаций товаров на сайт интернет магазина, чтобы повысить конверсию и средний чек заказа</td>\n",
       "      <td>8</td>\n",
       "      <td>3</td>\n",
       "      <td>7</td>\n",
       "      <td>3</td>\n",
       "    </tr>\n",
       "    <tr>\n",
       "      <th>3</th>\n",
       "      <td>Изменить структура категорий, что увеличит конверсию, т.к. пользователи быстрее найдут нужный товар</td>\n",
       "      <td>8</td>\n",
       "      <td>3</td>\n",
       "      <td>3</td>\n",
       "      <td>8</td>\n",
       "    </tr>\n",
       "    <tr>\n",
       "      <th>4</th>\n",
       "      <td>Изменить цвет фона главной страницы, чтобы увеличить вовлеченность пользователей</td>\n",
       "      <td>3</td>\n",
       "      <td>1</td>\n",
       "      <td>1</td>\n",
       "      <td>1</td>\n",
       "    </tr>\n",
       "    <tr>\n",
       "      <th>5</th>\n",
       "      <td>Добавить страницу отзывов клиентов о магазине, что позволит увеличить количество заказов</td>\n",
       "      <td>3</td>\n",
       "      <td>2</td>\n",
       "      <td>2</td>\n",
       "      <td>3</td>\n",
       "    </tr>\n",
       "    <tr>\n",
       "      <th>6</th>\n",
       "      <td>Показать на главной странице баннеры с актуальными акциями и распродажами, чтобы увеличить конверсию</td>\n",
       "      <td>5</td>\n",
       "      <td>3</td>\n",
       "      <td>8</td>\n",
       "      <td>3</td>\n",
       "    </tr>\n",
       "    <tr>\n",
       "      <th>7</th>\n",
       "      <td>Добавить форму подписки на все основные страницы, чтобы собрать базу клиентов для email-рассылок</td>\n",
       "      <td>10</td>\n",
       "      <td>7</td>\n",
       "      <td>8</td>\n",
       "      <td>5</td>\n",
       "    </tr>\n",
       "    <tr>\n",
       "      <th>8</th>\n",
       "      <td>Запустить акцию, дающую скидку на товар в день рождения</td>\n",
       "      <td>1</td>\n",
       "      <td>9</td>\n",
       "      <td>9</td>\n",
       "      <td>5</td>\n",
       "    </tr>\n",
       "  </tbody>\n",
       "</table>\n",
       "</div>"
      ],
      "text/plain": [
       "                                                                                                     Hypothesis  \\\n",
       "0  Добавить два новых канала привлечения трафика, что позволит привлекать на 30% больше пользователей             \n",
       "1  Запустить собственную службу доставки, что сократит срок доставки заказов                                      \n",
       "2  Добавить блоки рекомендаций товаров на сайт интернет магазина, чтобы повысить конверсию и средний чек заказа   \n",
       "3  Изменить структура категорий, что увеличит конверсию, т.к. пользователи быстрее найдут нужный товар            \n",
       "4  Изменить цвет фона главной страницы, чтобы увеличить вовлеченность пользователей                               \n",
       "5  Добавить страницу отзывов клиентов о магазине, что позволит увеличить количество заказов                       \n",
       "6  Показать на главной странице баннеры с актуальными акциями и распродажами, чтобы увеличить конверсию           \n",
       "7  Добавить форму подписки на все основные страницы, чтобы собрать базу клиентов для email-рассылок               \n",
       "8  Запустить акцию, дающую скидку на товар в день рождения                                                        \n",
       "\n",
       "   Reach  Impact  Confidence  Efforts  \n",
       "0  3      10      8           6        \n",
       "1  2      5       4           10       \n",
       "2  8      3       7           3        \n",
       "3  8      3       3           8        \n",
       "4  3      1       1           1        \n",
       "5  3      2       2           3        \n",
       "6  5      3       8           3        \n",
       "7  10     7       8           5        \n",
       "8  1      9       9           5        "
      ]
     },
     "execution_count": 10,
     "metadata": {},
     "output_type": "execute_result"
    }
   ],
   "source": [
    "# Посмотрим на таблицу с гипотезами\n",
    "pd.set_option('display.max_colwidth', 0)\n",
    "hypothesis"
   ]
  },
  {
   "cell_type": "markdown",
   "id": "e62bcd6d",
   "metadata": {},
   "source": [
    "### Фреймворк ICE"
   ]
  },
  {
   "cell_type": "code",
   "execution_count": 11,
   "id": "f782d980",
   "metadata": {
    "scrolled": true
   },
   "outputs": [
    {
     "data": {
      "text/html": [
       "<div>\n",
       "<style scoped>\n",
       "    .dataframe tbody tr th:only-of-type {\n",
       "        vertical-align: middle;\n",
       "    }\n",
       "\n",
       "    .dataframe tbody tr th {\n",
       "        vertical-align: top;\n",
       "    }\n",
       "\n",
       "    .dataframe thead th {\n",
       "        text-align: right;\n",
       "    }\n",
       "</style>\n",
       "<table border=\"1\" class=\"dataframe\">\n",
       "  <thead>\n",
       "    <tr style=\"text-align: right;\">\n",
       "      <th></th>\n",
       "      <th>Hypothesis</th>\n",
       "      <th>Reach</th>\n",
       "      <th>Impact</th>\n",
       "      <th>Confidence</th>\n",
       "      <th>Efforts</th>\n",
       "      <th>ICE</th>\n",
       "    </tr>\n",
       "  </thead>\n",
       "  <tbody>\n",
       "    <tr>\n",
       "      <th>8</th>\n",
       "      <td>Запустить акцию, дающую скидку на товар в день рождения</td>\n",
       "      <td>1</td>\n",
       "      <td>9</td>\n",
       "      <td>9</td>\n",
       "      <td>5</td>\n",
       "      <td>16.200000</td>\n",
       "    </tr>\n",
       "    <tr>\n",
       "      <th>0</th>\n",
       "      <td>Добавить два новых канала привлечения трафика, что позволит привлекать на 30% больше пользователей</td>\n",
       "      <td>3</td>\n",
       "      <td>10</td>\n",
       "      <td>8</td>\n",
       "      <td>6</td>\n",
       "      <td>13.333333</td>\n",
       "    </tr>\n",
       "    <tr>\n",
       "      <th>7</th>\n",
       "      <td>Добавить форму подписки на все основные страницы, чтобы собрать базу клиентов для email-рассылок</td>\n",
       "      <td>10</td>\n",
       "      <td>7</td>\n",
       "      <td>8</td>\n",
       "      <td>5</td>\n",
       "      <td>11.200000</td>\n",
       "    </tr>\n",
       "    <tr>\n",
       "      <th>6</th>\n",
       "      <td>Показать на главной странице баннеры с актуальными акциями и распродажами, чтобы увеличить конверсию</td>\n",
       "      <td>5</td>\n",
       "      <td>3</td>\n",
       "      <td>8</td>\n",
       "      <td>3</td>\n",
       "      <td>8.000000</td>\n",
       "    </tr>\n",
       "    <tr>\n",
       "      <th>2</th>\n",
       "      <td>Добавить блоки рекомендаций товаров на сайт интернет магазина, чтобы повысить конверсию и средний чек заказа</td>\n",
       "      <td>8</td>\n",
       "      <td>3</td>\n",
       "      <td>7</td>\n",
       "      <td>3</td>\n",
       "      <td>7.000000</td>\n",
       "    </tr>\n",
       "    <tr>\n",
       "      <th>1</th>\n",
       "      <td>Запустить собственную службу доставки, что сократит срок доставки заказов</td>\n",
       "      <td>2</td>\n",
       "      <td>5</td>\n",
       "      <td>4</td>\n",
       "      <td>10</td>\n",
       "      <td>2.000000</td>\n",
       "    </tr>\n",
       "    <tr>\n",
       "      <th>5</th>\n",
       "      <td>Добавить страницу отзывов клиентов о магазине, что позволит увеличить количество заказов</td>\n",
       "      <td>3</td>\n",
       "      <td>2</td>\n",
       "      <td>2</td>\n",
       "      <td>3</td>\n",
       "      <td>1.333333</td>\n",
       "    </tr>\n",
       "    <tr>\n",
       "      <th>3</th>\n",
       "      <td>Изменить структура категорий, что увеличит конверсию, т.к. пользователи быстрее найдут нужный товар</td>\n",
       "      <td>8</td>\n",
       "      <td>3</td>\n",
       "      <td>3</td>\n",
       "      <td>8</td>\n",
       "      <td>1.125000</td>\n",
       "    </tr>\n",
       "    <tr>\n",
       "      <th>4</th>\n",
       "      <td>Изменить цвет фона главной страницы, чтобы увеличить вовлеченность пользователей</td>\n",
       "      <td>3</td>\n",
       "      <td>1</td>\n",
       "      <td>1</td>\n",
       "      <td>1</td>\n",
       "      <td>1.000000</td>\n",
       "    </tr>\n",
       "  </tbody>\n",
       "</table>\n",
       "</div>"
      ],
      "text/plain": [
       "                                                                                                     Hypothesis  \\\n",
       "8  Запустить акцию, дающую скидку на товар в день рождения                                                        \n",
       "0  Добавить два новых канала привлечения трафика, что позволит привлекать на 30% больше пользователей             \n",
       "7  Добавить форму подписки на все основные страницы, чтобы собрать базу клиентов для email-рассылок               \n",
       "6  Показать на главной странице баннеры с актуальными акциями и распродажами, чтобы увеличить конверсию           \n",
       "2  Добавить блоки рекомендаций товаров на сайт интернет магазина, чтобы повысить конверсию и средний чек заказа   \n",
       "1  Запустить собственную службу доставки, что сократит срок доставки заказов                                      \n",
       "5  Добавить страницу отзывов клиентов о магазине, что позволит увеличить количество заказов                       \n",
       "3  Изменить структура категорий, что увеличит конверсию, т.к. пользователи быстрее найдут нужный товар            \n",
       "4  Изменить цвет фона главной страницы, чтобы увеличить вовлеченность пользователей                               \n",
       "\n",
       "   Reach  Impact  Confidence  Efforts        ICE  \n",
       "8  1      9       9           5        16.200000  \n",
       "0  3      10      8           6        13.333333  \n",
       "7  10     7       8           5        11.200000  \n",
       "6  5      3       8           3        8.000000   \n",
       "2  8      3       7           3        7.000000   \n",
       "1  2      5       4           10       2.000000   \n",
       "5  3      2       2           3        1.333333   \n",
       "3  8      3       3           8        1.125000   \n",
       "4  3      1       1           1        1.000000   "
      ]
     },
     "execution_count": 11,
     "metadata": {},
     "output_type": "execute_result"
    }
   ],
   "source": [
    "# Применим фреймворк ICE для приоритизации гипотез\n",
    "hypothesis['ICE'] = hypothesis['Impact'] * hypothesis['Confidence'] / hypothesis['Efforts']\n",
    "\n",
    "hypothesis.sort_values(by='ICE', ascending=False)"
   ]
  },
  {
   "cell_type": "markdown",
   "id": "66888fc2",
   "metadata": {},
   "source": [
    "Наиболее перспективные гипотезы по ICE: 8, 0, 7"
   ]
  },
  {
   "cell_type": "markdown",
   "id": "905549ad",
   "metadata": {},
   "source": [
    "### Фреймворк RICE"
   ]
  },
  {
   "cell_type": "code",
   "execution_count": 12,
   "id": "f6abb4fd",
   "metadata": {},
   "outputs": [
    {
     "data": {
      "text/html": [
       "<div>\n",
       "<style scoped>\n",
       "    .dataframe tbody tr th:only-of-type {\n",
       "        vertical-align: middle;\n",
       "    }\n",
       "\n",
       "    .dataframe tbody tr th {\n",
       "        vertical-align: top;\n",
       "    }\n",
       "\n",
       "    .dataframe thead th {\n",
       "        text-align: right;\n",
       "    }\n",
       "</style>\n",
       "<table border=\"1\" class=\"dataframe\">\n",
       "  <thead>\n",
       "    <tr style=\"text-align: right;\">\n",
       "      <th></th>\n",
       "      <th>Hypothesis</th>\n",
       "      <th>Reach</th>\n",
       "      <th>Impact</th>\n",
       "      <th>Confidence</th>\n",
       "      <th>Efforts</th>\n",
       "      <th>ICE</th>\n",
       "      <th>RICE</th>\n",
       "    </tr>\n",
       "  </thead>\n",
       "  <tbody>\n",
       "    <tr>\n",
       "      <th>7</th>\n",
       "      <td>Добавить форму подписки на все основные страницы, чтобы собрать базу клиентов для email-рассылок</td>\n",
       "      <td>10</td>\n",
       "      <td>7</td>\n",
       "      <td>8</td>\n",
       "      <td>5</td>\n",
       "      <td>11.200000</td>\n",
       "      <td>112.0</td>\n",
       "    </tr>\n",
       "    <tr>\n",
       "      <th>2</th>\n",
       "      <td>Добавить блоки рекомендаций товаров на сайт интернет магазина, чтобы повысить конверсию и средний чек заказа</td>\n",
       "      <td>8</td>\n",
       "      <td>3</td>\n",
       "      <td>7</td>\n",
       "      <td>3</td>\n",
       "      <td>7.000000</td>\n",
       "      <td>56.0</td>\n",
       "    </tr>\n",
       "    <tr>\n",
       "      <th>0</th>\n",
       "      <td>Добавить два новых канала привлечения трафика, что позволит привлекать на 30% больше пользователей</td>\n",
       "      <td>3</td>\n",
       "      <td>10</td>\n",
       "      <td>8</td>\n",
       "      <td>6</td>\n",
       "      <td>13.333333</td>\n",
       "      <td>40.0</td>\n",
       "    </tr>\n",
       "    <tr>\n",
       "      <th>6</th>\n",
       "      <td>Показать на главной странице баннеры с актуальными акциями и распродажами, чтобы увеличить конверсию</td>\n",
       "      <td>5</td>\n",
       "      <td>3</td>\n",
       "      <td>8</td>\n",
       "      <td>3</td>\n",
       "      <td>8.000000</td>\n",
       "      <td>40.0</td>\n",
       "    </tr>\n",
       "    <tr>\n",
       "      <th>8</th>\n",
       "      <td>Запустить акцию, дающую скидку на товар в день рождения</td>\n",
       "      <td>1</td>\n",
       "      <td>9</td>\n",
       "      <td>9</td>\n",
       "      <td>5</td>\n",
       "      <td>16.200000</td>\n",
       "      <td>16.2</td>\n",
       "    </tr>\n",
       "    <tr>\n",
       "      <th>3</th>\n",
       "      <td>Изменить структура категорий, что увеличит конверсию, т.к. пользователи быстрее найдут нужный товар</td>\n",
       "      <td>8</td>\n",
       "      <td>3</td>\n",
       "      <td>3</td>\n",
       "      <td>8</td>\n",
       "      <td>1.125000</td>\n",
       "      <td>9.0</td>\n",
       "    </tr>\n",
       "    <tr>\n",
       "      <th>1</th>\n",
       "      <td>Запустить собственную службу доставки, что сократит срок доставки заказов</td>\n",
       "      <td>2</td>\n",
       "      <td>5</td>\n",
       "      <td>4</td>\n",
       "      <td>10</td>\n",
       "      <td>2.000000</td>\n",
       "      <td>4.0</td>\n",
       "    </tr>\n",
       "    <tr>\n",
       "      <th>5</th>\n",
       "      <td>Добавить страницу отзывов клиентов о магазине, что позволит увеличить количество заказов</td>\n",
       "      <td>3</td>\n",
       "      <td>2</td>\n",
       "      <td>2</td>\n",
       "      <td>3</td>\n",
       "      <td>1.333333</td>\n",
       "      <td>4.0</td>\n",
       "    </tr>\n",
       "    <tr>\n",
       "      <th>4</th>\n",
       "      <td>Изменить цвет фона главной страницы, чтобы увеличить вовлеченность пользователей</td>\n",
       "      <td>3</td>\n",
       "      <td>1</td>\n",
       "      <td>1</td>\n",
       "      <td>1</td>\n",
       "      <td>1.000000</td>\n",
       "      <td>3.0</td>\n",
       "    </tr>\n",
       "  </tbody>\n",
       "</table>\n",
       "</div>"
      ],
      "text/plain": [
       "                                                                                                     Hypothesis  \\\n",
       "7  Добавить форму подписки на все основные страницы, чтобы собрать базу клиентов для email-рассылок               \n",
       "2  Добавить блоки рекомендаций товаров на сайт интернет магазина, чтобы повысить конверсию и средний чек заказа   \n",
       "0  Добавить два новых канала привлечения трафика, что позволит привлекать на 30% больше пользователей             \n",
       "6  Показать на главной странице баннеры с актуальными акциями и распродажами, чтобы увеличить конверсию           \n",
       "8  Запустить акцию, дающую скидку на товар в день рождения                                                        \n",
       "3  Изменить структура категорий, что увеличит конверсию, т.к. пользователи быстрее найдут нужный товар            \n",
       "1  Запустить собственную службу доставки, что сократит срок доставки заказов                                      \n",
       "5  Добавить страницу отзывов клиентов о магазине, что позволит увеличить количество заказов                       \n",
       "4  Изменить цвет фона главной страницы, чтобы увеличить вовлеченность пользователей                               \n",
       "\n",
       "   Reach  Impact  Confidence  Efforts        ICE   RICE  \n",
       "7  10     7       8           5        11.200000  112.0  \n",
       "2  8      3       7           3        7.000000   56.0   \n",
       "0  3      10      8           6        13.333333  40.0   \n",
       "6  5      3       8           3        8.000000   40.0   \n",
       "8  1      9       9           5        16.200000  16.2   \n",
       "3  8      3       3           8        1.125000   9.0    \n",
       "1  2      5       4           10       2.000000   4.0    \n",
       "5  3      2       2           3        1.333333   4.0    \n",
       "4  3      1       1           1        1.000000   3.0    "
      ]
     },
     "execution_count": 12,
     "metadata": {},
     "output_type": "execute_result"
    }
   ],
   "source": [
    "# Применим фреймворк RICE для приоритизации гипотез\n",
    "hypothesis['RICE'] = hypothesis['Reach'] * hypothesis['Impact'] * hypothesis['Confidence'] / hypothesis['Efforts']\n",
    "\n",
    "hypothesis.sort_values(by='RICE', ascending=False)"
   ]
  },
  {
   "cell_type": "markdown",
   "id": "cc38c895",
   "metadata": {},
   "source": [
    "При расчете RICE гипотеза 8 опустилась на 5-ое место в то время как на первое поднялась гипотеза 7. Это обусловлено учетом показателя охвата при расчёте RICE. Так охват для гипотезы 7 оценен в 10, а для гипотезы 8 только в 1."
   ]
  },
  {
   "cell_type": "code",
   "execution_count": 13,
   "id": "c8523f61",
   "metadata": {},
   "outputs": [
    {
     "name": "stdout",
     "output_type": "stream",
     "text": [
      "Приоритетная гипотеза: Добавить форму подписки на все основные страницы, чтобы собрать базу клиентов для email-рассылок\n"
     ]
    }
   ],
   "source": [
    "print(f\"Приоритетная гипотеза: {hypothesis.loc[7, 'Hypothesis']}\")"
   ]
  },
  {
   "cell_type": "markdown",
   "id": "23b1caea",
   "metadata": {},
   "source": [
    "## Анализ A/B-теста"
   ]
  },
  {
   "cell_type": "markdown",
   "id": "652ab74c",
   "metadata": {},
   "source": [
    "Изменим формат данных"
   ]
  },
  {
   "cell_type": "code",
   "execution_count": 14,
   "id": "3069af66",
   "metadata": {},
   "outputs": [],
   "source": [
    "orders['date'] = orders['date'].map(lambda x: dt.datetime.strptime(x, '%Y-%m-%d'))\n",
    "visitors['date'] = visitors['date'].map(lambda x: dt.datetime.strptime(x, '%Y-%m-%d'))"
   ]
  },
  {
   "cell_type": "markdown",
   "id": "44db7ccb",
   "metadata": {},
   "source": [
    "### Кумулятивная выручка по группам"
   ]
  },
  {
   "cell_type": "code",
   "execution_count": 15,
   "id": "47cee319",
   "metadata": {},
   "outputs": [
    {
     "data": {
      "text/html": [
       "<div>\n",
       "<style scoped>\n",
       "    .dataframe tbody tr th:only-of-type {\n",
       "        vertical-align: middle;\n",
       "    }\n",
       "\n",
       "    .dataframe tbody tr th {\n",
       "        vertical-align: top;\n",
       "    }\n",
       "\n",
       "    .dataframe thead th {\n",
       "        text-align: right;\n",
       "    }\n",
       "</style>\n",
       "<table border=\"1\" class=\"dataframe\">\n",
       "  <thead>\n",
       "    <tr style=\"text-align: right;\">\n",
       "      <th></th>\n",
       "      <th>date</th>\n",
       "      <th>group</th>\n",
       "      <th>orders</th>\n",
       "      <th>buyers</th>\n",
       "      <th>revenue</th>\n",
       "      <th>visitors</th>\n",
       "    </tr>\n",
       "  </thead>\n",
       "  <tbody>\n",
       "    <tr>\n",
       "      <th>0</th>\n",
       "      <td>2019-08-01</td>\n",
       "      <td>A</td>\n",
       "      <td>24</td>\n",
       "      <td>20</td>\n",
       "      <td>148579</td>\n",
       "      <td>719</td>\n",
       "    </tr>\n",
       "    <tr>\n",
       "      <th>1</th>\n",
       "      <td>2019-08-01</td>\n",
       "      <td>B</td>\n",
       "      <td>21</td>\n",
       "      <td>20</td>\n",
       "      <td>101217</td>\n",
       "      <td>713</td>\n",
       "    </tr>\n",
       "    <tr>\n",
       "      <th>2</th>\n",
       "      <td>2019-08-02</td>\n",
       "      <td>A</td>\n",
       "      <td>44</td>\n",
       "      <td>38</td>\n",
       "      <td>242401</td>\n",
       "      <td>1338</td>\n",
       "    </tr>\n",
       "    <tr>\n",
       "      <th>3</th>\n",
       "      <td>2019-08-02</td>\n",
       "      <td>B</td>\n",
       "      <td>45</td>\n",
       "      <td>43</td>\n",
       "      <td>266748</td>\n",
       "      <td>1294</td>\n",
       "    </tr>\n",
       "    <tr>\n",
       "      <th>4</th>\n",
       "      <td>2019-08-03</td>\n",
       "      <td>A</td>\n",
       "      <td>68</td>\n",
       "      <td>62</td>\n",
       "      <td>354874</td>\n",
       "      <td>1845</td>\n",
       "    </tr>\n",
       "  </tbody>\n",
       "</table>\n",
       "</div>"
      ],
      "text/plain": [
       "        date group  orders  buyers  revenue  visitors\n",
       "0 2019-08-01  A     24      20      148579   719     \n",
       "1 2019-08-01  B     21      20      101217   713     \n",
       "2 2019-08-02  A     44      38      242401   1338    \n",
       "3 2019-08-02  B     45      43      266748   1294    \n",
       "4 2019-08-03  A     68      62      354874   1845    "
      ]
     },
     "execution_count": 15,
     "metadata": {},
     "output_type": "execute_result"
    }
   ],
   "source": [
    "# создадим массив уникальных пар значений дата - группа теста\n",
    "datesGroups = orders[['date','group']].drop_duplicates()\n",
    "\n",
    "# кумулятивные данные о заказах \n",
    "ordersAggregated = ( \n",
    "    datesGroups.apply(lambda x: orders[np.logical_and(orders['date'] <= x['date'], orders['group'] == x['group'])]\n",
    "    .agg({'date' : 'max',\n",
    "          'group' : 'max',\n",
    "          'transactionId' : 'nunique',\n",
    "          'visitorId' : 'nunique',\n",
    "          'revenue' : 'sum'}), axis=1)\n",
    "    .sort_values(by=['date','group'])\n",
    ")\n",
    "\n",
    "# кумулятивные данные о посетителях \n",
    "visitorsAggregated = (\n",
    "    datesGroups.apply(lambda x: visitors[np.logical_and(visitors['date'] <= x['date'], visitors['group'] == x['group'])]\n",
    "    .agg({'date' : 'max', \n",
    "          'group' : 'max', \n",
    "          'visitors' : 'sum'}), axis=1)\n",
    "    .sort_values(by=['date','group'])\n",
    ")\n",
    "\n",
    "# объединим кумулятивные данные в одной таблице\n",
    "cumulativeData = ordersAggregated.merge(visitorsAggregated, left_on=['date', 'group'], right_on=['date', 'group'])\n",
    "# переименуем столбцы\n",
    "cumulativeData.columns = ['date', 'group', 'orders', 'buyers', 'revenue', 'visitors']\n",
    "cumulativeData.head()"
   ]
  },
  {
   "cell_type": "code",
   "execution_count": 16,
   "id": "f527f6e8",
   "metadata": {},
   "outputs": [
    {
     "data": {
      "image/png": "[encoded data removed]",
      "text/plain": [
       "<Figure size 1080x504 with 1 Axes>"
      ]
     },
     "metadata": {
      "needs_background": "light"
     },
     "output_type": "display_data"
    }
   ],
   "source": [
    "# разделим данные по группам\n",
    "cumulativeRevenueA = cumulativeData[cumulativeData['group']=='A'][['date', 'revenue', 'orders']]\n",
    "cumulativeRevenueB = cumulativeData[cumulativeData['group']=='B'][['date', 'revenue', 'orders']]\n",
    "\n",
    "# строим графики\n",
    "plt.figure(figsize=(15, 7))\n",
    "plt.plot(cumulativeRevenueA['date'], cumulativeRevenueA['revenue'], label='A')\n",
    "plt.plot(cumulativeRevenueB['date'], cumulativeRevenueB['revenue'], label='B')\n",
    "\n",
    "plt.title(f'Кумулятивная выручка по группам', fontsize=16)\n",
    "plt.grid(axis='both')\n",
    "plt.ylabel(\"Выручка, млн. руб.\", fontsize=14)\n",
    "\n",
    "plt.legend()\n",
    "plt.show()"
   ]
  },
  {
   "cell_type": "markdown",
   "id": "45e21917",
   "metadata": {},
   "source": [
    "**Выводы** Выручка по обеим группам растёт. В группе В, между 18 и 20 августом, имеет место резкий скачок. Вероятно, в указаное время имела место, либо необычно высокая активность всех польхователей, либо большой заказ."
   ]
  },
  {
   "cell_type": "markdown",
   "id": "4202be3f",
   "metadata": {},
   "source": [
    "### Кумулятивный средний чек по группам "
   ]
  },
  {
   "cell_type": "code",
   "execution_count": 17,
   "id": "520f5ea8",
   "metadata": {},
   "outputs": [
    {
     "data": {
      "image/png": "[encoded data removed]",
      "text/plain": [
       "<Figure size 1080x504 with 1 Axes>"
      ]
     },
     "metadata": {
      "needs_background": "light"
     },
     "output_type": "display_data"
    }
   ],
   "source": [
    "plt.figure(figsize=(15, 7))\n",
    "\n",
    "# разделим кумулятивную выручку на кумулятивное число заказов\n",
    "plt.plot(cumulativeRevenueA['date'], cumulativeRevenueA['revenue']/cumulativeRevenueA['orders'], label='A')\n",
    "plt.plot(cumulativeRevenueB['date'], cumulativeRevenueB['revenue']/cumulativeRevenueB['orders'], label='B')\n",
    "\n",
    "plt.title(f'Средний чек по группам', fontsize=16)\n",
    "plt.grid(axis='both')\n",
    "plt.ylabel(\"Сумма покупки, руб\", fontsize=14)\n",
    "plt.legend()\n",
    "plt.show()"
   ]
  },
  {
   "cell_type": "markdown",
   "id": "d43b0572",
   "metadata": {},
   "source": [
    "**Выводы** В первой декаде средние чеки по группам А и В показывают разнонаправленное движение. Средний чек группы В здесь выше, различие до полутора тысяч. К середине месяца группы сходятся и средние чеки колеблются в районе 7000руб. Далее следуют резкий рост среднего чека группы В, обусловленный предположительно большим заказом. Во второй половине месяца средний чек группы А колеблется около 7000, а группы В - достигнув максимума в чуть более 10000 снизился на 1000 за примерно 10 дней."
   ]
  },
  {
   "cell_type": "markdown",
   "id": "653ba066",
   "metadata": {},
   "source": [
    "### Относительное изменение кумулятивного среднего чека группы B к группе A"
   ]
  },
  {
   "cell_type": "code",
   "execution_count": 18,
   "id": "5f8af586",
   "metadata": {},
   "outputs": [
    {
     "data": {
      "image/png": "[encoded data removed]",
      "text/plain": [
       "<Figure size 1080x504 with 1 Axes>"
      ]
     },
     "metadata": {
      "needs_background": "light"
     },
     "output_type": "display_data"
    }
   ],
   "source": [
    "# объединим данные групп по кумулятивной выручке\n",
    "mergedCumulativeRevenue = (\n",
    "    cumulativeRevenueA.merge(cumulativeRevenueB, left_on='date', right_on='date', how='left', suffixes=['A', 'B']))\n",
    "\n",
    "# cтроим тграфик относительного различия\n",
    "plt.figure(figsize=(15, 7))\n",
    "\n",
    "plt.plot(\n",
    "    mergedCumulativeRevenue['date'], \n",
    "    (mergedCumulativeRevenue['revenueB']/mergedCumulativeRevenue['ordersB'])/\n",
    "    (mergedCumulativeRevenue['revenueA']/mergedCumulativeRevenue['ordersA'])-1)\n",
    "\n",
    "plt.title(f'Относительное различие среднего чека', fontsize=16)\n",
    "plt.grid(axis='both')\n",
    "plt.show()"
   ]
  },
  {
   "cell_type": "markdown",
   "id": "bf64e542",
   "metadata": {},
   "source": [
    "**Выводы**  По полученному графику однозначно выделить какую-либо из групп затруднительно. Группа B, на рассмотриваемом интервал, в целом лучше группы A, но имеется провал и нисходящий тренд в третьей декаде."
   ]
  },
  {
   "cell_type": "markdown",
   "id": "34ce26bc",
   "metadata": {},
   "source": [
    "### Кумулятивная конверсия по группам"
   ]
  },
  {
   "cell_type": "code",
   "execution_count": 19,
   "id": "b1ffe09d",
   "metadata": {},
   "outputs": [
    {
     "data": {
      "image/png": "[encoded data removed]",
      "text/plain": [
       "<Figure size 1080x504 with 1 Axes>"
      ]
     },
     "metadata": {
      "needs_background": "light"
     },
     "output_type": "display_data"
    }
   ],
   "source": [
    "# считаем кумулятивную конверсию\n",
    "cumulativeData['conversion'] = cumulativeData['orders']/cumulativeData['visitors']\n",
    "\n",
    "# выделяем данные по группам A и В\n",
    "cumulativeDataA = cumulativeData[cumulativeData['group']=='A']\n",
    "cumulativeDataB = cumulativeData[cumulativeData['group']=='B']\n",
    "\n",
    "# строим графики\n",
    "plt.figure(figsize=(15, 7))\n",
    "plt.plot(cumulativeDataA['date'], cumulativeDataA['conversion'], label='A')\n",
    "plt.plot(cumulativeDataB['date'], cumulativeDataB['conversion'], label='B')\n",
    "\n",
    "plt.title(f'Кумулятивная конверсия по группам', fontsize=16)\n",
    "plt.grid(axis='both')\n",
    "plt.legend()\n",
    "\n",
    "plt.show()"
   ]
  },
  {
   "cell_type": "markdown",
   "id": "f1811676",
   "metadata": {},
   "source": [
    "**Выводы** Конверсия группы В после незначительного колебания в начале, показывает лучший результат. Можно говорить, что конверсии зафиксировались около 0.034 и 0.030 для групп В и А соответсвенно."
   ]
  },
  {
   "cell_type": "markdown",
   "id": "3cae56e1",
   "metadata": {},
   "source": [
    "### Относительное изменение кумулятивной конверсии группы B к группе A"
   ]
  },
  {
   "cell_type": "code",
   "execution_count": 20,
   "id": "2ec9df5b",
   "metadata": {},
   "outputs": [
    {
     "data": {
      "image/png": "[encoded data removed]",
      "text/plain": [
       "<Figure size 1080x504 with 1 Axes>"
      ]
     },
     "metadata": {
      "needs_background": "light"
     },
     "output_type": "display_data"
    }
   ],
   "source": [
    "# объединим данные групп по кумулятивной конверсии\n",
    "mergedCumulativeConversions = (\n",
    "    cumulativeDataA[['date','conversion']].merge(cumulativeDataB[['date','conversion']], \n",
    "                                                 left_on='date', \n",
    "                                                 right_on='date', \n",
    "                                                 how='left', \n",
    "                                                 suffixes=['A', 'B']))\n",
    "plt.figure(figsize=(15, 7))\n",
    "\n",
    "plt.plot(mergedCumulativeConversions['date'], \n",
    "         mergedCumulativeConversions['conversionB']/mergedCumulativeConversions['conversionA']-1\n",
    "        )\n",
    "\n",
    "plt.title(f'Относительный прирост конверсии группы B к группе A', fontsize=16)\n",
    "plt.grid(axis='both')\n",
    "plt.show()"
   ]
  },
  {
   "cell_type": "markdown",
   "id": "a705d5aa",
   "metadata": {},
   "source": [
    "**Выводы** В начале теста группа B проигрывала группе A, затем вырвалась вперёд. Потом её конверсия немного упала, а во второй половине месяца держится стабольно выше конверсии группа А."
   ]
  },
  {
   "cell_type": "markdown",
   "id": "fc617572",
   "metadata": {},
   "source": [
    "### Количество заказов по пользователям"
   ]
  },
  {
   "cell_type": "code",
   "execution_count": 21,
   "id": "3a4e8a12",
   "metadata": {},
   "outputs": [
    {
     "data": {
      "image/png": "[encoded data removed]",
      "text/plain": [
       "<Figure size 1080x504 with 1 Axes>"
      ]
     },
     "metadata": {
      "needs_background": "light"
     },
     "output_type": "display_data"
    }
   ],
   "source": [
    "ordersByUsers = orders.groupby('visitorId', as_index=False).agg({'transactionId': 'nunique'})\n",
    "ordersByUsers.columns = ['visitorId', 'orders']\n",
    "\n",
    "x_values = pd.Series(range(0,len(ordersByUsers)))\n",
    "\n",
    "plt.figure(figsize=(15, 7))\n",
    "plt.scatter(x_values, ordersByUsers['orders']) \n",
    "plt.title(f'Количество заказов по пользователям', fontsize=16)\n",
    "plt.ylabel(\"Число заказов\", fontsize=14)\n",
    "plt.grid(axis='y')\n",
    "plt.show()"
   ]
  },
  {
   "cell_type": "markdown",
   "id": "1f8ce57f",
   "metadata": {},
   "source": [
    "Посчитаем 95-й и 99-й перцентили количества заказов на пользователя и выберем границу для определения аномальных пользователей."
   ]
  },
  {
   "cell_type": "code",
   "execution_count": 22,
   "id": "6475486c",
   "metadata": {},
   "outputs": [
    {
     "data": {
      "text/plain": [
       "array([2., 4.])"
      ]
     },
     "execution_count": 22,
     "metadata": {},
     "output_type": "execute_result"
    }
   ],
   "source": [
    "np.percentile(ordersByUsers['orders'], [95, 99])"
   ]
  },
  {
   "cell_type": "markdown",
   "id": "621ccf6e",
   "metadata": {},
   "source": [
    "**Выводы** График показал, что ольшинство покупателей заказывали только один раз. Однако, есть 5% покупателей с более чем двумя заказами, а 1% сделали более 4 заказов. Для определения аномальных пользователей, в качестве границы, выберем 2 заказа."
   ]
  },
  {
   "cell_type": "markdown",
   "id": "cfbd9156",
   "metadata": {},
   "source": [
    "### Стоимости заказов"
   ]
  },
  {
   "cell_type": "code",
   "execution_count": 23,
   "id": "ca363ee7",
   "metadata": {},
   "outputs": [
    {
     "data": {
      "image/png": "[encoded data removed]",
      "text/plain": [
       "<Figure size 1080x504 with 1 Axes>"
      ]
     },
     "metadata": {
      "needs_background": "light"
     },
     "output_type": "display_data"
    }
   ],
   "source": [
    "x_values = pd.Series(range(0,len(orders['revenue'])))\n",
    "\n",
    "plt.figure(figsize=(15, 7))\n",
    "plt.scatter(x_values, orders['revenue']) \n",
    "plt.title(f'Стоимость заказа по пользователям', fontsize=16)\n",
    "plt.ylabel(\"Стоимость заказа руб.\", fontsize=14)\n",
    "plt.grid(axis='y')\n",
    "\n",
    "plt.show()"
   ]
  },
  {
   "cell_type": "code",
   "execution_count": 24,
   "id": "b29be7fb",
   "metadata": {},
   "outputs": [
    {
     "data": {
      "text/html": [
       "<div>\n",
       "<style scoped>\n",
       "    .dataframe tbody tr th:only-of-type {\n",
       "        vertical-align: middle;\n",
       "    }\n",
       "\n",
       "    .dataframe tbody tr th {\n",
       "        vertical-align: top;\n",
       "    }\n",
       "\n",
       "    .dataframe thead th {\n",
       "        text-align: right;\n",
       "    }\n",
       "</style>\n",
       "<table border=\"1\" class=\"dataframe\">\n",
       "  <thead>\n",
       "    <tr style=\"text-align: right;\">\n",
       "      <th></th>\n",
       "      <th>transactionId</th>\n",
       "      <th>visitorId</th>\n",
       "      <th>date</th>\n",
       "      <th>revenue</th>\n",
       "      <th>group</th>\n",
       "    </tr>\n",
       "  </thead>\n",
       "  <tbody>\n",
       "    <tr>\n",
       "      <th>425</th>\n",
       "      <td>590470918</td>\n",
       "      <td>1920142716</td>\n",
       "      <td>2019-08-19</td>\n",
       "      <td>1294500</td>\n",
       "      <td>B</td>\n",
       "    </tr>\n",
       "  </tbody>\n",
       "</table>\n",
       "</div>"
      ],
      "text/plain": [
       "     transactionId   visitorId       date  revenue group\n",
       "425  590470918      1920142716 2019-08-19  1294500  B   "
      ]
     },
     "execution_count": 24,
     "metadata": {},
     "output_type": "execute_result"
    }
   ],
   "source": [
    "# посмотрим на данный по максимальному заказу\n",
    "orders.loc[orders['revenue'] == orders['revenue'].max()]"
   ]
  },
  {
   "cell_type": "markdown",
   "id": "623b2a57",
   "metadata": {},
   "source": [
    "Дата заказа: 19 августа  \n",
    "Сумма заказа:  1 294 500  \n",
    "Установлена причина резкого скачка выручки и среднего чека по группе В. Явная аномалия."
   ]
  },
  {
   "cell_type": "code",
   "execution_count": 25,
   "id": "49842906",
   "metadata": {
    "scrolled": false
   },
   "outputs": [
    {
     "data": {
      "image/png": "[encoded data removed]",
      "text/plain": [
       "<Figure size 1080x504 with 1 Axes>"
      ]
     },
     "metadata": {
      "needs_background": "light"
     },
     "output_type": "display_data"
    }
   ],
   "source": [
    "# выделим заказы с суммой до 10тыс.руб\n",
    "plt.figure(figsize=(15, 7))\n",
    "plt.scatter(x_values, orders['revenue']) \n",
    "plt.title(f'Стоимость заказа по пользователям', fontsize=16)\n",
    "plt.ylabel(\"Стоимость заказа руб.\", fontsize=14)\n",
    "plt.grid(axis='y')\n",
    "plt.axis(ymin=0, ymax=100000)\n",
    "\n",
    "plt.show()"
   ]
  },
  {
   "cell_type": "markdown",
   "id": "57ea00e7",
   "metadata": {},
   "source": [
    "Посчитаем 95-й и 99-й перцентили стоимости заказов и выберем границу для определения аномальных заказов."
   ]
  },
  {
   "cell_type": "code",
   "execution_count": 26,
   "id": "3e99f2d6",
   "metadata": {},
   "outputs": [
    {
     "data": {
      "text/plain": [
       "array([28000. , 58233.2])"
      ]
     },
     "execution_count": 26,
     "metadata": {},
     "output_type": "execute_result"
    }
   ],
   "source": [
    "np.percentile(orders['revenue'], [95, 99])"
   ]
  },
  {
   "cell_type": "markdown",
   "id": "23788da4",
   "metadata": {},
   "source": [
    "**Выводы** В небольшом количестве присутствуют дорогие заказы. 95% заказов не больше 28000руб, менее 1% превешают 60000руб. Для определения аномальных пользователей, в качестве границы, выберем стоимость заказа 30000руб."
   ]
  },
  {
   "cell_type": "markdown",
   "id": "9c9714d1",
   "metadata": {},
   "source": [
    "### Статистическая значимость различий в конверсии между группами по «сырым» данным"
   ]
  },
  {
   "cell_type": "markdown",
   "id": "b6dd4128",
   "metadata": {},
   "source": [
    "Сформулируем гипотезы.  \n",
    "Н0: различий в среднем количестве заказов между группами нет.  \n",
    "НА: различия в среднем количестве заказов между группами есть.   \n",
    "\n",
    "Принимаем уровень статистической значимости alpha = 5%"
   ]
  },
  {
   "cell_type": "code",
   "execution_count": 27,
   "id": "3f5fa730",
   "metadata": {},
   "outputs": [
    {
     "name": "stdout",
     "output_type": "stream",
     "text": [
      "p-value 0.008396177528376304\n",
      "Относительный прирост среднего числа заказов группы В: 0.138\n"
     ]
    }
   ],
   "source": [
    "# создадим переменные ordersByUsersA и ordersByUsersB со столбцами ['userId', 'orders'] \n",
    "# в них для пользователей, которые заказывали хотя бы 1 раз, укажем число совершённых заказов\n",
    "ordersByUsersA = (\n",
    "    orders[orders['group'] == 'A']\n",
    "    .groupby('visitorId', as_index=False)\n",
    "    .agg({'transactionId': pd.Series.nunique})\n",
    ")\n",
    "ordersByUsersA.columns = ['visitorId', 'orders']\n",
    "\n",
    "ordersByUsersB = (\n",
    "    orders[orders['group'] == 'B']\n",
    "    .groupby('visitorId', as_index=False)\n",
    "    .agg({'transactionId': pd.Series.nunique})\n",
    ")\n",
    "ordersByUsersB.columns = ['visitorId', 'orders']\n",
    "\n",
    "# создадим переменные sampleA и sampleB с парами клиент - число заказов \n",
    "# тем, кто ничего не заказал, будут соответствовать нули\n",
    "sampleA = pd.concat(\n",
    "    [\n",
    "        ordersByUsersA['orders'],\n",
    "        pd.Series(0, index=np.arange(visitors.loc[visitors['group'] == \"A\"]['visitors'].sum() - \n",
    "                                     len(ordersByUsersA['orders'])), name='orders')\n",
    "    ],\n",
    "    axis=0,\n",
    ")\n",
    "\n",
    "sampleB = pd.concat(\n",
    "    [\n",
    "        ordersByUsersB['orders'],\n",
    "        pd.Series(0, index=np.arange(visitors.loc[visitors['group'] == \"B\"]['visitors'].sum() - \n",
    "                                     len(ordersByUsersB['orders'])), name='orders'),\n",
    "    ],\n",
    "    axis=0,\n",
    ")\n",
    "\n",
    "# применим статистический критерий Манна-Уитни к полученным выборкам\n",
    "print(f'p-value {stats.mannwhitneyu(sampleA, sampleB)[1]}')\n",
    "\n",
    "# рсчитаем относительный прирост среднего числа заказов группы В\n",
    "print(f\"Относительный прирост среднего числа заказов группы В: {round(sampleB.mean() / sampleA.mean() - 1, 3)}\")"
   ]
  },
  {
   "cell_type": "markdown",
   "id": "7ea69c70",
   "metadata": {},
   "source": [
    "**Вывод:** Есть статистически значимое различие по среднему числу заказов между группами А и В по «сырым» данным. Среднее число заказов  группы В выше среднего числа заказов группы А на 13.8%."
   ]
  },
  {
   "cell_type": "markdown",
   "id": "d35c45cf",
   "metadata": {},
   "source": [
    "### Статистическая значимость различий в среднем чеке заказа между группами по «сырым» данным"
   ]
  },
  {
   "cell_type": "markdown",
   "id": "e9d031a2",
   "metadata": {},
   "source": [
    "Сформулируем гипотезы.  \n",
    "Н0: различий в среднем чека между группами нет.  \n",
    "НА: различия в среднем чеке между группами есть."
   ]
  },
  {
   "cell_type": "code",
   "execution_count": 28,
   "id": "d5034214",
   "metadata": {},
   "outputs": [
    {
     "name": "stdout",
     "output_type": "stream",
     "text": [
      "p-value 0.365\n",
      "Относительный прирост среднего чека группы В: 0.259\n"
     ]
    }
   ],
   "source": [
    "# применим статистический критерий Манна-Уитни к полученным выборкам\n",
    "results = stats.mannwhitneyu(orders[orders['group']=='A']['revenue'], orders[orders['group']=='B']['revenue'])\n",
    "print(f'p-value {round(results[1], 3)}')\n",
    "# рсчитаем относительный прирост среднего чека группы В\n",
    "av_rev_gap = orders[orders['group']=='B']['revenue'].mean()/orders[orders['group']=='A']['revenue'].mean()-1\n",
    "print(f\"Относительный прирост среднего чека группы В: {round(av_rev_gap, 3)}\")"
   ]
  },
  {
   "cell_type": "markdown",
   "id": "73dfd818",
   "metadata": {},
   "source": [
    "**Вывод:** P-value значительно больше 0.05. Значит, причин отвергать нулевую гипотезу и считать, что в среднем чеке есть различия по \"сырым\" данным, нет. Наблюдаемое превышение среднего чека группы В на 25,9% не является значимым и получено случайно."
   ]
  },
  {
   "cell_type": "markdown",
   "id": "50557567",
   "metadata": {},
   "source": [
    "### Статистическая значимость различий в конверсии между группами по «очищенным» данным"
   ]
  },
  {
   "cell_type": "code",
   "execution_count": 29,
   "id": "442e08ba",
   "metadata": {},
   "outputs": [
    {
     "name": "stdout",
     "output_type": "stream",
     "text": [
      "Число \"аномальных\" пользователей: 83\n"
     ]
    },
    {
     "data": {
      "text/plain": [
       "1099    148427295\n",
       "44      199603092\n",
       "928     204675465\n",
       "55      237748145\n",
       "59      249864742\n",
       "Name: visitorId, dtype: int64"
      ]
     },
     "execution_count": 29,
     "metadata": {},
     "output_type": "execute_result"
    }
   ],
   "source": [
    "# считаем число заказов по клиентам\n",
    "ordersByUsers = orders.groupby('visitorId', as_index=False).agg({'transactionId': pd.Series.nunique})\n",
    "ordersByUsers.columns = ['visitorId', 'orders']\n",
    "\n",
    "# клиенты с числом заказов три и более (cм расчет процентилей п.4.6\n",
    "usersWithManyOrders = ordersByUsers[ordersByUsers['orders'] > np.percentile(ordersByUsers['orders'], [95])[0]]['visitorId']\n",
    "# клиенты с суммой заказа больше 28 000 (cм расчет процентилей п.4.7)\n",
    "usersWithExpensiveOrders = orders[orders['revenue'] > np.percentile(orders['revenue'], [95])[0]]['visitorId']\n",
    "# объединим списки и удалим дубликаты\n",
    "abnormalUsers = pd.concat([usersWithManyOrders, usersWithExpensiveOrders], axis=0).drop_duplicates().sort_values()\n",
    "\n",
    "print(f'Число \"аномальных\" пользователей: {abnormalUsers.shape[0]}')\n",
    "abnormalUsers.head(5)"
   ]
  },
  {
   "cell_type": "code",
   "execution_count": 30,
   "id": "5402f94c",
   "metadata": {},
   "outputs": [
    {
     "name": "stdout",
     "output_type": "stream",
     "text": [
      "p-value 0.0060849904395861255\n",
      "Относительный прирост среднего числа заказов группы В: 0.176\n"
     ]
    }
   ],
   "source": [
    "# удалим \"аномальных\" пользователей\n",
    "ordersFiltered = orders[np.logical_not(orders['visitorId'].isin(abnormalUsers))]\n",
    "\n",
    "# создадим переменные sampleA и sampleB с парами клиент - число заказов \n",
    "# тем, кто ничего не заказал, будут соответствовать нули\n",
    "sampleAFiltered = pd.concat(\n",
    "    [\n",
    "        ordersByUsersA[np.logical_not(ordersByUsersA['visitorId'].isin(abnormalUsers))]['orders'],\n",
    "        pd.Series(0, index=np.arange(visitors.loc[visitors['group'] == \"A\"]['visitors'].sum() - \n",
    "                                     len(ordersByUsersA['orders'])), name='orders'),\n",
    "    ],\n",
    "    axis=0\n",
    ")\n",
    "\n",
    "sampleBFiltered = pd.concat(\n",
    "    [\n",
    "        ordersByUsersB[np.logical_not(ordersByUsersB['visitorId'].isin(abnormalUsers))]['orders'],\n",
    "        pd.Series(0, index=np.arange(visitors.loc[visitors['group'] == \"B\"]['visitors'].sum() - \n",
    "                                     len(ordersByUsersB['orders'])), name='orders',),\n",
    "    ],\n",
    "    axis=0\n",
    ")\n",
    "\n",
    "\n",
    "# применим статистический критерий Манна-Уитни к полученным выборкам\n",
    "print(f'p-value {stats.mannwhitneyu(sampleAFiltered, sampleBFiltered)[1]}')\n",
    "\n",
    "# расчитаем относительный прирост среднего числа заказов группы В\n",
    "print(f\"Относительный прирост среднего числа заказов группы В: {round(sampleBFiltered.mean()/sampleAFiltered.mean()-1, 3)}\")"
   ]
  },
  {
   "cell_type": "markdown",
   "id": "01d224a3",
   "metadata": {},
   "source": [
    "**Вывод:** Есть статистически значимое различие по по среднему числу заказов между между группами А и В и по «очищенным» данным. Относительный прирост среднего числа заказов группы B увеличился почти на 4п.п. относительно расчета по \"сырым\" данным и составил 17.6%."
   ]
  },
  {
   "cell_type": "markdown",
   "id": "942d2f33",
   "metadata": {},
   "source": [
    "### Статистическая значимость различий в среднем чеке заказа между группами по «очищенным» данным"
   ]
  },
  {
   "cell_type": "code",
   "execution_count": 31,
   "id": "46f3385e",
   "metadata": {},
   "outputs": [
    {
     "name": "stdout",
     "output_type": "stream",
     "text": [
      "p-value 0.376\n",
      "Относительный прирост среднего чека группы В: -0.022\n"
     ]
    }
   ],
   "source": [
    "# применим статистический критерий Манна-Уитни к полученным выборкам\n",
    "results = stats.mannwhitneyu(ordersFiltered[ordersFiltered['group'] == 'A']['revenue'],\n",
    "                             ordersFiltered[ordersFiltered['group'] == 'B']['revenue'])\n",
    "print(f'p-value {round(results[1], 3)}')\n",
    "# рсчитаем относительный прирост среднего чека группы В\n",
    "av_rev_gap = (ordersFiltered[ordersFiltered['group'] == 'B']['revenue'].mean()\n",
    "              / \n",
    "              ordersFiltered[ordersFiltered['group'] == 'A']['revenue'].mean()\n",
    "              - 1)\n",
    "print(f\"Относительный прирост среднего чека группы В: {round(av_rev_gap, 3)}\")"
   ]
  },
  {
   "cell_type": "markdown",
   "id": "23e3edea",
   "metadata": {},
   "source": [
    "**Вывод:** P-value значительно больше 0.05. Значит, причин отвергать нулевую гипотезу и считать, что в среднем чеке есть различия по \"очищенным\" данным, нет. Необходимо отметить, что средний чек группы B, по \"очищенным\" данным стал незначительно (2.6%) ниже среднего чека группы A."
   ]
  },
  {
   "cell_type": "markdown",
   "id": "f0217bb2",
   "metadata": {},
   "source": [
    "## Выводы по результатам анализа A/B-теста"
   ]
  },
  {
   "cell_type": "markdown",
   "id": "fd1c1961",
   "metadata": {},
   "source": [
    "* Есть статистически значимое различие по среднему числу заказов между группами А и В как по сырым данным, так и после фильтрации аномалий. Среднее число заказов  группы В выше среднего числа заказов группы А по сырым и очищенным данным 13.8% и 17,6% соответственно.\n",
    "* Нет статистически значимого различия по среднему чеку между группами как по сырым данным, так и после фильтрации аномалий. Наблюдаемое отличие среднего чека группы В на -2,2% не является значимым и получено случайно.\n",
    "* График различия конверсии между группами сообщает, что результаты группы B лучше группы A: имеют тенденцию к росту, либо зафиксировались около среднего значения.\n",
    "\n",
    "Исходя из вышеизложенного, следует остановить тест. Группа В показалу лучший результат по конверсии (среднему числу заказов), при сопоставимом среднем чеке."
   ]
  },
  {
   "cell_type": "code",
   "execution_count": null,
   "id": "9312e9f8",
   "metadata": {},
   "outputs": [],
   "source": []
  }
 ],
 "metadata": {
  "ExecuteTimeLog": [
   {
    "duration": 1231,
    "start_time": "2022-07-08T11:38:29.681Z"
   },
   {
    "duration": 3,
    "start_time": "2022-07-08T11:38:30.915Z"
   },
   {
    "duration": 561,
    "start_time": "2022-07-08T11:38:30.920Z"
   },
   {
    "duration": 10,
    "start_time": "2022-07-08T11:38:31.483Z"
   },
   {
    "duration": 15,
    "start_time": "2022-07-08T11:38:31.495Z"
   },
   {
    "duration": 10,
    "start_time": "2022-07-08T11:38:31.512Z"
   },
   {
    "duration": 7,
    "start_time": "2022-07-08T11:38:31.524Z"
   },
   {
    "duration": 16,
    "start_time": "2022-07-08T11:38:31.532Z"
   },
   {
    "duration": 15,
    "start_time": "2022-07-08T11:38:31.550Z"
   },
   {
    "duration": 4,
    "start_time": "2022-07-08T11:38:31.600Z"
   },
   {
    "duration": 33,
    "start_time": "2022-07-08T11:38:31.606Z"
   },
   {
    "duration": 323,
    "start_time": "2022-07-08T11:38:31.641Z"
   },
   {
    "duration": 334,
    "start_time": "2022-07-08T11:38:31.966Z"
   },
   {
    "duration": 249,
    "start_time": "2022-07-08T11:38:32.302Z"
   },
   {
    "duration": 233,
    "start_time": "2022-07-08T11:38:32.553Z"
   },
   {
    "duration": 264,
    "start_time": "2022-07-08T11:38:32.789Z"
   },
   {
    "duration": 231,
    "start_time": "2022-07-08T11:38:33.055Z"
   },
   {
    "duration": 179,
    "start_time": "2022-07-08T11:38:33.289Z"
   },
   {
    "duration": 6,
    "start_time": "2022-07-08T11:38:33.470Z"
   },
   {
    "duration": 187,
    "start_time": "2022-07-08T11:38:33.478Z"
   },
   {
    "duration": 10,
    "start_time": "2022-07-08T11:38:33.667Z"
   },
   {
    "duration": 195,
    "start_time": "2022-07-08T11:38:33.679Z"
   },
   {
    "duration": 5,
    "start_time": "2022-07-08T11:38:33.877Z"
   },
   {
    "duration": 23,
    "start_time": "2022-07-08T11:38:33.885Z"
   },
   {
    "duration": 17,
    "start_time": "2022-07-08T11:38:33.910Z"
   },
   {
    "duration": 287,
    "start_time": "2022-07-08T11:38:33.929Z"
   },
   {
    "duration": 199,
    "start_time": "2022-07-08T11:38:34.218Z"
   },
   {
    "duration": 12,
    "start_time": "2022-07-08T11:38:34.420Z"
   },
   {
    "duration": 196,
    "start_time": "2022-07-08T13:12:47.929Z"
   },
   {
    "duration": 10,
    "start_time": "2022-07-08T13:13:33.055Z"
   },
   {
    "duration": 9,
    "start_time": "2022-07-08T13:13:52.115Z"
   },
   {
    "duration": 7,
    "start_time": "2022-07-08T13:14:15.928Z"
   },
   {
    "duration": 6,
    "start_time": "2022-07-08T13:14:42.053Z"
   },
   {
    "duration": 155,
    "start_time": "2022-07-08T13:15:03.378Z"
   },
   {
    "duration": 6,
    "start_time": "2022-07-08T13:15:10.446Z"
   },
   {
    "duration": 11,
    "start_time": "2022-07-08T14:10:29.229Z"
   },
   {
    "duration": 980,
    "start_time": "2022-07-12T13:53:42.177Z"
   },
   {
    "duration": 3,
    "start_time": "2022-07-12T13:53:43.159Z"
   },
   {
    "duration": 403,
    "start_time": "2022-07-12T13:53:43.163Z"
   },
   {
    "duration": 8,
    "start_time": "2022-07-12T13:53:43.568Z"
   },
   {
    "duration": 14,
    "start_time": "2022-07-12T13:53:43.578Z"
   },
   {
    "duration": 11,
    "start_time": "2022-07-12T13:53:43.594Z"
   },
   {
    "duration": 11,
    "start_time": "2022-07-12T13:53:43.607Z"
   },
   {
    "duration": 7,
    "start_time": "2022-07-12T13:53:43.619Z"
   },
   {
    "duration": 10,
    "start_time": "2022-07-12T13:53:43.627Z"
   },
   {
    "duration": 7,
    "start_time": "2022-07-12T13:53:43.641Z"
   },
   {
    "duration": 17,
    "start_time": "2022-07-12T13:53:43.650Z"
   },
   {
    "duration": 13,
    "start_time": "2022-07-12T13:53:43.668Z"
   },
   {
    "duration": 5,
    "start_time": "2022-07-12T13:53:43.682Z"
   },
   {
    "duration": 38,
    "start_time": "2022-07-12T13:53:43.689Z"
   },
   {
    "duration": 272,
    "start_time": "2022-07-12T13:53:43.728Z"
   },
   {
    "duration": 293,
    "start_time": "2022-07-12T13:53:44.001Z"
   },
   {
    "duration": 245,
    "start_time": "2022-07-12T13:53:44.296Z"
   },
   {
    "duration": 224,
    "start_time": "2022-07-12T13:53:44.543Z"
   },
   {
    "duration": 223,
    "start_time": "2022-07-12T13:53:44.768Z"
   },
   {
    "duration": 207,
    "start_time": "2022-07-12T13:53:44.992Z"
   },
   {
    "duration": 151,
    "start_time": "2022-07-12T13:53:45.200Z"
   },
   {
    "duration": 5,
    "start_time": "2022-07-12T13:53:45.352Z"
   },
   {
    "duration": 171,
    "start_time": "2022-07-12T13:53:45.358Z"
   },
   {
    "duration": 9,
    "start_time": "2022-07-12T13:53:45.530Z"
   },
   {
    "duration": 180,
    "start_time": "2022-07-12T13:53:45.541Z"
   },
   {
    "duration": 4,
    "start_time": "2022-07-12T13:53:45.724Z"
   },
   {
    "duration": 5,
    "start_time": "2022-07-12T13:53:45.730Z"
   },
   {
    "duration": 239,
    "start_time": "2022-07-12T13:53:45.738Z"
   },
   {
    "duration": 10,
    "start_time": "2022-07-12T13:53:45.978Z"
   },
   {
    "duration": 121,
    "start_time": "2022-07-12T13:53:45.989Z"
   },
   {
    "duration": 27,
    "start_time": "2022-07-12T13:53:46.123Z"
   },
   {
    "duration": 9,
    "start_time": "2022-07-12T13:53:46.152Z"
   }
  ],
  "kernelspec": {
   "display_name": "Python 3",
   "language": "python",
   "name": "python3"
  },
  "language_info": {
   "codemirror_mode": {
    "name": "ipython",
    "version": 3
   },
   "file_extension": ".py",
   "mimetype": "text/x-python",
   "name": "python",
   "nbconvert_exporter": "python",
   "pygments_lexer": "ipython3",
   "version": "3.8.8"
  },
  "toc": {
   "base_numbering": 1,
   "nav_menu": {},
   "number_sections": true,
   "sideBar": true,
   "skip_h1_title": false,
   "title_cell": "Table of Contents",
   "title_sidebar": "Contents",
   "toc_cell": false,
   "toc_position": {
    "height": "calc(100% - 180px)",
    "left": "10px",
    "top": "150px",
    "width": "384px"
   },
   "toc_section_display": true,
   "toc_window_display": true
  }
 },
 "nbformat": 4,
 "nbformat_minor": 5
}
