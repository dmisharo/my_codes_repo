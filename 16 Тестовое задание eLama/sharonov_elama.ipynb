{
 "cells": [
  {
   "cell_type": "markdown",
   "id": "d4af2c19",
   "metadata": {},
   "source": [
    "<font size = 6> Тестовое задание eLama</font>"
   ]
  },
  {
   "cell_type": "markdown",
   "id": "c3c1cccd",
   "metadata": {},
   "source": [
    "# Описание задания"
   ]
  },
  {
   "cell_type": "markdown",
   "id": "802f9b46",
   "metadata": {},
   "source": [
    "**Используя лог.файлы от внутреннего сервиса прогнозирующего временные ряды ответить на вопросы:**\n",
    "1. Между какими событиями наибольший шаг? Указать пару идентификаторов событий с наибольшим шагом, относительно всей базы (всех файлов).  \n",
    "2. Интервал времени до наступления какого события показывает наибольший разброс (разброс - это разность между максимальной и минимальной величинами)? Указать пару идентификатор - sender с наибольшим разбросом. Предложить свои идей, с чем это может быть связано.  \n",
    "3. Какая задача прогнозирования выполняется дольше всего (название задачи)?  \n",
    "4. Какое количество задач прогнозирования может выполняться одновременно? Указать максимальное число параллельных задач.  \n",
    "5. Перечислить forecastMarker которые не завершились успешно.\n",
    "\n",
    "**Дополнительная информация**  \n",
    "- Для анализа предоставлены примеры лог.файлов (3 шт.) от внутреннего сервиса прогнозирующего временные ряды. 1 день, 1 файл. Сервис используется в eLama ежедневно, обеспечивает порядка 700 прогнозов различных метрик в сутки. События записываются в базу по мере того, как они случаются.  \n",
    "- Каждый из файлов представляет собой sqlite базу данных.  \n",
    "- Первое событие для каждой сессии имеет идентификатор 1. Идентификаторы последующих событий не соответствуют последовательности наступления.  \n",
    "- Шаг событий - это интервал времени между событиями наступающими друг за другом.  \n",
    "- Задача прогнозирования считается завершенной успешно, если наступило событие с идентификатором 31.  \n",
    "- Некоторые задачи прогнозирования могут использовать прогнозы по типу рекурсии. Т.е. при построении прогноза запрашивать прогноз другого параметра, как регрессора. Например при построении прогноза активаций пользователей запрашивается подпрогноз с количеством регистраций. Т.к. регистрации напрямую влияют на количество активаций.\n",
    "\n",
    "**Описание данных**\n",
    "\n",
    "`event_name` - таблица с именами событий, которые случаются в сервисе\n",
    "* id - уникальный идентификатор;\n",
    "* event_name - название события в рамках сервиса прогнозирования\n",
    "\n",
    "`events` - сам лог событий\n",
    "* id - идентификатор конкретного факта наступления события;\n",
    "* forecastMarker - идентификатор задачи прогнозирования (так мы называем общую задачу прогноза конкретного бизнес-показателя. Есть отдельная таблица, где хранятся свойства задач прогнозирования (источники данных, гиперпараметры, регрессоры и т.д.), (необязательное поле);\n",
    "* request_time - время когда зафиксировано событие;\n",
    "* event_id - идентификатор события;\n",
    "* sender - Имя системы поставившей задачу прогнозирования (необязательное поле);\n",
    "* context - значения переменных или каких-либо параметров, связанных с событием (необязательно поле);\n",
    "* session_id - идентификатор исполнения конкретной задачи прогнозирования (используется если задача пришла без forecastMarker и sender)"
   ]
  },
  {
   "cell_type": "markdown",
   "id": "717e01ad",
   "metadata": {},
   "source": [
    "# Подготовка данных"
   ]
  },
  {
   "cell_type": "markdown",
   "id": "a460bdf5",
   "metadata": {},
   "source": [
    "Предварительно, предоставленные файлы бд sqlite были конвертированы в файлы CSV.  \n",
    "Для конвертации использовалось ПО: DB Browser for SQLite Version 3.12.2\n",
    "\n",
    "Для обеспечения работы настоящей тетради на ПК без локальных копий файлов, данные были  выгружены на Google Disk с общим доступом."
   ]
  },
  {
   "cell_type": "code",
   "execution_count": 1,
   "id": "35a84a91",
   "metadata": {},
   "outputs": [],
   "source": [
    "# импортируем необходимые библиотеки\n",
    "import pandas as pd\n",
    "from io import BytesIO\n",
    "import requests\n",
    "import datetime\n",
    "from datetime import date, time\n",
    "from tqdm import tqdm\n",
    "import numpy as np\n",
    "import seaborn as sns\n",
    "import matplotlib.pyplot as plt"
   ]
  },
  {
   "cell_type": "code",
   "execution_count": 2,
   "id": "001adc86",
   "metadata": {},
   "outputs": [],
   "source": [
    "# создадим словарь, где ключ - имя датасета, а значение - идентификатор таблицы на Google Disk\n",
    "name_list  = {'event_name_2022-09-12' : '1rxPEGjREPTa1Rz8Wcbpsj5usAGW3dkDqhccw-8u5oZc', \n",
    "              'event_name_2022-09-13' : '1UMzGjuXfTzRKbNEwnbVXW82tB61d_n5CGZWvdRsvLXY', \n",
    "              'event_name_2022-09-14' : '14ROMUZFCClH7-XbSo_9Dj3TcuNsTCqWqXhEuQPYIjKg'}\n",
    "\n",
    "events_list= {'events_2022-09-12' : '1HKNUSeRo3zr_ePm-UqZhOE2F_N1Yzbn4fMA5gJkWoGw',\n",
    "              'events_2022-09-13' : '1E9FCMai0Jq6IJAOrw6ZKUlAV6yZGTJNKxlaHIPHOwA0',\n",
    "              'events_2022-09-14' : '18IH8oj0ytZSAwxkybDJbYZEgpx3FSVb9okorPgemdhk'}"
   ]
  },
  {
   "cell_type": "code",
   "execution_count": 3,
   "id": "9c941d06",
   "metadata": {},
   "outputs": [
    {
     "name": "stdout",
     "output_type": "stream",
     "text": [
      ">>>>>>>>>>>>>>>>>>>>>>>>>>>>>>>>>>>>>>>> file name: event_name_2022-09-12\n",
      ">>>>>>>>>>>>>>>>>>>>>>>>>>>>>>>>>>>>>>>> dataframe: name12\n",
      "<class 'pandas.core.frame.DataFrame'>\n",
      "RangeIndex: 34 entries, 0 to 33\n",
      "Data columns (total 2 columns):\n",
      " #   Column      Non-Null Count  Dtype \n",
      "---  ------      --------------  ----- \n",
      " 0   id          34 non-null     int64 \n",
      " 1   event_name  34 non-null     object\n",
      "dtypes: int64(1), object(1)\n",
      "memory usage: 672.0+ bytes\n"
     ]
    },
    {
     "data": {
      "text/html": [
       "<div>\n",
       "<style scoped>\n",
       "    .dataframe tbody tr th:only-of-type {\n",
       "        vertical-align: middle;\n",
       "    }\n",
       "\n",
       "    .dataframe tbody tr th {\n",
       "        vertical-align: top;\n",
       "    }\n",
       "\n",
       "    .dataframe thead th {\n",
       "        text-align: right;\n",
       "    }\n",
       "</style>\n",
       "<table border=\"1\" class=\"dataframe\">\n",
       "  <thead>\n",
       "    <tr style=\"text-align: right;\">\n",
       "      <th></th>\n",
       "      <th>id</th>\n",
       "      <th>event_name</th>\n",
       "    </tr>\n",
       "  </thead>\n",
       "  <tbody>\n",
       "    <tr>\n",
       "      <th>0</th>\n",
       "      <td>1</td>\n",
       "      <td>Инициализируем свойства класса</td>\n",
       "    </tr>\n",
       "    <tr>\n",
       "      <th>1</th>\n",
       "      <td>2</td>\n",
       "      <td>Переход в функцию getParametrsAndRegressors</td>\n",
       "    </tr>\n",
       "  </tbody>\n",
       "</table>\n",
       "</div>"
      ],
      "text/plain": [
       "   id                                   event_name\n",
       "0   1               Инициализируем свойства класса\n",
       "1   2  Переход в функцию getParametrsAndRegressors"
      ]
     },
     "metadata": {},
     "output_type": "display_data"
    },
    {
     "name": "stdout",
     "output_type": "stream",
     "text": [
      "\n",
      ">>>>>>>>>>>>>>>>>>>>>>>>>>>>>>>>>>>>>>>> file name: event_name_2022-09-13\n",
      ">>>>>>>>>>>>>>>>>>>>>>>>>>>>>>>>>>>>>>>> dataframe: name13\n",
      "<class 'pandas.core.frame.DataFrame'>\n",
      "RangeIndex: 34 entries, 0 to 33\n",
      "Data columns (total 2 columns):\n",
      " #   Column      Non-Null Count  Dtype \n",
      "---  ------      --------------  ----- \n",
      " 0   id          34 non-null     int64 \n",
      " 1   event_name  34 non-null     object\n",
      "dtypes: int64(1), object(1)\n",
      "memory usage: 672.0+ bytes\n"
     ]
    },
    {
     "data": {
      "text/html": [
       "<div>\n",
       "<style scoped>\n",
       "    .dataframe tbody tr th:only-of-type {\n",
       "        vertical-align: middle;\n",
       "    }\n",
       "\n",
       "    .dataframe tbody tr th {\n",
       "        vertical-align: top;\n",
       "    }\n",
       "\n",
       "    .dataframe thead th {\n",
       "        text-align: right;\n",
       "    }\n",
       "</style>\n",
       "<table border=\"1\" class=\"dataframe\">\n",
       "  <thead>\n",
       "    <tr style=\"text-align: right;\">\n",
       "      <th></th>\n",
       "      <th>id</th>\n",
       "      <th>event_name</th>\n",
       "    </tr>\n",
       "  </thead>\n",
       "  <tbody>\n",
       "    <tr>\n",
       "      <th>0</th>\n",
       "      <td>1</td>\n",
       "      <td>Инициализируем свойства класса</td>\n",
       "    </tr>\n",
       "    <tr>\n",
       "      <th>1</th>\n",
       "      <td>2</td>\n",
       "      <td>Переход в функцию getParametrsAndRegressors</td>\n",
       "    </tr>\n",
       "  </tbody>\n",
       "</table>\n",
       "</div>"
      ],
      "text/plain": [
       "   id                                   event_name\n",
       "0   1               Инициализируем свойства класса\n",
       "1   2  Переход в функцию getParametrsAndRegressors"
      ]
     },
     "metadata": {},
     "output_type": "display_data"
    },
    {
     "name": "stdout",
     "output_type": "stream",
     "text": [
      "\n",
      ">>>>>>>>>>>>>>>>>>>>>>>>>>>>>>>>>>>>>>>> file name: event_name_2022-09-14\n",
      ">>>>>>>>>>>>>>>>>>>>>>>>>>>>>>>>>>>>>>>> dataframe: name14\n",
      "<class 'pandas.core.frame.DataFrame'>\n",
      "RangeIndex: 34 entries, 0 to 33\n",
      "Data columns (total 2 columns):\n",
      " #   Column      Non-Null Count  Dtype \n",
      "---  ------      --------------  ----- \n",
      " 0   id          34 non-null     int64 \n",
      " 1   event_name  34 non-null     object\n",
      "dtypes: int64(1), object(1)\n",
      "memory usage: 672.0+ bytes\n"
     ]
    },
    {
     "data": {
      "text/html": [
       "<div>\n",
       "<style scoped>\n",
       "    .dataframe tbody tr th:only-of-type {\n",
       "        vertical-align: middle;\n",
       "    }\n",
       "\n",
       "    .dataframe tbody tr th {\n",
       "        vertical-align: top;\n",
       "    }\n",
       "\n",
       "    .dataframe thead th {\n",
       "        text-align: right;\n",
       "    }\n",
       "</style>\n",
       "<table border=\"1\" class=\"dataframe\">\n",
       "  <thead>\n",
       "    <tr style=\"text-align: right;\">\n",
       "      <th></th>\n",
       "      <th>id</th>\n",
       "      <th>event_name</th>\n",
       "    </tr>\n",
       "  </thead>\n",
       "  <tbody>\n",
       "    <tr>\n",
       "      <th>0</th>\n",
       "      <td>1</td>\n",
       "      <td>Инициализируем свойства класса</td>\n",
       "    </tr>\n",
       "    <tr>\n",
       "      <th>1</th>\n",
       "      <td>2</td>\n",
       "      <td>Переход в функцию getParametrsAndRegressors</td>\n",
       "    </tr>\n",
       "  </tbody>\n",
       "</table>\n",
       "</div>"
      ],
      "text/plain": [
       "   id                                   event_name\n",
       "0   1               Инициализируем свойства класса\n",
       "1   2  Переход в функцию getParametrsAndRegressors"
      ]
     },
     "metadata": {},
     "output_type": "display_data"
    },
    {
     "name": "stdout",
     "output_type": "stream",
     "text": [
      "\n",
      ">>>>>>>>>>>>>>>>>>>>>>>>>>>>>>>>>>>>>>>> file name: events_2022-09-12\n",
      ">>>>>>>>>>>>>>>>>>>>>>>>>>>>>>>>>>>>>>>> dataframe: ivents12\n",
      "<class 'pandas.core.frame.DataFrame'>\n",
      "RangeIndex: 11207 entries, 0 to 11206\n",
      "Data columns (total 7 columns):\n",
      " #   Column          Non-Null Count  Dtype \n",
      "---  ------          --------------  ----- \n",
      " 0   id              11207 non-null  int64 \n",
      " 1   forecastMarker  11207 non-null  object\n",
      " 2   request_time    11207 non-null  object\n",
      " 3   event_id        11207 non-null  int64 \n",
      " 4   sender          11207 non-null  object\n",
      " 5   context         11207 non-null  object\n",
      " 6   session_id      11207 non-null  object\n",
      "dtypes: int64(2), object(5)\n",
      "memory usage: 613.0+ KB\n"
     ]
    },
    {
     "data": {
      "text/html": [
       "<div>\n",
       "<style scoped>\n",
       "    .dataframe tbody tr th:only-of-type {\n",
       "        vertical-align: middle;\n",
       "    }\n",
       "\n",
       "    .dataframe tbody tr th {\n",
       "        vertical-align: top;\n",
       "    }\n",
       "\n",
       "    .dataframe thead th {\n",
       "        text-align: right;\n",
       "    }\n",
       "</style>\n",
       "<table border=\"1\" class=\"dataframe\">\n",
       "  <thead>\n",
       "    <tr style=\"text-align: right;\">\n",
       "      <th></th>\n",
       "      <th>id</th>\n",
       "      <th>forecastMarker</th>\n",
       "      <th>request_time</th>\n",
       "      <th>event_id</th>\n",
       "      <th>sender</th>\n",
       "      <th>context</th>\n",
       "      <th>session_id</th>\n",
       "    </tr>\n",
       "  </thead>\n",
       "  <tbody>\n",
       "    <tr>\n",
       "      <th>0</th>\n",
       "      <td>1</td>\n",
       "      <td>SelfService/RUS/turnover</td>\n",
       "      <td>2022-09-12 11:30:11.106628</td>\n",
       "      <td>1</td>\n",
       "      <td>test_system</td>\n",
       "      <td>df = &lt;class 'NoneType'&gt;, sql_query = &lt;class 'N...</td>\n",
       "      <td>6f4277f6df57c4f4e90779966522c876</td>\n",
       "    </tr>\n",
       "    <tr>\n",
       "      <th>1</th>\n",
       "      <td>2</td>\n",
       "      <td>SelfService/RUS/turnover</td>\n",
       "      <td>2022-09-12 11:30:11.111359</td>\n",
       "      <td>29</td>\n",
       "      <td>test_system</td>\n",
       "      <td>None</td>\n",
       "      <td>6f4277f6df57c4f4e90779966522c876</td>\n",
       "    </tr>\n",
       "  </tbody>\n",
       "</table>\n",
       "</div>"
      ],
      "text/plain": [
       "   id            forecastMarker                request_time  event_id  \\\n",
       "0   1  SelfService/RUS/turnover  2022-09-12 11:30:11.106628         1   \n",
       "1   2  SelfService/RUS/turnover  2022-09-12 11:30:11.111359        29   \n",
       "\n",
       "        sender                                            context  \\\n",
       "0  test_system  df = <class 'NoneType'>, sql_query = <class 'N...   \n",
       "1  test_system                                               None   \n",
       "\n",
       "                         session_id  \n",
       "0  6f4277f6df57c4f4e90779966522c876  \n",
       "1  6f4277f6df57c4f4e90779966522c876  "
      ]
     },
     "metadata": {},
     "output_type": "display_data"
    },
    {
     "name": "stdout",
     "output_type": "stream",
     "text": [
      "\n",
      ">>>>>>>>>>>>>>>>>>>>>>>>>>>>>>>>>>>>>>>> file name: events_2022-09-13\n",
      ">>>>>>>>>>>>>>>>>>>>>>>>>>>>>>>>>>>>>>>> dataframe: ivents13\n",
      "<class 'pandas.core.frame.DataFrame'>\n",
      "RangeIndex: 22275 entries, 0 to 22274\n",
      "Data columns (total 7 columns):\n",
      " #   Column          Non-Null Count  Dtype \n",
      "---  ------          --------------  ----- \n",
      " 0   id              22275 non-null  int64 \n",
      " 1   forecastMarker  22275 non-null  object\n",
      " 2   request_time    22275 non-null  object\n",
      " 3   event_id        22275 non-null  int64 \n",
      " 4   sender          22275 non-null  object\n",
      " 5   context         22275 non-null  object\n",
      " 6   session_id      22275 non-null  object\n",
      "dtypes: int64(2), object(5)\n",
      "memory usage: 1.2+ MB\n"
     ]
    },
    {
     "data": {
      "text/html": [
       "<div>\n",
       "<style scoped>\n",
       "    .dataframe tbody tr th:only-of-type {\n",
       "        vertical-align: middle;\n",
       "    }\n",
       "\n",
       "    .dataframe tbody tr th {\n",
       "        vertical-align: top;\n",
       "    }\n",
       "\n",
       "    .dataframe thead th {\n",
       "        text-align: right;\n",
       "    }\n",
       "</style>\n",
       "<table border=\"1\" class=\"dataframe\">\n",
       "  <thead>\n",
       "    <tr style=\"text-align: right;\">\n",
       "      <th></th>\n",
       "      <th>id</th>\n",
       "      <th>forecastMarker</th>\n",
       "      <th>request_time</th>\n",
       "      <th>event_id</th>\n",
       "      <th>sender</th>\n",
       "      <th>context</th>\n",
       "      <th>session_id</th>\n",
       "    </tr>\n",
       "  </thead>\n",
       "  <tbody>\n",
       "    <tr>\n",
       "      <th>0</th>\n",
       "      <td>1</td>\n",
       "      <td>None</td>\n",
       "      <td>2022-09-13 00:10:27.967745</td>\n",
       "      <td>1</td>\n",
       "      <td>None</td>\n",
       "      <td>df = &lt;class 'pandas.core.frame.DataFrame'&gt;, sq...</td>\n",
       "      <td>fa89a4d46b9b34761a580f0152f94f05</td>\n",
       "    </tr>\n",
       "    <tr>\n",
       "      <th>1</th>\n",
       "      <td>2</td>\n",
       "      <td>None</td>\n",
       "      <td>2022-09-13 00:10:27.972425</td>\n",
       "      <td>29</td>\n",
       "      <td>None</td>\n",
       "      <td>None</td>\n",
       "      <td>fa89a4d46b9b34761a580f0152f94f05</td>\n",
       "    </tr>\n",
       "  </tbody>\n",
       "</table>\n",
       "</div>"
      ],
      "text/plain": [
       "   id forecastMarker                request_time  event_id sender  \\\n",
       "0   1           None  2022-09-13 00:10:27.967745         1   None   \n",
       "1   2           None  2022-09-13 00:10:27.972425        29   None   \n",
       "\n",
       "                                             context  \\\n",
       "0  df = <class 'pandas.core.frame.DataFrame'>, sq...   \n",
       "1                                               None   \n",
       "\n",
       "                         session_id  \n",
       "0  fa89a4d46b9b34761a580f0152f94f05  \n",
       "1  fa89a4d46b9b34761a580f0152f94f05  "
      ]
     },
     "metadata": {},
     "output_type": "display_data"
    },
    {
     "name": "stdout",
     "output_type": "stream",
     "text": [
      "\n",
      ">>>>>>>>>>>>>>>>>>>>>>>>>>>>>>>>>>>>>>>> file name: events_2022-09-14\n",
      ">>>>>>>>>>>>>>>>>>>>>>>>>>>>>>>>>>>>>>>> dataframe: ivents14\n",
      "<class 'pandas.core.frame.DataFrame'>\n",
      "RangeIndex: 11249 entries, 0 to 11248\n",
      "Data columns (total 7 columns):\n",
      " #   Column          Non-Null Count  Dtype \n",
      "---  ------          --------------  ----- \n",
      " 0   id              11249 non-null  int64 \n",
      " 1   forecastMarker  11249 non-null  object\n",
      " 2   request_time    11249 non-null  object\n",
      " 3   event_id        11249 non-null  int64 \n",
      " 4   sender          11249 non-null  object\n",
      " 5   context         11249 non-null  object\n",
      " 6   session_id      11249 non-null  object\n",
      "dtypes: int64(2), object(5)\n",
      "memory usage: 615.3+ KB\n"
     ]
    },
    {
     "data": {
      "text/html": [
       "<div>\n",
       "<style scoped>\n",
       "    .dataframe tbody tr th:only-of-type {\n",
       "        vertical-align: middle;\n",
       "    }\n",
       "\n",
       "    .dataframe tbody tr th {\n",
       "        vertical-align: top;\n",
       "    }\n",
       "\n",
       "    .dataframe thead th {\n",
       "        text-align: right;\n",
       "    }\n",
       "</style>\n",
       "<table border=\"1\" class=\"dataframe\">\n",
       "  <thead>\n",
       "    <tr style=\"text-align: right;\">\n",
       "      <th></th>\n",
       "      <th>id</th>\n",
       "      <th>forecastMarker</th>\n",
       "      <th>request_time</th>\n",
       "      <th>event_id</th>\n",
       "      <th>sender</th>\n",
       "      <th>context</th>\n",
       "      <th>session_id</th>\n",
       "    </tr>\n",
       "  </thead>\n",
       "  <tbody>\n",
       "    <tr>\n",
       "      <th>0</th>\n",
       "      <td>1</td>\n",
       "      <td>None</td>\n",
       "      <td>2022-09-14 00:09:39.234361</td>\n",
       "      <td>1</td>\n",
       "      <td>None</td>\n",
       "      <td>df = &lt;class 'pandas.core.frame.DataFrame'&gt;, sq...</td>\n",
       "      <td>ec6a82e4a1b9b4dc467639eb1a5d6987</td>\n",
       "    </tr>\n",
       "    <tr>\n",
       "      <th>1</th>\n",
       "      <td>2</td>\n",
       "      <td>None</td>\n",
       "      <td>2022-09-14 00:09:39.238851</td>\n",
       "      <td>29</td>\n",
       "      <td>None</td>\n",
       "      <td>None</td>\n",
       "      <td>ec6a82e4a1b9b4dc467639eb1a5d6987</td>\n",
       "    </tr>\n",
       "  </tbody>\n",
       "</table>\n",
       "</div>"
      ],
      "text/plain": [
       "   id forecastMarker                request_time  event_id sender  \\\n",
       "0   1           None  2022-09-14 00:09:39.234361         1   None   \n",
       "1   2           None  2022-09-14 00:09:39.238851        29   None   \n",
       "\n",
       "                                             context  \\\n",
       "0  df = <class 'pandas.core.frame.DataFrame'>, sq...   \n",
       "1                                               None   \n",
       "\n",
       "                         session_id  \n",
       "0  ec6a82e4a1b9b4dc467639eb1a5d6987  \n",
       "1  ec6a82e4a1b9b4dc467639eb1a5d6987  "
      ]
     },
     "metadata": {},
     "output_type": "display_data"
    },
    {
     "name": "stdout",
     "output_type": "stream",
     "text": [
      "\n"
     ]
    }
   ],
   "source": [
    "# Читаем данные и выводим название, info и первые 2 строки\n",
    "for df_name in name_list:\n",
    "    try:\n",
    "        globals()['name' + df_name[-2:]] = pd.read_csv(df_name + \".csv\")\n",
    "    except FileNotFoundError:\n",
    "        spreadsheet_id = name_list[df_name]\n",
    "        file_name = 'https://docs.google.com/spreadsheets/d/{}/export?format=csv'.format(spreadsheet_id)\n",
    "        r = requests.get(file_name)\n",
    "        globals()['name' + df_name[-2:]] = pd.read_csv(BytesIO(r.content))\n",
    "                  \n",
    "    print(40*'>', 'file name:', df_name)\n",
    "    print(40*'>', 'dataframe:', 'name' + df_name[-2:])\n",
    "    globals()['name' + df_name[-2:]].info()\n",
    "    display(globals()['name' + df_name[-2:]].head(2))\n",
    "    print()\n",
    "    \n",
    "for df_name in events_list:\n",
    "    try:\n",
    "        globals()['ivents' + df_name[-2:]] = pd.read_csv(df_name + \".csv\")\n",
    "    except FileNotFoundError:\n",
    "        spreadsheet_id = events_list[df_name]\n",
    "        file_name = 'https://docs.google.com/spreadsheets/d/{}/export?format=csv'.format(spreadsheet_id)\n",
    "        r = requests.get(file_name)\n",
    "        globals()['ivents' + df_name[-2:]] = pd.read_csv(BytesIO(r.content))\n",
    "                  \n",
    "    print(40*'>', 'file name:', df_name)\n",
    "    print(40*'>', 'dataframe:', 'ivents' + df_name[-2:])\n",
    "    globals()['ivents' + df_name[-2:]].info()\n",
    "    display(globals()['ivents' + df_name[-2:]].head(2))\n",
    "    print()    "
   ]
  },
  {
   "cell_type": "markdown",
   "id": "aa4fe48c",
   "metadata": {},
   "source": [
    "Датасеты event_name за разные даты похожи. Проведём их сверку. Для этого объединим три датасета по индексам и проверим идентичность записей в каждой строке."
   ]
  },
  {
   "cell_type": "code",
   "execution_count": 4,
   "id": "5014fde6",
   "metadata": {},
   "outputs": [],
   "source": [
    "tm = pd.merge(name12, name13, how='outer', on='id')\n",
    "tm = pd.merge(tm, name14, how='outer', on='id')"
   ]
  },
  {
   "cell_type": "code",
   "execution_count": 5,
   "id": "0b270672",
   "metadata": {},
   "outputs": [],
   "source": [
    "pd.set_option('display.max_colwidth', 0)"
   ]
  },
  {
   "cell_type": "code",
   "execution_count": 6,
   "id": "03cb2600",
   "metadata": {
    "scrolled": true
   },
   "outputs": [
    {
     "name": "stdout",
     "output_type": "stream",
     "text": [
      "<class 'pandas.core.frame.DataFrame'>\n",
      "Int64Index: 34 entries, 0 to 33\n",
      "Data columns (total 4 columns):\n",
      " #   Column        Non-Null Count  Dtype \n",
      "---  ------        --------------  ----- \n",
      " 0   id            34 non-null     int64 \n",
      " 1   event_name_x  34 non-null     object\n",
      " 2   event_name_y  34 non-null     object\n",
      " 3   event_name    34 non-null     object\n",
      "dtypes: int64(1), object(3)\n",
      "memory usage: 1.3+ KB\n"
     ]
    },
    {
     "data": {
      "text/html": [
       "<div>\n",
       "<style scoped>\n",
       "    .dataframe tbody tr th:only-of-type {\n",
       "        vertical-align: middle;\n",
       "    }\n",
       "\n",
       "    .dataframe tbody tr th {\n",
       "        vertical-align: top;\n",
       "    }\n",
       "\n",
       "    .dataframe thead th {\n",
       "        text-align: right;\n",
       "    }\n",
       "</style>\n",
       "<table border=\"1\" class=\"dataframe\">\n",
       "  <thead>\n",
       "    <tr style=\"text-align: right;\">\n",
       "      <th></th>\n",
       "      <th>id</th>\n",
       "      <th>event_name_x</th>\n",
       "      <th>event_name_y</th>\n",
       "      <th>event_name</th>\n",
       "    </tr>\n",
       "  </thead>\n",
       "  <tbody>\n",
       "    <tr>\n",
       "      <th>0</th>\n",
       "      <td>1</td>\n",
       "      <td>Инициализируем свойства класса</td>\n",
       "      <td>Инициализируем свойства класса</td>\n",
       "      <td>Инициализируем свойства класса</td>\n",
       "    </tr>\n",
       "    <tr>\n",
       "      <th>1</th>\n",
       "      <td>2</td>\n",
       "      <td>Переход в функцию getParametrsAndRegressors</td>\n",
       "      <td>Переход в функцию getParametrsAndRegressors</td>\n",
       "      <td>Переход в функцию getParametrsAndRegressors</td>\n",
       "    </tr>\n",
       "    <tr>\n",
       "      <th>2</th>\n",
       "      <td>3</td>\n",
       "      <td>Выход из функции getParametrsAndRegressors с параметрами</td>\n",
       "      <td>Выход из функции getParametrsAndRegressors с параметрами</td>\n",
       "      <td>Выход из функции getParametrsAndRegressors с параметрами</td>\n",
       "    </tr>\n",
       "    <tr>\n",
       "      <th>3</th>\n",
       "      <td>4</td>\n",
       "      <td>Выход из функции getParametrsAndRegressors БЕЗ параметров</td>\n",
       "      <td>Выход из функции getParametrsAndRegressors БЕЗ параметров</td>\n",
       "      <td>Выход из функции getParametrsAndRegressors БЕЗ параметров</td>\n",
       "    </tr>\n",
       "    <tr>\n",
       "      <th>4</th>\n",
       "      <td>5</td>\n",
       "      <td>Записали в свойства класса гиперпараметры и регрессоры</td>\n",
       "      <td>Записали в свойства класса гиперпараметры и регрессоры</td>\n",
       "      <td>Записали в свойства класса гиперпараметры и регрессоры</td>\n",
       "    </tr>\n",
       "  </tbody>\n",
       "</table>\n",
       "</div>"
      ],
      "text/plain": [
       "   id                                               event_name_x  \\\n",
       "0  1   Инициализируем свойства класса                              \n",
       "1  2   Переход в функцию getParametrsAndRegressors                 \n",
       "2  3   Выход из функции getParametrsAndRegressors с параметрами    \n",
       "3  4   Выход из функции getParametrsAndRegressors БЕЗ параметров   \n",
       "4  5   Записали в свойства класса гиперпараметры и регрессоры      \n",
       "\n",
       "                                                event_name_y  \\\n",
       "0  Инициализируем свойства класса                              \n",
       "1  Переход в функцию getParametrsAndRegressors                 \n",
       "2  Выход из функции getParametrsAndRegressors с параметрами    \n",
       "3  Выход из функции getParametrsAndRegressors БЕЗ параметров   \n",
       "4  Записали в свойства класса гиперпараметры и регрессоры      \n",
       "\n",
       "                                                  event_name  \n",
       "0  Инициализируем свойства класса                             \n",
       "1  Переход в функцию getParametrsAndRegressors                \n",
       "2  Выход из функции getParametrsAndRegressors с параметрами   \n",
       "3  Выход из функции getParametrsAndRegressors БЕЗ параметров  \n",
       "4  Записали в свойства класса гиперпараметры и регрессоры     "
      ]
     },
     "execution_count": 6,
     "metadata": {},
     "output_type": "execute_result"
    }
   ],
   "source": [
    "tm.info()\n",
    "tm.head()"
   ]
  },
  {
   "cell_type": "markdown",
   "id": "46c3a410",
   "metadata": {},
   "source": [
    "В новой таблице нет пропусков, значит для каждого дня наюор id событий идентичен. Проверим идентичность описаний."
   ]
  },
  {
   "cell_type": "code",
   "execution_count": 7,
   "id": "05fca091",
   "metadata": {},
   "outputs": [],
   "source": [
    "# функция для сравнения описаний\n",
    "# если содержимое трёх ячеек в одной строке идентично, то в строку добавляем ячейку со значением 1\n",
    "# если есть различия, то то в строку добавляем ячейку со значением 0\n",
    "def comparison(row):\n",
    "    if row['event_name_x'] == row['event_name_y'] and row['event_name_x'] == row['event_name']: row['check'] = 1\n",
    "    else: row['check'] = 0\n",
    "    return row"
   ]
  },
  {
   "cell_type": "code",
   "execution_count": 8,
   "id": "85a08001",
   "metadata": {},
   "outputs": [
    {
     "data": {
      "text/plain": [
       "array([1], dtype=int64)"
      ]
     },
     "execution_count": 8,
     "metadata": {},
     "output_type": "execute_result"
    }
   ],
   "source": [
    "# применяем функцию к датасету и смотрим на уникальные записи столбца `check`\n",
    "tm = tm.apply(comparison, axis=1)\n",
    "tm['check'].unique()"
   ]
  },
  {
   "cell_type": "markdown",
   "id": "f7239932",
   "metadata": {},
   "source": [
    "столбец содержит только 1, следовательно, name12, name13, name14 идентичны. Можем использовать любой из них."
   ]
  },
  {
   "cell_type": "code",
   "execution_count": 9,
   "id": "de880c12",
   "metadata": {},
   "outputs": [],
   "source": [
    "names = name12"
   ]
  },
  {
   "cell_type": "markdown",
   "id": "bd5464b5",
   "metadata": {},
   "source": [
    "Датассеты events так же не содержат пропусков. Если событий 12-го  и 14-го  примерно одинаковое количество, то 13-го событий вдвое больше. Для столбца `request_time` требуется изменение формата данных. Оценим число задач прогнозирования для каждого из дней. Согласно описания, каждая задача имеет уникальный `session_id`."
   ]
  },
  {
   "cell_type": "code",
   "execution_count": 10,
   "id": "8194750e",
   "metadata": {},
   "outputs": [
    {
     "name": "stdout",
     "output_type": "stream",
     "text": [
      "Число задач 12-09-2022: 371, число событий: 11207\n",
      "Число задач 13-09-2022: 789, число событий: 22275\n",
      "Число задач 14-09-2022: 439, число событий: 11249\n"
     ]
    }
   ],
   "source": [
    "print(f'Число задач 12-09-2022: {ivents12[\"session_id\"].nunique()}, число событий: {ivents12.shape[0]}')\n",
    "print(f'Число задач 13-09-2022: {ivents13[\"session_id\"].nunique()}, число событий: {ivents13.shape[0]}')\n",
    "print(f'Число задач 14-09-2022: {ivents14[\"session_id\"].nunique()}, число событий: {ivents14.shape[0]}')"
   ]
  },
  {
   "cell_type": "markdown",
   "id": "73e9a649",
   "metadata": {},
   "source": [
    "Число задач, так же как и число событий 13-го числа оказалось вдвое больше, чем 12-го. "
   ]
  },
  {
   "cell_type": "markdown",
   "id": "cf8e67e7",
   "metadata": {},
   "source": [
    "Датасеты относительно небольшие. Поэтому, объединим их в один."
   ]
  },
  {
   "cell_type": "code",
   "execution_count": 11,
   "id": "8b7bb802",
   "metadata": {},
   "outputs": [],
   "source": [
    "ivents = pd.merge(ivents12, ivents13, how='outer')"
   ]
  },
  {
   "cell_type": "code",
   "execution_count": 12,
   "id": "f33eee22",
   "metadata": {},
   "outputs": [],
   "source": [
    "ivents = pd.merge(ivents, ivents14, how='outer')"
   ]
  },
  {
   "cell_type": "code",
   "execution_count": 13,
   "id": "e837b8c8",
   "metadata": {
    "scrolled": true
   },
   "outputs": [
    {
     "data": {
      "text/html": [
       "<div>\n",
       "<style scoped>\n",
       "    .dataframe tbody tr th:only-of-type {\n",
       "        vertical-align: middle;\n",
       "    }\n",
       "\n",
       "    .dataframe tbody tr th {\n",
       "        vertical-align: top;\n",
       "    }\n",
       "\n",
       "    .dataframe thead th {\n",
       "        text-align: right;\n",
       "    }\n",
       "</style>\n",
       "<table border=\"1\" class=\"dataframe\">\n",
       "  <thead>\n",
       "    <tr style=\"text-align: right;\">\n",
       "      <th></th>\n",
       "      <th>id</th>\n",
       "      <th>forecastMarker</th>\n",
       "      <th>request_time</th>\n",
       "      <th>event_id</th>\n",
       "      <th>sender</th>\n",
       "      <th>context</th>\n",
       "      <th>session_id</th>\n",
       "    </tr>\n",
       "  </thead>\n",
       "  <tbody>\n",
       "    <tr>\n",
       "      <th>0</th>\n",
       "      <td>1</td>\n",
       "      <td>SelfService/RUS/turnover</td>\n",
       "      <td>2022-09-12 11:30:11.106628</td>\n",
       "      <td>1</td>\n",
       "      <td>test_system</td>\n",
       "      <td>df = &lt;class 'NoneType'&gt;, sql_query = &lt;class 'NoneType'&gt;</td>\n",
       "      <td>6f4277f6df57c4f4e90779966522c876</td>\n",
       "    </tr>\n",
       "    <tr>\n",
       "      <th>1</th>\n",
       "      <td>2</td>\n",
       "      <td>SelfService/RUS/turnover</td>\n",
       "      <td>2022-09-12 11:30:11.111359</td>\n",
       "      <td>29</td>\n",
       "      <td>test_system</td>\n",
       "      <td>None</td>\n",
       "      <td>6f4277f6df57c4f4e90779966522c876</td>\n",
       "    </tr>\n",
       "    <tr>\n",
       "      <th>2</th>\n",
       "      <td>3</td>\n",
       "      <td>SelfService/RUS/turnover</td>\n",
       "      <td>2022-09-12 11:30:11.115989</td>\n",
       "      <td>2</td>\n",
       "      <td>test_system</td>\n",
       "      <td>None</td>\n",
       "      <td>6f4277f6df57c4f4e90779966522c876</td>\n",
       "    </tr>\n",
       "    <tr>\n",
       "      <th>3</th>\n",
       "      <td>4</td>\n",
       "      <td>SelfService/RUS/turnover</td>\n",
       "      <td>2022-09-12 11:30:12.761754</td>\n",
       "      <td>3</td>\n",
       "      <td>test_system</td>\n",
       "      <td>Найдено 1 строк с параметрами</td>\n",
       "      <td>6f4277f6df57c4f4e90779966522c876</td>\n",
       "    </tr>\n",
       "    <tr>\n",
       "      <th>4</th>\n",
       "      <td>5</td>\n",
       "      <td>SelfService/RUS/turnover</td>\n",
       "      <td>2022-09-12 11:30:12.770134</td>\n",
       "      <td>5</td>\n",
       "      <td>test_system</td>\n",
       "      <td>None</td>\n",
       "      <td>6f4277f6df57c4f4e90779966522c876</td>\n",
       "    </tr>\n",
       "  </tbody>\n",
       "</table>\n",
       "</div>"
      ],
      "text/plain": [
       "   id            forecastMarker                request_time  event_id  \\\n",
       "0  1   SelfService/RUS/turnover  2022-09-12 11:30:11.106628  1          \n",
       "1  2   SelfService/RUS/turnover  2022-09-12 11:30:11.111359  29         \n",
       "2  3   SelfService/RUS/turnover  2022-09-12 11:30:11.115989  2          \n",
       "3  4   SelfService/RUS/turnover  2022-09-12 11:30:12.761754  3          \n",
       "4  5   SelfService/RUS/turnover  2022-09-12 11:30:12.770134  5          \n",
       "\n",
       "        sender                                                  context  \\\n",
       "0  test_system  df = <class 'NoneType'>, sql_query = <class 'NoneType'>   \n",
       "1  test_system  None                                                      \n",
       "2  test_system  None                                                      \n",
       "3  test_system  Найдено 1 строк с параметрами                             \n",
       "4  test_system  None                                                      \n",
       "\n",
       "                         session_id  \n",
       "0  6f4277f6df57c4f4e90779966522c876  \n",
       "1  6f4277f6df57c4f4e90779966522c876  \n",
       "2  6f4277f6df57c4f4e90779966522c876  \n",
       "3  6f4277f6df57c4f4e90779966522c876  \n",
       "4  6f4277f6df57c4f4e90779966522c876  "
      ]
     },
     "execution_count": 13,
     "metadata": {},
     "output_type": "execute_result"
    }
   ],
   "source": [
    "ivents.head()"
   ]
  },
  {
   "cell_type": "code",
   "execution_count": 14,
   "id": "3ef32320",
   "metadata": {},
   "outputs": [
    {
     "name": "stdout",
     "output_type": "stream",
     "text": [
      "<class 'pandas.core.frame.DataFrame'>\n",
      "Int64Index: 44731 entries, 0 to 44730\n",
      "Data columns (total 7 columns):\n",
      " #   Column          Non-Null Count  Dtype \n",
      "---  ------          --------------  ----- \n",
      " 0   id              44731 non-null  int64 \n",
      " 1   forecastMarker  44731 non-null  object\n",
      " 2   request_time    44731 non-null  object\n",
      " 3   event_id        44731 non-null  int64 \n",
      " 4   sender          44731 non-null  object\n",
      " 5   context         44731 non-null  object\n",
      " 6   session_id      44731 non-null  object\n",
      "dtypes: int64(2), object(5)\n",
      "memory usage: 2.7+ MB\n"
     ]
    }
   ],
   "source": [
    "ivents.info()"
   ]
  },
  {
   "cell_type": "code",
   "execution_count": 15,
   "id": "dcd1a64b",
   "metadata": {},
   "outputs": [
    {
     "data": {
      "text/plain": [
       "0"
      ]
     },
     "execution_count": 15,
     "metadata": {},
     "output_type": "execute_result"
    }
   ],
   "source": [
    "ivents.duplicated().sum()"
   ]
  },
  {
   "cell_type": "markdown",
   "id": "0b61bb71",
   "metadata": {},
   "source": [
    "Дубликаты отсутствуют."
   ]
  },
  {
   "cell_type": "markdown",
   "id": "dc781cfd",
   "metadata": {},
   "source": [
    "Преобразуем формат данных и выделим дату в отдельный столбец."
   ]
  },
  {
   "cell_type": "code",
   "execution_count": 16,
   "id": "d4ddaf0a",
   "metadata": {},
   "outputs": [
    {
     "name": "stdout",
     "output_type": "stream",
     "text": [
      "<class 'pandas.core.frame.DataFrame'>\n",
      "Int64Index: 44731 entries, 0 to 44730\n",
      "Data columns (total 8 columns):\n",
      " #   Column          Non-Null Count  Dtype         \n",
      "---  ------          --------------  -----         \n",
      " 0   id              44731 non-null  int64         \n",
      " 1   forecastMarker  44731 non-null  object        \n",
      " 2   request_time    44731 non-null  datetime64[ns]\n",
      " 3   event_id        44731 non-null  int64         \n",
      " 4   sender          44731 non-null  object        \n",
      " 5   context         44731 non-null  object        \n",
      " 6   session_id      44731 non-null  object        \n",
      " 7   date            44731 non-null  object        \n",
      "dtypes: datetime64[ns](1), int64(2), object(5)\n",
      "memory usage: 3.1+ MB\n"
     ]
    },
    {
     "data": {
      "text/html": [
       "<div>\n",
       "<style scoped>\n",
       "    .dataframe tbody tr th:only-of-type {\n",
       "        vertical-align: middle;\n",
       "    }\n",
       "\n",
       "    .dataframe tbody tr th {\n",
       "        vertical-align: top;\n",
       "    }\n",
       "\n",
       "    .dataframe thead th {\n",
       "        text-align: right;\n",
       "    }\n",
       "</style>\n",
       "<table border=\"1\" class=\"dataframe\">\n",
       "  <thead>\n",
       "    <tr style=\"text-align: right;\">\n",
       "      <th></th>\n",
       "      <th>id</th>\n",
       "      <th>forecastMarker</th>\n",
       "      <th>request_time</th>\n",
       "      <th>event_id</th>\n",
       "      <th>sender</th>\n",
       "      <th>context</th>\n",
       "      <th>session_id</th>\n",
       "      <th>date</th>\n",
       "    </tr>\n",
       "  </thead>\n",
       "  <tbody>\n",
       "    <tr>\n",
       "      <th>0</th>\n",
       "      <td>1</td>\n",
       "      <td>SelfService/RUS/turnover</td>\n",
       "      <td>2022-09-12 11:30:11.106628</td>\n",
       "      <td>1</td>\n",
       "      <td>test_system</td>\n",
       "      <td>df = &lt;class 'NoneType'&gt;, sql_query = &lt;class 'NoneType'&gt;</td>\n",
       "      <td>6f4277f6df57c4f4e90779966522c876</td>\n",
       "      <td>2022-09-12</td>\n",
       "    </tr>\n",
       "    <tr>\n",
       "      <th>1</th>\n",
       "      <td>2</td>\n",
       "      <td>SelfService/RUS/turnover</td>\n",
       "      <td>2022-09-12 11:30:11.111359</td>\n",
       "      <td>29</td>\n",
       "      <td>test_system</td>\n",
       "      <td>None</td>\n",
       "      <td>6f4277f6df57c4f4e90779966522c876</td>\n",
       "      <td>2022-09-12</td>\n",
       "    </tr>\n",
       "  </tbody>\n",
       "</table>\n",
       "</div>"
      ],
      "text/plain": [
       "   id            forecastMarker               request_time  event_id  \\\n",
       "0  1   SelfService/RUS/turnover 2022-09-12 11:30:11.106628  1          \n",
       "1  2   SelfService/RUS/turnover 2022-09-12 11:30:11.111359  29         \n",
       "\n",
       "        sender                                                  context  \\\n",
       "0  test_system  df = <class 'NoneType'>, sql_query = <class 'NoneType'>   \n",
       "1  test_system  None                                                      \n",
       "\n",
       "                         session_id        date  \n",
       "0  6f4277f6df57c4f4e90779966522c876  2022-09-12  \n",
       "1  6f4277f6df57c4f4e90779966522c876  2022-09-12  "
      ]
     },
     "execution_count": 16,
     "metadata": {},
     "output_type": "execute_result"
    }
   ],
   "source": [
    "ivents['request_time'] = pd.to_datetime(ivents['request_time'], format='%Y-%m-%d %H:%M:%S')\n",
    "ivents['date'] = pd.DatetimeIndex(ivents['request_time']).date\n",
    "ivents.info()\n",
    "ivents.head(2)"
   ]
  },
  {
   "cell_type": "markdown",
   "id": "0c95eabf",
   "metadata": {},
   "source": [
    "Добавим наименование событий."
   ]
  },
  {
   "cell_type": "code",
   "execution_count": 17,
   "id": "eec59670",
   "metadata": {},
   "outputs": [],
   "source": [
    "ivents = pd.merge(ivents, names, how='left', left_on='event_id', right_on='id')\n",
    "ivents = ivents.drop(columns='id_y')"
   ]
  },
  {
   "cell_type": "code",
   "execution_count": 18,
   "id": "ac3e9f7c",
   "metadata": {
    "scrolled": false
   },
   "outputs": [
    {
     "data": {
      "text/html": [
       "<div>\n",
       "<style scoped>\n",
       "    .dataframe tbody tr th:only-of-type {\n",
       "        vertical-align: middle;\n",
       "    }\n",
       "\n",
       "    .dataframe tbody tr th {\n",
       "        vertical-align: top;\n",
       "    }\n",
       "\n",
       "    .dataframe thead th {\n",
       "        text-align: right;\n",
       "    }\n",
       "</style>\n",
       "<table border=\"1\" class=\"dataframe\">\n",
       "  <thead>\n",
       "    <tr style=\"text-align: right;\">\n",
       "      <th></th>\n",
       "      <th>id_x</th>\n",
       "      <th>forecastMarker</th>\n",
       "      <th>request_time</th>\n",
       "      <th>event_id</th>\n",
       "      <th>sender</th>\n",
       "      <th>context</th>\n",
       "      <th>session_id</th>\n",
       "      <th>date</th>\n",
       "      <th>event_name</th>\n",
       "    </tr>\n",
       "  </thead>\n",
       "  <tbody>\n",
       "    <tr>\n",
       "      <th>0</th>\n",
       "      <td>1</td>\n",
       "      <td>SelfService/RUS/turnover</td>\n",
       "      <td>2022-09-12 11:30:11.106628</td>\n",
       "      <td>1</td>\n",
       "      <td>test_system</td>\n",
       "      <td>df = &lt;class 'NoneType'&gt;, sql_query = &lt;class 'NoneType'&gt;</td>\n",
       "      <td>6f4277f6df57c4f4e90779966522c876</td>\n",
       "      <td>2022-09-12</td>\n",
       "      <td>Инициализируем свойства класса</td>\n",
       "    </tr>\n",
       "    <tr>\n",
       "      <th>1</th>\n",
       "      <td>2</td>\n",
       "      <td>SelfService/RUS/turnover</td>\n",
       "      <td>2022-09-12 11:30:11.111359</td>\n",
       "      <td>29</td>\n",
       "      <td>test_system</td>\n",
       "      <td>None</td>\n",
       "      <td>6f4277f6df57c4f4e90779966522c876</td>\n",
       "      <td>2022-09-12</td>\n",
       "      <td>Начинаем получать гипермараметры и регрессоры</td>\n",
       "    </tr>\n",
       "  </tbody>\n",
       "</table>\n",
       "</div>"
      ],
      "text/plain": [
       "   id_x            forecastMarker               request_time  event_id  \\\n",
       "0  1     SelfService/RUS/turnover 2022-09-12 11:30:11.106628  1          \n",
       "1  2     SelfService/RUS/turnover 2022-09-12 11:30:11.111359  29         \n",
       "\n",
       "        sender                                                  context  \\\n",
       "0  test_system  df = <class 'NoneType'>, sql_query = <class 'NoneType'>   \n",
       "1  test_system  None                                                      \n",
       "\n",
       "                         session_id        date  \\\n",
       "0  6f4277f6df57c4f4e90779966522c876  2022-09-12   \n",
       "1  6f4277f6df57c4f4e90779966522c876  2022-09-12   \n",
       "\n",
       "                                      event_name  \n",
       "0  Инициализируем свойства класса                 \n",
       "1  Начинаем получать гипермараметры и регрессоры  "
      ]
     },
     "execution_count": 18,
     "metadata": {},
     "output_type": "execute_result"
    }
   ],
   "source": [
    "ivents.head(2)"
   ]
  },
  {
   "cell_type": "markdown",
   "id": "00819e47",
   "metadata": {},
   "source": [
    "Сравним распределения событий в течении дня."
   ]
  },
  {
   "cell_type": "code",
   "execution_count": 19,
   "id": "be10a20e",
   "metadata": {
    "scrolled": false
   },
   "outputs": [
    {
     "data": {
      "image/png": "[encoded data removed]",
      "text/plain": [
       "<Figure size 1080x648 with 3 Axes>"
      ]
     },
     "metadata": {
      "needs_background": "light"
     },
     "output_type": "display_data"
    }
   ],
   "source": [
    "fig2 = plt.figure(figsize=(15,9))\n",
    "ax1 = fig2.add_subplot(3,1,1)\n",
    "ax2 = fig2.add_subplot(3,1,2)\n",
    "ax3 = fig2.add_subplot(3,1,3)\n",
    "\n",
    "sns.histplot(x='request_time', data=ivents.query('date == datetime.date(2022, 9, 12)'), bins=24, ax = ax1)\n",
    "ax1.set_title('Распределение событий в течении дня 12-09-2022', fontsize=14)\n",
    "ax1.set_xlabel('Время', fontsize=12)\n",
    "ax1.set_ylabel('Частота', fontsize=12)\n",
    "ax1.set_xlim(datetime.datetime(2022, 9, 12, 0, 0, 0), datetime.datetime(2022, 9, 13, 0, 0, 0))\n",
    "\n",
    "sns.histplot(x='request_time', data=ivents.query('date == datetime.date(2022, 9, 13)'), bins=24, ax = ax2)\n",
    "ax2.set_title('Распределение событий в течении дня 13-09-2022', fontsize=14)\n",
    "ax2.set_xlabel('Время', fontsize=12)\n",
    "ax2.set_ylabel('Частота', fontsize=12)\n",
    "ax2.set_xlim(datetime.datetime(2022, 9, 13, 0, 0, 0), datetime.datetime(2022, 9, 14, 0, 0, 0))\n",
    "\n",
    "sns.histplot(x='request_time', data=ivents.query('date == datetime.date(2022, 9, 14)'), bins=24, ax = ax3)\n",
    "ax3.set_title('Распределение событий в течении дня 14-09-2022', fontsize=14)\n",
    "ax3.set_xlabel('Время', fontsize=12)\n",
    "ax3.set_ylabel('Частота', fontsize=12)\n",
    "ax3.set_xlim(datetime.datetime(2022, 9, 14, 0, 0, 0), datetime.datetime(2022, 9, 15, 0, 0, 0))\n",
    "\n",
    "fig2.tight_layout()"
   ]
  },
  {
   "cell_type": "markdown",
   "id": "9a6820d5",
   "metadata": {},
   "source": [
    "Гистограммы, для удобства сравнения, построены на одинаковых осях времени (0:00:00 текущего дня до 0:00:00 следующего дня). Для 13-го и 14-го числа первая активность фиксируется в начале суток, тогда как 12-го числа только ближе в полудню. Возможно, это связано с тем, что 12-09-2022 это был понедельник, а для первого рабочего дня характерна низкая активность в первой половине. Тем не менее, для всех трёх дней характерна непостоянная загруженность в течении дня с пиком в первой половине по времени системы. "
   ]
  },
  {
   "cell_type": "markdown",
   "id": "dee3199c",
   "metadata": {},
   "source": [
    "Выведем время первой, последей активности и интервал между ними по дням."
   ]
  },
  {
   "cell_type": "code",
   "execution_count": 20,
   "id": "66b53da3",
   "metadata": {},
   "outputs": [
    {
     "name": "stdout",
     "output_type": "stream",
     "text": [
      "12-09-2022\n",
      "Первая активность   : 2022-09-12 11:30:11.106628\n",
      "Последняя активность: 2022-09-12 18:24:18.389464\n",
      "Интервал            : 0 days 06:54:07.282836\n",
      "13-09-2022\n",
      "Первая активность   : 2022-09-13 00:10:27.967745\n",
      "Последняя активность: 2022-09-13 09:41:15.078643\n",
      "Интервал            : 0 days 09:30:47.110898\n",
      "14-09-2022\n",
      "Первая активность   : 2022-09-14 00:09:39.234361\n",
      "Последняя активность: 2022-09-14 06:07:47.609898\n",
      "Интервал            : 0 days 05:58:08.375537\n"
     ]
    }
   ],
   "source": [
    "for day in [12, 13, 14]:\n",
    "    print(f'{day}-09-2022')\n",
    "    print('Первая активность   :',ivents.query('date == datetime.date(2022, 9, @day)')['request_time'].min())\n",
    "    print('Последняя активность:',ivents.query('date == datetime.date(2022, 9, @day)')['request_time'].max())\n",
    "    print('Интервал            : ', end='')\n",
    "    print(\n",
    "        ivents.query('date == datetime.date(2022, 9, @day)')['request_time'].max() - \n",
    "        ivents.query('date == datetime.date(2022, 9, @day)')['request_time'].min())"
   ]
  },
  {
   "cell_type": "markdown",
   "id": "e145dc1b",
   "metadata": {},
   "source": [
    "Интервалы между первой и последней активности от 6 до 9.5 часов. 14-го числа все активности прекращены уже к 6 утра."
   ]
  },
  {
   "cell_type": "markdown",
   "id": "339cffbd",
   "metadata": {},
   "source": [
    "# Ответы на вопросы"
   ]
  },
  {
   "cell_type": "markdown",
   "id": "46ffc328",
   "metadata": {},
   "source": [
    "## Между какими событиями наибольший шаг? Указать пару идентификаторов событий с наибольшим шагом, относительно всей базы."
   ]
  },
  {
   "cell_type": "code",
   "execution_count": 21,
   "id": "67a26e53",
   "metadata": {},
   "outputs": [],
   "source": [
    "# исключение предупреждения python\n",
    "pd.options.mode.chained_assignment = None"
   ]
  },
  {
   "cell_type": "markdown",
   "id": "6d0b8f9e",
   "metadata": {},
   "source": [
    "Так как в задании однозначно не указано, должны ли быть события внутри одной задачи или нет, рассмотрим оба варианта:\n",
    "- наибольший шаг между событиями (все события в хронологическом порядке);\n",
    "- наибольший шаг между событиями (события в рамках одной задачи)"
   ]
  },
  {
   "cell_type": "markdown",
   "id": "23dab2d2",
   "metadata": {},
   "source": [
    "### Наибольший шаг между событиями (все события в хронологическом порядке)."
   ]
  },
  {
   "cell_type": "code",
   "execution_count": 22,
   "id": "439352f9",
   "metadata": {},
   "outputs": [
    {
     "name": "stdout",
     "output_type": "stream",
     "text": [
      "Наибольший шаг: 0 days 14:28:24.155718\n"
     ]
    }
   ],
   "source": [
    "tmp = ivents\n",
    "tmp['prev_time'] = tmp['request_time'].shift(1)\n",
    "tmp['time_delta'] = tmp['request_time'] - tmp['prev_time']\n",
    "print(\"Наибольший шаг:\",tmp['time_delta'].max())"
   ]
  },
  {
   "cell_type": "markdown",
   "id": "76ed50c2",
   "metadata": {},
   "source": [
    "Выведем эти события."
   ]
  },
  {
   "cell_type": "code",
   "execution_count": 23,
   "id": "7e2d982f",
   "metadata": {},
   "outputs": [
    {
     "data": {
      "text/html": [
       "<div>\n",
       "<style scoped>\n",
       "    .dataframe tbody tr th:only-of-type {\n",
       "        vertical-align: middle;\n",
       "    }\n",
       "\n",
       "    .dataframe tbody tr th {\n",
       "        vertical-align: top;\n",
       "    }\n",
       "\n",
       "    .dataframe thead th {\n",
       "        text-align: right;\n",
       "    }\n",
       "</style>\n",
       "<table border=\"1\" class=\"dataframe\">\n",
       "  <thead>\n",
       "    <tr style=\"text-align: right;\">\n",
       "      <th></th>\n",
       "      <th>forecastMarker</th>\n",
       "      <th>request_time</th>\n",
       "      <th>event_id</th>\n",
       "      <th>sender</th>\n",
       "      <th>context</th>\n",
       "      <th>session_id</th>\n",
       "    </tr>\n",
       "  </thead>\n",
       "  <tbody>\n",
       "    <tr>\n",
       "      <th>33481</th>\n",
       "      <td>weekly_report.SS:no_segment_users</td>\n",
       "      <td>2022-09-13 09:41:15.078643</td>\n",
       "      <td>31</td>\n",
       "      <td>test.weekly_report.ss</td>\n",
       "      <td>Отдан датафрейм: (895, 4)</td>\n",
       "      <td>d637d1b6d2b70fd088e2ea44959483cb</td>\n",
       "    </tr>\n",
       "    <tr>\n",
       "      <th>33482</th>\n",
       "      <td>None</td>\n",
       "      <td>2022-09-14 00:09:39.234361</td>\n",
       "      <td>1</td>\n",
       "      <td>None</td>\n",
       "      <td>df = &lt;class 'pandas.core.frame.DataFrame'&gt;, sql_query = &lt;class 'NoneType'&gt;</td>\n",
       "      <td>ec6a82e4a1b9b4dc467639eb1a5d6987</td>\n",
       "    </tr>\n",
       "  </tbody>\n",
       "</table>\n",
       "</div>"
      ],
      "text/plain": [
       "                          forecastMarker               request_time  event_id  \\\n",
       "33481  weekly_report.SS:no_segment_users 2022-09-13 09:41:15.078643  31         \n",
       "33482  None                              2022-09-14 00:09:39.234361  1          \n",
       "\n",
       "                      sender  \\\n",
       "33481  test.weekly_report.ss   \n",
       "33482  None                    \n",
       "\n",
       "                                                                          context  \\\n",
       "33481  Отдан датафрейм: (895, 4)                                                    \n",
       "33482  df = <class 'pandas.core.frame.DataFrame'>, sql_query = <class 'NoneType'>   \n",
       "\n",
       "                             session_id  \n",
       "33481  d637d1b6d2b70fd088e2ea44959483cb  \n",
       "33482  ec6a82e4a1b9b4dc467639eb1a5d6987  "
      ]
     },
     "execution_count": 23,
     "metadata": {},
     "output_type": "execute_result"
    }
   ],
   "source": [
    "(\n",
    "    tmp.loc[tmp.loc[tmp['time_delta'] == tmp['time_delta'].max()].index[0]-1 :\n",
    "            tmp.loc[tmp['time_delta'] == tmp['time_delta'].max()].index[0], \n",
    "            ['forecastMarker', 'request_time', 'event_id', 'sender', 'context', 'session_id']]\n",
    ")    "
   ]
  },
  {
   "cell_type": "markdown",
   "id": "7a7f0b81",
   "metadata": {},
   "source": [
    "Как и следовало ожидать, исходя из графиков активностей представленных выше, наибольший шаг (бездействие системы) между завершением последней задачи 13-го и началом первой задачи 14-го сентября."
   ]
  },
  {
   "cell_type": "markdown",
   "id": "1b0db301",
   "metadata": {},
   "source": [
    "### Наибольший шаг между событиями (события в рамках одной задачи)."
   ]
  },
  {
   "cell_type": "markdown",
   "id": "04b1e555",
   "metadata": {},
   "source": [
    "Создадим датасет в котором для каждого события найдём время предыдущего события той же задачи и шаг между ними."
   ]
  },
  {
   "cell_type": "code",
   "execution_count": 24,
   "id": "3ab22069",
   "metadata": {},
   "outputs": [],
   "source": [
    "dft31 = pd.DataFrame(columns=['id_x', 'forecastMarker', 'request_time', 'event_id', \n",
    "                             'sender', 'context', 'session_id', 'event_name', 'prev_time', \n",
    "                             'prev_id', 'time_delta'])"
   ]
  },
  {
   "cell_type": "code",
   "execution_count": 25,
   "id": "70c27682",
   "metadata": {
    "scrolled": true
   },
   "outputs": [
    {
     "name": "stderr",
     "output_type": "stream",
     "text": [
      "100%|██████████████████████████████████████| 1599/1599 [02:46<00:00,  9.60it/s]\n"
     ]
    },
    {
     "data": {
      "text/html": [
       "<div>\n",
       "<style scoped>\n",
       "    .dataframe tbody tr th:only-of-type {\n",
       "        vertical-align: middle;\n",
       "    }\n",
       "\n",
       "    .dataframe tbody tr th {\n",
       "        vertical-align: top;\n",
       "    }\n",
       "\n",
       "    .dataframe thead th {\n",
       "        text-align: right;\n",
       "    }\n",
       "</style>\n",
       "<table border=\"1\" class=\"dataframe\">\n",
       "  <thead>\n",
       "    <tr style=\"text-align: right;\">\n",
       "      <th></th>\n",
       "      <th>id_x</th>\n",
       "      <th>forecastMarker</th>\n",
       "      <th>request_time</th>\n",
       "      <th>event_id</th>\n",
       "      <th>sender</th>\n",
       "      <th>context</th>\n",
       "      <th>session_id</th>\n",
       "      <th>date</th>\n",
       "      <th>event_name</th>\n",
       "      <th>prev_time</th>\n",
       "      <th>time_delta</th>\n",
       "      <th>prev_id</th>\n",
       "    </tr>\n",
       "  </thead>\n",
       "  <tbody>\n",
       "    <tr>\n",
       "      <th>0</th>\n",
       "      <td>1</td>\n",
       "      <td>SelfService/RUS/turnover</td>\n",
       "      <td>2022-09-12 11:30:11.106628</td>\n",
       "      <td>1</td>\n",
       "      <td>test_system</td>\n",
       "      <td>df = &lt;class 'NoneType'&gt;, sql_query = &lt;class 'NoneType'&gt;</td>\n",
       "      <td>6f4277f6df57c4f4e90779966522c876</td>\n",
       "      <td>2022-09-12</td>\n",
       "      <td>Инициализируем свойства класса</td>\n",
       "      <td>NaT</td>\n",
       "      <td>NaT</td>\n",
       "      <td>NaN</td>\n",
       "    </tr>\n",
       "    <tr>\n",
       "      <th>1</th>\n",
       "      <td>2</td>\n",
       "      <td>SelfService/RUS/turnover</td>\n",
       "      <td>2022-09-12 11:30:11.111359</td>\n",
       "      <td>29</td>\n",
       "      <td>test_system</td>\n",
       "      <td>None</td>\n",
       "      <td>6f4277f6df57c4f4e90779966522c876</td>\n",
       "      <td>2022-09-12</td>\n",
       "      <td>Начинаем получать гипермараметры и регрессоры</td>\n",
       "      <td>2022-09-12 11:30:11.106628</td>\n",
       "      <td>0 days 00:00:00.004731</td>\n",
       "      <td>1.0</td>\n",
       "    </tr>\n",
       "  </tbody>\n",
       "</table>\n",
       "</div>"
      ],
      "text/plain": [
       "   id_x            forecastMarker               request_time  event_id  \\\n",
       "0  1     SelfService/RUS/turnover 2022-09-12 11:30:11.106628  1          \n",
       "1  2     SelfService/RUS/turnover 2022-09-12 11:30:11.111359  29         \n",
       "\n",
       "        sender                                                  context  \\\n",
       "0  test_system  df = <class 'NoneType'>, sql_query = <class 'NoneType'>   \n",
       "1  test_system  None                                                      \n",
       "\n",
       "                         session_id        date  \\\n",
       "0  6f4277f6df57c4f4e90779966522c876  2022-09-12   \n",
       "1  6f4277f6df57c4f4e90779966522c876  2022-09-12   \n",
       "\n",
       "                                      event_name                  prev_time  \\\n",
       "0  Инициализируем свойства класса                NaT                          \n",
       "1  Начинаем получать гипермараметры и регрессоры 2022-09-12 11:30:11.106628   \n",
       "\n",
       "              time_delta  prev_id  \n",
       "0 NaT                    NaN       \n",
       "1 0 days 00:00:00.004731  1.0      "
      ]
     },
     "execution_count": 25,
     "metadata": {},
     "output_type": "execute_result"
    }
   ],
   "source": [
    "for i in tqdm(ivents['session_id'].unique()):\n",
    "    tmp = ivents.query('session_id == @i')\n",
    "    tmp['prev_time']  = tmp['request_time'].shift(1)\n",
    "    tmp['prev_id'] = tmp['event_id'].shift(1)\n",
    "    tmp['time_delta'] = tmp['request_time'] - tmp['prev_time']\n",
    "    dft31 = pd.merge(dft31, tmp, how='outer')\n",
    "dft31.head(2)    "
   ]
  },
  {
   "cell_type": "markdown",
   "id": "ac9b6342",
   "metadata": {},
   "source": [
    "Выведем строку с максимальным шагом."
   ]
  },
  {
   "cell_type": "code",
   "execution_count": 26,
   "id": "a58a0313",
   "metadata": {},
   "outputs": [
    {
     "data": {
      "text/html": [
       "<div>\n",
       "<style scoped>\n",
       "    .dataframe tbody tr th:only-of-type {\n",
       "        vertical-align: middle;\n",
       "    }\n",
       "\n",
       "    .dataframe tbody tr th {\n",
       "        vertical-align: top;\n",
       "    }\n",
       "\n",
       "    .dataframe thead th {\n",
       "        text-align: right;\n",
       "    }\n",
       "</style>\n",
       "<table border=\"1\" class=\"dataframe\">\n",
       "  <thead>\n",
       "    <tr style=\"text-align: right;\">\n",
       "      <th></th>\n",
       "      <th>id_x</th>\n",
       "      <th>forecastMarker</th>\n",
       "      <th>request_time</th>\n",
       "      <th>event_id</th>\n",
       "      <th>sender</th>\n",
       "      <th>context</th>\n",
       "      <th>session_id</th>\n",
       "      <th>date</th>\n",
       "      <th>event_name</th>\n",
       "      <th>prev_time</th>\n",
       "      <th>time_delta</th>\n",
       "      <th>prev_id</th>\n",
       "    </tr>\n",
       "  </thead>\n",
       "  <tbody>\n",
       "    <tr>\n",
       "      <th>39225</th>\n",
       "      <td>5744</td>\n",
       "      <td>weekly_report.care:count_of_jivo_SA</td>\n",
       "      <td>2022-09-14 05:22:40.308128</td>\n",
       "      <td>7</td>\n",
       "      <td>weekly_report.care</td>\n",
       "      <td>Получили из BQ набор данных размером: (548, 2)</td>\n",
       "      <td>4dcab2af4573ced8251fb7433174ba15</td>\n",
       "      <td>2022-09-14</td>\n",
       "      <td>Получили данные из BQ по полученному SQL запросу</td>\n",
       "      <td>2022-09-14 05:20:53.759918</td>\n",
       "      <td>0 days 00:01:46.548210</td>\n",
       "      <td>6.0</td>\n",
       "    </tr>\n",
       "  </tbody>\n",
       "</table>\n",
       "</div>"
      ],
      "text/plain": [
       "       id_x                       forecastMarker               request_time  \\\n",
       "39225  5744  weekly_report.care:count_of_jivo_SA 2022-09-14 05:22:40.308128   \n",
       "\n",
       "       event_id              sender  \\\n",
       "39225  7         weekly_report.care   \n",
       "\n",
       "                                              context  \\\n",
       "39225  Получили из BQ набор данных размером: (548, 2)   \n",
       "\n",
       "                             session_id        date  \\\n",
       "39225  4dcab2af4573ced8251fb7433174ba15  2022-09-14   \n",
       "\n",
       "                                             event_name  \\\n",
       "39225  Получили данные из BQ по полученному SQL запросу   \n",
       "\n",
       "                       prev_time             time_delta  prev_id  \n",
       "39225 2022-09-14 05:20:53.759918 0 days 00:01:46.548210  6.0      "
      ]
     },
     "execution_count": 26,
     "metadata": {},
     "output_type": "execute_result"
    }
   ],
   "source": [
    "dft31.loc[dft31['time_delta'] == dft31['time_delta'].max()]"
   ]
  },
  {
   "cell_type": "code",
   "execution_count": 27,
   "id": "160862b7",
   "metadata": {},
   "outputs": [
    {
     "name": "stdout",
     "output_type": "stream",
     "text": [
      "Максимальный шаг: 106.55 сек.\n",
      "Дата и время предыдущего события : 2022-09-14 05:20:53.759918\n",
      "Предыдущее событие идентификатор : 6\n",
      "Предыдущее событие наименование  : Начинаем читать данные из BQ по полученному SQL запросу\n",
      "Дата и время текущего события    : 2022-09-14 05:22:40.308128\n",
      "Текущее событие идентификатор    : 7\n",
      "Текущее событие наименование     : Получили данные из BQ по полученному SQL запросу\n"
     ]
    }
   ],
   "source": [
    "tmp = dft31.loc[dft31['time_delta'] == dft31['time_delta'].max()].reset_index()\n",
    "step = round(tmp['time_delta'].max().total_seconds(), 2)\n",
    "curr_id = int(tmp['event_id'])\n",
    "prev_id = int(tmp['prev_id'])\n",
    "print(f\"Максимальный шаг: {step} сек.\")\n",
    "print(f\"Дата и время предыдущего события : {tmp.loc[0, 'prev_time']}\")\n",
    "print(f\"Предыдущее событие идентификатор : {prev_id}\")\n",
    "print(f\"Предыдущее событие наименование  : {names.loc[names.loc[names['id'] == prev_id].index[0], 'event_name']}\")\n",
    "print(f\"Дата и время текущего события    : {tmp.loc[0, 'request_time']}\")\n",
    "print(f\"Текущее событие идентификатор    : {curr_id}\")\n",
    "print(f\"Текущее событие наименование     : {tmp.loc[0, 'event_name']}\")"
   ]
  },
  {
   "cell_type": "markdown",
   "id": "1d7c3103",
   "metadata": {},
   "source": [
    "## Интервал времени до наступления какого события показывает наибольший разброс? Указать пару идентификатор - sender с наибольшим разбросом. "
   ]
  },
  {
   "cell_type": "markdown",
   "id": "fecbde33",
   "metadata": {},
   "source": [
    "По условию задачи, разброс - это разность между максимальной и минимальной величинами. Так как требуются указать пару идентификатор - sender, необходимо анализировать интервалы по всем возможным парам."
   ]
  },
  {
   "cell_type": "markdown",
   "id": "b85565f0",
   "metadata": {},
   "source": [
    "Добавим столбец с шагом в секундах."
   ]
  },
  {
   "cell_type": "code",
   "execution_count": 28,
   "id": "41897f93",
   "metadata": {
    "scrolled": true
   },
   "outputs": [
    {
     "data": {
      "text/html": [
       "<div>\n",
       "<style scoped>\n",
       "    .dataframe tbody tr th:only-of-type {\n",
       "        vertical-align: middle;\n",
       "    }\n",
       "\n",
       "    .dataframe tbody tr th {\n",
       "        vertical-align: top;\n",
       "    }\n",
       "\n",
       "    .dataframe thead th {\n",
       "        text-align: right;\n",
       "    }\n",
       "</style>\n",
       "<table border=\"1\" class=\"dataframe\">\n",
       "  <thead>\n",
       "    <tr style=\"text-align: right;\">\n",
       "      <th></th>\n",
       "      <th>id_x</th>\n",
       "      <th>forecastMarker</th>\n",
       "      <th>request_time</th>\n",
       "      <th>event_id</th>\n",
       "      <th>sender</th>\n",
       "      <th>context</th>\n",
       "      <th>session_id</th>\n",
       "      <th>date</th>\n",
       "      <th>event_name</th>\n",
       "      <th>prev_time</th>\n",
       "      <th>time_delta</th>\n",
       "      <th>prev_id</th>\n",
       "      <th>delta_in_sec</th>\n",
       "    </tr>\n",
       "  </thead>\n",
       "  <tbody>\n",
       "    <tr>\n",
       "      <th>0</th>\n",
       "      <td>1</td>\n",
       "      <td>SelfService/RUS/turnover</td>\n",
       "      <td>2022-09-12 11:30:11.106628</td>\n",
       "      <td>1</td>\n",
       "      <td>test_system</td>\n",
       "      <td>df = &lt;class 'NoneType'&gt;, sql_query = &lt;class 'NoneType'&gt;</td>\n",
       "      <td>6f4277f6df57c4f4e90779966522c876</td>\n",
       "      <td>2022-09-12</td>\n",
       "      <td>Инициализируем свойства класса</td>\n",
       "      <td>NaT</td>\n",
       "      <td>NaT</td>\n",
       "      <td>NaN</td>\n",
       "      <td>NaN</td>\n",
       "    </tr>\n",
       "    <tr>\n",
       "      <th>1</th>\n",
       "      <td>2</td>\n",
       "      <td>SelfService/RUS/turnover</td>\n",
       "      <td>2022-09-12 11:30:11.111359</td>\n",
       "      <td>29</td>\n",
       "      <td>test_system</td>\n",
       "      <td>None</td>\n",
       "      <td>6f4277f6df57c4f4e90779966522c876</td>\n",
       "      <td>2022-09-12</td>\n",
       "      <td>Начинаем получать гипермараметры и регрессоры</td>\n",
       "      <td>2022-09-12 11:30:11.106628</td>\n",
       "      <td>0 days 00:00:00.004731</td>\n",
       "      <td>1.0</td>\n",
       "      <td>0.004731</td>\n",
       "    </tr>\n",
       "  </tbody>\n",
       "</table>\n",
       "</div>"
      ],
      "text/plain": [
       "   id_x            forecastMarker               request_time  event_id  \\\n",
       "0  1     SelfService/RUS/turnover 2022-09-12 11:30:11.106628  1          \n",
       "1  2     SelfService/RUS/turnover 2022-09-12 11:30:11.111359  29         \n",
       "\n",
       "        sender                                                  context  \\\n",
       "0  test_system  df = <class 'NoneType'>, sql_query = <class 'NoneType'>   \n",
       "1  test_system  None                                                      \n",
       "\n",
       "                         session_id        date  \\\n",
       "0  6f4277f6df57c4f4e90779966522c876  2022-09-12   \n",
       "1  6f4277f6df57c4f4e90779966522c876  2022-09-12   \n",
       "\n",
       "                                      event_name                  prev_time  \\\n",
       "0  Инициализируем свойства класса                NaT                          \n",
       "1  Начинаем получать гипермараметры и регрессоры 2022-09-12 11:30:11.106628   \n",
       "\n",
       "              time_delta  prev_id  delta_in_sec  \n",
       "0 NaT                    NaN      NaN            \n",
       "1 0 days 00:00:00.004731  1.0      0.004731      "
      ]
     },
     "execution_count": 28,
     "metadata": {},
     "output_type": "execute_result"
    }
   ],
   "source": [
    "dft31['delta_in_sec'] = dft31['time_delta'].apply(lambda x: x.total_seconds())\n",
    "dft31.head(2)"
   ]
  },
  {
   "cell_type": "markdown",
   "id": "69009d92",
   "metadata": {},
   "source": [
    "Для каждой пары идентификатор - sender рпределим минимальную, максимальную продолжительность интервалов до наступления события, а так же расчитаем разброс."
   ]
  },
  {
   "cell_type": "code",
   "execution_count": 29,
   "id": "0029191f",
   "metadata": {},
   "outputs": [
    {
     "data": {
      "text/html": [
       "<div>\n",
       "<style scoped>\n",
       "    .dataframe tbody tr th:only-of-type {\n",
       "        vertical-align: middle;\n",
       "    }\n",
       "\n",
       "    .dataframe tbody tr th {\n",
       "        vertical-align: top;\n",
       "    }\n",
       "\n",
       "    .dataframe thead th {\n",
       "        text-align: right;\n",
       "    }\n",
       "</style>\n",
       "<table border=\"1\" class=\"dataframe\">\n",
       "  <thead>\n",
       "    <tr style=\"text-align: right;\">\n",
       "      <th></th>\n",
       "      <th>event_id</th>\n",
       "      <th>sender</th>\n",
       "      <th>delta_min</th>\n",
       "      <th>delta_max</th>\n",
       "      <th>range</th>\n",
       "    </tr>\n",
       "  </thead>\n",
       "  <tbody>\n",
       "    <tr>\n",
       "      <th>16</th>\n",
       "      <td>1</td>\n",
       "      <td>internal_call for SelfService/RUS/turnover, session_id: 6f4277f6df57c4f4e90779966522c876</td>\n",
       "      <td>NaN</td>\n",
       "      <td>NaN</td>\n",
       "      <td>NaN</td>\n",
       "    </tr>\n",
       "    <tr>\n",
       "      <th>81</th>\n",
       "      <td>3</td>\n",
       "      <td>test.weekly_report.sa</td>\n",
       "      <td>1.367941</td>\n",
       "      <td>2.327560</td>\n",
       "      <td>0.959619</td>\n",
       "    </tr>\n",
       "    <tr>\n",
       "      <th>31</th>\n",
       "      <td>1</td>\n",
       "      <td>weekly_report.sa</td>\n",
       "      <td>NaN</td>\n",
       "      <td>NaN</td>\n",
       "      <td>NaN</td>\n",
       "    </tr>\n",
       "    <tr>\n",
       "      <th>525</th>\n",
       "      <td>17</td>\n",
       "      <td>test.weekly_report.care</td>\n",
       "      <td>0.003981</td>\n",
       "      <td>0.078917</td>\n",
       "      <td>0.074936</td>\n",
       "    </tr>\n",
       "    <tr>\n",
       "      <th>329</th>\n",
       "      <td>12</td>\n",
       "      <td>forecast_for_PHR.load_prophet_forecast_data</td>\n",
       "      <td>0.004703</td>\n",
       "      <td>0.189871</td>\n",
       "      <td>0.185168</td>\n",
       "    </tr>\n",
       "  </tbody>\n",
       "</table>\n",
       "</div>"
      ],
      "text/plain": [
       "     event_id  \\\n",
       "16   1          \n",
       "81   3          \n",
       "31   1          \n",
       "525  17         \n",
       "329  12         \n",
       "\n",
       "                                                                                       sender  \\\n",
       "16   internal_call for SelfService/RUS/turnover, session_id: 6f4277f6df57c4f4e90779966522c876   \n",
       "81   test.weekly_report.sa                                                                      \n",
       "31   weekly_report.sa                                                                           \n",
       "525  test.weekly_report.care                                                                    \n",
       "329  forecast_for_PHR.load_prophet_forecast_data                                                \n",
       "\n",
       "     delta_min  delta_max     range  \n",
       "16  NaN        NaN        NaN        \n",
       "81   1.367941   2.327560   0.959619  \n",
       "31  NaN        NaN        NaN        \n",
       "525  0.003981   0.078917   0.074936  \n",
       "329  0.004703   0.189871   0.185168  "
      ]
     },
     "execution_count": 29,
     "metadata": {},
     "output_type": "execute_result"
    }
   ],
   "source": [
    "id_sender_range = dft31.groupby(['event_id', 'sender']).agg({'delta_in_sec': ['min', 'max']}).reset_index()\n",
    "id_sender_range.columns=['event_id', 'sender', 'delta_min', 'delta_max']\n",
    "id_sender_range['range'] = id_sender_range['delta_max'] - id_sender_range['delta_min']\n",
    "id_sender_range.sample(5)"
   ]
  },
  {
   "cell_type": "markdown",
   "id": "661f29a8",
   "metadata": {},
   "source": [
    "Выведем пару идентификатор - sender с наибольшим разбросом."
   ]
  },
  {
   "cell_type": "code",
   "execution_count": 30,
   "id": "cb77da5a",
   "metadata": {},
   "outputs": [
    {
     "data": {
      "text/html": [
       "<div>\n",
       "<style scoped>\n",
       "    .dataframe tbody tr th:only-of-type {\n",
       "        vertical-align: middle;\n",
       "    }\n",
       "\n",
       "    .dataframe tbody tr th {\n",
       "        vertical-align: top;\n",
       "    }\n",
       "\n",
       "    .dataframe thead th {\n",
       "        text-align: right;\n",
       "    }\n",
       "</style>\n",
       "<table border=\"1\" class=\"dataframe\">\n",
       "  <thead>\n",
       "    <tr style=\"text-align: right;\">\n",
       "      <th></th>\n",
       "      <th>event_id</th>\n",
       "      <th>sender</th>\n",
       "    </tr>\n",
       "  </thead>\n",
       "  <tbody>\n",
       "    <tr>\n",
       "      <th>181</th>\n",
       "      <td>7</td>\n",
       "      <td>weekly_report.care</td>\n",
       "    </tr>\n",
       "  </tbody>\n",
       "</table>\n",
       "</div>"
      ],
      "text/plain": [
       "     event_id              sender\n",
       "181  7         weekly_report.care"
      ]
     },
     "execution_count": 30,
     "metadata": {},
     "output_type": "execute_result"
    }
   ],
   "source": [
    "id_sender_range.loc[id_sender_range['range'] == id_sender_range['range'].max()][['event_id', 'sender']]"
   ]
  },
  {
   "cell_type": "markdown",
   "id": "cdbe9e7a",
   "metadata": {},
   "source": [
    "Выведем на нименование события."
   ]
  },
  {
   "cell_type": "code",
   "execution_count": 31,
   "id": "c47978d4",
   "metadata": {},
   "outputs": [
    {
     "data": {
      "text/html": [
       "<div>\n",
       "<style scoped>\n",
       "    .dataframe tbody tr th:only-of-type {\n",
       "        vertical-align: middle;\n",
       "    }\n",
       "\n",
       "    .dataframe tbody tr th {\n",
       "        vertical-align: top;\n",
       "    }\n",
       "\n",
       "    .dataframe thead th {\n",
       "        text-align: right;\n",
       "    }\n",
       "</style>\n",
       "<table border=\"1\" class=\"dataframe\">\n",
       "  <thead>\n",
       "    <tr style=\"text-align: right;\">\n",
       "      <th></th>\n",
       "      <th>id</th>\n",
       "      <th>event_name</th>\n",
       "    </tr>\n",
       "  </thead>\n",
       "  <tbody>\n",
       "    <tr>\n",
       "      <th>6</th>\n",
       "      <td>7</td>\n",
       "      <td>Получили данные из BQ по полученному SQL запросу</td>\n",
       "    </tr>\n",
       "  </tbody>\n",
       "</table>\n",
       "</div>"
      ],
      "text/plain": [
       "   id                                        event_name\n",
       "6  7   Получили данные из BQ по полученному SQL запросу"
      ]
     },
     "execution_count": 31,
     "metadata": {},
     "output_type": "execute_result"
    }
   ],
   "source": [
    "names.loc[names['id'] == (\n",
    "    id_sender_range.loc[id_sender_range['range'] == id_sender_range['range'].max()].iloc[0]['event_id'])]"
   ]
  },
  {
   "cell_type": "markdown",
   "id": "626b484f",
   "metadata": {},
   "source": [
    "Большой разброс для события с id 7, вероятно, связан с объемами данных по запросу. Посмотрим единичный ли это выброс, или для id 7 это в целом характерно."
   ]
  },
  {
   "cell_type": "code",
   "execution_count": 32,
   "id": "584d0b26",
   "metadata": {},
   "outputs": [
    {
     "data": {
      "image/png": "[encoded data removed]",
      "text/plain": [
       "<Figure size 1080x504 with 1 Axes>"
      ]
     },
     "metadata": {
      "needs_background": "light"
     },
     "output_type": "display_data"
    }
   ],
   "source": [
    "plt.figure(figsize=(15,7))\n",
    "sns.boxplot(x='event_id', y='delta_in_sec', data=dft31)\n",
    "plt.title('Распределение времени прошедшего после предыдущего события')\n",
    "plt.xlabel(\"id события\", fontsize=14)\n",
    "plt.ylabel(\"Время после предыдущего события, сек.\", fontsize=14)\n",
    "plt.show()"
   ]
  },
  {
   "cell_type": "markdown",
   "id": "79a432f4",
   "metadata": {},
   "source": [
    "Именно для id 7 характерны самые большие интервалы времени прошедшего с предыдущего события."
   ]
  },
  {
   "cell_type": "markdown",
   "id": "5ca19b9a",
   "metadata": {},
   "source": [
    "## Какая задача прогнозирования выполняется дольше всего (название задачи)?"
   ]
  },
  {
   "cell_type": "markdown",
   "id": "fb7c7586",
   "metadata": {},
   "source": [
    "Для ответа на вопрос создадим датасев который будет содержать:\n",
    "- session_id уникальный идентификатор задачи\n",
    "- session_start время первого события (id 1) в рамках задачи\n",
    "- session_end время последнего события (id 31) в рамках задачи\n",
    "\n",
    "Для незавершенных задач:\n",
    "- принимаем session_end равным времени последнего зафиксированного события задачи\n",
    "- сохраняем session_id в список незавершенных задач no_end_sessions"
   ]
  },
  {
   "cell_type": "code",
   "execution_count": 33,
   "id": "16a03850",
   "metadata": {
    "scrolled": true
   },
   "outputs": [
    {
     "name": "stderr",
     "output_type": "stream",
     "text": [
      "100%|██████████████████████████████████████| 1599/1599 [00:31<00:00, 51.00it/s]\n"
     ]
    },
    {
     "data": {
      "text/html": [
       "<div>\n",
       "<style scoped>\n",
       "    .dataframe tbody tr th:only-of-type {\n",
       "        vertical-align: middle;\n",
       "    }\n",
       "\n",
       "    .dataframe tbody tr th {\n",
       "        vertical-align: top;\n",
       "    }\n",
       "\n",
       "    .dataframe thead th {\n",
       "        text-align: right;\n",
       "    }\n",
       "</style>\n",
       "<table border=\"1\" class=\"dataframe\">\n",
       "  <thead>\n",
       "    <tr style=\"text-align: right;\">\n",
       "      <th></th>\n",
       "      <th>session_id</th>\n",
       "      <th>session_start</th>\n",
       "      <th>session_end</th>\n",
       "    </tr>\n",
       "  </thead>\n",
       "  <tbody>\n",
       "    <tr>\n",
       "      <th>0</th>\n",
       "      <td>6f4277f6df57c4f4e90779966522c876</td>\n",
       "      <td>2022-09-12 11:30:11.106628</td>\n",
       "      <td>2022-09-12 11:30:36.249818</td>\n",
       "    </tr>\n",
       "    <tr>\n",
       "      <th>1</th>\n",
       "      <td>ba9c7ee046c9fbdc0c8713c86409bdc3</td>\n",
       "      <td>2022-09-12 11:30:18.666983</td>\n",
       "      <td>2022-09-12 11:30:29.936695</td>\n",
       "    </tr>\n",
       "    <tr>\n",
       "      <th>2</th>\n",
       "      <td>f425376c334840a59b585165f9ca87dc</td>\n",
       "      <td>2022-09-12 12:13:46.808490</td>\n",
       "      <td>2022-09-12 12:13:57.512095</td>\n",
       "    </tr>\n",
       "    <tr>\n",
       "      <th>3</th>\n",
       "      <td>58e407a7bc512bc4b282457c05893ebc</td>\n",
       "      <td>2022-09-12 12:14:04.816840</td>\n",
       "      <td>2022-09-12 12:14:15.082298</td>\n",
       "    </tr>\n",
       "    <tr>\n",
       "      <th>4</th>\n",
       "      <td>7c25b8a1058e6c036c443b8cd6dd8c69</td>\n",
       "      <td>2022-09-12 12:14:19.332540</td>\n",
       "      <td>2022-09-12 12:14:31.408749</td>\n",
       "    </tr>\n",
       "  </tbody>\n",
       "</table>\n",
       "</div>"
      ],
      "text/plain": [
       "                         session_id              session_start  \\\n",
       "0  6f4277f6df57c4f4e90779966522c876 2022-09-12 11:30:11.106628   \n",
       "1  ba9c7ee046c9fbdc0c8713c86409bdc3 2022-09-12 11:30:18.666983   \n",
       "2  f425376c334840a59b585165f9ca87dc 2022-09-12 12:13:46.808490   \n",
       "3  58e407a7bc512bc4b282457c05893ebc 2022-09-12 12:14:04.816840   \n",
       "4  7c25b8a1058e6c036c443b8cd6dd8c69 2022-09-12 12:14:19.332540   \n",
       "\n",
       "                 session_end  \n",
       "0 2022-09-12 11:30:36.249818  \n",
       "1 2022-09-12 11:30:29.936695  \n",
       "2 2022-09-12 12:13:57.512095  \n",
       "3 2022-09-12 12:14:15.082298  \n",
       "4 2022-09-12 12:14:31.408749  "
      ]
     },
     "execution_count": 33,
     "metadata": {},
     "output_type": "execute_result"
    }
   ],
   "source": [
    "session_name = []\n",
    "session_st = []\n",
    "session_fn = []\n",
    "no_end_sessions = []\n",
    "for session in tqdm(ivents['session_id'].unique()):\n",
    "    session_name.append(session)\n",
    "    session_st.append(ivents.query('session_id == @session & event_id == 1').reset_index()['request_time'][0])\n",
    "    try: \n",
    "        session_fn.append(ivents.query('session_id == @session & event_id == 31').reset_index()['request_time'][0])\n",
    "    except: \n",
    "        no_end_sessions.append(session)\n",
    "        idx = ivents.query('session_id == @session').reset_index().shape[0] - 1\n",
    "        session_fn.append(ivents.query('session_id == @session').reset_index().loc[idx, 'request_time'])\n",
    "dft33 = pd.DataFrame(\n",
    "    {'session_id' : session_name,\n",
    "    'session_start' : session_st,\n",
    "    'session_end' : session_fn})\n",
    "dft33.head()"
   ]
  },
  {
   "cell_type": "code",
   "execution_count": 34,
   "id": "6638aa72",
   "metadata": {},
   "outputs": [
    {
     "data": {
      "text/plain": [
       "['56af71228bfbb91afd00a04652646069',\n",
       " 'ef2ce869aedbddee01530295d44a5993',\n",
       " '05fde45de80ea82b620d924acf35410c',\n",
       " '9dd140e965fe9c98656a0d0e405aa1e8',\n",
       " '56e957cb0972c856c211dfed092dc8c2']"
      ]
     },
     "execution_count": 34,
     "metadata": {},
     "output_type": "execute_result"
    }
   ],
   "source": [
    "# незавершенные задачи\n",
    "no_end_sessions"
   ]
  },
  {
   "cell_type": "code",
   "execution_count": 35,
   "id": "2d08646c",
   "metadata": {},
   "outputs": [
    {
     "data": {
      "text/html": [
       "<div>\n",
       "<style scoped>\n",
       "    .dataframe tbody tr th:only-of-type {\n",
       "        vertical-align: middle;\n",
       "    }\n",
       "\n",
       "    .dataframe tbody tr th {\n",
       "        vertical-align: top;\n",
       "    }\n",
       "\n",
       "    .dataframe thead th {\n",
       "        text-align: right;\n",
       "    }\n",
       "</style>\n",
       "<table border=\"1\" class=\"dataframe\">\n",
       "  <thead>\n",
       "    <tr style=\"text-align: right;\">\n",
       "      <th></th>\n",
       "      <th>session_id</th>\n",
       "      <th>session_start</th>\n",
       "      <th>session_end</th>\n",
       "      <th>session_duration</th>\n",
       "    </tr>\n",
       "  </thead>\n",
       "  <tbody>\n",
       "    <tr>\n",
       "      <th>0</th>\n",
       "      <td>6f4277f6df57c4f4e90779966522c876</td>\n",
       "      <td>2022-09-12 11:30:11.106628</td>\n",
       "      <td>2022-09-12 11:30:36.249818</td>\n",
       "      <td>0 days 00:00:25.143190</td>\n",
       "    </tr>\n",
       "    <tr>\n",
       "      <th>1</th>\n",
       "      <td>ba9c7ee046c9fbdc0c8713c86409bdc3</td>\n",
       "      <td>2022-09-12 11:30:18.666983</td>\n",
       "      <td>2022-09-12 11:30:29.936695</td>\n",
       "      <td>0 days 00:00:11.269712</td>\n",
       "    </tr>\n",
       "  </tbody>\n",
       "</table>\n",
       "</div>"
      ],
      "text/plain": [
       "                         session_id              session_start  \\\n",
       "0  6f4277f6df57c4f4e90779966522c876 2022-09-12 11:30:11.106628   \n",
       "1  ba9c7ee046c9fbdc0c8713c86409bdc3 2022-09-12 11:30:18.666983   \n",
       "\n",
       "                 session_end       session_duration  \n",
       "0 2022-09-12 11:30:36.249818 0 days 00:00:25.143190  \n",
       "1 2022-09-12 11:30:29.936695 0 days 00:00:11.269712  "
      ]
     },
     "execution_count": 35,
     "metadata": {},
     "output_type": "execute_result"
    }
   ],
   "source": [
    "# добавим время выполнения задачи\n",
    "dft33['session_duration'] = dft33['session_end'] - dft33['session_start']\n",
    "dft33.head(2)"
   ]
  },
  {
   "cell_type": "code",
   "execution_count": 36,
   "id": "ad8f74b8",
   "metadata": {},
   "outputs": [
    {
     "name": "stdout",
     "output_type": "stream",
     "text": [
      "Наибольшая продолжительность выполнения: 112.484473 сек.\n"
     ]
    }
   ],
   "source": [
    "max_duration = dft33['session_duration'].max()\n",
    "print(f'Наибольшая продолжительность выполнения: {max_duration.total_seconds()} сек.')\n",
    "session_with_max_duration = dft33.loc[dft33['session_duration'] == max_duration].reset_index()['session_id'][0]"
   ]
  },
  {
   "cell_type": "markdown",
   "id": "8bc6ff70",
   "metadata": {},
   "source": [
    "Посмотрим на задачу с максимальной продолжительностью"
   ]
  },
  {
   "cell_type": "code",
   "execution_count": 37,
   "id": "880528b1",
   "metadata": {
    "scrolled": true
   },
   "outputs": [
    {
     "data": {
      "text/html": [
       "<div>\n",
       "<style scoped>\n",
       "    .dataframe tbody tr th:only-of-type {\n",
       "        vertical-align: middle;\n",
       "    }\n",
       "\n",
       "    .dataframe tbody tr th {\n",
       "        vertical-align: top;\n",
       "    }\n",
       "\n",
       "    .dataframe thead th {\n",
       "        text-align: right;\n",
       "    }\n",
       "</style>\n",
       "<table border=\"1\" class=\"dataframe\">\n",
       "  <thead>\n",
       "    <tr style=\"text-align: right;\">\n",
       "      <th></th>\n",
       "      <th>id_x</th>\n",
       "      <th>forecastMarker</th>\n",
       "      <th>request_time</th>\n",
       "      <th>event_id</th>\n",
       "      <th>sender</th>\n",
       "      <th>context</th>\n",
       "      <th>session_id</th>\n",
       "      <th>date</th>\n",
       "      <th>event_name</th>\n",
       "      <th>prev_time</th>\n",
       "      <th>time_delta</th>\n",
       "    </tr>\n",
       "  </thead>\n",
       "  <tbody>\n",
       "    <tr>\n",
       "      <th>39219</th>\n",
       "      <td>5738</td>\n",
       "      <td>weekly_report.care:count_of_jivo_SA</td>\n",
       "      <td>2022-09-14 05:20:52.203702</td>\n",
       "      <td>1</td>\n",
       "      <td>weekly_report.care</td>\n",
       "      <td>df = &lt;class 'NoneType'&gt;, sql_query = &lt;class 'NoneType'&gt;</td>\n",
       "      <td>4dcab2af4573ced8251fb7433174ba15</td>\n",
       "      <td>2022-09-14</td>\n",
       "      <td>Инициализируем свойства класса</td>\n",
       "      <td>2022-09-14 05:20:51.663820</td>\n",
       "      <td>0 days 00:00:00.539882</td>\n",
       "    </tr>\n",
       "    <tr>\n",
       "      <th>39220</th>\n",
       "      <td>5739</td>\n",
       "      <td>weekly_report.care:count_of_jivo_SA</td>\n",
       "      <td>2022-09-14 05:20:52.210420</td>\n",
       "      <td>29</td>\n",
       "      <td>weekly_report.care</td>\n",
       "      <td>None</td>\n",
       "      <td>4dcab2af4573ced8251fb7433174ba15</td>\n",
       "      <td>2022-09-14</td>\n",
       "      <td>Начинаем получать гипермараметры и регрессоры</td>\n",
       "      <td>2022-09-14 05:20:52.203702</td>\n",
       "      <td>0 days 00:00:00.006718</td>\n",
       "    </tr>\n",
       "    <tr>\n",
       "      <th>39221</th>\n",
       "      <td>5740</td>\n",
       "      <td>weekly_report.care:count_of_jivo_SA</td>\n",
       "      <td>2022-09-14 05:20:52.214649</td>\n",
       "      <td>2</td>\n",
       "      <td>weekly_report.care</td>\n",
       "      <td>None</td>\n",
       "      <td>4dcab2af4573ced8251fb7433174ba15</td>\n",
       "      <td>2022-09-14</td>\n",
       "      <td>Переход в функцию getParametrsAndRegressors</td>\n",
       "      <td>2022-09-14 05:20:52.210420</td>\n",
       "      <td>0 days 00:00:00.004229</td>\n",
       "    </tr>\n",
       "    <tr>\n",
       "      <th>39222</th>\n",
       "      <td>5741</td>\n",
       "      <td>weekly_report.care:count_of_jivo_SA</td>\n",
       "      <td>2022-09-14 05:20:53.747368</td>\n",
       "      <td>3</td>\n",
       "      <td>weekly_report.care</td>\n",
       "      <td>Найдено 1 строк с параметрами</td>\n",
       "      <td>4dcab2af4573ced8251fb7433174ba15</td>\n",
       "      <td>2022-09-14</td>\n",
       "      <td>Выход из функции getParametrsAndRegressors с параметрами</td>\n",
       "      <td>2022-09-14 05:20:52.214649</td>\n",
       "      <td>0 days 00:00:01.532719</td>\n",
       "    </tr>\n",
       "    <tr>\n",
       "      <th>39223</th>\n",
       "      <td>5742</td>\n",
       "      <td>weekly_report.care:count_of_jivo_SA</td>\n",
       "      <td>2022-09-14 05:20:53.754025</td>\n",
       "      <td>5</td>\n",
       "      <td>weekly_report.care</td>\n",
       "      <td>None</td>\n",
       "      <td>4dcab2af4573ced8251fb7433174ba15</td>\n",
       "      <td>2022-09-14</td>\n",
       "      <td>Записали в свойства класса гиперпараметры и регрессоры</td>\n",
       "      <td>2022-09-14 05:20:53.747368</td>\n",
       "      <td>0 days 00:00:00.006657</td>\n",
       "    </tr>\n",
       "    <tr>\n",
       "      <th>39224</th>\n",
       "      <td>5743</td>\n",
       "      <td>weekly_report.care:count_of_jivo_SA</td>\n",
       "      <td>2022-09-14 05:20:53.759918</td>\n",
       "      <td>6</td>\n",
       "      <td>weekly_report.care</td>\n",
       "      <td>None</td>\n",
       "      <td>4dcab2af4573ced8251fb7433174ba15</td>\n",
       "      <td>2022-09-14</td>\n",
       "      <td>Начинаем читать данные из BQ по полученному SQL запросу</td>\n",
       "      <td>2022-09-14 05:20:53.754025</td>\n",
       "      <td>0 days 00:00:00.005893</td>\n",
       "    </tr>\n",
       "    <tr>\n",
       "      <th>39225</th>\n",
       "      <td>5744</td>\n",
       "      <td>weekly_report.care:count_of_jivo_SA</td>\n",
       "      <td>2022-09-14 05:22:40.308128</td>\n",
       "      <td>7</td>\n",
       "      <td>weekly_report.care</td>\n",
       "      <td>Получили из BQ набор данных размером: (548, 2)</td>\n",
       "      <td>4dcab2af4573ced8251fb7433174ba15</td>\n",
       "      <td>2022-09-14</td>\n",
       "      <td>Получили данные из BQ по полученному SQL запросу</td>\n",
       "      <td>2022-09-14 05:20:53.759918</td>\n",
       "      <td>0 days 00:01:46.548210</td>\n",
       "    </tr>\n",
       "    <tr>\n",
       "      <th>39226</th>\n",
       "      <td>5745</td>\n",
       "      <td>weekly_report.care:count_of_jivo_SA</td>\n",
       "      <td>2022-09-14 05:22:40.312967</td>\n",
       "      <td>8</td>\n",
       "      <td>weekly_report.care</td>\n",
       "      <td>None</td>\n",
       "      <td>4dcab2af4573ced8251fb7433174ba15</td>\n",
       "      <td>2022-09-14</td>\n",
       "      <td>saveForecastRequest: вход в функцию</td>\n",
       "      <td>2022-09-14 05:22:40.308128</td>\n",
       "      <td>0 days 00:00:00.004839</td>\n",
       "    </tr>\n",
       "    <tr>\n",
       "      <th>39227</th>\n",
       "      <td>5746</td>\n",
       "      <td>weekly_report.care:count_of_jivo_SA</td>\n",
       "      <td>2022-09-14 05:22:40.319745</td>\n",
       "      <td>9</td>\n",
       "      <td>weekly_report.care</td>\n",
       "      <td>None</td>\n",
       "      <td>4dcab2af4573ced8251fb7433174ba15</td>\n",
       "      <td>2022-09-14</td>\n",
       "      <td>saveForecastRequest: выход из функции</td>\n",
       "      <td>2022-09-14 05:22:40.312967</td>\n",
       "      <td>0 days 00:00:00.006778</td>\n",
       "    </tr>\n",
       "    <tr>\n",
       "      <th>39228</th>\n",
       "      <td>5747</td>\n",
       "      <td>weekly_report.care:count_of_jivo_SA</td>\n",
       "      <td>2022-09-14 05:22:40.324240</td>\n",
       "      <td>10</td>\n",
       "      <td>weekly_report.care</td>\n",
       "      <td>None</td>\n",
       "      <td>4dcab2af4573ced8251fb7433174ba15</td>\n",
       "      <td>2022-09-14</td>\n",
       "      <td>getDOW: вход в функцию</td>\n",
       "      <td>2022-09-14 05:22:40.319745</td>\n",
       "      <td>0 days 00:00:00.004495</td>\n",
       "    </tr>\n",
       "    <tr>\n",
       "      <th>39229</th>\n",
       "      <td>5748</td>\n",
       "      <td>weekly_report.care:count_of_jivo_SA</td>\n",
       "      <td>2022-09-14 05:22:42.080392</td>\n",
       "      <td>25</td>\n",
       "      <td>weekly_report.care</td>\n",
       "      <td>None</td>\n",
       "      <td>4dcab2af4573ced8251fb7433174ba15</td>\n",
       "      <td>2022-09-14</td>\n",
       "      <td>getAdditionalRegressors: вход в функцию</td>\n",
       "      <td>2022-09-14 05:22:40.324240</td>\n",
       "      <td>0 days 00:00:01.756152</td>\n",
       "    </tr>\n",
       "    <tr>\n",
       "      <th>39230</th>\n",
       "      <td>5749</td>\n",
       "      <td>weekly_report.care:count_of_jivo_SA</td>\n",
       "      <td>2022-09-14 05:22:42.111185</td>\n",
       "      <td>26</td>\n",
       "      <td>weekly_report.care</td>\n",
       "      <td>None</td>\n",
       "      <td>4dcab2af4573ced8251fb7433174ba15</td>\n",
       "      <td>2022-09-14</td>\n",
       "      <td>getAdditionalRegressors: выход из функции</td>\n",
       "      <td>2022-09-14 05:22:42.080392</td>\n",
       "      <td>0 days 00:00:00.030793</td>\n",
       "    </tr>\n",
       "    <tr>\n",
       "      <th>39231</th>\n",
       "      <td>5750</td>\n",
       "      <td>weekly_report.care:count_of_jivo_SA</td>\n",
       "      <td>2022-09-14 05:22:42.116117</td>\n",
       "      <td>27</td>\n",
       "      <td>weekly_report.care</td>\n",
       "      <td>None</td>\n",
       "      <td>4dcab2af4573ced8251fb7433174ba15</td>\n",
       "      <td>2022-09-14</td>\n",
       "      <td>getForecastMarkerAsRegressor: вход в функцию</td>\n",
       "      <td>2022-09-14 05:22:42.111185</td>\n",
       "      <td>0 days 00:00:00.004932</td>\n",
       "    </tr>\n",
       "    <tr>\n",
       "      <th>39232</th>\n",
       "      <td>5751</td>\n",
       "      <td>weekly_report.care:count_of_jivo_SA</td>\n",
       "      <td>2022-09-14 05:22:42.120243</td>\n",
       "      <td>11</td>\n",
       "      <td>weekly_report.care</td>\n",
       "      <td>None</td>\n",
       "      <td>4dcab2af4573ced8251fb7433174ba15</td>\n",
       "      <td>2022-09-14</td>\n",
       "      <td>getDOW: выход из функции</td>\n",
       "      <td>2022-09-14 05:22:42.116117</td>\n",
       "      <td>0 days 00:00:00.004126</td>\n",
       "    </tr>\n",
       "    <tr>\n",
       "      <th>39233</th>\n",
       "      <td>5752</td>\n",
       "      <td>weekly_report.care:count_of_jivo_SA</td>\n",
       "      <td>2022-09-14 05:22:42.125385</td>\n",
       "      <td>12</td>\n",
       "      <td>weekly_report.care</td>\n",
       "      <td>None</td>\n",
       "      <td>4dcab2af4573ced8251fb7433174ba15</td>\n",
       "      <td>2022-09-14</td>\n",
       "      <td>getCutoffs: вход в функцию</td>\n",
       "      <td>2022-09-14 05:22:42.120243</td>\n",
       "      <td>0 days 00:00:00.005142</td>\n",
       "    </tr>\n",
       "    <tr>\n",
       "      <th>39234</th>\n",
       "      <td>5753</td>\n",
       "      <td>weekly_report.care:count_of_jivo_SA</td>\n",
       "      <td>2022-09-14 05:22:42.129909</td>\n",
       "      <td>13</td>\n",
       "      <td>weekly_report.care</td>\n",
       "      <td>None</td>\n",
       "      <td>4dcab2af4573ced8251fb7433174ba15</td>\n",
       "      <td>2022-09-14</td>\n",
       "      <td>getCutoffs: выход из функции</td>\n",
       "      <td>2022-09-14 05:22:42.125385</td>\n",
       "      <td>0 days 00:00:00.004524</td>\n",
       "    </tr>\n",
       "    <tr>\n",
       "      <th>39235</th>\n",
       "      <td>5754</td>\n",
       "      <td>weekly_report.care:count_of_jivo_SA</td>\n",
       "      <td>2022-09-14 05:22:42.134383</td>\n",
       "      <td>14</td>\n",
       "      <td>weekly_report.care</td>\n",
       "      <td>None</td>\n",
       "      <td>4dcab2af4573ced8251fb7433174ba15</td>\n",
       "      <td>2022-09-14</td>\n",
       "      <td>get_forecast: вход в функцию</td>\n",
       "      <td>2022-09-14 05:22:42.129909</td>\n",
       "      <td>0 days 00:00:00.004474</td>\n",
       "    </tr>\n",
       "    <tr>\n",
       "      <th>39236</th>\n",
       "      <td>5755</td>\n",
       "      <td>weekly_report.care:count_of_jivo_SA</td>\n",
       "      <td>2022-09-14 05:22:42.140672</td>\n",
       "      <td>18</td>\n",
       "      <td>weekly_report.care</td>\n",
       "      <td>None</td>\n",
       "      <td>4dcab2af4573ced8251fb7433174ba15</td>\n",
       "      <td>2022-09-14</td>\n",
       "      <td>Инициализируем модель Prophet</td>\n",
       "      <td>2022-09-14 05:22:42.134383</td>\n",
       "      <td>0 days 00:00:00.006289</td>\n",
       "    </tr>\n",
       "    <tr>\n",
       "      <th>39237</th>\n",
       "      <td>5756</td>\n",
       "      <td>weekly_report.care:count_of_jivo_SA</td>\n",
       "      <td>2022-09-14 05:22:42.203404</td>\n",
       "      <td>19</td>\n",
       "      <td>weekly_report.care</td>\n",
       "      <td>None</td>\n",
       "      <td>4dcab2af4573ced8251fb7433174ba15</td>\n",
       "      <td>2022-09-14</td>\n",
       "      <td>Обучаем модель на имеющихся данных</td>\n",
       "      <td>2022-09-14 05:22:42.140672</td>\n",
       "      <td>0 days 00:00:00.062732</td>\n",
       "    </tr>\n",
       "    <tr>\n",
       "      <th>39238</th>\n",
       "      <td>5757</td>\n",
       "      <td>weekly_report.care:count_of_jivo_SA</td>\n",
       "      <td>2022-09-14 05:22:42.696268</td>\n",
       "      <td>20</td>\n",
       "      <td>weekly_report.care</td>\n",
       "      <td>None</td>\n",
       "      <td>4dcab2af4573ced8251fb7433174ba15</td>\n",
       "      <td>2022-09-14</td>\n",
       "      <td>Выполняем прогноз временного ряда</td>\n",
       "      <td>2022-09-14 05:22:42.203404</td>\n",
       "      <td>0 days 00:00:00.492864</td>\n",
       "    </tr>\n",
       "    <tr>\n",
       "      <th>39239</th>\n",
       "      <td>5758</td>\n",
       "      <td>weekly_report.care:count_of_jivo_SA</td>\n",
       "      <td>2022-09-14 05:22:44.621945</td>\n",
       "      <td>23</td>\n",
       "      <td>weekly_report.care</td>\n",
       "      <td>None</td>\n",
       "      <td>4dcab2af4573ced8251fb7433174ba15</td>\n",
       "      <td>2022-09-14</td>\n",
       "      <td>saveForecastToCSV: вход в функцию</td>\n",
       "      <td>2022-09-14 05:22:42.696268</td>\n",
       "      <td>0 days 00:00:01.925677</td>\n",
       "    </tr>\n",
       "    <tr>\n",
       "      <th>39240</th>\n",
       "      <td>5759</td>\n",
       "      <td>weekly_report.care:count_of_jivo_SA</td>\n",
       "      <td>2022-09-14 05:22:44.657488</td>\n",
       "      <td>24</td>\n",
       "      <td>weekly_report.care</td>\n",
       "      <td>None</td>\n",
       "      <td>4dcab2af4573ced8251fb7433174ba15</td>\n",
       "      <td>2022-09-14</td>\n",
       "      <td>saveForecastToCSV: выход из функции</td>\n",
       "      <td>2022-09-14 05:22:44.621945</td>\n",
       "      <td>0 days 00:00:00.035543</td>\n",
       "    </tr>\n",
       "    <tr>\n",
       "      <th>39241</th>\n",
       "      <td>5760</td>\n",
       "      <td>weekly_report.care:count_of_jivo_SA</td>\n",
       "      <td>2022-09-14 05:22:44.666940</td>\n",
       "      <td>15</td>\n",
       "      <td>weekly_report.care</td>\n",
       "      <td>None</td>\n",
       "      <td>4dcab2af4573ced8251fb7433174ba15</td>\n",
       "      <td>2022-09-14</td>\n",
       "      <td>get_forecast: выход из функции</td>\n",
       "      <td>2022-09-14 05:22:44.657488</td>\n",
       "      <td>0 days 00:00:00.009452</td>\n",
       "    </tr>\n",
       "    <tr>\n",
       "      <th>39242</th>\n",
       "      <td>5761</td>\n",
       "      <td>weekly_report.care:count_of_jivo_SA</td>\n",
       "      <td>2022-09-14 05:22:44.674453</td>\n",
       "      <td>16</td>\n",
       "      <td>weekly_report.care</td>\n",
       "      <td>None</td>\n",
       "      <td>4dcab2af4573ced8251fb7433174ba15</td>\n",
       "      <td>2022-09-14</td>\n",
       "      <td>updateForecastAnswer: вход в функцию</td>\n",
       "      <td>2022-09-14 05:22:44.666940</td>\n",
       "      <td>0 days 00:00:00.007513</td>\n",
       "    </tr>\n",
       "    <tr>\n",
       "      <th>39243</th>\n",
       "      <td>5762</td>\n",
       "      <td>weekly_report.care:count_of_jivo_SA</td>\n",
       "      <td>2022-09-14 05:22:44.681158</td>\n",
       "      <td>17</td>\n",
       "      <td>weekly_report.care</td>\n",
       "      <td>None</td>\n",
       "      <td>4dcab2af4573ced8251fb7433174ba15</td>\n",
       "      <td>2022-09-14</td>\n",
       "      <td>updateForecastAnswer: выход из функции</td>\n",
       "      <td>2022-09-14 05:22:44.674453</td>\n",
       "      <td>0 days 00:00:00.006705</td>\n",
       "    </tr>\n",
       "    <tr>\n",
       "      <th>39244</th>\n",
       "      <td>5763</td>\n",
       "      <td>weekly_report.care:count_of_jivo_SA</td>\n",
       "      <td>2022-09-14 05:22:44.688175</td>\n",
       "      <td>31</td>\n",
       "      <td>weekly_report.care</td>\n",
       "      <td>Отдан датафрейм: (913, 4)</td>\n",
       "      <td>4dcab2af4573ced8251fb7433174ba15</td>\n",
       "      <td>2022-09-14</td>\n",
       "      <td>JSON отправлен обратно</td>\n",
       "      <td>2022-09-14 05:22:44.681158</td>\n",
       "      <td>0 days 00:00:00.007017</td>\n",
       "    </tr>\n",
       "  </tbody>\n",
       "</table>\n",
       "</div>"
      ],
      "text/plain": [
       "       id_x                       forecastMarker               request_time  \\\n",
       "39219  5738  weekly_report.care:count_of_jivo_SA 2022-09-14 05:20:52.203702   \n",
       "39220  5739  weekly_report.care:count_of_jivo_SA 2022-09-14 05:20:52.210420   \n",
       "39221  5740  weekly_report.care:count_of_jivo_SA 2022-09-14 05:20:52.214649   \n",
       "39222  5741  weekly_report.care:count_of_jivo_SA 2022-09-14 05:20:53.747368   \n",
       "39223  5742  weekly_report.care:count_of_jivo_SA 2022-09-14 05:20:53.754025   \n",
       "39224  5743  weekly_report.care:count_of_jivo_SA 2022-09-14 05:20:53.759918   \n",
       "39225  5744  weekly_report.care:count_of_jivo_SA 2022-09-14 05:22:40.308128   \n",
       "39226  5745  weekly_report.care:count_of_jivo_SA 2022-09-14 05:22:40.312967   \n",
       "39227  5746  weekly_report.care:count_of_jivo_SA 2022-09-14 05:22:40.319745   \n",
       "39228  5747  weekly_report.care:count_of_jivo_SA 2022-09-14 05:22:40.324240   \n",
       "39229  5748  weekly_report.care:count_of_jivo_SA 2022-09-14 05:22:42.080392   \n",
       "39230  5749  weekly_report.care:count_of_jivo_SA 2022-09-14 05:22:42.111185   \n",
       "39231  5750  weekly_report.care:count_of_jivo_SA 2022-09-14 05:22:42.116117   \n",
       "39232  5751  weekly_report.care:count_of_jivo_SA 2022-09-14 05:22:42.120243   \n",
       "39233  5752  weekly_report.care:count_of_jivo_SA 2022-09-14 05:22:42.125385   \n",
       "39234  5753  weekly_report.care:count_of_jivo_SA 2022-09-14 05:22:42.129909   \n",
       "39235  5754  weekly_report.care:count_of_jivo_SA 2022-09-14 05:22:42.134383   \n",
       "39236  5755  weekly_report.care:count_of_jivo_SA 2022-09-14 05:22:42.140672   \n",
       "39237  5756  weekly_report.care:count_of_jivo_SA 2022-09-14 05:22:42.203404   \n",
       "39238  5757  weekly_report.care:count_of_jivo_SA 2022-09-14 05:22:42.696268   \n",
       "39239  5758  weekly_report.care:count_of_jivo_SA 2022-09-14 05:22:44.621945   \n",
       "39240  5759  weekly_report.care:count_of_jivo_SA 2022-09-14 05:22:44.657488   \n",
       "39241  5760  weekly_report.care:count_of_jivo_SA 2022-09-14 05:22:44.666940   \n",
       "39242  5761  weekly_report.care:count_of_jivo_SA 2022-09-14 05:22:44.674453   \n",
       "39243  5762  weekly_report.care:count_of_jivo_SA 2022-09-14 05:22:44.681158   \n",
       "39244  5763  weekly_report.care:count_of_jivo_SA 2022-09-14 05:22:44.688175   \n",
       "\n",
       "       event_id              sender  \\\n",
       "39219  1         weekly_report.care   \n",
       "39220  29        weekly_report.care   \n",
       "39221  2         weekly_report.care   \n",
       "39222  3         weekly_report.care   \n",
       "39223  5         weekly_report.care   \n",
       "39224  6         weekly_report.care   \n",
       "39225  7         weekly_report.care   \n",
       "39226  8         weekly_report.care   \n",
       "39227  9         weekly_report.care   \n",
       "39228  10        weekly_report.care   \n",
       "39229  25        weekly_report.care   \n",
       "39230  26        weekly_report.care   \n",
       "39231  27        weekly_report.care   \n",
       "39232  11        weekly_report.care   \n",
       "39233  12        weekly_report.care   \n",
       "39234  13        weekly_report.care   \n",
       "39235  14        weekly_report.care   \n",
       "39236  18        weekly_report.care   \n",
       "39237  19        weekly_report.care   \n",
       "39238  20        weekly_report.care   \n",
       "39239  23        weekly_report.care   \n",
       "39240  24        weekly_report.care   \n",
       "39241  15        weekly_report.care   \n",
       "39242  16        weekly_report.care   \n",
       "39243  17        weekly_report.care   \n",
       "39244  31        weekly_report.care   \n",
       "\n",
       "                                                       context  \\\n",
       "39219  df = <class 'NoneType'>, sql_query = <class 'NoneType'>   \n",
       "39220  None                                                      \n",
       "39221  None                                                      \n",
       "39222  Найдено 1 строк с параметрами                             \n",
       "39223  None                                                      \n",
       "39224  None                                                      \n",
       "39225  Получили из BQ набор данных размером: (548, 2)            \n",
       "39226  None                                                      \n",
       "39227  None                                                      \n",
       "39228  None                                                      \n",
       "39229  None                                                      \n",
       "39230  None                                                      \n",
       "39231  None                                                      \n",
       "39232  None                                                      \n",
       "39233  None                                                      \n",
       "39234  None                                                      \n",
       "39235  None                                                      \n",
       "39236  None                                                      \n",
       "39237  None                                                      \n",
       "39238  None                                                      \n",
       "39239  None                                                      \n",
       "39240  None                                                      \n",
       "39241  None                                                      \n",
       "39242  None                                                      \n",
       "39243  None                                                      \n",
       "39244  Отдан датафрейм: (913, 4)                                 \n",
       "\n",
       "                             session_id        date  \\\n",
       "39219  4dcab2af4573ced8251fb7433174ba15  2022-09-14   \n",
       "39220  4dcab2af4573ced8251fb7433174ba15  2022-09-14   \n",
       "39221  4dcab2af4573ced8251fb7433174ba15  2022-09-14   \n",
       "39222  4dcab2af4573ced8251fb7433174ba15  2022-09-14   \n",
       "39223  4dcab2af4573ced8251fb7433174ba15  2022-09-14   \n",
       "39224  4dcab2af4573ced8251fb7433174ba15  2022-09-14   \n",
       "39225  4dcab2af4573ced8251fb7433174ba15  2022-09-14   \n",
       "39226  4dcab2af4573ced8251fb7433174ba15  2022-09-14   \n",
       "39227  4dcab2af4573ced8251fb7433174ba15  2022-09-14   \n",
       "39228  4dcab2af4573ced8251fb7433174ba15  2022-09-14   \n",
       "39229  4dcab2af4573ced8251fb7433174ba15  2022-09-14   \n",
       "39230  4dcab2af4573ced8251fb7433174ba15  2022-09-14   \n",
       "39231  4dcab2af4573ced8251fb7433174ba15  2022-09-14   \n",
       "39232  4dcab2af4573ced8251fb7433174ba15  2022-09-14   \n",
       "39233  4dcab2af4573ced8251fb7433174ba15  2022-09-14   \n",
       "39234  4dcab2af4573ced8251fb7433174ba15  2022-09-14   \n",
       "39235  4dcab2af4573ced8251fb7433174ba15  2022-09-14   \n",
       "39236  4dcab2af4573ced8251fb7433174ba15  2022-09-14   \n",
       "39237  4dcab2af4573ced8251fb7433174ba15  2022-09-14   \n",
       "39238  4dcab2af4573ced8251fb7433174ba15  2022-09-14   \n",
       "39239  4dcab2af4573ced8251fb7433174ba15  2022-09-14   \n",
       "39240  4dcab2af4573ced8251fb7433174ba15  2022-09-14   \n",
       "39241  4dcab2af4573ced8251fb7433174ba15  2022-09-14   \n",
       "39242  4dcab2af4573ced8251fb7433174ba15  2022-09-14   \n",
       "39243  4dcab2af4573ced8251fb7433174ba15  2022-09-14   \n",
       "39244  4dcab2af4573ced8251fb7433174ba15  2022-09-14   \n",
       "\n",
       "                                                     event_name  \\\n",
       "39219  Инициализируем свойства класса                             \n",
       "39220  Начинаем получать гипермараметры и регрессоры              \n",
       "39221  Переход в функцию getParametrsAndRegressors                \n",
       "39222  Выход из функции getParametrsAndRegressors с параметрами   \n",
       "39223  Записали в свойства класса гиперпараметры и регрессоры     \n",
       "39224  Начинаем читать данные из BQ по полученному SQL запросу    \n",
       "39225  Получили данные из BQ по полученному SQL запросу           \n",
       "39226  saveForecastRequest: вход в функцию                        \n",
       "39227  saveForecastRequest: выход из функции                      \n",
       "39228  getDOW: вход в функцию                                     \n",
       "39229  getAdditionalRegressors: вход в функцию                    \n",
       "39230  getAdditionalRegressors: выход из функции                  \n",
       "39231  getForecastMarkerAsRegressor: вход в функцию               \n",
       "39232  getDOW: выход из функции                                   \n",
       "39233  getCutoffs: вход в функцию                                 \n",
       "39234  getCutoffs: выход из функции                               \n",
       "39235  get_forecast: вход в функцию                               \n",
       "39236  Инициализируем модель Prophet                              \n",
       "39237  Обучаем модель на имеющихся данных                         \n",
       "39238  Выполняем прогноз временного ряда                          \n",
       "39239  saveForecastToCSV: вход в функцию                          \n",
       "39240  saveForecastToCSV: выход из функции                        \n",
       "39241  get_forecast: выход из функции                             \n",
       "39242  updateForecastAnswer: вход в функцию                       \n",
       "39243  updateForecastAnswer: выход из функции                     \n",
       "39244  JSON отправлен обратно                                     \n",
       "\n",
       "                       prev_time             time_delta  \n",
       "39219 2022-09-14 05:20:51.663820 0 days 00:00:00.539882  \n",
       "39220 2022-09-14 05:20:52.203702 0 days 00:00:00.006718  \n",
       "39221 2022-09-14 05:20:52.210420 0 days 00:00:00.004229  \n",
       "39222 2022-09-14 05:20:52.214649 0 days 00:00:01.532719  \n",
       "39223 2022-09-14 05:20:53.747368 0 days 00:00:00.006657  \n",
       "39224 2022-09-14 05:20:53.754025 0 days 00:00:00.005893  \n",
       "39225 2022-09-14 05:20:53.759918 0 days 00:01:46.548210  \n",
       "39226 2022-09-14 05:22:40.308128 0 days 00:00:00.004839  \n",
       "39227 2022-09-14 05:22:40.312967 0 days 00:00:00.006778  \n",
       "39228 2022-09-14 05:22:40.319745 0 days 00:00:00.004495  \n",
       "39229 2022-09-14 05:22:40.324240 0 days 00:00:01.756152  \n",
       "39230 2022-09-14 05:22:42.080392 0 days 00:00:00.030793  \n",
       "39231 2022-09-14 05:22:42.111185 0 days 00:00:00.004932  \n",
       "39232 2022-09-14 05:22:42.116117 0 days 00:00:00.004126  \n",
       "39233 2022-09-14 05:22:42.120243 0 days 00:00:00.005142  \n",
       "39234 2022-09-14 05:22:42.125385 0 days 00:00:00.004524  \n",
       "39235 2022-09-14 05:22:42.129909 0 days 00:00:00.004474  \n",
       "39236 2022-09-14 05:22:42.134383 0 days 00:00:00.006289  \n",
       "39237 2022-09-14 05:22:42.140672 0 days 00:00:00.062732  \n",
       "39238 2022-09-14 05:22:42.203404 0 days 00:00:00.492864  \n",
       "39239 2022-09-14 05:22:42.696268 0 days 00:00:01.925677  \n",
       "39240 2022-09-14 05:22:44.621945 0 days 00:00:00.035543  \n",
       "39241 2022-09-14 05:22:44.657488 0 days 00:00:00.009452  \n",
       "39242 2022-09-14 05:22:44.666940 0 days 00:00:00.007513  \n",
       "39243 2022-09-14 05:22:44.674453 0 days 00:00:00.006705  \n",
       "39244 2022-09-14 05:22:44.681158 0 days 00:00:00.007017  "
      ]
     },
     "execution_count": 37,
     "metadata": {},
     "output_type": "execute_result"
    }
   ],
   "source": [
    "ivents.query('session_id==@session_with_max_duration')"
   ]
  },
  {
   "cell_type": "markdown",
   "id": "7c04d8ac",
   "metadata": {},
   "source": [
    "Выведем название задачи."
   ]
  },
  {
   "cell_type": "code",
   "execution_count": 38,
   "id": "c3558583",
   "metadata": {},
   "outputs": [
    {
     "data": {
      "text/plain": [
       "'weekly_report.care:count_of_jivo_SA'"
      ]
     },
     "execution_count": 38,
     "metadata": {},
     "output_type": "execute_result"
    }
   ],
   "source": [
    "ivents.query('session_id==@session_with_max_duration').reset_index()['forecastMarker'][0]"
   ]
  },
  {
   "cell_type": "markdown",
   "id": "1e688232",
   "metadata": {},
   "source": [
    "## Какое количество задач прогнозирования может выполняться одновременно? Указать максимальное число параллельных задач."
   ]
  },
  {
   "cell_type": "markdown",
   "id": "884dd135",
   "metadata": {},
   "source": [
    "При ответе на вопрос будем полагать, что задачи по типу рекурсии являются независимыми в точки зрения учета параллельности выполнения.  \n",
    "Используя датасет с началом и окончанием задач, для каждой из них провеоим число активных задач на начало и конец. Соответствующие данные сохраним в столбцах no_on_str\tи no_on_end."
   ]
  },
  {
   "cell_type": "code",
   "execution_count": 39,
   "id": "c4c4b94e",
   "metadata": {},
   "outputs": [
    {
     "data": {
      "text/html": [
       "<div>\n",
       "<style scoped>\n",
       "    .dataframe tbody tr th:only-of-type {\n",
       "        vertical-align: middle;\n",
       "    }\n",
       "\n",
       "    .dataframe tbody tr th {\n",
       "        vertical-align: top;\n",
       "    }\n",
       "\n",
       "    .dataframe thead th {\n",
       "        text-align: right;\n",
       "    }\n",
       "</style>\n",
       "<table border=\"1\" class=\"dataframe\">\n",
       "  <thead>\n",
       "    <tr style=\"text-align: right;\">\n",
       "      <th></th>\n",
       "      <th>session_id</th>\n",
       "      <th>session_start</th>\n",
       "      <th>session_end</th>\n",
       "      <th>session_duration</th>\n",
       "    </tr>\n",
       "  </thead>\n",
       "  <tbody>\n",
       "    <tr>\n",
       "      <th>0</th>\n",
       "      <td>6f4277f6df57c4f4e90779966522c876</td>\n",
       "      <td>2022-09-12 11:30:11.106628</td>\n",
       "      <td>2022-09-12 11:30:36.249818</td>\n",
       "      <td>0 days 00:00:25.143190</td>\n",
       "    </tr>\n",
       "    <tr>\n",
       "      <th>1</th>\n",
       "      <td>ba9c7ee046c9fbdc0c8713c86409bdc3</td>\n",
       "      <td>2022-09-12 11:30:18.666983</td>\n",
       "      <td>2022-09-12 11:30:29.936695</td>\n",
       "      <td>0 days 00:00:11.269712</td>\n",
       "    </tr>\n",
       "  </tbody>\n",
       "</table>\n",
       "</div>"
      ],
      "text/plain": [
       "                         session_id              session_start  \\\n",
       "0  6f4277f6df57c4f4e90779966522c876 2022-09-12 11:30:11.106628   \n",
       "1  ba9c7ee046c9fbdc0c8713c86409bdc3 2022-09-12 11:30:18.666983   \n",
       "\n",
       "                 session_end       session_duration  \n",
       "0 2022-09-12 11:30:36.249818 0 days 00:00:25.143190  \n",
       "1 2022-09-12 11:30:29.936695 0 days 00:00:11.269712  "
      ]
     },
     "execution_count": 39,
     "metadata": {},
     "output_type": "execute_result"
    }
   ],
   "source": [
    "dft33.head(2)"
   ]
  },
  {
   "cell_type": "code",
   "execution_count": 40,
   "id": "b7a0b377",
   "metadata": {
    "scrolled": true
   },
   "outputs": [
    {
     "name": "stderr",
     "output_type": "stream",
     "text": [
      "100%|██████████████████████████████████████| 1599/1599 [00:28<00:00, 56.65it/s]\n"
     ]
    },
    {
     "data": {
      "text/html": [
       "<div>\n",
       "<style scoped>\n",
       "    .dataframe tbody tr th:only-of-type {\n",
       "        vertical-align: middle;\n",
       "    }\n",
       "\n",
       "    .dataframe tbody tr th {\n",
       "        vertical-align: top;\n",
       "    }\n",
       "\n",
       "    .dataframe thead th {\n",
       "        text-align: right;\n",
       "    }\n",
       "</style>\n",
       "<table border=\"1\" class=\"dataframe\">\n",
       "  <thead>\n",
       "    <tr style=\"text-align: right;\">\n",
       "      <th></th>\n",
       "      <th>session_id</th>\n",
       "      <th>session_start</th>\n",
       "      <th>session_end</th>\n",
       "      <th>session_duration</th>\n",
       "      <th>no_on_str</th>\n",
       "      <th>no_on_end</th>\n",
       "    </tr>\n",
       "  </thead>\n",
       "  <tbody>\n",
       "    <tr>\n",
       "      <th>0</th>\n",
       "      <td>6f4277f6df57c4f4e90779966522c876</td>\n",
       "      <td>2022-09-12 11:30:11.106628</td>\n",
       "      <td>2022-09-12 11:30:36.249818</td>\n",
       "      <td>0 days 00:00:25.143190</td>\n",
       "      <td>1.0</td>\n",
       "      <td>1.0</td>\n",
       "    </tr>\n",
       "    <tr>\n",
       "      <th>1</th>\n",
       "      <td>ba9c7ee046c9fbdc0c8713c86409bdc3</td>\n",
       "      <td>2022-09-12 11:30:18.666983</td>\n",
       "      <td>2022-09-12 11:30:29.936695</td>\n",
       "      <td>0 days 00:00:11.269712</td>\n",
       "      <td>2.0</td>\n",
       "      <td>2.0</td>\n",
       "    </tr>\n",
       "    <tr>\n",
       "      <th>2</th>\n",
       "      <td>f425376c334840a59b585165f9ca87dc</td>\n",
       "      <td>2022-09-12 12:13:46.808490</td>\n",
       "      <td>2022-09-12 12:13:57.512095</td>\n",
       "      <td>0 days 00:00:10.703605</td>\n",
       "      <td>1.0</td>\n",
       "      <td>1.0</td>\n",
       "    </tr>\n",
       "    <tr>\n",
       "      <th>3</th>\n",
       "      <td>58e407a7bc512bc4b282457c05893ebc</td>\n",
       "      <td>2022-09-12 12:14:04.816840</td>\n",
       "      <td>2022-09-12 12:14:15.082298</td>\n",
       "      <td>0 days 00:00:10.265458</td>\n",
       "      <td>1.0</td>\n",
       "      <td>1.0</td>\n",
       "    </tr>\n",
       "    <tr>\n",
       "      <th>4</th>\n",
       "      <td>7c25b8a1058e6c036c443b8cd6dd8c69</td>\n",
       "      <td>2022-09-12 12:14:19.332540</td>\n",
       "      <td>2022-09-12 12:14:31.408749</td>\n",
       "      <td>0 days 00:00:12.076209</td>\n",
       "      <td>1.0</td>\n",
       "      <td>1.0</td>\n",
       "    </tr>\n",
       "  </tbody>\n",
       "</table>\n",
       "</div>"
      ],
      "text/plain": [
       "                         session_id              session_start  \\\n",
       "0  6f4277f6df57c4f4e90779966522c876 2022-09-12 11:30:11.106628   \n",
       "1  ba9c7ee046c9fbdc0c8713c86409bdc3 2022-09-12 11:30:18.666983   \n",
       "2  f425376c334840a59b585165f9ca87dc 2022-09-12 12:13:46.808490   \n",
       "3  58e407a7bc512bc4b282457c05893ebc 2022-09-12 12:14:04.816840   \n",
       "4  7c25b8a1058e6c036c443b8cd6dd8c69 2022-09-12 12:14:19.332540   \n",
       "\n",
       "                 session_end       session_duration  no_on_str  no_on_end  \n",
       "0 2022-09-12 11:30:36.249818 0 days 00:00:25.143190  1.0        1.0        \n",
       "1 2022-09-12 11:30:29.936695 0 days 00:00:11.269712  2.0        2.0        \n",
       "2 2022-09-12 12:13:57.512095 0 days 00:00:10.703605  1.0        1.0        \n",
       "3 2022-09-12 12:14:15.082298 0 days 00:00:10.265458  1.0        1.0        \n",
       "4 2022-09-12 12:14:31.408749 0 days 00:00:12.076209  1.0        1.0        "
      ]
     },
     "execution_count": 40,
     "metadata": {},
     "output_type": "execute_result"
    }
   ],
   "source": [
    "for i in tqdm(range(dft33.shape[0])):\n",
    "    st = dft33.loc[i, 'session_start']\n",
    "    en = dft33.loc[i, 'session_end']\n",
    "    dft33.loc[i, 'no_on_str'] = dft33.query('session_start <= @st & session_end >= @st').shape[0]\n",
    "    dft33.loc[i, 'no_on_end'] = dft33.query('session_start <= @en & session_end >= @en').shape[0]\n",
    "dft33.head()"
   ]
  },
  {
   "cell_type": "code",
   "execution_count": 41,
   "id": "18556bdf",
   "metadata": {},
   "outputs": [
    {
     "name": "stdout",
     "output_type": "stream",
     "text": [
      "Максимальное число одновременно выполняемых задач: 6\n"
     ]
    }
   ],
   "source": [
    "print(\"Максимальное число одновременно выполняемых задач: \", end=\"\")\n",
    "print(int(max(dft33['no_on_str'].max(), dft33['no_on_end'].max())))"
   ]
  },
  {
   "cell_type": "markdown",
   "id": "5793b254",
   "metadata": {},
   "source": [
    "## Перечислить forecastMarker которые не завершились успешно."
   ]
  },
  {
   "cell_type": "markdown",
   "id": "62159d3c",
   "metadata": {},
   "source": [
    "Согласно ТЗ, задача прогнозирования считается завершенной успешно, если наступило событие с идентификатором 31. `session_id` таких задач согхранены в списке `no_end_sessions`."
   ]
  },
  {
   "cell_type": "code",
   "execution_count": 42,
   "id": "01bfcd26",
   "metadata": {},
   "outputs": [
    {
     "data": {
      "text/html": [
       "<div>\n",
       "<style scoped>\n",
       "    .dataframe tbody tr th:only-of-type {\n",
       "        vertical-align: middle;\n",
       "    }\n",
       "\n",
       "    .dataframe tbody tr th {\n",
       "        vertical-align: top;\n",
       "    }\n",
       "\n",
       "    .dataframe thead th {\n",
       "        text-align: right;\n",
       "    }\n",
       "</style>\n",
       "<table border=\"1\" class=\"dataframe\">\n",
       "  <thead>\n",
       "    <tr style=\"text-align: right;\">\n",
       "      <th></th>\n",
       "      <th>forecastMarker</th>\n",
       "      <th>session_id</th>\n",
       "      <th>request_time</th>\n",
       "      <th>sender</th>\n",
       "    </tr>\n",
       "  </thead>\n",
       "  <tbody>\n",
       "    <tr>\n",
       "      <th>12160</th>\n",
       "      <td>None</td>\n",
       "      <td>56af71228bfbb91afd00a04652646069</td>\n",
       "      <td>2022-09-13 04:50:56.348717</td>\n",
       "      <td>forecast_for_PHR.load_prophet_forecast_data_io.all_dmt</td>\n",
       "    </tr>\n",
       "    <tr>\n",
       "      <th>12307</th>\n",
       "      <td>weekly_report.SAAS:new_visitors</td>\n",
       "      <td>ef2ce869aedbddee01530295d44a5993</td>\n",
       "      <td>2022-09-13 04:51:33.346488</td>\n",
       "      <td>weekly_report.saas</td>\n",
       "    </tr>\n",
       "    <tr>\n",
       "      <th>12310</th>\n",
       "      <td>SaaS/RUS/turnover/targetMailRu</td>\n",
       "      <td>05fde45de80ea82b620d924acf35410c</td>\n",
       "      <td>2022-09-13 04:51:34.149253</td>\n",
       "      <td>DAG : bq_analytics_tables_refresh</td>\n",
       "    </tr>\n",
       "    <tr>\n",
       "      <th>24419</th>\n",
       "      <td>weekly_report.SAAS:turnover</td>\n",
       "      <td>9dd140e965fe9c98656a0d0e405aa1e8</td>\n",
       "      <td>2022-09-13 08:01:28.708107</td>\n",
       "      <td>weekly_report.saas</td>\n",
       "    </tr>\n",
       "    <tr>\n",
       "      <th>33805</th>\n",
       "      <td>weekly_report.SAAS:new_visitors:utm_medium:organic</td>\n",
       "      <td>56e957cb0972c856c211dfed092dc8c2</td>\n",
       "      <td>2022-09-14 04:47:58.224577</td>\n",
       "      <td>weekly_report.saas_monthly</td>\n",
       "    </tr>\n",
       "  </tbody>\n",
       "</table>\n",
       "</div>"
      ],
      "text/plain": [
       "                                           forecastMarker  \\\n",
       "12160  None                                                 \n",
       "12307  weekly_report.SAAS:new_visitors                      \n",
       "12310  SaaS/RUS/turnover/targetMailRu                       \n",
       "24419  weekly_report.SAAS:turnover                          \n",
       "33805  weekly_report.SAAS:new_visitors:utm_medium:organic   \n",
       "\n",
       "                             session_id               request_time  \\\n",
       "12160  56af71228bfbb91afd00a04652646069 2022-09-13 04:50:56.348717   \n",
       "12307  ef2ce869aedbddee01530295d44a5993 2022-09-13 04:51:33.346488   \n",
       "12310  05fde45de80ea82b620d924acf35410c 2022-09-13 04:51:34.149253   \n",
       "24419  9dd140e965fe9c98656a0d0e405aa1e8 2022-09-13 08:01:28.708107   \n",
       "33805  56e957cb0972c856c211dfed092dc8c2 2022-09-14 04:47:58.224577   \n",
       "\n",
       "                                                       sender  \n",
       "12160  forecast_for_PHR.load_prophet_forecast_data_io.all_dmt  \n",
       "12307  weekly_report.saas                                      \n",
       "12310  DAG : bq_analytics_tables_refresh                       \n",
       "24419  weekly_report.saas                                      \n",
       "33805  weekly_report.saas_monthly                              "
      ]
     },
     "execution_count": 42,
     "metadata": {},
     "output_type": "execute_result"
    }
   ],
   "source": [
    "ivents.query('session_id in @no_end_sessions & event_id == 1')[['forecastMarker', 'session_id', 'request_time', 'sender']]"
   ]
  },
  {
   "cell_type": "markdown",
   "id": "e5a3cff0",
   "metadata": {},
   "source": [
    "Список forecastMarker которые не завершились успешно."
   ]
  },
  {
   "cell_type": "code",
   "execution_count": 43,
   "id": "8607ce01",
   "metadata": {},
   "outputs": [
    {
     "data": {
      "text/plain": [
       "['None',\n",
       " 'weekly_report.SAAS:new_visitors',\n",
       " 'SaaS/RUS/turnover/targetMailRu',\n",
       " 'weekly_report.SAAS:turnover',\n",
       " 'weekly_report.SAAS:new_visitors:utm_medium:organic']"
      ]
     },
     "execution_count": 43,
     "metadata": {},
     "output_type": "execute_result"
    }
   ],
   "source": [
    "ivents.query('session_id in @no_end_sessions & event_id == 1')['forecastMarker'].tolist()"
   ]
  },
  {
   "cell_type": "markdown",
   "id": "30d93f68",
   "metadata": {},
   "source": [
    "# Выводы"
   ]
  },
  {
   "attachments": {
    "image-2.png": {
     "image/png": "[encoded data removed]"
    },
    "image-3.png": {
     "image/png": "[encoded data removed]"
    },
    "image-4.png": {
     "image/png": "[encoded data removed]"
    },
    "image-9.png": {
     "image/png": "[encoded data removed]"
    },
    "image.png": {
     "image/png": "[encoded data removed]"
    }
   },
   "cell_type": "markdown",
   "id": "c1659bc7",
   "metadata": {},
   "source": [
    "<font size = 4> <b/> Описание.</font>\n",
    "\n",
    "- Для анализа представлены примеры лог.файлов (3 шт.) от внутреннего сервиса прогнозирующего временные ряды. 1 день, 1 файл. Сервис используется в eLama ежедневно, обеспечивает порядка 700 прогнозов различных метрик в сутки. События записываются в базу по мере того, как они случаются. \n",
    "- Каждый из файлов представляет собой sqlite базу данных.\n",
    "- Первое событие для каждой сессии имеет идентификатор 1. Идентификаторы последующих событий не соответствуют последовательности наступления.\n",
    "- Шаг событий - это интервал времени между событиями наступающими друг за другом.\n",
    "- Задача прогнозирования считается завершенной успешно, если наступило событие с идентификатором 31.\n",
    "- Некоторые задачи прогнозирования могут использовать прогнозы по типу рекурсии. Т.е. при построении прогноза запрашивать прогноз другого параметра, как регрессора. Например при построении прогноза активаций пользователей запрашивается подпрогноз с количеством регистраций. Т.к. регистрации напрямую влияют на количество активаций.\n",
    "\n",
    "---\n",
    "---\n",
    "\n",
    "<font size = 4> <b/> Анализ данных.</font>  \n",
    "\n",
    "Предварительно, предоставленные файлы бд sqlite были конвертированы в файлы CSV. Для конвертации использовалось ПО: DB Browser for SQLite Version 3.12.2  \n",
    "Для обеспечения работы настоящей тетради на ПК без локальных копий файлов, данные были выгружены на Google Disk с общим доступом.  \n",
    "Представленные датасеты не имеют пропусков и дубликатов.  \n",
    "Таблицы с именами событий идентичны.\n",
    "\n",
    "Число задач и событий по дням:  \n",
    "\n",
    "День | Число событий | Число задач\n",
    "--- | --- | ---\n",
    "12-09-2022 | 11207 | 371  \n",
    "12-09-2022 | 22275 | 789  \n",
    "12-09-2022 | 11249 | 439\n",
    "\n",
    "Активность по дням и времени суток:\n",
    "![image.png](attachment:image.png)\n",
    "\n",
    "Гистограммы, построены на одинаковых осях времени (0:00:00 текущего дня до 0:00:00 следующего дня). Для 13-го и 14-го числа первая активность фиксируется в начале суток, тогда как 12-го числа только ближе в полудню. Возможно, это связано с тем, что 12-09-2022 это был понедельник, а для первого рабочего дня характерна низкая активность в первой половине. Тем не менее, для всех трёх дней характерна непостоянная загруженность в течении дня с пиком в первой половине по времени системы.\n",
    "\n",
    "Дата | 12-09-2022   \n",
    "--- | ---   \n",
    "Первая активность | 2022-09-12 11:30:11.106628  \n",
    "Последняя активность | 2022-09-12 18:24:18.389464  \n",
    "Интервал | 0 days 06:54:07.282836  \n",
    "\n",
    "Дата | 13-09-2022   \n",
    "--- | ---   \n",
    "Первая активность | 2022-09-13 00:10:27.967745  \n",
    "Последняя активность | 2022-09-13 09:41:15.078643 \n",
    "Интервал | 0 days 09:30:47.110898  \n",
    "\n",
    "Дата | 14-09-2022   \n",
    "--- | ---   \n",
    "Первая активность | 2022-09-14 00:09:39.234361  \n",
    "Последняя активность | 2022-09-14 06:07:47.609898 \n",
    "Интервал | 0 days 05:58:08.375537\n",
    "\n",
    "Интервалы между первой и последней активности от 6 до 9.5 часов. 14-го числа все активности прекращены уже к 6 утра.\n",
    "\n",
    "---\n",
    "---\n",
    "\n",
    "<font size = 4> <b/> Ответы на вопросы.</font>\n",
    "\n",
    "\n",
    "***Вопрос 1. Между какими событиями наибольший шаг? Указать пару идентификаторов событий с наибольшим шагом, относительно всей базы.***\n",
    "\n",
    "В задании нет однозначного указания, должны ли быть эти события внутри одной задачи или нет. Было рассмотрено два варианта:\n",
    "- наибольший шаг между событиями (все события в хронологическом порядке) \n",
    "\n",
    "Наибольший шаг: 14:28:24.155718\n",
    "![image-2.png](attachment:image-2.png)\n",
    "Как и следовало ожидать, исходя из графиков актичвостей представленных выше, наибольший шаг (бездействие системы) между завершением последней задачи 13-го и началом первой задачи 14-го сентября.\n",
    "\n",
    "\n",
    "- наибольший шаг между событиями (события в рамках одной задачи)\n",
    "\n",
    "![image-3.png](attachment:image-3.png)\n",
    "\n",
    "\n",
    "***Вопрос 2. Интервал времени до наступления какого события показывает наибольший разброс? Указать пару идентификатор - sender с наибольшим разбросом.***\n",
    "\n",
    "По условию задачи, разброс - это разность между максимальной и минимальной величинами. Так как требуются указать пару идентификатор - sender, были рассмотрены интервалы по всем возможным парам.  \n",
    "Пара идентификатор - sender с наибольшим разбросом:\n",
    "\n",
    "event_id | sender\n",
    "--- |---\n",
    "7 | weekly_report.care\n",
    "\n",
    "Событие с id 7 - это \"Получили данные из BQ по полученному SQL запросу\".  \n",
    "То есть перед событием id 7 выполняется какой-то SQL запрос. Большой разброс для события , вероятно, связан с объемом данных по запросу.  \n",
    "Анализ показывает, что выявленный случай не является исключением и большие (по сравнению с остальными) интервалы характерны для id 7.\n",
    "\n",
    "Распределение по всем событиям.\n",
    "![image-4.png](attachment:image-4.png)\n",
    "\n",
    "\n",
    "***Вопрос 3. Какая задача прогнозирования выполняется дольше всего (название задачи)?***\n",
    "\n",
    "Для незавершенных задач принимаем за время окончание время последнего зафиксированного события задачи.  \n",
    "\n",
    "Параметр | Значение  \n",
    "--- | ---\n",
    "Продолжительность выполнения, сек.| 112.48   \n",
    "Начало |    2022-09-14 05:20:52.20 \n",
    "Окончание | 2022-09-14 05:22:44.69  \n",
    "Название задачи | weekly_report.care:count_of_jivo_SA \n",
    "\n",
    "\n",
    "***Вопрос 4. Какое количество задач прогнозирования может выполняться одновременно? Указать максимальное число параллельных задач.***\n",
    "\n",
    "Будем полагать, что задачи по типу рекурсии являются независимыми в точки зрения учета параллельности выполнения.\n",
    "\n",
    "Максимальное число одновременно выполняемых задач: 6\n",
    "\n",
    "\n",
    "***Вопрос 5. Перечислить forecastMarker которые не завершились успешно.***\n",
    "\n",
    "Задача прогнозирования считается завершенной успешно, если наступило событие с идентификатором 31. Задачи для которых такое событие не наступило:\n",
    "\n",
    "![image-9.png](attachment:image-9.png)\n",
    "\n",
    "Список forecastMarker таких задач: 'None', 'weekly_report.SAAS:new_visitors', 'SaaS/RUS/turnover/targetMailRu', 'weekly_report.SAAS:turnover',  'weekly_report.SAAS:new_visitors:utm_medium:organic'"
   ]
  },
  {
   "cell_type": "code",
   "execution_count": null,
   "id": "d29e7a1d",
   "metadata": {},
   "outputs": [],
   "source": []
  }
 ],
 "metadata": {
  "kernelspec": {
   "display_name": "Python 3",
   "language": "python",
   "name": "python3"
  },
  "language_info": {
   "codemirror_mode": {
    "name": "ipython",
    "version": 3
   },
   "file_extension": ".py",
   "mimetype": "text/x-python",
   "name": "python",
   "nbconvert_exporter": "python",
   "pygments_lexer": "ipython3",
   "version": "3.8.8"
  },
  "toc": {
   "base_numbering": 1,
   "nav_menu": {},
   "number_sections": true,
   "sideBar": true,
   "skip_h1_title": false,
   "title_cell": "Table of Contents",
   "title_sidebar": "Contents",
   "toc_cell": false,
   "toc_position": {
    "height": "calc(100% - 180px)",
    "left": "10px",
    "top": "150px",
    "width": "384px"
   },
   "toc_section_display": true,
   "toc_window_display": true
  }
 },
 "nbformat": 4,
 "nbformat_minor": 5
}
