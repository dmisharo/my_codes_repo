{
 "cells": [
  {
   "cell_type": "code",
   "execution_count": 1,
   "id": "d1e1c4d3",
   "metadata": {
    "tags": [
     "aa81075c-062f-4de0-b5fe-14c73dc7468e"
    ]
   },
   "outputs": [],
   "source": [
    "import pandas as pd\n",
    "import numpy as np\n",
    "\n",
    "from sqlalchemy import create_engine"
   ]
  },
  {
   "cell_type": "code",
   "execution_count": 3,
   "id": "28078823",
   "metadata": {},
   "outputs": [],
   "source": [
    "path_to_db = 'telecomm_csi.db'\n",
    "engine = create_engine(f'sqlite:///{path_to_db}', echo = False)"
   ]
  },
  {
   "cell_type": "code",
   "execution_count": 3,
   "id": "0a714e51",
   "metadata": {},
   "outputs": [],
   "source": [
    "query = \"\"\"\n",
    "        SELECT u.user_id,\n",
    "               u.lt_day,\n",
    "               CASE\n",
    "                   WHEN u.lt_day <= 365 THEN 'Да'\n",
    "                   WHEN u.lt_day > 365 THEN 'Нет'\n",
    "               END AS is_new,               \n",
    "               u.age,\n",
    "               CASE\n",
    "                   WHEN u.gender_segment = '1' THEN 'женский'\n",
    "                   WHEN u.gender_segment = '0' THEN 'мужской'\n",
    "                   ELSE 'не указан'\n",
    "               END AS gender_segment,\n",
    "               u.os_name,\n",
    "               u.cpe_type_name,\n",
    "               l.country,\n",
    "               l.city,\n",
    "               aseg.title AS age_segment,\n",
    "               tseg.title AS traffic_segment,\n",
    "               lseg.title AS lifetime_segment,\n",
    "               u.nps_score,\n",
    "               CASE\n",
    "                   WHEN u.nps_score <= 6 THEN 'критики'\n",
    "                   WHEN u.nps_score > 6 AND u.nps_score < 9 THEN 'нейтралы'\n",
    "                   WHEN u.nps_score >= 9 THEN 'сторонники'\n",
    "               END AS nps_group\n",
    "\n",
    "        FROM user AS u\n",
    "             LEFT JOIN location AS l ON u.location_id = l.location_id \n",
    "             LEFT JOIN age_segment AS aseg ON u.age_gr_id = aseg.age_gr_id\n",
    "             LEFT JOIN traffic_segment AS tseg ON u.tr_gr_id = tseg.tr_gr_id\n",
    "             LEFT JOIN lifetime_segment AS lseg ON u.lt_gr_id = lseg.lt_gr_id\n",
    "        \"\"\""
   ]
  },
  {
   "cell_type": "code",
   "execution_count": 4,
   "id": "8fa6748e",
   "metadata": {},
   "outputs": [
    {
     "data": {
      "text/html": [
       "<div>\n",
       "<style scoped>\n",
       "    .dataframe tbody tr th:only-of-type {\n",
       "        vertical-align: middle;\n",
       "    }\n",
       "\n",
       "    .dataframe tbody tr th {\n",
       "        vertical-align: top;\n",
       "    }\n",
       "\n",
       "    .dataframe thead th {\n",
       "        text-align: right;\n",
       "    }\n",
       "</style>\n",
       "<table border=\"1\" class=\"dataframe\">\n",
       "  <thead>\n",
       "    <tr style=\"text-align: right;\">\n",
       "      <th></th>\n",
       "      <th>user_id</th>\n",
       "      <th>lt_day</th>\n",
       "      <th>is_new</th>\n",
       "      <th>age</th>\n",
       "      <th>gender_segment</th>\n",
       "      <th>os_name</th>\n",
       "      <th>cpe_type_name</th>\n",
       "      <th>country</th>\n",
       "      <th>city</th>\n",
       "      <th>age_segment</th>\n",
       "      <th>traffic_segment</th>\n",
       "      <th>lifetime_segment</th>\n",
       "      <th>nps_score</th>\n",
       "      <th>nps_group</th>\n",
       "    </tr>\n",
       "  </thead>\n",
       "  <tbody>\n",
       "    <tr>\n",
       "      <th>0</th>\n",
       "      <td>A001A2</td>\n",
       "      <td>2320</td>\n",
       "      <td>Нет</td>\n",
       "      <td>45.0</td>\n",
       "      <td>женский</td>\n",
       "      <td>ANDROID</td>\n",
       "      <td>SMARTPHONE</td>\n",
       "      <td>Россия</td>\n",
       "      <td>Уфа</td>\n",
       "      <td>05 45-54</td>\n",
       "      <td>04 1-5</td>\n",
       "      <td>08 36+</td>\n",
       "      <td>10</td>\n",
       "      <td>сторонники</td>\n",
       "    </tr>\n",
       "    <tr>\n",
       "      <th>1</th>\n",
       "      <td>A001WF</td>\n",
       "      <td>2344</td>\n",
       "      <td>Нет</td>\n",
       "      <td>53.0</td>\n",
       "      <td>мужской</td>\n",
       "      <td>ANDROID</td>\n",
       "      <td>SMARTPHONE</td>\n",
       "      <td>Россия</td>\n",
       "      <td>Киров</td>\n",
       "      <td>05 45-54</td>\n",
       "      <td>04 1-5</td>\n",
       "      <td>08 36+</td>\n",
       "      <td>10</td>\n",
       "      <td>сторонники</td>\n",
       "    </tr>\n",
       "    <tr>\n",
       "      <th>2</th>\n",
       "      <td>A003Q7</td>\n",
       "      <td>467</td>\n",
       "      <td>Нет</td>\n",
       "      <td>57.0</td>\n",
       "      <td>мужской</td>\n",
       "      <td>ANDROID</td>\n",
       "      <td>SMARTPHONE</td>\n",
       "      <td>Россия</td>\n",
       "      <td>Москва</td>\n",
       "      <td>06 55-64</td>\n",
       "      <td>08 20-25</td>\n",
       "      <td>06 13-24</td>\n",
       "      <td>10</td>\n",
       "      <td>сторонники</td>\n",
       "    </tr>\n",
       "  </tbody>\n",
       "</table>\n",
       "</div>"
      ],
      "text/plain": [
       "  user_id  lt_day is_new   age gender_segment  os_name cpe_type_name country  \\\n",
       "0  A001A2    2320    Нет  45.0        женский  ANDROID    SMARTPHONE  Россия   \n",
       "1  A001WF    2344    Нет  53.0        мужской  ANDROID    SMARTPHONE  Россия   \n",
       "2  A003Q7     467    Нет  57.0        мужской  ANDROID    SMARTPHONE  Россия   \n",
       "\n",
       "     city age_segment traffic_segment lifetime_segment  nps_score   nps_group  \n",
       "0     Уфа    05 45-54          04 1-5           08 36+         10  сторонники  \n",
       "1   Киров    05 45-54          04 1-5           08 36+         10  сторонники  \n",
       "2  Москва    06 55-64        08 20-25         06 13-24         10  сторонники  "
      ]
     },
     "execution_count": 4,
     "metadata": {},
     "output_type": "execute_result"
    }
   ],
   "source": [
    "df = pd.read_sql(query, engine)\n",
    "df.head(3)"
   ]
  },
  {
   "cell_type": "code",
   "execution_count": 5,
   "id": "56c15721",
   "metadata": {},
   "outputs": [],
   "source": [
    "df.to_csv('data_for_tableau.csv', index=False)"
   ]
  },
  {
   "cell_type": "markdown",
   "id": "978f6f5d",
   "metadata": {},
   "source": [
    "[Ссылка на дашборд (три на разных листах) на сайте Tableau Public](https://public.tableau.com/app/profile/dm4006/viz/Project2_16472483024480/Dashboard1?publish=yes)"
   ]
  },
  {
   "cell_type": "markdown",
   "id": "66b9fd9c",
   "metadata": {},
   "source": [
    "[Ссылка на pdf-файл с презентацией](https://disk.yandex.ru/i/guYlxhrp0zJpAQ)"
   ]
  },
  {
   "cell_type": "code",
   "execution_count": null,
   "id": "e0b5e278",
   "metadata": {},
   "outputs": [],
   "source": []
  }
 ],
 "metadata": {
  "ExecuteTimeLog": [
   {
    "duration": 752,
    "start_time": "2021-10-03T17:40:52.731Z"
   },
   {
    "duration": 20,
    "start_time": "2021-10-03T17:40:53.486Z"
   },
   {
    "duration": 4,
    "start_time": "2021-10-03T17:41:04.638Z"
   },
   {
    "duration": 461,
    "start_time": "2021-10-03T17:41:04.912Z"
   },
   {
    "duration": 284,
    "start_time": "2021-10-03T17:41:05.376Z"
   },
   {
    "duration": 574,
    "start_time": "2021-10-06T07:55:05.029Z"
   },
   {
    "duration": 6,
    "start_time": "2021-10-06T07:55:05.605Z"
   },
   {
    "duration": 3,
    "start_time": "2021-10-06T07:55:14.685Z"
   },
   {
    "duration": 406,
    "start_time": "2021-10-06T07:55:15.522Z"
   },
   {
    "duration": 67,
    "start_time": "2021-10-06T07:55:15.929Z"
   },
   {
    "duration": 840,
    "start_time": "2021-10-07T07:54:04.647Z"
   },
   {
    "duration": 10,
    "start_time": "2021-10-07T07:54:05.490Z"
   },
   {
    "duration": 4,
    "start_time": "2021-10-07T07:54:05.544Z"
   },
   {
    "duration": 391,
    "start_time": "2021-10-07T07:54:06.237Z"
   },
   {
    "duration": 293,
    "start_time": "2021-10-07T07:54:06.654Z"
   },
   {
    "duration": 643,
    "start_time": "2022-03-21T17:12:01.606Z"
   },
   {
    "duration": 29,
    "start_time": "2022-03-21T17:12:03.147Z"
   },
   {
    "duration": 5,
    "start_time": "2022-03-21T17:12:04.050Z"
   },
   {
    "duration": 8372,
    "start_time": "2022-03-21T17:12:08.247Z"
   },
   {
    "duration": 6470,
    "start_time": "2022-03-21T17:12:43.530Z"
   },
   {
    "duration": 675,
    "start_time": "2022-03-22T05:09:53.544Z"
   },
   {
    "duration": 27,
    "start_time": "2022-03-22T05:09:54.221Z"
   },
   {
    "duration": 5,
    "start_time": "2022-03-22T05:09:54.250Z"
   },
   {
    "duration": 7964,
    "start_time": "2022-03-22T05:09:54.258Z"
   },
   {
    "duration": 6136,
    "start_time": "2022-03-22T05:10:02.224Z"
   },
   {
    "duration": 560,
    "start_time": "2022-03-23T03:37:28.836Z"
   },
   {
    "duration": 24,
    "start_time": "2022-03-23T03:37:29.398Z"
   },
   {
    "duration": 3,
    "start_time": "2022-03-23T03:37:29.424Z"
   },
   {
    "duration": 5568,
    "start_time": "2022-03-23T03:37:29.429Z"
   },
   {
    "duration": 4202,
    "start_time": "2022-03-23T03:37:34.999Z"
   }
  ],
  "kernelspec": {
   "display_name": "Python 3",
   "language": "python",
   "name": "python3"
  },
  "language_info": {
   "codemirror_mode": {
    "name": "ipython",
    "version": 3
   },
   "file_extension": ".py",
   "mimetype": "text/x-python",
   "name": "python",
   "nbconvert_exporter": "python",
   "pygments_lexer": "ipython3",
   "version": "3.8.8"
  },
  "toc": {
   "base_numbering": 1,
   "nav_menu": {},
   "number_sections": false,
   "sideBar": true,
   "skip_h1_title": false,
   "title_cell": "Table of Contents",
   "title_sidebar": "Contents",
   "toc_cell": false,
   "toc_position": {
    "height": "calc(100% - 180px)",
    "left": "10px",
    "top": "150px",
    "width": "384px"
   },
   "toc_section_display": true,
   "toc_window_display": false
  }
 },
 "nbformat": 4,
 "nbformat_minor": 5
}
